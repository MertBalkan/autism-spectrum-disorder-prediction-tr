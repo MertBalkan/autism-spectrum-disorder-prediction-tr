{
 "cells": [
  {
   "metadata": {},
   "cell_type": "markdown",
   "source": [
    "# Otizm Spektrum Bozukluğu (OSB) Tahmini\n",
    "\n",
    "CDC'ye ([Hastalık Kontrol ve Önleme Merkezi](https://www.cdc.gov/ncbddd/autism/facts.html)) göre, Otizm spektrum bozukluğu (OSB) şöyle tanımlanır:\n",
    "\n",
    "Otizm spektrum bozukluğu (OSB), önemli sosyal, iletişimsel ve davranışsal zorluklara neden olabilen bir gelişimsel bozukluktur. OSB olan kişilerin görünüşlerinde genellikle diğer insanlardan ayırt edici bir şey yoktur, ancak OSB olan kişiler iletişim kurabilir, etkileşimde bulunabilir, davranabilir ve öğrenebilirler ki bu, çoğu diğer insanlardan farklı olabilir. OSB'li kişilerin öğrenme, düşünme ve problem çözme yetenekleri, yetenekli olanlardan çok zorluk çekenlere kadar değişebilir. OSB'li bazı insanlar günlük yaşamlarında çok fazla yardıma ihtiyaç duyarlar; diğerleri daha az yardıma ihtiyaç duyarlar.\n",
    "\n",
    "OSB teşhisi artık eskiden ayrı ayrı teşhis edilen birkaç durumu içerir: otistik bozukluk, başka türlü belirtilmemiş yaygın gelişimsel bozukluk (PDD-NOS) ve Asperger sendromu. Bu durumlar artık tümü otizm spektrum bozukluğu olarak adlandırılır.\"\n",
    "\n",
    "**Veri kümesi**: Veri kümesi, bir uygulama formu dolduran kişilerin anket sonuçlarından oluşmaktadır. Kişinin otizm teşhisi alıp almadığını gösteren etiketler bulunmaktadır.\n",
    "\n",
    "#### Amaç: Verilen özelliklere dayanarak otizm olasılığını tahmin etmek için makine öğrenimi modelleri oluşturmak"
   ],
   "id": "7506cc6c2cc3cea8"
  },
  {
   "cell_type": "code",
   "id": "initial_id",
   "metadata": {
    "collapsed": true,
    "ExecuteTime": {
     "end_time": "2024-05-30T18:51:41.148489Z",
     "start_time": "2024-05-30T18:51:41.130886Z"
    }
   },
   "source": [
    "import matplotlib.pyplot as plt\n",
    "import numpy as np\n",
    "import pandas as pd\n",
    "\n",
    "import plotly.io as pio\n",
    "import plotly.express as px\n",
    "import plotly.figure_factory as ff\n",
    "import plotly.graph_objects as go\n",
    "\n",
    "from plotly.subplots import make_subplots\n",
    "from plotly.offline import init_notebook_mode, iplot\n",
    "\n",
    "init_notebook_mode(connected=True)\n",
    "pio.templates.default = \"none\"\n",
    "\n",
    "import warnings\n",
    "warnings.filterwarnings('ignore')\n",
    "\n",
    "\n",
    "PATH = 'C:/Users/mert_/PycharmProjects/autisim_project/models/data'\n",
    "train = pd.read_csv(PATH + \"/train.csv\")\n",
    "test = pd.read_csv(PATH + \"/test.csv\")"
   ],
   "outputs": [
    {
     "data": {
      "text/html": [
       "        <script type=\"text/javascript\">\n",
       "        window.PlotlyConfig = {MathJaxConfig: 'local'};\n",
       "        if (window.MathJax && window.MathJax.Hub && window.MathJax.Hub.Config) {window.MathJax.Hub.Config({SVG: {font: \"STIX-Web\"}});}\n",
       "        if (typeof require !== 'undefined') {\n",
       "        require.undef(\"plotly\");\n",
       "        requirejs.config({\n",
       "            paths: {\n",
       "                'plotly': ['https://cdn.plot.ly/plotly-2.12.1.min']\n",
       "            }\n",
       "        });\n",
       "        require(['plotly'], function(Plotly) {\n",
       "            window._Plotly = Plotly;\n",
       "        });\n",
       "        }\n",
       "        </script>\n",
       "        "
      ]
     },
     "metadata": {},
     "output_type": "display_data"
    }
   ],
   "execution_count": 32
  },
  {
   "metadata": {},
   "cell_type": "markdown",
   "source": [
    "    ### Veri Şekli\n",
    "* Eğitim verisi: 800 satır, 21 sütun\n",
    "* Test verisi: 200 satır, 21 sütun"
   ],
   "id": "78e9868ef75622fd"
  },
  {
   "metadata": {
    "ExecuteTime": {
     "end_time": "2024-05-30T18:51:41.358618Z",
     "start_time": "2024-05-30T18:51:41.346693Z"
    }
   },
   "cell_type": "code",
   "source": [
    "display(train.shape)\n",
    "display(test.shape)"
   ],
   "id": "50edb5e70d92ae31",
   "outputs": [
    {
     "data": {
      "text/plain": [
       "(800, 22)"
      ]
     },
     "metadata": {},
     "output_type": "display_data"
    },
    {
     "data": {
      "text/plain": [
       "(200, 21)"
      ]
     },
     "metadata": {},
     "output_type": "display_data"
    }
   ],
   "execution_count": 33
  },
  {
   "metadata": {},
   "cell_type": "markdown",
   "source": [
    "### Test verisinin ilk satırları\n",
    "\n",
    "Aşağıda veri setlerinin sütun açıklamaları bulunmaktadır:\n",
    "\n",
    "- ID - Hastanın kimlik numarası\n",
    "- A1_Score ile A10_Score - Otizm Spektrum Belirtileri (AQ) 10 madde tarama aracı bazında puan\n",
    "- age - Hastanın yaşı (yıl olarak)\n",
    "- gender - Hastanın cinsiyeti\n",
    "- ethnicity - Hastanın etnik kökeni\n",
    "- jaundice - Doğumda sarılık geçirip geçirmediği\n",
    "- autism - Ailede otizm teşhisi konmuş bir birey olup olmadığı\n",
    "- contry_of_res - Hastanın ikamet ettiği ülke\n",
    "- used_app_before - Hastanın daha önce bir tarama testine girip girmediği\n",
    "- result - AQ1-10 tarama testi puanı\n",
    "- age_desc - Hastanın yaşı\n",
    "- relation - Testi dolduran hastanın yakını\n",
    "- Class/ASD - 0 veya 1 olarak sınıflandırılmış sonuç. Burada 0 \"Hayır\", 1 \"Evet\" anlamına gelir. Bu hedef sütundur ve gönderim sırasında sadece 0 veya 1 olarak değerler gönderilmelidir."
   ],
   "id": "7e89b641b1ba042e"
  },
  {
   "metadata": {
    "ExecuteTime": {
     "end_time": "2024-05-30T18:51:41.420158Z",
     "start_time": "2024-05-30T18:51:41.391728Z"
    }
   },
   "cell_type": "code",
   "source": "train.head() # train datasinin ilk birkac satirini goruyoruz.",
   "id": "c141b2bcb520b206",
   "outputs": [
    {
     "data": {
      "text/plain": [
       "   ID  A1_Score  A2_Score  A3_Score  A4_Score  A5_Score  A6_Score  A7_Score  \\\n",
       "0   1         1         0         1         1         1         1         0   \n",
       "1   2         0         0         0         0         0         0         0   \n",
       "2   3         1         1         1         1         1         1         0   \n",
       "3   4         0         0         0         1         0         0         0   \n",
       "4   5         0         0         0         0         1         0         0   \n",
       "\n",
       "   A8_Score  A9_Score  ...  gender       ethnicity jaundice austim  \\\n",
       "0         1         1  ...       f  White-European       no     no   \n",
       "1         0         0  ...       f     South Asian       no     no   \n",
       "2         0         1  ...       f  White-European       no     no   \n",
       "3         0         0  ...       f     South Asian       no     no   \n",
       "4         0         1  ...       m           Black       no    yes   \n",
       "\n",
       "    contry_of_res used_app_before     result     age_desc  relation Class/ASD  \n",
       "0   United States              no   7.819715  18 and more      Self         0  \n",
       "1       Australia              no  10.544296  18 and more         ?         0  \n",
       "2  United Kingdom              no  13.167506  18 and more      Self         1  \n",
       "3     New Zealand              no   1.530098  18 and more         ?         0  \n",
       "4           Italy              no   7.949723  18 and more      Self         0  \n",
       "\n",
       "[5 rows x 22 columns]"
      ],
      "text/html": [
       "<div>\n",
       "<style scoped>\n",
       "    .dataframe tbody tr th:only-of-type {\n",
       "        vertical-align: middle;\n",
       "    }\n",
       "\n",
       "    .dataframe tbody tr th {\n",
       "        vertical-align: top;\n",
       "    }\n",
       "\n",
       "    .dataframe thead th {\n",
       "        text-align: right;\n",
       "    }\n",
       "</style>\n",
       "<table border=\"1\" class=\"dataframe\">\n",
       "  <thead>\n",
       "    <tr style=\"text-align: right;\">\n",
       "      <th></th>\n",
       "      <th>ID</th>\n",
       "      <th>A1_Score</th>\n",
       "      <th>A2_Score</th>\n",
       "      <th>A3_Score</th>\n",
       "      <th>A4_Score</th>\n",
       "      <th>A5_Score</th>\n",
       "      <th>A6_Score</th>\n",
       "      <th>A7_Score</th>\n",
       "      <th>A8_Score</th>\n",
       "      <th>A9_Score</th>\n",
       "      <th>...</th>\n",
       "      <th>gender</th>\n",
       "      <th>ethnicity</th>\n",
       "      <th>jaundice</th>\n",
       "      <th>austim</th>\n",
       "      <th>contry_of_res</th>\n",
       "      <th>used_app_before</th>\n",
       "      <th>result</th>\n",
       "      <th>age_desc</th>\n",
       "      <th>relation</th>\n",
       "      <th>Class/ASD</th>\n",
       "    </tr>\n",
       "  </thead>\n",
       "  <tbody>\n",
       "    <tr>\n",
       "      <th>0</th>\n",
       "      <td>1</td>\n",
       "      <td>1</td>\n",
       "      <td>0</td>\n",
       "      <td>1</td>\n",
       "      <td>1</td>\n",
       "      <td>1</td>\n",
       "      <td>1</td>\n",
       "      <td>0</td>\n",
       "      <td>1</td>\n",
       "      <td>1</td>\n",
       "      <td>...</td>\n",
       "      <td>f</td>\n",
       "      <td>White-European</td>\n",
       "      <td>no</td>\n",
       "      <td>no</td>\n",
       "      <td>United States</td>\n",
       "      <td>no</td>\n",
       "      <td>7.819715</td>\n",
       "      <td>18 and more</td>\n",
       "      <td>Self</td>\n",
       "      <td>0</td>\n",
       "    </tr>\n",
       "    <tr>\n",
       "      <th>1</th>\n",
       "      <td>2</td>\n",
       "      <td>0</td>\n",
       "      <td>0</td>\n",
       "      <td>0</td>\n",
       "      <td>0</td>\n",
       "      <td>0</td>\n",
       "      <td>0</td>\n",
       "      <td>0</td>\n",
       "      <td>0</td>\n",
       "      <td>0</td>\n",
       "      <td>...</td>\n",
       "      <td>f</td>\n",
       "      <td>South Asian</td>\n",
       "      <td>no</td>\n",
       "      <td>no</td>\n",
       "      <td>Australia</td>\n",
       "      <td>no</td>\n",
       "      <td>10.544296</td>\n",
       "      <td>18 and more</td>\n",
       "      <td>?</td>\n",
       "      <td>0</td>\n",
       "    </tr>\n",
       "    <tr>\n",
       "      <th>2</th>\n",
       "      <td>3</td>\n",
       "      <td>1</td>\n",
       "      <td>1</td>\n",
       "      <td>1</td>\n",
       "      <td>1</td>\n",
       "      <td>1</td>\n",
       "      <td>1</td>\n",
       "      <td>0</td>\n",
       "      <td>0</td>\n",
       "      <td>1</td>\n",
       "      <td>...</td>\n",
       "      <td>f</td>\n",
       "      <td>White-European</td>\n",
       "      <td>no</td>\n",
       "      <td>no</td>\n",
       "      <td>United Kingdom</td>\n",
       "      <td>no</td>\n",
       "      <td>13.167506</td>\n",
       "      <td>18 and more</td>\n",
       "      <td>Self</td>\n",
       "      <td>1</td>\n",
       "    </tr>\n",
       "    <tr>\n",
       "      <th>3</th>\n",
       "      <td>4</td>\n",
       "      <td>0</td>\n",
       "      <td>0</td>\n",
       "      <td>0</td>\n",
       "      <td>1</td>\n",
       "      <td>0</td>\n",
       "      <td>0</td>\n",
       "      <td>0</td>\n",
       "      <td>0</td>\n",
       "      <td>0</td>\n",
       "      <td>...</td>\n",
       "      <td>f</td>\n",
       "      <td>South Asian</td>\n",
       "      <td>no</td>\n",
       "      <td>no</td>\n",
       "      <td>New Zealand</td>\n",
       "      <td>no</td>\n",
       "      <td>1.530098</td>\n",
       "      <td>18 and more</td>\n",
       "      <td>?</td>\n",
       "      <td>0</td>\n",
       "    </tr>\n",
       "    <tr>\n",
       "      <th>4</th>\n",
       "      <td>5</td>\n",
       "      <td>0</td>\n",
       "      <td>0</td>\n",
       "      <td>0</td>\n",
       "      <td>0</td>\n",
       "      <td>1</td>\n",
       "      <td>0</td>\n",
       "      <td>0</td>\n",
       "      <td>0</td>\n",
       "      <td>1</td>\n",
       "      <td>...</td>\n",
       "      <td>m</td>\n",
       "      <td>Black</td>\n",
       "      <td>no</td>\n",
       "      <td>yes</td>\n",
       "      <td>Italy</td>\n",
       "      <td>no</td>\n",
       "      <td>7.949723</td>\n",
       "      <td>18 and more</td>\n",
       "      <td>Self</td>\n",
       "      <td>0</td>\n",
       "    </tr>\n",
       "  </tbody>\n",
       "</table>\n",
       "<p>5 rows × 22 columns</p>\n",
       "</div>"
      ]
     },
     "execution_count": 34,
     "metadata": {},
     "output_type": "execute_result"
    }
   ],
   "execution_count": 34
  },
  {
   "metadata": {},
   "cell_type": "markdown",
   "source": "### Veri temizleme",
   "id": "861558ca9860592e"
  },
  {
   "metadata": {
    "ExecuteTime": {
     "end_time": "2024-05-30T18:51:41.503091Z",
     "start_time": "2024-05-30T18:51:41.486437Z"
    }
   },
   "cell_type": "code",
   "source": [
    "# yanlis yazilma hatalari duzeltildi\n",
    "train = train.rename(columns = {'austim': 'autism', 'contry_of_res':'country_of_res'}, errors=\"raise\")\n",
    "test = test.rename(columns = {'austim': 'autism', 'contry_of_res':'country_of_res'}, errors=\"raise\")\n",
    "\n",
    "# buyuk/kucuk harf hatalari duzeltildi \n",
    "train['country_of_res'][train['country_of_res'] == 'others'] = 'Others'\n",
    "test['country_of_res'][test['country_of_res'] == 'others'] = 'Others'\n",
    "\n",
    "train['ethnicity'][train['ethnicity'] == 'others'] = 'Others'\n",
    "test['ethnicity'][test['ethnicity'] == 'others'] = 'Others'"
   ],
   "id": "ae470ea2eae27572",
   "outputs": [],
   "execution_count": 35
  },
  {
   "metadata": {
    "ExecuteTime": {
     "end_time": "2024-05-30T18:51:41.535338Z",
     "start_time": "2024-05-30T18:51:41.521850Z"
    }
   },
   "cell_type": "code",
   "source": [
    "# onemsiz sutunlar veriden kaldirildi\n",
    "train.drop(['ID', 'age_desc'], axis=1, inplace=True)\n",
    "test.drop(['ID', 'age_desc'], axis=1, inplace=True)\n",
    "\n",
    "cat_cols = [col for col in train.columns if train[col].dtype == 'object']\n",
    "num_cols = [col for col in train.columns if train[col].dtype == 'int'][0:-1]\n",
    "\n",
    "ASD_pos = train[train['Class/ASD']==1]\n",
    "ASD_neg = train[train['Class/ASD']==0]"
   ],
   "id": "c08f79abe8164763",
   "outputs": [],
   "execution_count": 36
  },
  {
   "metadata": {},
   "cell_type": "markdown",
   "source": [
    "### Kategorik özelliklerin benzersizliğini kontrol etme\n",
    "- Sadece ikamet edilen ülke sütunu eğitim (61) ve test (44) veri setlerinde farklı benzersiz değerlere sahiptir."
   ],
   "id": "8679b210fcc60016"
  },
  {
   "metadata": {
    "ExecuteTime": {
     "end_time": "2024-05-30T18:53:57.263091Z",
     "start_time": "2024-05-30T18:53:57.252390Z"
    }
   },
   "cell_type": "code",
   "source": [
    "from sklearn.model_selection import train_test_split\n",
    "\n",
    "Y = train[['Class/ASD']] # train -> y\n",
    "X = train.drop(['Class/ASD'], axis=1) # train -> x\n",
    "\n",
    "\n",
    "X_train, X_test, Y_train, Y_test = train_test_split(X, Y, test_size=0.2)\n",
    "print(X_train.shape, X_test.shape, Y_train.shape, Y_test.shape)"
   ],
   "id": "1d253fd8ca7f464e",
   "outputs": [
    {
     "name": "stdout",
     "output_type": "stream",
     "text": [
      "(640, 19) (160, 19) (640, 1) (160, 1)\n"
     ]
    }
   ],
   "execution_count": 61
  },
  {
   "metadata": {
    "ExecuteTime": {
     "end_time": "2024-05-30T18:51:41.672257Z",
     "start_time": "2024-05-30T18:51:41.664720Z"
    }
   },
   "cell_type": "code",
   "source": [
    "for col in cat_cols:\n",
    "    x = train[col].nunique() \n",
    "    y = test[col].nunique()\n",
    "    print(\"{}: train {} unique, test {} unique\".format(col, x, y))"
   ],
   "id": "31a684eb7c67bafa",
   "outputs": [
    {
     "name": "stdout",
     "output_type": "stream",
     "text": [
      "gender: train 2 unique, test 2 unique\n",
      "ethnicity: train 11 unique, test 11 unique\n",
      "jaundice: train 2 unique, test 2 unique\n",
      "autism: train 2 unique, test 2 unique\n",
      "country_of_res: train 61 unique, test 44 unique\n",
      "used_app_before: train 2 unique, test 2 unique\n",
      "relation: train 6 unique, test 6 unique\n"
     ]
    }
   ],
   "execution_count": 38
  },
  {
   "metadata": {
    "ExecuteTime": {
     "end_time": "2024-05-30T18:51:41.847799Z",
     "start_time": "2024-05-30T18:51:41.840255Z"
    }
   },
   "cell_type": "code",
   "source": "sorted(train['country_of_res'].unique())",
   "id": "ab323bc715e9454f",
   "outputs": [
    {
     "data": {
      "text/plain": [
       "['Afghanistan',\n",
       " 'AmericanSamoa',\n",
       " 'Angola',\n",
       " 'Argentina',\n",
       " 'Armenia',\n",
       " 'Aruba',\n",
       " 'Australia',\n",
       " 'Austria',\n",
       " 'Azerbaijan',\n",
       " 'Bahamas',\n",
       " 'Bangladesh',\n",
       " 'Belgium',\n",
       " 'Bolivia',\n",
       " 'Brazil',\n",
       " 'Canada',\n",
       " 'China',\n",
       " 'Costa Rica',\n",
       " 'Cyprus',\n",
       " 'Czech Republic',\n",
       " 'Ecuador',\n",
       " 'Egypt',\n",
       " 'Ethiopia',\n",
       " 'Finland',\n",
       " 'France',\n",
       " 'Germany',\n",
       " 'Hong Kong',\n",
       " 'Iceland',\n",
       " 'India',\n",
       " 'Indonesia',\n",
       " 'Iran',\n",
       " 'Iraq',\n",
       " 'Ireland',\n",
       " 'Italy',\n",
       " 'Japan',\n",
       " 'Jordan',\n",
       " 'Kazakhstan',\n",
       " 'Malaysia',\n",
       " 'Mexico',\n",
       " 'Netherlands',\n",
       " 'New Zealand',\n",
       " 'Nicaragua',\n",
       " 'Niger',\n",
       " 'Oman',\n",
       " 'Pakistan',\n",
       " 'Philippines',\n",
       " 'Romania',\n",
       " 'Russia',\n",
       " 'Saudi Arabia',\n",
       " 'Serbia',\n",
       " 'Sierra Leone',\n",
       " 'South Africa',\n",
       " 'Spain',\n",
       " 'Sri Lanka',\n",
       " 'Sweden',\n",
       " 'Tonga',\n",
       " 'Ukraine',\n",
       " 'United Arab Emirates',\n",
       " 'United Kingdom',\n",
       " 'United States',\n",
       " 'Uruguay',\n",
       " 'Viet Nam']"
      ]
     },
     "execution_count": 39,
     "metadata": {},
     "output_type": "execute_result"
    }
   ],
   "execution_count": 39
  },
  {
   "metadata": {},
   "cell_type": "markdown",
   "source": [
    "### Özelliklerin dağılımı\n",
    "### Hedef: ASD Sınıfı\n",
    "- Hedefin yaklaşık %77'si ASD negatif (0) ve %23'ü ASD pozitif (1)\n",
    "- Hedef sınıf dengeli değil."
   ],
   "id": "ae889799deeace10"
  },
  {
   "metadata": {
    "ExecuteTime": {
     "end_time": "2024-05-30T18:51:41.924049Z",
     "start_time": "2024-05-30T18:51:41.886153Z"
    }
   },
   "cell_type": "code",
   "source": [
    "label = ['ASD Positive (=1)', 'ASD Negative (=0)']\n",
    "value = [ASD_pos.shape[0], ASD_neg.shape[0]]\n",
    "pct = [value[0]*100/len(train), value[1]*100/len(train)]\n",
    "\n",
    "\n",
    "fig = go.Figure(data=[go.Bar(\n",
    "    y=value, x=label,\n",
    "    text=(np.round(pct,2)),\n",
    "    textposition=['outside', 'inside'],\n",
    "    texttemplate = [\"<b style='color: #f'>%{text}%</b>\"]*2,\n",
    "    textfont=dict(  family=\"sans serif\",\n",
    "                    size=16,\n",
    "                    color=\"black\"),\n",
    "    orientation='v',\n",
    "    marker_color=['purple', 'lightsalmon'],\n",
    "    opacity=1.0,\n",
    ")])\n",
    "fig.update_layout(title='<b>Target: ASD Class <b>',\n",
    "                  font_family=\"San Serif\",\n",
    "                  template= 'simple_white',\n",
    "                  yaxis_linewidth=2.5,\n",
    "                  width=600,\n",
    "                  height=400,\n",
    "                  bargap=0.2,\n",
    "                  barmode='group',\n",
    "                  titlefont={'size': 20},\n",
    "                  )\n",
    "fig.update_xaxes(showgrid=False, showline=True)\n",
    "fig.update_yaxes(showgrid=True, showline=True, showticklabels=True, ticks='')\n",
    "fig.show()"
   ],
   "id": "f1e50dffa63bb3c2",
   "outputs": [
    {
     "data": {
      "application/vnd.plotly.v1+json": {
       "data": [
        {
         "marker": {
          "color": [
           "purple",
           "lightsalmon"
          ]
         },
         "opacity": 1.0,
         "orientation": "v",
         "text": [
          23.12,
          76.88
         ],
         "textfont": {
          "color": "black",
          "family": "sans serif",
          "size": 16
         },
         "textposition": [
          "outside",
          "inside"
         ],
         "texttemplate": [
          "<b style='color: #f'>%{text}%</b>",
          "<b style='color: #f'>%{text}%</b>"
         ],
         "x": [
          "ASD Positive (=1)",
          "ASD Negative (=0)"
         ],
         "y": [
          185,
          615
         ],
         "type": "bar"
        }
       ],
       "layout": {
        "template": {
         "data": {
          "barpolar": [
           {
            "marker": {
             "line": {
              "color": "white",
              "width": 0.5
             },
             "pattern": {
              "fillmode": "overlay",
              "size": 10,
              "solidity": 0.2
             }
            },
            "type": "barpolar"
           }
          ],
          "bar": [
           {
            "error_x": {
             "color": "rgb(36,36,36)"
            },
            "error_y": {
             "color": "rgb(36,36,36)"
            },
            "marker": {
             "line": {
              "color": "white",
              "width": 0.5
             },
             "pattern": {
              "fillmode": "overlay",
              "size": 10,
              "solidity": 0.2
             }
            },
            "type": "bar"
           }
          ],
          "carpet": [
           {
            "aaxis": {
             "endlinecolor": "rgb(36,36,36)",
             "gridcolor": "white",
             "linecolor": "white",
             "minorgridcolor": "white",
             "startlinecolor": "rgb(36,36,36)"
            },
            "baxis": {
             "endlinecolor": "rgb(36,36,36)",
             "gridcolor": "white",
             "linecolor": "white",
             "minorgridcolor": "white",
             "startlinecolor": "rgb(36,36,36)"
            },
            "type": "carpet"
           }
          ],
          "choropleth": [
           {
            "colorbar": {
             "outlinewidth": 1,
             "tickcolor": "rgb(36,36,36)",
             "ticks": "outside"
            },
            "type": "choropleth"
           }
          ],
          "contourcarpet": [
           {
            "colorbar": {
             "outlinewidth": 1,
             "tickcolor": "rgb(36,36,36)",
             "ticks": "outside"
            },
            "type": "contourcarpet"
           }
          ],
          "contour": [
           {
            "colorbar": {
             "outlinewidth": 1,
             "tickcolor": "rgb(36,36,36)",
             "ticks": "outside"
            },
            "colorscale": [
             [
              0.0,
              "#440154"
             ],
             [
              0.1111111111111111,
              "#482878"
             ],
             [
              0.2222222222222222,
              "#3e4989"
             ],
             [
              0.3333333333333333,
              "#31688e"
             ],
             [
              0.4444444444444444,
              "#26828e"
             ],
             [
              0.5555555555555556,
              "#1f9e89"
             ],
             [
              0.6666666666666666,
              "#35b779"
             ],
             [
              0.7777777777777778,
              "#6ece58"
             ],
             [
              0.8888888888888888,
              "#b5de2b"
             ],
             [
              1.0,
              "#fde725"
             ]
            ],
            "type": "contour"
           }
          ],
          "heatmapgl": [
           {
            "colorbar": {
             "outlinewidth": 1,
             "tickcolor": "rgb(36,36,36)",
             "ticks": "outside"
            },
            "colorscale": [
             [
              0.0,
              "#440154"
             ],
             [
              0.1111111111111111,
              "#482878"
             ],
             [
              0.2222222222222222,
              "#3e4989"
             ],
             [
              0.3333333333333333,
              "#31688e"
             ],
             [
              0.4444444444444444,
              "#26828e"
             ],
             [
              0.5555555555555556,
              "#1f9e89"
             ],
             [
              0.6666666666666666,
              "#35b779"
             ],
             [
              0.7777777777777778,
              "#6ece58"
             ],
             [
              0.8888888888888888,
              "#b5de2b"
             ],
             [
              1.0,
              "#fde725"
             ]
            ],
            "type": "heatmapgl"
           }
          ],
          "heatmap": [
           {
            "colorbar": {
             "outlinewidth": 1,
             "tickcolor": "rgb(36,36,36)",
             "ticks": "outside"
            },
            "colorscale": [
             [
              0.0,
              "#440154"
             ],
             [
              0.1111111111111111,
              "#482878"
             ],
             [
              0.2222222222222222,
              "#3e4989"
             ],
             [
              0.3333333333333333,
              "#31688e"
             ],
             [
              0.4444444444444444,
              "#26828e"
             ],
             [
              0.5555555555555556,
              "#1f9e89"
             ],
             [
              0.6666666666666666,
              "#35b779"
             ],
             [
              0.7777777777777778,
              "#6ece58"
             ],
             [
              0.8888888888888888,
              "#b5de2b"
             ],
             [
              1.0,
              "#fde725"
             ]
            ],
            "type": "heatmap"
           }
          ],
          "histogram2dcontour": [
           {
            "colorbar": {
             "outlinewidth": 1,
             "tickcolor": "rgb(36,36,36)",
             "ticks": "outside"
            },
            "colorscale": [
             [
              0.0,
              "#440154"
             ],
             [
              0.1111111111111111,
              "#482878"
             ],
             [
              0.2222222222222222,
              "#3e4989"
             ],
             [
              0.3333333333333333,
              "#31688e"
             ],
             [
              0.4444444444444444,
              "#26828e"
             ],
             [
              0.5555555555555556,
              "#1f9e89"
             ],
             [
              0.6666666666666666,
              "#35b779"
             ],
             [
              0.7777777777777778,
              "#6ece58"
             ],
             [
              0.8888888888888888,
              "#b5de2b"
             ],
             [
              1.0,
              "#fde725"
             ]
            ],
            "type": "histogram2dcontour"
           }
          ],
          "histogram2d": [
           {
            "colorbar": {
             "outlinewidth": 1,
             "tickcolor": "rgb(36,36,36)",
             "ticks": "outside"
            },
            "colorscale": [
             [
              0.0,
              "#440154"
             ],
             [
              0.1111111111111111,
              "#482878"
             ],
             [
              0.2222222222222222,
              "#3e4989"
             ],
             [
              0.3333333333333333,
              "#31688e"
             ],
             [
              0.4444444444444444,
              "#26828e"
             ],
             [
              0.5555555555555556,
              "#1f9e89"
             ],
             [
              0.6666666666666666,
              "#35b779"
             ],
             [
              0.7777777777777778,
              "#6ece58"
             ],
             [
              0.8888888888888888,
              "#b5de2b"
             ],
             [
              1.0,
              "#fde725"
             ]
            ],
            "type": "histogram2d"
           }
          ],
          "histogram": [
           {
            "marker": {
             "line": {
              "color": "white",
              "width": 0.6
             }
            },
            "type": "histogram"
           }
          ],
          "mesh3d": [
           {
            "colorbar": {
             "outlinewidth": 1,
             "tickcolor": "rgb(36,36,36)",
             "ticks": "outside"
            },
            "type": "mesh3d"
           }
          ],
          "parcoords": [
           {
            "line": {
             "colorbar": {
              "outlinewidth": 1,
              "tickcolor": "rgb(36,36,36)",
              "ticks": "outside"
             }
            },
            "type": "parcoords"
           }
          ],
          "pie": [
           {
            "automargin": true,
            "type": "pie"
           }
          ],
          "scatter3d": [
           {
            "line": {
             "colorbar": {
              "outlinewidth": 1,
              "tickcolor": "rgb(36,36,36)",
              "ticks": "outside"
             }
            },
            "marker": {
             "colorbar": {
              "outlinewidth": 1,
              "tickcolor": "rgb(36,36,36)",
              "ticks": "outside"
             }
            },
            "type": "scatter3d"
           }
          ],
          "scattercarpet": [
           {
            "marker": {
             "colorbar": {
              "outlinewidth": 1,
              "tickcolor": "rgb(36,36,36)",
              "ticks": "outside"
             }
            },
            "type": "scattercarpet"
           }
          ],
          "scattergeo": [
           {
            "marker": {
             "colorbar": {
              "outlinewidth": 1,
              "tickcolor": "rgb(36,36,36)",
              "ticks": "outside"
             }
            },
            "type": "scattergeo"
           }
          ],
          "scattergl": [
           {
            "marker": {
             "colorbar": {
              "outlinewidth": 1,
              "tickcolor": "rgb(36,36,36)",
              "ticks": "outside"
             }
            },
            "type": "scattergl"
           }
          ],
          "scattermapbox": [
           {
            "marker": {
             "colorbar": {
              "outlinewidth": 1,
              "tickcolor": "rgb(36,36,36)",
              "ticks": "outside"
             }
            },
            "type": "scattermapbox"
           }
          ],
          "scatterpolargl": [
           {
            "marker": {
             "colorbar": {
              "outlinewidth": 1,
              "tickcolor": "rgb(36,36,36)",
              "ticks": "outside"
             }
            },
            "type": "scatterpolargl"
           }
          ],
          "scatterpolar": [
           {
            "marker": {
             "colorbar": {
              "outlinewidth": 1,
              "tickcolor": "rgb(36,36,36)",
              "ticks": "outside"
             }
            },
            "type": "scatterpolar"
           }
          ],
          "scatter": [
           {
            "fillpattern": {
             "fillmode": "overlay",
             "size": 10,
             "solidity": 0.2
            },
            "type": "scatter"
           }
          ],
          "scatterternary": [
           {
            "marker": {
             "colorbar": {
              "outlinewidth": 1,
              "tickcolor": "rgb(36,36,36)",
              "ticks": "outside"
             }
            },
            "type": "scatterternary"
           }
          ],
          "surface": [
           {
            "colorbar": {
             "outlinewidth": 1,
             "tickcolor": "rgb(36,36,36)",
             "ticks": "outside"
            },
            "colorscale": [
             [
              0.0,
              "#440154"
             ],
             [
              0.1111111111111111,
              "#482878"
             ],
             [
              0.2222222222222222,
              "#3e4989"
             ],
             [
              0.3333333333333333,
              "#31688e"
             ],
             [
              0.4444444444444444,
              "#26828e"
             ],
             [
              0.5555555555555556,
              "#1f9e89"
             ],
             [
              0.6666666666666666,
              "#35b779"
             ],
             [
              0.7777777777777778,
              "#6ece58"
             ],
             [
              0.8888888888888888,
              "#b5de2b"
             ],
             [
              1.0,
              "#fde725"
             ]
            ],
            "type": "surface"
           }
          ],
          "table": [
           {
            "cells": {
             "fill": {
              "color": "rgb(237,237,237)"
             },
             "line": {
              "color": "white"
             }
            },
            "header": {
             "fill": {
              "color": "rgb(217,217,217)"
             },
             "line": {
              "color": "white"
             }
            },
            "type": "table"
           }
          ]
         },
         "layout": {
          "annotationdefaults": {
           "arrowhead": 0,
           "arrowwidth": 1
          },
          "autotypenumbers": "strict",
          "coloraxis": {
           "colorbar": {
            "outlinewidth": 1,
            "tickcolor": "rgb(36,36,36)",
            "ticks": "outside"
           }
          },
          "colorscale": {
           "diverging": [
            [
             0.0,
             "rgb(103,0,31)"
            ],
            [
             0.1,
             "rgb(178,24,43)"
            ],
            [
             0.2,
             "rgb(214,96,77)"
            ],
            [
             0.3,
             "rgb(244,165,130)"
            ],
            [
             0.4,
             "rgb(253,219,199)"
            ],
            [
             0.5,
             "rgb(247,247,247)"
            ],
            [
             0.6,
             "rgb(209,229,240)"
            ],
            [
             0.7,
             "rgb(146,197,222)"
            ],
            [
             0.8,
             "rgb(67,147,195)"
            ],
            [
             0.9,
             "rgb(33,102,172)"
            ],
            [
             1.0,
             "rgb(5,48,97)"
            ]
           ],
           "sequential": [
            [
             0.0,
             "#440154"
            ],
            [
             0.1111111111111111,
             "#482878"
            ],
            [
             0.2222222222222222,
             "#3e4989"
            ],
            [
             0.3333333333333333,
             "#31688e"
            ],
            [
             0.4444444444444444,
             "#26828e"
            ],
            [
             0.5555555555555556,
             "#1f9e89"
            ],
            [
             0.6666666666666666,
             "#35b779"
            ],
            [
             0.7777777777777778,
             "#6ece58"
            ],
            [
             0.8888888888888888,
             "#b5de2b"
            ],
            [
             1.0,
             "#fde725"
            ]
           ],
           "sequentialminus": [
            [
             0.0,
             "#440154"
            ],
            [
             0.1111111111111111,
             "#482878"
            ],
            [
             0.2222222222222222,
             "#3e4989"
            ],
            [
             0.3333333333333333,
             "#31688e"
            ],
            [
             0.4444444444444444,
             "#26828e"
            ],
            [
             0.5555555555555556,
             "#1f9e89"
            ],
            [
             0.6666666666666666,
             "#35b779"
            ],
            [
             0.7777777777777778,
             "#6ece58"
            ],
            [
             0.8888888888888888,
             "#b5de2b"
            ],
            [
             1.0,
             "#fde725"
            ]
           ]
          },
          "colorway": [
           "#1F77B4",
           "#FF7F0E",
           "#2CA02C",
           "#D62728",
           "#9467BD",
           "#8C564B",
           "#E377C2",
           "#7F7F7F",
           "#BCBD22",
           "#17BECF"
          ],
          "font": {
           "color": "rgb(36,36,36)"
          },
          "geo": {
           "bgcolor": "white",
           "lakecolor": "white",
           "landcolor": "white",
           "showlakes": true,
           "showland": true,
           "subunitcolor": "white"
          },
          "hoverlabel": {
           "align": "left"
          },
          "hovermode": "closest",
          "mapbox": {
           "style": "light"
          },
          "paper_bgcolor": "white",
          "plot_bgcolor": "white",
          "polar": {
           "angularaxis": {
            "gridcolor": "rgb(232,232,232)",
            "linecolor": "rgb(36,36,36)",
            "showgrid": false,
            "showline": true,
            "ticks": "outside"
           },
           "bgcolor": "white",
           "radialaxis": {
            "gridcolor": "rgb(232,232,232)",
            "linecolor": "rgb(36,36,36)",
            "showgrid": false,
            "showline": true,
            "ticks": "outside"
           }
          },
          "scene": {
           "xaxis": {
            "backgroundcolor": "white",
            "gridcolor": "rgb(232,232,232)",
            "gridwidth": 2,
            "linecolor": "rgb(36,36,36)",
            "showbackground": true,
            "showgrid": false,
            "showline": true,
            "ticks": "outside",
            "zeroline": false,
            "zerolinecolor": "rgb(36,36,36)"
           },
           "yaxis": {
            "backgroundcolor": "white",
            "gridcolor": "rgb(232,232,232)",
            "gridwidth": 2,
            "linecolor": "rgb(36,36,36)",
            "showbackground": true,
            "showgrid": false,
            "showline": true,
            "ticks": "outside",
            "zeroline": false,
            "zerolinecolor": "rgb(36,36,36)"
           },
           "zaxis": {
            "backgroundcolor": "white",
            "gridcolor": "rgb(232,232,232)",
            "gridwidth": 2,
            "linecolor": "rgb(36,36,36)",
            "showbackground": true,
            "showgrid": false,
            "showline": true,
            "ticks": "outside",
            "zeroline": false,
            "zerolinecolor": "rgb(36,36,36)"
           }
          },
          "shapedefaults": {
           "fillcolor": "black",
           "line": {
            "width": 0
           },
           "opacity": 0.3
          },
          "ternary": {
           "aaxis": {
            "gridcolor": "rgb(232,232,232)",
            "linecolor": "rgb(36,36,36)",
            "showgrid": false,
            "showline": true,
            "ticks": "outside"
           },
           "baxis": {
            "gridcolor": "rgb(232,232,232)",
            "linecolor": "rgb(36,36,36)",
            "showgrid": false,
            "showline": true,
            "ticks": "outside"
           },
           "bgcolor": "white",
           "caxis": {
            "gridcolor": "rgb(232,232,232)",
            "linecolor": "rgb(36,36,36)",
            "showgrid": false,
            "showline": true,
            "ticks": "outside"
           }
          },
          "title": {
           "x": 0.05
          },
          "xaxis": {
           "automargin": true,
           "gridcolor": "rgb(232,232,232)",
           "linecolor": "rgb(36,36,36)",
           "showgrid": false,
           "showline": true,
           "ticks": "outside",
           "title": {
            "standoff": 15
           },
           "zeroline": false,
           "zerolinecolor": "rgb(36,36,36)"
          },
          "yaxis": {
           "automargin": true,
           "gridcolor": "rgb(232,232,232)",
           "linecolor": "rgb(36,36,36)",
           "showgrid": false,
           "showline": true,
           "ticks": "outside",
           "title": {
            "standoff": 15
           },
           "zeroline": false,
           "zerolinecolor": "rgb(36,36,36)"
          }
         }
        },
        "font": {
         "family": "San Serif"
        },
        "yaxis": {
         "linewidth": 2.5,
         "showgrid": true,
         "showline": true,
         "showticklabels": true,
         "ticks": ""
        },
        "title": {
         "text": "<b>Target: ASD Class <b>",
         "font": {
          "size": 20
         }
        },
        "width": 600,
        "height": 400,
        "bargap": 0.2,
        "barmode": "group",
        "xaxis": {
         "showgrid": false,
         "showline": true
        }
       },
       "config": {
        "plotlyServerURL": "https://plot.ly"
       }
      },
      "text/html": [
       "<div>                            <div id=\"dcfb7935-f1ba-4df6-b77c-2876aaeb0731\" class=\"plotly-graph-div\" style=\"height:400px; width:600px;\"></div>            <script type=\"text/javascript\">                require([\"plotly\"], function(Plotly) {                    window.PLOTLYENV=window.PLOTLYENV || {};                                    if (document.getElementById(\"dcfb7935-f1ba-4df6-b77c-2876aaeb0731\")) {                    Plotly.newPlot(                        \"dcfb7935-f1ba-4df6-b77c-2876aaeb0731\",                        [{\"marker\":{\"color\":[\"purple\",\"lightsalmon\"]},\"opacity\":1.0,\"orientation\":\"v\",\"text\":[23.12,76.88],\"textfont\":{\"color\":\"black\",\"family\":\"sans serif\",\"size\":16},\"textposition\":[\"outside\",\"inside\"],\"texttemplate\":[\"<b style='color: #f'>%{text}%</b>\",\"<b style='color: #f'>%{text}%</b>\"],\"x\":[\"ASD Positive (=1)\",\"ASD Negative (=0)\"],\"y\":[185,615],\"type\":\"bar\"}],                        {\"template\":{\"data\":{\"barpolar\":[{\"marker\":{\"line\":{\"color\":\"white\",\"width\":0.5},\"pattern\":{\"fillmode\":\"overlay\",\"size\":10,\"solidity\":0.2}},\"type\":\"barpolar\"}],\"bar\":[{\"error_x\":{\"color\":\"rgb(36,36,36)\"},\"error_y\":{\"color\":\"rgb(36,36,36)\"},\"marker\":{\"line\":{\"color\":\"white\",\"width\":0.5},\"pattern\":{\"fillmode\":\"overlay\",\"size\":10,\"solidity\":0.2}},\"type\":\"bar\"}],\"carpet\":[{\"aaxis\":{\"endlinecolor\":\"rgb(36,36,36)\",\"gridcolor\":\"white\",\"linecolor\":\"white\",\"minorgridcolor\":\"white\",\"startlinecolor\":\"rgb(36,36,36)\"},\"baxis\":{\"endlinecolor\":\"rgb(36,36,36)\",\"gridcolor\":\"white\",\"linecolor\":\"white\",\"minorgridcolor\":\"white\",\"startlinecolor\":\"rgb(36,36,36)\"},\"type\":\"carpet\"}],\"choropleth\":[{\"colorbar\":{\"outlinewidth\":1,\"tickcolor\":\"rgb(36,36,36)\",\"ticks\":\"outside\"},\"type\":\"choropleth\"}],\"contourcarpet\":[{\"colorbar\":{\"outlinewidth\":1,\"tickcolor\":\"rgb(36,36,36)\",\"ticks\":\"outside\"},\"type\":\"contourcarpet\"}],\"contour\":[{\"colorbar\":{\"outlinewidth\":1,\"tickcolor\":\"rgb(36,36,36)\",\"ticks\":\"outside\"},\"colorscale\":[[0.0,\"#440154\"],[0.1111111111111111,\"#482878\"],[0.2222222222222222,\"#3e4989\"],[0.3333333333333333,\"#31688e\"],[0.4444444444444444,\"#26828e\"],[0.5555555555555556,\"#1f9e89\"],[0.6666666666666666,\"#35b779\"],[0.7777777777777778,\"#6ece58\"],[0.8888888888888888,\"#b5de2b\"],[1.0,\"#fde725\"]],\"type\":\"contour\"}],\"heatmapgl\":[{\"colorbar\":{\"outlinewidth\":1,\"tickcolor\":\"rgb(36,36,36)\",\"ticks\":\"outside\"},\"colorscale\":[[0.0,\"#440154\"],[0.1111111111111111,\"#482878\"],[0.2222222222222222,\"#3e4989\"],[0.3333333333333333,\"#31688e\"],[0.4444444444444444,\"#26828e\"],[0.5555555555555556,\"#1f9e89\"],[0.6666666666666666,\"#35b779\"],[0.7777777777777778,\"#6ece58\"],[0.8888888888888888,\"#b5de2b\"],[1.0,\"#fde725\"]],\"type\":\"heatmapgl\"}],\"heatmap\":[{\"colorbar\":{\"outlinewidth\":1,\"tickcolor\":\"rgb(36,36,36)\",\"ticks\":\"outside\"},\"colorscale\":[[0.0,\"#440154\"],[0.1111111111111111,\"#482878\"],[0.2222222222222222,\"#3e4989\"],[0.3333333333333333,\"#31688e\"],[0.4444444444444444,\"#26828e\"],[0.5555555555555556,\"#1f9e89\"],[0.6666666666666666,\"#35b779\"],[0.7777777777777778,\"#6ece58\"],[0.8888888888888888,\"#b5de2b\"],[1.0,\"#fde725\"]],\"type\":\"heatmap\"}],\"histogram2dcontour\":[{\"colorbar\":{\"outlinewidth\":1,\"tickcolor\":\"rgb(36,36,36)\",\"ticks\":\"outside\"},\"colorscale\":[[0.0,\"#440154\"],[0.1111111111111111,\"#482878\"],[0.2222222222222222,\"#3e4989\"],[0.3333333333333333,\"#31688e\"],[0.4444444444444444,\"#26828e\"],[0.5555555555555556,\"#1f9e89\"],[0.6666666666666666,\"#35b779\"],[0.7777777777777778,\"#6ece58\"],[0.8888888888888888,\"#b5de2b\"],[1.0,\"#fde725\"]],\"type\":\"histogram2dcontour\"}],\"histogram2d\":[{\"colorbar\":{\"outlinewidth\":1,\"tickcolor\":\"rgb(36,36,36)\",\"ticks\":\"outside\"},\"colorscale\":[[0.0,\"#440154\"],[0.1111111111111111,\"#482878\"],[0.2222222222222222,\"#3e4989\"],[0.3333333333333333,\"#31688e\"],[0.4444444444444444,\"#26828e\"],[0.5555555555555556,\"#1f9e89\"],[0.6666666666666666,\"#35b779\"],[0.7777777777777778,\"#6ece58\"],[0.8888888888888888,\"#b5de2b\"],[1.0,\"#fde725\"]],\"type\":\"histogram2d\"}],\"histogram\":[{\"marker\":{\"line\":{\"color\":\"white\",\"width\":0.6}},\"type\":\"histogram\"}],\"mesh3d\":[{\"colorbar\":{\"outlinewidth\":1,\"tickcolor\":\"rgb(36,36,36)\",\"ticks\":\"outside\"},\"type\":\"mesh3d\"}],\"parcoords\":[{\"line\":{\"colorbar\":{\"outlinewidth\":1,\"tickcolor\":\"rgb(36,36,36)\",\"ticks\":\"outside\"}},\"type\":\"parcoords\"}],\"pie\":[{\"automargin\":true,\"type\":\"pie\"}],\"scatter3d\":[{\"line\":{\"colorbar\":{\"outlinewidth\":1,\"tickcolor\":\"rgb(36,36,36)\",\"ticks\":\"outside\"}},\"marker\":{\"colorbar\":{\"outlinewidth\":1,\"tickcolor\":\"rgb(36,36,36)\",\"ticks\":\"outside\"}},\"type\":\"scatter3d\"}],\"scattercarpet\":[{\"marker\":{\"colorbar\":{\"outlinewidth\":1,\"tickcolor\":\"rgb(36,36,36)\",\"ticks\":\"outside\"}},\"type\":\"scattercarpet\"}],\"scattergeo\":[{\"marker\":{\"colorbar\":{\"outlinewidth\":1,\"tickcolor\":\"rgb(36,36,36)\",\"ticks\":\"outside\"}},\"type\":\"scattergeo\"}],\"scattergl\":[{\"marker\":{\"colorbar\":{\"outlinewidth\":1,\"tickcolor\":\"rgb(36,36,36)\",\"ticks\":\"outside\"}},\"type\":\"scattergl\"}],\"scattermapbox\":[{\"marker\":{\"colorbar\":{\"outlinewidth\":1,\"tickcolor\":\"rgb(36,36,36)\",\"ticks\":\"outside\"}},\"type\":\"scattermapbox\"}],\"scatterpolargl\":[{\"marker\":{\"colorbar\":{\"outlinewidth\":1,\"tickcolor\":\"rgb(36,36,36)\",\"ticks\":\"outside\"}},\"type\":\"scatterpolargl\"}],\"scatterpolar\":[{\"marker\":{\"colorbar\":{\"outlinewidth\":1,\"tickcolor\":\"rgb(36,36,36)\",\"ticks\":\"outside\"}},\"type\":\"scatterpolar\"}],\"scatter\":[{\"fillpattern\":{\"fillmode\":\"overlay\",\"size\":10,\"solidity\":0.2},\"type\":\"scatter\"}],\"scatterternary\":[{\"marker\":{\"colorbar\":{\"outlinewidth\":1,\"tickcolor\":\"rgb(36,36,36)\",\"ticks\":\"outside\"}},\"type\":\"scatterternary\"}],\"surface\":[{\"colorbar\":{\"outlinewidth\":1,\"tickcolor\":\"rgb(36,36,36)\",\"ticks\":\"outside\"},\"colorscale\":[[0.0,\"#440154\"],[0.1111111111111111,\"#482878\"],[0.2222222222222222,\"#3e4989\"],[0.3333333333333333,\"#31688e\"],[0.4444444444444444,\"#26828e\"],[0.5555555555555556,\"#1f9e89\"],[0.6666666666666666,\"#35b779\"],[0.7777777777777778,\"#6ece58\"],[0.8888888888888888,\"#b5de2b\"],[1.0,\"#fde725\"]],\"type\":\"surface\"}],\"table\":[{\"cells\":{\"fill\":{\"color\":\"rgb(237,237,237)\"},\"line\":{\"color\":\"white\"}},\"header\":{\"fill\":{\"color\":\"rgb(217,217,217)\"},\"line\":{\"color\":\"white\"}},\"type\":\"table\"}]},\"layout\":{\"annotationdefaults\":{\"arrowhead\":0,\"arrowwidth\":1},\"autotypenumbers\":\"strict\",\"coloraxis\":{\"colorbar\":{\"outlinewidth\":1,\"tickcolor\":\"rgb(36,36,36)\",\"ticks\":\"outside\"}},\"colorscale\":{\"diverging\":[[0.0,\"rgb(103,0,31)\"],[0.1,\"rgb(178,24,43)\"],[0.2,\"rgb(214,96,77)\"],[0.3,\"rgb(244,165,130)\"],[0.4,\"rgb(253,219,199)\"],[0.5,\"rgb(247,247,247)\"],[0.6,\"rgb(209,229,240)\"],[0.7,\"rgb(146,197,222)\"],[0.8,\"rgb(67,147,195)\"],[0.9,\"rgb(33,102,172)\"],[1.0,\"rgb(5,48,97)\"]],\"sequential\":[[0.0,\"#440154\"],[0.1111111111111111,\"#482878\"],[0.2222222222222222,\"#3e4989\"],[0.3333333333333333,\"#31688e\"],[0.4444444444444444,\"#26828e\"],[0.5555555555555556,\"#1f9e89\"],[0.6666666666666666,\"#35b779\"],[0.7777777777777778,\"#6ece58\"],[0.8888888888888888,\"#b5de2b\"],[1.0,\"#fde725\"]],\"sequentialminus\":[[0.0,\"#440154\"],[0.1111111111111111,\"#482878\"],[0.2222222222222222,\"#3e4989\"],[0.3333333333333333,\"#31688e\"],[0.4444444444444444,\"#26828e\"],[0.5555555555555556,\"#1f9e89\"],[0.6666666666666666,\"#35b779\"],[0.7777777777777778,\"#6ece58\"],[0.8888888888888888,\"#b5de2b\"],[1.0,\"#fde725\"]]},\"colorway\":[\"#1F77B4\",\"#FF7F0E\",\"#2CA02C\",\"#D62728\",\"#9467BD\",\"#8C564B\",\"#E377C2\",\"#7F7F7F\",\"#BCBD22\",\"#17BECF\"],\"font\":{\"color\":\"rgb(36,36,36)\"},\"geo\":{\"bgcolor\":\"white\",\"lakecolor\":\"white\",\"landcolor\":\"white\",\"showlakes\":true,\"showland\":true,\"subunitcolor\":\"white\"},\"hoverlabel\":{\"align\":\"left\"},\"hovermode\":\"closest\",\"mapbox\":{\"style\":\"light\"},\"paper_bgcolor\":\"white\",\"plot_bgcolor\":\"white\",\"polar\":{\"angularaxis\":{\"gridcolor\":\"rgb(232,232,232)\",\"linecolor\":\"rgb(36,36,36)\",\"showgrid\":false,\"showline\":true,\"ticks\":\"outside\"},\"bgcolor\":\"white\",\"radialaxis\":{\"gridcolor\":\"rgb(232,232,232)\",\"linecolor\":\"rgb(36,36,36)\",\"showgrid\":false,\"showline\":true,\"ticks\":\"outside\"}},\"scene\":{\"xaxis\":{\"backgroundcolor\":\"white\",\"gridcolor\":\"rgb(232,232,232)\",\"gridwidth\":2,\"linecolor\":\"rgb(36,36,36)\",\"showbackground\":true,\"showgrid\":false,\"showline\":true,\"ticks\":\"outside\",\"zeroline\":false,\"zerolinecolor\":\"rgb(36,36,36)\"},\"yaxis\":{\"backgroundcolor\":\"white\",\"gridcolor\":\"rgb(232,232,232)\",\"gridwidth\":2,\"linecolor\":\"rgb(36,36,36)\",\"showbackground\":true,\"showgrid\":false,\"showline\":true,\"ticks\":\"outside\",\"zeroline\":false,\"zerolinecolor\":\"rgb(36,36,36)\"},\"zaxis\":{\"backgroundcolor\":\"white\",\"gridcolor\":\"rgb(232,232,232)\",\"gridwidth\":2,\"linecolor\":\"rgb(36,36,36)\",\"showbackground\":true,\"showgrid\":false,\"showline\":true,\"ticks\":\"outside\",\"zeroline\":false,\"zerolinecolor\":\"rgb(36,36,36)\"}},\"shapedefaults\":{\"fillcolor\":\"black\",\"line\":{\"width\":0},\"opacity\":0.3},\"ternary\":{\"aaxis\":{\"gridcolor\":\"rgb(232,232,232)\",\"linecolor\":\"rgb(36,36,36)\",\"showgrid\":false,\"showline\":true,\"ticks\":\"outside\"},\"baxis\":{\"gridcolor\":\"rgb(232,232,232)\",\"linecolor\":\"rgb(36,36,36)\",\"showgrid\":false,\"showline\":true,\"ticks\":\"outside\"},\"bgcolor\":\"white\",\"caxis\":{\"gridcolor\":\"rgb(232,232,232)\",\"linecolor\":\"rgb(36,36,36)\",\"showgrid\":false,\"showline\":true,\"ticks\":\"outside\"}},\"title\":{\"x\":0.05},\"xaxis\":{\"automargin\":true,\"gridcolor\":\"rgb(232,232,232)\",\"linecolor\":\"rgb(36,36,36)\",\"showgrid\":false,\"showline\":true,\"ticks\":\"outside\",\"title\":{\"standoff\":15},\"zeroline\":false,\"zerolinecolor\":\"rgb(36,36,36)\"},\"yaxis\":{\"automargin\":true,\"gridcolor\":\"rgb(232,232,232)\",\"linecolor\":\"rgb(36,36,36)\",\"showgrid\":false,\"showline\":true,\"ticks\":\"outside\",\"title\":{\"standoff\":15},\"zeroline\":false,\"zerolinecolor\":\"rgb(36,36,36)\"}}},\"font\":{\"family\":\"San Serif\"},\"yaxis\":{\"linewidth\":2.5,\"showgrid\":true,\"showline\":true,\"showticklabels\":true,\"ticks\":\"\"},\"title\":{\"text\":\"<b>Target: ASD Class <b>\",\"font\":{\"size\":20}},\"width\":600,\"height\":400,\"bargap\":0.2,\"barmode\":\"group\",\"xaxis\":{\"showgrid\":false,\"showline\":true}},                        {\"responsive\": true}                    ).then(function(){\n",
       "                            \n",
       "var gd = document.getElementById('dcfb7935-f1ba-4df6-b77c-2876aaeb0731');\n",
       "var x = new MutationObserver(function (mutations, observer) {{\n",
       "        var display = window.getComputedStyle(gd).display;\n",
       "        if (!display || display === 'none') {{\n",
       "            console.log([gd, 'removed!']);\n",
       "            Plotly.purge(gd);\n",
       "            observer.disconnect();\n",
       "        }}\n",
       "}});\n",
       "\n",
       "// Listen for the removal of the full notebook cells\n",
       "var notebookContainer = gd.closest('#notebook-container');\n",
       "if (notebookContainer) {{\n",
       "    x.observe(notebookContainer, {childList: true});\n",
       "}}\n",
       "\n",
       "// Listen for the clearing of the current output cell\n",
       "var outputEl = gd.closest('.output');\n",
       "if (outputEl) {{\n",
       "    x.observe(outputEl, {childList: true});\n",
       "}}\n",
       "\n",
       "                        })                };                });            </script>        </div>"
      ]
     },
     "metadata": {},
     "output_type": "display_data"
    }
   ],
   "execution_count": 40
  },
  {
   "metadata": {},
   "cell_type": "markdown",
   "source": [
    "### Cinsiyet\n",
    "- Cinsiyet dağılımı oldukça dengeli. %52'si kadın (f) ve geri kalan %48'i erkek (m).\n",
    "- ASD pozitif olanların %63'ü kadın."
   ],
   "id": "2391ce5ed77c47d5"
  },
  {
   "metadata": {
    "ExecuteTime": {
     "end_time": "2024-05-30T18:51:41.973365Z",
     "start_time": "2024-05-30T18:51:41.938221Z"
    }
   },
   "cell_type": "code",
   "source": [
    "fig = go.Figure()\n",
    "fig.add_trace(go.Histogram(x=ASD_pos['gender'],histnorm='percent',\n",
    "                           name='ASD_pos', marker_color = 'purple'),\n",
    "              )\n",
    "fig.add_trace(go.Histogram(x=ASD_neg['gender'],histnorm='percent',\n",
    "                           name='ASD_neg', marker_color = 'salmon', opacity=0.85),\n",
    "              )\n",
    "\n",
    "fig.update_layout(title=\"Gender of the patient\",\n",
    "                  font_family=\"San Serif\",\n",
    "                  titlefont={'size': 20},\n",
    "                  template='simple_white',\n",
    "                  width=600,\n",
    "                  height=400,\n",
    "                  legend=dict(\n",
    "                      orientation=\"v\", y=1, yanchor=\"top\", x=1.20, xanchor=\"right\" )\n",
    "                  ).update_xaxes(categoryorder='total descending')\n",
    "fig.show()"
   ],
   "id": "46114ea4d08c5a83",
   "outputs": [
    {
     "data": {
      "application/vnd.plotly.v1+json": {
       "data": [
        {
         "histnorm": "percent",
         "marker": {
          "color": "purple"
         },
         "name": "ASD_pos",
         "x": [
          "f",
          "f",
          "f",
          "f",
          "f",
          "f",
          "f",
          "m",
          "m",
          "f",
          "m",
          "m",
          "f",
          "f",
          "f",
          "f",
          "m",
          "f",
          "f",
          "m",
          "f",
          "f",
          "m",
          "f",
          "f",
          "f",
          "f",
          "m",
          "f",
          "m",
          "f",
          "m",
          "m",
          "f",
          "m",
          "f",
          "f",
          "m",
          "f",
          "f",
          "m",
          "f",
          "m",
          "m",
          "f",
          "f",
          "f",
          "f",
          "m",
          "f",
          "m",
          "f",
          "m",
          "m",
          "m",
          "f",
          "f",
          "f",
          "m",
          "m",
          "m",
          "m",
          "m",
          "m",
          "m",
          "m",
          "m",
          "m",
          "f",
          "m",
          "m",
          "f",
          "m",
          "f",
          "f",
          "f",
          "f",
          "f",
          "f",
          "f",
          "f",
          "f",
          "f",
          "f",
          "f",
          "f",
          "f",
          "f",
          "m",
          "m",
          "m",
          "f",
          "f",
          "m",
          "f",
          "f",
          "m",
          "f",
          "m",
          "f",
          "f",
          "f",
          "m",
          "m",
          "f",
          "m",
          "f",
          "f",
          "f",
          "f",
          "f",
          "m",
          "f",
          "f",
          "m",
          "f",
          "f",
          "f",
          "m",
          "f",
          "f",
          "f",
          "f",
          "f",
          "f",
          "f",
          "f",
          "m",
          "f",
          "f",
          "f",
          "f",
          "f",
          "f",
          "m",
          "f",
          "f",
          "m",
          "m",
          "f",
          "f",
          "f",
          "f",
          "f",
          "f",
          "m",
          "f",
          "f",
          "f",
          "f",
          "m",
          "f",
          "m",
          "f",
          "f",
          "m",
          "m",
          "f",
          "m",
          "m",
          "m",
          "f",
          "f",
          "f",
          "m",
          "f",
          "m",
          "f",
          "m",
          "m",
          "m",
          "m",
          "m",
          "f",
          "m",
          "f",
          "f",
          "f",
          "f",
          "f",
          "f",
          "f",
          "m",
          "f",
          "m"
         ],
         "type": "histogram"
        },
        {
         "histnorm": "percent",
         "marker": {
          "color": "salmon"
         },
         "name": "ASD_neg",
         "opacity": 0.85,
         "x": [
          "f",
          "f",
          "f",
          "m",
          "m",
          "f",
          "m",
          "m",
          "f",
          "m",
          "f",
          "f",
          "m",
          "f",
          "m",
          "m",
          "f",
          "m",
          "m",
          "f",
          "m",
          "m",
          "f",
          "m",
          "f",
          "m",
          "m",
          "m",
          "m",
          "m",
          "f",
          "f",
          "f",
          "f",
          "f",
          "m",
          "m",
          "m",
          "f",
          "m",
          "f",
          "m",
          "m",
          "m",
          "f",
          "f",
          "m",
          "f",
          "f",
          "f",
          "m",
          "f",
          "m",
          "f",
          "f",
          "m",
          "f",
          "m",
          "m",
          "m",
          "f",
          "m",
          "f",
          "m",
          "f",
          "m",
          "f",
          "m",
          "m",
          "m",
          "f",
          "f",
          "f",
          "f",
          "f",
          "f",
          "f",
          "m",
          "m",
          "f",
          "f",
          "m",
          "f",
          "f",
          "m",
          "m",
          "m",
          "m",
          "f",
          "f",
          "f",
          "m",
          "m",
          "m",
          "f",
          "m",
          "m",
          "m",
          "m",
          "m",
          "f",
          "f",
          "m",
          "f",
          "m",
          "f",
          "m",
          "m",
          "f",
          "f",
          "m",
          "m",
          "f",
          "f",
          "m",
          "m",
          "f",
          "f",
          "m",
          "m",
          "m",
          "m",
          "m",
          "m",
          "m",
          "f",
          "m",
          "f",
          "f",
          "f",
          "f",
          "m",
          "f",
          "f",
          "m",
          "m",
          "m",
          "f",
          "m",
          "m",
          "m",
          "m",
          "m",
          "f",
          "m",
          "f",
          "f",
          "m",
          "f",
          "m",
          "f",
          "f",
          "f",
          "f",
          "f",
          "m",
          "f",
          "m",
          "f",
          "f",
          "f",
          "m",
          "m",
          "f",
          "f",
          "f",
          "f",
          "m",
          "m",
          "f",
          "m",
          "m",
          "m",
          "m",
          "f",
          "f",
          "f",
          "f",
          "m",
          "f",
          "f",
          "m",
          "m",
          "f",
          "m",
          "f",
          "f",
          "f",
          "m",
          "f",
          "f",
          "m",
          "m",
          "f",
          "f",
          "m",
          "m",
          "m",
          "m",
          "f",
          "f",
          "m",
          "f",
          "m",
          "m",
          "m",
          "f",
          "f",
          "f",
          "m",
          "m",
          "f",
          "m",
          "m",
          "m",
          "m",
          "f",
          "f",
          "m",
          "f",
          "f",
          "f",
          "f",
          "f",
          "m",
          "f",
          "m",
          "m",
          "m",
          "m",
          "m",
          "m",
          "m",
          "f",
          "m",
          "f",
          "m",
          "f",
          "m",
          "m",
          "m",
          "f",
          "f",
          "f",
          "m",
          "m",
          "m",
          "m",
          "m",
          "f",
          "m",
          "f",
          "m",
          "m",
          "f",
          "f",
          "f",
          "m",
          "m",
          "f",
          "f",
          "m",
          "f",
          "m",
          "f",
          "f",
          "m",
          "m",
          "m",
          "m",
          "m",
          "f",
          "f",
          "f",
          "f",
          "m",
          "f",
          "f",
          "m",
          "f",
          "m",
          "m",
          "m",
          "f",
          "f",
          "m",
          "f",
          "m",
          "f",
          "f",
          "f",
          "f",
          "m",
          "f",
          "m",
          "m",
          "f",
          "f",
          "f",
          "f",
          "m",
          "m",
          "m",
          "f",
          "m",
          "f",
          "f",
          "m",
          "f",
          "m",
          "f",
          "f",
          "m",
          "f",
          "m",
          "f",
          "m",
          "m",
          "m",
          "m",
          "f",
          "f",
          "f",
          "f",
          "m",
          "f",
          "f",
          "m",
          "m",
          "m",
          "f",
          "m",
          "f",
          "f",
          "f",
          "m",
          "m",
          "f",
          "m",
          "m",
          "m",
          "m",
          "m",
          "m",
          "f",
          "m",
          "f",
          "f",
          "m",
          "f",
          "m",
          "f",
          "m",
          "f",
          "f",
          "m",
          "m",
          "f",
          "f",
          "f",
          "m",
          "m",
          "m",
          "m",
          "m",
          "f",
          "f",
          "m",
          "f",
          "m",
          "f",
          "m",
          "f",
          "m",
          "m",
          "m",
          "m",
          "m",
          "f",
          "f",
          "f",
          "f",
          "f",
          "f",
          "m",
          "m",
          "m",
          "m",
          "f",
          "f",
          "m",
          "f",
          "m",
          "f",
          "m",
          "f",
          "f",
          "f",
          "f",
          "f",
          "f",
          "f",
          "m",
          "f",
          "f",
          "f",
          "m",
          "f",
          "f",
          "m",
          "m",
          "f",
          "f",
          "m",
          "m",
          "f",
          "m",
          "m",
          "m",
          "f",
          "m",
          "m",
          "f",
          "f",
          "m",
          "m",
          "m",
          "f",
          "f",
          "f",
          "m",
          "m",
          "m",
          "m",
          "f",
          "m",
          "m",
          "f",
          "f",
          "f",
          "f",
          "f",
          "f",
          "f",
          "f",
          "m",
          "m",
          "m",
          "f",
          "f",
          "m",
          "f",
          "m",
          "m",
          "m",
          "m",
          "f",
          "m",
          "m",
          "f",
          "m",
          "f",
          "m",
          "f",
          "f",
          "m",
          "f",
          "f",
          "f",
          "m",
          "f",
          "f",
          "f",
          "m",
          "m",
          "f",
          "f",
          "f",
          "f",
          "f",
          "m",
          "m",
          "f",
          "f",
          "f",
          "m",
          "m",
          "f",
          "m",
          "m",
          "m",
          "m",
          "m",
          "m",
          "m",
          "f",
          "f",
          "m",
          "m",
          "f",
          "f",
          "f",
          "m",
          "m",
          "f",
          "m",
          "m",
          "m",
          "f",
          "f",
          "m",
          "f",
          "f",
          "m",
          "m",
          "m",
          "f",
          "f",
          "m",
          "m",
          "m",
          "m",
          "f",
          "f",
          "m",
          "f",
          "m",
          "f",
          "m",
          "m",
          "m",
          "f",
          "m",
          "m",
          "m",
          "f",
          "f",
          "f",
          "m",
          "m",
          "m",
          "m",
          "f",
          "f",
          "m",
          "f",
          "m",
          "f",
          "m",
          "m",
          "m",
          "m",
          "f",
          "m",
          "f",
          "f",
          "f",
          "f",
          "m",
          "f",
          "f",
          "f",
          "f",
          "m",
          "m",
          "m",
          "m",
          "m",
          "f",
          "f",
          "f",
          "f",
          "m",
          "m",
          "f",
          "m",
          "f",
          "m",
          "m",
          "m",
          "f",
          "m",
          "m",
          "m",
          "f",
          "f",
          "m",
          "m",
          "m",
          "f",
          "m",
          "m",
          "m",
          "f",
          "f",
          "m",
          "m",
          "m",
          "f",
          "m",
          "f",
          "m",
          "m",
          "f",
          "f",
          "m",
          "m",
          "m",
          "f",
          "m",
          "f",
          "m",
          "f",
          "f",
          "f"
         ],
         "type": "histogram"
        }
       ],
       "layout": {
        "template": {
         "data": {
          "barpolar": [
           {
            "marker": {
             "line": {
              "color": "white",
              "width": 0.5
             },
             "pattern": {
              "fillmode": "overlay",
              "size": 10,
              "solidity": 0.2
             }
            },
            "type": "barpolar"
           }
          ],
          "bar": [
           {
            "error_x": {
             "color": "rgb(36,36,36)"
            },
            "error_y": {
             "color": "rgb(36,36,36)"
            },
            "marker": {
             "line": {
              "color": "white",
              "width": 0.5
             },
             "pattern": {
              "fillmode": "overlay",
              "size": 10,
              "solidity": 0.2
             }
            },
            "type": "bar"
           }
          ],
          "carpet": [
           {
            "aaxis": {
             "endlinecolor": "rgb(36,36,36)",
             "gridcolor": "white",
             "linecolor": "white",
             "minorgridcolor": "white",
             "startlinecolor": "rgb(36,36,36)"
            },
            "baxis": {
             "endlinecolor": "rgb(36,36,36)",
             "gridcolor": "white",
             "linecolor": "white",
             "minorgridcolor": "white",
             "startlinecolor": "rgb(36,36,36)"
            },
            "type": "carpet"
           }
          ],
          "choropleth": [
           {
            "colorbar": {
             "outlinewidth": 1,
             "tickcolor": "rgb(36,36,36)",
             "ticks": "outside"
            },
            "type": "choropleth"
           }
          ],
          "contourcarpet": [
           {
            "colorbar": {
             "outlinewidth": 1,
             "tickcolor": "rgb(36,36,36)",
             "ticks": "outside"
            },
            "type": "contourcarpet"
           }
          ],
          "contour": [
           {
            "colorbar": {
             "outlinewidth": 1,
             "tickcolor": "rgb(36,36,36)",
             "ticks": "outside"
            },
            "colorscale": [
             [
              0.0,
              "#440154"
             ],
             [
              0.1111111111111111,
              "#482878"
             ],
             [
              0.2222222222222222,
              "#3e4989"
             ],
             [
              0.3333333333333333,
              "#31688e"
             ],
             [
              0.4444444444444444,
              "#26828e"
             ],
             [
              0.5555555555555556,
              "#1f9e89"
             ],
             [
              0.6666666666666666,
              "#35b779"
             ],
             [
              0.7777777777777778,
              "#6ece58"
             ],
             [
              0.8888888888888888,
              "#b5de2b"
             ],
             [
              1.0,
              "#fde725"
             ]
            ],
            "type": "contour"
           }
          ],
          "heatmapgl": [
           {
            "colorbar": {
             "outlinewidth": 1,
             "tickcolor": "rgb(36,36,36)",
             "ticks": "outside"
            },
            "colorscale": [
             [
              0.0,
              "#440154"
             ],
             [
              0.1111111111111111,
              "#482878"
             ],
             [
              0.2222222222222222,
              "#3e4989"
             ],
             [
              0.3333333333333333,
              "#31688e"
             ],
             [
              0.4444444444444444,
              "#26828e"
             ],
             [
              0.5555555555555556,
              "#1f9e89"
             ],
             [
              0.6666666666666666,
              "#35b779"
             ],
             [
              0.7777777777777778,
              "#6ece58"
             ],
             [
              0.8888888888888888,
              "#b5de2b"
             ],
             [
              1.0,
              "#fde725"
             ]
            ],
            "type": "heatmapgl"
           }
          ],
          "heatmap": [
           {
            "colorbar": {
             "outlinewidth": 1,
             "tickcolor": "rgb(36,36,36)",
             "ticks": "outside"
            },
            "colorscale": [
             [
              0.0,
              "#440154"
             ],
             [
              0.1111111111111111,
              "#482878"
             ],
             [
              0.2222222222222222,
              "#3e4989"
             ],
             [
              0.3333333333333333,
              "#31688e"
             ],
             [
              0.4444444444444444,
              "#26828e"
             ],
             [
              0.5555555555555556,
              "#1f9e89"
             ],
             [
              0.6666666666666666,
              "#35b779"
             ],
             [
              0.7777777777777778,
              "#6ece58"
             ],
             [
              0.8888888888888888,
              "#b5de2b"
             ],
             [
              1.0,
              "#fde725"
             ]
            ],
            "type": "heatmap"
           }
          ],
          "histogram2dcontour": [
           {
            "colorbar": {
             "outlinewidth": 1,
             "tickcolor": "rgb(36,36,36)",
             "ticks": "outside"
            },
            "colorscale": [
             [
              0.0,
              "#440154"
             ],
             [
              0.1111111111111111,
              "#482878"
             ],
             [
              0.2222222222222222,
              "#3e4989"
             ],
             [
              0.3333333333333333,
              "#31688e"
             ],
             [
              0.4444444444444444,
              "#26828e"
             ],
             [
              0.5555555555555556,
              "#1f9e89"
             ],
             [
              0.6666666666666666,
              "#35b779"
             ],
             [
              0.7777777777777778,
              "#6ece58"
             ],
             [
              0.8888888888888888,
              "#b5de2b"
             ],
             [
              1.0,
              "#fde725"
             ]
            ],
            "type": "histogram2dcontour"
           }
          ],
          "histogram2d": [
           {
            "colorbar": {
             "outlinewidth": 1,
             "tickcolor": "rgb(36,36,36)",
             "ticks": "outside"
            },
            "colorscale": [
             [
              0.0,
              "#440154"
             ],
             [
              0.1111111111111111,
              "#482878"
             ],
             [
              0.2222222222222222,
              "#3e4989"
             ],
             [
              0.3333333333333333,
              "#31688e"
             ],
             [
              0.4444444444444444,
              "#26828e"
             ],
             [
              0.5555555555555556,
              "#1f9e89"
             ],
             [
              0.6666666666666666,
              "#35b779"
             ],
             [
              0.7777777777777778,
              "#6ece58"
             ],
             [
              0.8888888888888888,
              "#b5de2b"
             ],
             [
              1.0,
              "#fde725"
             ]
            ],
            "type": "histogram2d"
           }
          ],
          "histogram": [
           {
            "marker": {
             "line": {
              "color": "white",
              "width": 0.6
             }
            },
            "type": "histogram"
           }
          ],
          "mesh3d": [
           {
            "colorbar": {
             "outlinewidth": 1,
             "tickcolor": "rgb(36,36,36)",
             "ticks": "outside"
            },
            "type": "mesh3d"
           }
          ],
          "parcoords": [
           {
            "line": {
             "colorbar": {
              "outlinewidth": 1,
              "tickcolor": "rgb(36,36,36)",
              "ticks": "outside"
             }
            },
            "type": "parcoords"
           }
          ],
          "pie": [
           {
            "automargin": true,
            "type": "pie"
           }
          ],
          "scatter3d": [
           {
            "line": {
             "colorbar": {
              "outlinewidth": 1,
              "tickcolor": "rgb(36,36,36)",
              "ticks": "outside"
             }
            },
            "marker": {
             "colorbar": {
              "outlinewidth": 1,
              "tickcolor": "rgb(36,36,36)",
              "ticks": "outside"
             }
            },
            "type": "scatter3d"
           }
          ],
          "scattercarpet": [
           {
            "marker": {
             "colorbar": {
              "outlinewidth": 1,
              "tickcolor": "rgb(36,36,36)",
              "ticks": "outside"
             }
            },
            "type": "scattercarpet"
           }
          ],
          "scattergeo": [
           {
            "marker": {
             "colorbar": {
              "outlinewidth": 1,
              "tickcolor": "rgb(36,36,36)",
              "ticks": "outside"
             }
            },
            "type": "scattergeo"
           }
          ],
          "scattergl": [
           {
            "marker": {
             "colorbar": {
              "outlinewidth": 1,
              "tickcolor": "rgb(36,36,36)",
              "ticks": "outside"
             }
            },
            "type": "scattergl"
           }
          ],
          "scattermapbox": [
           {
            "marker": {
             "colorbar": {
              "outlinewidth": 1,
              "tickcolor": "rgb(36,36,36)",
              "ticks": "outside"
             }
            },
            "type": "scattermapbox"
           }
          ],
          "scatterpolargl": [
           {
            "marker": {
             "colorbar": {
              "outlinewidth": 1,
              "tickcolor": "rgb(36,36,36)",
              "ticks": "outside"
             }
            },
            "type": "scatterpolargl"
           }
          ],
          "scatterpolar": [
           {
            "marker": {
             "colorbar": {
              "outlinewidth": 1,
              "tickcolor": "rgb(36,36,36)",
              "ticks": "outside"
             }
            },
            "type": "scatterpolar"
           }
          ],
          "scatter": [
           {
            "fillpattern": {
             "fillmode": "overlay",
             "size": 10,
             "solidity": 0.2
            },
            "type": "scatter"
           }
          ],
          "scatterternary": [
           {
            "marker": {
             "colorbar": {
              "outlinewidth": 1,
              "tickcolor": "rgb(36,36,36)",
              "ticks": "outside"
             }
            },
            "type": "scatterternary"
           }
          ],
          "surface": [
           {
            "colorbar": {
             "outlinewidth": 1,
             "tickcolor": "rgb(36,36,36)",
             "ticks": "outside"
            },
            "colorscale": [
             [
              0.0,
              "#440154"
             ],
             [
              0.1111111111111111,
              "#482878"
             ],
             [
              0.2222222222222222,
              "#3e4989"
             ],
             [
              0.3333333333333333,
              "#31688e"
             ],
             [
              0.4444444444444444,
              "#26828e"
             ],
             [
              0.5555555555555556,
              "#1f9e89"
             ],
             [
              0.6666666666666666,
              "#35b779"
             ],
             [
              0.7777777777777778,
              "#6ece58"
             ],
             [
              0.8888888888888888,
              "#b5de2b"
             ],
             [
              1.0,
              "#fde725"
             ]
            ],
            "type": "surface"
           }
          ],
          "table": [
           {
            "cells": {
             "fill": {
              "color": "rgb(237,237,237)"
             },
             "line": {
              "color": "white"
             }
            },
            "header": {
             "fill": {
              "color": "rgb(217,217,217)"
             },
             "line": {
              "color": "white"
             }
            },
            "type": "table"
           }
          ]
         },
         "layout": {
          "annotationdefaults": {
           "arrowhead": 0,
           "arrowwidth": 1
          },
          "autotypenumbers": "strict",
          "coloraxis": {
           "colorbar": {
            "outlinewidth": 1,
            "tickcolor": "rgb(36,36,36)",
            "ticks": "outside"
           }
          },
          "colorscale": {
           "diverging": [
            [
             0.0,
             "rgb(103,0,31)"
            ],
            [
             0.1,
             "rgb(178,24,43)"
            ],
            [
             0.2,
             "rgb(214,96,77)"
            ],
            [
             0.3,
             "rgb(244,165,130)"
            ],
            [
             0.4,
             "rgb(253,219,199)"
            ],
            [
             0.5,
             "rgb(247,247,247)"
            ],
            [
             0.6,
             "rgb(209,229,240)"
            ],
            [
             0.7,
             "rgb(146,197,222)"
            ],
            [
             0.8,
             "rgb(67,147,195)"
            ],
            [
             0.9,
             "rgb(33,102,172)"
            ],
            [
             1.0,
             "rgb(5,48,97)"
            ]
           ],
           "sequential": [
            [
             0.0,
             "#440154"
            ],
            [
             0.1111111111111111,
             "#482878"
            ],
            [
             0.2222222222222222,
             "#3e4989"
            ],
            [
             0.3333333333333333,
             "#31688e"
            ],
            [
             0.4444444444444444,
             "#26828e"
            ],
            [
             0.5555555555555556,
             "#1f9e89"
            ],
            [
             0.6666666666666666,
             "#35b779"
            ],
            [
             0.7777777777777778,
             "#6ece58"
            ],
            [
             0.8888888888888888,
             "#b5de2b"
            ],
            [
             1.0,
             "#fde725"
            ]
           ],
           "sequentialminus": [
            [
             0.0,
             "#440154"
            ],
            [
             0.1111111111111111,
             "#482878"
            ],
            [
             0.2222222222222222,
             "#3e4989"
            ],
            [
             0.3333333333333333,
             "#31688e"
            ],
            [
             0.4444444444444444,
             "#26828e"
            ],
            [
             0.5555555555555556,
             "#1f9e89"
            ],
            [
             0.6666666666666666,
             "#35b779"
            ],
            [
             0.7777777777777778,
             "#6ece58"
            ],
            [
             0.8888888888888888,
             "#b5de2b"
            ],
            [
             1.0,
             "#fde725"
            ]
           ]
          },
          "colorway": [
           "#1F77B4",
           "#FF7F0E",
           "#2CA02C",
           "#D62728",
           "#9467BD",
           "#8C564B",
           "#E377C2",
           "#7F7F7F",
           "#BCBD22",
           "#17BECF"
          ],
          "font": {
           "color": "rgb(36,36,36)"
          },
          "geo": {
           "bgcolor": "white",
           "lakecolor": "white",
           "landcolor": "white",
           "showlakes": true,
           "showland": true,
           "subunitcolor": "white"
          },
          "hoverlabel": {
           "align": "left"
          },
          "hovermode": "closest",
          "mapbox": {
           "style": "light"
          },
          "paper_bgcolor": "white",
          "plot_bgcolor": "white",
          "polar": {
           "angularaxis": {
            "gridcolor": "rgb(232,232,232)",
            "linecolor": "rgb(36,36,36)",
            "showgrid": false,
            "showline": true,
            "ticks": "outside"
           },
           "bgcolor": "white",
           "radialaxis": {
            "gridcolor": "rgb(232,232,232)",
            "linecolor": "rgb(36,36,36)",
            "showgrid": false,
            "showline": true,
            "ticks": "outside"
           }
          },
          "scene": {
           "xaxis": {
            "backgroundcolor": "white",
            "gridcolor": "rgb(232,232,232)",
            "gridwidth": 2,
            "linecolor": "rgb(36,36,36)",
            "showbackground": true,
            "showgrid": false,
            "showline": true,
            "ticks": "outside",
            "zeroline": false,
            "zerolinecolor": "rgb(36,36,36)"
           },
           "yaxis": {
            "backgroundcolor": "white",
            "gridcolor": "rgb(232,232,232)",
            "gridwidth": 2,
            "linecolor": "rgb(36,36,36)",
            "showbackground": true,
            "showgrid": false,
            "showline": true,
            "ticks": "outside",
            "zeroline": false,
            "zerolinecolor": "rgb(36,36,36)"
           },
           "zaxis": {
            "backgroundcolor": "white",
            "gridcolor": "rgb(232,232,232)",
            "gridwidth": 2,
            "linecolor": "rgb(36,36,36)",
            "showbackground": true,
            "showgrid": false,
            "showline": true,
            "ticks": "outside",
            "zeroline": false,
            "zerolinecolor": "rgb(36,36,36)"
           }
          },
          "shapedefaults": {
           "fillcolor": "black",
           "line": {
            "width": 0
           },
           "opacity": 0.3
          },
          "ternary": {
           "aaxis": {
            "gridcolor": "rgb(232,232,232)",
            "linecolor": "rgb(36,36,36)",
            "showgrid": false,
            "showline": true,
            "ticks": "outside"
           },
           "baxis": {
            "gridcolor": "rgb(232,232,232)",
            "linecolor": "rgb(36,36,36)",
            "showgrid": false,
            "showline": true,
            "ticks": "outside"
           },
           "bgcolor": "white",
           "caxis": {
            "gridcolor": "rgb(232,232,232)",
            "linecolor": "rgb(36,36,36)",
            "showgrid": false,
            "showline": true,
            "ticks": "outside"
           }
          },
          "title": {
           "x": 0.05
          },
          "xaxis": {
           "automargin": true,
           "gridcolor": "rgb(232,232,232)",
           "linecolor": "rgb(36,36,36)",
           "showgrid": false,
           "showline": true,
           "ticks": "outside",
           "title": {
            "standoff": 15
           },
           "zeroline": false,
           "zerolinecolor": "rgb(36,36,36)"
          },
          "yaxis": {
           "automargin": true,
           "gridcolor": "rgb(232,232,232)",
           "linecolor": "rgb(36,36,36)",
           "showgrid": false,
           "showline": true,
           "ticks": "outside",
           "title": {
            "standoff": 15
           },
           "zeroline": false,
           "zerolinecolor": "rgb(36,36,36)"
          }
         }
        },
        "font": {
         "family": "San Serif"
        },
        "title": {
         "text": "Gender of the patient",
         "font": {
          "size": 20
         }
        },
        "legend": {
         "orientation": "v",
         "y": 1,
         "yanchor": "top",
         "x": 1.2,
         "xanchor": "right"
        },
        "width": 600,
        "height": 400,
        "xaxis": {
         "categoryorder": "total descending"
        }
       },
       "config": {
        "plotlyServerURL": "https://plot.ly"
       }
      },
      "text/html": [
       "<div>                            <div id=\"baa03db4-2530-424b-b2c2-6803ec6b1eb8\" class=\"plotly-graph-div\" style=\"height:400px; width:600px;\"></div>            <script type=\"text/javascript\">                require([\"plotly\"], function(Plotly) {                    window.PLOTLYENV=window.PLOTLYENV || {};                                    if (document.getElementById(\"baa03db4-2530-424b-b2c2-6803ec6b1eb8\")) {                    Plotly.newPlot(                        \"baa03db4-2530-424b-b2c2-6803ec6b1eb8\",                        [{\"histnorm\":\"percent\",\"marker\":{\"color\":\"purple\"},\"name\":\"ASD_pos\",\"x\":[\"f\",\"f\",\"f\",\"f\",\"f\",\"f\",\"f\",\"m\",\"m\",\"f\",\"m\",\"m\",\"f\",\"f\",\"f\",\"f\",\"m\",\"f\",\"f\",\"m\",\"f\",\"f\",\"m\",\"f\",\"f\",\"f\",\"f\",\"m\",\"f\",\"m\",\"f\",\"m\",\"m\",\"f\",\"m\",\"f\",\"f\",\"m\",\"f\",\"f\",\"m\",\"f\",\"m\",\"m\",\"f\",\"f\",\"f\",\"f\",\"m\",\"f\",\"m\",\"f\",\"m\",\"m\",\"m\",\"f\",\"f\",\"f\",\"m\",\"m\",\"m\",\"m\",\"m\",\"m\",\"m\",\"m\",\"m\",\"m\",\"f\",\"m\",\"m\",\"f\",\"m\",\"f\",\"f\",\"f\",\"f\",\"f\",\"f\",\"f\",\"f\",\"f\",\"f\",\"f\",\"f\",\"f\",\"f\",\"f\",\"m\",\"m\",\"m\",\"f\",\"f\",\"m\",\"f\",\"f\",\"m\",\"f\",\"m\",\"f\",\"f\",\"f\",\"m\",\"m\",\"f\",\"m\",\"f\",\"f\",\"f\",\"f\",\"f\",\"m\",\"f\",\"f\",\"m\",\"f\",\"f\",\"f\",\"m\",\"f\",\"f\",\"f\",\"f\",\"f\",\"f\",\"f\",\"f\",\"m\",\"f\",\"f\",\"f\",\"f\",\"f\",\"f\",\"m\",\"f\",\"f\",\"m\",\"m\",\"f\",\"f\",\"f\",\"f\",\"f\",\"f\",\"m\",\"f\",\"f\",\"f\",\"f\",\"m\",\"f\",\"m\",\"f\",\"f\",\"m\",\"m\",\"f\",\"m\",\"m\",\"m\",\"f\",\"f\",\"f\",\"m\",\"f\",\"m\",\"f\",\"m\",\"m\",\"m\",\"m\",\"m\",\"f\",\"m\",\"f\",\"f\",\"f\",\"f\",\"f\",\"f\",\"f\",\"m\",\"f\",\"m\"],\"type\":\"histogram\"},{\"histnorm\":\"percent\",\"marker\":{\"color\":\"salmon\"},\"name\":\"ASD_neg\",\"opacity\":0.85,\"x\":[\"f\",\"f\",\"f\",\"m\",\"m\",\"f\",\"m\",\"m\",\"f\",\"m\",\"f\",\"f\",\"m\",\"f\",\"m\",\"m\",\"f\",\"m\",\"m\",\"f\",\"m\",\"m\",\"f\",\"m\",\"f\",\"m\",\"m\",\"m\",\"m\",\"m\",\"f\",\"f\",\"f\",\"f\",\"f\",\"m\",\"m\",\"m\",\"f\",\"m\",\"f\",\"m\",\"m\",\"m\",\"f\",\"f\",\"m\",\"f\",\"f\",\"f\",\"m\",\"f\",\"m\",\"f\",\"f\",\"m\",\"f\",\"m\",\"m\",\"m\",\"f\",\"m\",\"f\",\"m\",\"f\",\"m\",\"f\",\"m\",\"m\",\"m\",\"f\",\"f\",\"f\",\"f\",\"f\",\"f\",\"f\",\"m\",\"m\",\"f\",\"f\",\"m\",\"f\",\"f\",\"m\",\"m\",\"m\",\"m\",\"f\",\"f\",\"f\",\"m\",\"m\",\"m\",\"f\",\"m\",\"m\",\"m\",\"m\",\"m\",\"f\",\"f\",\"m\",\"f\",\"m\",\"f\",\"m\",\"m\",\"f\",\"f\",\"m\",\"m\",\"f\",\"f\",\"m\",\"m\",\"f\",\"f\",\"m\",\"m\",\"m\",\"m\",\"m\",\"m\",\"m\",\"f\",\"m\",\"f\",\"f\",\"f\",\"f\",\"m\",\"f\",\"f\",\"m\",\"m\",\"m\",\"f\",\"m\",\"m\",\"m\",\"m\",\"m\",\"f\",\"m\",\"f\",\"f\",\"m\",\"f\",\"m\",\"f\",\"f\",\"f\",\"f\",\"f\",\"m\",\"f\",\"m\",\"f\",\"f\",\"f\",\"m\",\"m\",\"f\",\"f\",\"f\",\"f\",\"m\",\"m\",\"f\",\"m\",\"m\",\"m\",\"m\",\"f\",\"f\",\"f\",\"f\",\"m\",\"f\",\"f\",\"m\",\"m\",\"f\",\"m\",\"f\",\"f\",\"f\",\"m\",\"f\",\"f\",\"m\",\"m\",\"f\",\"f\",\"m\",\"m\",\"m\",\"m\",\"f\",\"f\",\"m\",\"f\",\"m\",\"m\",\"m\",\"f\",\"f\",\"f\",\"m\",\"m\",\"f\",\"m\",\"m\",\"m\",\"m\",\"f\",\"f\",\"m\",\"f\",\"f\",\"f\",\"f\",\"f\",\"m\",\"f\",\"m\",\"m\",\"m\",\"m\",\"m\",\"m\",\"m\",\"f\",\"m\",\"f\",\"m\",\"f\",\"m\",\"m\",\"m\",\"f\",\"f\",\"f\",\"m\",\"m\",\"m\",\"m\",\"m\",\"f\",\"m\",\"f\",\"m\",\"m\",\"f\",\"f\",\"f\",\"m\",\"m\",\"f\",\"f\",\"m\",\"f\",\"m\",\"f\",\"f\",\"m\",\"m\",\"m\",\"m\",\"m\",\"f\",\"f\",\"f\",\"f\",\"m\",\"f\",\"f\",\"m\",\"f\",\"m\",\"m\",\"m\",\"f\",\"f\",\"m\",\"f\",\"m\",\"f\",\"f\",\"f\",\"f\",\"m\",\"f\",\"m\",\"m\",\"f\",\"f\",\"f\",\"f\",\"m\",\"m\",\"m\",\"f\",\"m\",\"f\",\"f\",\"m\",\"f\",\"m\",\"f\",\"f\",\"m\",\"f\",\"m\",\"f\",\"m\",\"m\",\"m\",\"m\",\"f\",\"f\",\"f\",\"f\",\"m\",\"f\",\"f\",\"m\",\"m\",\"m\",\"f\",\"m\",\"f\",\"f\",\"f\",\"m\",\"m\",\"f\",\"m\",\"m\",\"m\",\"m\",\"m\",\"m\",\"f\",\"m\",\"f\",\"f\",\"m\",\"f\",\"m\",\"f\",\"m\",\"f\",\"f\",\"m\",\"m\",\"f\",\"f\",\"f\",\"m\",\"m\",\"m\",\"m\",\"m\",\"f\",\"f\",\"m\",\"f\",\"m\",\"f\",\"m\",\"f\",\"m\",\"m\",\"m\",\"m\",\"m\",\"f\",\"f\",\"f\",\"f\",\"f\",\"f\",\"m\",\"m\",\"m\",\"m\",\"f\",\"f\",\"m\",\"f\",\"m\",\"f\",\"m\",\"f\",\"f\",\"f\",\"f\",\"f\",\"f\",\"f\",\"m\",\"f\",\"f\",\"f\",\"m\",\"f\",\"f\",\"m\",\"m\",\"f\",\"f\",\"m\",\"m\",\"f\",\"m\",\"m\",\"m\",\"f\",\"m\",\"m\",\"f\",\"f\",\"m\",\"m\",\"m\",\"f\",\"f\",\"f\",\"m\",\"m\",\"m\",\"m\",\"f\",\"m\",\"m\",\"f\",\"f\",\"f\",\"f\",\"f\",\"f\",\"f\",\"f\",\"m\",\"m\",\"m\",\"f\",\"f\",\"m\",\"f\",\"m\",\"m\",\"m\",\"m\",\"f\",\"m\",\"m\",\"f\",\"m\",\"f\",\"m\",\"f\",\"f\",\"m\",\"f\",\"f\",\"f\",\"m\",\"f\",\"f\",\"f\",\"m\",\"m\",\"f\",\"f\",\"f\",\"f\",\"f\",\"m\",\"m\",\"f\",\"f\",\"f\",\"m\",\"m\",\"f\",\"m\",\"m\",\"m\",\"m\",\"m\",\"m\",\"m\",\"f\",\"f\",\"m\",\"m\",\"f\",\"f\",\"f\",\"m\",\"m\",\"f\",\"m\",\"m\",\"m\",\"f\",\"f\",\"m\",\"f\",\"f\",\"m\",\"m\",\"m\",\"f\",\"f\",\"m\",\"m\",\"m\",\"m\",\"f\",\"f\",\"m\",\"f\",\"m\",\"f\",\"m\",\"m\",\"m\",\"f\",\"m\",\"m\",\"m\",\"f\",\"f\",\"f\",\"m\",\"m\",\"m\",\"m\",\"f\",\"f\",\"m\",\"f\",\"m\",\"f\",\"m\",\"m\",\"m\",\"m\",\"f\",\"m\",\"f\",\"f\",\"f\",\"f\",\"m\",\"f\",\"f\",\"f\",\"f\",\"m\",\"m\",\"m\",\"m\",\"m\",\"f\",\"f\",\"f\",\"f\",\"m\",\"m\",\"f\",\"m\",\"f\",\"m\",\"m\",\"m\",\"f\",\"m\",\"m\",\"m\",\"f\",\"f\",\"m\",\"m\",\"m\",\"f\",\"m\",\"m\",\"m\",\"f\",\"f\",\"m\",\"m\",\"m\",\"f\",\"m\",\"f\",\"m\",\"m\",\"f\",\"f\",\"m\",\"m\",\"m\",\"f\",\"m\",\"f\",\"m\",\"f\",\"f\",\"f\"],\"type\":\"histogram\"}],                        {\"template\":{\"data\":{\"barpolar\":[{\"marker\":{\"line\":{\"color\":\"white\",\"width\":0.5},\"pattern\":{\"fillmode\":\"overlay\",\"size\":10,\"solidity\":0.2}},\"type\":\"barpolar\"}],\"bar\":[{\"error_x\":{\"color\":\"rgb(36,36,36)\"},\"error_y\":{\"color\":\"rgb(36,36,36)\"},\"marker\":{\"line\":{\"color\":\"white\",\"width\":0.5},\"pattern\":{\"fillmode\":\"overlay\",\"size\":10,\"solidity\":0.2}},\"type\":\"bar\"}],\"carpet\":[{\"aaxis\":{\"endlinecolor\":\"rgb(36,36,36)\",\"gridcolor\":\"white\",\"linecolor\":\"white\",\"minorgridcolor\":\"white\",\"startlinecolor\":\"rgb(36,36,36)\"},\"baxis\":{\"endlinecolor\":\"rgb(36,36,36)\",\"gridcolor\":\"white\",\"linecolor\":\"white\",\"minorgridcolor\":\"white\",\"startlinecolor\":\"rgb(36,36,36)\"},\"type\":\"carpet\"}],\"choropleth\":[{\"colorbar\":{\"outlinewidth\":1,\"tickcolor\":\"rgb(36,36,36)\",\"ticks\":\"outside\"},\"type\":\"choropleth\"}],\"contourcarpet\":[{\"colorbar\":{\"outlinewidth\":1,\"tickcolor\":\"rgb(36,36,36)\",\"ticks\":\"outside\"},\"type\":\"contourcarpet\"}],\"contour\":[{\"colorbar\":{\"outlinewidth\":1,\"tickcolor\":\"rgb(36,36,36)\",\"ticks\":\"outside\"},\"colorscale\":[[0.0,\"#440154\"],[0.1111111111111111,\"#482878\"],[0.2222222222222222,\"#3e4989\"],[0.3333333333333333,\"#31688e\"],[0.4444444444444444,\"#26828e\"],[0.5555555555555556,\"#1f9e89\"],[0.6666666666666666,\"#35b779\"],[0.7777777777777778,\"#6ece58\"],[0.8888888888888888,\"#b5de2b\"],[1.0,\"#fde725\"]],\"type\":\"contour\"}],\"heatmapgl\":[{\"colorbar\":{\"outlinewidth\":1,\"tickcolor\":\"rgb(36,36,36)\",\"ticks\":\"outside\"},\"colorscale\":[[0.0,\"#440154\"],[0.1111111111111111,\"#482878\"],[0.2222222222222222,\"#3e4989\"],[0.3333333333333333,\"#31688e\"],[0.4444444444444444,\"#26828e\"],[0.5555555555555556,\"#1f9e89\"],[0.6666666666666666,\"#35b779\"],[0.7777777777777778,\"#6ece58\"],[0.8888888888888888,\"#b5de2b\"],[1.0,\"#fde725\"]],\"type\":\"heatmapgl\"}],\"heatmap\":[{\"colorbar\":{\"outlinewidth\":1,\"tickcolor\":\"rgb(36,36,36)\",\"ticks\":\"outside\"},\"colorscale\":[[0.0,\"#440154\"],[0.1111111111111111,\"#482878\"],[0.2222222222222222,\"#3e4989\"],[0.3333333333333333,\"#31688e\"],[0.4444444444444444,\"#26828e\"],[0.5555555555555556,\"#1f9e89\"],[0.6666666666666666,\"#35b779\"],[0.7777777777777778,\"#6ece58\"],[0.8888888888888888,\"#b5de2b\"],[1.0,\"#fde725\"]],\"type\":\"heatmap\"}],\"histogram2dcontour\":[{\"colorbar\":{\"outlinewidth\":1,\"tickcolor\":\"rgb(36,36,36)\",\"ticks\":\"outside\"},\"colorscale\":[[0.0,\"#440154\"],[0.1111111111111111,\"#482878\"],[0.2222222222222222,\"#3e4989\"],[0.3333333333333333,\"#31688e\"],[0.4444444444444444,\"#26828e\"],[0.5555555555555556,\"#1f9e89\"],[0.6666666666666666,\"#35b779\"],[0.7777777777777778,\"#6ece58\"],[0.8888888888888888,\"#b5de2b\"],[1.0,\"#fde725\"]],\"type\":\"histogram2dcontour\"}],\"histogram2d\":[{\"colorbar\":{\"outlinewidth\":1,\"tickcolor\":\"rgb(36,36,36)\",\"ticks\":\"outside\"},\"colorscale\":[[0.0,\"#440154\"],[0.1111111111111111,\"#482878\"],[0.2222222222222222,\"#3e4989\"],[0.3333333333333333,\"#31688e\"],[0.4444444444444444,\"#26828e\"],[0.5555555555555556,\"#1f9e89\"],[0.6666666666666666,\"#35b779\"],[0.7777777777777778,\"#6ece58\"],[0.8888888888888888,\"#b5de2b\"],[1.0,\"#fde725\"]],\"type\":\"histogram2d\"}],\"histogram\":[{\"marker\":{\"line\":{\"color\":\"white\",\"width\":0.6}},\"type\":\"histogram\"}],\"mesh3d\":[{\"colorbar\":{\"outlinewidth\":1,\"tickcolor\":\"rgb(36,36,36)\",\"ticks\":\"outside\"},\"type\":\"mesh3d\"}],\"parcoords\":[{\"line\":{\"colorbar\":{\"outlinewidth\":1,\"tickcolor\":\"rgb(36,36,36)\",\"ticks\":\"outside\"}},\"type\":\"parcoords\"}],\"pie\":[{\"automargin\":true,\"type\":\"pie\"}],\"scatter3d\":[{\"line\":{\"colorbar\":{\"outlinewidth\":1,\"tickcolor\":\"rgb(36,36,36)\",\"ticks\":\"outside\"}},\"marker\":{\"colorbar\":{\"outlinewidth\":1,\"tickcolor\":\"rgb(36,36,36)\",\"ticks\":\"outside\"}},\"type\":\"scatter3d\"}],\"scattercarpet\":[{\"marker\":{\"colorbar\":{\"outlinewidth\":1,\"tickcolor\":\"rgb(36,36,36)\",\"ticks\":\"outside\"}},\"type\":\"scattercarpet\"}],\"scattergeo\":[{\"marker\":{\"colorbar\":{\"outlinewidth\":1,\"tickcolor\":\"rgb(36,36,36)\",\"ticks\":\"outside\"}},\"type\":\"scattergeo\"}],\"scattergl\":[{\"marker\":{\"colorbar\":{\"outlinewidth\":1,\"tickcolor\":\"rgb(36,36,36)\",\"ticks\":\"outside\"}},\"type\":\"scattergl\"}],\"scattermapbox\":[{\"marker\":{\"colorbar\":{\"outlinewidth\":1,\"tickcolor\":\"rgb(36,36,36)\",\"ticks\":\"outside\"}},\"type\":\"scattermapbox\"}],\"scatterpolargl\":[{\"marker\":{\"colorbar\":{\"outlinewidth\":1,\"tickcolor\":\"rgb(36,36,36)\",\"ticks\":\"outside\"}},\"type\":\"scatterpolargl\"}],\"scatterpolar\":[{\"marker\":{\"colorbar\":{\"outlinewidth\":1,\"tickcolor\":\"rgb(36,36,36)\",\"ticks\":\"outside\"}},\"type\":\"scatterpolar\"}],\"scatter\":[{\"fillpattern\":{\"fillmode\":\"overlay\",\"size\":10,\"solidity\":0.2},\"type\":\"scatter\"}],\"scatterternary\":[{\"marker\":{\"colorbar\":{\"outlinewidth\":1,\"tickcolor\":\"rgb(36,36,36)\",\"ticks\":\"outside\"}},\"type\":\"scatterternary\"}],\"surface\":[{\"colorbar\":{\"outlinewidth\":1,\"tickcolor\":\"rgb(36,36,36)\",\"ticks\":\"outside\"},\"colorscale\":[[0.0,\"#440154\"],[0.1111111111111111,\"#482878\"],[0.2222222222222222,\"#3e4989\"],[0.3333333333333333,\"#31688e\"],[0.4444444444444444,\"#26828e\"],[0.5555555555555556,\"#1f9e89\"],[0.6666666666666666,\"#35b779\"],[0.7777777777777778,\"#6ece58\"],[0.8888888888888888,\"#b5de2b\"],[1.0,\"#fde725\"]],\"type\":\"surface\"}],\"table\":[{\"cells\":{\"fill\":{\"color\":\"rgb(237,237,237)\"},\"line\":{\"color\":\"white\"}},\"header\":{\"fill\":{\"color\":\"rgb(217,217,217)\"},\"line\":{\"color\":\"white\"}},\"type\":\"table\"}]},\"layout\":{\"annotationdefaults\":{\"arrowhead\":0,\"arrowwidth\":1},\"autotypenumbers\":\"strict\",\"coloraxis\":{\"colorbar\":{\"outlinewidth\":1,\"tickcolor\":\"rgb(36,36,36)\",\"ticks\":\"outside\"}},\"colorscale\":{\"diverging\":[[0.0,\"rgb(103,0,31)\"],[0.1,\"rgb(178,24,43)\"],[0.2,\"rgb(214,96,77)\"],[0.3,\"rgb(244,165,130)\"],[0.4,\"rgb(253,219,199)\"],[0.5,\"rgb(247,247,247)\"],[0.6,\"rgb(209,229,240)\"],[0.7,\"rgb(146,197,222)\"],[0.8,\"rgb(67,147,195)\"],[0.9,\"rgb(33,102,172)\"],[1.0,\"rgb(5,48,97)\"]],\"sequential\":[[0.0,\"#440154\"],[0.1111111111111111,\"#482878\"],[0.2222222222222222,\"#3e4989\"],[0.3333333333333333,\"#31688e\"],[0.4444444444444444,\"#26828e\"],[0.5555555555555556,\"#1f9e89\"],[0.6666666666666666,\"#35b779\"],[0.7777777777777778,\"#6ece58\"],[0.8888888888888888,\"#b5de2b\"],[1.0,\"#fde725\"]],\"sequentialminus\":[[0.0,\"#440154\"],[0.1111111111111111,\"#482878\"],[0.2222222222222222,\"#3e4989\"],[0.3333333333333333,\"#31688e\"],[0.4444444444444444,\"#26828e\"],[0.5555555555555556,\"#1f9e89\"],[0.6666666666666666,\"#35b779\"],[0.7777777777777778,\"#6ece58\"],[0.8888888888888888,\"#b5de2b\"],[1.0,\"#fde725\"]]},\"colorway\":[\"#1F77B4\",\"#FF7F0E\",\"#2CA02C\",\"#D62728\",\"#9467BD\",\"#8C564B\",\"#E377C2\",\"#7F7F7F\",\"#BCBD22\",\"#17BECF\"],\"font\":{\"color\":\"rgb(36,36,36)\"},\"geo\":{\"bgcolor\":\"white\",\"lakecolor\":\"white\",\"landcolor\":\"white\",\"showlakes\":true,\"showland\":true,\"subunitcolor\":\"white\"},\"hoverlabel\":{\"align\":\"left\"},\"hovermode\":\"closest\",\"mapbox\":{\"style\":\"light\"},\"paper_bgcolor\":\"white\",\"plot_bgcolor\":\"white\",\"polar\":{\"angularaxis\":{\"gridcolor\":\"rgb(232,232,232)\",\"linecolor\":\"rgb(36,36,36)\",\"showgrid\":false,\"showline\":true,\"ticks\":\"outside\"},\"bgcolor\":\"white\",\"radialaxis\":{\"gridcolor\":\"rgb(232,232,232)\",\"linecolor\":\"rgb(36,36,36)\",\"showgrid\":false,\"showline\":true,\"ticks\":\"outside\"}},\"scene\":{\"xaxis\":{\"backgroundcolor\":\"white\",\"gridcolor\":\"rgb(232,232,232)\",\"gridwidth\":2,\"linecolor\":\"rgb(36,36,36)\",\"showbackground\":true,\"showgrid\":false,\"showline\":true,\"ticks\":\"outside\",\"zeroline\":false,\"zerolinecolor\":\"rgb(36,36,36)\"},\"yaxis\":{\"backgroundcolor\":\"white\",\"gridcolor\":\"rgb(232,232,232)\",\"gridwidth\":2,\"linecolor\":\"rgb(36,36,36)\",\"showbackground\":true,\"showgrid\":false,\"showline\":true,\"ticks\":\"outside\",\"zeroline\":false,\"zerolinecolor\":\"rgb(36,36,36)\"},\"zaxis\":{\"backgroundcolor\":\"white\",\"gridcolor\":\"rgb(232,232,232)\",\"gridwidth\":2,\"linecolor\":\"rgb(36,36,36)\",\"showbackground\":true,\"showgrid\":false,\"showline\":true,\"ticks\":\"outside\",\"zeroline\":false,\"zerolinecolor\":\"rgb(36,36,36)\"}},\"shapedefaults\":{\"fillcolor\":\"black\",\"line\":{\"width\":0},\"opacity\":0.3},\"ternary\":{\"aaxis\":{\"gridcolor\":\"rgb(232,232,232)\",\"linecolor\":\"rgb(36,36,36)\",\"showgrid\":false,\"showline\":true,\"ticks\":\"outside\"},\"baxis\":{\"gridcolor\":\"rgb(232,232,232)\",\"linecolor\":\"rgb(36,36,36)\",\"showgrid\":false,\"showline\":true,\"ticks\":\"outside\"},\"bgcolor\":\"white\",\"caxis\":{\"gridcolor\":\"rgb(232,232,232)\",\"linecolor\":\"rgb(36,36,36)\",\"showgrid\":false,\"showline\":true,\"ticks\":\"outside\"}},\"title\":{\"x\":0.05},\"xaxis\":{\"automargin\":true,\"gridcolor\":\"rgb(232,232,232)\",\"linecolor\":\"rgb(36,36,36)\",\"showgrid\":false,\"showline\":true,\"ticks\":\"outside\",\"title\":{\"standoff\":15},\"zeroline\":false,\"zerolinecolor\":\"rgb(36,36,36)\"},\"yaxis\":{\"automargin\":true,\"gridcolor\":\"rgb(232,232,232)\",\"linecolor\":\"rgb(36,36,36)\",\"showgrid\":false,\"showline\":true,\"ticks\":\"outside\",\"title\":{\"standoff\":15},\"zeroline\":false,\"zerolinecolor\":\"rgb(36,36,36)\"}}},\"font\":{\"family\":\"San Serif\"},\"title\":{\"text\":\"Gender of the patient\",\"font\":{\"size\":20}},\"legend\":{\"orientation\":\"v\",\"y\":1,\"yanchor\":\"top\",\"x\":1.2,\"xanchor\":\"right\"},\"width\":600,\"height\":400,\"xaxis\":{\"categoryorder\":\"total descending\"}},                        {\"responsive\": true}                    ).then(function(){\n",
       "                            \n",
       "var gd = document.getElementById('baa03db4-2530-424b-b2c2-6803ec6b1eb8');\n",
       "var x = new MutationObserver(function (mutations, observer) {{\n",
       "        var display = window.getComputedStyle(gd).display;\n",
       "        if (!display || display === 'none') {{\n",
       "            console.log([gd, 'removed!']);\n",
       "            Plotly.purge(gd);\n",
       "            observer.disconnect();\n",
       "        }}\n",
       "}});\n",
       "\n",
       "// Listen for the removal of the full notebook cells\n",
       "var notebookContainer = gd.closest('#notebook-container');\n",
       "if (notebookContainer) {{\n",
       "    x.observe(notebookContainer, {childList: true});\n",
       "}}\n",
       "\n",
       "// Listen for the clearing of the current output cell\n",
       "var outputEl = gd.closest('.output');\n",
       "if (outputEl) {{\n",
       "    x.observe(outputEl, {childList: true});\n",
       "}}\n",
       "\n",
       "                        })                };                });            </script>        </div>"
      ]
     },
     "metadata": {},
     "output_type": "display_data"
    }
   ],
   "execution_count": 41
  },
  {
   "metadata": {},
   "cell_type": "markdown",
   "source": [
    "### Etnik Köken\n",
    "- Veride \"?\" ve diğerleri dahil olmak üzere 11 etnik kategori bulunmaktadır.\n",
    "- En büyük gruplar sırasıyla Beyaz-Avrupalı, \"?\", Asyalı ve Orta Doğulu.\n",
    "- ASD pozitif kişiler arasında Beyaz-Avrupalılar %58 ile çoğunluktayken, toplam örneğin (eğitim verisi) sadece %26'sını oluşturur. İkinci sırada %9 ile Asyalılar, üçüncü sırada ise %8 ile Latinler ve \"?\" yer alır."
   ],
   "id": "3b30608f6516eca5"
  },
  {
   "metadata": {
    "ExecuteTime": {
     "end_time": "2024-05-30T18:51:42.094413Z",
     "start_time": "2024-05-30T18:51:41.985406Z"
    }
   },
   "cell_type": "code",
   "source": [
    "fig = px.histogram(train, x=\"ethnicity\",\n",
    "                   width=600,\n",
    "                   height=400,\n",
    "                   histnorm='percent',\n",
    "                   template=\"simple_white\"\n",
    "                   )\n",
    "\n",
    "fig.update_layout(title=\"Ethnic group of the patient\",\n",
    "                  font_family=\"San Serif\",\n",
    "                  titlefont={'size': 20},\n",
    "                  legend=dict(\n",
    "                      orientation=\"v\", y=1, yanchor=\"top\", x=1.0, xanchor=\"right\" )\n",
    "                  ).update_xaxes(categoryorder='total descending') # ordering the x-axis values\n",
    "#custom color\n",
    "colors = ['lightgray',] * 15\n",
    "colors[1] = 'crimson'\n",
    "colors[0] = 'lightseagreen'\n",
    "\n",
    "\n",
    "fig.update_traces(marker_color=colors,\n",
    "                  )\n",
    "fig.show()\n",
    "\n",
    "fig = go.Figure()\n",
    "fig.add_trace(go.Histogram(x=ASD_pos['ethnicity'],histnorm='percent',\n",
    "                           name='ASD_pos', marker_color = 'purple'),\n",
    "              )\n",
    "fig.add_trace(go.Histogram(x=ASD_neg['ethnicity'],histnorm='percent',\n",
    "                           name='ASD_neg', marker_color = 'salmon', opacity=0.85),\n",
    "              )\n",
    "\n",
    "fig.update_layout(title=\"Ethnic group of the patient\",\n",
    "                  font_family=\"San Serif\",\n",
    "                  titlefont={'size': 20},\n",
    "                  template='simple_white',\n",
    "                  width=600,\n",
    "                  height=400,\n",
    "                  legend=dict(\n",
    "                      orientation=\"v\", y=1, yanchor=\"top\", x=1.0, xanchor=\"right\" )\n",
    "                  ).update_xaxes(categoryorder='total descending')\n",
    "\n",
    "fig.show()"
   ],
   "id": "9edd8c56f84bf2b2",
   "outputs": [
    {
     "data": {
      "application/vnd.plotly.v1+json": {
       "data": [
        {
         "alignmentgroup": "True",
         "bingroup": "x",
         "histnorm": "percent",
         "hovertemplate": "ethnicity=%{x}<br>percent=%{y}<extra></extra>",
         "legendgroup": "",
         "marker": {
          "color": [
           "lightseagreen",
           "crimson",
           "lightgray",
           "lightgray",
           "lightgray",
           "lightgray",
           "lightgray",
           "lightgray",
           "lightgray",
           "lightgray",
           "lightgray",
           "lightgray",
           "lightgray",
           "lightgray",
           "lightgray"
          ],
          "pattern": {
           "shape": ""
          }
         },
         "name": "",
         "offsetgroup": "",
         "orientation": "v",
         "showlegend": false,
         "x": [
          "White-European",
          "South Asian",
          "White-European",
          "South Asian",
          "Black",
          "Asian",
          "White-European",
          "Middle Eastern ",
          "White-European",
          "?",
          "Others",
          "Middle Eastern ",
          "White-European",
          "?",
          "?",
          "Latino",
          "South Asian",
          "Middle Eastern ",
          "?",
          "Asian",
          "Middle Eastern ",
          "White-European",
          "Asian",
          "South Asian",
          "?",
          "?",
          "White-European",
          "Middle Eastern ",
          "White-European",
          "Black",
          "White-European",
          "Latino",
          "White-European",
          "Asian",
          "Latino",
          "White-European",
          "Latino",
          "?",
          "Middle Eastern ",
          "Asian",
          "South Asian",
          "White-European",
          "?",
          "?",
          "?",
          "Middle Eastern ",
          "Middle Eastern ",
          "White-European",
          "White-European",
          "Asian",
          "White-European",
          "White-European",
          "White-European",
          "Latino",
          "Black",
          "?",
          "Middle Eastern ",
          "?",
          "?",
          "?",
          "Middle Eastern ",
          "Middle Eastern ",
          "?",
          "White-European",
          "Middle Eastern ",
          "White-European",
          "White-European",
          "Middle Eastern ",
          "South Asian",
          "White-European",
          "Asian",
          "Latino",
          "Latino",
          "White-European",
          "?",
          "White-European",
          "White-European",
          "Black",
          "Turkish",
          "Latino",
          "Black",
          "White-European",
          "Others",
          "White-European",
          "Latino",
          "Asian",
          "Asian",
          "?",
          "South Asian",
          "Middle Eastern ",
          "Middle Eastern ",
          "Others",
          "White-European",
          "?",
          "Asian",
          "?",
          "Asian",
          "White-European",
          "?",
          "Asian",
          "Latino",
          "Asian",
          "Black",
          "Asian",
          "Middle Eastern ",
          "?",
          "?",
          "Asian",
          "Middle Eastern ",
          "?",
          "South Asian",
          "South Asian",
          "?",
          "Hispanic",
          "Asian",
          "?",
          "Black",
          "Middle Eastern ",
          "White-European",
          "Black",
          "White-European",
          "White-European",
          "?",
          "White-European",
          "White-European",
          "Middle Eastern ",
          "White-European",
          "?",
          "Latino",
          "Middle Eastern ",
          "White-European",
          "Middle Eastern ",
          "Latino",
          "White-European",
          "Others",
          "White-European",
          "Asian",
          "?",
          "White-European",
          "?",
          "White-European",
          "White-European",
          "White-European",
          "Asian",
          "Asian",
          "Middle Eastern ",
          "White-European",
          "Hispanic",
          "Black",
          "?",
          "Black",
          "White-European",
          "Others",
          "Asian",
          "Middle Eastern ",
          "Black",
          "Black",
          "Asian",
          "White-European",
          "Black",
          "Middle Eastern ",
          "White-European",
          "Asian",
          "Asian",
          "?",
          "Asian",
          "Middle Eastern ",
          "Asian",
          "?",
          "Asian",
          "?",
          "White-European",
          "White-European",
          "Pasifika",
          "Middle Eastern ",
          "White-European",
          "South Asian",
          "Latino",
          "?",
          "Asian",
          "White-European",
          "Pasifika",
          "Middle Eastern ",
          "Asian",
          "Asian",
          "White-European",
          "?",
          "Middle Eastern ",
          "Middle Eastern ",
          "Others",
          "Middle Eastern ",
          "South Asian",
          "Middle Eastern ",
          "?",
          "?",
          "White-European",
          "Pasifika",
          "Hispanic",
          "Black",
          "Asian",
          "White-European",
          "Black",
          "White-European",
          "Hispanic",
          "?",
          "Middle Eastern ",
          "Asian",
          "Middle Eastern ",
          "White-European",
          "Middle Eastern ",
          "?",
          "?",
          "Asian",
          "?",
          "Middle Eastern ",
          "?",
          "Black",
          "Asian",
          "?",
          "Others",
          "Asian",
          "White-European",
          "White-European",
          "?",
          "White-European",
          "Asian",
          "South Asian",
          "?",
          "Asian",
          "Middle Eastern ",
          "Middle Eastern ",
          "Latino",
          "Hispanic",
          "Asian",
          "Asian",
          "White-European",
          "White-European",
          "White-European",
          "White-European",
          "?",
          "Latino",
          "South Asian",
          "Asian",
          "Asian",
          "White-European",
          "Pasifika",
          "Middle Eastern ",
          "White-European",
          "?",
          "Asian",
          "White-European",
          "Middle Eastern ",
          "?",
          "South Asian",
          "Asian",
          "Pasifika",
          "Middle Eastern ",
          "Middle Eastern ",
          "Asian",
          "Others",
          "?",
          "Black",
          "White-European",
          "Turkish",
          "?",
          "Middle Eastern ",
          "Middle Eastern ",
          "Asian",
          "South Asian",
          "Asian",
          "Hispanic",
          "?",
          "?",
          "Others",
          "South Asian",
          "White-European",
          "Middle Eastern ",
          "White-European",
          "Middle Eastern ",
          "White-European",
          "Asian",
          "Middle Eastern ",
          "Asian",
          "White-European",
          "?",
          "?",
          "Pasifika",
          "South Asian",
          "Middle Eastern ",
          "?",
          "Middle Eastern ",
          "Asian",
          "South Asian",
          "Asian",
          "Turkish",
          "Hispanic",
          "Asian",
          "?",
          "Asian",
          "?",
          "Asian",
          "Hispanic",
          "Asian",
          "?",
          "Others",
          "?",
          "White-European",
          "White-European",
          "Middle Eastern ",
          "White-European",
          "White-European",
          "Others",
          "White-European",
          "?",
          "White-European",
          "Asian",
          "South Asian",
          "South Asian",
          "Others",
          "White-European",
          "Latino",
          "Middle Eastern ",
          "Middle Eastern ",
          "Latino",
          "White-European",
          "Pasifika",
          "Middle Eastern ",
          "?",
          "Middle Eastern ",
          "South Asian",
          "Latino",
          "Middle Eastern ",
          "?",
          "White-European",
          "?",
          "Middle Eastern ",
          "Middle Eastern ",
          "Black",
          "Latino",
          "?",
          "White-European",
          "Middle Eastern ",
          "Pasifika",
          "Asian",
          "White-European",
          "Pasifika",
          "?",
          "Asian",
          "?",
          "White-European",
          "Latino",
          "?",
          "Asian",
          "?",
          "?",
          "Black",
          "Pasifika",
          "Middle Eastern ",
          "Asian",
          "Latino",
          "Middle Eastern ",
          "White-European",
          "Black",
          "?",
          "Middle Eastern ",
          "White-European",
          "Black",
          "Black",
          "White-European",
          "Asian",
          "Asian",
          "Middle Eastern ",
          "White-European",
          "Middle Eastern ",
          "Middle Eastern ",
          "Black",
          "?",
          "Asian",
          "Black",
          "Middle Eastern ",
          "?",
          "White-European",
          "Middle Eastern ",
          "White-European",
          "White-European",
          "Asian",
          "White-European",
          "?",
          "White-European",
          "?",
          "Asian",
          "?",
          "?",
          "?",
          "Middle Eastern ",
          "White-European",
          "Pasifika",
          "Asian",
          "Pasifika",
          "White-European",
          "Asian",
          "Middle Eastern ",
          "South Asian",
          "Black",
          "Latino",
          "?",
          "Middle Eastern ",
          "?",
          "Latino",
          "White-European",
          "White-European",
          "?",
          "?",
          "Hispanic",
          "Asian",
          "Asian",
          "White-European",
          "White-European",
          "Asian",
          "?",
          "Asian",
          "Middle Eastern ",
          "White-European",
          "Middle Eastern ",
          "Latino",
          "White-European",
          "Middle Eastern ",
          "Others",
          "?",
          "South Asian",
          "Asian",
          "Asian",
          "Others",
          "White-European",
          "Black",
          "South Asian",
          "Asian",
          "Black",
          "White-European",
          "?",
          "White-European",
          "White-European",
          "?",
          "Asian",
          "Turkish",
          "Hispanic",
          "?",
          "?",
          "?",
          "Black",
          "Latino",
          "Middle Eastern ",
          "South Asian",
          "White-European",
          "Others",
          "White-European",
          "?",
          "White-European",
          "?",
          "Middle Eastern ",
          "?",
          "Pasifika",
          "Asian",
          "Asian",
          "Middle Eastern ",
          "Middle Eastern ",
          "?",
          "?",
          "White-European",
          "White-European",
          "Latino",
          "Asian",
          "Latino",
          "Middle Eastern ",
          "White-European",
          "White-European",
          "Asian",
          "?",
          "Asian",
          "Pasifika",
          "Black",
          "?",
          "?",
          "Middle Eastern ",
          "?",
          "Black",
          "Asian",
          "Hispanic",
          "?",
          "Black",
          "Asian",
          "White-European",
          "?",
          "Others",
          "Middle Eastern ",
          "White-European",
          "?",
          "White-European",
          "White-European",
          "?",
          "Asian",
          "Pasifika",
          "Pasifika",
          "Middle Eastern ",
          "South Asian",
          "White-European",
          "Middle Eastern ",
          "White-European",
          "South Asian",
          "White-European",
          "Black",
          "White-European",
          "Latino",
          "White-European",
          "?",
          "Asian",
          "Black",
          "White-European",
          "White-European",
          "White-European",
          "Asian",
          "White-European",
          "White-European",
          "White-European",
          "Black",
          "Middle Eastern ",
          "?",
          "White-European",
          "White-European",
          "?",
          "Asian",
          "?",
          "?",
          "Others",
          "White-European",
          "White-European",
          "?",
          "White-European",
          "Asian",
          "White-European",
          "White-European",
          "Others",
          "Asian",
          "Middle Eastern ",
          "Middle Eastern ",
          "?",
          "?",
          "Asian",
          "Latino",
          "Hispanic",
          "White-European",
          "Middle Eastern ",
          "Asian",
          "Asian",
          "Others",
          "Middle Eastern ",
          "White-European",
          "White-European",
          "?",
          "?",
          "South Asian",
          "?",
          "Middle Eastern ",
          "White-European",
          "Latino",
          "White-European",
          "Asian",
          "?",
          "White-European",
          "Middle Eastern ",
          "Middle Eastern ",
          "White-European",
          "White-European",
          "Latino",
          "Asian",
          "Latino",
          "White-European",
          "Pasifika",
          "?",
          "Asian",
          "Asian",
          "Latino",
          "Latino",
          "Hispanic",
          "?",
          "?",
          "White-European",
          "Black",
          "White-European",
          "South Asian",
          "Asian",
          "?",
          "White-European",
          "White-European",
          "White-European",
          "Asian",
          "White-European",
          "Latino",
          "White-European",
          "Asian",
          "Latino",
          "White-European",
          "Black",
          "White-European",
          "Middle Eastern ",
          "White-European",
          "Asian",
          "White-European",
          "?",
          "?",
          "Asian",
          "?",
          "?",
          "Black",
          "Latino",
          "Latino",
          "?",
          "White-European",
          "?",
          "White-European",
          "?",
          "?",
          "Asian",
          "Middle Eastern ",
          "Black",
          "Asian",
          "Others",
          "Hispanic",
          "White-European",
          "White-European",
          "Middle Eastern ",
          "Others",
          "?",
          "Middle Eastern ",
          "White-European",
          "Asian",
          "Asian",
          "Asian",
          "White-European",
          "Middle Eastern ",
          "Asian",
          "Middle Eastern ",
          "White-European",
          "Asian",
          "White-European",
          "White-European",
          "?",
          "Middle Eastern ",
          "Asian",
          "?",
          "Asian",
          "White-European",
          "South Asian",
          "?",
          "South Asian",
          "White-European",
          "White-European",
          "Middle Eastern ",
          "White-European",
          "White-European",
          "?",
          "Latino",
          "Latino",
          "White-European",
          "Latino",
          "?",
          "?",
          "?",
          "White-European",
          "White-European",
          "Middle Eastern ",
          "White-European",
          "Asian",
          "Black",
          "?",
          "Asian",
          "White-European",
          "Asian",
          "Asian",
          "White-European",
          "Middle Eastern ",
          "White-European",
          "Asian",
          "Latino",
          "White-European",
          "Asian",
          "White-European",
          "White-European",
          "?",
          "White-European",
          "Middle Eastern ",
          "Asian",
          "Asian",
          "Middle Eastern ",
          "?",
          "Asian",
          "Asian",
          "Middle Eastern ",
          "White-European",
          "Black",
          "White-European",
          "Asian",
          "White-European",
          "White-European",
          "Asian",
          "White-European",
          "Asian",
          "White-European",
          "Others",
          "?",
          "Middle Eastern ",
          "Middle Eastern ",
          "?",
          "Asian",
          "Asian",
          "Others",
          "Black",
          "Asian",
          "White-European",
          "White-European",
          "?",
          "Middle Eastern ",
          "White-European",
          "?",
          "White-European",
          "?",
          "White-European",
          "Black",
          "South Asian",
          "Black",
          "?",
          "Asian",
          "Others",
          "Latino",
          "White-European",
          "Middle Eastern ",
          "White-European",
          "Middle Eastern ",
          "?",
          "Asian",
          "Asian",
          "White-European",
          "Latino",
          "Middle Eastern ",
          "White-European",
          "White-European",
          "South Asian",
          "White-European",
          "White-European",
          "White-European",
          "Asian",
          "Middle Eastern ",
          "Asian",
          "?",
          "White-European",
          "Asian",
          "White-European",
          "Asian",
          "?",
          "Middle Eastern ",
          "Hispanic",
          "White-European",
          "Middle Eastern ",
          "Black",
          "White-European",
          "Middle Eastern ",
          "Asian",
          "?",
          "Middle Eastern ",
          "Others",
          "White-European",
          "Middle Eastern ",
          "White-European",
          "?",
          "White-European",
          "White-European",
          "South Asian",
          "Others",
          "White-European",
          "White-European",
          "White-European",
          "White-European",
          "?",
          "Middle Eastern ",
          "South Asian",
          "White-European",
          "White-European",
          "?",
          "Middle Eastern ",
          "?",
          "Asian",
          "Black",
          "?",
          "Hispanic",
          "Pasifika",
          "White-European",
          "Asian",
          "White-European",
          "Middle Eastern ",
          "Asian"
         ],
         "xaxis": "x",
         "yaxis": "y",
         "type": "histogram"
        }
       ],
       "layout": {
        "template": {
         "data": {
          "barpolar": [
           {
            "marker": {
             "line": {
              "color": "white",
              "width": 0.5
             },
             "pattern": {
              "fillmode": "overlay",
              "size": 10,
              "solidity": 0.2
             }
            },
            "type": "barpolar"
           }
          ],
          "bar": [
           {
            "error_x": {
             "color": "rgb(36,36,36)"
            },
            "error_y": {
             "color": "rgb(36,36,36)"
            },
            "marker": {
             "line": {
              "color": "white",
              "width": 0.5
             },
             "pattern": {
              "fillmode": "overlay",
              "size": 10,
              "solidity": 0.2
             }
            },
            "type": "bar"
           }
          ],
          "carpet": [
           {
            "aaxis": {
             "endlinecolor": "rgb(36,36,36)",
             "gridcolor": "white",
             "linecolor": "white",
             "minorgridcolor": "white",
             "startlinecolor": "rgb(36,36,36)"
            },
            "baxis": {
             "endlinecolor": "rgb(36,36,36)",
             "gridcolor": "white",
             "linecolor": "white",
             "minorgridcolor": "white",
             "startlinecolor": "rgb(36,36,36)"
            },
            "type": "carpet"
           }
          ],
          "choropleth": [
           {
            "colorbar": {
             "outlinewidth": 1,
             "tickcolor": "rgb(36,36,36)",
             "ticks": "outside"
            },
            "type": "choropleth"
           }
          ],
          "contourcarpet": [
           {
            "colorbar": {
             "outlinewidth": 1,
             "tickcolor": "rgb(36,36,36)",
             "ticks": "outside"
            },
            "type": "contourcarpet"
           }
          ],
          "contour": [
           {
            "colorbar": {
             "outlinewidth": 1,
             "tickcolor": "rgb(36,36,36)",
             "ticks": "outside"
            },
            "colorscale": [
             [
              0.0,
              "#440154"
             ],
             [
              0.1111111111111111,
              "#482878"
             ],
             [
              0.2222222222222222,
              "#3e4989"
             ],
             [
              0.3333333333333333,
              "#31688e"
             ],
             [
              0.4444444444444444,
              "#26828e"
             ],
             [
              0.5555555555555556,
              "#1f9e89"
             ],
             [
              0.6666666666666666,
              "#35b779"
             ],
             [
              0.7777777777777778,
              "#6ece58"
             ],
             [
              0.8888888888888888,
              "#b5de2b"
             ],
             [
              1.0,
              "#fde725"
             ]
            ],
            "type": "contour"
           }
          ],
          "heatmapgl": [
           {
            "colorbar": {
             "outlinewidth": 1,
             "tickcolor": "rgb(36,36,36)",
             "ticks": "outside"
            },
            "colorscale": [
             [
              0.0,
              "#440154"
             ],
             [
              0.1111111111111111,
              "#482878"
             ],
             [
              0.2222222222222222,
              "#3e4989"
             ],
             [
              0.3333333333333333,
              "#31688e"
             ],
             [
              0.4444444444444444,
              "#26828e"
             ],
             [
              0.5555555555555556,
              "#1f9e89"
             ],
             [
              0.6666666666666666,
              "#35b779"
             ],
             [
              0.7777777777777778,
              "#6ece58"
             ],
             [
              0.8888888888888888,
              "#b5de2b"
             ],
             [
              1.0,
              "#fde725"
             ]
            ],
            "type": "heatmapgl"
           }
          ],
          "heatmap": [
           {
            "colorbar": {
             "outlinewidth": 1,
             "tickcolor": "rgb(36,36,36)",
             "ticks": "outside"
            },
            "colorscale": [
             [
              0.0,
              "#440154"
             ],
             [
              0.1111111111111111,
              "#482878"
             ],
             [
              0.2222222222222222,
              "#3e4989"
             ],
             [
              0.3333333333333333,
              "#31688e"
             ],
             [
              0.4444444444444444,
              "#26828e"
             ],
             [
              0.5555555555555556,
              "#1f9e89"
             ],
             [
              0.6666666666666666,
              "#35b779"
             ],
             [
              0.7777777777777778,
              "#6ece58"
             ],
             [
              0.8888888888888888,
              "#b5de2b"
             ],
             [
              1.0,
              "#fde725"
             ]
            ],
            "type": "heatmap"
           }
          ],
          "histogram2dcontour": [
           {
            "colorbar": {
             "outlinewidth": 1,
             "tickcolor": "rgb(36,36,36)",
             "ticks": "outside"
            },
            "colorscale": [
             [
              0.0,
              "#440154"
             ],
             [
              0.1111111111111111,
              "#482878"
             ],
             [
              0.2222222222222222,
              "#3e4989"
             ],
             [
              0.3333333333333333,
              "#31688e"
             ],
             [
              0.4444444444444444,
              "#26828e"
             ],
             [
              0.5555555555555556,
              "#1f9e89"
             ],
             [
              0.6666666666666666,
              "#35b779"
             ],
             [
              0.7777777777777778,
              "#6ece58"
             ],
             [
              0.8888888888888888,
              "#b5de2b"
             ],
             [
              1.0,
              "#fde725"
             ]
            ],
            "type": "histogram2dcontour"
           }
          ],
          "histogram2d": [
           {
            "colorbar": {
             "outlinewidth": 1,
             "tickcolor": "rgb(36,36,36)",
             "ticks": "outside"
            },
            "colorscale": [
             [
              0.0,
              "#440154"
             ],
             [
              0.1111111111111111,
              "#482878"
             ],
             [
              0.2222222222222222,
              "#3e4989"
             ],
             [
              0.3333333333333333,
              "#31688e"
             ],
             [
              0.4444444444444444,
              "#26828e"
             ],
             [
              0.5555555555555556,
              "#1f9e89"
             ],
             [
              0.6666666666666666,
              "#35b779"
             ],
             [
              0.7777777777777778,
              "#6ece58"
             ],
             [
              0.8888888888888888,
              "#b5de2b"
             ],
             [
              1.0,
              "#fde725"
             ]
            ],
            "type": "histogram2d"
           }
          ],
          "histogram": [
           {
            "marker": {
             "line": {
              "color": "white",
              "width": 0.6
             }
            },
            "type": "histogram"
           }
          ],
          "mesh3d": [
           {
            "colorbar": {
             "outlinewidth": 1,
             "tickcolor": "rgb(36,36,36)",
             "ticks": "outside"
            },
            "type": "mesh3d"
           }
          ],
          "parcoords": [
           {
            "line": {
             "colorbar": {
              "outlinewidth": 1,
              "tickcolor": "rgb(36,36,36)",
              "ticks": "outside"
             }
            },
            "type": "parcoords"
           }
          ],
          "pie": [
           {
            "automargin": true,
            "type": "pie"
           }
          ],
          "scatter3d": [
           {
            "line": {
             "colorbar": {
              "outlinewidth": 1,
              "tickcolor": "rgb(36,36,36)",
              "ticks": "outside"
             }
            },
            "marker": {
             "colorbar": {
              "outlinewidth": 1,
              "tickcolor": "rgb(36,36,36)",
              "ticks": "outside"
             }
            },
            "type": "scatter3d"
           }
          ],
          "scattercarpet": [
           {
            "marker": {
             "colorbar": {
              "outlinewidth": 1,
              "tickcolor": "rgb(36,36,36)",
              "ticks": "outside"
             }
            },
            "type": "scattercarpet"
           }
          ],
          "scattergeo": [
           {
            "marker": {
             "colorbar": {
              "outlinewidth": 1,
              "tickcolor": "rgb(36,36,36)",
              "ticks": "outside"
             }
            },
            "type": "scattergeo"
           }
          ],
          "scattergl": [
           {
            "marker": {
             "colorbar": {
              "outlinewidth": 1,
              "tickcolor": "rgb(36,36,36)",
              "ticks": "outside"
             }
            },
            "type": "scattergl"
           }
          ],
          "scattermapbox": [
           {
            "marker": {
             "colorbar": {
              "outlinewidth": 1,
              "tickcolor": "rgb(36,36,36)",
              "ticks": "outside"
             }
            },
            "type": "scattermapbox"
           }
          ],
          "scatterpolargl": [
           {
            "marker": {
             "colorbar": {
              "outlinewidth": 1,
              "tickcolor": "rgb(36,36,36)",
              "ticks": "outside"
             }
            },
            "type": "scatterpolargl"
           }
          ],
          "scatterpolar": [
           {
            "marker": {
             "colorbar": {
              "outlinewidth": 1,
              "tickcolor": "rgb(36,36,36)",
              "ticks": "outside"
             }
            },
            "type": "scatterpolar"
           }
          ],
          "scatter": [
           {
            "fillpattern": {
             "fillmode": "overlay",
             "size": 10,
             "solidity": 0.2
            },
            "type": "scatter"
           }
          ],
          "scatterternary": [
           {
            "marker": {
             "colorbar": {
              "outlinewidth": 1,
              "tickcolor": "rgb(36,36,36)",
              "ticks": "outside"
             }
            },
            "type": "scatterternary"
           }
          ],
          "surface": [
           {
            "colorbar": {
             "outlinewidth": 1,
             "tickcolor": "rgb(36,36,36)",
             "ticks": "outside"
            },
            "colorscale": [
             [
              0.0,
              "#440154"
             ],
             [
              0.1111111111111111,
              "#482878"
             ],
             [
              0.2222222222222222,
              "#3e4989"
             ],
             [
              0.3333333333333333,
              "#31688e"
             ],
             [
              0.4444444444444444,
              "#26828e"
             ],
             [
              0.5555555555555556,
              "#1f9e89"
             ],
             [
              0.6666666666666666,
              "#35b779"
             ],
             [
              0.7777777777777778,
              "#6ece58"
             ],
             [
              0.8888888888888888,
              "#b5de2b"
             ],
             [
              1.0,
              "#fde725"
             ]
            ],
            "type": "surface"
           }
          ],
          "table": [
           {
            "cells": {
             "fill": {
              "color": "rgb(237,237,237)"
             },
             "line": {
              "color": "white"
             }
            },
            "header": {
             "fill": {
              "color": "rgb(217,217,217)"
             },
             "line": {
              "color": "white"
             }
            },
            "type": "table"
           }
          ]
         },
         "layout": {
          "annotationdefaults": {
           "arrowhead": 0,
           "arrowwidth": 1
          },
          "autotypenumbers": "strict",
          "coloraxis": {
           "colorbar": {
            "outlinewidth": 1,
            "tickcolor": "rgb(36,36,36)",
            "ticks": "outside"
           }
          },
          "colorscale": {
           "diverging": [
            [
             0.0,
             "rgb(103,0,31)"
            ],
            [
             0.1,
             "rgb(178,24,43)"
            ],
            [
             0.2,
             "rgb(214,96,77)"
            ],
            [
             0.3,
             "rgb(244,165,130)"
            ],
            [
             0.4,
             "rgb(253,219,199)"
            ],
            [
             0.5,
             "rgb(247,247,247)"
            ],
            [
             0.6,
             "rgb(209,229,240)"
            ],
            [
             0.7,
             "rgb(146,197,222)"
            ],
            [
             0.8,
             "rgb(67,147,195)"
            ],
            [
             0.9,
             "rgb(33,102,172)"
            ],
            [
             1.0,
             "rgb(5,48,97)"
            ]
           ],
           "sequential": [
            [
             0.0,
             "#440154"
            ],
            [
             0.1111111111111111,
             "#482878"
            ],
            [
             0.2222222222222222,
             "#3e4989"
            ],
            [
             0.3333333333333333,
             "#31688e"
            ],
            [
             0.4444444444444444,
             "#26828e"
            ],
            [
             0.5555555555555556,
             "#1f9e89"
            ],
            [
             0.6666666666666666,
             "#35b779"
            ],
            [
             0.7777777777777778,
             "#6ece58"
            ],
            [
             0.8888888888888888,
             "#b5de2b"
            ],
            [
             1.0,
             "#fde725"
            ]
           ],
           "sequentialminus": [
            [
             0.0,
             "#440154"
            ],
            [
             0.1111111111111111,
             "#482878"
            ],
            [
             0.2222222222222222,
             "#3e4989"
            ],
            [
             0.3333333333333333,
             "#31688e"
            ],
            [
             0.4444444444444444,
             "#26828e"
            ],
            [
             0.5555555555555556,
             "#1f9e89"
            ],
            [
             0.6666666666666666,
             "#35b779"
            ],
            [
             0.7777777777777778,
             "#6ece58"
            ],
            [
             0.8888888888888888,
             "#b5de2b"
            ],
            [
             1.0,
             "#fde725"
            ]
           ]
          },
          "colorway": [
           "#1F77B4",
           "#FF7F0E",
           "#2CA02C",
           "#D62728",
           "#9467BD",
           "#8C564B",
           "#E377C2",
           "#7F7F7F",
           "#BCBD22",
           "#17BECF"
          ],
          "font": {
           "color": "rgb(36,36,36)"
          },
          "geo": {
           "bgcolor": "white",
           "lakecolor": "white",
           "landcolor": "white",
           "showlakes": true,
           "showland": true,
           "subunitcolor": "white"
          },
          "hoverlabel": {
           "align": "left"
          },
          "hovermode": "closest",
          "mapbox": {
           "style": "light"
          },
          "paper_bgcolor": "white",
          "plot_bgcolor": "white",
          "polar": {
           "angularaxis": {
            "gridcolor": "rgb(232,232,232)",
            "linecolor": "rgb(36,36,36)",
            "showgrid": false,
            "showline": true,
            "ticks": "outside"
           },
           "bgcolor": "white",
           "radialaxis": {
            "gridcolor": "rgb(232,232,232)",
            "linecolor": "rgb(36,36,36)",
            "showgrid": false,
            "showline": true,
            "ticks": "outside"
           }
          },
          "scene": {
           "xaxis": {
            "backgroundcolor": "white",
            "gridcolor": "rgb(232,232,232)",
            "gridwidth": 2,
            "linecolor": "rgb(36,36,36)",
            "showbackground": true,
            "showgrid": false,
            "showline": true,
            "ticks": "outside",
            "zeroline": false,
            "zerolinecolor": "rgb(36,36,36)"
           },
           "yaxis": {
            "backgroundcolor": "white",
            "gridcolor": "rgb(232,232,232)",
            "gridwidth": 2,
            "linecolor": "rgb(36,36,36)",
            "showbackground": true,
            "showgrid": false,
            "showline": true,
            "ticks": "outside",
            "zeroline": false,
            "zerolinecolor": "rgb(36,36,36)"
           },
           "zaxis": {
            "backgroundcolor": "white",
            "gridcolor": "rgb(232,232,232)",
            "gridwidth": 2,
            "linecolor": "rgb(36,36,36)",
            "showbackground": true,
            "showgrid": false,
            "showline": true,
            "ticks": "outside",
            "zeroline": false,
            "zerolinecolor": "rgb(36,36,36)"
           }
          },
          "shapedefaults": {
           "fillcolor": "black",
           "line": {
            "width": 0
           },
           "opacity": 0.3
          },
          "ternary": {
           "aaxis": {
            "gridcolor": "rgb(232,232,232)",
            "linecolor": "rgb(36,36,36)",
            "showgrid": false,
            "showline": true,
            "ticks": "outside"
           },
           "baxis": {
            "gridcolor": "rgb(232,232,232)",
            "linecolor": "rgb(36,36,36)",
            "showgrid": false,
            "showline": true,
            "ticks": "outside"
           },
           "bgcolor": "white",
           "caxis": {
            "gridcolor": "rgb(232,232,232)",
            "linecolor": "rgb(36,36,36)",
            "showgrid": false,
            "showline": true,
            "ticks": "outside"
           }
          },
          "title": {
           "x": 0.05
          },
          "xaxis": {
           "automargin": true,
           "gridcolor": "rgb(232,232,232)",
           "linecolor": "rgb(36,36,36)",
           "showgrid": false,
           "showline": true,
           "ticks": "outside",
           "title": {
            "standoff": 15
           },
           "zeroline": false,
           "zerolinecolor": "rgb(36,36,36)"
          },
          "yaxis": {
           "automargin": true,
           "gridcolor": "rgb(232,232,232)",
           "linecolor": "rgb(36,36,36)",
           "showgrid": false,
           "showline": true,
           "ticks": "outside",
           "title": {
            "standoff": 15
           },
           "zeroline": false,
           "zerolinecolor": "rgb(36,36,36)"
          }
         }
        },
        "xaxis": {
         "anchor": "y",
         "domain": [
          0.0,
          1.0
         ],
         "title": {
          "text": "ethnicity"
         },
         "categoryorder": "total descending"
        },
        "yaxis": {
         "anchor": "x",
         "domain": [
          0.0,
          1.0
         ],
         "title": {
          "text": "percent"
         }
        },
        "legend": {
         "tracegroupgap": 0,
         "orientation": "v",
         "y": 1,
         "yanchor": "top",
         "x": 1.0,
         "xanchor": "right"
        },
        "margin": {
         "t": 60
        },
        "barmode": "relative",
        "height": 400,
        "width": 600,
        "font": {
         "family": "San Serif"
        },
        "title": {
         "text": "Ethnic group of the patient",
         "font": {
          "size": 20
         }
        }
       },
       "config": {
        "plotlyServerURL": "https://plot.ly"
       }
      },
      "text/html": [
       "<div>                            <div id=\"df27e6e3-e62d-482c-9dc7-bc3c3204ff89\" class=\"plotly-graph-div\" style=\"height:400px; width:600px;\"></div>            <script type=\"text/javascript\">                require([\"plotly\"], function(Plotly) {                    window.PLOTLYENV=window.PLOTLYENV || {};                                    if (document.getElementById(\"df27e6e3-e62d-482c-9dc7-bc3c3204ff89\")) {                    Plotly.newPlot(                        \"df27e6e3-e62d-482c-9dc7-bc3c3204ff89\",                        [{\"alignmentgroup\":\"True\",\"bingroup\":\"x\",\"histnorm\":\"percent\",\"hovertemplate\":\"ethnicity=%{x}<br>percent=%{y}<extra></extra>\",\"legendgroup\":\"\",\"marker\":{\"color\":[\"lightseagreen\",\"crimson\",\"lightgray\",\"lightgray\",\"lightgray\",\"lightgray\",\"lightgray\",\"lightgray\",\"lightgray\",\"lightgray\",\"lightgray\",\"lightgray\",\"lightgray\",\"lightgray\",\"lightgray\"],\"pattern\":{\"shape\":\"\"}},\"name\":\"\",\"offsetgroup\":\"\",\"orientation\":\"v\",\"showlegend\":false,\"x\":[\"White-European\",\"South Asian\",\"White-European\",\"South Asian\",\"Black\",\"Asian\",\"White-European\",\"Middle Eastern \",\"White-European\",\"?\",\"Others\",\"Middle Eastern \",\"White-European\",\"?\",\"?\",\"Latino\",\"South Asian\",\"Middle Eastern \",\"?\",\"Asian\",\"Middle Eastern \",\"White-European\",\"Asian\",\"South Asian\",\"?\",\"?\",\"White-European\",\"Middle Eastern \",\"White-European\",\"Black\",\"White-European\",\"Latino\",\"White-European\",\"Asian\",\"Latino\",\"White-European\",\"Latino\",\"?\",\"Middle Eastern \",\"Asian\",\"South Asian\",\"White-European\",\"?\",\"?\",\"?\",\"Middle Eastern \",\"Middle Eastern \",\"White-European\",\"White-European\",\"Asian\",\"White-European\",\"White-European\",\"White-European\",\"Latino\",\"Black\",\"?\",\"Middle Eastern \",\"?\",\"?\",\"?\",\"Middle Eastern \",\"Middle Eastern \",\"?\",\"White-European\",\"Middle Eastern \",\"White-European\",\"White-European\",\"Middle Eastern \",\"South Asian\",\"White-European\",\"Asian\",\"Latino\",\"Latino\",\"White-European\",\"?\",\"White-European\",\"White-European\",\"Black\",\"Turkish\",\"Latino\",\"Black\",\"White-European\",\"Others\",\"White-European\",\"Latino\",\"Asian\",\"Asian\",\"?\",\"South Asian\",\"Middle Eastern \",\"Middle Eastern \",\"Others\",\"White-European\",\"?\",\"Asian\",\"?\",\"Asian\",\"White-European\",\"?\",\"Asian\",\"Latino\",\"Asian\",\"Black\",\"Asian\",\"Middle Eastern \",\"?\",\"?\",\"Asian\",\"Middle Eastern \",\"?\",\"South Asian\",\"South Asian\",\"?\",\"Hispanic\",\"Asian\",\"?\",\"Black\",\"Middle Eastern \",\"White-European\",\"Black\",\"White-European\",\"White-European\",\"?\",\"White-European\",\"White-European\",\"Middle Eastern \",\"White-European\",\"?\",\"Latino\",\"Middle Eastern \",\"White-European\",\"Middle Eastern \",\"Latino\",\"White-European\",\"Others\",\"White-European\",\"Asian\",\"?\",\"White-European\",\"?\",\"White-European\",\"White-European\",\"White-European\",\"Asian\",\"Asian\",\"Middle Eastern \",\"White-European\",\"Hispanic\",\"Black\",\"?\",\"Black\",\"White-European\",\"Others\",\"Asian\",\"Middle Eastern \",\"Black\",\"Black\",\"Asian\",\"White-European\",\"Black\",\"Middle Eastern \",\"White-European\",\"Asian\",\"Asian\",\"?\",\"Asian\",\"Middle Eastern \",\"Asian\",\"?\",\"Asian\",\"?\",\"White-European\",\"White-European\",\"Pasifika\",\"Middle Eastern \",\"White-European\",\"South Asian\",\"Latino\",\"?\",\"Asian\",\"White-European\",\"Pasifika\",\"Middle Eastern \",\"Asian\",\"Asian\",\"White-European\",\"?\",\"Middle Eastern \",\"Middle Eastern \",\"Others\",\"Middle Eastern \",\"South Asian\",\"Middle Eastern \",\"?\",\"?\",\"White-European\",\"Pasifika\",\"Hispanic\",\"Black\",\"Asian\",\"White-European\",\"Black\",\"White-European\",\"Hispanic\",\"?\",\"Middle Eastern \",\"Asian\",\"Middle Eastern \",\"White-European\",\"Middle Eastern \",\"?\",\"?\",\"Asian\",\"?\",\"Middle Eastern \",\"?\",\"Black\",\"Asian\",\"?\",\"Others\",\"Asian\",\"White-European\",\"White-European\",\"?\",\"White-European\",\"Asian\",\"South Asian\",\"?\",\"Asian\",\"Middle Eastern \",\"Middle Eastern \",\"Latino\",\"Hispanic\",\"Asian\",\"Asian\",\"White-European\",\"White-European\",\"White-European\",\"White-European\",\"?\",\"Latino\",\"South Asian\",\"Asian\",\"Asian\",\"White-European\",\"Pasifika\",\"Middle Eastern \",\"White-European\",\"?\",\"Asian\",\"White-European\",\"Middle Eastern \",\"?\",\"South Asian\",\"Asian\",\"Pasifika\",\"Middle Eastern \",\"Middle Eastern \",\"Asian\",\"Others\",\"?\",\"Black\",\"White-European\",\"Turkish\",\"?\",\"Middle Eastern \",\"Middle Eastern \",\"Asian\",\"South Asian\",\"Asian\",\"Hispanic\",\"?\",\"?\",\"Others\",\"South Asian\",\"White-European\",\"Middle Eastern \",\"White-European\",\"Middle Eastern \",\"White-European\",\"Asian\",\"Middle Eastern \",\"Asian\",\"White-European\",\"?\",\"?\",\"Pasifika\",\"South Asian\",\"Middle Eastern \",\"?\",\"Middle Eastern \",\"Asian\",\"South Asian\",\"Asian\",\"Turkish\",\"Hispanic\",\"Asian\",\"?\",\"Asian\",\"?\",\"Asian\",\"Hispanic\",\"Asian\",\"?\",\"Others\",\"?\",\"White-European\",\"White-European\",\"Middle Eastern \",\"White-European\",\"White-European\",\"Others\",\"White-European\",\"?\",\"White-European\",\"Asian\",\"South Asian\",\"South Asian\",\"Others\",\"White-European\",\"Latino\",\"Middle Eastern \",\"Middle Eastern \",\"Latino\",\"White-European\",\"Pasifika\",\"Middle Eastern \",\"?\",\"Middle Eastern \",\"South Asian\",\"Latino\",\"Middle Eastern \",\"?\",\"White-European\",\"?\",\"Middle Eastern \",\"Middle Eastern \",\"Black\",\"Latino\",\"?\",\"White-European\",\"Middle Eastern \",\"Pasifika\",\"Asian\",\"White-European\",\"Pasifika\",\"?\",\"Asian\",\"?\",\"White-European\",\"Latino\",\"?\",\"Asian\",\"?\",\"?\",\"Black\",\"Pasifika\",\"Middle Eastern \",\"Asian\",\"Latino\",\"Middle Eastern \",\"White-European\",\"Black\",\"?\",\"Middle Eastern \",\"White-European\",\"Black\",\"Black\",\"White-European\",\"Asian\",\"Asian\",\"Middle Eastern \",\"White-European\",\"Middle Eastern \",\"Middle Eastern \",\"Black\",\"?\",\"Asian\",\"Black\",\"Middle Eastern \",\"?\",\"White-European\",\"Middle Eastern \",\"White-European\",\"White-European\",\"Asian\",\"White-European\",\"?\",\"White-European\",\"?\",\"Asian\",\"?\",\"?\",\"?\",\"Middle Eastern \",\"White-European\",\"Pasifika\",\"Asian\",\"Pasifika\",\"White-European\",\"Asian\",\"Middle Eastern \",\"South Asian\",\"Black\",\"Latino\",\"?\",\"Middle Eastern \",\"?\",\"Latino\",\"White-European\",\"White-European\",\"?\",\"?\",\"Hispanic\",\"Asian\",\"Asian\",\"White-European\",\"White-European\",\"Asian\",\"?\",\"Asian\",\"Middle Eastern \",\"White-European\",\"Middle Eastern \",\"Latino\",\"White-European\",\"Middle Eastern \",\"Others\",\"?\",\"South Asian\",\"Asian\",\"Asian\",\"Others\",\"White-European\",\"Black\",\"South Asian\",\"Asian\",\"Black\",\"White-European\",\"?\",\"White-European\",\"White-European\",\"?\",\"Asian\",\"Turkish\",\"Hispanic\",\"?\",\"?\",\"?\",\"Black\",\"Latino\",\"Middle Eastern \",\"South Asian\",\"White-European\",\"Others\",\"White-European\",\"?\",\"White-European\",\"?\",\"Middle Eastern \",\"?\",\"Pasifika\",\"Asian\",\"Asian\",\"Middle Eastern \",\"Middle Eastern \",\"?\",\"?\",\"White-European\",\"White-European\",\"Latino\",\"Asian\",\"Latino\",\"Middle Eastern \",\"White-European\",\"White-European\",\"Asian\",\"?\",\"Asian\",\"Pasifika\",\"Black\",\"?\",\"?\",\"Middle Eastern \",\"?\",\"Black\",\"Asian\",\"Hispanic\",\"?\",\"Black\",\"Asian\",\"White-European\",\"?\",\"Others\",\"Middle Eastern \",\"White-European\",\"?\",\"White-European\",\"White-European\",\"?\",\"Asian\",\"Pasifika\",\"Pasifika\",\"Middle Eastern \",\"South Asian\",\"White-European\",\"Middle Eastern \",\"White-European\",\"South Asian\",\"White-European\",\"Black\",\"White-European\",\"Latino\",\"White-European\",\"?\",\"Asian\",\"Black\",\"White-European\",\"White-European\",\"White-European\",\"Asian\",\"White-European\",\"White-European\",\"White-European\",\"Black\",\"Middle Eastern \",\"?\",\"White-European\",\"White-European\",\"?\",\"Asian\",\"?\",\"?\",\"Others\",\"White-European\",\"White-European\",\"?\",\"White-European\",\"Asian\",\"White-European\",\"White-European\",\"Others\",\"Asian\",\"Middle Eastern \",\"Middle Eastern \",\"?\",\"?\",\"Asian\",\"Latino\",\"Hispanic\",\"White-European\",\"Middle Eastern \",\"Asian\",\"Asian\",\"Others\",\"Middle Eastern \",\"White-European\",\"White-European\",\"?\",\"?\",\"South Asian\",\"?\",\"Middle Eastern \",\"White-European\",\"Latino\",\"White-European\",\"Asian\",\"?\",\"White-European\",\"Middle Eastern \",\"Middle Eastern \",\"White-European\",\"White-European\",\"Latino\",\"Asian\",\"Latino\",\"White-European\",\"Pasifika\",\"?\",\"Asian\",\"Asian\",\"Latino\",\"Latino\",\"Hispanic\",\"?\",\"?\",\"White-European\",\"Black\",\"White-European\",\"South Asian\",\"Asian\",\"?\",\"White-European\",\"White-European\",\"White-European\",\"Asian\",\"White-European\",\"Latino\",\"White-European\",\"Asian\",\"Latino\",\"White-European\",\"Black\",\"White-European\",\"Middle Eastern \",\"White-European\",\"Asian\",\"White-European\",\"?\",\"?\",\"Asian\",\"?\",\"?\",\"Black\",\"Latino\",\"Latino\",\"?\",\"White-European\",\"?\",\"White-European\",\"?\",\"?\",\"Asian\",\"Middle Eastern \",\"Black\",\"Asian\",\"Others\",\"Hispanic\",\"White-European\",\"White-European\",\"Middle Eastern \",\"Others\",\"?\",\"Middle Eastern \",\"White-European\",\"Asian\",\"Asian\",\"Asian\",\"White-European\",\"Middle Eastern \",\"Asian\",\"Middle Eastern \",\"White-European\",\"Asian\",\"White-European\",\"White-European\",\"?\",\"Middle Eastern \",\"Asian\",\"?\",\"Asian\",\"White-European\",\"South Asian\",\"?\",\"South Asian\",\"White-European\",\"White-European\",\"Middle Eastern \",\"White-European\",\"White-European\",\"?\",\"Latino\",\"Latino\",\"White-European\",\"Latino\",\"?\",\"?\",\"?\",\"White-European\",\"White-European\",\"Middle Eastern \",\"White-European\",\"Asian\",\"Black\",\"?\",\"Asian\",\"White-European\",\"Asian\",\"Asian\",\"White-European\",\"Middle Eastern \",\"White-European\",\"Asian\",\"Latino\",\"White-European\",\"Asian\",\"White-European\",\"White-European\",\"?\",\"White-European\",\"Middle Eastern \",\"Asian\",\"Asian\",\"Middle Eastern \",\"?\",\"Asian\",\"Asian\",\"Middle Eastern \",\"White-European\",\"Black\",\"White-European\",\"Asian\",\"White-European\",\"White-European\",\"Asian\",\"White-European\",\"Asian\",\"White-European\",\"Others\",\"?\",\"Middle Eastern \",\"Middle Eastern \",\"?\",\"Asian\",\"Asian\",\"Others\",\"Black\",\"Asian\",\"White-European\",\"White-European\",\"?\",\"Middle Eastern \",\"White-European\",\"?\",\"White-European\",\"?\",\"White-European\",\"Black\",\"South Asian\",\"Black\",\"?\",\"Asian\",\"Others\",\"Latino\",\"White-European\",\"Middle Eastern \",\"White-European\",\"Middle Eastern \",\"?\",\"Asian\",\"Asian\",\"White-European\",\"Latino\",\"Middle Eastern \",\"White-European\",\"White-European\",\"South Asian\",\"White-European\",\"White-European\",\"White-European\",\"Asian\",\"Middle Eastern \",\"Asian\",\"?\",\"White-European\",\"Asian\",\"White-European\",\"Asian\",\"?\",\"Middle Eastern \",\"Hispanic\",\"White-European\",\"Middle Eastern \",\"Black\",\"White-European\",\"Middle Eastern \",\"Asian\",\"?\",\"Middle Eastern \",\"Others\",\"White-European\",\"Middle Eastern \",\"White-European\",\"?\",\"White-European\",\"White-European\",\"South Asian\",\"Others\",\"White-European\",\"White-European\",\"White-European\",\"White-European\",\"?\",\"Middle Eastern \",\"South Asian\",\"White-European\",\"White-European\",\"?\",\"Middle Eastern \",\"?\",\"Asian\",\"Black\",\"?\",\"Hispanic\",\"Pasifika\",\"White-European\",\"Asian\",\"White-European\",\"Middle Eastern \",\"Asian\"],\"xaxis\":\"x\",\"yaxis\":\"y\",\"type\":\"histogram\"}],                        {\"template\":{\"data\":{\"barpolar\":[{\"marker\":{\"line\":{\"color\":\"white\",\"width\":0.5},\"pattern\":{\"fillmode\":\"overlay\",\"size\":10,\"solidity\":0.2}},\"type\":\"barpolar\"}],\"bar\":[{\"error_x\":{\"color\":\"rgb(36,36,36)\"},\"error_y\":{\"color\":\"rgb(36,36,36)\"},\"marker\":{\"line\":{\"color\":\"white\",\"width\":0.5},\"pattern\":{\"fillmode\":\"overlay\",\"size\":10,\"solidity\":0.2}},\"type\":\"bar\"}],\"carpet\":[{\"aaxis\":{\"endlinecolor\":\"rgb(36,36,36)\",\"gridcolor\":\"white\",\"linecolor\":\"white\",\"minorgridcolor\":\"white\",\"startlinecolor\":\"rgb(36,36,36)\"},\"baxis\":{\"endlinecolor\":\"rgb(36,36,36)\",\"gridcolor\":\"white\",\"linecolor\":\"white\",\"minorgridcolor\":\"white\",\"startlinecolor\":\"rgb(36,36,36)\"},\"type\":\"carpet\"}],\"choropleth\":[{\"colorbar\":{\"outlinewidth\":1,\"tickcolor\":\"rgb(36,36,36)\",\"ticks\":\"outside\"},\"type\":\"choropleth\"}],\"contourcarpet\":[{\"colorbar\":{\"outlinewidth\":1,\"tickcolor\":\"rgb(36,36,36)\",\"ticks\":\"outside\"},\"type\":\"contourcarpet\"}],\"contour\":[{\"colorbar\":{\"outlinewidth\":1,\"tickcolor\":\"rgb(36,36,36)\",\"ticks\":\"outside\"},\"colorscale\":[[0.0,\"#440154\"],[0.1111111111111111,\"#482878\"],[0.2222222222222222,\"#3e4989\"],[0.3333333333333333,\"#31688e\"],[0.4444444444444444,\"#26828e\"],[0.5555555555555556,\"#1f9e89\"],[0.6666666666666666,\"#35b779\"],[0.7777777777777778,\"#6ece58\"],[0.8888888888888888,\"#b5de2b\"],[1.0,\"#fde725\"]],\"type\":\"contour\"}],\"heatmapgl\":[{\"colorbar\":{\"outlinewidth\":1,\"tickcolor\":\"rgb(36,36,36)\",\"ticks\":\"outside\"},\"colorscale\":[[0.0,\"#440154\"],[0.1111111111111111,\"#482878\"],[0.2222222222222222,\"#3e4989\"],[0.3333333333333333,\"#31688e\"],[0.4444444444444444,\"#26828e\"],[0.5555555555555556,\"#1f9e89\"],[0.6666666666666666,\"#35b779\"],[0.7777777777777778,\"#6ece58\"],[0.8888888888888888,\"#b5de2b\"],[1.0,\"#fde725\"]],\"type\":\"heatmapgl\"}],\"heatmap\":[{\"colorbar\":{\"outlinewidth\":1,\"tickcolor\":\"rgb(36,36,36)\",\"ticks\":\"outside\"},\"colorscale\":[[0.0,\"#440154\"],[0.1111111111111111,\"#482878\"],[0.2222222222222222,\"#3e4989\"],[0.3333333333333333,\"#31688e\"],[0.4444444444444444,\"#26828e\"],[0.5555555555555556,\"#1f9e89\"],[0.6666666666666666,\"#35b779\"],[0.7777777777777778,\"#6ece58\"],[0.8888888888888888,\"#b5de2b\"],[1.0,\"#fde725\"]],\"type\":\"heatmap\"}],\"histogram2dcontour\":[{\"colorbar\":{\"outlinewidth\":1,\"tickcolor\":\"rgb(36,36,36)\",\"ticks\":\"outside\"},\"colorscale\":[[0.0,\"#440154\"],[0.1111111111111111,\"#482878\"],[0.2222222222222222,\"#3e4989\"],[0.3333333333333333,\"#31688e\"],[0.4444444444444444,\"#26828e\"],[0.5555555555555556,\"#1f9e89\"],[0.6666666666666666,\"#35b779\"],[0.7777777777777778,\"#6ece58\"],[0.8888888888888888,\"#b5de2b\"],[1.0,\"#fde725\"]],\"type\":\"histogram2dcontour\"}],\"histogram2d\":[{\"colorbar\":{\"outlinewidth\":1,\"tickcolor\":\"rgb(36,36,36)\",\"ticks\":\"outside\"},\"colorscale\":[[0.0,\"#440154\"],[0.1111111111111111,\"#482878\"],[0.2222222222222222,\"#3e4989\"],[0.3333333333333333,\"#31688e\"],[0.4444444444444444,\"#26828e\"],[0.5555555555555556,\"#1f9e89\"],[0.6666666666666666,\"#35b779\"],[0.7777777777777778,\"#6ece58\"],[0.8888888888888888,\"#b5de2b\"],[1.0,\"#fde725\"]],\"type\":\"histogram2d\"}],\"histogram\":[{\"marker\":{\"line\":{\"color\":\"white\",\"width\":0.6}},\"type\":\"histogram\"}],\"mesh3d\":[{\"colorbar\":{\"outlinewidth\":1,\"tickcolor\":\"rgb(36,36,36)\",\"ticks\":\"outside\"},\"type\":\"mesh3d\"}],\"parcoords\":[{\"line\":{\"colorbar\":{\"outlinewidth\":1,\"tickcolor\":\"rgb(36,36,36)\",\"ticks\":\"outside\"}},\"type\":\"parcoords\"}],\"pie\":[{\"automargin\":true,\"type\":\"pie\"}],\"scatter3d\":[{\"line\":{\"colorbar\":{\"outlinewidth\":1,\"tickcolor\":\"rgb(36,36,36)\",\"ticks\":\"outside\"}},\"marker\":{\"colorbar\":{\"outlinewidth\":1,\"tickcolor\":\"rgb(36,36,36)\",\"ticks\":\"outside\"}},\"type\":\"scatter3d\"}],\"scattercarpet\":[{\"marker\":{\"colorbar\":{\"outlinewidth\":1,\"tickcolor\":\"rgb(36,36,36)\",\"ticks\":\"outside\"}},\"type\":\"scattercarpet\"}],\"scattergeo\":[{\"marker\":{\"colorbar\":{\"outlinewidth\":1,\"tickcolor\":\"rgb(36,36,36)\",\"ticks\":\"outside\"}},\"type\":\"scattergeo\"}],\"scattergl\":[{\"marker\":{\"colorbar\":{\"outlinewidth\":1,\"tickcolor\":\"rgb(36,36,36)\",\"ticks\":\"outside\"}},\"type\":\"scattergl\"}],\"scattermapbox\":[{\"marker\":{\"colorbar\":{\"outlinewidth\":1,\"tickcolor\":\"rgb(36,36,36)\",\"ticks\":\"outside\"}},\"type\":\"scattermapbox\"}],\"scatterpolargl\":[{\"marker\":{\"colorbar\":{\"outlinewidth\":1,\"tickcolor\":\"rgb(36,36,36)\",\"ticks\":\"outside\"}},\"type\":\"scatterpolargl\"}],\"scatterpolar\":[{\"marker\":{\"colorbar\":{\"outlinewidth\":1,\"tickcolor\":\"rgb(36,36,36)\",\"ticks\":\"outside\"}},\"type\":\"scatterpolar\"}],\"scatter\":[{\"fillpattern\":{\"fillmode\":\"overlay\",\"size\":10,\"solidity\":0.2},\"type\":\"scatter\"}],\"scatterternary\":[{\"marker\":{\"colorbar\":{\"outlinewidth\":1,\"tickcolor\":\"rgb(36,36,36)\",\"ticks\":\"outside\"}},\"type\":\"scatterternary\"}],\"surface\":[{\"colorbar\":{\"outlinewidth\":1,\"tickcolor\":\"rgb(36,36,36)\",\"ticks\":\"outside\"},\"colorscale\":[[0.0,\"#440154\"],[0.1111111111111111,\"#482878\"],[0.2222222222222222,\"#3e4989\"],[0.3333333333333333,\"#31688e\"],[0.4444444444444444,\"#26828e\"],[0.5555555555555556,\"#1f9e89\"],[0.6666666666666666,\"#35b779\"],[0.7777777777777778,\"#6ece58\"],[0.8888888888888888,\"#b5de2b\"],[1.0,\"#fde725\"]],\"type\":\"surface\"}],\"table\":[{\"cells\":{\"fill\":{\"color\":\"rgb(237,237,237)\"},\"line\":{\"color\":\"white\"}},\"header\":{\"fill\":{\"color\":\"rgb(217,217,217)\"},\"line\":{\"color\":\"white\"}},\"type\":\"table\"}]},\"layout\":{\"annotationdefaults\":{\"arrowhead\":0,\"arrowwidth\":1},\"autotypenumbers\":\"strict\",\"coloraxis\":{\"colorbar\":{\"outlinewidth\":1,\"tickcolor\":\"rgb(36,36,36)\",\"ticks\":\"outside\"}},\"colorscale\":{\"diverging\":[[0.0,\"rgb(103,0,31)\"],[0.1,\"rgb(178,24,43)\"],[0.2,\"rgb(214,96,77)\"],[0.3,\"rgb(244,165,130)\"],[0.4,\"rgb(253,219,199)\"],[0.5,\"rgb(247,247,247)\"],[0.6,\"rgb(209,229,240)\"],[0.7,\"rgb(146,197,222)\"],[0.8,\"rgb(67,147,195)\"],[0.9,\"rgb(33,102,172)\"],[1.0,\"rgb(5,48,97)\"]],\"sequential\":[[0.0,\"#440154\"],[0.1111111111111111,\"#482878\"],[0.2222222222222222,\"#3e4989\"],[0.3333333333333333,\"#31688e\"],[0.4444444444444444,\"#26828e\"],[0.5555555555555556,\"#1f9e89\"],[0.6666666666666666,\"#35b779\"],[0.7777777777777778,\"#6ece58\"],[0.8888888888888888,\"#b5de2b\"],[1.0,\"#fde725\"]],\"sequentialminus\":[[0.0,\"#440154\"],[0.1111111111111111,\"#482878\"],[0.2222222222222222,\"#3e4989\"],[0.3333333333333333,\"#31688e\"],[0.4444444444444444,\"#26828e\"],[0.5555555555555556,\"#1f9e89\"],[0.6666666666666666,\"#35b779\"],[0.7777777777777778,\"#6ece58\"],[0.8888888888888888,\"#b5de2b\"],[1.0,\"#fde725\"]]},\"colorway\":[\"#1F77B4\",\"#FF7F0E\",\"#2CA02C\",\"#D62728\",\"#9467BD\",\"#8C564B\",\"#E377C2\",\"#7F7F7F\",\"#BCBD22\",\"#17BECF\"],\"font\":{\"color\":\"rgb(36,36,36)\"},\"geo\":{\"bgcolor\":\"white\",\"lakecolor\":\"white\",\"landcolor\":\"white\",\"showlakes\":true,\"showland\":true,\"subunitcolor\":\"white\"},\"hoverlabel\":{\"align\":\"left\"},\"hovermode\":\"closest\",\"mapbox\":{\"style\":\"light\"},\"paper_bgcolor\":\"white\",\"plot_bgcolor\":\"white\",\"polar\":{\"angularaxis\":{\"gridcolor\":\"rgb(232,232,232)\",\"linecolor\":\"rgb(36,36,36)\",\"showgrid\":false,\"showline\":true,\"ticks\":\"outside\"},\"bgcolor\":\"white\",\"radialaxis\":{\"gridcolor\":\"rgb(232,232,232)\",\"linecolor\":\"rgb(36,36,36)\",\"showgrid\":false,\"showline\":true,\"ticks\":\"outside\"}},\"scene\":{\"xaxis\":{\"backgroundcolor\":\"white\",\"gridcolor\":\"rgb(232,232,232)\",\"gridwidth\":2,\"linecolor\":\"rgb(36,36,36)\",\"showbackground\":true,\"showgrid\":false,\"showline\":true,\"ticks\":\"outside\",\"zeroline\":false,\"zerolinecolor\":\"rgb(36,36,36)\"},\"yaxis\":{\"backgroundcolor\":\"white\",\"gridcolor\":\"rgb(232,232,232)\",\"gridwidth\":2,\"linecolor\":\"rgb(36,36,36)\",\"showbackground\":true,\"showgrid\":false,\"showline\":true,\"ticks\":\"outside\",\"zeroline\":false,\"zerolinecolor\":\"rgb(36,36,36)\"},\"zaxis\":{\"backgroundcolor\":\"white\",\"gridcolor\":\"rgb(232,232,232)\",\"gridwidth\":2,\"linecolor\":\"rgb(36,36,36)\",\"showbackground\":true,\"showgrid\":false,\"showline\":true,\"ticks\":\"outside\",\"zeroline\":false,\"zerolinecolor\":\"rgb(36,36,36)\"}},\"shapedefaults\":{\"fillcolor\":\"black\",\"line\":{\"width\":0},\"opacity\":0.3},\"ternary\":{\"aaxis\":{\"gridcolor\":\"rgb(232,232,232)\",\"linecolor\":\"rgb(36,36,36)\",\"showgrid\":false,\"showline\":true,\"ticks\":\"outside\"},\"baxis\":{\"gridcolor\":\"rgb(232,232,232)\",\"linecolor\":\"rgb(36,36,36)\",\"showgrid\":false,\"showline\":true,\"ticks\":\"outside\"},\"bgcolor\":\"white\",\"caxis\":{\"gridcolor\":\"rgb(232,232,232)\",\"linecolor\":\"rgb(36,36,36)\",\"showgrid\":false,\"showline\":true,\"ticks\":\"outside\"}},\"title\":{\"x\":0.05},\"xaxis\":{\"automargin\":true,\"gridcolor\":\"rgb(232,232,232)\",\"linecolor\":\"rgb(36,36,36)\",\"showgrid\":false,\"showline\":true,\"ticks\":\"outside\",\"title\":{\"standoff\":15},\"zeroline\":false,\"zerolinecolor\":\"rgb(36,36,36)\"},\"yaxis\":{\"automargin\":true,\"gridcolor\":\"rgb(232,232,232)\",\"linecolor\":\"rgb(36,36,36)\",\"showgrid\":false,\"showline\":true,\"ticks\":\"outside\",\"title\":{\"standoff\":15},\"zeroline\":false,\"zerolinecolor\":\"rgb(36,36,36)\"}}},\"xaxis\":{\"anchor\":\"y\",\"domain\":[0.0,1.0],\"title\":{\"text\":\"ethnicity\"},\"categoryorder\":\"total descending\"},\"yaxis\":{\"anchor\":\"x\",\"domain\":[0.0,1.0],\"title\":{\"text\":\"percent\"}},\"legend\":{\"tracegroupgap\":0,\"orientation\":\"v\",\"y\":1,\"yanchor\":\"top\",\"x\":1.0,\"xanchor\":\"right\"},\"margin\":{\"t\":60},\"barmode\":\"relative\",\"height\":400,\"width\":600,\"font\":{\"family\":\"San Serif\"},\"title\":{\"text\":\"Ethnic group of the patient\",\"font\":{\"size\":20}}},                        {\"responsive\": true}                    ).then(function(){\n",
       "                            \n",
       "var gd = document.getElementById('df27e6e3-e62d-482c-9dc7-bc3c3204ff89');\n",
       "var x = new MutationObserver(function (mutations, observer) {{\n",
       "        var display = window.getComputedStyle(gd).display;\n",
       "        if (!display || display === 'none') {{\n",
       "            console.log([gd, 'removed!']);\n",
       "            Plotly.purge(gd);\n",
       "            observer.disconnect();\n",
       "        }}\n",
       "}});\n",
       "\n",
       "// Listen for the removal of the full notebook cells\n",
       "var notebookContainer = gd.closest('#notebook-container');\n",
       "if (notebookContainer) {{\n",
       "    x.observe(notebookContainer, {childList: true});\n",
       "}}\n",
       "\n",
       "// Listen for the clearing of the current output cell\n",
       "var outputEl = gd.closest('.output');\n",
       "if (outputEl) {{\n",
       "    x.observe(outputEl, {childList: true});\n",
       "}}\n",
       "\n",
       "                        })                };                });            </script>        </div>"
      ]
     },
     "metadata": {},
     "output_type": "display_data"
    },
    {
     "data": {
      "application/vnd.plotly.v1+json": {
       "data": [
        {
         "histnorm": "percent",
         "marker": {
          "color": "purple"
         },
         "name": "ASD_pos",
         "x": [
          "White-European",
          "White-European",
          "?",
          "White-European",
          "Latino",
          "White-European",
          "?",
          "White-European",
          "White-European",
          "Middle Eastern ",
          "White-European",
          "?",
          "White-European",
          "White-European",
          "White-European",
          "White-European",
          "White-European",
          "Black",
          "Black",
          "?",
          "White-European",
          "Hispanic",
          "White-European",
          "White-European",
          "White-European",
          "White-European",
          "White-European",
          "?",
          "White-European",
          "Latino",
          "White-European",
          "Asian",
          "White-European",
          "White-European",
          "Asian",
          "Black",
          "White-European",
          "Middle Eastern ",
          "White-European",
          "White-European",
          "White-European",
          "White-European",
          "Pasifika",
          "White-European",
          "White-European",
          "White-European",
          "White-European",
          "?",
          "?",
          "White-European",
          "Latino",
          "Middle Eastern ",
          "Asian",
          "White-European",
          "White-European",
          "?",
          "Turkish",
          "Hispanic",
          "Others",
          "White-European",
          "White-European",
          "Others",
          "White-European",
          "White-European",
          "White-European",
          "Latino",
          "?",
          "Black",
          "White-European",
          "Black",
          "White-European",
          "Middle Eastern ",
          "White-European",
          "White-European",
          "White-European",
          "White-European",
          "Asian",
          "Latino",
          "Latino",
          "?",
          "Hispanic",
          "Asian",
          "White-European",
          "Asian",
          "White-European",
          "Middle Eastern ",
          "?",
          "Asian",
          "White-European",
          "South Asian",
          "White-European",
          "White-European",
          "Hispanic",
          "?",
          "White-European",
          "White-European",
          "Asian",
          "White-European",
          "White-European",
          "Latino",
          "Latino",
          "?",
          "White-European",
          "White-European",
          "White-European",
          "White-European",
          "White-European",
          "Latino",
          "White-European",
          "Black",
          "White-European",
          "White-European",
          "White-European",
          "White-European",
          "White-European",
          "Others",
          "White-European",
          "White-European",
          "White-European",
          "White-European",
          "White-European",
          "White-European",
          "White-European",
          "White-European",
          "White-European",
          "Asian",
          "Latino",
          "Latino",
          "Hispanic",
          "White-European",
          "?",
          "White-European",
          "White-European",
          "White-European",
          "Asian",
          "Latino",
          "White-European",
          "White-European",
          "White-European",
          "White-European",
          "White-European",
          "White-European",
          "Middle Eastern ",
          "White-European",
          "White-European",
          "Middle Eastern ",
          "Latino",
          "White-European",
          "White-European",
          "Asian",
          "Asian",
          "Latino",
          "White-European",
          "White-European",
          "White-European",
          "Asian",
          "White-European",
          "White-European",
          "White-European",
          "?",
          "Asian",
          "Others",
          "Black",
          "White-European",
          "White-European",
          "White-European",
          "White-European",
          "Black",
          "Asian",
          "Others",
          "Latino",
          "White-European",
          "Asian",
          "White-European",
          "Asian",
          "White-European",
          "White-European",
          "Middle Eastern ",
          "White-European",
          "Others",
          "White-European",
          "White-European",
          "White-European",
          "White-European",
          "White-European"
         ],
         "type": "histogram"
        },
        {
         "histnorm": "percent",
         "marker": {
          "color": "salmon"
         },
         "name": "ASD_neg",
         "opacity": 0.85,
         "x": [
          "White-European",
          "South Asian",
          "South Asian",
          "Black",
          "Asian",
          "White-European",
          "Middle Eastern ",
          "Others",
          "Middle Eastern ",
          "?",
          "?",
          "South Asian",
          "Middle Eastern ",
          "?",
          "Asian",
          "Middle Eastern ",
          "Asian",
          "South Asian",
          "?",
          "White-European",
          "Middle Eastern ",
          "Black",
          "Latino",
          "White-European",
          "Asian",
          "Latino",
          "White-European",
          "Latino",
          "?",
          "Asian",
          "South Asian",
          "?",
          "?",
          "Middle Eastern ",
          "Middle Eastern ",
          "White-European",
          "Asian",
          "Latino",
          "Black",
          "?",
          "Middle Eastern ",
          "?",
          "?",
          "?",
          "Middle Eastern ",
          "Middle Eastern ",
          "?",
          "White-European",
          "Middle Eastern ",
          "White-European",
          "Middle Eastern ",
          "South Asian",
          "White-European",
          "Asian",
          "Latino",
          "Latino",
          "White-European",
          "?",
          "White-European",
          "White-European",
          "Turkish",
          "Latino",
          "White-European",
          "Others",
          "White-European",
          "Latino",
          "Asian",
          "Asian",
          "?",
          "South Asian",
          "Middle Eastern ",
          "Middle Eastern ",
          "Others",
          "White-European",
          "?",
          "Asian",
          "Asian",
          "?",
          "Asian",
          "Latino",
          "Asian",
          "Black",
          "Asian",
          "Middle Eastern ",
          "?",
          "?",
          "Asian",
          "Middle Eastern ",
          "?",
          "South Asian",
          "South Asian",
          "?",
          "Asian",
          "?",
          "Black",
          "Middle Eastern ",
          "Black",
          "White-European",
          "?",
          "Middle Eastern ",
          "Latino",
          "Middle Eastern ",
          "Middle Eastern ",
          "Others",
          "White-European",
          "?",
          "White-European",
          "?",
          "White-European",
          "Asian",
          "Asian",
          "Middle Eastern ",
          "White-European",
          "Hispanic",
          "Black",
          "?",
          "Black",
          "White-European",
          "Others",
          "Middle Eastern ",
          "Black",
          "Asian",
          "Black",
          "White-European",
          "Asian",
          "Asian",
          "?",
          "Asian",
          "Middle Eastern ",
          "Asian",
          "?",
          "Asian",
          "?",
          "Pasifika",
          "Middle Eastern ",
          "South Asian",
          "Latino",
          "?",
          "Asian",
          "Middle Eastern ",
          "Asian",
          "Asian",
          "?",
          "Middle Eastern ",
          "Middle Eastern ",
          "Others",
          "Middle Eastern ",
          "South Asian",
          "Middle Eastern ",
          "?",
          "?",
          "Pasifika",
          "Hispanic",
          "Black",
          "Asian",
          "Black",
          "White-European",
          "Hispanic",
          "?",
          "Middle Eastern ",
          "Asian",
          "Middle Eastern ",
          "Middle Eastern ",
          "?",
          "?",
          "Asian",
          "?",
          "Middle Eastern ",
          "?",
          "Black",
          "Asian",
          "Others",
          "Asian",
          "White-European",
          "White-European",
          "?",
          "White-European",
          "Asian",
          "South Asian",
          "Asian",
          "Middle Eastern ",
          "Middle Eastern ",
          "Latino",
          "Hispanic",
          "Asian",
          "Asian",
          "White-European",
          "White-European",
          "White-European",
          "?",
          "South Asian",
          "Asian",
          "Asian",
          "White-European",
          "Pasifika",
          "Middle Eastern ",
          "White-European",
          "?",
          "Asian",
          "White-European",
          "Middle Eastern ",
          "?",
          "South Asian",
          "Asian",
          "Pasifika",
          "Middle Eastern ",
          "Asian",
          "Others",
          "?",
          "Black",
          "White-European",
          "Turkish",
          "?",
          "Middle Eastern ",
          "Middle Eastern ",
          "Asian",
          "South Asian",
          "Hispanic",
          "?",
          "?",
          "Others",
          "South Asian",
          "White-European",
          "Middle Eastern ",
          "White-European",
          "Middle Eastern ",
          "Asian",
          "Middle Eastern ",
          "Asian",
          "?",
          "Pasifika",
          "South Asian",
          "Middle Eastern ",
          "?",
          "Middle Eastern ",
          "Asian",
          "South Asian",
          "Asian",
          "Hispanic",
          "Asian",
          "?",
          "Asian",
          "?",
          "Asian",
          "Asian",
          "?",
          "Others",
          "?",
          "White-European",
          "White-European",
          "Middle Eastern ",
          "White-European",
          "White-European",
          "?",
          "Asian",
          "South Asian",
          "South Asian",
          "Latino",
          "Middle Eastern ",
          "Middle Eastern ",
          "Latino",
          "Pasifika",
          "Middle Eastern ",
          "?",
          "Middle Eastern ",
          "South Asian",
          "Latino",
          "Middle Eastern ",
          "?",
          "White-European",
          "?",
          "Middle Eastern ",
          "Middle Eastern ",
          "Black",
          "Latino",
          "?",
          "Middle Eastern ",
          "Pasifika",
          "Asian",
          "White-European",
          "Pasifika",
          "?",
          "Asian",
          "?",
          "White-European",
          "Asian",
          "?",
          "?",
          "Pasifika",
          "Middle Eastern ",
          "Asian",
          "Latino",
          "Middle Eastern ",
          "Black",
          "?",
          "Middle Eastern ",
          "White-European",
          "Black",
          "Asian",
          "Asian",
          "Middle Eastern ",
          "White-European",
          "Middle Eastern ",
          "Black",
          "?",
          "Asian",
          "Black",
          "Middle Eastern ",
          "?",
          "White-European",
          "Middle Eastern ",
          "Asian",
          "White-European",
          "?",
          "?",
          "Asian",
          "?",
          "?",
          "?",
          "Middle Eastern ",
          "White-European",
          "Pasifika",
          "Asian",
          "Pasifika",
          "Middle Eastern ",
          "South Asian",
          "Black",
          "?",
          "Middle Eastern ",
          "?",
          "White-European",
          "White-European",
          "?",
          "Asian",
          "White-European",
          "?",
          "Asian",
          "Middle Eastern ",
          "Latino",
          "White-European",
          "Middle Eastern ",
          "Others",
          "South Asian",
          "Asian",
          "Others",
          "Black",
          "Asian",
          "Black",
          "?",
          "White-European",
          "?",
          "Asian",
          "Turkish",
          "?",
          "?",
          "Black",
          "Latino",
          "Middle Eastern ",
          "South Asian",
          "Others",
          "?",
          "White-European",
          "?",
          "Middle Eastern ",
          "?",
          "Pasifika",
          "Asian",
          "Middle Eastern ",
          "Middle Eastern ",
          "?",
          "?",
          "Asian",
          "Middle Eastern ",
          "White-European",
          "White-European",
          "Asian",
          "?",
          "Asian",
          "Pasifika",
          "Black",
          "?",
          "?",
          "Middle Eastern ",
          "?",
          "Black",
          "Asian",
          "Hispanic",
          "Black",
          "Asian",
          "?",
          "Others",
          "Middle Eastern ",
          "?",
          "White-European",
          "?",
          "Asian",
          "Pasifika",
          "Pasifika",
          "Middle Eastern ",
          "South Asian",
          "White-European",
          "Middle Eastern ",
          "South Asian",
          "Black",
          "White-European",
          "?",
          "Asian",
          "Asian",
          "White-European",
          "White-European",
          "White-European",
          "Black",
          "Middle Eastern ",
          "?",
          "?",
          "Asian",
          "?",
          "?",
          "?",
          "Asian",
          "White-European",
          "Others",
          "Asian",
          "Middle Eastern ",
          "Middle Eastern ",
          "?",
          "?",
          "Asian",
          "Latino",
          "Hispanic",
          "Middle Eastern ",
          "Asian",
          "Asian",
          "Others",
          "Middle Eastern ",
          "White-European",
          "White-European",
          "?",
          "?",
          "South Asian",
          "?",
          "Middle Eastern ",
          "Latino",
          "Asian",
          "?",
          "Middle Eastern ",
          "Middle Eastern ",
          "White-European",
          "Latino",
          "Asian",
          "Latino",
          "White-European",
          "Pasifika",
          "?",
          "Asian",
          "?",
          "?",
          "White-European",
          "Black",
          "South Asian",
          "Asian",
          "White-European",
          "Latino",
          "White-European",
          "Asian",
          "White-European",
          "Black",
          "Middle Eastern ",
          "Asian",
          "White-European",
          "?",
          "?",
          "Asian",
          "?",
          "?",
          "Black",
          "Latino",
          "Latino",
          "?",
          "White-European",
          "?",
          "?",
          "?",
          "Asian",
          "Middle Eastern ",
          "Black",
          "Asian",
          "Others",
          "Hispanic",
          "White-European",
          "Middle Eastern ",
          "Others",
          "?",
          "Middle Eastern ",
          "Asian",
          "Asian",
          "Asian",
          "Middle Eastern ",
          "Asian",
          "White-European",
          "Asian",
          "White-European",
          "White-European",
          "?",
          "Middle Eastern ",
          "Asian",
          "?",
          "Asian",
          "White-European",
          "South Asian",
          "?",
          "South Asian",
          "White-European",
          "White-European",
          "?",
          "Latino",
          "White-European",
          "Latino",
          "?",
          "?",
          "?",
          "Middle Eastern ",
          "White-European",
          "Asian",
          "Black",
          "?",
          "Asian",
          "White-European",
          "Asian",
          "White-European",
          "Middle Eastern ",
          "White-European",
          "Asian",
          "White-European",
          "White-European",
          "?",
          "Middle Eastern ",
          "Asian",
          "Asian",
          "Middle Eastern ",
          "?",
          "Asian",
          "Asian",
          "Middle Eastern ",
          "Black",
          "White-European",
          "Asian",
          "Asian",
          "White-European",
          "Others",
          "?",
          "Middle Eastern ",
          "Middle Eastern ",
          "Asian",
          "Asian",
          "White-European",
          "?",
          "Middle Eastern ",
          "?",
          "?",
          "Black",
          "South Asian",
          "?",
          "Middle Eastern ",
          "White-European",
          "Middle Eastern ",
          "?",
          "Asian",
          "White-European",
          "Latino",
          "Middle Eastern ",
          "White-European",
          "South Asian",
          "White-European",
          "White-European",
          "White-European",
          "Asian",
          "Middle Eastern ",
          "Asian",
          "?",
          "White-European",
          "Asian",
          "?",
          "Middle Eastern ",
          "Hispanic",
          "White-European",
          "Middle Eastern ",
          "Black",
          "Middle Eastern ",
          "Asian",
          "?",
          "Others",
          "White-European",
          "Middle Eastern ",
          "?",
          "White-European",
          "White-European",
          "South Asian",
          "White-European",
          "White-European",
          "?",
          "Middle Eastern ",
          "South Asian",
          "White-European",
          "?",
          "Middle Eastern ",
          "?",
          "Asian",
          "Black",
          "?",
          "Hispanic",
          "Pasifika",
          "Asian",
          "Middle Eastern ",
          "Asian"
         ],
         "type": "histogram"
        }
       ],
       "layout": {
        "template": {
         "data": {
          "barpolar": [
           {
            "marker": {
             "line": {
              "color": "white",
              "width": 0.5
             },
             "pattern": {
              "fillmode": "overlay",
              "size": 10,
              "solidity": 0.2
             }
            },
            "type": "barpolar"
           }
          ],
          "bar": [
           {
            "error_x": {
             "color": "rgb(36,36,36)"
            },
            "error_y": {
             "color": "rgb(36,36,36)"
            },
            "marker": {
             "line": {
              "color": "white",
              "width": 0.5
             },
             "pattern": {
              "fillmode": "overlay",
              "size": 10,
              "solidity": 0.2
             }
            },
            "type": "bar"
           }
          ],
          "carpet": [
           {
            "aaxis": {
             "endlinecolor": "rgb(36,36,36)",
             "gridcolor": "white",
             "linecolor": "white",
             "minorgridcolor": "white",
             "startlinecolor": "rgb(36,36,36)"
            },
            "baxis": {
             "endlinecolor": "rgb(36,36,36)",
             "gridcolor": "white",
             "linecolor": "white",
             "minorgridcolor": "white",
             "startlinecolor": "rgb(36,36,36)"
            },
            "type": "carpet"
           }
          ],
          "choropleth": [
           {
            "colorbar": {
             "outlinewidth": 1,
             "tickcolor": "rgb(36,36,36)",
             "ticks": "outside"
            },
            "type": "choropleth"
           }
          ],
          "contourcarpet": [
           {
            "colorbar": {
             "outlinewidth": 1,
             "tickcolor": "rgb(36,36,36)",
             "ticks": "outside"
            },
            "type": "contourcarpet"
           }
          ],
          "contour": [
           {
            "colorbar": {
             "outlinewidth": 1,
             "tickcolor": "rgb(36,36,36)",
             "ticks": "outside"
            },
            "colorscale": [
             [
              0.0,
              "#440154"
             ],
             [
              0.1111111111111111,
              "#482878"
             ],
             [
              0.2222222222222222,
              "#3e4989"
             ],
             [
              0.3333333333333333,
              "#31688e"
             ],
             [
              0.4444444444444444,
              "#26828e"
             ],
             [
              0.5555555555555556,
              "#1f9e89"
             ],
             [
              0.6666666666666666,
              "#35b779"
             ],
             [
              0.7777777777777778,
              "#6ece58"
             ],
             [
              0.8888888888888888,
              "#b5de2b"
             ],
             [
              1.0,
              "#fde725"
             ]
            ],
            "type": "contour"
           }
          ],
          "heatmapgl": [
           {
            "colorbar": {
             "outlinewidth": 1,
             "tickcolor": "rgb(36,36,36)",
             "ticks": "outside"
            },
            "colorscale": [
             [
              0.0,
              "#440154"
             ],
             [
              0.1111111111111111,
              "#482878"
             ],
             [
              0.2222222222222222,
              "#3e4989"
             ],
             [
              0.3333333333333333,
              "#31688e"
             ],
             [
              0.4444444444444444,
              "#26828e"
             ],
             [
              0.5555555555555556,
              "#1f9e89"
             ],
             [
              0.6666666666666666,
              "#35b779"
             ],
             [
              0.7777777777777778,
              "#6ece58"
             ],
             [
              0.8888888888888888,
              "#b5de2b"
             ],
             [
              1.0,
              "#fde725"
             ]
            ],
            "type": "heatmapgl"
           }
          ],
          "heatmap": [
           {
            "colorbar": {
             "outlinewidth": 1,
             "tickcolor": "rgb(36,36,36)",
             "ticks": "outside"
            },
            "colorscale": [
             [
              0.0,
              "#440154"
             ],
             [
              0.1111111111111111,
              "#482878"
             ],
             [
              0.2222222222222222,
              "#3e4989"
             ],
             [
              0.3333333333333333,
              "#31688e"
             ],
             [
              0.4444444444444444,
              "#26828e"
             ],
             [
              0.5555555555555556,
              "#1f9e89"
             ],
             [
              0.6666666666666666,
              "#35b779"
             ],
             [
              0.7777777777777778,
              "#6ece58"
             ],
             [
              0.8888888888888888,
              "#b5de2b"
             ],
             [
              1.0,
              "#fde725"
             ]
            ],
            "type": "heatmap"
           }
          ],
          "histogram2dcontour": [
           {
            "colorbar": {
             "outlinewidth": 1,
             "tickcolor": "rgb(36,36,36)",
             "ticks": "outside"
            },
            "colorscale": [
             [
              0.0,
              "#440154"
             ],
             [
              0.1111111111111111,
              "#482878"
             ],
             [
              0.2222222222222222,
              "#3e4989"
             ],
             [
              0.3333333333333333,
              "#31688e"
             ],
             [
              0.4444444444444444,
              "#26828e"
             ],
             [
              0.5555555555555556,
              "#1f9e89"
             ],
             [
              0.6666666666666666,
              "#35b779"
             ],
             [
              0.7777777777777778,
              "#6ece58"
             ],
             [
              0.8888888888888888,
              "#b5de2b"
             ],
             [
              1.0,
              "#fde725"
             ]
            ],
            "type": "histogram2dcontour"
           }
          ],
          "histogram2d": [
           {
            "colorbar": {
             "outlinewidth": 1,
             "tickcolor": "rgb(36,36,36)",
             "ticks": "outside"
            },
            "colorscale": [
             [
              0.0,
              "#440154"
             ],
             [
              0.1111111111111111,
              "#482878"
             ],
             [
              0.2222222222222222,
              "#3e4989"
             ],
             [
              0.3333333333333333,
              "#31688e"
             ],
             [
              0.4444444444444444,
              "#26828e"
             ],
             [
              0.5555555555555556,
              "#1f9e89"
             ],
             [
              0.6666666666666666,
              "#35b779"
             ],
             [
              0.7777777777777778,
              "#6ece58"
             ],
             [
              0.8888888888888888,
              "#b5de2b"
             ],
             [
              1.0,
              "#fde725"
             ]
            ],
            "type": "histogram2d"
           }
          ],
          "histogram": [
           {
            "marker": {
             "line": {
              "color": "white",
              "width": 0.6
             }
            },
            "type": "histogram"
           }
          ],
          "mesh3d": [
           {
            "colorbar": {
             "outlinewidth": 1,
             "tickcolor": "rgb(36,36,36)",
             "ticks": "outside"
            },
            "type": "mesh3d"
           }
          ],
          "parcoords": [
           {
            "line": {
             "colorbar": {
              "outlinewidth": 1,
              "tickcolor": "rgb(36,36,36)",
              "ticks": "outside"
             }
            },
            "type": "parcoords"
           }
          ],
          "pie": [
           {
            "automargin": true,
            "type": "pie"
           }
          ],
          "scatter3d": [
           {
            "line": {
             "colorbar": {
              "outlinewidth": 1,
              "tickcolor": "rgb(36,36,36)",
              "ticks": "outside"
             }
            },
            "marker": {
             "colorbar": {
              "outlinewidth": 1,
              "tickcolor": "rgb(36,36,36)",
              "ticks": "outside"
             }
            },
            "type": "scatter3d"
           }
          ],
          "scattercarpet": [
           {
            "marker": {
             "colorbar": {
              "outlinewidth": 1,
              "tickcolor": "rgb(36,36,36)",
              "ticks": "outside"
             }
            },
            "type": "scattercarpet"
           }
          ],
          "scattergeo": [
           {
            "marker": {
             "colorbar": {
              "outlinewidth": 1,
              "tickcolor": "rgb(36,36,36)",
              "ticks": "outside"
             }
            },
            "type": "scattergeo"
           }
          ],
          "scattergl": [
           {
            "marker": {
             "colorbar": {
              "outlinewidth": 1,
              "tickcolor": "rgb(36,36,36)",
              "ticks": "outside"
             }
            },
            "type": "scattergl"
           }
          ],
          "scattermapbox": [
           {
            "marker": {
             "colorbar": {
              "outlinewidth": 1,
              "tickcolor": "rgb(36,36,36)",
              "ticks": "outside"
             }
            },
            "type": "scattermapbox"
           }
          ],
          "scatterpolargl": [
           {
            "marker": {
             "colorbar": {
              "outlinewidth": 1,
              "tickcolor": "rgb(36,36,36)",
              "ticks": "outside"
             }
            },
            "type": "scatterpolargl"
           }
          ],
          "scatterpolar": [
           {
            "marker": {
             "colorbar": {
              "outlinewidth": 1,
              "tickcolor": "rgb(36,36,36)",
              "ticks": "outside"
             }
            },
            "type": "scatterpolar"
           }
          ],
          "scatter": [
           {
            "fillpattern": {
             "fillmode": "overlay",
             "size": 10,
             "solidity": 0.2
            },
            "type": "scatter"
           }
          ],
          "scatterternary": [
           {
            "marker": {
             "colorbar": {
              "outlinewidth": 1,
              "tickcolor": "rgb(36,36,36)",
              "ticks": "outside"
             }
            },
            "type": "scatterternary"
           }
          ],
          "surface": [
           {
            "colorbar": {
             "outlinewidth": 1,
             "tickcolor": "rgb(36,36,36)",
             "ticks": "outside"
            },
            "colorscale": [
             [
              0.0,
              "#440154"
             ],
             [
              0.1111111111111111,
              "#482878"
             ],
             [
              0.2222222222222222,
              "#3e4989"
             ],
             [
              0.3333333333333333,
              "#31688e"
             ],
             [
              0.4444444444444444,
              "#26828e"
             ],
             [
              0.5555555555555556,
              "#1f9e89"
             ],
             [
              0.6666666666666666,
              "#35b779"
             ],
             [
              0.7777777777777778,
              "#6ece58"
             ],
             [
              0.8888888888888888,
              "#b5de2b"
             ],
             [
              1.0,
              "#fde725"
             ]
            ],
            "type": "surface"
           }
          ],
          "table": [
           {
            "cells": {
             "fill": {
              "color": "rgb(237,237,237)"
             },
             "line": {
              "color": "white"
             }
            },
            "header": {
             "fill": {
              "color": "rgb(217,217,217)"
             },
             "line": {
              "color": "white"
             }
            },
            "type": "table"
           }
          ]
         },
         "layout": {
          "annotationdefaults": {
           "arrowhead": 0,
           "arrowwidth": 1
          },
          "autotypenumbers": "strict",
          "coloraxis": {
           "colorbar": {
            "outlinewidth": 1,
            "tickcolor": "rgb(36,36,36)",
            "ticks": "outside"
           }
          },
          "colorscale": {
           "diverging": [
            [
             0.0,
             "rgb(103,0,31)"
            ],
            [
             0.1,
             "rgb(178,24,43)"
            ],
            [
             0.2,
             "rgb(214,96,77)"
            ],
            [
             0.3,
             "rgb(244,165,130)"
            ],
            [
             0.4,
             "rgb(253,219,199)"
            ],
            [
             0.5,
             "rgb(247,247,247)"
            ],
            [
             0.6,
             "rgb(209,229,240)"
            ],
            [
             0.7,
             "rgb(146,197,222)"
            ],
            [
             0.8,
             "rgb(67,147,195)"
            ],
            [
             0.9,
             "rgb(33,102,172)"
            ],
            [
             1.0,
             "rgb(5,48,97)"
            ]
           ],
           "sequential": [
            [
             0.0,
             "#440154"
            ],
            [
             0.1111111111111111,
             "#482878"
            ],
            [
             0.2222222222222222,
             "#3e4989"
            ],
            [
             0.3333333333333333,
             "#31688e"
            ],
            [
             0.4444444444444444,
             "#26828e"
            ],
            [
             0.5555555555555556,
             "#1f9e89"
            ],
            [
             0.6666666666666666,
             "#35b779"
            ],
            [
             0.7777777777777778,
             "#6ece58"
            ],
            [
             0.8888888888888888,
             "#b5de2b"
            ],
            [
             1.0,
             "#fde725"
            ]
           ],
           "sequentialminus": [
            [
             0.0,
             "#440154"
            ],
            [
             0.1111111111111111,
             "#482878"
            ],
            [
             0.2222222222222222,
             "#3e4989"
            ],
            [
             0.3333333333333333,
             "#31688e"
            ],
            [
             0.4444444444444444,
             "#26828e"
            ],
            [
             0.5555555555555556,
             "#1f9e89"
            ],
            [
             0.6666666666666666,
             "#35b779"
            ],
            [
             0.7777777777777778,
             "#6ece58"
            ],
            [
             0.8888888888888888,
             "#b5de2b"
            ],
            [
             1.0,
             "#fde725"
            ]
           ]
          },
          "colorway": [
           "#1F77B4",
           "#FF7F0E",
           "#2CA02C",
           "#D62728",
           "#9467BD",
           "#8C564B",
           "#E377C2",
           "#7F7F7F",
           "#BCBD22",
           "#17BECF"
          ],
          "font": {
           "color": "rgb(36,36,36)"
          },
          "geo": {
           "bgcolor": "white",
           "lakecolor": "white",
           "landcolor": "white",
           "showlakes": true,
           "showland": true,
           "subunitcolor": "white"
          },
          "hoverlabel": {
           "align": "left"
          },
          "hovermode": "closest",
          "mapbox": {
           "style": "light"
          },
          "paper_bgcolor": "white",
          "plot_bgcolor": "white",
          "polar": {
           "angularaxis": {
            "gridcolor": "rgb(232,232,232)",
            "linecolor": "rgb(36,36,36)",
            "showgrid": false,
            "showline": true,
            "ticks": "outside"
           },
           "bgcolor": "white",
           "radialaxis": {
            "gridcolor": "rgb(232,232,232)",
            "linecolor": "rgb(36,36,36)",
            "showgrid": false,
            "showline": true,
            "ticks": "outside"
           }
          },
          "scene": {
           "xaxis": {
            "backgroundcolor": "white",
            "gridcolor": "rgb(232,232,232)",
            "gridwidth": 2,
            "linecolor": "rgb(36,36,36)",
            "showbackground": true,
            "showgrid": false,
            "showline": true,
            "ticks": "outside",
            "zeroline": false,
            "zerolinecolor": "rgb(36,36,36)"
           },
           "yaxis": {
            "backgroundcolor": "white",
            "gridcolor": "rgb(232,232,232)",
            "gridwidth": 2,
            "linecolor": "rgb(36,36,36)",
            "showbackground": true,
            "showgrid": false,
            "showline": true,
            "ticks": "outside",
            "zeroline": false,
            "zerolinecolor": "rgb(36,36,36)"
           },
           "zaxis": {
            "backgroundcolor": "white",
            "gridcolor": "rgb(232,232,232)",
            "gridwidth": 2,
            "linecolor": "rgb(36,36,36)",
            "showbackground": true,
            "showgrid": false,
            "showline": true,
            "ticks": "outside",
            "zeroline": false,
            "zerolinecolor": "rgb(36,36,36)"
           }
          },
          "shapedefaults": {
           "fillcolor": "black",
           "line": {
            "width": 0
           },
           "opacity": 0.3
          },
          "ternary": {
           "aaxis": {
            "gridcolor": "rgb(232,232,232)",
            "linecolor": "rgb(36,36,36)",
            "showgrid": false,
            "showline": true,
            "ticks": "outside"
           },
           "baxis": {
            "gridcolor": "rgb(232,232,232)",
            "linecolor": "rgb(36,36,36)",
            "showgrid": false,
            "showline": true,
            "ticks": "outside"
           },
           "bgcolor": "white",
           "caxis": {
            "gridcolor": "rgb(232,232,232)",
            "linecolor": "rgb(36,36,36)",
            "showgrid": false,
            "showline": true,
            "ticks": "outside"
           }
          },
          "title": {
           "x": 0.05
          },
          "xaxis": {
           "automargin": true,
           "gridcolor": "rgb(232,232,232)",
           "linecolor": "rgb(36,36,36)",
           "showgrid": false,
           "showline": true,
           "ticks": "outside",
           "title": {
            "standoff": 15
           },
           "zeroline": false,
           "zerolinecolor": "rgb(36,36,36)"
          },
          "yaxis": {
           "automargin": true,
           "gridcolor": "rgb(232,232,232)",
           "linecolor": "rgb(36,36,36)",
           "showgrid": false,
           "showline": true,
           "ticks": "outside",
           "title": {
            "standoff": 15
           },
           "zeroline": false,
           "zerolinecolor": "rgb(36,36,36)"
          }
         }
        },
        "font": {
         "family": "San Serif"
        },
        "title": {
         "text": "Ethnic group of the patient",
         "font": {
          "size": 20
         }
        },
        "legend": {
         "orientation": "v",
         "y": 1,
         "yanchor": "top",
         "x": 1.0,
         "xanchor": "right"
        },
        "width": 600,
        "height": 400,
        "xaxis": {
         "categoryorder": "total descending"
        }
       },
       "config": {
        "plotlyServerURL": "https://plot.ly"
       }
      },
      "text/html": [
       "<div>                            <div id=\"bbde5164-e787-4761-9dcb-f5f00b950965\" class=\"plotly-graph-div\" style=\"height:400px; width:600px;\"></div>            <script type=\"text/javascript\">                require([\"plotly\"], function(Plotly) {                    window.PLOTLYENV=window.PLOTLYENV || {};                                    if (document.getElementById(\"bbde5164-e787-4761-9dcb-f5f00b950965\")) {                    Plotly.newPlot(                        \"bbde5164-e787-4761-9dcb-f5f00b950965\",                        [{\"histnorm\":\"percent\",\"marker\":{\"color\":\"purple\"},\"name\":\"ASD_pos\",\"x\":[\"White-European\",\"White-European\",\"?\",\"White-European\",\"Latino\",\"White-European\",\"?\",\"White-European\",\"White-European\",\"Middle Eastern \",\"White-European\",\"?\",\"White-European\",\"White-European\",\"White-European\",\"White-European\",\"White-European\",\"Black\",\"Black\",\"?\",\"White-European\",\"Hispanic\",\"White-European\",\"White-European\",\"White-European\",\"White-European\",\"White-European\",\"?\",\"White-European\",\"Latino\",\"White-European\",\"Asian\",\"White-European\",\"White-European\",\"Asian\",\"Black\",\"White-European\",\"Middle Eastern \",\"White-European\",\"White-European\",\"White-European\",\"White-European\",\"Pasifika\",\"White-European\",\"White-European\",\"White-European\",\"White-European\",\"?\",\"?\",\"White-European\",\"Latino\",\"Middle Eastern \",\"Asian\",\"White-European\",\"White-European\",\"?\",\"Turkish\",\"Hispanic\",\"Others\",\"White-European\",\"White-European\",\"Others\",\"White-European\",\"White-European\",\"White-European\",\"Latino\",\"?\",\"Black\",\"White-European\",\"Black\",\"White-European\",\"Middle Eastern \",\"White-European\",\"White-European\",\"White-European\",\"White-European\",\"Asian\",\"Latino\",\"Latino\",\"?\",\"Hispanic\",\"Asian\",\"White-European\",\"Asian\",\"White-European\",\"Middle Eastern \",\"?\",\"Asian\",\"White-European\",\"South Asian\",\"White-European\",\"White-European\",\"Hispanic\",\"?\",\"White-European\",\"White-European\",\"Asian\",\"White-European\",\"White-European\",\"Latino\",\"Latino\",\"?\",\"White-European\",\"White-European\",\"White-European\",\"White-European\",\"White-European\",\"Latino\",\"White-European\",\"Black\",\"White-European\",\"White-European\",\"White-European\",\"White-European\",\"White-European\",\"Others\",\"White-European\",\"White-European\",\"White-European\",\"White-European\",\"White-European\",\"White-European\",\"White-European\",\"White-European\",\"White-European\",\"Asian\",\"Latino\",\"Latino\",\"Hispanic\",\"White-European\",\"?\",\"White-European\",\"White-European\",\"White-European\",\"Asian\",\"Latino\",\"White-European\",\"White-European\",\"White-European\",\"White-European\",\"White-European\",\"White-European\",\"Middle Eastern \",\"White-European\",\"White-European\",\"Middle Eastern \",\"Latino\",\"White-European\",\"White-European\",\"Asian\",\"Asian\",\"Latino\",\"White-European\",\"White-European\",\"White-European\",\"Asian\",\"White-European\",\"White-European\",\"White-European\",\"?\",\"Asian\",\"Others\",\"Black\",\"White-European\",\"White-European\",\"White-European\",\"White-European\",\"Black\",\"Asian\",\"Others\",\"Latino\",\"White-European\",\"Asian\",\"White-European\",\"Asian\",\"White-European\",\"White-European\",\"Middle Eastern \",\"White-European\",\"Others\",\"White-European\",\"White-European\",\"White-European\",\"White-European\",\"White-European\"],\"type\":\"histogram\"},{\"histnorm\":\"percent\",\"marker\":{\"color\":\"salmon\"},\"name\":\"ASD_neg\",\"opacity\":0.85,\"x\":[\"White-European\",\"South Asian\",\"South Asian\",\"Black\",\"Asian\",\"White-European\",\"Middle Eastern \",\"Others\",\"Middle Eastern \",\"?\",\"?\",\"South Asian\",\"Middle Eastern \",\"?\",\"Asian\",\"Middle Eastern \",\"Asian\",\"South Asian\",\"?\",\"White-European\",\"Middle Eastern \",\"Black\",\"Latino\",\"White-European\",\"Asian\",\"Latino\",\"White-European\",\"Latino\",\"?\",\"Asian\",\"South Asian\",\"?\",\"?\",\"Middle Eastern \",\"Middle Eastern \",\"White-European\",\"Asian\",\"Latino\",\"Black\",\"?\",\"Middle Eastern \",\"?\",\"?\",\"?\",\"Middle Eastern \",\"Middle Eastern \",\"?\",\"White-European\",\"Middle Eastern \",\"White-European\",\"Middle Eastern \",\"South Asian\",\"White-European\",\"Asian\",\"Latino\",\"Latino\",\"White-European\",\"?\",\"White-European\",\"White-European\",\"Turkish\",\"Latino\",\"White-European\",\"Others\",\"White-European\",\"Latino\",\"Asian\",\"Asian\",\"?\",\"South Asian\",\"Middle Eastern \",\"Middle Eastern \",\"Others\",\"White-European\",\"?\",\"Asian\",\"Asian\",\"?\",\"Asian\",\"Latino\",\"Asian\",\"Black\",\"Asian\",\"Middle Eastern \",\"?\",\"?\",\"Asian\",\"Middle Eastern \",\"?\",\"South Asian\",\"South Asian\",\"?\",\"Asian\",\"?\",\"Black\",\"Middle Eastern \",\"Black\",\"White-European\",\"?\",\"Middle Eastern \",\"Latino\",\"Middle Eastern \",\"Middle Eastern \",\"Others\",\"White-European\",\"?\",\"White-European\",\"?\",\"White-European\",\"Asian\",\"Asian\",\"Middle Eastern \",\"White-European\",\"Hispanic\",\"Black\",\"?\",\"Black\",\"White-European\",\"Others\",\"Middle Eastern \",\"Black\",\"Asian\",\"Black\",\"White-European\",\"Asian\",\"Asian\",\"?\",\"Asian\",\"Middle Eastern \",\"Asian\",\"?\",\"Asian\",\"?\",\"Pasifika\",\"Middle Eastern \",\"South Asian\",\"Latino\",\"?\",\"Asian\",\"Middle Eastern \",\"Asian\",\"Asian\",\"?\",\"Middle Eastern \",\"Middle Eastern \",\"Others\",\"Middle Eastern \",\"South Asian\",\"Middle Eastern \",\"?\",\"?\",\"Pasifika\",\"Hispanic\",\"Black\",\"Asian\",\"Black\",\"White-European\",\"Hispanic\",\"?\",\"Middle Eastern \",\"Asian\",\"Middle Eastern \",\"Middle Eastern \",\"?\",\"?\",\"Asian\",\"?\",\"Middle Eastern \",\"?\",\"Black\",\"Asian\",\"Others\",\"Asian\",\"White-European\",\"White-European\",\"?\",\"White-European\",\"Asian\",\"South Asian\",\"Asian\",\"Middle Eastern \",\"Middle Eastern \",\"Latino\",\"Hispanic\",\"Asian\",\"Asian\",\"White-European\",\"White-European\",\"White-European\",\"?\",\"South Asian\",\"Asian\",\"Asian\",\"White-European\",\"Pasifika\",\"Middle Eastern \",\"White-European\",\"?\",\"Asian\",\"White-European\",\"Middle Eastern \",\"?\",\"South Asian\",\"Asian\",\"Pasifika\",\"Middle Eastern \",\"Asian\",\"Others\",\"?\",\"Black\",\"White-European\",\"Turkish\",\"?\",\"Middle Eastern \",\"Middle Eastern \",\"Asian\",\"South Asian\",\"Hispanic\",\"?\",\"?\",\"Others\",\"South Asian\",\"White-European\",\"Middle Eastern \",\"White-European\",\"Middle Eastern \",\"Asian\",\"Middle Eastern \",\"Asian\",\"?\",\"Pasifika\",\"South Asian\",\"Middle Eastern \",\"?\",\"Middle Eastern \",\"Asian\",\"South Asian\",\"Asian\",\"Hispanic\",\"Asian\",\"?\",\"Asian\",\"?\",\"Asian\",\"Asian\",\"?\",\"Others\",\"?\",\"White-European\",\"White-European\",\"Middle Eastern \",\"White-European\",\"White-European\",\"?\",\"Asian\",\"South Asian\",\"South Asian\",\"Latino\",\"Middle Eastern \",\"Middle Eastern \",\"Latino\",\"Pasifika\",\"Middle Eastern \",\"?\",\"Middle Eastern \",\"South Asian\",\"Latino\",\"Middle Eastern \",\"?\",\"White-European\",\"?\",\"Middle Eastern \",\"Middle Eastern \",\"Black\",\"Latino\",\"?\",\"Middle Eastern \",\"Pasifika\",\"Asian\",\"White-European\",\"Pasifika\",\"?\",\"Asian\",\"?\",\"White-European\",\"Asian\",\"?\",\"?\",\"Pasifika\",\"Middle Eastern \",\"Asian\",\"Latino\",\"Middle Eastern \",\"Black\",\"?\",\"Middle Eastern \",\"White-European\",\"Black\",\"Asian\",\"Asian\",\"Middle Eastern \",\"White-European\",\"Middle Eastern \",\"Black\",\"?\",\"Asian\",\"Black\",\"Middle Eastern \",\"?\",\"White-European\",\"Middle Eastern \",\"Asian\",\"White-European\",\"?\",\"?\",\"Asian\",\"?\",\"?\",\"?\",\"Middle Eastern \",\"White-European\",\"Pasifika\",\"Asian\",\"Pasifika\",\"Middle Eastern \",\"South Asian\",\"Black\",\"?\",\"Middle Eastern \",\"?\",\"White-European\",\"White-European\",\"?\",\"Asian\",\"White-European\",\"?\",\"Asian\",\"Middle Eastern \",\"Latino\",\"White-European\",\"Middle Eastern \",\"Others\",\"South Asian\",\"Asian\",\"Others\",\"Black\",\"Asian\",\"Black\",\"?\",\"White-European\",\"?\",\"Asian\",\"Turkish\",\"?\",\"?\",\"Black\",\"Latino\",\"Middle Eastern \",\"South Asian\",\"Others\",\"?\",\"White-European\",\"?\",\"Middle Eastern \",\"?\",\"Pasifika\",\"Asian\",\"Middle Eastern \",\"Middle Eastern \",\"?\",\"?\",\"Asian\",\"Middle Eastern \",\"White-European\",\"White-European\",\"Asian\",\"?\",\"Asian\",\"Pasifika\",\"Black\",\"?\",\"?\",\"Middle Eastern \",\"?\",\"Black\",\"Asian\",\"Hispanic\",\"Black\",\"Asian\",\"?\",\"Others\",\"Middle Eastern \",\"?\",\"White-European\",\"?\",\"Asian\",\"Pasifika\",\"Pasifika\",\"Middle Eastern \",\"South Asian\",\"White-European\",\"Middle Eastern \",\"South Asian\",\"Black\",\"White-European\",\"?\",\"Asian\",\"Asian\",\"White-European\",\"White-European\",\"White-European\",\"Black\",\"Middle Eastern \",\"?\",\"?\",\"Asian\",\"?\",\"?\",\"?\",\"Asian\",\"White-European\",\"Others\",\"Asian\",\"Middle Eastern \",\"Middle Eastern \",\"?\",\"?\",\"Asian\",\"Latino\",\"Hispanic\",\"Middle Eastern \",\"Asian\",\"Asian\",\"Others\",\"Middle Eastern \",\"White-European\",\"White-European\",\"?\",\"?\",\"South Asian\",\"?\",\"Middle Eastern \",\"Latino\",\"Asian\",\"?\",\"Middle Eastern \",\"Middle Eastern \",\"White-European\",\"Latino\",\"Asian\",\"Latino\",\"White-European\",\"Pasifika\",\"?\",\"Asian\",\"?\",\"?\",\"White-European\",\"Black\",\"South Asian\",\"Asian\",\"White-European\",\"Latino\",\"White-European\",\"Asian\",\"White-European\",\"Black\",\"Middle Eastern \",\"Asian\",\"White-European\",\"?\",\"?\",\"Asian\",\"?\",\"?\",\"Black\",\"Latino\",\"Latino\",\"?\",\"White-European\",\"?\",\"?\",\"?\",\"Asian\",\"Middle Eastern \",\"Black\",\"Asian\",\"Others\",\"Hispanic\",\"White-European\",\"Middle Eastern \",\"Others\",\"?\",\"Middle Eastern \",\"Asian\",\"Asian\",\"Asian\",\"Middle Eastern \",\"Asian\",\"White-European\",\"Asian\",\"White-European\",\"White-European\",\"?\",\"Middle Eastern \",\"Asian\",\"?\",\"Asian\",\"White-European\",\"South Asian\",\"?\",\"South Asian\",\"White-European\",\"White-European\",\"?\",\"Latino\",\"White-European\",\"Latino\",\"?\",\"?\",\"?\",\"Middle Eastern \",\"White-European\",\"Asian\",\"Black\",\"?\",\"Asian\",\"White-European\",\"Asian\",\"White-European\",\"Middle Eastern \",\"White-European\",\"Asian\",\"White-European\",\"White-European\",\"?\",\"Middle Eastern \",\"Asian\",\"Asian\",\"Middle Eastern \",\"?\",\"Asian\",\"Asian\",\"Middle Eastern \",\"Black\",\"White-European\",\"Asian\",\"Asian\",\"White-European\",\"Others\",\"?\",\"Middle Eastern \",\"Middle Eastern \",\"Asian\",\"Asian\",\"White-European\",\"?\",\"Middle Eastern \",\"?\",\"?\",\"Black\",\"South Asian\",\"?\",\"Middle Eastern \",\"White-European\",\"Middle Eastern \",\"?\",\"Asian\",\"White-European\",\"Latino\",\"Middle Eastern \",\"White-European\",\"South Asian\",\"White-European\",\"White-European\",\"White-European\",\"Asian\",\"Middle Eastern \",\"Asian\",\"?\",\"White-European\",\"Asian\",\"?\",\"Middle Eastern \",\"Hispanic\",\"White-European\",\"Middle Eastern \",\"Black\",\"Middle Eastern \",\"Asian\",\"?\",\"Others\",\"White-European\",\"Middle Eastern \",\"?\",\"White-European\",\"White-European\",\"South Asian\",\"White-European\",\"White-European\",\"?\",\"Middle Eastern \",\"South Asian\",\"White-European\",\"?\",\"Middle Eastern \",\"?\",\"Asian\",\"Black\",\"?\",\"Hispanic\",\"Pasifika\",\"Asian\",\"Middle Eastern \",\"Asian\"],\"type\":\"histogram\"}],                        {\"template\":{\"data\":{\"barpolar\":[{\"marker\":{\"line\":{\"color\":\"white\",\"width\":0.5},\"pattern\":{\"fillmode\":\"overlay\",\"size\":10,\"solidity\":0.2}},\"type\":\"barpolar\"}],\"bar\":[{\"error_x\":{\"color\":\"rgb(36,36,36)\"},\"error_y\":{\"color\":\"rgb(36,36,36)\"},\"marker\":{\"line\":{\"color\":\"white\",\"width\":0.5},\"pattern\":{\"fillmode\":\"overlay\",\"size\":10,\"solidity\":0.2}},\"type\":\"bar\"}],\"carpet\":[{\"aaxis\":{\"endlinecolor\":\"rgb(36,36,36)\",\"gridcolor\":\"white\",\"linecolor\":\"white\",\"minorgridcolor\":\"white\",\"startlinecolor\":\"rgb(36,36,36)\"},\"baxis\":{\"endlinecolor\":\"rgb(36,36,36)\",\"gridcolor\":\"white\",\"linecolor\":\"white\",\"minorgridcolor\":\"white\",\"startlinecolor\":\"rgb(36,36,36)\"},\"type\":\"carpet\"}],\"choropleth\":[{\"colorbar\":{\"outlinewidth\":1,\"tickcolor\":\"rgb(36,36,36)\",\"ticks\":\"outside\"},\"type\":\"choropleth\"}],\"contourcarpet\":[{\"colorbar\":{\"outlinewidth\":1,\"tickcolor\":\"rgb(36,36,36)\",\"ticks\":\"outside\"},\"type\":\"contourcarpet\"}],\"contour\":[{\"colorbar\":{\"outlinewidth\":1,\"tickcolor\":\"rgb(36,36,36)\",\"ticks\":\"outside\"},\"colorscale\":[[0.0,\"#440154\"],[0.1111111111111111,\"#482878\"],[0.2222222222222222,\"#3e4989\"],[0.3333333333333333,\"#31688e\"],[0.4444444444444444,\"#26828e\"],[0.5555555555555556,\"#1f9e89\"],[0.6666666666666666,\"#35b779\"],[0.7777777777777778,\"#6ece58\"],[0.8888888888888888,\"#b5de2b\"],[1.0,\"#fde725\"]],\"type\":\"contour\"}],\"heatmapgl\":[{\"colorbar\":{\"outlinewidth\":1,\"tickcolor\":\"rgb(36,36,36)\",\"ticks\":\"outside\"},\"colorscale\":[[0.0,\"#440154\"],[0.1111111111111111,\"#482878\"],[0.2222222222222222,\"#3e4989\"],[0.3333333333333333,\"#31688e\"],[0.4444444444444444,\"#26828e\"],[0.5555555555555556,\"#1f9e89\"],[0.6666666666666666,\"#35b779\"],[0.7777777777777778,\"#6ece58\"],[0.8888888888888888,\"#b5de2b\"],[1.0,\"#fde725\"]],\"type\":\"heatmapgl\"}],\"heatmap\":[{\"colorbar\":{\"outlinewidth\":1,\"tickcolor\":\"rgb(36,36,36)\",\"ticks\":\"outside\"},\"colorscale\":[[0.0,\"#440154\"],[0.1111111111111111,\"#482878\"],[0.2222222222222222,\"#3e4989\"],[0.3333333333333333,\"#31688e\"],[0.4444444444444444,\"#26828e\"],[0.5555555555555556,\"#1f9e89\"],[0.6666666666666666,\"#35b779\"],[0.7777777777777778,\"#6ece58\"],[0.8888888888888888,\"#b5de2b\"],[1.0,\"#fde725\"]],\"type\":\"heatmap\"}],\"histogram2dcontour\":[{\"colorbar\":{\"outlinewidth\":1,\"tickcolor\":\"rgb(36,36,36)\",\"ticks\":\"outside\"},\"colorscale\":[[0.0,\"#440154\"],[0.1111111111111111,\"#482878\"],[0.2222222222222222,\"#3e4989\"],[0.3333333333333333,\"#31688e\"],[0.4444444444444444,\"#26828e\"],[0.5555555555555556,\"#1f9e89\"],[0.6666666666666666,\"#35b779\"],[0.7777777777777778,\"#6ece58\"],[0.8888888888888888,\"#b5de2b\"],[1.0,\"#fde725\"]],\"type\":\"histogram2dcontour\"}],\"histogram2d\":[{\"colorbar\":{\"outlinewidth\":1,\"tickcolor\":\"rgb(36,36,36)\",\"ticks\":\"outside\"},\"colorscale\":[[0.0,\"#440154\"],[0.1111111111111111,\"#482878\"],[0.2222222222222222,\"#3e4989\"],[0.3333333333333333,\"#31688e\"],[0.4444444444444444,\"#26828e\"],[0.5555555555555556,\"#1f9e89\"],[0.6666666666666666,\"#35b779\"],[0.7777777777777778,\"#6ece58\"],[0.8888888888888888,\"#b5de2b\"],[1.0,\"#fde725\"]],\"type\":\"histogram2d\"}],\"histogram\":[{\"marker\":{\"line\":{\"color\":\"white\",\"width\":0.6}},\"type\":\"histogram\"}],\"mesh3d\":[{\"colorbar\":{\"outlinewidth\":1,\"tickcolor\":\"rgb(36,36,36)\",\"ticks\":\"outside\"},\"type\":\"mesh3d\"}],\"parcoords\":[{\"line\":{\"colorbar\":{\"outlinewidth\":1,\"tickcolor\":\"rgb(36,36,36)\",\"ticks\":\"outside\"}},\"type\":\"parcoords\"}],\"pie\":[{\"automargin\":true,\"type\":\"pie\"}],\"scatter3d\":[{\"line\":{\"colorbar\":{\"outlinewidth\":1,\"tickcolor\":\"rgb(36,36,36)\",\"ticks\":\"outside\"}},\"marker\":{\"colorbar\":{\"outlinewidth\":1,\"tickcolor\":\"rgb(36,36,36)\",\"ticks\":\"outside\"}},\"type\":\"scatter3d\"}],\"scattercarpet\":[{\"marker\":{\"colorbar\":{\"outlinewidth\":1,\"tickcolor\":\"rgb(36,36,36)\",\"ticks\":\"outside\"}},\"type\":\"scattercarpet\"}],\"scattergeo\":[{\"marker\":{\"colorbar\":{\"outlinewidth\":1,\"tickcolor\":\"rgb(36,36,36)\",\"ticks\":\"outside\"}},\"type\":\"scattergeo\"}],\"scattergl\":[{\"marker\":{\"colorbar\":{\"outlinewidth\":1,\"tickcolor\":\"rgb(36,36,36)\",\"ticks\":\"outside\"}},\"type\":\"scattergl\"}],\"scattermapbox\":[{\"marker\":{\"colorbar\":{\"outlinewidth\":1,\"tickcolor\":\"rgb(36,36,36)\",\"ticks\":\"outside\"}},\"type\":\"scattermapbox\"}],\"scatterpolargl\":[{\"marker\":{\"colorbar\":{\"outlinewidth\":1,\"tickcolor\":\"rgb(36,36,36)\",\"ticks\":\"outside\"}},\"type\":\"scatterpolargl\"}],\"scatterpolar\":[{\"marker\":{\"colorbar\":{\"outlinewidth\":1,\"tickcolor\":\"rgb(36,36,36)\",\"ticks\":\"outside\"}},\"type\":\"scatterpolar\"}],\"scatter\":[{\"fillpattern\":{\"fillmode\":\"overlay\",\"size\":10,\"solidity\":0.2},\"type\":\"scatter\"}],\"scatterternary\":[{\"marker\":{\"colorbar\":{\"outlinewidth\":1,\"tickcolor\":\"rgb(36,36,36)\",\"ticks\":\"outside\"}},\"type\":\"scatterternary\"}],\"surface\":[{\"colorbar\":{\"outlinewidth\":1,\"tickcolor\":\"rgb(36,36,36)\",\"ticks\":\"outside\"},\"colorscale\":[[0.0,\"#440154\"],[0.1111111111111111,\"#482878\"],[0.2222222222222222,\"#3e4989\"],[0.3333333333333333,\"#31688e\"],[0.4444444444444444,\"#26828e\"],[0.5555555555555556,\"#1f9e89\"],[0.6666666666666666,\"#35b779\"],[0.7777777777777778,\"#6ece58\"],[0.8888888888888888,\"#b5de2b\"],[1.0,\"#fde725\"]],\"type\":\"surface\"}],\"table\":[{\"cells\":{\"fill\":{\"color\":\"rgb(237,237,237)\"},\"line\":{\"color\":\"white\"}},\"header\":{\"fill\":{\"color\":\"rgb(217,217,217)\"},\"line\":{\"color\":\"white\"}},\"type\":\"table\"}]},\"layout\":{\"annotationdefaults\":{\"arrowhead\":0,\"arrowwidth\":1},\"autotypenumbers\":\"strict\",\"coloraxis\":{\"colorbar\":{\"outlinewidth\":1,\"tickcolor\":\"rgb(36,36,36)\",\"ticks\":\"outside\"}},\"colorscale\":{\"diverging\":[[0.0,\"rgb(103,0,31)\"],[0.1,\"rgb(178,24,43)\"],[0.2,\"rgb(214,96,77)\"],[0.3,\"rgb(244,165,130)\"],[0.4,\"rgb(253,219,199)\"],[0.5,\"rgb(247,247,247)\"],[0.6,\"rgb(209,229,240)\"],[0.7,\"rgb(146,197,222)\"],[0.8,\"rgb(67,147,195)\"],[0.9,\"rgb(33,102,172)\"],[1.0,\"rgb(5,48,97)\"]],\"sequential\":[[0.0,\"#440154\"],[0.1111111111111111,\"#482878\"],[0.2222222222222222,\"#3e4989\"],[0.3333333333333333,\"#31688e\"],[0.4444444444444444,\"#26828e\"],[0.5555555555555556,\"#1f9e89\"],[0.6666666666666666,\"#35b779\"],[0.7777777777777778,\"#6ece58\"],[0.8888888888888888,\"#b5de2b\"],[1.0,\"#fde725\"]],\"sequentialminus\":[[0.0,\"#440154\"],[0.1111111111111111,\"#482878\"],[0.2222222222222222,\"#3e4989\"],[0.3333333333333333,\"#31688e\"],[0.4444444444444444,\"#26828e\"],[0.5555555555555556,\"#1f9e89\"],[0.6666666666666666,\"#35b779\"],[0.7777777777777778,\"#6ece58\"],[0.8888888888888888,\"#b5de2b\"],[1.0,\"#fde725\"]]},\"colorway\":[\"#1F77B4\",\"#FF7F0E\",\"#2CA02C\",\"#D62728\",\"#9467BD\",\"#8C564B\",\"#E377C2\",\"#7F7F7F\",\"#BCBD22\",\"#17BECF\"],\"font\":{\"color\":\"rgb(36,36,36)\"},\"geo\":{\"bgcolor\":\"white\",\"lakecolor\":\"white\",\"landcolor\":\"white\",\"showlakes\":true,\"showland\":true,\"subunitcolor\":\"white\"},\"hoverlabel\":{\"align\":\"left\"},\"hovermode\":\"closest\",\"mapbox\":{\"style\":\"light\"},\"paper_bgcolor\":\"white\",\"plot_bgcolor\":\"white\",\"polar\":{\"angularaxis\":{\"gridcolor\":\"rgb(232,232,232)\",\"linecolor\":\"rgb(36,36,36)\",\"showgrid\":false,\"showline\":true,\"ticks\":\"outside\"},\"bgcolor\":\"white\",\"radialaxis\":{\"gridcolor\":\"rgb(232,232,232)\",\"linecolor\":\"rgb(36,36,36)\",\"showgrid\":false,\"showline\":true,\"ticks\":\"outside\"}},\"scene\":{\"xaxis\":{\"backgroundcolor\":\"white\",\"gridcolor\":\"rgb(232,232,232)\",\"gridwidth\":2,\"linecolor\":\"rgb(36,36,36)\",\"showbackground\":true,\"showgrid\":false,\"showline\":true,\"ticks\":\"outside\",\"zeroline\":false,\"zerolinecolor\":\"rgb(36,36,36)\"},\"yaxis\":{\"backgroundcolor\":\"white\",\"gridcolor\":\"rgb(232,232,232)\",\"gridwidth\":2,\"linecolor\":\"rgb(36,36,36)\",\"showbackground\":true,\"showgrid\":false,\"showline\":true,\"ticks\":\"outside\",\"zeroline\":false,\"zerolinecolor\":\"rgb(36,36,36)\"},\"zaxis\":{\"backgroundcolor\":\"white\",\"gridcolor\":\"rgb(232,232,232)\",\"gridwidth\":2,\"linecolor\":\"rgb(36,36,36)\",\"showbackground\":true,\"showgrid\":false,\"showline\":true,\"ticks\":\"outside\",\"zeroline\":false,\"zerolinecolor\":\"rgb(36,36,36)\"}},\"shapedefaults\":{\"fillcolor\":\"black\",\"line\":{\"width\":0},\"opacity\":0.3},\"ternary\":{\"aaxis\":{\"gridcolor\":\"rgb(232,232,232)\",\"linecolor\":\"rgb(36,36,36)\",\"showgrid\":false,\"showline\":true,\"ticks\":\"outside\"},\"baxis\":{\"gridcolor\":\"rgb(232,232,232)\",\"linecolor\":\"rgb(36,36,36)\",\"showgrid\":false,\"showline\":true,\"ticks\":\"outside\"},\"bgcolor\":\"white\",\"caxis\":{\"gridcolor\":\"rgb(232,232,232)\",\"linecolor\":\"rgb(36,36,36)\",\"showgrid\":false,\"showline\":true,\"ticks\":\"outside\"}},\"title\":{\"x\":0.05},\"xaxis\":{\"automargin\":true,\"gridcolor\":\"rgb(232,232,232)\",\"linecolor\":\"rgb(36,36,36)\",\"showgrid\":false,\"showline\":true,\"ticks\":\"outside\",\"title\":{\"standoff\":15},\"zeroline\":false,\"zerolinecolor\":\"rgb(36,36,36)\"},\"yaxis\":{\"automargin\":true,\"gridcolor\":\"rgb(232,232,232)\",\"linecolor\":\"rgb(36,36,36)\",\"showgrid\":false,\"showline\":true,\"ticks\":\"outside\",\"title\":{\"standoff\":15},\"zeroline\":false,\"zerolinecolor\":\"rgb(36,36,36)\"}}},\"font\":{\"family\":\"San Serif\"},\"title\":{\"text\":\"Ethnic group of the patient\",\"font\":{\"size\":20}},\"legend\":{\"orientation\":\"v\",\"y\":1,\"yanchor\":\"top\",\"x\":1.0,\"xanchor\":\"right\"},\"width\":600,\"height\":400,\"xaxis\":{\"categoryorder\":\"total descending\"}},                        {\"responsive\": true}                    ).then(function(){\n",
       "                            \n",
       "var gd = document.getElementById('bbde5164-e787-4761-9dcb-f5f00b950965');\n",
       "var x = new MutationObserver(function (mutations, observer) {{\n",
       "        var display = window.getComputedStyle(gd).display;\n",
       "        if (!display || display === 'none') {{\n",
       "            console.log([gd, 'removed!']);\n",
       "            Plotly.purge(gd);\n",
       "            observer.disconnect();\n",
       "        }}\n",
       "}});\n",
       "\n",
       "// Listen for the removal of the full notebook cells\n",
       "var notebookContainer = gd.closest('#notebook-container');\n",
       "if (notebookContainer) {{\n",
       "    x.observe(notebookContainer, {childList: true});\n",
       "}}\n",
       "\n",
       "// Listen for the clearing of the current output cell\n",
       "var outputEl = gd.closest('.output');\n",
       "if (outputEl) {{\n",
       "    x.observe(outputEl, {childList: true});\n",
       "}}\n",
       "\n",
       "                        })                };                });            </script>        </div>"
      ]
     },
     "metadata": {},
     "output_type": "display_data"
    }
   ],
   "execution_count": 42
  },
  {
   "metadata": {},
   "cell_type": "markdown",
   "source": [
    "### Sarılık\n",
    "- Hastaların çoğunluğu doğumda sarılık geçirmemiştir.\n",
    "- Doğumda sarılık geçirenlerin çoğunluğu (123), 73 pozitif vakaya karşı ASD_negatif olarak test edilmiştir. Doğumda sarılık geçirmek, ASD pozitifliği anlamına gelmeyebilir."
   ],
   "id": "820763fd253f6098"
  },
  {
   "metadata": {
    "ExecuteTime": {
     "end_time": "2024-05-30T18:51:42.148935Z",
     "start_time": "2024-05-30T18:51:42.098426Z"
    }
   },
   "cell_type": "code",
   "source": [
    "fig = go.Figure()\n",
    "fig.add_trace(go.Histogram(x=ASD_pos['jaundice'],histnorm='',\n",
    "                           name='ASD_pos', marker_color = 'purple'),\n",
    "              )\n",
    "fig.add_trace(go.Histogram(x=ASD_neg['jaundice'],histnorm='',\n",
    "                           name='ASD_neg', marker_color = 'salmon', opacity=0.85),\n",
    "              )\n",
    "\n",
    "fig.update_layout(title=\"Whether the patient had jaundice at the time of birth\",\n",
    "                  font_family=\"San Serif\",\n",
    "                  titlefont={'size': 20},\n",
    "                  template='simple_white',\n",
    "                  width=600,\n",
    "                  height=400,\n",
    "                  legend=dict(\n",
    "                      orientation=\"v\", y=1, yanchor=\"top\", x=1.0, xanchor=\"right\" )\n",
    "                  ).update_xaxes(categoryorder='total descending')\n",
    "\n",
    "fig.show()\n"
   ],
   "id": "ee37f991c4adcac3",
   "outputs": [
    {
     "data": {
      "application/vnd.plotly.v1+json": {
       "data": [
        {
         "histnorm": "",
         "marker": {
          "color": "purple"
         },
         "name": "ASD_pos",
         "x": [
          "no",
          "yes",
          "yes",
          "yes",
          "yes",
          "yes",
          "no",
          "no",
          "yes",
          "no",
          "yes",
          "no",
          "no",
          "yes",
          "no",
          "yes",
          "no",
          "yes",
          "yes",
          "no",
          "no",
          "no",
          "yes",
          "no",
          "no",
          "yes",
          "yes",
          "no",
          "no",
          "no",
          "no",
          "yes",
          "no",
          "no",
          "no",
          "no",
          "no",
          "yes",
          "no",
          "no",
          "no",
          "yes",
          "no",
          "yes",
          "yes",
          "yes",
          "no",
          "no",
          "no",
          "yes",
          "no",
          "no",
          "yes",
          "yes",
          "yes",
          "no",
          "yes",
          "no",
          "no",
          "yes",
          "no",
          "no",
          "yes",
          "no",
          "no",
          "no",
          "no",
          "no",
          "yes",
          "no",
          "no",
          "yes",
          "no",
          "yes",
          "no",
          "yes",
          "no",
          "no",
          "yes",
          "no",
          "no",
          "no",
          "yes",
          "no",
          "no",
          "yes",
          "no",
          "no",
          "yes",
          "yes",
          "yes",
          "yes",
          "yes",
          "no",
          "no",
          "no",
          "no",
          "no",
          "yes",
          "no",
          "yes",
          "no",
          "no",
          "no",
          "no",
          "no",
          "yes",
          "no",
          "yes",
          "yes",
          "no",
          "no",
          "no",
          "no",
          "yes",
          "yes",
          "no",
          "yes",
          "no",
          "no",
          "no",
          "no",
          "yes",
          "no",
          "no",
          "no",
          "no",
          "yes",
          "no",
          "yes",
          "no",
          "no",
          "no",
          "no",
          "no",
          "yes",
          "no",
          "yes",
          "yes",
          "yes",
          "no",
          "no",
          "no",
          "no",
          "no",
          "no",
          "no",
          "yes",
          "no",
          "no",
          "yes",
          "yes",
          "yes",
          "yes",
          "yes",
          "no",
          "yes",
          "no",
          "yes",
          "yes",
          "no",
          "yes",
          "no",
          "yes",
          "yes",
          "no",
          "no",
          "no",
          "no",
          "no",
          "yes",
          "no",
          "no",
          "yes",
          "yes",
          "yes",
          "no",
          "no",
          "yes",
          "no",
          "no",
          "no",
          "yes",
          "no",
          "yes"
         ],
         "type": "histogram"
        },
        {
         "histnorm": "",
         "marker": {
          "color": "salmon"
         },
         "name": "ASD_neg",
         "opacity": 0.85,
         "x": [
          "no",
          "no",
          "no",
          "no",
          "no",
          "no",
          "yes",
          "no",
          "no",
          "yes",
          "no",
          "no",
          "no",
          "no",
          "no",
          "no",
          "no",
          "yes",
          "no",
          "no",
          "no",
          "no",
          "no",
          "no",
          "no",
          "no",
          "no",
          "yes",
          "no",
          "no",
          "no",
          "no",
          "no",
          "no",
          "yes",
          "yes",
          "no",
          "no",
          "no",
          "no",
          "no",
          "no",
          "no",
          "no",
          "no",
          "yes",
          "yes",
          "no",
          "no",
          "no",
          "no",
          "no",
          "no",
          "no",
          "yes",
          "no",
          "no",
          "no",
          "no",
          "no",
          "no",
          "yes",
          "no",
          "no",
          "no",
          "no",
          "no",
          "no",
          "no",
          "no",
          "no",
          "no",
          "no",
          "no",
          "no",
          "no",
          "no",
          "no",
          "no",
          "yes",
          "no",
          "no",
          "yes",
          "no",
          "no",
          "yes",
          "no",
          "no",
          "yes",
          "yes",
          "no",
          "no",
          "no",
          "yes",
          "no",
          "no",
          "no",
          "no",
          "no",
          "no",
          "yes",
          "no",
          "no",
          "yes",
          "no",
          "no",
          "no",
          "no",
          "yes",
          "no",
          "no",
          "no",
          "no",
          "yes",
          "no",
          "yes",
          "yes",
          "no",
          "no",
          "yes",
          "no",
          "no",
          "no",
          "yes",
          "no",
          "yes",
          "no",
          "yes",
          "yes",
          "no",
          "no",
          "no",
          "no",
          "no",
          "no",
          "no",
          "yes",
          "no",
          "no",
          "yes",
          "no",
          "yes",
          "no",
          "no",
          "no",
          "no",
          "no",
          "no",
          "no",
          "no",
          "no",
          "no",
          "yes",
          "no",
          "no",
          "no",
          "no",
          "no",
          "yes",
          "no",
          "no",
          "no",
          "no",
          "no",
          "no",
          "no",
          "no",
          "no",
          "no",
          "yes",
          "no",
          "yes",
          "no",
          "yes",
          "no",
          "no",
          "no",
          "no",
          "no",
          "no",
          "no",
          "no",
          "no",
          "no",
          "no",
          "no",
          "no",
          "no",
          "no",
          "no",
          "no",
          "yes",
          "no",
          "no",
          "no",
          "no",
          "no",
          "no",
          "no",
          "no",
          "no",
          "yes",
          "no",
          "no",
          "no",
          "no",
          "no",
          "no",
          "no",
          "no",
          "no",
          "no",
          "no",
          "no",
          "no",
          "no",
          "no",
          "yes",
          "no",
          "no",
          "no",
          "yes",
          "no",
          "no",
          "no",
          "no",
          "no",
          "no",
          "yes",
          "no",
          "yes",
          "no",
          "no",
          "no",
          "no",
          "no",
          "no",
          "no",
          "no",
          "no",
          "no",
          "yes",
          "no",
          "no",
          "yes",
          "yes",
          "no",
          "no",
          "yes",
          "no",
          "no",
          "no",
          "yes",
          "no",
          "no",
          "yes",
          "yes",
          "no",
          "yes",
          "no",
          "yes",
          "no",
          "no",
          "no",
          "no",
          "no",
          "yes",
          "no",
          "no",
          "yes",
          "yes",
          "no",
          "no",
          "yes",
          "yes",
          "yes",
          "no",
          "no",
          "no",
          "yes",
          "no",
          "no",
          "yes",
          "yes",
          "no",
          "no",
          "no",
          "no",
          "no",
          "no",
          "no",
          "no",
          "no",
          "no",
          "no",
          "no",
          "no",
          "no",
          "no",
          "no",
          "no",
          "no",
          "yes",
          "no",
          "no",
          "yes",
          "no",
          "no",
          "no",
          "yes",
          "no",
          "yes",
          "no",
          "no",
          "no",
          "no",
          "yes",
          "no",
          "no",
          "no",
          "no",
          "no",
          "no",
          "no",
          "yes",
          "no",
          "no",
          "yes",
          "no",
          "no",
          "no",
          "no",
          "no",
          "no",
          "yes",
          "yes",
          "yes",
          "yes",
          "no",
          "no",
          "yes",
          "no",
          "no",
          "no",
          "no",
          "yes",
          "no",
          "no",
          "no",
          "yes",
          "no",
          "no",
          "no",
          "no",
          "no",
          "no",
          "no",
          "no",
          "no",
          "no",
          "no",
          "no",
          "no",
          "no",
          "yes",
          "no",
          "yes",
          "no",
          "no",
          "no",
          "no",
          "no",
          "no",
          "yes",
          "yes",
          "no",
          "no",
          "no",
          "no",
          "no",
          "no",
          "no",
          "no",
          "yes",
          "no",
          "no",
          "yes",
          "no",
          "no",
          "no",
          "no",
          "no",
          "no",
          "yes",
          "no",
          "no",
          "no",
          "no",
          "no",
          "yes",
          "no",
          "no",
          "no",
          "yes",
          "no",
          "no",
          "yes",
          "no",
          "yes",
          "no",
          "no",
          "no",
          "no",
          "no",
          "no",
          "yes",
          "no",
          "yes",
          "yes",
          "no",
          "no",
          "yes",
          "yes",
          "no",
          "no",
          "no",
          "no",
          "no",
          "no",
          "no",
          "no",
          "yes",
          "no",
          "no",
          "no",
          "no",
          "no",
          "no",
          "yes",
          "no",
          "no",
          "yes",
          "yes",
          "no",
          "no",
          "no",
          "no",
          "yes",
          "yes",
          "yes",
          "yes",
          "no",
          "no",
          "no",
          "no",
          "no",
          "yes",
          "no",
          "no",
          "no",
          "no",
          "no",
          "yes",
          "no",
          "no",
          "no",
          "yes",
          "no",
          "no",
          "no",
          "no",
          "no",
          "no",
          "no",
          "no",
          "no",
          "yes",
          "no",
          "no",
          "yes",
          "no",
          "no",
          "no",
          "no",
          "no",
          "no",
          "no",
          "no",
          "no",
          "yes",
          "no",
          "no",
          "no",
          "no",
          "no",
          "no",
          "no",
          "no",
          "no",
          "no",
          "no",
          "no",
          "no",
          "no",
          "no",
          "no",
          "yes",
          "no",
          "yes",
          "no",
          "no",
          "no",
          "no",
          "yes",
          "no",
          "no",
          "no",
          "no",
          "no",
          "no",
          "no",
          "no",
          "no",
          "no",
          "no",
          "yes",
          "yes",
          "no",
          "no",
          "no",
          "no",
          "yes",
          "no",
          "yes",
          "no",
          "no",
          "no",
          "yes",
          "no",
          "no",
          "no",
          "no",
          "no",
          "no",
          "no",
          "yes",
          "no",
          "no",
          "yes",
          "yes",
          "no",
          "no",
          "no",
          "no",
          "no",
          "no",
          "no",
          "no",
          "no",
          "no",
          "no",
          "no",
          "no",
          "no",
          "no",
          "no",
          "no",
          "no",
          "no",
          "yes",
          "no",
          "yes",
          "yes",
          "no",
          "no",
          "yes",
          "yes",
          "no",
          "no",
          "yes",
          "no",
          "no",
          "no",
          "no",
          "no",
          "no",
          "no",
          "no",
          "yes",
          "no",
          "no",
          "no",
          "no",
          "yes",
          "no",
          "no",
          "no",
          "no",
          "yes",
          "no",
          "no",
          "no",
          "no",
          "no",
          "no",
          "no",
          "no",
          "no",
          "no",
          "no",
          "no",
          "no",
          "no",
          "no",
          "no"
         ],
         "type": "histogram"
        }
       ],
       "layout": {
        "template": {
         "data": {
          "barpolar": [
           {
            "marker": {
             "line": {
              "color": "white",
              "width": 0.5
             },
             "pattern": {
              "fillmode": "overlay",
              "size": 10,
              "solidity": 0.2
             }
            },
            "type": "barpolar"
           }
          ],
          "bar": [
           {
            "error_x": {
             "color": "rgb(36,36,36)"
            },
            "error_y": {
             "color": "rgb(36,36,36)"
            },
            "marker": {
             "line": {
              "color": "white",
              "width": 0.5
             },
             "pattern": {
              "fillmode": "overlay",
              "size": 10,
              "solidity": 0.2
             }
            },
            "type": "bar"
           }
          ],
          "carpet": [
           {
            "aaxis": {
             "endlinecolor": "rgb(36,36,36)",
             "gridcolor": "white",
             "linecolor": "white",
             "minorgridcolor": "white",
             "startlinecolor": "rgb(36,36,36)"
            },
            "baxis": {
             "endlinecolor": "rgb(36,36,36)",
             "gridcolor": "white",
             "linecolor": "white",
             "minorgridcolor": "white",
             "startlinecolor": "rgb(36,36,36)"
            },
            "type": "carpet"
           }
          ],
          "choropleth": [
           {
            "colorbar": {
             "outlinewidth": 1,
             "tickcolor": "rgb(36,36,36)",
             "ticks": "outside"
            },
            "type": "choropleth"
           }
          ],
          "contourcarpet": [
           {
            "colorbar": {
             "outlinewidth": 1,
             "tickcolor": "rgb(36,36,36)",
             "ticks": "outside"
            },
            "type": "contourcarpet"
           }
          ],
          "contour": [
           {
            "colorbar": {
             "outlinewidth": 1,
             "tickcolor": "rgb(36,36,36)",
             "ticks": "outside"
            },
            "colorscale": [
             [
              0.0,
              "#440154"
             ],
             [
              0.1111111111111111,
              "#482878"
             ],
             [
              0.2222222222222222,
              "#3e4989"
             ],
             [
              0.3333333333333333,
              "#31688e"
             ],
             [
              0.4444444444444444,
              "#26828e"
             ],
             [
              0.5555555555555556,
              "#1f9e89"
             ],
             [
              0.6666666666666666,
              "#35b779"
             ],
             [
              0.7777777777777778,
              "#6ece58"
             ],
             [
              0.8888888888888888,
              "#b5de2b"
             ],
             [
              1.0,
              "#fde725"
             ]
            ],
            "type": "contour"
           }
          ],
          "heatmapgl": [
           {
            "colorbar": {
             "outlinewidth": 1,
             "tickcolor": "rgb(36,36,36)",
             "ticks": "outside"
            },
            "colorscale": [
             [
              0.0,
              "#440154"
             ],
             [
              0.1111111111111111,
              "#482878"
             ],
             [
              0.2222222222222222,
              "#3e4989"
             ],
             [
              0.3333333333333333,
              "#31688e"
             ],
             [
              0.4444444444444444,
              "#26828e"
             ],
             [
              0.5555555555555556,
              "#1f9e89"
             ],
             [
              0.6666666666666666,
              "#35b779"
             ],
             [
              0.7777777777777778,
              "#6ece58"
             ],
             [
              0.8888888888888888,
              "#b5de2b"
             ],
             [
              1.0,
              "#fde725"
             ]
            ],
            "type": "heatmapgl"
           }
          ],
          "heatmap": [
           {
            "colorbar": {
             "outlinewidth": 1,
             "tickcolor": "rgb(36,36,36)",
             "ticks": "outside"
            },
            "colorscale": [
             [
              0.0,
              "#440154"
             ],
             [
              0.1111111111111111,
              "#482878"
             ],
             [
              0.2222222222222222,
              "#3e4989"
             ],
             [
              0.3333333333333333,
              "#31688e"
             ],
             [
              0.4444444444444444,
              "#26828e"
             ],
             [
              0.5555555555555556,
              "#1f9e89"
             ],
             [
              0.6666666666666666,
              "#35b779"
             ],
             [
              0.7777777777777778,
              "#6ece58"
             ],
             [
              0.8888888888888888,
              "#b5de2b"
             ],
             [
              1.0,
              "#fde725"
             ]
            ],
            "type": "heatmap"
           }
          ],
          "histogram2dcontour": [
           {
            "colorbar": {
             "outlinewidth": 1,
             "tickcolor": "rgb(36,36,36)",
             "ticks": "outside"
            },
            "colorscale": [
             [
              0.0,
              "#440154"
             ],
             [
              0.1111111111111111,
              "#482878"
             ],
             [
              0.2222222222222222,
              "#3e4989"
             ],
             [
              0.3333333333333333,
              "#31688e"
             ],
             [
              0.4444444444444444,
              "#26828e"
             ],
             [
              0.5555555555555556,
              "#1f9e89"
             ],
             [
              0.6666666666666666,
              "#35b779"
             ],
             [
              0.7777777777777778,
              "#6ece58"
             ],
             [
              0.8888888888888888,
              "#b5de2b"
             ],
             [
              1.0,
              "#fde725"
             ]
            ],
            "type": "histogram2dcontour"
           }
          ],
          "histogram2d": [
           {
            "colorbar": {
             "outlinewidth": 1,
             "tickcolor": "rgb(36,36,36)",
             "ticks": "outside"
            },
            "colorscale": [
             [
              0.0,
              "#440154"
             ],
             [
              0.1111111111111111,
              "#482878"
             ],
             [
              0.2222222222222222,
              "#3e4989"
             ],
             [
              0.3333333333333333,
              "#31688e"
             ],
             [
              0.4444444444444444,
              "#26828e"
             ],
             [
              0.5555555555555556,
              "#1f9e89"
             ],
             [
              0.6666666666666666,
              "#35b779"
             ],
             [
              0.7777777777777778,
              "#6ece58"
             ],
             [
              0.8888888888888888,
              "#b5de2b"
             ],
             [
              1.0,
              "#fde725"
             ]
            ],
            "type": "histogram2d"
           }
          ],
          "histogram": [
           {
            "marker": {
             "line": {
              "color": "white",
              "width": 0.6
             }
            },
            "type": "histogram"
           }
          ],
          "mesh3d": [
           {
            "colorbar": {
             "outlinewidth": 1,
             "tickcolor": "rgb(36,36,36)",
             "ticks": "outside"
            },
            "type": "mesh3d"
           }
          ],
          "parcoords": [
           {
            "line": {
             "colorbar": {
              "outlinewidth": 1,
              "tickcolor": "rgb(36,36,36)",
              "ticks": "outside"
             }
            },
            "type": "parcoords"
           }
          ],
          "pie": [
           {
            "automargin": true,
            "type": "pie"
           }
          ],
          "scatter3d": [
           {
            "line": {
             "colorbar": {
              "outlinewidth": 1,
              "tickcolor": "rgb(36,36,36)",
              "ticks": "outside"
             }
            },
            "marker": {
             "colorbar": {
              "outlinewidth": 1,
              "tickcolor": "rgb(36,36,36)",
              "ticks": "outside"
             }
            },
            "type": "scatter3d"
           }
          ],
          "scattercarpet": [
           {
            "marker": {
             "colorbar": {
              "outlinewidth": 1,
              "tickcolor": "rgb(36,36,36)",
              "ticks": "outside"
             }
            },
            "type": "scattercarpet"
           }
          ],
          "scattergeo": [
           {
            "marker": {
             "colorbar": {
              "outlinewidth": 1,
              "tickcolor": "rgb(36,36,36)",
              "ticks": "outside"
             }
            },
            "type": "scattergeo"
           }
          ],
          "scattergl": [
           {
            "marker": {
             "colorbar": {
              "outlinewidth": 1,
              "tickcolor": "rgb(36,36,36)",
              "ticks": "outside"
             }
            },
            "type": "scattergl"
           }
          ],
          "scattermapbox": [
           {
            "marker": {
             "colorbar": {
              "outlinewidth": 1,
              "tickcolor": "rgb(36,36,36)",
              "ticks": "outside"
             }
            },
            "type": "scattermapbox"
           }
          ],
          "scatterpolargl": [
           {
            "marker": {
             "colorbar": {
              "outlinewidth": 1,
              "tickcolor": "rgb(36,36,36)",
              "ticks": "outside"
             }
            },
            "type": "scatterpolargl"
           }
          ],
          "scatterpolar": [
           {
            "marker": {
             "colorbar": {
              "outlinewidth": 1,
              "tickcolor": "rgb(36,36,36)",
              "ticks": "outside"
             }
            },
            "type": "scatterpolar"
           }
          ],
          "scatter": [
           {
            "fillpattern": {
             "fillmode": "overlay",
             "size": 10,
             "solidity": 0.2
            },
            "type": "scatter"
           }
          ],
          "scatterternary": [
           {
            "marker": {
             "colorbar": {
              "outlinewidth": 1,
              "tickcolor": "rgb(36,36,36)",
              "ticks": "outside"
             }
            },
            "type": "scatterternary"
           }
          ],
          "surface": [
           {
            "colorbar": {
             "outlinewidth": 1,
             "tickcolor": "rgb(36,36,36)",
             "ticks": "outside"
            },
            "colorscale": [
             [
              0.0,
              "#440154"
             ],
             [
              0.1111111111111111,
              "#482878"
             ],
             [
              0.2222222222222222,
              "#3e4989"
             ],
             [
              0.3333333333333333,
              "#31688e"
             ],
             [
              0.4444444444444444,
              "#26828e"
             ],
             [
              0.5555555555555556,
              "#1f9e89"
             ],
             [
              0.6666666666666666,
              "#35b779"
             ],
             [
              0.7777777777777778,
              "#6ece58"
             ],
             [
              0.8888888888888888,
              "#b5de2b"
             ],
             [
              1.0,
              "#fde725"
             ]
            ],
            "type": "surface"
           }
          ],
          "table": [
           {
            "cells": {
             "fill": {
              "color": "rgb(237,237,237)"
             },
             "line": {
              "color": "white"
             }
            },
            "header": {
             "fill": {
              "color": "rgb(217,217,217)"
             },
             "line": {
              "color": "white"
             }
            },
            "type": "table"
           }
          ]
         },
         "layout": {
          "annotationdefaults": {
           "arrowhead": 0,
           "arrowwidth": 1
          },
          "autotypenumbers": "strict",
          "coloraxis": {
           "colorbar": {
            "outlinewidth": 1,
            "tickcolor": "rgb(36,36,36)",
            "ticks": "outside"
           }
          },
          "colorscale": {
           "diverging": [
            [
             0.0,
             "rgb(103,0,31)"
            ],
            [
             0.1,
             "rgb(178,24,43)"
            ],
            [
             0.2,
             "rgb(214,96,77)"
            ],
            [
             0.3,
             "rgb(244,165,130)"
            ],
            [
             0.4,
             "rgb(253,219,199)"
            ],
            [
             0.5,
             "rgb(247,247,247)"
            ],
            [
             0.6,
             "rgb(209,229,240)"
            ],
            [
             0.7,
             "rgb(146,197,222)"
            ],
            [
             0.8,
             "rgb(67,147,195)"
            ],
            [
             0.9,
             "rgb(33,102,172)"
            ],
            [
             1.0,
             "rgb(5,48,97)"
            ]
           ],
           "sequential": [
            [
             0.0,
             "#440154"
            ],
            [
             0.1111111111111111,
             "#482878"
            ],
            [
             0.2222222222222222,
             "#3e4989"
            ],
            [
             0.3333333333333333,
             "#31688e"
            ],
            [
             0.4444444444444444,
             "#26828e"
            ],
            [
             0.5555555555555556,
             "#1f9e89"
            ],
            [
             0.6666666666666666,
             "#35b779"
            ],
            [
             0.7777777777777778,
             "#6ece58"
            ],
            [
             0.8888888888888888,
             "#b5de2b"
            ],
            [
             1.0,
             "#fde725"
            ]
           ],
           "sequentialminus": [
            [
             0.0,
             "#440154"
            ],
            [
             0.1111111111111111,
             "#482878"
            ],
            [
             0.2222222222222222,
             "#3e4989"
            ],
            [
             0.3333333333333333,
             "#31688e"
            ],
            [
             0.4444444444444444,
             "#26828e"
            ],
            [
             0.5555555555555556,
             "#1f9e89"
            ],
            [
             0.6666666666666666,
             "#35b779"
            ],
            [
             0.7777777777777778,
             "#6ece58"
            ],
            [
             0.8888888888888888,
             "#b5de2b"
            ],
            [
             1.0,
             "#fde725"
            ]
           ]
          },
          "colorway": [
           "#1F77B4",
           "#FF7F0E",
           "#2CA02C",
           "#D62728",
           "#9467BD",
           "#8C564B",
           "#E377C2",
           "#7F7F7F",
           "#BCBD22",
           "#17BECF"
          ],
          "font": {
           "color": "rgb(36,36,36)"
          },
          "geo": {
           "bgcolor": "white",
           "lakecolor": "white",
           "landcolor": "white",
           "showlakes": true,
           "showland": true,
           "subunitcolor": "white"
          },
          "hoverlabel": {
           "align": "left"
          },
          "hovermode": "closest",
          "mapbox": {
           "style": "light"
          },
          "paper_bgcolor": "white",
          "plot_bgcolor": "white",
          "polar": {
           "angularaxis": {
            "gridcolor": "rgb(232,232,232)",
            "linecolor": "rgb(36,36,36)",
            "showgrid": false,
            "showline": true,
            "ticks": "outside"
           },
           "bgcolor": "white",
           "radialaxis": {
            "gridcolor": "rgb(232,232,232)",
            "linecolor": "rgb(36,36,36)",
            "showgrid": false,
            "showline": true,
            "ticks": "outside"
           }
          },
          "scene": {
           "xaxis": {
            "backgroundcolor": "white",
            "gridcolor": "rgb(232,232,232)",
            "gridwidth": 2,
            "linecolor": "rgb(36,36,36)",
            "showbackground": true,
            "showgrid": false,
            "showline": true,
            "ticks": "outside",
            "zeroline": false,
            "zerolinecolor": "rgb(36,36,36)"
           },
           "yaxis": {
            "backgroundcolor": "white",
            "gridcolor": "rgb(232,232,232)",
            "gridwidth": 2,
            "linecolor": "rgb(36,36,36)",
            "showbackground": true,
            "showgrid": false,
            "showline": true,
            "ticks": "outside",
            "zeroline": false,
            "zerolinecolor": "rgb(36,36,36)"
           },
           "zaxis": {
            "backgroundcolor": "white",
            "gridcolor": "rgb(232,232,232)",
            "gridwidth": 2,
            "linecolor": "rgb(36,36,36)",
            "showbackground": true,
            "showgrid": false,
            "showline": true,
            "ticks": "outside",
            "zeroline": false,
            "zerolinecolor": "rgb(36,36,36)"
           }
          },
          "shapedefaults": {
           "fillcolor": "black",
           "line": {
            "width": 0
           },
           "opacity": 0.3
          },
          "ternary": {
           "aaxis": {
            "gridcolor": "rgb(232,232,232)",
            "linecolor": "rgb(36,36,36)",
            "showgrid": false,
            "showline": true,
            "ticks": "outside"
           },
           "baxis": {
            "gridcolor": "rgb(232,232,232)",
            "linecolor": "rgb(36,36,36)",
            "showgrid": false,
            "showline": true,
            "ticks": "outside"
           },
           "bgcolor": "white",
           "caxis": {
            "gridcolor": "rgb(232,232,232)",
            "linecolor": "rgb(36,36,36)",
            "showgrid": false,
            "showline": true,
            "ticks": "outside"
           }
          },
          "title": {
           "x": 0.05
          },
          "xaxis": {
           "automargin": true,
           "gridcolor": "rgb(232,232,232)",
           "linecolor": "rgb(36,36,36)",
           "showgrid": false,
           "showline": true,
           "ticks": "outside",
           "title": {
            "standoff": 15
           },
           "zeroline": false,
           "zerolinecolor": "rgb(36,36,36)"
          },
          "yaxis": {
           "automargin": true,
           "gridcolor": "rgb(232,232,232)",
           "linecolor": "rgb(36,36,36)",
           "showgrid": false,
           "showline": true,
           "ticks": "outside",
           "title": {
            "standoff": 15
           },
           "zeroline": false,
           "zerolinecolor": "rgb(36,36,36)"
          }
         }
        },
        "font": {
         "family": "San Serif"
        },
        "title": {
         "text": "Whether the patient had jaundice at the time of birth",
         "font": {
          "size": 20
         }
        },
        "legend": {
         "orientation": "v",
         "y": 1,
         "yanchor": "top",
         "x": 1.0,
         "xanchor": "right"
        },
        "width": 600,
        "height": 400,
        "xaxis": {
         "categoryorder": "total descending"
        }
       },
       "config": {
        "plotlyServerURL": "https://plot.ly"
       }
      },
      "text/html": [
       "<div>                            <div id=\"47fa4d1c-0e80-4497-bc88-5851fbde6bd7\" class=\"plotly-graph-div\" style=\"height:400px; width:600px;\"></div>            <script type=\"text/javascript\">                require([\"plotly\"], function(Plotly) {                    window.PLOTLYENV=window.PLOTLYENV || {};                                    if (document.getElementById(\"47fa4d1c-0e80-4497-bc88-5851fbde6bd7\")) {                    Plotly.newPlot(                        \"47fa4d1c-0e80-4497-bc88-5851fbde6bd7\",                        [{\"histnorm\":\"\",\"marker\":{\"color\":\"purple\"},\"name\":\"ASD_pos\",\"x\":[\"no\",\"yes\",\"yes\",\"yes\",\"yes\",\"yes\",\"no\",\"no\",\"yes\",\"no\",\"yes\",\"no\",\"no\",\"yes\",\"no\",\"yes\",\"no\",\"yes\",\"yes\",\"no\",\"no\",\"no\",\"yes\",\"no\",\"no\",\"yes\",\"yes\",\"no\",\"no\",\"no\",\"no\",\"yes\",\"no\",\"no\",\"no\",\"no\",\"no\",\"yes\",\"no\",\"no\",\"no\",\"yes\",\"no\",\"yes\",\"yes\",\"yes\",\"no\",\"no\",\"no\",\"yes\",\"no\",\"no\",\"yes\",\"yes\",\"yes\",\"no\",\"yes\",\"no\",\"no\",\"yes\",\"no\",\"no\",\"yes\",\"no\",\"no\",\"no\",\"no\",\"no\",\"yes\",\"no\",\"no\",\"yes\",\"no\",\"yes\",\"no\",\"yes\",\"no\",\"no\",\"yes\",\"no\",\"no\",\"no\",\"yes\",\"no\",\"no\",\"yes\",\"no\",\"no\",\"yes\",\"yes\",\"yes\",\"yes\",\"yes\",\"no\",\"no\",\"no\",\"no\",\"no\",\"yes\",\"no\",\"yes\",\"no\",\"no\",\"no\",\"no\",\"no\",\"yes\",\"no\",\"yes\",\"yes\",\"no\",\"no\",\"no\",\"no\",\"yes\",\"yes\",\"no\",\"yes\",\"no\",\"no\",\"no\",\"no\",\"yes\",\"no\",\"no\",\"no\",\"no\",\"yes\",\"no\",\"yes\",\"no\",\"no\",\"no\",\"no\",\"no\",\"yes\",\"no\",\"yes\",\"yes\",\"yes\",\"no\",\"no\",\"no\",\"no\",\"no\",\"no\",\"no\",\"yes\",\"no\",\"no\",\"yes\",\"yes\",\"yes\",\"yes\",\"yes\",\"no\",\"yes\",\"no\",\"yes\",\"yes\",\"no\",\"yes\",\"no\",\"yes\",\"yes\",\"no\",\"no\",\"no\",\"no\",\"no\",\"yes\",\"no\",\"no\",\"yes\",\"yes\",\"yes\",\"no\",\"no\",\"yes\",\"no\",\"no\",\"no\",\"yes\",\"no\",\"yes\"],\"type\":\"histogram\"},{\"histnorm\":\"\",\"marker\":{\"color\":\"salmon\"},\"name\":\"ASD_neg\",\"opacity\":0.85,\"x\":[\"no\",\"no\",\"no\",\"no\",\"no\",\"no\",\"yes\",\"no\",\"no\",\"yes\",\"no\",\"no\",\"no\",\"no\",\"no\",\"no\",\"no\",\"yes\",\"no\",\"no\",\"no\",\"no\",\"no\",\"no\",\"no\",\"no\",\"no\",\"yes\",\"no\",\"no\",\"no\",\"no\",\"no\",\"no\",\"yes\",\"yes\",\"no\",\"no\",\"no\",\"no\",\"no\",\"no\",\"no\",\"no\",\"no\",\"yes\",\"yes\",\"no\",\"no\",\"no\",\"no\",\"no\",\"no\",\"no\",\"yes\",\"no\",\"no\",\"no\",\"no\",\"no\",\"no\",\"yes\",\"no\",\"no\",\"no\",\"no\",\"no\",\"no\",\"no\",\"no\",\"no\",\"no\",\"no\",\"no\",\"no\",\"no\",\"no\",\"no\",\"no\",\"yes\",\"no\",\"no\",\"yes\",\"no\",\"no\",\"yes\",\"no\",\"no\",\"yes\",\"yes\",\"no\",\"no\",\"no\",\"yes\",\"no\",\"no\",\"no\",\"no\",\"no\",\"no\",\"yes\",\"no\",\"no\",\"yes\",\"no\",\"no\",\"no\",\"no\",\"yes\",\"no\",\"no\",\"no\",\"no\",\"yes\",\"no\",\"yes\",\"yes\",\"no\",\"no\",\"yes\",\"no\",\"no\",\"no\",\"yes\",\"no\",\"yes\",\"no\",\"yes\",\"yes\",\"no\",\"no\",\"no\",\"no\",\"no\",\"no\",\"no\",\"yes\",\"no\",\"no\",\"yes\",\"no\",\"yes\",\"no\",\"no\",\"no\",\"no\",\"no\",\"no\",\"no\",\"no\",\"no\",\"no\",\"yes\",\"no\",\"no\",\"no\",\"no\",\"no\",\"yes\",\"no\",\"no\",\"no\",\"no\",\"no\",\"no\",\"no\",\"no\",\"no\",\"no\",\"yes\",\"no\",\"yes\",\"no\",\"yes\",\"no\",\"no\",\"no\",\"no\",\"no\",\"no\",\"no\",\"no\",\"no\",\"no\",\"no\",\"no\",\"no\",\"no\",\"no\",\"no\",\"no\",\"yes\",\"no\",\"no\",\"no\",\"no\",\"no\",\"no\",\"no\",\"no\",\"no\",\"yes\",\"no\",\"no\",\"no\",\"no\",\"no\",\"no\",\"no\",\"no\",\"no\",\"no\",\"no\",\"no\",\"no\",\"no\",\"no\",\"yes\",\"no\",\"no\",\"no\",\"yes\",\"no\",\"no\",\"no\",\"no\",\"no\",\"no\",\"yes\",\"no\",\"yes\",\"no\",\"no\",\"no\",\"no\",\"no\",\"no\",\"no\",\"no\",\"no\",\"no\",\"yes\",\"no\",\"no\",\"yes\",\"yes\",\"no\",\"no\",\"yes\",\"no\",\"no\",\"no\",\"yes\",\"no\",\"no\",\"yes\",\"yes\",\"no\",\"yes\",\"no\",\"yes\",\"no\",\"no\",\"no\",\"no\",\"no\",\"yes\",\"no\",\"no\",\"yes\",\"yes\",\"no\",\"no\",\"yes\",\"yes\",\"yes\",\"no\",\"no\",\"no\",\"yes\",\"no\",\"no\",\"yes\",\"yes\",\"no\",\"no\",\"no\",\"no\",\"no\",\"no\",\"no\",\"no\",\"no\",\"no\",\"no\",\"no\",\"no\",\"no\",\"no\",\"no\",\"no\",\"no\",\"yes\",\"no\",\"no\",\"yes\",\"no\",\"no\",\"no\",\"yes\",\"no\",\"yes\",\"no\",\"no\",\"no\",\"no\",\"yes\",\"no\",\"no\",\"no\",\"no\",\"no\",\"no\",\"no\",\"yes\",\"no\",\"no\",\"yes\",\"no\",\"no\",\"no\",\"no\",\"no\",\"no\",\"yes\",\"yes\",\"yes\",\"yes\",\"no\",\"no\",\"yes\",\"no\",\"no\",\"no\",\"no\",\"yes\",\"no\",\"no\",\"no\",\"yes\",\"no\",\"no\",\"no\",\"no\",\"no\",\"no\",\"no\",\"no\",\"no\",\"no\",\"no\",\"no\",\"no\",\"no\",\"yes\",\"no\",\"yes\",\"no\",\"no\",\"no\",\"no\",\"no\",\"no\",\"yes\",\"yes\",\"no\",\"no\",\"no\",\"no\",\"no\",\"no\",\"no\",\"no\",\"yes\",\"no\",\"no\",\"yes\",\"no\",\"no\",\"no\",\"no\",\"no\",\"no\",\"yes\",\"no\",\"no\",\"no\",\"no\",\"no\",\"yes\",\"no\",\"no\",\"no\",\"yes\",\"no\",\"no\",\"yes\",\"no\",\"yes\",\"no\",\"no\",\"no\",\"no\",\"no\",\"no\",\"yes\",\"no\",\"yes\",\"yes\",\"no\",\"no\",\"yes\",\"yes\",\"no\",\"no\",\"no\",\"no\",\"no\",\"no\",\"no\",\"no\",\"yes\",\"no\",\"no\",\"no\",\"no\",\"no\",\"no\",\"yes\",\"no\",\"no\",\"yes\",\"yes\",\"no\",\"no\",\"no\",\"no\",\"yes\",\"yes\",\"yes\",\"yes\",\"no\",\"no\",\"no\",\"no\",\"no\",\"yes\",\"no\",\"no\",\"no\",\"no\",\"no\",\"yes\",\"no\",\"no\",\"no\",\"yes\",\"no\",\"no\",\"no\",\"no\",\"no\",\"no\",\"no\",\"no\",\"no\",\"yes\",\"no\",\"no\",\"yes\",\"no\",\"no\",\"no\",\"no\",\"no\",\"no\",\"no\",\"no\",\"no\",\"yes\",\"no\",\"no\",\"no\",\"no\",\"no\",\"no\",\"no\",\"no\",\"no\",\"no\",\"no\",\"no\",\"no\",\"no\",\"no\",\"no\",\"yes\",\"no\",\"yes\",\"no\",\"no\",\"no\",\"no\",\"yes\",\"no\",\"no\",\"no\",\"no\",\"no\",\"no\",\"no\",\"no\",\"no\",\"no\",\"no\",\"yes\",\"yes\",\"no\",\"no\",\"no\",\"no\",\"yes\",\"no\",\"yes\",\"no\",\"no\",\"no\",\"yes\",\"no\",\"no\",\"no\",\"no\",\"no\",\"no\",\"no\",\"yes\",\"no\",\"no\",\"yes\",\"yes\",\"no\",\"no\",\"no\",\"no\",\"no\",\"no\",\"no\",\"no\",\"no\",\"no\",\"no\",\"no\",\"no\",\"no\",\"no\",\"no\",\"no\",\"no\",\"no\",\"yes\",\"no\",\"yes\",\"yes\",\"no\",\"no\",\"yes\",\"yes\",\"no\",\"no\",\"yes\",\"no\",\"no\",\"no\",\"no\",\"no\",\"no\",\"no\",\"no\",\"yes\",\"no\",\"no\",\"no\",\"no\",\"yes\",\"no\",\"no\",\"no\",\"no\",\"yes\",\"no\",\"no\",\"no\",\"no\",\"no\",\"no\",\"no\",\"no\",\"no\",\"no\",\"no\",\"no\",\"no\",\"no\",\"no\",\"no\"],\"type\":\"histogram\"}],                        {\"template\":{\"data\":{\"barpolar\":[{\"marker\":{\"line\":{\"color\":\"white\",\"width\":0.5},\"pattern\":{\"fillmode\":\"overlay\",\"size\":10,\"solidity\":0.2}},\"type\":\"barpolar\"}],\"bar\":[{\"error_x\":{\"color\":\"rgb(36,36,36)\"},\"error_y\":{\"color\":\"rgb(36,36,36)\"},\"marker\":{\"line\":{\"color\":\"white\",\"width\":0.5},\"pattern\":{\"fillmode\":\"overlay\",\"size\":10,\"solidity\":0.2}},\"type\":\"bar\"}],\"carpet\":[{\"aaxis\":{\"endlinecolor\":\"rgb(36,36,36)\",\"gridcolor\":\"white\",\"linecolor\":\"white\",\"minorgridcolor\":\"white\",\"startlinecolor\":\"rgb(36,36,36)\"},\"baxis\":{\"endlinecolor\":\"rgb(36,36,36)\",\"gridcolor\":\"white\",\"linecolor\":\"white\",\"minorgridcolor\":\"white\",\"startlinecolor\":\"rgb(36,36,36)\"},\"type\":\"carpet\"}],\"choropleth\":[{\"colorbar\":{\"outlinewidth\":1,\"tickcolor\":\"rgb(36,36,36)\",\"ticks\":\"outside\"},\"type\":\"choropleth\"}],\"contourcarpet\":[{\"colorbar\":{\"outlinewidth\":1,\"tickcolor\":\"rgb(36,36,36)\",\"ticks\":\"outside\"},\"type\":\"contourcarpet\"}],\"contour\":[{\"colorbar\":{\"outlinewidth\":1,\"tickcolor\":\"rgb(36,36,36)\",\"ticks\":\"outside\"},\"colorscale\":[[0.0,\"#440154\"],[0.1111111111111111,\"#482878\"],[0.2222222222222222,\"#3e4989\"],[0.3333333333333333,\"#31688e\"],[0.4444444444444444,\"#26828e\"],[0.5555555555555556,\"#1f9e89\"],[0.6666666666666666,\"#35b779\"],[0.7777777777777778,\"#6ece58\"],[0.8888888888888888,\"#b5de2b\"],[1.0,\"#fde725\"]],\"type\":\"contour\"}],\"heatmapgl\":[{\"colorbar\":{\"outlinewidth\":1,\"tickcolor\":\"rgb(36,36,36)\",\"ticks\":\"outside\"},\"colorscale\":[[0.0,\"#440154\"],[0.1111111111111111,\"#482878\"],[0.2222222222222222,\"#3e4989\"],[0.3333333333333333,\"#31688e\"],[0.4444444444444444,\"#26828e\"],[0.5555555555555556,\"#1f9e89\"],[0.6666666666666666,\"#35b779\"],[0.7777777777777778,\"#6ece58\"],[0.8888888888888888,\"#b5de2b\"],[1.0,\"#fde725\"]],\"type\":\"heatmapgl\"}],\"heatmap\":[{\"colorbar\":{\"outlinewidth\":1,\"tickcolor\":\"rgb(36,36,36)\",\"ticks\":\"outside\"},\"colorscale\":[[0.0,\"#440154\"],[0.1111111111111111,\"#482878\"],[0.2222222222222222,\"#3e4989\"],[0.3333333333333333,\"#31688e\"],[0.4444444444444444,\"#26828e\"],[0.5555555555555556,\"#1f9e89\"],[0.6666666666666666,\"#35b779\"],[0.7777777777777778,\"#6ece58\"],[0.8888888888888888,\"#b5de2b\"],[1.0,\"#fde725\"]],\"type\":\"heatmap\"}],\"histogram2dcontour\":[{\"colorbar\":{\"outlinewidth\":1,\"tickcolor\":\"rgb(36,36,36)\",\"ticks\":\"outside\"},\"colorscale\":[[0.0,\"#440154\"],[0.1111111111111111,\"#482878\"],[0.2222222222222222,\"#3e4989\"],[0.3333333333333333,\"#31688e\"],[0.4444444444444444,\"#26828e\"],[0.5555555555555556,\"#1f9e89\"],[0.6666666666666666,\"#35b779\"],[0.7777777777777778,\"#6ece58\"],[0.8888888888888888,\"#b5de2b\"],[1.0,\"#fde725\"]],\"type\":\"histogram2dcontour\"}],\"histogram2d\":[{\"colorbar\":{\"outlinewidth\":1,\"tickcolor\":\"rgb(36,36,36)\",\"ticks\":\"outside\"},\"colorscale\":[[0.0,\"#440154\"],[0.1111111111111111,\"#482878\"],[0.2222222222222222,\"#3e4989\"],[0.3333333333333333,\"#31688e\"],[0.4444444444444444,\"#26828e\"],[0.5555555555555556,\"#1f9e89\"],[0.6666666666666666,\"#35b779\"],[0.7777777777777778,\"#6ece58\"],[0.8888888888888888,\"#b5de2b\"],[1.0,\"#fde725\"]],\"type\":\"histogram2d\"}],\"histogram\":[{\"marker\":{\"line\":{\"color\":\"white\",\"width\":0.6}},\"type\":\"histogram\"}],\"mesh3d\":[{\"colorbar\":{\"outlinewidth\":1,\"tickcolor\":\"rgb(36,36,36)\",\"ticks\":\"outside\"},\"type\":\"mesh3d\"}],\"parcoords\":[{\"line\":{\"colorbar\":{\"outlinewidth\":1,\"tickcolor\":\"rgb(36,36,36)\",\"ticks\":\"outside\"}},\"type\":\"parcoords\"}],\"pie\":[{\"automargin\":true,\"type\":\"pie\"}],\"scatter3d\":[{\"line\":{\"colorbar\":{\"outlinewidth\":1,\"tickcolor\":\"rgb(36,36,36)\",\"ticks\":\"outside\"}},\"marker\":{\"colorbar\":{\"outlinewidth\":1,\"tickcolor\":\"rgb(36,36,36)\",\"ticks\":\"outside\"}},\"type\":\"scatter3d\"}],\"scattercarpet\":[{\"marker\":{\"colorbar\":{\"outlinewidth\":1,\"tickcolor\":\"rgb(36,36,36)\",\"ticks\":\"outside\"}},\"type\":\"scattercarpet\"}],\"scattergeo\":[{\"marker\":{\"colorbar\":{\"outlinewidth\":1,\"tickcolor\":\"rgb(36,36,36)\",\"ticks\":\"outside\"}},\"type\":\"scattergeo\"}],\"scattergl\":[{\"marker\":{\"colorbar\":{\"outlinewidth\":1,\"tickcolor\":\"rgb(36,36,36)\",\"ticks\":\"outside\"}},\"type\":\"scattergl\"}],\"scattermapbox\":[{\"marker\":{\"colorbar\":{\"outlinewidth\":1,\"tickcolor\":\"rgb(36,36,36)\",\"ticks\":\"outside\"}},\"type\":\"scattermapbox\"}],\"scatterpolargl\":[{\"marker\":{\"colorbar\":{\"outlinewidth\":1,\"tickcolor\":\"rgb(36,36,36)\",\"ticks\":\"outside\"}},\"type\":\"scatterpolargl\"}],\"scatterpolar\":[{\"marker\":{\"colorbar\":{\"outlinewidth\":1,\"tickcolor\":\"rgb(36,36,36)\",\"ticks\":\"outside\"}},\"type\":\"scatterpolar\"}],\"scatter\":[{\"fillpattern\":{\"fillmode\":\"overlay\",\"size\":10,\"solidity\":0.2},\"type\":\"scatter\"}],\"scatterternary\":[{\"marker\":{\"colorbar\":{\"outlinewidth\":1,\"tickcolor\":\"rgb(36,36,36)\",\"ticks\":\"outside\"}},\"type\":\"scatterternary\"}],\"surface\":[{\"colorbar\":{\"outlinewidth\":1,\"tickcolor\":\"rgb(36,36,36)\",\"ticks\":\"outside\"},\"colorscale\":[[0.0,\"#440154\"],[0.1111111111111111,\"#482878\"],[0.2222222222222222,\"#3e4989\"],[0.3333333333333333,\"#31688e\"],[0.4444444444444444,\"#26828e\"],[0.5555555555555556,\"#1f9e89\"],[0.6666666666666666,\"#35b779\"],[0.7777777777777778,\"#6ece58\"],[0.8888888888888888,\"#b5de2b\"],[1.0,\"#fde725\"]],\"type\":\"surface\"}],\"table\":[{\"cells\":{\"fill\":{\"color\":\"rgb(237,237,237)\"},\"line\":{\"color\":\"white\"}},\"header\":{\"fill\":{\"color\":\"rgb(217,217,217)\"},\"line\":{\"color\":\"white\"}},\"type\":\"table\"}]},\"layout\":{\"annotationdefaults\":{\"arrowhead\":0,\"arrowwidth\":1},\"autotypenumbers\":\"strict\",\"coloraxis\":{\"colorbar\":{\"outlinewidth\":1,\"tickcolor\":\"rgb(36,36,36)\",\"ticks\":\"outside\"}},\"colorscale\":{\"diverging\":[[0.0,\"rgb(103,0,31)\"],[0.1,\"rgb(178,24,43)\"],[0.2,\"rgb(214,96,77)\"],[0.3,\"rgb(244,165,130)\"],[0.4,\"rgb(253,219,199)\"],[0.5,\"rgb(247,247,247)\"],[0.6,\"rgb(209,229,240)\"],[0.7,\"rgb(146,197,222)\"],[0.8,\"rgb(67,147,195)\"],[0.9,\"rgb(33,102,172)\"],[1.0,\"rgb(5,48,97)\"]],\"sequential\":[[0.0,\"#440154\"],[0.1111111111111111,\"#482878\"],[0.2222222222222222,\"#3e4989\"],[0.3333333333333333,\"#31688e\"],[0.4444444444444444,\"#26828e\"],[0.5555555555555556,\"#1f9e89\"],[0.6666666666666666,\"#35b779\"],[0.7777777777777778,\"#6ece58\"],[0.8888888888888888,\"#b5de2b\"],[1.0,\"#fde725\"]],\"sequentialminus\":[[0.0,\"#440154\"],[0.1111111111111111,\"#482878\"],[0.2222222222222222,\"#3e4989\"],[0.3333333333333333,\"#31688e\"],[0.4444444444444444,\"#26828e\"],[0.5555555555555556,\"#1f9e89\"],[0.6666666666666666,\"#35b779\"],[0.7777777777777778,\"#6ece58\"],[0.8888888888888888,\"#b5de2b\"],[1.0,\"#fde725\"]]},\"colorway\":[\"#1F77B4\",\"#FF7F0E\",\"#2CA02C\",\"#D62728\",\"#9467BD\",\"#8C564B\",\"#E377C2\",\"#7F7F7F\",\"#BCBD22\",\"#17BECF\"],\"font\":{\"color\":\"rgb(36,36,36)\"},\"geo\":{\"bgcolor\":\"white\",\"lakecolor\":\"white\",\"landcolor\":\"white\",\"showlakes\":true,\"showland\":true,\"subunitcolor\":\"white\"},\"hoverlabel\":{\"align\":\"left\"},\"hovermode\":\"closest\",\"mapbox\":{\"style\":\"light\"},\"paper_bgcolor\":\"white\",\"plot_bgcolor\":\"white\",\"polar\":{\"angularaxis\":{\"gridcolor\":\"rgb(232,232,232)\",\"linecolor\":\"rgb(36,36,36)\",\"showgrid\":false,\"showline\":true,\"ticks\":\"outside\"},\"bgcolor\":\"white\",\"radialaxis\":{\"gridcolor\":\"rgb(232,232,232)\",\"linecolor\":\"rgb(36,36,36)\",\"showgrid\":false,\"showline\":true,\"ticks\":\"outside\"}},\"scene\":{\"xaxis\":{\"backgroundcolor\":\"white\",\"gridcolor\":\"rgb(232,232,232)\",\"gridwidth\":2,\"linecolor\":\"rgb(36,36,36)\",\"showbackground\":true,\"showgrid\":false,\"showline\":true,\"ticks\":\"outside\",\"zeroline\":false,\"zerolinecolor\":\"rgb(36,36,36)\"},\"yaxis\":{\"backgroundcolor\":\"white\",\"gridcolor\":\"rgb(232,232,232)\",\"gridwidth\":2,\"linecolor\":\"rgb(36,36,36)\",\"showbackground\":true,\"showgrid\":false,\"showline\":true,\"ticks\":\"outside\",\"zeroline\":false,\"zerolinecolor\":\"rgb(36,36,36)\"},\"zaxis\":{\"backgroundcolor\":\"white\",\"gridcolor\":\"rgb(232,232,232)\",\"gridwidth\":2,\"linecolor\":\"rgb(36,36,36)\",\"showbackground\":true,\"showgrid\":false,\"showline\":true,\"ticks\":\"outside\",\"zeroline\":false,\"zerolinecolor\":\"rgb(36,36,36)\"}},\"shapedefaults\":{\"fillcolor\":\"black\",\"line\":{\"width\":0},\"opacity\":0.3},\"ternary\":{\"aaxis\":{\"gridcolor\":\"rgb(232,232,232)\",\"linecolor\":\"rgb(36,36,36)\",\"showgrid\":false,\"showline\":true,\"ticks\":\"outside\"},\"baxis\":{\"gridcolor\":\"rgb(232,232,232)\",\"linecolor\":\"rgb(36,36,36)\",\"showgrid\":false,\"showline\":true,\"ticks\":\"outside\"},\"bgcolor\":\"white\",\"caxis\":{\"gridcolor\":\"rgb(232,232,232)\",\"linecolor\":\"rgb(36,36,36)\",\"showgrid\":false,\"showline\":true,\"ticks\":\"outside\"}},\"title\":{\"x\":0.05},\"xaxis\":{\"automargin\":true,\"gridcolor\":\"rgb(232,232,232)\",\"linecolor\":\"rgb(36,36,36)\",\"showgrid\":false,\"showline\":true,\"ticks\":\"outside\",\"title\":{\"standoff\":15},\"zeroline\":false,\"zerolinecolor\":\"rgb(36,36,36)\"},\"yaxis\":{\"automargin\":true,\"gridcolor\":\"rgb(232,232,232)\",\"linecolor\":\"rgb(36,36,36)\",\"showgrid\":false,\"showline\":true,\"ticks\":\"outside\",\"title\":{\"standoff\":15},\"zeroline\":false,\"zerolinecolor\":\"rgb(36,36,36)\"}}},\"font\":{\"family\":\"San Serif\"},\"title\":{\"text\":\"Whether the patient had jaundice at the time of birth\",\"font\":{\"size\":20}},\"legend\":{\"orientation\":\"v\",\"y\":1,\"yanchor\":\"top\",\"x\":1.0,\"xanchor\":\"right\"},\"width\":600,\"height\":400,\"xaxis\":{\"categoryorder\":\"total descending\"}},                        {\"responsive\": true}                    ).then(function(){\n",
       "                            \n",
       "var gd = document.getElementById('47fa4d1c-0e80-4497-bc88-5851fbde6bd7');\n",
       "var x = new MutationObserver(function (mutations, observer) {{\n",
       "        var display = window.getComputedStyle(gd).display;\n",
       "        if (!display || display === 'none') {{\n",
       "            console.log([gd, 'removed!']);\n",
       "            Plotly.purge(gd);\n",
       "            observer.disconnect();\n",
       "        }}\n",
       "}});\n",
       "\n",
       "// Listen for the removal of the full notebook cells\n",
       "var notebookContainer = gd.closest('#notebook-container');\n",
       "if (notebookContainer) {{\n",
       "    x.observe(notebookContainer, {childList: true});\n",
       "}}\n",
       "\n",
       "// Listen for the clearing of the current output cell\n",
       "var outputEl = gd.closest('.output');\n",
       "if (outputEl) {{\n",
       "    x.observe(outputEl, {childList: true});\n",
       "}}\n",
       "\n",
       "                        })                };                });            </script>        </div>"
      ]
     },
     "metadata": {},
     "output_type": "display_data"
    }
   ],
   "execution_count": 43
  },
  {
   "metadata": {},
   "cell_type": "markdown",
   "source": [
    "### Ailede Otizm\n",
    "- Hastaların çoğunluğunun ailesinde otizm teşhisi konmuş bir birey yoktur.\n",
    "- Ancak, otistik aile üyeleri olanların otizm teşhisi alma olasılığı daha yüksektir. ASD pozitif hastaların 117'sinden 72'si (%62) otistik aile üyelerine sahiptir."
   ],
   "id": "95ce0e9f74e7a07e"
  },
  {
   "metadata": {
    "ExecuteTime": {
     "end_time": "2024-05-30T18:51:42.192675Z",
     "start_time": "2024-05-30T18:51:42.155480Z"
    }
   },
   "cell_type": "code",
   "source": [
    "fig = go.Figure()\n",
    "fig.add_trace(go.Histogram(x=ASD_pos['autism'],histnorm='',\n",
    "                           name='ASD_pos', marker_color = 'purple'),\n",
    "              )\n",
    "fig.add_trace(go.Histogram(x=ASD_neg['autism'],histnorm='',\n",
    "                           name='ASD_neg', marker_color = 'salmon', opacity=0.85),\n",
    "              )\n",
    "\n",
    "fig.update_layout(title=\"Whether an immediate family member has been diagnosed with autism\",\n",
    "                  font_family=\"San Serif\",\n",
    "                  titlefont={'size': 20},\n",
    "                  template='simple_white',\n",
    "                  width=600,\n",
    "                  height=400,\n",
    "                  legend=dict(\n",
    "                      orientation=\"v\", y=1, yanchor=\"top\", x=1.0, xanchor=\"right\" )\n",
    "                  ).update_xaxes(categoryorder='total descending')\n",
    "\n",
    "fig.show()"
   ],
   "id": "744cac455de96830",
   "outputs": [
    {
     "data": {
      "application/vnd.plotly.v1+json": {
       "data": [
        {
         "histnorm": "",
         "marker": {
          "color": "purple"
         },
         "name": "ASD_pos",
         "x": [
          "no",
          "no",
          "no",
          "yes",
          "no",
          "yes",
          "no",
          "no",
          "no",
          "no",
          "yes",
          "no",
          "yes",
          "no",
          "yes",
          "no",
          "no",
          "no",
          "yes",
          "no",
          "yes",
          "no",
          "no",
          "yes",
          "no",
          "no",
          "yes",
          "no",
          "no",
          "no",
          "no",
          "no",
          "no",
          "no",
          "yes",
          "yes",
          "yes",
          "no",
          "no",
          "yes",
          "no",
          "no",
          "no",
          "no",
          "no",
          "yes",
          "yes",
          "yes",
          "no",
          "no",
          "yes",
          "no",
          "no",
          "no",
          "yes",
          "no",
          "no",
          "yes",
          "no",
          "no",
          "no",
          "no",
          "no",
          "yes",
          "no",
          "no",
          "no",
          "no",
          "no",
          "yes",
          "no",
          "no",
          "no",
          "yes",
          "yes",
          "yes",
          "yes",
          "no",
          "no",
          "no",
          "no",
          "no",
          "yes",
          "no",
          "no",
          "yes",
          "no",
          "yes",
          "yes",
          "no",
          "yes",
          "yes",
          "no",
          "yes",
          "yes",
          "yes",
          "no",
          "no",
          "no",
          "no",
          "no",
          "no",
          "no",
          "no",
          "yes",
          "yes",
          "yes",
          "yes",
          "yes",
          "no",
          "no",
          "no",
          "no",
          "no",
          "no",
          "no",
          "yes",
          "yes",
          "yes",
          "no",
          "yes",
          "no",
          "no",
          "yes",
          "no",
          "no",
          "no",
          "no",
          "yes",
          "yes",
          "yes",
          "yes",
          "yes",
          "yes",
          "no",
          "no",
          "no",
          "no",
          "no",
          "no",
          "yes",
          "no",
          "yes",
          "yes",
          "no",
          "no",
          "yes",
          "yes",
          "no",
          "no",
          "yes",
          "no",
          "yes",
          "no",
          "yes",
          "no",
          "yes",
          "yes",
          "yes",
          "no",
          "no",
          "no",
          "no",
          "no",
          "no",
          "no",
          "no",
          "no",
          "yes",
          "yes",
          "no",
          "yes",
          "no",
          "no",
          "no",
          "yes",
          "yes",
          "yes",
          "yes",
          "yes",
          "no",
          "yes",
          "yes",
          "yes",
          "no"
         ],
         "type": "histogram"
        },
        {
         "histnorm": "",
         "marker": {
          "color": "salmon"
         },
         "name": "ASD_neg",
         "opacity": 0.85,
         "x": [
          "no",
          "no",
          "no",
          "yes",
          "no",
          "no",
          "no",
          "no",
          "no",
          "no",
          "no",
          "no",
          "no",
          "no",
          "no",
          "no",
          "no",
          "no",
          "no",
          "yes",
          "no",
          "no",
          "no",
          "no",
          "no",
          "no",
          "no",
          "no",
          "no",
          "no",
          "no",
          "no",
          "no",
          "no",
          "no",
          "yes",
          "no",
          "no",
          "no",
          "no",
          "no",
          "no",
          "no",
          "no",
          "no",
          "no",
          "no",
          "no",
          "yes",
          "no",
          "no",
          "no",
          "no",
          "no",
          "no",
          "no",
          "no",
          "no",
          "yes",
          "no",
          "no",
          "no",
          "no",
          "no",
          "yes",
          "no",
          "no",
          "no",
          "no",
          "no",
          "no",
          "no",
          "no",
          "no",
          "no",
          "no",
          "no",
          "no",
          "no",
          "no",
          "no",
          "no",
          "no",
          "no",
          "no",
          "no",
          "no",
          "no",
          "no",
          "no",
          "no",
          "no",
          "no",
          "no",
          "no",
          "no",
          "no",
          "no",
          "no",
          "no",
          "yes",
          "no",
          "no",
          "no",
          "no",
          "no",
          "yes",
          "no",
          "no",
          "no",
          "no",
          "no",
          "no",
          "no",
          "no",
          "no",
          "yes",
          "no",
          "no",
          "no",
          "no",
          "no",
          "no",
          "no",
          "no",
          "no",
          "no",
          "no",
          "no",
          "no",
          "no",
          "no",
          "no",
          "no",
          "no",
          "no",
          "no",
          "no",
          "no",
          "no",
          "no",
          "no",
          "no",
          "no",
          "no",
          "no",
          "no",
          "no",
          "no",
          "no",
          "no",
          "no",
          "no",
          "no",
          "no",
          "yes",
          "no",
          "no",
          "no",
          "no",
          "no",
          "no",
          "no",
          "no",
          "no",
          "no",
          "yes",
          "no",
          "no",
          "no",
          "no",
          "no",
          "no",
          "yes",
          "yes",
          "no",
          "yes",
          "no",
          "no",
          "no",
          "no",
          "no",
          "no",
          "yes",
          "yes",
          "no",
          "no",
          "no",
          "no",
          "no",
          "no",
          "no",
          "no",
          "no",
          "no",
          "no",
          "no",
          "no",
          "no",
          "no",
          "no",
          "yes",
          "no",
          "yes",
          "no",
          "no",
          "no",
          "no",
          "no",
          "yes",
          "no",
          "no",
          "no",
          "no",
          "no",
          "no",
          "no",
          "no",
          "no",
          "no",
          "no",
          "no",
          "no",
          "no",
          "yes",
          "no",
          "no",
          "no",
          "no",
          "yes",
          "no",
          "no",
          "no",
          "no",
          "no",
          "no",
          "no",
          "no",
          "no",
          "no",
          "no",
          "no",
          "no",
          "no",
          "no",
          "no",
          "no",
          "no",
          "no",
          "no",
          "no",
          "no",
          "yes",
          "no",
          "no",
          "no",
          "no",
          "no",
          "no",
          "no",
          "no",
          "no",
          "no",
          "no",
          "no",
          "no",
          "no",
          "no",
          "no",
          "no",
          "no",
          "no",
          "no",
          "no",
          "no",
          "no",
          "no",
          "no",
          "no",
          "no",
          "yes",
          "yes",
          "no",
          "no",
          "no",
          "no",
          "no",
          "no",
          "no",
          "no",
          "no",
          "no",
          "no",
          "no",
          "no",
          "yes",
          "no",
          "yes",
          "no",
          "no",
          "no",
          "no",
          "no",
          "no",
          "no",
          "no",
          "yes",
          "no",
          "no",
          "no",
          "no",
          "no",
          "no",
          "no",
          "no",
          "no",
          "no",
          "no",
          "no",
          "no",
          "no",
          "no",
          "no",
          "no",
          "no",
          "no",
          "no",
          "no",
          "no",
          "no",
          "yes",
          "yes",
          "no",
          "no",
          "no",
          "yes",
          "no",
          "no",
          "no",
          "no",
          "no",
          "no",
          "no",
          "no",
          "no",
          "no",
          "no",
          "no",
          "no",
          "yes",
          "no",
          "no",
          "no",
          "no",
          "no",
          "no",
          "yes",
          "no",
          "no",
          "no",
          "no",
          "no",
          "no",
          "no",
          "no",
          "no",
          "no",
          "no",
          "no",
          "no",
          "no",
          "no",
          "no",
          "no",
          "no",
          "no",
          "no",
          "no",
          "no",
          "no",
          "no",
          "no",
          "no",
          "no",
          "no",
          "no",
          "yes",
          "yes",
          "no",
          "no",
          "no",
          "no",
          "no",
          "no",
          "no",
          "no",
          "no",
          "no",
          "no",
          "no",
          "no",
          "no",
          "no",
          "no",
          "no",
          "no",
          "yes",
          "no",
          "yes",
          "no",
          "no",
          "no",
          "no",
          "no",
          "no",
          "yes",
          "no",
          "no",
          "no",
          "no",
          "no",
          "no",
          "no",
          "no",
          "no",
          "no",
          "no",
          "no",
          "no",
          "no",
          "yes",
          "no",
          "no",
          "no",
          "no",
          "no",
          "no",
          "no",
          "no",
          "no",
          "yes",
          "no",
          "no",
          "no",
          "no",
          "no",
          "no",
          "no",
          "no",
          "no",
          "no",
          "no",
          "no",
          "no",
          "no",
          "no",
          "no",
          "no",
          "yes",
          "no",
          "no",
          "no",
          "no",
          "no",
          "no",
          "no",
          "no",
          "no",
          "no",
          "no",
          "no",
          "no",
          "no",
          "no",
          "no",
          "no",
          "no",
          "no",
          "no",
          "no",
          "no",
          "no",
          "no",
          "no",
          "no",
          "no",
          "no",
          "no",
          "no",
          "yes",
          "no",
          "no",
          "no",
          "no",
          "no",
          "no",
          "no",
          "no",
          "no",
          "no",
          "no",
          "no",
          "no",
          "no",
          "no",
          "no",
          "no",
          "no",
          "yes",
          "no",
          "no",
          "no",
          "no",
          "no",
          "no",
          "no",
          "no",
          "no",
          "no",
          "no",
          "no",
          "no",
          "no",
          "no",
          "no",
          "no",
          "no",
          "no",
          "no",
          "no",
          "no",
          "no",
          "no",
          "no",
          "yes",
          "no",
          "no",
          "no",
          "no",
          "no",
          "no",
          "no",
          "no",
          "no",
          "no",
          "no",
          "no",
          "no",
          "no",
          "no",
          "no",
          "no",
          "no",
          "no",
          "no",
          "no",
          "no",
          "no",
          "no",
          "no",
          "no",
          "no",
          "no",
          "no",
          "no",
          "no",
          "no",
          "no",
          "no",
          "no",
          "no",
          "no",
          "no",
          "no",
          "no",
          "no",
          "no",
          "no",
          "no",
          "no",
          "no",
          "no",
          "no",
          "no",
          "no",
          "no",
          "yes",
          "no",
          "no",
          "no",
          "no",
          "no",
          "no",
          "no",
          "no",
          "no",
          "no",
          "no",
          "no",
          "no",
          "no",
          "no",
          "no",
          "no",
          "no",
          "no",
          "no",
          "no",
          "no",
          "no",
          "no",
          "no",
          "no",
          "yes",
          "no"
         ],
         "type": "histogram"
        }
       ],
       "layout": {
        "template": {
         "data": {
          "barpolar": [
           {
            "marker": {
             "line": {
              "color": "white",
              "width": 0.5
             },
             "pattern": {
              "fillmode": "overlay",
              "size": 10,
              "solidity": 0.2
             }
            },
            "type": "barpolar"
           }
          ],
          "bar": [
           {
            "error_x": {
             "color": "rgb(36,36,36)"
            },
            "error_y": {
             "color": "rgb(36,36,36)"
            },
            "marker": {
             "line": {
              "color": "white",
              "width": 0.5
             },
             "pattern": {
              "fillmode": "overlay",
              "size": 10,
              "solidity": 0.2
             }
            },
            "type": "bar"
           }
          ],
          "carpet": [
           {
            "aaxis": {
             "endlinecolor": "rgb(36,36,36)",
             "gridcolor": "white",
             "linecolor": "white",
             "minorgridcolor": "white",
             "startlinecolor": "rgb(36,36,36)"
            },
            "baxis": {
             "endlinecolor": "rgb(36,36,36)",
             "gridcolor": "white",
             "linecolor": "white",
             "minorgridcolor": "white",
             "startlinecolor": "rgb(36,36,36)"
            },
            "type": "carpet"
           }
          ],
          "choropleth": [
           {
            "colorbar": {
             "outlinewidth": 1,
             "tickcolor": "rgb(36,36,36)",
             "ticks": "outside"
            },
            "type": "choropleth"
           }
          ],
          "contourcarpet": [
           {
            "colorbar": {
             "outlinewidth": 1,
             "tickcolor": "rgb(36,36,36)",
             "ticks": "outside"
            },
            "type": "contourcarpet"
           }
          ],
          "contour": [
           {
            "colorbar": {
             "outlinewidth": 1,
             "tickcolor": "rgb(36,36,36)",
             "ticks": "outside"
            },
            "colorscale": [
             [
              0.0,
              "#440154"
             ],
             [
              0.1111111111111111,
              "#482878"
             ],
             [
              0.2222222222222222,
              "#3e4989"
             ],
             [
              0.3333333333333333,
              "#31688e"
             ],
             [
              0.4444444444444444,
              "#26828e"
             ],
             [
              0.5555555555555556,
              "#1f9e89"
             ],
             [
              0.6666666666666666,
              "#35b779"
             ],
             [
              0.7777777777777778,
              "#6ece58"
             ],
             [
              0.8888888888888888,
              "#b5de2b"
             ],
             [
              1.0,
              "#fde725"
             ]
            ],
            "type": "contour"
           }
          ],
          "heatmapgl": [
           {
            "colorbar": {
             "outlinewidth": 1,
             "tickcolor": "rgb(36,36,36)",
             "ticks": "outside"
            },
            "colorscale": [
             [
              0.0,
              "#440154"
             ],
             [
              0.1111111111111111,
              "#482878"
             ],
             [
              0.2222222222222222,
              "#3e4989"
             ],
             [
              0.3333333333333333,
              "#31688e"
             ],
             [
              0.4444444444444444,
              "#26828e"
             ],
             [
              0.5555555555555556,
              "#1f9e89"
             ],
             [
              0.6666666666666666,
              "#35b779"
             ],
             [
              0.7777777777777778,
              "#6ece58"
             ],
             [
              0.8888888888888888,
              "#b5de2b"
             ],
             [
              1.0,
              "#fde725"
             ]
            ],
            "type": "heatmapgl"
           }
          ],
          "heatmap": [
           {
            "colorbar": {
             "outlinewidth": 1,
             "tickcolor": "rgb(36,36,36)",
             "ticks": "outside"
            },
            "colorscale": [
             [
              0.0,
              "#440154"
             ],
             [
              0.1111111111111111,
              "#482878"
             ],
             [
              0.2222222222222222,
              "#3e4989"
             ],
             [
              0.3333333333333333,
              "#31688e"
             ],
             [
              0.4444444444444444,
              "#26828e"
             ],
             [
              0.5555555555555556,
              "#1f9e89"
             ],
             [
              0.6666666666666666,
              "#35b779"
             ],
             [
              0.7777777777777778,
              "#6ece58"
             ],
             [
              0.8888888888888888,
              "#b5de2b"
             ],
             [
              1.0,
              "#fde725"
             ]
            ],
            "type": "heatmap"
           }
          ],
          "histogram2dcontour": [
           {
            "colorbar": {
             "outlinewidth": 1,
             "tickcolor": "rgb(36,36,36)",
             "ticks": "outside"
            },
            "colorscale": [
             [
              0.0,
              "#440154"
             ],
             [
              0.1111111111111111,
              "#482878"
             ],
             [
              0.2222222222222222,
              "#3e4989"
             ],
             [
              0.3333333333333333,
              "#31688e"
             ],
             [
              0.4444444444444444,
              "#26828e"
             ],
             [
              0.5555555555555556,
              "#1f9e89"
             ],
             [
              0.6666666666666666,
              "#35b779"
             ],
             [
              0.7777777777777778,
              "#6ece58"
             ],
             [
              0.8888888888888888,
              "#b5de2b"
             ],
             [
              1.0,
              "#fde725"
             ]
            ],
            "type": "histogram2dcontour"
           }
          ],
          "histogram2d": [
           {
            "colorbar": {
             "outlinewidth": 1,
             "tickcolor": "rgb(36,36,36)",
             "ticks": "outside"
            },
            "colorscale": [
             [
              0.0,
              "#440154"
             ],
             [
              0.1111111111111111,
              "#482878"
             ],
             [
              0.2222222222222222,
              "#3e4989"
             ],
             [
              0.3333333333333333,
              "#31688e"
             ],
             [
              0.4444444444444444,
              "#26828e"
             ],
             [
              0.5555555555555556,
              "#1f9e89"
             ],
             [
              0.6666666666666666,
              "#35b779"
             ],
             [
              0.7777777777777778,
              "#6ece58"
             ],
             [
              0.8888888888888888,
              "#b5de2b"
             ],
             [
              1.0,
              "#fde725"
             ]
            ],
            "type": "histogram2d"
           }
          ],
          "histogram": [
           {
            "marker": {
             "line": {
              "color": "white",
              "width": 0.6
             }
            },
            "type": "histogram"
           }
          ],
          "mesh3d": [
           {
            "colorbar": {
             "outlinewidth": 1,
             "tickcolor": "rgb(36,36,36)",
             "ticks": "outside"
            },
            "type": "mesh3d"
           }
          ],
          "parcoords": [
           {
            "line": {
             "colorbar": {
              "outlinewidth": 1,
              "tickcolor": "rgb(36,36,36)",
              "ticks": "outside"
             }
            },
            "type": "parcoords"
           }
          ],
          "pie": [
           {
            "automargin": true,
            "type": "pie"
           }
          ],
          "scatter3d": [
           {
            "line": {
             "colorbar": {
              "outlinewidth": 1,
              "tickcolor": "rgb(36,36,36)",
              "ticks": "outside"
             }
            },
            "marker": {
             "colorbar": {
              "outlinewidth": 1,
              "tickcolor": "rgb(36,36,36)",
              "ticks": "outside"
             }
            },
            "type": "scatter3d"
           }
          ],
          "scattercarpet": [
           {
            "marker": {
             "colorbar": {
              "outlinewidth": 1,
              "tickcolor": "rgb(36,36,36)",
              "ticks": "outside"
             }
            },
            "type": "scattercarpet"
           }
          ],
          "scattergeo": [
           {
            "marker": {
             "colorbar": {
              "outlinewidth": 1,
              "tickcolor": "rgb(36,36,36)",
              "ticks": "outside"
             }
            },
            "type": "scattergeo"
           }
          ],
          "scattergl": [
           {
            "marker": {
             "colorbar": {
              "outlinewidth": 1,
              "tickcolor": "rgb(36,36,36)",
              "ticks": "outside"
             }
            },
            "type": "scattergl"
           }
          ],
          "scattermapbox": [
           {
            "marker": {
             "colorbar": {
              "outlinewidth": 1,
              "tickcolor": "rgb(36,36,36)",
              "ticks": "outside"
             }
            },
            "type": "scattermapbox"
           }
          ],
          "scatterpolargl": [
           {
            "marker": {
             "colorbar": {
              "outlinewidth": 1,
              "tickcolor": "rgb(36,36,36)",
              "ticks": "outside"
             }
            },
            "type": "scatterpolargl"
           }
          ],
          "scatterpolar": [
           {
            "marker": {
             "colorbar": {
              "outlinewidth": 1,
              "tickcolor": "rgb(36,36,36)",
              "ticks": "outside"
             }
            },
            "type": "scatterpolar"
           }
          ],
          "scatter": [
           {
            "fillpattern": {
             "fillmode": "overlay",
             "size": 10,
             "solidity": 0.2
            },
            "type": "scatter"
           }
          ],
          "scatterternary": [
           {
            "marker": {
             "colorbar": {
              "outlinewidth": 1,
              "tickcolor": "rgb(36,36,36)",
              "ticks": "outside"
             }
            },
            "type": "scatterternary"
           }
          ],
          "surface": [
           {
            "colorbar": {
             "outlinewidth": 1,
             "tickcolor": "rgb(36,36,36)",
             "ticks": "outside"
            },
            "colorscale": [
             [
              0.0,
              "#440154"
             ],
             [
              0.1111111111111111,
              "#482878"
             ],
             [
              0.2222222222222222,
              "#3e4989"
             ],
             [
              0.3333333333333333,
              "#31688e"
             ],
             [
              0.4444444444444444,
              "#26828e"
             ],
             [
              0.5555555555555556,
              "#1f9e89"
             ],
             [
              0.6666666666666666,
              "#35b779"
             ],
             [
              0.7777777777777778,
              "#6ece58"
             ],
             [
              0.8888888888888888,
              "#b5de2b"
             ],
             [
              1.0,
              "#fde725"
             ]
            ],
            "type": "surface"
           }
          ],
          "table": [
           {
            "cells": {
             "fill": {
              "color": "rgb(237,237,237)"
             },
             "line": {
              "color": "white"
             }
            },
            "header": {
             "fill": {
              "color": "rgb(217,217,217)"
             },
             "line": {
              "color": "white"
             }
            },
            "type": "table"
           }
          ]
         },
         "layout": {
          "annotationdefaults": {
           "arrowhead": 0,
           "arrowwidth": 1
          },
          "autotypenumbers": "strict",
          "coloraxis": {
           "colorbar": {
            "outlinewidth": 1,
            "tickcolor": "rgb(36,36,36)",
            "ticks": "outside"
           }
          },
          "colorscale": {
           "diverging": [
            [
             0.0,
             "rgb(103,0,31)"
            ],
            [
             0.1,
             "rgb(178,24,43)"
            ],
            [
             0.2,
             "rgb(214,96,77)"
            ],
            [
             0.3,
             "rgb(244,165,130)"
            ],
            [
             0.4,
             "rgb(253,219,199)"
            ],
            [
             0.5,
             "rgb(247,247,247)"
            ],
            [
             0.6,
             "rgb(209,229,240)"
            ],
            [
             0.7,
             "rgb(146,197,222)"
            ],
            [
             0.8,
             "rgb(67,147,195)"
            ],
            [
             0.9,
             "rgb(33,102,172)"
            ],
            [
             1.0,
             "rgb(5,48,97)"
            ]
           ],
           "sequential": [
            [
             0.0,
             "#440154"
            ],
            [
             0.1111111111111111,
             "#482878"
            ],
            [
             0.2222222222222222,
             "#3e4989"
            ],
            [
             0.3333333333333333,
             "#31688e"
            ],
            [
             0.4444444444444444,
             "#26828e"
            ],
            [
             0.5555555555555556,
             "#1f9e89"
            ],
            [
             0.6666666666666666,
             "#35b779"
            ],
            [
             0.7777777777777778,
             "#6ece58"
            ],
            [
             0.8888888888888888,
             "#b5de2b"
            ],
            [
             1.0,
             "#fde725"
            ]
           ],
           "sequentialminus": [
            [
             0.0,
             "#440154"
            ],
            [
             0.1111111111111111,
             "#482878"
            ],
            [
             0.2222222222222222,
             "#3e4989"
            ],
            [
             0.3333333333333333,
             "#31688e"
            ],
            [
             0.4444444444444444,
             "#26828e"
            ],
            [
             0.5555555555555556,
             "#1f9e89"
            ],
            [
             0.6666666666666666,
             "#35b779"
            ],
            [
             0.7777777777777778,
             "#6ece58"
            ],
            [
             0.8888888888888888,
             "#b5de2b"
            ],
            [
             1.0,
             "#fde725"
            ]
           ]
          },
          "colorway": [
           "#1F77B4",
           "#FF7F0E",
           "#2CA02C",
           "#D62728",
           "#9467BD",
           "#8C564B",
           "#E377C2",
           "#7F7F7F",
           "#BCBD22",
           "#17BECF"
          ],
          "font": {
           "color": "rgb(36,36,36)"
          },
          "geo": {
           "bgcolor": "white",
           "lakecolor": "white",
           "landcolor": "white",
           "showlakes": true,
           "showland": true,
           "subunitcolor": "white"
          },
          "hoverlabel": {
           "align": "left"
          },
          "hovermode": "closest",
          "mapbox": {
           "style": "light"
          },
          "paper_bgcolor": "white",
          "plot_bgcolor": "white",
          "polar": {
           "angularaxis": {
            "gridcolor": "rgb(232,232,232)",
            "linecolor": "rgb(36,36,36)",
            "showgrid": false,
            "showline": true,
            "ticks": "outside"
           },
           "bgcolor": "white",
           "radialaxis": {
            "gridcolor": "rgb(232,232,232)",
            "linecolor": "rgb(36,36,36)",
            "showgrid": false,
            "showline": true,
            "ticks": "outside"
           }
          },
          "scene": {
           "xaxis": {
            "backgroundcolor": "white",
            "gridcolor": "rgb(232,232,232)",
            "gridwidth": 2,
            "linecolor": "rgb(36,36,36)",
            "showbackground": true,
            "showgrid": false,
            "showline": true,
            "ticks": "outside",
            "zeroline": false,
            "zerolinecolor": "rgb(36,36,36)"
           },
           "yaxis": {
            "backgroundcolor": "white",
            "gridcolor": "rgb(232,232,232)",
            "gridwidth": 2,
            "linecolor": "rgb(36,36,36)",
            "showbackground": true,
            "showgrid": false,
            "showline": true,
            "ticks": "outside",
            "zeroline": false,
            "zerolinecolor": "rgb(36,36,36)"
           },
           "zaxis": {
            "backgroundcolor": "white",
            "gridcolor": "rgb(232,232,232)",
            "gridwidth": 2,
            "linecolor": "rgb(36,36,36)",
            "showbackground": true,
            "showgrid": false,
            "showline": true,
            "ticks": "outside",
            "zeroline": false,
            "zerolinecolor": "rgb(36,36,36)"
           }
          },
          "shapedefaults": {
           "fillcolor": "black",
           "line": {
            "width": 0
           },
           "opacity": 0.3
          },
          "ternary": {
           "aaxis": {
            "gridcolor": "rgb(232,232,232)",
            "linecolor": "rgb(36,36,36)",
            "showgrid": false,
            "showline": true,
            "ticks": "outside"
           },
           "baxis": {
            "gridcolor": "rgb(232,232,232)",
            "linecolor": "rgb(36,36,36)",
            "showgrid": false,
            "showline": true,
            "ticks": "outside"
           },
           "bgcolor": "white",
           "caxis": {
            "gridcolor": "rgb(232,232,232)",
            "linecolor": "rgb(36,36,36)",
            "showgrid": false,
            "showline": true,
            "ticks": "outside"
           }
          },
          "title": {
           "x": 0.05
          },
          "xaxis": {
           "automargin": true,
           "gridcolor": "rgb(232,232,232)",
           "linecolor": "rgb(36,36,36)",
           "showgrid": false,
           "showline": true,
           "ticks": "outside",
           "title": {
            "standoff": 15
           },
           "zeroline": false,
           "zerolinecolor": "rgb(36,36,36)"
          },
          "yaxis": {
           "automargin": true,
           "gridcolor": "rgb(232,232,232)",
           "linecolor": "rgb(36,36,36)",
           "showgrid": false,
           "showline": true,
           "ticks": "outside",
           "title": {
            "standoff": 15
           },
           "zeroline": false,
           "zerolinecolor": "rgb(36,36,36)"
          }
         }
        },
        "font": {
         "family": "San Serif"
        },
        "title": {
         "text": "Whether an immediate family member has been diagnosed with autism",
         "font": {
          "size": 20
         }
        },
        "legend": {
         "orientation": "v",
         "y": 1,
         "yanchor": "top",
         "x": 1.0,
         "xanchor": "right"
        },
        "width": 600,
        "height": 400,
        "xaxis": {
         "categoryorder": "total descending"
        }
       },
       "config": {
        "plotlyServerURL": "https://plot.ly"
       }
      },
      "text/html": [
       "<div>                            <div id=\"40913e12-5232-404c-9403-759eefc0dc13\" class=\"plotly-graph-div\" style=\"height:400px; width:600px;\"></div>            <script type=\"text/javascript\">                require([\"plotly\"], function(Plotly) {                    window.PLOTLYENV=window.PLOTLYENV || {};                                    if (document.getElementById(\"40913e12-5232-404c-9403-759eefc0dc13\")) {                    Plotly.newPlot(                        \"40913e12-5232-404c-9403-759eefc0dc13\",                        [{\"histnorm\":\"\",\"marker\":{\"color\":\"purple\"},\"name\":\"ASD_pos\",\"x\":[\"no\",\"no\",\"no\",\"yes\",\"no\",\"yes\",\"no\",\"no\",\"no\",\"no\",\"yes\",\"no\",\"yes\",\"no\",\"yes\",\"no\",\"no\",\"no\",\"yes\",\"no\",\"yes\",\"no\",\"no\",\"yes\",\"no\",\"no\",\"yes\",\"no\",\"no\",\"no\",\"no\",\"no\",\"no\",\"no\",\"yes\",\"yes\",\"yes\",\"no\",\"no\",\"yes\",\"no\",\"no\",\"no\",\"no\",\"no\",\"yes\",\"yes\",\"yes\",\"no\",\"no\",\"yes\",\"no\",\"no\",\"no\",\"yes\",\"no\",\"no\",\"yes\",\"no\",\"no\",\"no\",\"no\",\"no\",\"yes\",\"no\",\"no\",\"no\",\"no\",\"no\",\"yes\",\"no\",\"no\",\"no\",\"yes\",\"yes\",\"yes\",\"yes\",\"no\",\"no\",\"no\",\"no\",\"no\",\"yes\",\"no\",\"no\",\"yes\",\"no\",\"yes\",\"yes\",\"no\",\"yes\",\"yes\",\"no\",\"yes\",\"yes\",\"yes\",\"no\",\"no\",\"no\",\"no\",\"no\",\"no\",\"no\",\"no\",\"yes\",\"yes\",\"yes\",\"yes\",\"yes\",\"no\",\"no\",\"no\",\"no\",\"no\",\"no\",\"no\",\"yes\",\"yes\",\"yes\",\"no\",\"yes\",\"no\",\"no\",\"yes\",\"no\",\"no\",\"no\",\"no\",\"yes\",\"yes\",\"yes\",\"yes\",\"yes\",\"yes\",\"no\",\"no\",\"no\",\"no\",\"no\",\"no\",\"yes\",\"no\",\"yes\",\"yes\",\"no\",\"no\",\"yes\",\"yes\",\"no\",\"no\",\"yes\",\"no\",\"yes\",\"no\",\"yes\",\"no\",\"yes\",\"yes\",\"yes\",\"no\",\"no\",\"no\",\"no\",\"no\",\"no\",\"no\",\"no\",\"no\",\"yes\",\"yes\",\"no\",\"yes\",\"no\",\"no\",\"no\",\"yes\",\"yes\",\"yes\",\"yes\",\"yes\",\"no\",\"yes\",\"yes\",\"yes\",\"no\"],\"type\":\"histogram\"},{\"histnorm\":\"\",\"marker\":{\"color\":\"salmon\"},\"name\":\"ASD_neg\",\"opacity\":0.85,\"x\":[\"no\",\"no\",\"no\",\"yes\",\"no\",\"no\",\"no\",\"no\",\"no\",\"no\",\"no\",\"no\",\"no\",\"no\",\"no\",\"no\",\"no\",\"no\",\"no\",\"yes\",\"no\",\"no\",\"no\",\"no\",\"no\",\"no\",\"no\",\"no\",\"no\",\"no\",\"no\",\"no\",\"no\",\"no\",\"no\",\"yes\",\"no\",\"no\",\"no\",\"no\",\"no\",\"no\",\"no\",\"no\",\"no\",\"no\",\"no\",\"no\",\"yes\",\"no\",\"no\",\"no\",\"no\",\"no\",\"no\",\"no\",\"no\",\"no\",\"yes\",\"no\",\"no\",\"no\",\"no\",\"no\",\"yes\",\"no\",\"no\",\"no\",\"no\",\"no\",\"no\",\"no\",\"no\",\"no\",\"no\",\"no\",\"no\",\"no\",\"no\",\"no\",\"no\",\"no\",\"no\",\"no\",\"no\",\"no\",\"no\",\"no\",\"no\",\"no\",\"no\",\"no\",\"no\",\"no\",\"no\",\"no\",\"no\",\"no\",\"no\",\"no\",\"yes\",\"no\",\"no\",\"no\",\"no\",\"no\",\"yes\",\"no\",\"no\",\"no\",\"no\",\"no\",\"no\",\"no\",\"no\",\"no\",\"yes\",\"no\",\"no\",\"no\",\"no\",\"no\",\"no\",\"no\",\"no\",\"no\",\"no\",\"no\",\"no\",\"no\",\"no\",\"no\",\"no\",\"no\",\"no\",\"no\",\"no\",\"no\",\"no\",\"no\",\"no\",\"no\",\"no\",\"no\",\"no\",\"no\",\"no\",\"no\",\"no\",\"no\",\"no\",\"no\",\"no\",\"no\",\"no\",\"yes\",\"no\",\"no\",\"no\",\"no\",\"no\",\"no\",\"no\",\"no\",\"no\",\"no\",\"yes\",\"no\",\"no\",\"no\",\"no\",\"no\",\"no\",\"yes\",\"yes\",\"no\",\"yes\",\"no\",\"no\",\"no\",\"no\",\"no\",\"no\",\"yes\",\"yes\",\"no\",\"no\",\"no\",\"no\",\"no\",\"no\",\"no\",\"no\",\"no\",\"no\",\"no\",\"no\",\"no\",\"no\",\"no\",\"no\",\"yes\",\"no\",\"yes\",\"no\",\"no\",\"no\",\"no\",\"no\",\"yes\",\"no\",\"no\",\"no\",\"no\",\"no\",\"no\",\"no\",\"no\",\"no\",\"no\",\"no\",\"no\",\"no\",\"no\",\"yes\",\"no\",\"no\",\"no\",\"no\",\"yes\",\"no\",\"no\",\"no\",\"no\",\"no\",\"no\",\"no\",\"no\",\"no\",\"no\",\"no\",\"no\",\"no\",\"no\",\"no\",\"no\",\"no\",\"no\",\"no\",\"no\",\"no\",\"no\",\"yes\",\"no\",\"no\",\"no\",\"no\",\"no\",\"no\",\"no\",\"no\",\"no\",\"no\",\"no\",\"no\",\"no\",\"no\",\"no\",\"no\",\"no\",\"no\",\"no\",\"no\",\"no\",\"no\",\"no\",\"no\",\"no\",\"no\",\"no\",\"yes\",\"yes\",\"no\",\"no\",\"no\",\"no\",\"no\",\"no\",\"no\",\"no\",\"no\",\"no\",\"no\",\"no\",\"no\",\"yes\",\"no\",\"yes\",\"no\",\"no\",\"no\",\"no\",\"no\",\"no\",\"no\",\"no\",\"yes\",\"no\",\"no\",\"no\",\"no\",\"no\",\"no\",\"no\",\"no\",\"no\",\"no\",\"no\",\"no\",\"no\",\"no\",\"no\",\"no\",\"no\",\"no\",\"no\",\"no\",\"no\",\"no\",\"no\",\"yes\",\"yes\",\"no\",\"no\",\"no\",\"yes\",\"no\",\"no\",\"no\",\"no\",\"no\",\"no\",\"no\",\"no\",\"no\",\"no\",\"no\",\"no\",\"no\",\"yes\",\"no\",\"no\",\"no\",\"no\",\"no\",\"no\",\"yes\",\"no\",\"no\",\"no\",\"no\",\"no\",\"no\",\"no\",\"no\",\"no\",\"no\",\"no\",\"no\",\"no\",\"no\",\"no\",\"no\",\"no\",\"no\",\"no\",\"no\",\"no\",\"no\",\"no\",\"no\",\"no\",\"no\",\"no\",\"no\",\"no\",\"yes\",\"yes\",\"no\",\"no\",\"no\",\"no\",\"no\",\"no\",\"no\",\"no\",\"no\",\"no\",\"no\",\"no\",\"no\",\"no\",\"no\",\"no\",\"no\",\"no\",\"yes\",\"no\",\"yes\",\"no\",\"no\",\"no\",\"no\",\"no\",\"no\",\"yes\",\"no\",\"no\",\"no\",\"no\",\"no\",\"no\",\"no\",\"no\",\"no\",\"no\",\"no\",\"no\",\"no\",\"no\",\"yes\",\"no\",\"no\",\"no\",\"no\",\"no\",\"no\",\"no\",\"no\",\"no\",\"yes\",\"no\",\"no\",\"no\",\"no\",\"no\",\"no\",\"no\",\"no\",\"no\",\"no\",\"no\",\"no\",\"no\",\"no\",\"no\",\"no\",\"no\",\"yes\",\"no\",\"no\",\"no\",\"no\",\"no\",\"no\",\"no\",\"no\",\"no\",\"no\",\"no\",\"no\",\"no\",\"no\",\"no\",\"no\",\"no\",\"no\",\"no\",\"no\",\"no\",\"no\",\"no\",\"no\",\"no\",\"no\",\"no\",\"no\",\"no\",\"no\",\"yes\",\"no\",\"no\",\"no\",\"no\",\"no\",\"no\",\"no\",\"no\",\"no\",\"no\",\"no\",\"no\",\"no\",\"no\",\"no\",\"no\",\"no\",\"no\",\"yes\",\"no\",\"no\",\"no\",\"no\",\"no\",\"no\",\"no\",\"no\",\"no\",\"no\",\"no\",\"no\",\"no\",\"no\",\"no\",\"no\",\"no\",\"no\",\"no\",\"no\",\"no\",\"no\",\"no\",\"no\",\"no\",\"yes\",\"no\",\"no\",\"no\",\"no\",\"no\",\"no\",\"no\",\"no\",\"no\",\"no\",\"no\",\"no\",\"no\",\"no\",\"no\",\"no\",\"no\",\"no\",\"no\",\"no\",\"no\",\"no\",\"no\",\"no\",\"no\",\"no\",\"no\",\"no\",\"no\",\"no\",\"no\",\"no\",\"no\",\"no\",\"no\",\"no\",\"no\",\"no\",\"no\",\"no\",\"no\",\"no\",\"no\",\"no\",\"no\",\"no\",\"no\",\"no\",\"no\",\"no\",\"no\",\"yes\",\"no\",\"no\",\"no\",\"no\",\"no\",\"no\",\"no\",\"no\",\"no\",\"no\",\"no\",\"no\",\"no\",\"no\",\"no\",\"no\",\"no\",\"no\",\"no\",\"no\",\"no\",\"no\",\"no\",\"no\",\"no\",\"no\",\"yes\",\"no\"],\"type\":\"histogram\"}],                        {\"template\":{\"data\":{\"barpolar\":[{\"marker\":{\"line\":{\"color\":\"white\",\"width\":0.5},\"pattern\":{\"fillmode\":\"overlay\",\"size\":10,\"solidity\":0.2}},\"type\":\"barpolar\"}],\"bar\":[{\"error_x\":{\"color\":\"rgb(36,36,36)\"},\"error_y\":{\"color\":\"rgb(36,36,36)\"},\"marker\":{\"line\":{\"color\":\"white\",\"width\":0.5},\"pattern\":{\"fillmode\":\"overlay\",\"size\":10,\"solidity\":0.2}},\"type\":\"bar\"}],\"carpet\":[{\"aaxis\":{\"endlinecolor\":\"rgb(36,36,36)\",\"gridcolor\":\"white\",\"linecolor\":\"white\",\"minorgridcolor\":\"white\",\"startlinecolor\":\"rgb(36,36,36)\"},\"baxis\":{\"endlinecolor\":\"rgb(36,36,36)\",\"gridcolor\":\"white\",\"linecolor\":\"white\",\"minorgridcolor\":\"white\",\"startlinecolor\":\"rgb(36,36,36)\"},\"type\":\"carpet\"}],\"choropleth\":[{\"colorbar\":{\"outlinewidth\":1,\"tickcolor\":\"rgb(36,36,36)\",\"ticks\":\"outside\"},\"type\":\"choropleth\"}],\"contourcarpet\":[{\"colorbar\":{\"outlinewidth\":1,\"tickcolor\":\"rgb(36,36,36)\",\"ticks\":\"outside\"},\"type\":\"contourcarpet\"}],\"contour\":[{\"colorbar\":{\"outlinewidth\":1,\"tickcolor\":\"rgb(36,36,36)\",\"ticks\":\"outside\"},\"colorscale\":[[0.0,\"#440154\"],[0.1111111111111111,\"#482878\"],[0.2222222222222222,\"#3e4989\"],[0.3333333333333333,\"#31688e\"],[0.4444444444444444,\"#26828e\"],[0.5555555555555556,\"#1f9e89\"],[0.6666666666666666,\"#35b779\"],[0.7777777777777778,\"#6ece58\"],[0.8888888888888888,\"#b5de2b\"],[1.0,\"#fde725\"]],\"type\":\"contour\"}],\"heatmapgl\":[{\"colorbar\":{\"outlinewidth\":1,\"tickcolor\":\"rgb(36,36,36)\",\"ticks\":\"outside\"},\"colorscale\":[[0.0,\"#440154\"],[0.1111111111111111,\"#482878\"],[0.2222222222222222,\"#3e4989\"],[0.3333333333333333,\"#31688e\"],[0.4444444444444444,\"#26828e\"],[0.5555555555555556,\"#1f9e89\"],[0.6666666666666666,\"#35b779\"],[0.7777777777777778,\"#6ece58\"],[0.8888888888888888,\"#b5de2b\"],[1.0,\"#fde725\"]],\"type\":\"heatmapgl\"}],\"heatmap\":[{\"colorbar\":{\"outlinewidth\":1,\"tickcolor\":\"rgb(36,36,36)\",\"ticks\":\"outside\"},\"colorscale\":[[0.0,\"#440154\"],[0.1111111111111111,\"#482878\"],[0.2222222222222222,\"#3e4989\"],[0.3333333333333333,\"#31688e\"],[0.4444444444444444,\"#26828e\"],[0.5555555555555556,\"#1f9e89\"],[0.6666666666666666,\"#35b779\"],[0.7777777777777778,\"#6ece58\"],[0.8888888888888888,\"#b5de2b\"],[1.0,\"#fde725\"]],\"type\":\"heatmap\"}],\"histogram2dcontour\":[{\"colorbar\":{\"outlinewidth\":1,\"tickcolor\":\"rgb(36,36,36)\",\"ticks\":\"outside\"},\"colorscale\":[[0.0,\"#440154\"],[0.1111111111111111,\"#482878\"],[0.2222222222222222,\"#3e4989\"],[0.3333333333333333,\"#31688e\"],[0.4444444444444444,\"#26828e\"],[0.5555555555555556,\"#1f9e89\"],[0.6666666666666666,\"#35b779\"],[0.7777777777777778,\"#6ece58\"],[0.8888888888888888,\"#b5de2b\"],[1.0,\"#fde725\"]],\"type\":\"histogram2dcontour\"}],\"histogram2d\":[{\"colorbar\":{\"outlinewidth\":1,\"tickcolor\":\"rgb(36,36,36)\",\"ticks\":\"outside\"},\"colorscale\":[[0.0,\"#440154\"],[0.1111111111111111,\"#482878\"],[0.2222222222222222,\"#3e4989\"],[0.3333333333333333,\"#31688e\"],[0.4444444444444444,\"#26828e\"],[0.5555555555555556,\"#1f9e89\"],[0.6666666666666666,\"#35b779\"],[0.7777777777777778,\"#6ece58\"],[0.8888888888888888,\"#b5de2b\"],[1.0,\"#fde725\"]],\"type\":\"histogram2d\"}],\"histogram\":[{\"marker\":{\"line\":{\"color\":\"white\",\"width\":0.6}},\"type\":\"histogram\"}],\"mesh3d\":[{\"colorbar\":{\"outlinewidth\":1,\"tickcolor\":\"rgb(36,36,36)\",\"ticks\":\"outside\"},\"type\":\"mesh3d\"}],\"parcoords\":[{\"line\":{\"colorbar\":{\"outlinewidth\":1,\"tickcolor\":\"rgb(36,36,36)\",\"ticks\":\"outside\"}},\"type\":\"parcoords\"}],\"pie\":[{\"automargin\":true,\"type\":\"pie\"}],\"scatter3d\":[{\"line\":{\"colorbar\":{\"outlinewidth\":1,\"tickcolor\":\"rgb(36,36,36)\",\"ticks\":\"outside\"}},\"marker\":{\"colorbar\":{\"outlinewidth\":1,\"tickcolor\":\"rgb(36,36,36)\",\"ticks\":\"outside\"}},\"type\":\"scatter3d\"}],\"scattercarpet\":[{\"marker\":{\"colorbar\":{\"outlinewidth\":1,\"tickcolor\":\"rgb(36,36,36)\",\"ticks\":\"outside\"}},\"type\":\"scattercarpet\"}],\"scattergeo\":[{\"marker\":{\"colorbar\":{\"outlinewidth\":1,\"tickcolor\":\"rgb(36,36,36)\",\"ticks\":\"outside\"}},\"type\":\"scattergeo\"}],\"scattergl\":[{\"marker\":{\"colorbar\":{\"outlinewidth\":1,\"tickcolor\":\"rgb(36,36,36)\",\"ticks\":\"outside\"}},\"type\":\"scattergl\"}],\"scattermapbox\":[{\"marker\":{\"colorbar\":{\"outlinewidth\":1,\"tickcolor\":\"rgb(36,36,36)\",\"ticks\":\"outside\"}},\"type\":\"scattermapbox\"}],\"scatterpolargl\":[{\"marker\":{\"colorbar\":{\"outlinewidth\":1,\"tickcolor\":\"rgb(36,36,36)\",\"ticks\":\"outside\"}},\"type\":\"scatterpolargl\"}],\"scatterpolar\":[{\"marker\":{\"colorbar\":{\"outlinewidth\":1,\"tickcolor\":\"rgb(36,36,36)\",\"ticks\":\"outside\"}},\"type\":\"scatterpolar\"}],\"scatter\":[{\"fillpattern\":{\"fillmode\":\"overlay\",\"size\":10,\"solidity\":0.2},\"type\":\"scatter\"}],\"scatterternary\":[{\"marker\":{\"colorbar\":{\"outlinewidth\":1,\"tickcolor\":\"rgb(36,36,36)\",\"ticks\":\"outside\"}},\"type\":\"scatterternary\"}],\"surface\":[{\"colorbar\":{\"outlinewidth\":1,\"tickcolor\":\"rgb(36,36,36)\",\"ticks\":\"outside\"},\"colorscale\":[[0.0,\"#440154\"],[0.1111111111111111,\"#482878\"],[0.2222222222222222,\"#3e4989\"],[0.3333333333333333,\"#31688e\"],[0.4444444444444444,\"#26828e\"],[0.5555555555555556,\"#1f9e89\"],[0.6666666666666666,\"#35b779\"],[0.7777777777777778,\"#6ece58\"],[0.8888888888888888,\"#b5de2b\"],[1.0,\"#fde725\"]],\"type\":\"surface\"}],\"table\":[{\"cells\":{\"fill\":{\"color\":\"rgb(237,237,237)\"},\"line\":{\"color\":\"white\"}},\"header\":{\"fill\":{\"color\":\"rgb(217,217,217)\"},\"line\":{\"color\":\"white\"}},\"type\":\"table\"}]},\"layout\":{\"annotationdefaults\":{\"arrowhead\":0,\"arrowwidth\":1},\"autotypenumbers\":\"strict\",\"coloraxis\":{\"colorbar\":{\"outlinewidth\":1,\"tickcolor\":\"rgb(36,36,36)\",\"ticks\":\"outside\"}},\"colorscale\":{\"diverging\":[[0.0,\"rgb(103,0,31)\"],[0.1,\"rgb(178,24,43)\"],[0.2,\"rgb(214,96,77)\"],[0.3,\"rgb(244,165,130)\"],[0.4,\"rgb(253,219,199)\"],[0.5,\"rgb(247,247,247)\"],[0.6,\"rgb(209,229,240)\"],[0.7,\"rgb(146,197,222)\"],[0.8,\"rgb(67,147,195)\"],[0.9,\"rgb(33,102,172)\"],[1.0,\"rgb(5,48,97)\"]],\"sequential\":[[0.0,\"#440154\"],[0.1111111111111111,\"#482878\"],[0.2222222222222222,\"#3e4989\"],[0.3333333333333333,\"#31688e\"],[0.4444444444444444,\"#26828e\"],[0.5555555555555556,\"#1f9e89\"],[0.6666666666666666,\"#35b779\"],[0.7777777777777778,\"#6ece58\"],[0.8888888888888888,\"#b5de2b\"],[1.0,\"#fde725\"]],\"sequentialminus\":[[0.0,\"#440154\"],[0.1111111111111111,\"#482878\"],[0.2222222222222222,\"#3e4989\"],[0.3333333333333333,\"#31688e\"],[0.4444444444444444,\"#26828e\"],[0.5555555555555556,\"#1f9e89\"],[0.6666666666666666,\"#35b779\"],[0.7777777777777778,\"#6ece58\"],[0.8888888888888888,\"#b5de2b\"],[1.0,\"#fde725\"]]},\"colorway\":[\"#1F77B4\",\"#FF7F0E\",\"#2CA02C\",\"#D62728\",\"#9467BD\",\"#8C564B\",\"#E377C2\",\"#7F7F7F\",\"#BCBD22\",\"#17BECF\"],\"font\":{\"color\":\"rgb(36,36,36)\"},\"geo\":{\"bgcolor\":\"white\",\"lakecolor\":\"white\",\"landcolor\":\"white\",\"showlakes\":true,\"showland\":true,\"subunitcolor\":\"white\"},\"hoverlabel\":{\"align\":\"left\"},\"hovermode\":\"closest\",\"mapbox\":{\"style\":\"light\"},\"paper_bgcolor\":\"white\",\"plot_bgcolor\":\"white\",\"polar\":{\"angularaxis\":{\"gridcolor\":\"rgb(232,232,232)\",\"linecolor\":\"rgb(36,36,36)\",\"showgrid\":false,\"showline\":true,\"ticks\":\"outside\"},\"bgcolor\":\"white\",\"radialaxis\":{\"gridcolor\":\"rgb(232,232,232)\",\"linecolor\":\"rgb(36,36,36)\",\"showgrid\":false,\"showline\":true,\"ticks\":\"outside\"}},\"scene\":{\"xaxis\":{\"backgroundcolor\":\"white\",\"gridcolor\":\"rgb(232,232,232)\",\"gridwidth\":2,\"linecolor\":\"rgb(36,36,36)\",\"showbackground\":true,\"showgrid\":false,\"showline\":true,\"ticks\":\"outside\",\"zeroline\":false,\"zerolinecolor\":\"rgb(36,36,36)\"},\"yaxis\":{\"backgroundcolor\":\"white\",\"gridcolor\":\"rgb(232,232,232)\",\"gridwidth\":2,\"linecolor\":\"rgb(36,36,36)\",\"showbackground\":true,\"showgrid\":false,\"showline\":true,\"ticks\":\"outside\",\"zeroline\":false,\"zerolinecolor\":\"rgb(36,36,36)\"},\"zaxis\":{\"backgroundcolor\":\"white\",\"gridcolor\":\"rgb(232,232,232)\",\"gridwidth\":2,\"linecolor\":\"rgb(36,36,36)\",\"showbackground\":true,\"showgrid\":false,\"showline\":true,\"ticks\":\"outside\",\"zeroline\":false,\"zerolinecolor\":\"rgb(36,36,36)\"}},\"shapedefaults\":{\"fillcolor\":\"black\",\"line\":{\"width\":0},\"opacity\":0.3},\"ternary\":{\"aaxis\":{\"gridcolor\":\"rgb(232,232,232)\",\"linecolor\":\"rgb(36,36,36)\",\"showgrid\":false,\"showline\":true,\"ticks\":\"outside\"},\"baxis\":{\"gridcolor\":\"rgb(232,232,232)\",\"linecolor\":\"rgb(36,36,36)\",\"showgrid\":false,\"showline\":true,\"ticks\":\"outside\"},\"bgcolor\":\"white\",\"caxis\":{\"gridcolor\":\"rgb(232,232,232)\",\"linecolor\":\"rgb(36,36,36)\",\"showgrid\":false,\"showline\":true,\"ticks\":\"outside\"}},\"title\":{\"x\":0.05},\"xaxis\":{\"automargin\":true,\"gridcolor\":\"rgb(232,232,232)\",\"linecolor\":\"rgb(36,36,36)\",\"showgrid\":false,\"showline\":true,\"ticks\":\"outside\",\"title\":{\"standoff\":15},\"zeroline\":false,\"zerolinecolor\":\"rgb(36,36,36)\"},\"yaxis\":{\"automargin\":true,\"gridcolor\":\"rgb(232,232,232)\",\"linecolor\":\"rgb(36,36,36)\",\"showgrid\":false,\"showline\":true,\"ticks\":\"outside\",\"title\":{\"standoff\":15},\"zeroline\":false,\"zerolinecolor\":\"rgb(36,36,36)\"}}},\"font\":{\"family\":\"San Serif\"},\"title\":{\"text\":\"Whether an immediate family member has been diagnosed with autism\",\"font\":{\"size\":20}},\"legend\":{\"orientation\":\"v\",\"y\":1,\"yanchor\":\"top\",\"x\":1.0,\"xanchor\":\"right\"},\"width\":600,\"height\":400,\"xaxis\":{\"categoryorder\":\"total descending\"}},                        {\"responsive\": true}                    ).then(function(){\n",
       "                            \n",
       "var gd = document.getElementById('40913e12-5232-404c-9403-759eefc0dc13');\n",
       "var x = new MutationObserver(function (mutations, observer) {{\n",
       "        var display = window.getComputedStyle(gd).display;\n",
       "        if (!display || display === 'none') {{\n",
       "            console.log([gd, 'removed!']);\n",
       "            Plotly.purge(gd);\n",
       "            observer.disconnect();\n",
       "        }}\n",
       "}});\n",
       "\n",
       "// Listen for the removal of the full notebook cells\n",
       "var notebookContainer = gd.closest('#notebook-container');\n",
       "if (notebookContainer) {{\n",
       "    x.observe(notebookContainer, {childList: true});\n",
       "}}\n",
       "\n",
       "// Listen for the clearing of the current output cell\n",
       "var outputEl = gd.closest('.output');\n",
       "if (outputEl) {{\n",
       "    x.observe(outputEl, {childList: true});\n",
       "}}\n",
       "\n",
       "                        })                };                });            </script>        </div>"
      ]
     },
     "metadata": {},
     "output_type": "display_data"
    }
   ],
   "execution_count": 44
  },
  {
   "metadata": {},
   "cell_type": "markdown",
   "source": [
    "### Hastanın İkamet Ettiği Ülke\n",
    "- Veri setinde (eğitilmiş), ABD en fazla hastaya sahiptir, ikinci ve üçüncü sırayı ise UEA ve Yeni Zelanda alır.\n",
    "- Sadece ABD'de hem ASD pozitif hem de ASD negatif olmak üzere eşit sayıda hasta bulunmaktadır."
   ],
   "id": "18b1e7e86be495e2"
  },
  {
   "metadata": {
    "ExecuteTime": {
     "end_time": "2024-05-30T18:51:42.506444Z",
     "start_time": "2024-05-30T18:51:42.260292Z"
    }
   },
   "cell_type": "code",
   "source": [
    "fig = px.histogram(train, x=\"country_of_res\",\n",
    "                   width=900,\n",
    "                   height=400,\n",
    "                   histnorm='percent',\n",
    "                   template=\"simple_white\")\n",
    "fig.update_layout(title=\"<b> Country of Residence of the patient <b>\",\n",
    "                  font_family=\"San Serif\",\n",
    "                  titlefont={'size': 20},\n",
    "                  legend=dict(\n",
    "                      orientation=\"v\", y=1, yanchor=\"top\", x=1.0, xanchor=\"right\" )\n",
    "                  ).update_xaxes(categoryorder='total descending')\n",
    "\n",
    "colors = ['lightgray',] * 100\n",
    "colors[0] = 'lightseagreen'\n",
    "\n",
    "fig.update_traces(marker_color=colors,\n",
    "                  ).update_xaxes(categoryorder='total descending')\n",
    "\n",
    "fig.show()\n",
    "\n",
    "fig = px.treemap(train, path=['country_of_res','Class/ASD'], color='Class/ASD',\n",
    "                 color_continuous_scale='teal',\n",
    "                 )\n",
    "\n",
    "fig.update_layout(#title=\"<b> Country of Residence of the patient<b>\",\n",
    "    titlefont={'size': 20, 'family': \"San Serif\"},\n",
    "    height=500, width=1000,\n",
    "    template='simple_white',\n",
    "    autosize=False,\n",
    "    margin=dict(l=50,r=50,b=50, t=250,\n",
    "                ),\n",
    ")\n",
    "fig.update_layout(margin = dict(t=50, l=50, r=50, b=100))\n",
    "fig.show()"
   ],
   "id": "5ee83966cc444ecd",
   "outputs": [
    {
     "data": {
      "application/vnd.plotly.v1+json": {
       "data": [
        {
         "alignmentgroup": "True",
         "bingroup": "x",
         "histnorm": "percent",
         "hovertemplate": "country_of_res=%{x}<br>percent=%{y}<extra></extra>",
         "legendgroup": "",
         "marker": {
          "color": [
           "lightseagreen",
           "lightgray",
           "lightgray",
           "lightgray",
           "lightgray",
           "lightgray",
           "lightgray",
           "lightgray",
           "lightgray",
           "lightgray",
           "lightgray",
           "lightgray",
           "lightgray",
           "lightgray",
           "lightgray",
           "lightgray",
           "lightgray",
           "lightgray",
           "lightgray",
           "lightgray",
           "lightgray",
           "lightgray",
           "lightgray",
           "lightgray",
           "lightgray",
           "lightgray",
           "lightgray",
           "lightgray",
           "lightgray",
           "lightgray",
           "lightgray",
           "lightgray",
           "lightgray",
           "lightgray",
           "lightgray",
           "lightgray",
           "lightgray",
           "lightgray",
           "lightgray",
           "lightgray",
           "lightgray",
           "lightgray",
           "lightgray",
           "lightgray",
           "lightgray",
           "lightgray",
           "lightgray",
           "lightgray",
           "lightgray",
           "lightgray",
           "lightgray",
           "lightgray",
           "lightgray",
           "lightgray",
           "lightgray",
           "lightgray",
           "lightgray",
           "lightgray",
           "lightgray",
           "lightgray",
           "lightgray",
           "lightgray",
           "lightgray",
           "lightgray",
           "lightgray",
           "lightgray",
           "lightgray",
           "lightgray",
           "lightgray",
           "lightgray",
           "lightgray",
           "lightgray",
           "lightgray",
           "lightgray",
           "lightgray",
           "lightgray",
           "lightgray",
           "lightgray",
           "lightgray",
           "lightgray",
           "lightgray",
           "lightgray",
           "lightgray",
           "lightgray",
           "lightgray",
           "lightgray",
           "lightgray",
           "lightgray",
           "lightgray",
           "lightgray",
           "lightgray",
           "lightgray",
           "lightgray",
           "lightgray",
           "lightgray",
           "lightgray",
           "lightgray",
           "lightgray",
           "lightgray",
           "lightgray"
          ],
          "pattern": {
           "shape": ""
          }
         },
         "name": "",
         "offsetgroup": "",
         "orientation": "v",
         "showlegend": false,
         "x": [
          "United States",
          "Australia",
          "United Kingdom",
          "New Zealand",
          "Italy",
          "Nicaragua",
          "Canada",
          "United Arab Emirates",
          "United Kingdom",
          "United States",
          "Netherlands",
          "Australia",
          "United States",
          "New Zealand",
          "Sri Lanka",
          "Australia",
          "United Arab Emirates",
          "United Arab Emirates",
          "United Arab Emirates",
          "Canada",
          "India",
          "New Zealand",
          "United States",
          "United Kingdom",
          "Nicaragua",
          "India",
          "New Zealand",
          "Netherlands",
          "United Kingdom",
          "Netherlands",
          "United States",
          "New Zealand",
          "Armenia",
          "Sierra Leone",
          "India",
          "Argentina",
          "Azerbaijan",
          "Iceland",
          "Egypt",
          "United Arab Emirates",
          "Serbia",
          "United Arab Emirates",
          "Sri Lanka",
          "United Arab Emirates",
          "United Kingdom",
          "United States",
          "Afghanistan",
          "United States",
          "Costa Rica",
          "United Arab Emirates",
          "United States",
          "Afghanistan",
          "United States",
          "New Zealand",
          "Afghanistan",
          "United Arab Emirates",
          "Jordan",
          "India",
          "New Zealand",
          "Australia",
          "Angola",
          "Pakistan",
          "Australia",
          "Brazil",
          "Ireland",
          "United States",
          "United Kingdom",
          "Egypt",
          "Kazakhstan",
          "Sri Lanka",
          "United Kingdom",
          "New Zealand",
          "United States",
          "Netherlands",
          "India",
          "United States",
          "Viet Nam",
          "Ethiopia",
          "New Zealand",
          "Austria",
          "United States",
          "United States",
          "India",
          "Finland",
          "New Zealand",
          "New Zealand",
          "India",
          "United Arab Emirates",
          "United States",
          "United States",
          "Italy",
          "France",
          "New Zealand",
          "Australia",
          "United Arab Emirates",
          "Australia",
          "Sri Lanka",
          "United States",
          "United Kingdom",
          "United Arab Emirates",
          "Jordan",
          "Netherlands",
          "India",
          "Afghanistan",
          "India",
          "United States",
          "United Arab Emirates",
          "Afghanistan",
          "Malaysia",
          "Afghanistan",
          "United States",
          "India",
          "Sri Lanka",
          "France",
          "New Zealand",
          "Austria",
          "Jordan",
          "New Zealand",
          "United States",
          "United Kingdom",
          "United Arab Emirates",
          "United Kingdom",
          "Jordan",
          "Netherlands",
          "United States",
          "United Kingdom",
          "United States",
          "United States",
          "New Zealand",
          "Viet Nam",
          "United Kingdom",
          "New Zealand",
          "France",
          "Jordan",
          "United States",
          "Australia",
          "Australia",
          "Canada",
          "Canada",
          "Jordan",
          "United States",
          "United Kingdom",
          "United Kingdom",
          "United States",
          "United States",
          "Japan",
          "India",
          "New Zealand",
          "United Kingdom",
          "India",
          "India",
          "New Zealand",
          "New Zealand",
          "Austria",
          "Jordan",
          "New Zealand",
          "Netherlands",
          "United Arab Emirates",
          "United States",
          "United Arab Emirates",
          "India",
          "Spain",
          "New Zealand",
          "New Zealand",
          "Afghanistan",
          "India",
          "United States",
          "United States",
          "United Kingdom",
          "Viet Nam",
          "United Arab Emirates",
          "United States",
          "United States",
          "India",
          "Iceland",
          "India",
          "New Zealand",
          "Jordan",
          "Australia",
          "Jordan",
          "Australia",
          "United Kingdom",
          "United States",
          "India",
          "Philippines",
          "Jordan",
          "United Arab Emirates",
          "India",
          "Iran",
          "Afghanistan",
          "Australia",
          "United Arab Emirates",
          "United Arab Emirates",
          "India",
          "United States",
          "Afghanistan",
          "United Arab Emirates",
          "Jordan",
          "France",
          "Jordan",
          "United States",
          "United States",
          "Brazil",
          "Czech Republic",
          "India",
          "India",
          "Jordan",
          "Russia",
          "United Arab Emirates",
          "India",
          "United Arab Emirates",
          "Jordan",
          "United States",
          "Canada",
          "Romania",
          "United Arab Emirates",
          "New Zealand",
          "United States",
          "Jordan",
          "United Kingdom",
          "Czech Republic",
          "Australia",
          "United States",
          "United Arab Emirates",
          "Sri Lanka",
          "Canada",
          "Mexico",
          "United Kingdom",
          "United States",
          "Australia",
          "Romania",
          "Austria",
          "New Zealand",
          "United States",
          "United States",
          "United Kingdom",
          "United States",
          "India",
          "United States",
          "Egypt",
          "Belgium",
          "United Arab Emirates",
          "United Arab Emirates",
          "Netherlands",
          "United States",
          "India",
          "United Arab Emirates",
          "Nicaragua",
          "India",
          "India",
          "United Arab Emirates",
          "United States",
          "Aruba",
          "United Arab Emirates",
          "Sri Lanka",
          "India",
          "Japan",
          "Russia",
          "New Zealand",
          "Australia",
          "New Zealand",
          "United Kingdom",
          "Uruguay",
          "Australia",
          "United States",
          "Jordan",
          "New Zealand",
          "United Arab Emirates",
          "Canada",
          "Brazil",
          "United Kingdom",
          "United Arab Emirates",
          "Sri Lanka",
          "India",
          "United Kingdom",
          "Jordan",
          "Sri Lanka",
          "Australia",
          "Jordan",
          "United States",
          "Italy",
          "United Arab Emirates",
          "United Arab Emirates",
          "Australia",
          "India",
          "India",
          "Mexico",
          "New Zealand",
          "United Arab Emirates",
          "Austria",
          "Indonesia",
          "United Kingdom",
          "Ukraine",
          "United States",
          "Kazakhstan",
          "New Zealand",
          "United Arab Emirates",
          "India",
          "United Arab Emirates",
          "United Arab Emirates",
          "United Arab Emirates",
          "Australia",
          "Afghanistan",
          "Austria",
          "Italy",
          "India",
          "Russia",
          "New Zealand",
          "United Arab Emirates",
          "United States",
          "India",
          "Italy",
          "United States",
          "New Zealand",
          "United States",
          "Jordan",
          "Afghanistan",
          "AmericanSamoa",
          "Jordan",
          "United States",
          "United Kingdom",
          "Germany",
          "Ethiopia",
          "United Arab Emirates",
          "United States",
          "Austria",
          "United Kingdom",
          "Jordan",
          "Canada",
          "United States",
          "Malaysia",
          "Sri Lanka",
          "United States",
          "United Arab Emirates",
          "New Zealand",
          "Jordan",
          "Mexico",
          "New Zealand",
          "United Kingdom",
          "United Arab Emirates",
          "United States",
          "United Arab Emirates",
          "United Kingdom",
          "United Arab Emirates",
          "United States",
          "France",
          "New Zealand",
          "New Zealand",
          "India",
          "Australia",
          "United Kingdom",
          "New Zealand",
          "Russia",
          "India",
          "New Zealand",
          "Australia",
          "United Arab Emirates",
          "China",
          "India",
          "United Kingdom",
          "Jordan",
          "Canada",
          "New Zealand",
          "Afghanistan",
          "India",
          "Jordan",
          "United States",
          "Armenia",
          "United States",
          "United Arab Emirates",
          "United States",
          "Iraq",
          "India",
          "Australia",
          "India",
          "Tonga",
          "India",
          "New Zealand",
          "Malaysia",
          "Jordan",
          "Czech Republic",
          "United States",
          "United Arab Emirates",
          "India",
          "United States",
          "India",
          "New Zealand",
          "United Arab Emirates",
          "United States",
          "United Arab Emirates",
          "Belgium",
          "United Arab Emirates",
          "New Zealand",
          "United States",
          "Australia",
          "New Zealand",
          "Australia",
          "Ireland",
          "India",
          "United States",
          "Netherlands",
          "Jordan",
          "India",
          "Costa Rica",
          "United Kingdom",
          "South Africa",
          "Armenia",
          "India",
          "Italy",
          "United States",
          "New Zealand",
          "United Kingdom",
          "Aruba",
          "United States",
          "United Arab Emirates",
          "Australia",
          "New Zealand",
          "United States",
          "United States",
          "New Zealand",
          "United Arab Emirates",
          "United Kingdom",
          "Australia",
          "United Arab Emirates",
          "New Zealand",
          "Saudi Arabia",
          "India",
          "New Zealand",
          "Jordan",
          "France",
          "Afghanistan",
          "United States",
          "Afghanistan",
          "United States",
          "Australia",
          "United States",
          "Sri Lanka",
          "New Zealand",
          "Hong Kong",
          "United Arab Emirates",
          "United States",
          "New Zealand",
          "India",
          "India",
          "Austria",
          "United States",
          "New Zealand",
          "France",
          "Brazil",
          "New Zealand",
          "Afghanistan",
          "United Kingdom",
          "Jordan",
          "United States",
          "New Zealand",
          "United States",
          "India",
          "New Zealand",
          "India",
          "Australia",
          "New Zealand",
          "Serbia",
          "Jordan",
          "Russia",
          "United Arab Emirates",
          "Bahamas",
          "South Africa",
          "India",
          "United States",
          "United States",
          "Austria",
          "United Kingdom",
          "United Kingdom",
          "Philippines",
          "United States",
          "Australia",
          "Iran",
          "Kazakhstan",
          "Costa Rica",
          "United Arab Emirates",
          "Kazakhstan",
          "United States",
          "Ecuador",
          "United Arab Emirates",
          "Belgium",
          "Spain",
          "United Arab Emirates",
          "Viet Nam",
          "United States",
          "Russia",
          "Italy",
          "Romania",
          "United Arab Emirates",
          "Iran",
          "United Arab Emirates",
          "United Kingdom",
          "New Zealand",
          "Cyprus",
          "Jordan",
          "New Zealand",
          "United States",
          "Brazil",
          "South Africa",
          "Afghanistan",
          "United Arab Emirates",
          "United Arab Emirates",
          "Australia",
          "Armenia",
          "China",
          "Spain",
          "United States",
          "United Arab Emirates",
          "United Kingdom",
          "United Arab Emirates",
          "United States",
          "Bahamas",
          "New Zealand",
          "Austria",
          "United States",
          "United States",
          "Brazil",
          "United Kingdom",
          "United States",
          "France",
          "United Arab Emirates",
          "United Arab Emirates",
          "Kazakhstan",
          "United Kingdom",
          "United States",
          "New Zealand",
          "Jordan",
          "United Arab Emirates",
          "New Zealand",
          "Ireland",
          "United States",
          "United States",
          "New Zealand",
          "United States",
          "Mexico",
          "New Zealand",
          "United States",
          "Egypt",
          "Egypt",
          "New Zealand",
          "Ethiopia",
          "India",
          "Jordan",
          "Germany",
          "Bangladesh",
          "Oman",
          "United States",
          "United States",
          "Aruba",
          "New Zealand",
          "United States",
          "New Zealand",
          "United Kingdom",
          "India",
          "New Zealand",
          "Costa Rica",
          "Saudi Arabia",
          "France",
          "South Africa",
          "United States",
          "Netherlands",
          "Netherlands",
          "India",
          "Saudi Arabia",
          "United States",
          "New Zealand",
          "South Africa",
          "United States",
          "United States",
          "New Zealand",
          "Armenia",
          "United Kingdom",
          "United Arab Emirates",
          "India",
          "Australia",
          "United Arab Emirates",
          "Canada",
          "United States",
          "Sri Lanka",
          "United States",
          "Bolivia",
          "United Arab Emirates",
          "New Zealand",
          "India",
          "United States",
          "United States",
          "Afghanistan",
          "United States",
          "United States",
          "United States",
          "Armenia",
          "India",
          "Italy",
          "Brazil",
          "Netherlands",
          "New Zealand",
          "Canada",
          "United Kingdom",
          "New Zealand",
          "United Kingdom",
          "Jordan",
          "United Kingdom",
          "India",
          "United States",
          "Jordan",
          "India",
          "Sri Lanka",
          "Philippines",
          "New Zealand",
          "Sweden",
          "United Kingdom",
          "AmericanSamoa",
          "Afghanistan",
          "United Kingdom",
          "New Zealand",
          "Netherlands",
          "United Arab Emirates",
          "Philippines",
          "Ukraine",
          "United States",
          "New Zealand",
          "Azerbaijan",
          "Afghanistan",
          "Italy",
          "United States",
          "Malaysia",
          "United Arab Emirates",
          "Jordan",
          "United Arab Emirates",
          "United Arab Emirates",
          "United States",
          "United Arab Emirates",
          "New Zealand",
          "Iran",
          "Australia",
          "United States",
          "United Arab Emirates",
          "Malaysia",
          "Afghanistan",
          "Saudi Arabia",
          "United States",
          "United Arab Emirates",
          "United States",
          "United States",
          "New Zealand",
          "Kazakhstan",
          "Italy",
          "United Kingdom",
          "United States",
          "United Arab Emirates",
          "United States",
          "United States",
          "India",
          "United States",
          "United Kingdom",
          "Australia",
          "Australia",
          "India",
          "United States",
          "India",
          "New Zealand",
          "New Zealand",
          "United Arab Emirates",
          "Argentina",
          "United Arab Emirates",
          "Canada",
          "India",
          "India",
          "India",
          "United Arab Emirates",
          "Canada",
          "France",
          "Brazil",
          "Australia",
          "Jordan",
          "Sri Lanka",
          "New Zealand",
          "India",
          "United States",
          "India",
          "United States",
          "Australia",
          "United States",
          "New Zealand",
          "New Zealand",
          "United Kingdom",
          "United Arab Emirates",
          "United Kingdom",
          "United Arab Emirates",
          "United Arab Emirates",
          "United Arab Emirates",
          "New Zealand",
          "United States",
          "United States",
          "United States",
          "Bahamas",
          "Mexico",
          "India",
          "United Kingdom",
          "Australia",
          "Nicaragua",
          "United States",
          "United Arab Emirates",
          "New Zealand",
          "United States",
          "United States",
          "Viet Nam",
          "New Zealand",
          "United Kingdom",
          "United States",
          "Afghanistan",
          "New Zealand",
          "United Kingdom",
          "France",
          "Australia",
          "Netherlands",
          "India",
          "Niger",
          "United States",
          "Bolivia",
          "Australia",
          "United States",
          "Pakistan",
          "Philippines",
          "Ukraine",
          "New Zealand",
          "India",
          "United States",
          "Bolivia",
          "Sri Lanka",
          "United States",
          "Canada",
          "United States",
          "India",
          "India",
          "United States",
          "Jordan",
          "United Arab Emirates",
          "United Arab Emirates",
          "Italy",
          "Iran",
          "United Kingdom",
          "Russia",
          "Russia",
          "New Zealand",
          "United States",
          "United States",
          "Germany",
          "Angola",
          "Spain",
          "New Zealand",
          "United States",
          "Australia",
          "Austria",
          "Kazakhstan",
          "Australia",
          "Sri Lanka",
          "United States",
          "New Zealand",
          "United States",
          "New Zealand",
          "United States",
          "Jordan",
          "United Arab Emirates",
          "United Arab Emirates",
          "Afghanistan",
          "Philippines",
          "United States",
          "United States",
          "United Kingdom",
          "Spain",
          "Austria",
          "Canada",
          "France",
          "Australia",
          "United Kingdom",
          "United Kingdom",
          "Afghanistan",
          "United Arab Emirates",
          "New Zealand",
          "United States",
          "Australia",
          "United States",
          "India",
          "Jordan",
          "Russia",
          "United Arab Emirates",
          "United Arab Emirates",
          "Mexico",
          "Brazil",
          "Viet Nam",
          "United States",
          "New Zealand",
          "Jordan",
          "United States",
          "New Zealand"
         ],
         "xaxis": "x",
         "yaxis": "y",
         "type": "histogram"
        }
       ],
       "layout": {
        "template": {
         "data": {
          "barpolar": [
           {
            "marker": {
             "line": {
              "color": "white",
              "width": 0.5
             },
             "pattern": {
              "fillmode": "overlay",
              "size": 10,
              "solidity": 0.2
             }
            },
            "type": "barpolar"
           }
          ],
          "bar": [
           {
            "error_x": {
             "color": "rgb(36,36,36)"
            },
            "error_y": {
             "color": "rgb(36,36,36)"
            },
            "marker": {
             "line": {
              "color": "white",
              "width": 0.5
             },
             "pattern": {
              "fillmode": "overlay",
              "size": 10,
              "solidity": 0.2
             }
            },
            "type": "bar"
           }
          ],
          "carpet": [
           {
            "aaxis": {
             "endlinecolor": "rgb(36,36,36)",
             "gridcolor": "white",
             "linecolor": "white",
             "minorgridcolor": "white",
             "startlinecolor": "rgb(36,36,36)"
            },
            "baxis": {
             "endlinecolor": "rgb(36,36,36)",
             "gridcolor": "white",
             "linecolor": "white",
             "minorgridcolor": "white",
             "startlinecolor": "rgb(36,36,36)"
            },
            "type": "carpet"
           }
          ],
          "choropleth": [
           {
            "colorbar": {
             "outlinewidth": 1,
             "tickcolor": "rgb(36,36,36)",
             "ticks": "outside"
            },
            "type": "choropleth"
           }
          ],
          "contourcarpet": [
           {
            "colorbar": {
             "outlinewidth": 1,
             "tickcolor": "rgb(36,36,36)",
             "ticks": "outside"
            },
            "type": "contourcarpet"
           }
          ],
          "contour": [
           {
            "colorbar": {
             "outlinewidth": 1,
             "tickcolor": "rgb(36,36,36)",
             "ticks": "outside"
            },
            "colorscale": [
             [
              0.0,
              "#440154"
             ],
             [
              0.1111111111111111,
              "#482878"
             ],
             [
              0.2222222222222222,
              "#3e4989"
             ],
             [
              0.3333333333333333,
              "#31688e"
             ],
             [
              0.4444444444444444,
              "#26828e"
             ],
             [
              0.5555555555555556,
              "#1f9e89"
             ],
             [
              0.6666666666666666,
              "#35b779"
             ],
             [
              0.7777777777777778,
              "#6ece58"
             ],
             [
              0.8888888888888888,
              "#b5de2b"
             ],
             [
              1.0,
              "#fde725"
             ]
            ],
            "type": "contour"
           }
          ],
          "heatmapgl": [
           {
            "colorbar": {
             "outlinewidth": 1,
             "tickcolor": "rgb(36,36,36)",
             "ticks": "outside"
            },
            "colorscale": [
             [
              0.0,
              "#440154"
             ],
             [
              0.1111111111111111,
              "#482878"
             ],
             [
              0.2222222222222222,
              "#3e4989"
             ],
             [
              0.3333333333333333,
              "#31688e"
             ],
             [
              0.4444444444444444,
              "#26828e"
             ],
             [
              0.5555555555555556,
              "#1f9e89"
             ],
             [
              0.6666666666666666,
              "#35b779"
             ],
             [
              0.7777777777777778,
              "#6ece58"
             ],
             [
              0.8888888888888888,
              "#b5de2b"
             ],
             [
              1.0,
              "#fde725"
             ]
            ],
            "type": "heatmapgl"
           }
          ],
          "heatmap": [
           {
            "colorbar": {
             "outlinewidth": 1,
             "tickcolor": "rgb(36,36,36)",
             "ticks": "outside"
            },
            "colorscale": [
             [
              0.0,
              "#440154"
             ],
             [
              0.1111111111111111,
              "#482878"
             ],
             [
              0.2222222222222222,
              "#3e4989"
             ],
             [
              0.3333333333333333,
              "#31688e"
             ],
             [
              0.4444444444444444,
              "#26828e"
             ],
             [
              0.5555555555555556,
              "#1f9e89"
             ],
             [
              0.6666666666666666,
              "#35b779"
             ],
             [
              0.7777777777777778,
              "#6ece58"
             ],
             [
              0.8888888888888888,
              "#b5de2b"
             ],
             [
              1.0,
              "#fde725"
             ]
            ],
            "type": "heatmap"
           }
          ],
          "histogram2dcontour": [
           {
            "colorbar": {
             "outlinewidth": 1,
             "tickcolor": "rgb(36,36,36)",
             "ticks": "outside"
            },
            "colorscale": [
             [
              0.0,
              "#440154"
             ],
             [
              0.1111111111111111,
              "#482878"
             ],
             [
              0.2222222222222222,
              "#3e4989"
             ],
             [
              0.3333333333333333,
              "#31688e"
             ],
             [
              0.4444444444444444,
              "#26828e"
             ],
             [
              0.5555555555555556,
              "#1f9e89"
             ],
             [
              0.6666666666666666,
              "#35b779"
             ],
             [
              0.7777777777777778,
              "#6ece58"
             ],
             [
              0.8888888888888888,
              "#b5de2b"
             ],
             [
              1.0,
              "#fde725"
             ]
            ],
            "type": "histogram2dcontour"
           }
          ],
          "histogram2d": [
           {
            "colorbar": {
             "outlinewidth": 1,
             "tickcolor": "rgb(36,36,36)",
             "ticks": "outside"
            },
            "colorscale": [
             [
              0.0,
              "#440154"
             ],
             [
              0.1111111111111111,
              "#482878"
             ],
             [
              0.2222222222222222,
              "#3e4989"
             ],
             [
              0.3333333333333333,
              "#31688e"
             ],
             [
              0.4444444444444444,
              "#26828e"
             ],
             [
              0.5555555555555556,
              "#1f9e89"
             ],
             [
              0.6666666666666666,
              "#35b779"
             ],
             [
              0.7777777777777778,
              "#6ece58"
             ],
             [
              0.8888888888888888,
              "#b5de2b"
             ],
             [
              1.0,
              "#fde725"
             ]
            ],
            "type": "histogram2d"
           }
          ],
          "histogram": [
           {
            "marker": {
             "line": {
              "color": "white",
              "width": 0.6
             }
            },
            "type": "histogram"
           }
          ],
          "mesh3d": [
           {
            "colorbar": {
             "outlinewidth": 1,
             "tickcolor": "rgb(36,36,36)",
             "ticks": "outside"
            },
            "type": "mesh3d"
           }
          ],
          "parcoords": [
           {
            "line": {
             "colorbar": {
              "outlinewidth": 1,
              "tickcolor": "rgb(36,36,36)",
              "ticks": "outside"
             }
            },
            "type": "parcoords"
           }
          ],
          "pie": [
           {
            "automargin": true,
            "type": "pie"
           }
          ],
          "scatter3d": [
           {
            "line": {
             "colorbar": {
              "outlinewidth": 1,
              "tickcolor": "rgb(36,36,36)",
              "ticks": "outside"
             }
            },
            "marker": {
             "colorbar": {
              "outlinewidth": 1,
              "tickcolor": "rgb(36,36,36)",
              "ticks": "outside"
             }
            },
            "type": "scatter3d"
           }
          ],
          "scattercarpet": [
           {
            "marker": {
             "colorbar": {
              "outlinewidth": 1,
              "tickcolor": "rgb(36,36,36)",
              "ticks": "outside"
             }
            },
            "type": "scattercarpet"
           }
          ],
          "scattergeo": [
           {
            "marker": {
             "colorbar": {
              "outlinewidth": 1,
              "tickcolor": "rgb(36,36,36)",
              "ticks": "outside"
             }
            },
            "type": "scattergeo"
           }
          ],
          "scattergl": [
           {
            "marker": {
             "colorbar": {
              "outlinewidth": 1,
              "tickcolor": "rgb(36,36,36)",
              "ticks": "outside"
             }
            },
            "type": "scattergl"
           }
          ],
          "scattermapbox": [
           {
            "marker": {
             "colorbar": {
              "outlinewidth": 1,
              "tickcolor": "rgb(36,36,36)",
              "ticks": "outside"
             }
            },
            "type": "scattermapbox"
           }
          ],
          "scatterpolargl": [
           {
            "marker": {
             "colorbar": {
              "outlinewidth": 1,
              "tickcolor": "rgb(36,36,36)",
              "ticks": "outside"
             }
            },
            "type": "scatterpolargl"
           }
          ],
          "scatterpolar": [
           {
            "marker": {
             "colorbar": {
              "outlinewidth": 1,
              "tickcolor": "rgb(36,36,36)",
              "ticks": "outside"
             }
            },
            "type": "scatterpolar"
           }
          ],
          "scatter": [
           {
            "fillpattern": {
             "fillmode": "overlay",
             "size": 10,
             "solidity": 0.2
            },
            "type": "scatter"
           }
          ],
          "scatterternary": [
           {
            "marker": {
             "colorbar": {
              "outlinewidth": 1,
              "tickcolor": "rgb(36,36,36)",
              "ticks": "outside"
             }
            },
            "type": "scatterternary"
           }
          ],
          "surface": [
           {
            "colorbar": {
             "outlinewidth": 1,
             "tickcolor": "rgb(36,36,36)",
             "ticks": "outside"
            },
            "colorscale": [
             [
              0.0,
              "#440154"
             ],
             [
              0.1111111111111111,
              "#482878"
             ],
             [
              0.2222222222222222,
              "#3e4989"
             ],
             [
              0.3333333333333333,
              "#31688e"
             ],
             [
              0.4444444444444444,
              "#26828e"
             ],
             [
              0.5555555555555556,
              "#1f9e89"
             ],
             [
              0.6666666666666666,
              "#35b779"
             ],
             [
              0.7777777777777778,
              "#6ece58"
             ],
             [
              0.8888888888888888,
              "#b5de2b"
             ],
             [
              1.0,
              "#fde725"
             ]
            ],
            "type": "surface"
           }
          ],
          "table": [
           {
            "cells": {
             "fill": {
              "color": "rgb(237,237,237)"
             },
             "line": {
              "color": "white"
             }
            },
            "header": {
             "fill": {
              "color": "rgb(217,217,217)"
             },
             "line": {
              "color": "white"
             }
            },
            "type": "table"
           }
          ]
         },
         "layout": {
          "annotationdefaults": {
           "arrowhead": 0,
           "arrowwidth": 1
          },
          "autotypenumbers": "strict",
          "coloraxis": {
           "colorbar": {
            "outlinewidth": 1,
            "tickcolor": "rgb(36,36,36)",
            "ticks": "outside"
           }
          },
          "colorscale": {
           "diverging": [
            [
             0.0,
             "rgb(103,0,31)"
            ],
            [
             0.1,
             "rgb(178,24,43)"
            ],
            [
             0.2,
             "rgb(214,96,77)"
            ],
            [
             0.3,
             "rgb(244,165,130)"
            ],
            [
             0.4,
             "rgb(253,219,199)"
            ],
            [
             0.5,
             "rgb(247,247,247)"
            ],
            [
             0.6,
             "rgb(209,229,240)"
            ],
            [
             0.7,
             "rgb(146,197,222)"
            ],
            [
             0.8,
             "rgb(67,147,195)"
            ],
            [
             0.9,
             "rgb(33,102,172)"
            ],
            [
             1.0,
             "rgb(5,48,97)"
            ]
           ],
           "sequential": [
            [
             0.0,
             "#440154"
            ],
            [
             0.1111111111111111,
             "#482878"
            ],
            [
             0.2222222222222222,
             "#3e4989"
            ],
            [
             0.3333333333333333,
             "#31688e"
            ],
            [
             0.4444444444444444,
             "#26828e"
            ],
            [
             0.5555555555555556,
             "#1f9e89"
            ],
            [
             0.6666666666666666,
             "#35b779"
            ],
            [
             0.7777777777777778,
             "#6ece58"
            ],
            [
             0.8888888888888888,
             "#b5de2b"
            ],
            [
             1.0,
             "#fde725"
            ]
           ],
           "sequentialminus": [
            [
             0.0,
             "#440154"
            ],
            [
             0.1111111111111111,
             "#482878"
            ],
            [
             0.2222222222222222,
             "#3e4989"
            ],
            [
             0.3333333333333333,
             "#31688e"
            ],
            [
             0.4444444444444444,
             "#26828e"
            ],
            [
             0.5555555555555556,
             "#1f9e89"
            ],
            [
             0.6666666666666666,
             "#35b779"
            ],
            [
             0.7777777777777778,
             "#6ece58"
            ],
            [
             0.8888888888888888,
             "#b5de2b"
            ],
            [
             1.0,
             "#fde725"
            ]
           ]
          },
          "colorway": [
           "#1F77B4",
           "#FF7F0E",
           "#2CA02C",
           "#D62728",
           "#9467BD",
           "#8C564B",
           "#E377C2",
           "#7F7F7F",
           "#BCBD22",
           "#17BECF"
          ],
          "font": {
           "color": "rgb(36,36,36)"
          },
          "geo": {
           "bgcolor": "white",
           "lakecolor": "white",
           "landcolor": "white",
           "showlakes": true,
           "showland": true,
           "subunitcolor": "white"
          },
          "hoverlabel": {
           "align": "left"
          },
          "hovermode": "closest",
          "mapbox": {
           "style": "light"
          },
          "paper_bgcolor": "white",
          "plot_bgcolor": "white",
          "polar": {
           "angularaxis": {
            "gridcolor": "rgb(232,232,232)",
            "linecolor": "rgb(36,36,36)",
            "showgrid": false,
            "showline": true,
            "ticks": "outside"
           },
           "bgcolor": "white",
           "radialaxis": {
            "gridcolor": "rgb(232,232,232)",
            "linecolor": "rgb(36,36,36)",
            "showgrid": false,
            "showline": true,
            "ticks": "outside"
           }
          },
          "scene": {
           "xaxis": {
            "backgroundcolor": "white",
            "gridcolor": "rgb(232,232,232)",
            "gridwidth": 2,
            "linecolor": "rgb(36,36,36)",
            "showbackground": true,
            "showgrid": false,
            "showline": true,
            "ticks": "outside",
            "zeroline": false,
            "zerolinecolor": "rgb(36,36,36)"
           },
           "yaxis": {
            "backgroundcolor": "white",
            "gridcolor": "rgb(232,232,232)",
            "gridwidth": 2,
            "linecolor": "rgb(36,36,36)",
            "showbackground": true,
            "showgrid": false,
            "showline": true,
            "ticks": "outside",
            "zeroline": false,
            "zerolinecolor": "rgb(36,36,36)"
           },
           "zaxis": {
            "backgroundcolor": "white",
            "gridcolor": "rgb(232,232,232)",
            "gridwidth": 2,
            "linecolor": "rgb(36,36,36)",
            "showbackground": true,
            "showgrid": false,
            "showline": true,
            "ticks": "outside",
            "zeroline": false,
            "zerolinecolor": "rgb(36,36,36)"
           }
          },
          "shapedefaults": {
           "fillcolor": "black",
           "line": {
            "width": 0
           },
           "opacity": 0.3
          },
          "ternary": {
           "aaxis": {
            "gridcolor": "rgb(232,232,232)",
            "linecolor": "rgb(36,36,36)",
            "showgrid": false,
            "showline": true,
            "ticks": "outside"
           },
           "baxis": {
            "gridcolor": "rgb(232,232,232)",
            "linecolor": "rgb(36,36,36)",
            "showgrid": false,
            "showline": true,
            "ticks": "outside"
           },
           "bgcolor": "white",
           "caxis": {
            "gridcolor": "rgb(232,232,232)",
            "linecolor": "rgb(36,36,36)",
            "showgrid": false,
            "showline": true,
            "ticks": "outside"
           }
          },
          "title": {
           "x": 0.05
          },
          "xaxis": {
           "automargin": true,
           "gridcolor": "rgb(232,232,232)",
           "linecolor": "rgb(36,36,36)",
           "showgrid": false,
           "showline": true,
           "ticks": "outside",
           "title": {
            "standoff": 15
           },
           "zeroline": false,
           "zerolinecolor": "rgb(36,36,36)"
          },
          "yaxis": {
           "automargin": true,
           "gridcolor": "rgb(232,232,232)",
           "linecolor": "rgb(36,36,36)",
           "showgrid": false,
           "showline": true,
           "ticks": "outside",
           "title": {
            "standoff": 15
           },
           "zeroline": false,
           "zerolinecolor": "rgb(36,36,36)"
          }
         }
        },
        "xaxis": {
         "anchor": "y",
         "domain": [
          0.0,
          1.0
         ],
         "title": {
          "text": "country_of_res"
         },
         "categoryorder": "total descending"
        },
        "yaxis": {
         "anchor": "x",
         "domain": [
          0.0,
          1.0
         ],
         "title": {
          "text": "percent"
         }
        },
        "legend": {
         "tracegroupgap": 0,
         "orientation": "v",
         "y": 1,
         "yanchor": "top",
         "x": 1.0,
         "xanchor": "right"
        },
        "margin": {
         "t": 60
        },
        "barmode": "relative",
        "height": 400,
        "width": 900,
        "font": {
         "family": "San Serif"
        },
        "title": {
         "text": "<b> Country of Residence of the patient <b>",
         "font": {
          "size": 20
         }
        }
       },
       "config": {
        "plotlyServerURL": "https://plot.ly"
       }
      },
      "text/html": [
       "<div>                            <div id=\"d6283906-3ea8-46fb-b1b9-fd9fc7a561ee\" class=\"plotly-graph-div\" style=\"height:400px; width:900px;\"></div>            <script type=\"text/javascript\">                require([\"plotly\"], function(Plotly) {                    window.PLOTLYENV=window.PLOTLYENV || {};                                    if (document.getElementById(\"d6283906-3ea8-46fb-b1b9-fd9fc7a561ee\")) {                    Plotly.newPlot(                        \"d6283906-3ea8-46fb-b1b9-fd9fc7a561ee\",                        [{\"alignmentgroup\":\"True\",\"bingroup\":\"x\",\"histnorm\":\"percent\",\"hovertemplate\":\"country_of_res=%{x}<br>percent=%{y}<extra></extra>\",\"legendgroup\":\"\",\"marker\":{\"color\":[\"lightseagreen\",\"lightgray\",\"lightgray\",\"lightgray\",\"lightgray\",\"lightgray\",\"lightgray\",\"lightgray\",\"lightgray\",\"lightgray\",\"lightgray\",\"lightgray\",\"lightgray\",\"lightgray\",\"lightgray\",\"lightgray\",\"lightgray\",\"lightgray\",\"lightgray\",\"lightgray\",\"lightgray\",\"lightgray\",\"lightgray\",\"lightgray\",\"lightgray\",\"lightgray\",\"lightgray\",\"lightgray\",\"lightgray\",\"lightgray\",\"lightgray\",\"lightgray\",\"lightgray\",\"lightgray\",\"lightgray\",\"lightgray\",\"lightgray\",\"lightgray\",\"lightgray\",\"lightgray\",\"lightgray\",\"lightgray\",\"lightgray\",\"lightgray\",\"lightgray\",\"lightgray\",\"lightgray\",\"lightgray\",\"lightgray\",\"lightgray\",\"lightgray\",\"lightgray\",\"lightgray\",\"lightgray\",\"lightgray\",\"lightgray\",\"lightgray\",\"lightgray\",\"lightgray\",\"lightgray\",\"lightgray\",\"lightgray\",\"lightgray\",\"lightgray\",\"lightgray\",\"lightgray\",\"lightgray\",\"lightgray\",\"lightgray\",\"lightgray\",\"lightgray\",\"lightgray\",\"lightgray\",\"lightgray\",\"lightgray\",\"lightgray\",\"lightgray\",\"lightgray\",\"lightgray\",\"lightgray\",\"lightgray\",\"lightgray\",\"lightgray\",\"lightgray\",\"lightgray\",\"lightgray\",\"lightgray\",\"lightgray\",\"lightgray\",\"lightgray\",\"lightgray\",\"lightgray\",\"lightgray\",\"lightgray\",\"lightgray\",\"lightgray\",\"lightgray\",\"lightgray\",\"lightgray\",\"lightgray\"],\"pattern\":{\"shape\":\"\"}},\"name\":\"\",\"offsetgroup\":\"\",\"orientation\":\"v\",\"showlegend\":false,\"x\":[\"United States\",\"Australia\",\"United Kingdom\",\"New Zealand\",\"Italy\",\"Nicaragua\",\"Canada\",\"United Arab Emirates\",\"United Kingdom\",\"United States\",\"Netherlands\",\"Australia\",\"United States\",\"New Zealand\",\"Sri Lanka\",\"Australia\",\"United Arab Emirates\",\"United Arab Emirates\",\"United Arab Emirates\",\"Canada\",\"India\",\"New Zealand\",\"United States\",\"United Kingdom\",\"Nicaragua\",\"India\",\"New Zealand\",\"Netherlands\",\"United Kingdom\",\"Netherlands\",\"United States\",\"New Zealand\",\"Armenia\",\"Sierra Leone\",\"India\",\"Argentina\",\"Azerbaijan\",\"Iceland\",\"Egypt\",\"United Arab Emirates\",\"Serbia\",\"United Arab Emirates\",\"Sri Lanka\",\"United Arab Emirates\",\"United Kingdom\",\"United States\",\"Afghanistan\",\"United States\",\"Costa Rica\",\"United Arab Emirates\",\"United States\",\"Afghanistan\",\"United States\",\"New Zealand\",\"Afghanistan\",\"United Arab Emirates\",\"Jordan\",\"India\",\"New Zealand\",\"Australia\",\"Angola\",\"Pakistan\",\"Australia\",\"Brazil\",\"Ireland\",\"United States\",\"United Kingdom\",\"Egypt\",\"Kazakhstan\",\"Sri Lanka\",\"United Kingdom\",\"New Zealand\",\"United States\",\"Netherlands\",\"India\",\"United States\",\"Viet Nam\",\"Ethiopia\",\"New Zealand\",\"Austria\",\"United States\",\"United States\",\"India\",\"Finland\",\"New Zealand\",\"New Zealand\",\"India\",\"United Arab Emirates\",\"United States\",\"United States\",\"Italy\",\"France\",\"New Zealand\",\"Australia\",\"United Arab Emirates\",\"Australia\",\"Sri Lanka\",\"United States\",\"United Kingdom\",\"United Arab Emirates\",\"Jordan\",\"Netherlands\",\"India\",\"Afghanistan\",\"India\",\"United States\",\"United Arab Emirates\",\"Afghanistan\",\"Malaysia\",\"Afghanistan\",\"United States\",\"India\",\"Sri Lanka\",\"France\",\"New Zealand\",\"Austria\",\"Jordan\",\"New Zealand\",\"United States\",\"United Kingdom\",\"United Arab Emirates\",\"United Kingdom\",\"Jordan\",\"Netherlands\",\"United States\",\"United Kingdom\",\"United States\",\"United States\",\"New Zealand\",\"Viet Nam\",\"United Kingdom\",\"New Zealand\",\"France\",\"Jordan\",\"United States\",\"Australia\",\"Australia\",\"Canada\",\"Canada\",\"Jordan\",\"United States\",\"United Kingdom\",\"United Kingdom\",\"United States\",\"United States\",\"Japan\",\"India\",\"New Zealand\",\"United Kingdom\",\"India\",\"India\",\"New Zealand\",\"New Zealand\",\"Austria\",\"Jordan\",\"New Zealand\",\"Netherlands\",\"United Arab Emirates\",\"United States\",\"United Arab Emirates\",\"India\",\"Spain\",\"New Zealand\",\"New Zealand\",\"Afghanistan\",\"India\",\"United States\",\"United States\",\"United Kingdom\",\"Viet Nam\",\"United Arab Emirates\",\"United States\",\"United States\",\"India\",\"Iceland\",\"India\",\"New Zealand\",\"Jordan\",\"Australia\",\"Jordan\",\"Australia\",\"United Kingdom\",\"United States\",\"India\",\"Philippines\",\"Jordan\",\"United Arab Emirates\",\"India\",\"Iran\",\"Afghanistan\",\"Australia\",\"United Arab Emirates\",\"United Arab Emirates\",\"India\",\"United States\",\"Afghanistan\",\"United Arab Emirates\",\"Jordan\",\"France\",\"Jordan\",\"United States\",\"United States\",\"Brazil\",\"Czech Republic\",\"India\",\"India\",\"Jordan\",\"Russia\",\"United Arab Emirates\",\"India\",\"United Arab Emirates\",\"Jordan\",\"United States\",\"Canada\",\"Romania\",\"United Arab Emirates\",\"New Zealand\",\"United States\",\"Jordan\",\"United Kingdom\",\"Czech Republic\",\"Australia\",\"United States\",\"United Arab Emirates\",\"Sri Lanka\",\"Canada\",\"Mexico\",\"United Kingdom\",\"United States\",\"Australia\",\"Romania\",\"Austria\",\"New Zealand\",\"United States\",\"United States\",\"United Kingdom\",\"United States\",\"India\",\"United States\",\"Egypt\",\"Belgium\",\"United Arab Emirates\",\"United Arab Emirates\",\"Netherlands\",\"United States\",\"India\",\"United Arab Emirates\",\"Nicaragua\",\"India\",\"India\",\"United Arab Emirates\",\"United States\",\"Aruba\",\"United Arab Emirates\",\"Sri Lanka\",\"India\",\"Japan\",\"Russia\",\"New Zealand\",\"Australia\",\"New Zealand\",\"United Kingdom\",\"Uruguay\",\"Australia\",\"United States\",\"Jordan\",\"New Zealand\",\"United Arab Emirates\",\"Canada\",\"Brazil\",\"United Kingdom\",\"United Arab Emirates\",\"Sri Lanka\",\"India\",\"United Kingdom\",\"Jordan\",\"Sri Lanka\",\"Australia\",\"Jordan\",\"United States\",\"Italy\",\"United Arab Emirates\",\"United Arab Emirates\",\"Australia\",\"India\",\"India\",\"Mexico\",\"New Zealand\",\"United Arab Emirates\",\"Austria\",\"Indonesia\",\"United Kingdom\",\"Ukraine\",\"United States\",\"Kazakhstan\",\"New Zealand\",\"United Arab Emirates\",\"India\",\"United Arab Emirates\",\"United Arab Emirates\",\"United Arab Emirates\",\"Australia\",\"Afghanistan\",\"Austria\",\"Italy\",\"India\",\"Russia\",\"New Zealand\",\"United Arab Emirates\",\"United States\",\"India\",\"Italy\",\"United States\",\"New Zealand\",\"United States\",\"Jordan\",\"Afghanistan\",\"AmericanSamoa\",\"Jordan\",\"United States\",\"United Kingdom\",\"Germany\",\"Ethiopia\",\"United Arab Emirates\",\"United States\",\"Austria\",\"United Kingdom\",\"Jordan\",\"Canada\",\"United States\",\"Malaysia\",\"Sri Lanka\",\"United States\",\"United Arab Emirates\",\"New Zealand\",\"Jordan\",\"Mexico\",\"New Zealand\",\"United Kingdom\",\"United Arab Emirates\",\"United States\",\"United Arab Emirates\",\"United Kingdom\",\"United Arab Emirates\",\"United States\",\"France\",\"New Zealand\",\"New Zealand\",\"India\",\"Australia\",\"United Kingdom\",\"New Zealand\",\"Russia\",\"India\",\"New Zealand\",\"Australia\",\"United Arab Emirates\",\"China\",\"India\",\"United Kingdom\",\"Jordan\",\"Canada\",\"New Zealand\",\"Afghanistan\",\"India\",\"Jordan\",\"United States\",\"Armenia\",\"United States\",\"United Arab Emirates\",\"United States\",\"Iraq\",\"India\",\"Australia\",\"India\",\"Tonga\",\"India\",\"New Zealand\",\"Malaysia\",\"Jordan\",\"Czech Republic\",\"United States\",\"United Arab Emirates\",\"India\",\"United States\",\"India\",\"New Zealand\",\"United Arab Emirates\",\"United States\",\"United Arab Emirates\",\"Belgium\",\"United Arab Emirates\",\"New Zealand\",\"United States\",\"Australia\",\"New Zealand\",\"Australia\",\"Ireland\",\"India\",\"United States\",\"Netherlands\",\"Jordan\",\"India\",\"Costa Rica\",\"United Kingdom\",\"South Africa\",\"Armenia\",\"India\",\"Italy\",\"United States\",\"New Zealand\",\"United Kingdom\",\"Aruba\",\"United States\",\"United Arab Emirates\",\"Australia\",\"New Zealand\",\"United States\",\"United States\",\"New Zealand\",\"United Arab Emirates\",\"United Kingdom\",\"Australia\",\"United Arab Emirates\",\"New Zealand\",\"Saudi Arabia\",\"India\",\"New Zealand\",\"Jordan\",\"France\",\"Afghanistan\",\"United States\",\"Afghanistan\",\"United States\",\"Australia\",\"United States\",\"Sri Lanka\",\"New Zealand\",\"Hong Kong\",\"United Arab Emirates\",\"United States\",\"New Zealand\",\"India\",\"India\",\"Austria\",\"United States\",\"New Zealand\",\"France\",\"Brazil\",\"New Zealand\",\"Afghanistan\",\"United Kingdom\",\"Jordan\",\"United States\",\"New Zealand\",\"United States\",\"India\",\"New Zealand\",\"India\",\"Australia\",\"New Zealand\",\"Serbia\",\"Jordan\",\"Russia\",\"United Arab Emirates\",\"Bahamas\",\"South Africa\",\"India\",\"United States\",\"United States\",\"Austria\",\"United Kingdom\",\"United Kingdom\",\"Philippines\",\"United States\",\"Australia\",\"Iran\",\"Kazakhstan\",\"Costa Rica\",\"United Arab Emirates\",\"Kazakhstan\",\"United States\",\"Ecuador\",\"United Arab Emirates\",\"Belgium\",\"Spain\",\"United Arab Emirates\",\"Viet Nam\",\"United States\",\"Russia\",\"Italy\",\"Romania\",\"United Arab Emirates\",\"Iran\",\"United Arab Emirates\",\"United Kingdom\",\"New Zealand\",\"Cyprus\",\"Jordan\",\"New Zealand\",\"United States\",\"Brazil\",\"South Africa\",\"Afghanistan\",\"United Arab Emirates\",\"United Arab Emirates\",\"Australia\",\"Armenia\",\"China\",\"Spain\",\"United States\",\"United Arab Emirates\",\"United Kingdom\",\"United Arab Emirates\",\"United States\",\"Bahamas\",\"New Zealand\",\"Austria\",\"United States\",\"United States\",\"Brazil\",\"United Kingdom\",\"United States\",\"France\",\"United Arab Emirates\",\"United Arab Emirates\",\"Kazakhstan\",\"United Kingdom\",\"United States\",\"New Zealand\",\"Jordan\",\"United Arab Emirates\",\"New Zealand\",\"Ireland\",\"United States\",\"United States\",\"New Zealand\",\"United States\",\"Mexico\",\"New Zealand\",\"United States\",\"Egypt\",\"Egypt\",\"New Zealand\",\"Ethiopia\",\"India\",\"Jordan\",\"Germany\",\"Bangladesh\",\"Oman\",\"United States\",\"United States\",\"Aruba\",\"New Zealand\",\"United States\",\"New Zealand\",\"United Kingdom\",\"India\",\"New Zealand\",\"Costa Rica\",\"Saudi Arabia\",\"France\",\"South Africa\",\"United States\",\"Netherlands\",\"Netherlands\",\"India\",\"Saudi Arabia\",\"United States\",\"New Zealand\",\"South Africa\",\"United States\",\"United States\",\"New Zealand\",\"Armenia\",\"United Kingdom\",\"United Arab Emirates\",\"India\",\"Australia\",\"United Arab Emirates\",\"Canada\",\"United States\",\"Sri Lanka\",\"United States\",\"Bolivia\",\"United Arab Emirates\",\"New Zealand\",\"India\",\"United States\",\"United States\",\"Afghanistan\",\"United States\",\"United States\",\"United States\",\"Armenia\",\"India\",\"Italy\",\"Brazil\",\"Netherlands\",\"New Zealand\",\"Canada\",\"United Kingdom\",\"New Zealand\",\"United Kingdom\",\"Jordan\",\"United Kingdom\",\"India\",\"United States\",\"Jordan\",\"India\",\"Sri Lanka\",\"Philippines\",\"New Zealand\",\"Sweden\",\"United Kingdom\",\"AmericanSamoa\",\"Afghanistan\",\"United Kingdom\",\"New Zealand\",\"Netherlands\",\"United Arab Emirates\",\"Philippines\",\"Ukraine\",\"United States\",\"New Zealand\",\"Azerbaijan\",\"Afghanistan\",\"Italy\",\"United States\",\"Malaysia\",\"United Arab Emirates\",\"Jordan\",\"United Arab Emirates\",\"United Arab Emirates\",\"United States\",\"United Arab Emirates\",\"New Zealand\",\"Iran\",\"Australia\",\"United States\",\"United Arab Emirates\",\"Malaysia\",\"Afghanistan\",\"Saudi Arabia\",\"United States\",\"United Arab Emirates\",\"United States\",\"United States\",\"New Zealand\",\"Kazakhstan\",\"Italy\",\"United Kingdom\",\"United States\",\"United Arab Emirates\",\"United States\",\"United States\",\"India\",\"United States\",\"United Kingdom\",\"Australia\",\"Australia\",\"India\",\"United States\",\"India\",\"New Zealand\",\"New Zealand\",\"United Arab Emirates\",\"Argentina\",\"United Arab Emirates\",\"Canada\",\"India\",\"India\",\"India\",\"United Arab Emirates\",\"Canada\",\"France\",\"Brazil\",\"Australia\",\"Jordan\",\"Sri Lanka\",\"New Zealand\",\"India\",\"United States\",\"India\",\"United States\",\"Australia\",\"United States\",\"New Zealand\",\"New Zealand\",\"United Kingdom\",\"United Arab Emirates\",\"United Kingdom\",\"United Arab Emirates\",\"United Arab Emirates\",\"United Arab Emirates\",\"New Zealand\",\"United States\",\"United States\",\"United States\",\"Bahamas\",\"Mexico\",\"India\",\"United Kingdom\",\"Australia\",\"Nicaragua\",\"United States\",\"United Arab Emirates\",\"New Zealand\",\"United States\",\"United States\",\"Viet Nam\",\"New Zealand\",\"United Kingdom\",\"United States\",\"Afghanistan\",\"New Zealand\",\"United Kingdom\",\"France\",\"Australia\",\"Netherlands\",\"India\",\"Niger\",\"United States\",\"Bolivia\",\"Australia\",\"United States\",\"Pakistan\",\"Philippines\",\"Ukraine\",\"New Zealand\",\"India\",\"United States\",\"Bolivia\",\"Sri Lanka\",\"United States\",\"Canada\",\"United States\",\"India\",\"India\",\"United States\",\"Jordan\",\"United Arab Emirates\",\"United Arab Emirates\",\"Italy\",\"Iran\",\"United Kingdom\",\"Russia\",\"Russia\",\"New Zealand\",\"United States\",\"United States\",\"Germany\",\"Angola\",\"Spain\",\"New Zealand\",\"United States\",\"Australia\",\"Austria\",\"Kazakhstan\",\"Australia\",\"Sri Lanka\",\"United States\",\"New Zealand\",\"United States\",\"New Zealand\",\"United States\",\"Jordan\",\"United Arab Emirates\",\"United Arab Emirates\",\"Afghanistan\",\"Philippines\",\"United States\",\"United States\",\"United Kingdom\",\"Spain\",\"Austria\",\"Canada\",\"France\",\"Australia\",\"United Kingdom\",\"United Kingdom\",\"Afghanistan\",\"United Arab Emirates\",\"New Zealand\",\"United States\",\"Australia\",\"United States\",\"India\",\"Jordan\",\"Russia\",\"United Arab Emirates\",\"United Arab Emirates\",\"Mexico\",\"Brazil\",\"Viet Nam\",\"United States\",\"New Zealand\",\"Jordan\",\"United States\",\"New Zealand\"],\"xaxis\":\"x\",\"yaxis\":\"y\",\"type\":\"histogram\"}],                        {\"template\":{\"data\":{\"barpolar\":[{\"marker\":{\"line\":{\"color\":\"white\",\"width\":0.5},\"pattern\":{\"fillmode\":\"overlay\",\"size\":10,\"solidity\":0.2}},\"type\":\"barpolar\"}],\"bar\":[{\"error_x\":{\"color\":\"rgb(36,36,36)\"},\"error_y\":{\"color\":\"rgb(36,36,36)\"},\"marker\":{\"line\":{\"color\":\"white\",\"width\":0.5},\"pattern\":{\"fillmode\":\"overlay\",\"size\":10,\"solidity\":0.2}},\"type\":\"bar\"}],\"carpet\":[{\"aaxis\":{\"endlinecolor\":\"rgb(36,36,36)\",\"gridcolor\":\"white\",\"linecolor\":\"white\",\"minorgridcolor\":\"white\",\"startlinecolor\":\"rgb(36,36,36)\"},\"baxis\":{\"endlinecolor\":\"rgb(36,36,36)\",\"gridcolor\":\"white\",\"linecolor\":\"white\",\"minorgridcolor\":\"white\",\"startlinecolor\":\"rgb(36,36,36)\"},\"type\":\"carpet\"}],\"choropleth\":[{\"colorbar\":{\"outlinewidth\":1,\"tickcolor\":\"rgb(36,36,36)\",\"ticks\":\"outside\"},\"type\":\"choropleth\"}],\"contourcarpet\":[{\"colorbar\":{\"outlinewidth\":1,\"tickcolor\":\"rgb(36,36,36)\",\"ticks\":\"outside\"},\"type\":\"contourcarpet\"}],\"contour\":[{\"colorbar\":{\"outlinewidth\":1,\"tickcolor\":\"rgb(36,36,36)\",\"ticks\":\"outside\"},\"colorscale\":[[0.0,\"#440154\"],[0.1111111111111111,\"#482878\"],[0.2222222222222222,\"#3e4989\"],[0.3333333333333333,\"#31688e\"],[0.4444444444444444,\"#26828e\"],[0.5555555555555556,\"#1f9e89\"],[0.6666666666666666,\"#35b779\"],[0.7777777777777778,\"#6ece58\"],[0.8888888888888888,\"#b5de2b\"],[1.0,\"#fde725\"]],\"type\":\"contour\"}],\"heatmapgl\":[{\"colorbar\":{\"outlinewidth\":1,\"tickcolor\":\"rgb(36,36,36)\",\"ticks\":\"outside\"},\"colorscale\":[[0.0,\"#440154\"],[0.1111111111111111,\"#482878\"],[0.2222222222222222,\"#3e4989\"],[0.3333333333333333,\"#31688e\"],[0.4444444444444444,\"#26828e\"],[0.5555555555555556,\"#1f9e89\"],[0.6666666666666666,\"#35b779\"],[0.7777777777777778,\"#6ece58\"],[0.8888888888888888,\"#b5de2b\"],[1.0,\"#fde725\"]],\"type\":\"heatmapgl\"}],\"heatmap\":[{\"colorbar\":{\"outlinewidth\":1,\"tickcolor\":\"rgb(36,36,36)\",\"ticks\":\"outside\"},\"colorscale\":[[0.0,\"#440154\"],[0.1111111111111111,\"#482878\"],[0.2222222222222222,\"#3e4989\"],[0.3333333333333333,\"#31688e\"],[0.4444444444444444,\"#26828e\"],[0.5555555555555556,\"#1f9e89\"],[0.6666666666666666,\"#35b779\"],[0.7777777777777778,\"#6ece58\"],[0.8888888888888888,\"#b5de2b\"],[1.0,\"#fde725\"]],\"type\":\"heatmap\"}],\"histogram2dcontour\":[{\"colorbar\":{\"outlinewidth\":1,\"tickcolor\":\"rgb(36,36,36)\",\"ticks\":\"outside\"},\"colorscale\":[[0.0,\"#440154\"],[0.1111111111111111,\"#482878\"],[0.2222222222222222,\"#3e4989\"],[0.3333333333333333,\"#31688e\"],[0.4444444444444444,\"#26828e\"],[0.5555555555555556,\"#1f9e89\"],[0.6666666666666666,\"#35b779\"],[0.7777777777777778,\"#6ece58\"],[0.8888888888888888,\"#b5de2b\"],[1.0,\"#fde725\"]],\"type\":\"histogram2dcontour\"}],\"histogram2d\":[{\"colorbar\":{\"outlinewidth\":1,\"tickcolor\":\"rgb(36,36,36)\",\"ticks\":\"outside\"},\"colorscale\":[[0.0,\"#440154\"],[0.1111111111111111,\"#482878\"],[0.2222222222222222,\"#3e4989\"],[0.3333333333333333,\"#31688e\"],[0.4444444444444444,\"#26828e\"],[0.5555555555555556,\"#1f9e89\"],[0.6666666666666666,\"#35b779\"],[0.7777777777777778,\"#6ece58\"],[0.8888888888888888,\"#b5de2b\"],[1.0,\"#fde725\"]],\"type\":\"histogram2d\"}],\"histogram\":[{\"marker\":{\"line\":{\"color\":\"white\",\"width\":0.6}},\"type\":\"histogram\"}],\"mesh3d\":[{\"colorbar\":{\"outlinewidth\":1,\"tickcolor\":\"rgb(36,36,36)\",\"ticks\":\"outside\"},\"type\":\"mesh3d\"}],\"parcoords\":[{\"line\":{\"colorbar\":{\"outlinewidth\":1,\"tickcolor\":\"rgb(36,36,36)\",\"ticks\":\"outside\"}},\"type\":\"parcoords\"}],\"pie\":[{\"automargin\":true,\"type\":\"pie\"}],\"scatter3d\":[{\"line\":{\"colorbar\":{\"outlinewidth\":1,\"tickcolor\":\"rgb(36,36,36)\",\"ticks\":\"outside\"}},\"marker\":{\"colorbar\":{\"outlinewidth\":1,\"tickcolor\":\"rgb(36,36,36)\",\"ticks\":\"outside\"}},\"type\":\"scatter3d\"}],\"scattercarpet\":[{\"marker\":{\"colorbar\":{\"outlinewidth\":1,\"tickcolor\":\"rgb(36,36,36)\",\"ticks\":\"outside\"}},\"type\":\"scattercarpet\"}],\"scattergeo\":[{\"marker\":{\"colorbar\":{\"outlinewidth\":1,\"tickcolor\":\"rgb(36,36,36)\",\"ticks\":\"outside\"}},\"type\":\"scattergeo\"}],\"scattergl\":[{\"marker\":{\"colorbar\":{\"outlinewidth\":1,\"tickcolor\":\"rgb(36,36,36)\",\"ticks\":\"outside\"}},\"type\":\"scattergl\"}],\"scattermapbox\":[{\"marker\":{\"colorbar\":{\"outlinewidth\":1,\"tickcolor\":\"rgb(36,36,36)\",\"ticks\":\"outside\"}},\"type\":\"scattermapbox\"}],\"scatterpolargl\":[{\"marker\":{\"colorbar\":{\"outlinewidth\":1,\"tickcolor\":\"rgb(36,36,36)\",\"ticks\":\"outside\"}},\"type\":\"scatterpolargl\"}],\"scatterpolar\":[{\"marker\":{\"colorbar\":{\"outlinewidth\":1,\"tickcolor\":\"rgb(36,36,36)\",\"ticks\":\"outside\"}},\"type\":\"scatterpolar\"}],\"scatter\":[{\"fillpattern\":{\"fillmode\":\"overlay\",\"size\":10,\"solidity\":0.2},\"type\":\"scatter\"}],\"scatterternary\":[{\"marker\":{\"colorbar\":{\"outlinewidth\":1,\"tickcolor\":\"rgb(36,36,36)\",\"ticks\":\"outside\"}},\"type\":\"scatterternary\"}],\"surface\":[{\"colorbar\":{\"outlinewidth\":1,\"tickcolor\":\"rgb(36,36,36)\",\"ticks\":\"outside\"},\"colorscale\":[[0.0,\"#440154\"],[0.1111111111111111,\"#482878\"],[0.2222222222222222,\"#3e4989\"],[0.3333333333333333,\"#31688e\"],[0.4444444444444444,\"#26828e\"],[0.5555555555555556,\"#1f9e89\"],[0.6666666666666666,\"#35b779\"],[0.7777777777777778,\"#6ece58\"],[0.8888888888888888,\"#b5de2b\"],[1.0,\"#fde725\"]],\"type\":\"surface\"}],\"table\":[{\"cells\":{\"fill\":{\"color\":\"rgb(237,237,237)\"},\"line\":{\"color\":\"white\"}},\"header\":{\"fill\":{\"color\":\"rgb(217,217,217)\"},\"line\":{\"color\":\"white\"}},\"type\":\"table\"}]},\"layout\":{\"annotationdefaults\":{\"arrowhead\":0,\"arrowwidth\":1},\"autotypenumbers\":\"strict\",\"coloraxis\":{\"colorbar\":{\"outlinewidth\":1,\"tickcolor\":\"rgb(36,36,36)\",\"ticks\":\"outside\"}},\"colorscale\":{\"diverging\":[[0.0,\"rgb(103,0,31)\"],[0.1,\"rgb(178,24,43)\"],[0.2,\"rgb(214,96,77)\"],[0.3,\"rgb(244,165,130)\"],[0.4,\"rgb(253,219,199)\"],[0.5,\"rgb(247,247,247)\"],[0.6,\"rgb(209,229,240)\"],[0.7,\"rgb(146,197,222)\"],[0.8,\"rgb(67,147,195)\"],[0.9,\"rgb(33,102,172)\"],[1.0,\"rgb(5,48,97)\"]],\"sequential\":[[0.0,\"#440154\"],[0.1111111111111111,\"#482878\"],[0.2222222222222222,\"#3e4989\"],[0.3333333333333333,\"#31688e\"],[0.4444444444444444,\"#26828e\"],[0.5555555555555556,\"#1f9e89\"],[0.6666666666666666,\"#35b779\"],[0.7777777777777778,\"#6ece58\"],[0.8888888888888888,\"#b5de2b\"],[1.0,\"#fde725\"]],\"sequentialminus\":[[0.0,\"#440154\"],[0.1111111111111111,\"#482878\"],[0.2222222222222222,\"#3e4989\"],[0.3333333333333333,\"#31688e\"],[0.4444444444444444,\"#26828e\"],[0.5555555555555556,\"#1f9e89\"],[0.6666666666666666,\"#35b779\"],[0.7777777777777778,\"#6ece58\"],[0.8888888888888888,\"#b5de2b\"],[1.0,\"#fde725\"]]},\"colorway\":[\"#1F77B4\",\"#FF7F0E\",\"#2CA02C\",\"#D62728\",\"#9467BD\",\"#8C564B\",\"#E377C2\",\"#7F7F7F\",\"#BCBD22\",\"#17BECF\"],\"font\":{\"color\":\"rgb(36,36,36)\"},\"geo\":{\"bgcolor\":\"white\",\"lakecolor\":\"white\",\"landcolor\":\"white\",\"showlakes\":true,\"showland\":true,\"subunitcolor\":\"white\"},\"hoverlabel\":{\"align\":\"left\"},\"hovermode\":\"closest\",\"mapbox\":{\"style\":\"light\"},\"paper_bgcolor\":\"white\",\"plot_bgcolor\":\"white\",\"polar\":{\"angularaxis\":{\"gridcolor\":\"rgb(232,232,232)\",\"linecolor\":\"rgb(36,36,36)\",\"showgrid\":false,\"showline\":true,\"ticks\":\"outside\"},\"bgcolor\":\"white\",\"radialaxis\":{\"gridcolor\":\"rgb(232,232,232)\",\"linecolor\":\"rgb(36,36,36)\",\"showgrid\":false,\"showline\":true,\"ticks\":\"outside\"}},\"scene\":{\"xaxis\":{\"backgroundcolor\":\"white\",\"gridcolor\":\"rgb(232,232,232)\",\"gridwidth\":2,\"linecolor\":\"rgb(36,36,36)\",\"showbackground\":true,\"showgrid\":false,\"showline\":true,\"ticks\":\"outside\",\"zeroline\":false,\"zerolinecolor\":\"rgb(36,36,36)\"},\"yaxis\":{\"backgroundcolor\":\"white\",\"gridcolor\":\"rgb(232,232,232)\",\"gridwidth\":2,\"linecolor\":\"rgb(36,36,36)\",\"showbackground\":true,\"showgrid\":false,\"showline\":true,\"ticks\":\"outside\",\"zeroline\":false,\"zerolinecolor\":\"rgb(36,36,36)\"},\"zaxis\":{\"backgroundcolor\":\"white\",\"gridcolor\":\"rgb(232,232,232)\",\"gridwidth\":2,\"linecolor\":\"rgb(36,36,36)\",\"showbackground\":true,\"showgrid\":false,\"showline\":true,\"ticks\":\"outside\",\"zeroline\":false,\"zerolinecolor\":\"rgb(36,36,36)\"}},\"shapedefaults\":{\"fillcolor\":\"black\",\"line\":{\"width\":0},\"opacity\":0.3},\"ternary\":{\"aaxis\":{\"gridcolor\":\"rgb(232,232,232)\",\"linecolor\":\"rgb(36,36,36)\",\"showgrid\":false,\"showline\":true,\"ticks\":\"outside\"},\"baxis\":{\"gridcolor\":\"rgb(232,232,232)\",\"linecolor\":\"rgb(36,36,36)\",\"showgrid\":false,\"showline\":true,\"ticks\":\"outside\"},\"bgcolor\":\"white\",\"caxis\":{\"gridcolor\":\"rgb(232,232,232)\",\"linecolor\":\"rgb(36,36,36)\",\"showgrid\":false,\"showline\":true,\"ticks\":\"outside\"}},\"title\":{\"x\":0.05},\"xaxis\":{\"automargin\":true,\"gridcolor\":\"rgb(232,232,232)\",\"linecolor\":\"rgb(36,36,36)\",\"showgrid\":false,\"showline\":true,\"ticks\":\"outside\",\"title\":{\"standoff\":15},\"zeroline\":false,\"zerolinecolor\":\"rgb(36,36,36)\"},\"yaxis\":{\"automargin\":true,\"gridcolor\":\"rgb(232,232,232)\",\"linecolor\":\"rgb(36,36,36)\",\"showgrid\":false,\"showline\":true,\"ticks\":\"outside\",\"title\":{\"standoff\":15},\"zeroline\":false,\"zerolinecolor\":\"rgb(36,36,36)\"}}},\"xaxis\":{\"anchor\":\"y\",\"domain\":[0.0,1.0],\"title\":{\"text\":\"country_of_res\"},\"categoryorder\":\"total descending\"},\"yaxis\":{\"anchor\":\"x\",\"domain\":[0.0,1.0],\"title\":{\"text\":\"percent\"}},\"legend\":{\"tracegroupgap\":0,\"orientation\":\"v\",\"y\":1,\"yanchor\":\"top\",\"x\":1.0,\"xanchor\":\"right\"},\"margin\":{\"t\":60},\"barmode\":\"relative\",\"height\":400,\"width\":900,\"font\":{\"family\":\"San Serif\"},\"title\":{\"text\":\"<b> Country of Residence of the patient <b>\",\"font\":{\"size\":20}}},                        {\"responsive\": true}                    ).then(function(){\n",
       "                            \n",
       "var gd = document.getElementById('d6283906-3ea8-46fb-b1b9-fd9fc7a561ee');\n",
       "var x = new MutationObserver(function (mutations, observer) {{\n",
       "        var display = window.getComputedStyle(gd).display;\n",
       "        if (!display || display === 'none') {{\n",
       "            console.log([gd, 'removed!']);\n",
       "            Plotly.purge(gd);\n",
       "            observer.disconnect();\n",
       "        }}\n",
       "}});\n",
       "\n",
       "// Listen for the removal of the full notebook cells\n",
       "var notebookContainer = gd.closest('#notebook-container');\n",
       "if (notebookContainer) {{\n",
       "    x.observe(notebookContainer, {childList: true});\n",
       "}}\n",
       "\n",
       "// Listen for the clearing of the current output cell\n",
       "var outputEl = gd.closest('.output');\n",
       "if (outputEl) {{\n",
       "    x.observe(outputEl, {childList: true});\n",
       "}}\n",
       "\n",
       "                        })                };                });            </script>        </div>"
      ]
     },
     "metadata": {},
     "output_type": "display_data"
    },
    {
     "data": {
      "application/vnd.plotly.v1+json": {
       "data": [
        {
         "branchvalues": "total",
         "customdata": [
          [
           0.0
          ],
          [
           0.0
          ],
          [
           0.0
          ],
          [
           0.0
          ],
          [
           0.0
          ],
          [
           0.0
          ],
          [
           0.0
          ],
          [
           0.0
          ],
          [
           0.0
          ],
          [
           0.0
          ],
          [
           0.0
          ],
          [
           0.0
          ],
          [
           0.0
          ],
          [
           0.0
          ],
          [
           0.0
          ],
          [
           0.0
          ],
          [
           0.0
          ],
          [
           0.0
          ],
          [
           0.0
          ],
          [
           0.0
          ],
          [
           0.0
          ],
          [
           0.0
          ],
          [
           0.0
          ],
          [
           0.0
          ],
          [
           0.0
          ],
          [
           0.0
          ],
          [
           0.0
          ],
          [
           0.0
          ],
          [
           0.0
          ],
          [
           0.0
          ],
          [
           0.0
          ],
          [
           0.0
          ],
          [
           0.0
          ],
          [
           0.0
          ],
          [
           0.0
          ],
          [
           0.0
          ],
          [
           0.0
          ],
          [
           0.0
          ],
          [
           0.0
          ],
          [
           0.0
          ],
          [
           0.0
          ],
          [
           0.0
          ],
          [
           0.0
          ],
          [
           0.0
          ],
          [
           0.0
          ],
          [
           0.0
          ],
          [
           0.0
          ],
          [
           0.0
          ],
          [
           0.0
          ],
          [
           0.0
          ],
          [
           0.0
          ],
          [
           0.0
          ],
          [
           0.0
          ],
          [
           0.0
          ],
          [
           0.0
          ],
          [
           0.0
          ],
          [
           0.0
          ],
          [
           0.0
          ],
          [
           0.0
          ],
          [
           1.0
          ],
          [
           1.0
          ],
          [
           1.0
          ],
          [
           1.0
          ],
          [
           1.0
          ],
          [
           1.0
          ],
          [
           1.0
          ],
          [
           1.0
          ],
          [
           1.0
          ],
          [
           1.0
          ],
          [
           1.0
          ],
          [
           1.0
          ],
          [
           1.0
          ],
          [
           1.0
          ],
          [
           1.0
          ],
          [
           1.0
          ],
          [
           1.0
          ],
          [
           1.0
          ],
          [
           1.0
          ],
          [
           1.0
          ],
          [
           1.0
          ],
          [
           1.0
          ],
          [
           1.0
          ],
          [
           1.0
          ],
          [
           1.0
          ],
          [
           1.0
          ],
          [
           1.0
          ],
          [
           1.0
          ],
          [
           1.0
          ],
          [
           1.0
          ],
          [
           1.0
          ],
          [
           1.0
          ],
          [
           0.08695652173913043
          ],
          [
           0.0
          ],
          [
           0.0
          ],
          [
           0.0
          ],
          [
           0.3333333333333333
          ],
          [
           0.3333333333333333
          ],
          [
           0.3953488372093023
          ],
          [
           0.25
          ],
          [
           0.0
          ],
          [
           0.0
          ],
          [
           0.0
          ],
          [
           0.3333333333333333
          ],
          [
           0.3333333333333333
          ],
          [
           0.1111111111111111
          ],
          [
           0.26666666666666666
          ],
          [
           0.0
          ],
          [
           0.0
          ],
          [
           1.0
          ],
          [
           0.0
          ],
          [
           0.0
          ],
          [
           0.2
          ],
          [
           0.3333333333333333
          ],
          [
           0.0
          ],
          [
           0.3333333333333333
          ],
          [
           0.0
          ],
          [
           1.0
          ],
          [
           0.0
          ],
          [
           0.10810810810810811
          ],
          [
           0.0
          ],
          [
           0.0
          ],
          [
           0.0
          ],
          [
           0.3333333333333333
          ],
          [
           0.18181818181818182
          ],
          [
           0.5
          ],
          [
           0.15
          ],
          [
           0.14285714285714285
          ],
          [
           0.4
          ],
          [
           0.0
          ],
          [
           0.2857142857142857
          ],
          [
           0.08602150537634409
          ],
          [
           0.25
          ],
          [
           0.0
          ],
          [
           0.0
          ],
          [
           0.5
          ],
          [
           0.0
          ],
          [
           0.3333333333333333
          ],
          [
           0.1111111111111111
          ],
          [
           0.0
          ],
          [
           0.0
          ],
          [
           0.0
          ],
          [
           0.0
          ],
          [
           0.2
          ],
          [
           0.1875
          ],
          [
           0.0
          ],
          [
           0.0
          ],
          [
           0.0
          ],
          [
           0.06382978723404255
          ],
          [
           0.41379310344827586
          ],
          [
           0.5
          ],
          [
           0.0
          ],
          [
           0.0
          ]
         ],
         "domain": {
          "x": [
           0.0,
           1.0
          ],
          "y": [
           0.0,
           1.0
          ]
         },
         "hovertemplate": "labels=%{label}<br>count=%{value}<br>parent=%{parent}<br>id=%{id}<br>Class/ASD=%{color}<extra></extra>",
         "ids": [
          "Afghanistan/0",
          "AmericanSamoa/0",
          "Angola/0",
          "Argentina/0",
          "Armenia/0",
          "Aruba/0",
          "Australia/0",
          "Austria/0",
          "Azerbaijan/0",
          "Bahamas/0",
          "Bangladesh/0",
          "Belgium/0",
          "Bolivia/0",
          "Brazil/0",
          "Canada/0",
          "China/0",
          "Costa Rica/0",
          "Czech Republic/0",
          "Ecuador/0",
          "Egypt/0",
          "Ethiopia/0",
          "Finland/0",
          "France/0",
          "Germany/0",
          "Iceland/0",
          "India/0",
          "Indonesia/0",
          "Iran/0",
          "Iraq/0",
          "Ireland/0",
          "Italy/0",
          "Japan/0",
          "Jordan/0",
          "Kazakhstan/0",
          "Malaysia/0",
          "Mexico/0",
          "Netherlands/0",
          "New Zealand/0",
          "Nicaragua/0",
          "Niger/0",
          "Oman/0",
          "Pakistan/0",
          "Philippines/0",
          "Romania/0",
          "Russia/0",
          "Saudi Arabia/0",
          "Serbia/0",
          "Sierra Leone/0",
          "South Africa/0",
          "Spain/0",
          "Sri Lanka/0",
          "Sweden/0",
          "Tonga/0",
          "Ukraine/0",
          "United Arab Emirates/0",
          "United Kingdom/0",
          "United States/0",
          "Uruguay/0",
          "Viet Nam/0",
          "Afghanistan/1",
          "Armenia/1",
          "Aruba/1",
          "Australia/1",
          "Austria/1",
          "Belgium/1",
          "Bolivia/1",
          "Brazil/1",
          "Canada/1",
          "Cyprus/1",
          "Egypt/1",
          "Ethiopia/1",
          "France/1",
          "Hong Kong/1",
          "India/1",
          "Ireland/1",
          "Italy/1",
          "Japan/1",
          "Jordan/1",
          "Kazakhstan/1",
          "Malaysia/1",
          "Netherlands/1",
          "New Zealand/1",
          "Nicaragua/1",
          "Pakistan/1",
          "Romania/1",
          "Russia/1",
          "Spain/1",
          "Sri Lanka/1",
          "United Arab Emirates/1",
          "United Kingdom/1",
          "United States/1",
          "Afghanistan",
          "AmericanSamoa",
          "Angola",
          "Argentina",
          "Armenia",
          "Aruba",
          "Australia",
          "Austria",
          "Azerbaijan",
          "Bahamas",
          "Bangladesh",
          "Belgium",
          "Bolivia",
          "Brazil",
          "Canada",
          "China",
          "Costa Rica",
          "Cyprus",
          "Czech Republic",
          "Ecuador",
          "Egypt",
          "Ethiopia",
          "Finland",
          "France",
          "Germany",
          "Hong Kong",
          "Iceland",
          "India",
          "Indonesia",
          "Iran",
          "Iraq",
          "Ireland",
          "Italy",
          "Japan",
          "Jordan",
          "Kazakhstan",
          "Malaysia",
          "Mexico",
          "Netherlands",
          "New Zealand",
          "Nicaragua",
          "Niger",
          "Oman",
          "Pakistan",
          "Philippines",
          "Romania",
          "Russia",
          "Saudi Arabia",
          "Serbia",
          "Sierra Leone",
          "South Africa",
          "Spain",
          "Sri Lanka",
          "Sweden",
          "Tonga",
          "Ukraine",
          "United Arab Emirates",
          "United Kingdom",
          "United States",
          "Uruguay",
          "Viet Nam"
         ],
         "labels": [
          "0",
          "0",
          "0",
          "0",
          "0",
          "0",
          "0",
          "0",
          "0",
          "0",
          "0",
          "0",
          "0",
          "0",
          "0",
          "0",
          "0",
          "0",
          "0",
          "0",
          "0",
          "0",
          "0",
          "0",
          "0",
          "0",
          "0",
          "0",
          "0",
          "0",
          "0",
          "0",
          "0",
          "0",
          "0",
          "0",
          "0",
          "0",
          "0",
          "0",
          "0",
          "0",
          "0",
          "0",
          "0",
          "0",
          "0",
          "0",
          "0",
          "0",
          "0",
          "0",
          "0",
          "0",
          "0",
          "0",
          "0",
          "0",
          "0",
          "1",
          "1",
          "1",
          "1",
          "1",
          "1",
          "1",
          "1",
          "1",
          "1",
          "1",
          "1",
          "1",
          "1",
          "1",
          "1",
          "1",
          "1",
          "1",
          "1",
          "1",
          "1",
          "1",
          "1",
          "1",
          "1",
          "1",
          "1",
          "1",
          "1",
          "1",
          "1",
          "Afghanistan",
          "AmericanSamoa",
          "Angola",
          "Argentina",
          "Armenia",
          "Aruba",
          "Australia",
          "Austria",
          "Azerbaijan",
          "Bahamas",
          "Bangladesh",
          "Belgium",
          "Bolivia",
          "Brazil",
          "Canada",
          "China",
          "Costa Rica",
          "Cyprus",
          "Czech Republic",
          "Ecuador",
          "Egypt",
          "Ethiopia",
          "Finland",
          "France",
          "Germany",
          "Hong Kong",
          "Iceland",
          "India",
          "Indonesia",
          "Iran",
          "Iraq",
          "Ireland",
          "Italy",
          "Japan",
          "Jordan",
          "Kazakhstan",
          "Malaysia",
          "Mexico",
          "Netherlands",
          "New Zealand",
          "Nicaragua",
          "Niger",
          "Oman",
          "Pakistan",
          "Philippines",
          "Romania",
          "Russia",
          "Saudi Arabia",
          "Serbia",
          "Sierra Leone",
          "South Africa",
          "Spain",
          "Sri Lanka",
          "Sweden",
          "Tonga",
          "Ukraine",
          "United Arab Emirates",
          "United Kingdom",
          "United States",
          "Uruguay",
          "Viet Nam"
         ],
         "marker": {
          "coloraxis": "coloraxis",
          "colors": [
           0.0,
           0.0,
           0.0,
           0.0,
           0.0,
           0.0,
           0.0,
           0.0,
           0.0,
           0.0,
           0.0,
           0.0,
           0.0,
           0.0,
           0.0,
           0.0,
           0.0,
           0.0,
           0.0,
           0.0,
           0.0,
           0.0,
           0.0,
           0.0,
           0.0,
           0.0,
           0.0,
           0.0,
           0.0,
           0.0,
           0.0,
           0.0,
           0.0,
           0.0,
           0.0,
           0.0,
           0.0,
           0.0,
           0.0,
           0.0,
           0.0,
           0.0,
           0.0,
           0.0,
           0.0,
           0.0,
           0.0,
           0.0,
           0.0,
           0.0,
           0.0,
           0.0,
           0.0,
           0.0,
           0.0,
           0.0,
           0.0,
           0.0,
           0.0,
           1.0,
           1.0,
           1.0,
           1.0,
           1.0,
           1.0,
           1.0,
           1.0,
           1.0,
           1.0,
           1.0,
           1.0,
           1.0,
           1.0,
           1.0,
           1.0,
           1.0,
           1.0,
           1.0,
           1.0,
           1.0,
           1.0,
           1.0,
           1.0,
           1.0,
           1.0,
           1.0,
           1.0,
           1.0,
           1.0,
           1.0,
           1.0,
           0.08695652173913043,
           0.0,
           0.0,
           0.0,
           0.3333333333333333,
           0.3333333333333333,
           0.3953488372093023,
           0.25,
           0.0,
           0.0,
           0.0,
           0.3333333333333333,
           0.3333333333333333,
           0.1111111111111111,
           0.26666666666666666,
           0.0,
           0.0,
           1.0,
           0.0,
           0.0,
           0.2,
           0.3333333333333333,
           0.0,
           0.3333333333333333,
           0.0,
           1.0,
           0.0,
           0.10810810810810811,
           0.0,
           0.0,
           0.0,
           0.3333333333333333,
           0.18181818181818182,
           0.5,
           0.15,
           0.14285714285714285,
           0.4,
           0.0,
           0.2857142857142857,
           0.08602150537634409,
           0.25,
           0.0,
           0.0,
           0.5,
           0.0,
           0.3333333333333333,
           0.1111111111111111,
           0.0,
           0.0,
           0.0,
           0.0,
           0.2,
           0.1875,
           0.0,
           0.0,
           0.0,
           0.06382978723404255,
           0.41379310344827586,
           0.5,
           0.0,
           0.0
          ]
         },
         "name": "",
         "parents": [
          "Afghanistan",
          "AmericanSamoa",
          "Angola",
          "Argentina",
          "Armenia",
          "Aruba",
          "Australia",
          "Austria",
          "Azerbaijan",
          "Bahamas",
          "Bangladesh",
          "Belgium",
          "Bolivia",
          "Brazil",
          "Canada",
          "China",
          "Costa Rica",
          "Czech Republic",
          "Ecuador",
          "Egypt",
          "Ethiopia",
          "Finland",
          "France",
          "Germany",
          "Iceland",
          "India",
          "Indonesia",
          "Iran",
          "Iraq",
          "Ireland",
          "Italy",
          "Japan",
          "Jordan",
          "Kazakhstan",
          "Malaysia",
          "Mexico",
          "Netherlands",
          "New Zealand",
          "Nicaragua",
          "Niger",
          "Oman",
          "Pakistan",
          "Philippines",
          "Romania",
          "Russia",
          "Saudi Arabia",
          "Serbia",
          "Sierra Leone",
          "South Africa",
          "Spain",
          "Sri Lanka",
          "Sweden",
          "Tonga",
          "Ukraine",
          "United Arab Emirates",
          "United Kingdom",
          "United States",
          "Uruguay",
          "Viet Nam",
          "Afghanistan",
          "Armenia",
          "Aruba",
          "Australia",
          "Austria",
          "Belgium",
          "Bolivia",
          "Brazil",
          "Canada",
          "Cyprus",
          "Egypt",
          "Ethiopia",
          "France",
          "Hong Kong",
          "India",
          "Ireland",
          "Italy",
          "Japan",
          "Jordan",
          "Kazakhstan",
          "Malaysia",
          "Netherlands",
          "New Zealand",
          "Nicaragua",
          "Pakistan",
          "Romania",
          "Russia",
          "Spain",
          "Sri Lanka",
          "United Arab Emirates",
          "United Kingdom",
          "United States",
          "",
          "",
          "",
          "",
          "",
          "",
          "",
          "",
          "",
          "",
          "",
          "",
          "",
          "",
          "",
          "",
          "",
          "",
          "",
          "",
          "",
          "",
          "",
          "",
          "",
          "",
          "",
          "",
          "",
          "",
          "",
          "",
          "",
          "",
          "",
          "",
          "",
          "",
          "",
          "",
          "",
          "",
          "",
          "",
          "",
          "",
          "",
          "",
          "",
          "",
          "",
          "",
          "",
          "",
          "",
          "",
          "",
          "",
          "",
          "",
          ""
         ],
         "values": [
          21,
          2,
          2,
          2,
          4,
          2,
          26,
          9,
          2,
          3,
          1,
          2,
          2,
          8,
          11,
          2,
          4,
          3,
          1,
          4,
          2,
          1,
          8,
          3,
          2,
          66,
          1,
          5,
          1,
          2,
          9,
          1,
          34,
          6,
          3,
          6,
          10,
          85,
          3,
          1,
          1,
          1,
          6,
          2,
          8,
          4,
          2,
          1,
          5,
          4,
          13,
          1,
          1,
          3,
          88,
          34,
          74,
          1,
          6,
          2,
          2,
          1,
          17,
          3,
          1,
          1,
          1,
          4,
          1,
          1,
          1,
          4,
          1,
          8,
          1,
          2,
          1,
          6,
          1,
          2,
          4,
          8,
          1,
          1,
          1,
          1,
          1,
          3,
          6,
          24,
          74,
          23,
          2,
          2,
          2,
          6,
          3,
          43,
          12,
          2,
          3,
          1,
          3,
          3,
          9,
          15,
          2,
          4,
          1,
          3,
          1,
          5,
          3,
          1,
          12,
          3,
          1,
          2,
          74,
          1,
          5,
          1,
          3,
          11,
          2,
          40,
          7,
          5,
          6,
          14,
          93,
          4,
          1,
          1,
          2,
          6,
          3,
          9,
          4,
          2,
          1,
          5,
          5,
          16,
          1,
          1,
          3,
          94,
          58,
          148,
          1,
          6
         ],
         "type": "treemap"
        }
       ],
       "layout": {
        "template": {
         "data": {
          "barpolar": [
           {
            "marker": {
             "line": {
              "color": "white",
              "width": 0.5
             },
             "pattern": {
              "fillmode": "overlay",
              "size": 10,
              "solidity": 0.2
             }
            },
            "type": "barpolar"
           }
          ],
          "bar": [
           {
            "error_x": {
             "color": "rgb(36,36,36)"
            },
            "error_y": {
             "color": "rgb(36,36,36)"
            },
            "marker": {
             "line": {
              "color": "white",
              "width": 0.5
             },
             "pattern": {
              "fillmode": "overlay",
              "size": 10,
              "solidity": 0.2
             }
            },
            "type": "bar"
           }
          ],
          "carpet": [
           {
            "aaxis": {
             "endlinecolor": "rgb(36,36,36)",
             "gridcolor": "white",
             "linecolor": "white",
             "minorgridcolor": "white",
             "startlinecolor": "rgb(36,36,36)"
            },
            "baxis": {
             "endlinecolor": "rgb(36,36,36)",
             "gridcolor": "white",
             "linecolor": "white",
             "minorgridcolor": "white",
             "startlinecolor": "rgb(36,36,36)"
            },
            "type": "carpet"
           }
          ],
          "choropleth": [
           {
            "colorbar": {
             "outlinewidth": 1,
             "tickcolor": "rgb(36,36,36)",
             "ticks": "outside"
            },
            "type": "choropleth"
           }
          ],
          "contourcarpet": [
           {
            "colorbar": {
             "outlinewidth": 1,
             "tickcolor": "rgb(36,36,36)",
             "ticks": "outside"
            },
            "type": "contourcarpet"
           }
          ],
          "contour": [
           {
            "colorbar": {
             "outlinewidth": 1,
             "tickcolor": "rgb(36,36,36)",
             "ticks": "outside"
            },
            "colorscale": [
             [
              0.0,
              "#440154"
             ],
             [
              0.1111111111111111,
              "#482878"
             ],
             [
              0.2222222222222222,
              "#3e4989"
             ],
             [
              0.3333333333333333,
              "#31688e"
             ],
             [
              0.4444444444444444,
              "#26828e"
             ],
             [
              0.5555555555555556,
              "#1f9e89"
             ],
             [
              0.6666666666666666,
              "#35b779"
             ],
             [
              0.7777777777777778,
              "#6ece58"
             ],
             [
              0.8888888888888888,
              "#b5de2b"
             ],
             [
              1.0,
              "#fde725"
             ]
            ],
            "type": "contour"
           }
          ],
          "heatmapgl": [
           {
            "colorbar": {
             "outlinewidth": 1,
             "tickcolor": "rgb(36,36,36)",
             "ticks": "outside"
            },
            "colorscale": [
             [
              0.0,
              "#440154"
             ],
             [
              0.1111111111111111,
              "#482878"
             ],
             [
              0.2222222222222222,
              "#3e4989"
             ],
             [
              0.3333333333333333,
              "#31688e"
             ],
             [
              0.4444444444444444,
              "#26828e"
             ],
             [
              0.5555555555555556,
              "#1f9e89"
             ],
             [
              0.6666666666666666,
              "#35b779"
             ],
             [
              0.7777777777777778,
              "#6ece58"
             ],
             [
              0.8888888888888888,
              "#b5de2b"
             ],
             [
              1.0,
              "#fde725"
             ]
            ],
            "type": "heatmapgl"
           }
          ],
          "heatmap": [
           {
            "colorbar": {
             "outlinewidth": 1,
             "tickcolor": "rgb(36,36,36)",
             "ticks": "outside"
            },
            "colorscale": [
             [
              0.0,
              "#440154"
             ],
             [
              0.1111111111111111,
              "#482878"
             ],
             [
              0.2222222222222222,
              "#3e4989"
             ],
             [
              0.3333333333333333,
              "#31688e"
             ],
             [
              0.4444444444444444,
              "#26828e"
             ],
             [
              0.5555555555555556,
              "#1f9e89"
             ],
             [
              0.6666666666666666,
              "#35b779"
             ],
             [
              0.7777777777777778,
              "#6ece58"
             ],
             [
              0.8888888888888888,
              "#b5de2b"
             ],
             [
              1.0,
              "#fde725"
             ]
            ],
            "type": "heatmap"
           }
          ],
          "histogram2dcontour": [
           {
            "colorbar": {
             "outlinewidth": 1,
             "tickcolor": "rgb(36,36,36)",
             "ticks": "outside"
            },
            "colorscale": [
             [
              0.0,
              "#440154"
             ],
             [
              0.1111111111111111,
              "#482878"
             ],
             [
              0.2222222222222222,
              "#3e4989"
             ],
             [
              0.3333333333333333,
              "#31688e"
             ],
             [
              0.4444444444444444,
              "#26828e"
             ],
             [
              0.5555555555555556,
              "#1f9e89"
             ],
             [
              0.6666666666666666,
              "#35b779"
             ],
             [
              0.7777777777777778,
              "#6ece58"
             ],
             [
              0.8888888888888888,
              "#b5de2b"
             ],
             [
              1.0,
              "#fde725"
             ]
            ],
            "type": "histogram2dcontour"
           }
          ],
          "histogram2d": [
           {
            "colorbar": {
             "outlinewidth": 1,
             "tickcolor": "rgb(36,36,36)",
             "ticks": "outside"
            },
            "colorscale": [
             [
              0.0,
              "#440154"
             ],
             [
              0.1111111111111111,
              "#482878"
             ],
             [
              0.2222222222222222,
              "#3e4989"
             ],
             [
              0.3333333333333333,
              "#31688e"
             ],
             [
              0.4444444444444444,
              "#26828e"
             ],
             [
              0.5555555555555556,
              "#1f9e89"
             ],
             [
              0.6666666666666666,
              "#35b779"
             ],
             [
              0.7777777777777778,
              "#6ece58"
             ],
             [
              0.8888888888888888,
              "#b5de2b"
             ],
             [
              1.0,
              "#fde725"
             ]
            ],
            "type": "histogram2d"
           }
          ],
          "histogram": [
           {
            "marker": {
             "line": {
              "color": "white",
              "width": 0.6
             }
            },
            "type": "histogram"
           }
          ],
          "mesh3d": [
           {
            "colorbar": {
             "outlinewidth": 1,
             "tickcolor": "rgb(36,36,36)",
             "ticks": "outside"
            },
            "type": "mesh3d"
           }
          ],
          "parcoords": [
           {
            "line": {
             "colorbar": {
              "outlinewidth": 1,
              "tickcolor": "rgb(36,36,36)",
              "ticks": "outside"
             }
            },
            "type": "parcoords"
           }
          ],
          "pie": [
           {
            "automargin": true,
            "type": "pie"
           }
          ],
          "scatter3d": [
           {
            "line": {
             "colorbar": {
              "outlinewidth": 1,
              "tickcolor": "rgb(36,36,36)",
              "ticks": "outside"
             }
            },
            "marker": {
             "colorbar": {
              "outlinewidth": 1,
              "tickcolor": "rgb(36,36,36)",
              "ticks": "outside"
             }
            },
            "type": "scatter3d"
           }
          ],
          "scattercarpet": [
           {
            "marker": {
             "colorbar": {
              "outlinewidth": 1,
              "tickcolor": "rgb(36,36,36)",
              "ticks": "outside"
             }
            },
            "type": "scattercarpet"
           }
          ],
          "scattergeo": [
           {
            "marker": {
             "colorbar": {
              "outlinewidth": 1,
              "tickcolor": "rgb(36,36,36)",
              "ticks": "outside"
             }
            },
            "type": "scattergeo"
           }
          ],
          "scattergl": [
           {
            "marker": {
             "colorbar": {
              "outlinewidth": 1,
              "tickcolor": "rgb(36,36,36)",
              "ticks": "outside"
             }
            },
            "type": "scattergl"
           }
          ],
          "scattermapbox": [
           {
            "marker": {
             "colorbar": {
              "outlinewidth": 1,
              "tickcolor": "rgb(36,36,36)",
              "ticks": "outside"
             }
            },
            "type": "scattermapbox"
           }
          ],
          "scatterpolargl": [
           {
            "marker": {
             "colorbar": {
              "outlinewidth": 1,
              "tickcolor": "rgb(36,36,36)",
              "ticks": "outside"
             }
            },
            "type": "scatterpolargl"
           }
          ],
          "scatterpolar": [
           {
            "marker": {
             "colorbar": {
              "outlinewidth": 1,
              "tickcolor": "rgb(36,36,36)",
              "ticks": "outside"
             }
            },
            "type": "scatterpolar"
           }
          ],
          "scatter": [
           {
            "fillpattern": {
             "fillmode": "overlay",
             "size": 10,
             "solidity": 0.2
            },
            "type": "scatter"
           }
          ],
          "scatterternary": [
           {
            "marker": {
             "colorbar": {
              "outlinewidth": 1,
              "tickcolor": "rgb(36,36,36)",
              "ticks": "outside"
             }
            },
            "type": "scatterternary"
           }
          ],
          "surface": [
           {
            "colorbar": {
             "outlinewidth": 1,
             "tickcolor": "rgb(36,36,36)",
             "ticks": "outside"
            },
            "colorscale": [
             [
              0.0,
              "#440154"
             ],
             [
              0.1111111111111111,
              "#482878"
             ],
             [
              0.2222222222222222,
              "#3e4989"
             ],
             [
              0.3333333333333333,
              "#31688e"
             ],
             [
              0.4444444444444444,
              "#26828e"
             ],
             [
              0.5555555555555556,
              "#1f9e89"
             ],
             [
              0.6666666666666666,
              "#35b779"
             ],
             [
              0.7777777777777778,
              "#6ece58"
             ],
             [
              0.8888888888888888,
              "#b5de2b"
             ],
             [
              1.0,
              "#fde725"
             ]
            ],
            "type": "surface"
           }
          ],
          "table": [
           {
            "cells": {
             "fill": {
              "color": "rgb(237,237,237)"
             },
             "line": {
              "color": "white"
             }
            },
            "header": {
             "fill": {
              "color": "rgb(217,217,217)"
             },
             "line": {
              "color": "white"
             }
            },
            "type": "table"
           }
          ]
         },
         "layout": {
          "annotationdefaults": {
           "arrowhead": 0,
           "arrowwidth": 1
          },
          "autotypenumbers": "strict",
          "coloraxis": {
           "colorbar": {
            "outlinewidth": 1,
            "tickcolor": "rgb(36,36,36)",
            "ticks": "outside"
           }
          },
          "colorscale": {
           "diverging": [
            [
             0.0,
             "rgb(103,0,31)"
            ],
            [
             0.1,
             "rgb(178,24,43)"
            ],
            [
             0.2,
             "rgb(214,96,77)"
            ],
            [
             0.3,
             "rgb(244,165,130)"
            ],
            [
             0.4,
             "rgb(253,219,199)"
            ],
            [
             0.5,
             "rgb(247,247,247)"
            ],
            [
             0.6,
             "rgb(209,229,240)"
            ],
            [
             0.7,
             "rgb(146,197,222)"
            ],
            [
             0.8,
             "rgb(67,147,195)"
            ],
            [
             0.9,
             "rgb(33,102,172)"
            ],
            [
             1.0,
             "rgb(5,48,97)"
            ]
           ],
           "sequential": [
            [
             0.0,
             "#440154"
            ],
            [
             0.1111111111111111,
             "#482878"
            ],
            [
             0.2222222222222222,
             "#3e4989"
            ],
            [
             0.3333333333333333,
             "#31688e"
            ],
            [
             0.4444444444444444,
             "#26828e"
            ],
            [
             0.5555555555555556,
             "#1f9e89"
            ],
            [
             0.6666666666666666,
             "#35b779"
            ],
            [
             0.7777777777777778,
             "#6ece58"
            ],
            [
             0.8888888888888888,
             "#b5de2b"
            ],
            [
             1.0,
             "#fde725"
            ]
           ],
           "sequentialminus": [
            [
             0.0,
             "#440154"
            ],
            [
             0.1111111111111111,
             "#482878"
            ],
            [
             0.2222222222222222,
             "#3e4989"
            ],
            [
             0.3333333333333333,
             "#31688e"
            ],
            [
             0.4444444444444444,
             "#26828e"
            ],
            [
             0.5555555555555556,
             "#1f9e89"
            ],
            [
             0.6666666666666666,
             "#35b779"
            ],
            [
             0.7777777777777778,
             "#6ece58"
            ],
            [
             0.8888888888888888,
             "#b5de2b"
            ],
            [
             1.0,
             "#fde725"
            ]
           ]
          },
          "colorway": [
           "#1F77B4",
           "#FF7F0E",
           "#2CA02C",
           "#D62728",
           "#9467BD",
           "#8C564B",
           "#E377C2",
           "#7F7F7F",
           "#BCBD22",
           "#17BECF"
          ],
          "font": {
           "color": "rgb(36,36,36)"
          },
          "geo": {
           "bgcolor": "white",
           "lakecolor": "white",
           "landcolor": "white",
           "showlakes": true,
           "showland": true,
           "subunitcolor": "white"
          },
          "hoverlabel": {
           "align": "left"
          },
          "hovermode": "closest",
          "mapbox": {
           "style": "light"
          },
          "paper_bgcolor": "white",
          "plot_bgcolor": "white",
          "polar": {
           "angularaxis": {
            "gridcolor": "rgb(232,232,232)",
            "linecolor": "rgb(36,36,36)",
            "showgrid": false,
            "showline": true,
            "ticks": "outside"
           },
           "bgcolor": "white",
           "radialaxis": {
            "gridcolor": "rgb(232,232,232)",
            "linecolor": "rgb(36,36,36)",
            "showgrid": false,
            "showline": true,
            "ticks": "outside"
           }
          },
          "scene": {
           "xaxis": {
            "backgroundcolor": "white",
            "gridcolor": "rgb(232,232,232)",
            "gridwidth": 2,
            "linecolor": "rgb(36,36,36)",
            "showbackground": true,
            "showgrid": false,
            "showline": true,
            "ticks": "outside",
            "zeroline": false,
            "zerolinecolor": "rgb(36,36,36)"
           },
           "yaxis": {
            "backgroundcolor": "white",
            "gridcolor": "rgb(232,232,232)",
            "gridwidth": 2,
            "linecolor": "rgb(36,36,36)",
            "showbackground": true,
            "showgrid": false,
            "showline": true,
            "ticks": "outside",
            "zeroline": false,
            "zerolinecolor": "rgb(36,36,36)"
           },
           "zaxis": {
            "backgroundcolor": "white",
            "gridcolor": "rgb(232,232,232)",
            "gridwidth": 2,
            "linecolor": "rgb(36,36,36)",
            "showbackground": true,
            "showgrid": false,
            "showline": true,
            "ticks": "outside",
            "zeroline": false,
            "zerolinecolor": "rgb(36,36,36)"
           }
          },
          "shapedefaults": {
           "fillcolor": "black",
           "line": {
            "width": 0
           },
           "opacity": 0.3
          },
          "ternary": {
           "aaxis": {
            "gridcolor": "rgb(232,232,232)",
            "linecolor": "rgb(36,36,36)",
            "showgrid": false,
            "showline": true,
            "ticks": "outside"
           },
           "baxis": {
            "gridcolor": "rgb(232,232,232)",
            "linecolor": "rgb(36,36,36)",
            "showgrid": false,
            "showline": true,
            "ticks": "outside"
           },
           "bgcolor": "white",
           "caxis": {
            "gridcolor": "rgb(232,232,232)",
            "linecolor": "rgb(36,36,36)",
            "showgrid": false,
            "showline": true,
            "ticks": "outside"
           }
          },
          "title": {
           "x": 0.05
          },
          "xaxis": {
           "automargin": true,
           "gridcolor": "rgb(232,232,232)",
           "linecolor": "rgb(36,36,36)",
           "showgrid": false,
           "showline": true,
           "ticks": "outside",
           "title": {
            "standoff": 15
           },
           "zeroline": false,
           "zerolinecolor": "rgb(36,36,36)"
          },
          "yaxis": {
           "automargin": true,
           "gridcolor": "rgb(232,232,232)",
           "linecolor": "rgb(36,36,36)",
           "showgrid": false,
           "showline": true,
           "ticks": "outside",
           "title": {
            "standoff": 15
           },
           "zeroline": false,
           "zerolinecolor": "rgb(36,36,36)"
          }
         }
        },
        "coloraxis": {
         "colorbar": {
          "title": {
           "text": "Class/ASD"
          }
         },
         "colorscale": [
          [
           0.0,
           "rgb(209, 238, 234)"
          ],
          [
           0.16666666666666666,
           "rgb(168, 219, 217)"
          ],
          [
           0.3333333333333333,
           "rgb(133, 196, 201)"
          ],
          [
           0.5,
           "rgb(104, 171, 184)"
          ],
          [
           0.6666666666666666,
           "rgb(79, 144, 166)"
          ],
          [
           0.8333333333333334,
           "rgb(59, 115, 143)"
          ],
          [
           1.0,
           "rgb(42, 86, 116)"
          ]
         ]
        },
        "legend": {
         "tracegroupgap": 0
        },
        "margin": {
         "t": 50,
         "l": 50,
         "r": 50,
         "b": 100
        },
        "title": {
         "font": {
          "size": 20,
          "family": "San Serif"
         }
        },
        "height": 500,
        "width": 1000,
        "autosize": false
       },
       "config": {
        "plotlyServerURL": "https://plot.ly"
       }
      },
      "text/html": [
       "<div>                            <div id=\"ca1eb5ce-6572-4e19-a9f1-813c973aab73\" class=\"plotly-graph-div\" style=\"height:500px; width:1000px;\"></div>            <script type=\"text/javascript\">                require([\"plotly\"], function(Plotly) {                    window.PLOTLYENV=window.PLOTLYENV || {};                                    if (document.getElementById(\"ca1eb5ce-6572-4e19-a9f1-813c973aab73\")) {                    Plotly.newPlot(                        \"ca1eb5ce-6572-4e19-a9f1-813c973aab73\",                        [{\"branchvalues\":\"total\",\"customdata\":[[0.0],[0.0],[0.0],[0.0],[0.0],[0.0],[0.0],[0.0],[0.0],[0.0],[0.0],[0.0],[0.0],[0.0],[0.0],[0.0],[0.0],[0.0],[0.0],[0.0],[0.0],[0.0],[0.0],[0.0],[0.0],[0.0],[0.0],[0.0],[0.0],[0.0],[0.0],[0.0],[0.0],[0.0],[0.0],[0.0],[0.0],[0.0],[0.0],[0.0],[0.0],[0.0],[0.0],[0.0],[0.0],[0.0],[0.0],[0.0],[0.0],[0.0],[0.0],[0.0],[0.0],[0.0],[0.0],[0.0],[0.0],[0.0],[0.0],[1.0],[1.0],[1.0],[1.0],[1.0],[1.0],[1.0],[1.0],[1.0],[1.0],[1.0],[1.0],[1.0],[1.0],[1.0],[1.0],[1.0],[1.0],[1.0],[1.0],[1.0],[1.0],[1.0],[1.0],[1.0],[1.0],[1.0],[1.0],[1.0],[1.0],[1.0],[1.0],[0.08695652173913043],[0.0],[0.0],[0.0],[0.3333333333333333],[0.3333333333333333],[0.3953488372093023],[0.25],[0.0],[0.0],[0.0],[0.3333333333333333],[0.3333333333333333],[0.1111111111111111],[0.26666666666666666],[0.0],[0.0],[1.0],[0.0],[0.0],[0.2],[0.3333333333333333],[0.0],[0.3333333333333333],[0.0],[1.0],[0.0],[0.10810810810810811],[0.0],[0.0],[0.0],[0.3333333333333333],[0.18181818181818182],[0.5],[0.15],[0.14285714285714285],[0.4],[0.0],[0.2857142857142857],[0.08602150537634409],[0.25],[0.0],[0.0],[0.5],[0.0],[0.3333333333333333],[0.1111111111111111],[0.0],[0.0],[0.0],[0.0],[0.2],[0.1875],[0.0],[0.0],[0.0],[0.06382978723404255],[0.41379310344827586],[0.5],[0.0],[0.0]],\"domain\":{\"x\":[0.0,1.0],\"y\":[0.0,1.0]},\"hovertemplate\":\"labels=%{label}<br>count=%{value}<br>parent=%{parent}<br>id=%{id}<br>Class/ASD=%{color}<extra></extra>\",\"ids\":[\"Afghanistan/0\",\"AmericanSamoa/0\",\"Angola/0\",\"Argentina/0\",\"Armenia/0\",\"Aruba/0\",\"Australia/0\",\"Austria/0\",\"Azerbaijan/0\",\"Bahamas/0\",\"Bangladesh/0\",\"Belgium/0\",\"Bolivia/0\",\"Brazil/0\",\"Canada/0\",\"China/0\",\"Costa Rica/0\",\"Czech Republic/0\",\"Ecuador/0\",\"Egypt/0\",\"Ethiopia/0\",\"Finland/0\",\"France/0\",\"Germany/0\",\"Iceland/0\",\"India/0\",\"Indonesia/0\",\"Iran/0\",\"Iraq/0\",\"Ireland/0\",\"Italy/0\",\"Japan/0\",\"Jordan/0\",\"Kazakhstan/0\",\"Malaysia/0\",\"Mexico/0\",\"Netherlands/0\",\"New Zealand/0\",\"Nicaragua/0\",\"Niger/0\",\"Oman/0\",\"Pakistan/0\",\"Philippines/0\",\"Romania/0\",\"Russia/0\",\"Saudi Arabia/0\",\"Serbia/0\",\"Sierra Leone/0\",\"South Africa/0\",\"Spain/0\",\"Sri Lanka/0\",\"Sweden/0\",\"Tonga/0\",\"Ukraine/0\",\"United Arab Emirates/0\",\"United Kingdom/0\",\"United States/0\",\"Uruguay/0\",\"Viet Nam/0\",\"Afghanistan/1\",\"Armenia/1\",\"Aruba/1\",\"Australia/1\",\"Austria/1\",\"Belgium/1\",\"Bolivia/1\",\"Brazil/1\",\"Canada/1\",\"Cyprus/1\",\"Egypt/1\",\"Ethiopia/1\",\"France/1\",\"Hong Kong/1\",\"India/1\",\"Ireland/1\",\"Italy/1\",\"Japan/1\",\"Jordan/1\",\"Kazakhstan/1\",\"Malaysia/1\",\"Netherlands/1\",\"New Zealand/1\",\"Nicaragua/1\",\"Pakistan/1\",\"Romania/1\",\"Russia/1\",\"Spain/1\",\"Sri Lanka/1\",\"United Arab Emirates/1\",\"United Kingdom/1\",\"United States/1\",\"Afghanistan\",\"AmericanSamoa\",\"Angola\",\"Argentina\",\"Armenia\",\"Aruba\",\"Australia\",\"Austria\",\"Azerbaijan\",\"Bahamas\",\"Bangladesh\",\"Belgium\",\"Bolivia\",\"Brazil\",\"Canada\",\"China\",\"Costa Rica\",\"Cyprus\",\"Czech Republic\",\"Ecuador\",\"Egypt\",\"Ethiopia\",\"Finland\",\"France\",\"Germany\",\"Hong Kong\",\"Iceland\",\"India\",\"Indonesia\",\"Iran\",\"Iraq\",\"Ireland\",\"Italy\",\"Japan\",\"Jordan\",\"Kazakhstan\",\"Malaysia\",\"Mexico\",\"Netherlands\",\"New Zealand\",\"Nicaragua\",\"Niger\",\"Oman\",\"Pakistan\",\"Philippines\",\"Romania\",\"Russia\",\"Saudi Arabia\",\"Serbia\",\"Sierra Leone\",\"South Africa\",\"Spain\",\"Sri Lanka\",\"Sweden\",\"Tonga\",\"Ukraine\",\"United Arab Emirates\",\"United Kingdom\",\"United States\",\"Uruguay\",\"Viet Nam\"],\"labels\":[\"0\",\"0\",\"0\",\"0\",\"0\",\"0\",\"0\",\"0\",\"0\",\"0\",\"0\",\"0\",\"0\",\"0\",\"0\",\"0\",\"0\",\"0\",\"0\",\"0\",\"0\",\"0\",\"0\",\"0\",\"0\",\"0\",\"0\",\"0\",\"0\",\"0\",\"0\",\"0\",\"0\",\"0\",\"0\",\"0\",\"0\",\"0\",\"0\",\"0\",\"0\",\"0\",\"0\",\"0\",\"0\",\"0\",\"0\",\"0\",\"0\",\"0\",\"0\",\"0\",\"0\",\"0\",\"0\",\"0\",\"0\",\"0\",\"0\",\"1\",\"1\",\"1\",\"1\",\"1\",\"1\",\"1\",\"1\",\"1\",\"1\",\"1\",\"1\",\"1\",\"1\",\"1\",\"1\",\"1\",\"1\",\"1\",\"1\",\"1\",\"1\",\"1\",\"1\",\"1\",\"1\",\"1\",\"1\",\"1\",\"1\",\"1\",\"1\",\"Afghanistan\",\"AmericanSamoa\",\"Angola\",\"Argentina\",\"Armenia\",\"Aruba\",\"Australia\",\"Austria\",\"Azerbaijan\",\"Bahamas\",\"Bangladesh\",\"Belgium\",\"Bolivia\",\"Brazil\",\"Canada\",\"China\",\"Costa Rica\",\"Cyprus\",\"Czech Republic\",\"Ecuador\",\"Egypt\",\"Ethiopia\",\"Finland\",\"France\",\"Germany\",\"Hong Kong\",\"Iceland\",\"India\",\"Indonesia\",\"Iran\",\"Iraq\",\"Ireland\",\"Italy\",\"Japan\",\"Jordan\",\"Kazakhstan\",\"Malaysia\",\"Mexico\",\"Netherlands\",\"New Zealand\",\"Nicaragua\",\"Niger\",\"Oman\",\"Pakistan\",\"Philippines\",\"Romania\",\"Russia\",\"Saudi Arabia\",\"Serbia\",\"Sierra Leone\",\"South Africa\",\"Spain\",\"Sri Lanka\",\"Sweden\",\"Tonga\",\"Ukraine\",\"United Arab Emirates\",\"United Kingdom\",\"United States\",\"Uruguay\",\"Viet Nam\"],\"marker\":{\"coloraxis\":\"coloraxis\",\"colors\":[0.0,0.0,0.0,0.0,0.0,0.0,0.0,0.0,0.0,0.0,0.0,0.0,0.0,0.0,0.0,0.0,0.0,0.0,0.0,0.0,0.0,0.0,0.0,0.0,0.0,0.0,0.0,0.0,0.0,0.0,0.0,0.0,0.0,0.0,0.0,0.0,0.0,0.0,0.0,0.0,0.0,0.0,0.0,0.0,0.0,0.0,0.0,0.0,0.0,0.0,0.0,0.0,0.0,0.0,0.0,0.0,0.0,0.0,0.0,1.0,1.0,1.0,1.0,1.0,1.0,1.0,1.0,1.0,1.0,1.0,1.0,1.0,1.0,1.0,1.0,1.0,1.0,1.0,1.0,1.0,1.0,1.0,1.0,1.0,1.0,1.0,1.0,1.0,1.0,1.0,1.0,0.08695652173913043,0.0,0.0,0.0,0.3333333333333333,0.3333333333333333,0.3953488372093023,0.25,0.0,0.0,0.0,0.3333333333333333,0.3333333333333333,0.1111111111111111,0.26666666666666666,0.0,0.0,1.0,0.0,0.0,0.2,0.3333333333333333,0.0,0.3333333333333333,0.0,1.0,0.0,0.10810810810810811,0.0,0.0,0.0,0.3333333333333333,0.18181818181818182,0.5,0.15,0.14285714285714285,0.4,0.0,0.2857142857142857,0.08602150537634409,0.25,0.0,0.0,0.5,0.0,0.3333333333333333,0.1111111111111111,0.0,0.0,0.0,0.0,0.2,0.1875,0.0,0.0,0.0,0.06382978723404255,0.41379310344827586,0.5,0.0,0.0]},\"name\":\"\",\"parents\":[\"Afghanistan\",\"AmericanSamoa\",\"Angola\",\"Argentina\",\"Armenia\",\"Aruba\",\"Australia\",\"Austria\",\"Azerbaijan\",\"Bahamas\",\"Bangladesh\",\"Belgium\",\"Bolivia\",\"Brazil\",\"Canada\",\"China\",\"Costa Rica\",\"Czech Republic\",\"Ecuador\",\"Egypt\",\"Ethiopia\",\"Finland\",\"France\",\"Germany\",\"Iceland\",\"India\",\"Indonesia\",\"Iran\",\"Iraq\",\"Ireland\",\"Italy\",\"Japan\",\"Jordan\",\"Kazakhstan\",\"Malaysia\",\"Mexico\",\"Netherlands\",\"New Zealand\",\"Nicaragua\",\"Niger\",\"Oman\",\"Pakistan\",\"Philippines\",\"Romania\",\"Russia\",\"Saudi Arabia\",\"Serbia\",\"Sierra Leone\",\"South Africa\",\"Spain\",\"Sri Lanka\",\"Sweden\",\"Tonga\",\"Ukraine\",\"United Arab Emirates\",\"United Kingdom\",\"United States\",\"Uruguay\",\"Viet Nam\",\"Afghanistan\",\"Armenia\",\"Aruba\",\"Australia\",\"Austria\",\"Belgium\",\"Bolivia\",\"Brazil\",\"Canada\",\"Cyprus\",\"Egypt\",\"Ethiopia\",\"France\",\"Hong Kong\",\"India\",\"Ireland\",\"Italy\",\"Japan\",\"Jordan\",\"Kazakhstan\",\"Malaysia\",\"Netherlands\",\"New Zealand\",\"Nicaragua\",\"Pakistan\",\"Romania\",\"Russia\",\"Spain\",\"Sri Lanka\",\"United Arab Emirates\",\"United Kingdom\",\"United States\",\"\",\"\",\"\",\"\",\"\",\"\",\"\",\"\",\"\",\"\",\"\",\"\",\"\",\"\",\"\",\"\",\"\",\"\",\"\",\"\",\"\",\"\",\"\",\"\",\"\",\"\",\"\",\"\",\"\",\"\",\"\",\"\",\"\",\"\",\"\",\"\",\"\",\"\",\"\",\"\",\"\",\"\",\"\",\"\",\"\",\"\",\"\",\"\",\"\",\"\",\"\",\"\",\"\",\"\",\"\",\"\",\"\",\"\",\"\",\"\",\"\"],\"values\":[21,2,2,2,4,2,26,9,2,3,1,2,2,8,11,2,4,3,1,4,2,1,8,3,2,66,1,5,1,2,9,1,34,6,3,6,10,85,3,1,1,1,6,2,8,4,2,1,5,4,13,1,1,3,88,34,74,1,6,2,2,1,17,3,1,1,1,4,1,1,1,4,1,8,1,2,1,6,1,2,4,8,1,1,1,1,1,3,6,24,74,23,2,2,2,6,3,43,12,2,3,1,3,3,9,15,2,4,1,3,1,5,3,1,12,3,1,2,74,1,5,1,3,11,2,40,7,5,6,14,93,4,1,1,2,6,3,9,4,2,1,5,5,16,1,1,3,94,58,148,1,6],\"type\":\"treemap\"}],                        {\"template\":{\"data\":{\"barpolar\":[{\"marker\":{\"line\":{\"color\":\"white\",\"width\":0.5},\"pattern\":{\"fillmode\":\"overlay\",\"size\":10,\"solidity\":0.2}},\"type\":\"barpolar\"}],\"bar\":[{\"error_x\":{\"color\":\"rgb(36,36,36)\"},\"error_y\":{\"color\":\"rgb(36,36,36)\"},\"marker\":{\"line\":{\"color\":\"white\",\"width\":0.5},\"pattern\":{\"fillmode\":\"overlay\",\"size\":10,\"solidity\":0.2}},\"type\":\"bar\"}],\"carpet\":[{\"aaxis\":{\"endlinecolor\":\"rgb(36,36,36)\",\"gridcolor\":\"white\",\"linecolor\":\"white\",\"minorgridcolor\":\"white\",\"startlinecolor\":\"rgb(36,36,36)\"},\"baxis\":{\"endlinecolor\":\"rgb(36,36,36)\",\"gridcolor\":\"white\",\"linecolor\":\"white\",\"minorgridcolor\":\"white\",\"startlinecolor\":\"rgb(36,36,36)\"},\"type\":\"carpet\"}],\"choropleth\":[{\"colorbar\":{\"outlinewidth\":1,\"tickcolor\":\"rgb(36,36,36)\",\"ticks\":\"outside\"},\"type\":\"choropleth\"}],\"contourcarpet\":[{\"colorbar\":{\"outlinewidth\":1,\"tickcolor\":\"rgb(36,36,36)\",\"ticks\":\"outside\"},\"type\":\"contourcarpet\"}],\"contour\":[{\"colorbar\":{\"outlinewidth\":1,\"tickcolor\":\"rgb(36,36,36)\",\"ticks\":\"outside\"},\"colorscale\":[[0.0,\"#440154\"],[0.1111111111111111,\"#482878\"],[0.2222222222222222,\"#3e4989\"],[0.3333333333333333,\"#31688e\"],[0.4444444444444444,\"#26828e\"],[0.5555555555555556,\"#1f9e89\"],[0.6666666666666666,\"#35b779\"],[0.7777777777777778,\"#6ece58\"],[0.8888888888888888,\"#b5de2b\"],[1.0,\"#fde725\"]],\"type\":\"contour\"}],\"heatmapgl\":[{\"colorbar\":{\"outlinewidth\":1,\"tickcolor\":\"rgb(36,36,36)\",\"ticks\":\"outside\"},\"colorscale\":[[0.0,\"#440154\"],[0.1111111111111111,\"#482878\"],[0.2222222222222222,\"#3e4989\"],[0.3333333333333333,\"#31688e\"],[0.4444444444444444,\"#26828e\"],[0.5555555555555556,\"#1f9e89\"],[0.6666666666666666,\"#35b779\"],[0.7777777777777778,\"#6ece58\"],[0.8888888888888888,\"#b5de2b\"],[1.0,\"#fde725\"]],\"type\":\"heatmapgl\"}],\"heatmap\":[{\"colorbar\":{\"outlinewidth\":1,\"tickcolor\":\"rgb(36,36,36)\",\"ticks\":\"outside\"},\"colorscale\":[[0.0,\"#440154\"],[0.1111111111111111,\"#482878\"],[0.2222222222222222,\"#3e4989\"],[0.3333333333333333,\"#31688e\"],[0.4444444444444444,\"#26828e\"],[0.5555555555555556,\"#1f9e89\"],[0.6666666666666666,\"#35b779\"],[0.7777777777777778,\"#6ece58\"],[0.8888888888888888,\"#b5de2b\"],[1.0,\"#fde725\"]],\"type\":\"heatmap\"}],\"histogram2dcontour\":[{\"colorbar\":{\"outlinewidth\":1,\"tickcolor\":\"rgb(36,36,36)\",\"ticks\":\"outside\"},\"colorscale\":[[0.0,\"#440154\"],[0.1111111111111111,\"#482878\"],[0.2222222222222222,\"#3e4989\"],[0.3333333333333333,\"#31688e\"],[0.4444444444444444,\"#26828e\"],[0.5555555555555556,\"#1f9e89\"],[0.6666666666666666,\"#35b779\"],[0.7777777777777778,\"#6ece58\"],[0.8888888888888888,\"#b5de2b\"],[1.0,\"#fde725\"]],\"type\":\"histogram2dcontour\"}],\"histogram2d\":[{\"colorbar\":{\"outlinewidth\":1,\"tickcolor\":\"rgb(36,36,36)\",\"ticks\":\"outside\"},\"colorscale\":[[0.0,\"#440154\"],[0.1111111111111111,\"#482878\"],[0.2222222222222222,\"#3e4989\"],[0.3333333333333333,\"#31688e\"],[0.4444444444444444,\"#26828e\"],[0.5555555555555556,\"#1f9e89\"],[0.6666666666666666,\"#35b779\"],[0.7777777777777778,\"#6ece58\"],[0.8888888888888888,\"#b5de2b\"],[1.0,\"#fde725\"]],\"type\":\"histogram2d\"}],\"histogram\":[{\"marker\":{\"line\":{\"color\":\"white\",\"width\":0.6}},\"type\":\"histogram\"}],\"mesh3d\":[{\"colorbar\":{\"outlinewidth\":1,\"tickcolor\":\"rgb(36,36,36)\",\"ticks\":\"outside\"},\"type\":\"mesh3d\"}],\"parcoords\":[{\"line\":{\"colorbar\":{\"outlinewidth\":1,\"tickcolor\":\"rgb(36,36,36)\",\"ticks\":\"outside\"}},\"type\":\"parcoords\"}],\"pie\":[{\"automargin\":true,\"type\":\"pie\"}],\"scatter3d\":[{\"line\":{\"colorbar\":{\"outlinewidth\":1,\"tickcolor\":\"rgb(36,36,36)\",\"ticks\":\"outside\"}},\"marker\":{\"colorbar\":{\"outlinewidth\":1,\"tickcolor\":\"rgb(36,36,36)\",\"ticks\":\"outside\"}},\"type\":\"scatter3d\"}],\"scattercarpet\":[{\"marker\":{\"colorbar\":{\"outlinewidth\":1,\"tickcolor\":\"rgb(36,36,36)\",\"ticks\":\"outside\"}},\"type\":\"scattercarpet\"}],\"scattergeo\":[{\"marker\":{\"colorbar\":{\"outlinewidth\":1,\"tickcolor\":\"rgb(36,36,36)\",\"ticks\":\"outside\"}},\"type\":\"scattergeo\"}],\"scattergl\":[{\"marker\":{\"colorbar\":{\"outlinewidth\":1,\"tickcolor\":\"rgb(36,36,36)\",\"ticks\":\"outside\"}},\"type\":\"scattergl\"}],\"scattermapbox\":[{\"marker\":{\"colorbar\":{\"outlinewidth\":1,\"tickcolor\":\"rgb(36,36,36)\",\"ticks\":\"outside\"}},\"type\":\"scattermapbox\"}],\"scatterpolargl\":[{\"marker\":{\"colorbar\":{\"outlinewidth\":1,\"tickcolor\":\"rgb(36,36,36)\",\"ticks\":\"outside\"}},\"type\":\"scatterpolargl\"}],\"scatterpolar\":[{\"marker\":{\"colorbar\":{\"outlinewidth\":1,\"tickcolor\":\"rgb(36,36,36)\",\"ticks\":\"outside\"}},\"type\":\"scatterpolar\"}],\"scatter\":[{\"fillpattern\":{\"fillmode\":\"overlay\",\"size\":10,\"solidity\":0.2},\"type\":\"scatter\"}],\"scatterternary\":[{\"marker\":{\"colorbar\":{\"outlinewidth\":1,\"tickcolor\":\"rgb(36,36,36)\",\"ticks\":\"outside\"}},\"type\":\"scatterternary\"}],\"surface\":[{\"colorbar\":{\"outlinewidth\":1,\"tickcolor\":\"rgb(36,36,36)\",\"ticks\":\"outside\"},\"colorscale\":[[0.0,\"#440154\"],[0.1111111111111111,\"#482878\"],[0.2222222222222222,\"#3e4989\"],[0.3333333333333333,\"#31688e\"],[0.4444444444444444,\"#26828e\"],[0.5555555555555556,\"#1f9e89\"],[0.6666666666666666,\"#35b779\"],[0.7777777777777778,\"#6ece58\"],[0.8888888888888888,\"#b5de2b\"],[1.0,\"#fde725\"]],\"type\":\"surface\"}],\"table\":[{\"cells\":{\"fill\":{\"color\":\"rgb(237,237,237)\"},\"line\":{\"color\":\"white\"}},\"header\":{\"fill\":{\"color\":\"rgb(217,217,217)\"},\"line\":{\"color\":\"white\"}},\"type\":\"table\"}]},\"layout\":{\"annotationdefaults\":{\"arrowhead\":0,\"arrowwidth\":1},\"autotypenumbers\":\"strict\",\"coloraxis\":{\"colorbar\":{\"outlinewidth\":1,\"tickcolor\":\"rgb(36,36,36)\",\"ticks\":\"outside\"}},\"colorscale\":{\"diverging\":[[0.0,\"rgb(103,0,31)\"],[0.1,\"rgb(178,24,43)\"],[0.2,\"rgb(214,96,77)\"],[0.3,\"rgb(244,165,130)\"],[0.4,\"rgb(253,219,199)\"],[0.5,\"rgb(247,247,247)\"],[0.6,\"rgb(209,229,240)\"],[0.7,\"rgb(146,197,222)\"],[0.8,\"rgb(67,147,195)\"],[0.9,\"rgb(33,102,172)\"],[1.0,\"rgb(5,48,97)\"]],\"sequential\":[[0.0,\"#440154\"],[0.1111111111111111,\"#482878\"],[0.2222222222222222,\"#3e4989\"],[0.3333333333333333,\"#31688e\"],[0.4444444444444444,\"#26828e\"],[0.5555555555555556,\"#1f9e89\"],[0.6666666666666666,\"#35b779\"],[0.7777777777777778,\"#6ece58\"],[0.8888888888888888,\"#b5de2b\"],[1.0,\"#fde725\"]],\"sequentialminus\":[[0.0,\"#440154\"],[0.1111111111111111,\"#482878\"],[0.2222222222222222,\"#3e4989\"],[0.3333333333333333,\"#31688e\"],[0.4444444444444444,\"#26828e\"],[0.5555555555555556,\"#1f9e89\"],[0.6666666666666666,\"#35b779\"],[0.7777777777777778,\"#6ece58\"],[0.8888888888888888,\"#b5de2b\"],[1.0,\"#fde725\"]]},\"colorway\":[\"#1F77B4\",\"#FF7F0E\",\"#2CA02C\",\"#D62728\",\"#9467BD\",\"#8C564B\",\"#E377C2\",\"#7F7F7F\",\"#BCBD22\",\"#17BECF\"],\"font\":{\"color\":\"rgb(36,36,36)\"},\"geo\":{\"bgcolor\":\"white\",\"lakecolor\":\"white\",\"landcolor\":\"white\",\"showlakes\":true,\"showland\":true,\"subunitcolor\":\"white\"},\"hoverlabel\":{\"align\":\"left\"},\"hovermode\":\"closest\",\"mapbox\":{\"style\":\"light\"},\"paper_bgcolor\":\"white\",\"plot_bgcolor\":\"white\",\"polar\":{\"angularaxis\":{\"gridcolor\":\"rgb(232,232,232)\",\"linecolor\":\"rgb(36,36,36)\",\"showgrid\":false,\"showline\":true,\"ticks\":\"outside\"},\"bgcolor\":\"white\",\"radialaxis\":{\"gridcolor\":\"rgb(232,232,232)\",\"linecolor\":\"rgb(36,36,36)\",\"showgrid\":false,\"showline\":true,\"ticks\":\"outside\"}},\"scene\":{\"xaxis\":{\"backgroundcolor\":\"white\",\"gridcolor\":\"rgb(232,232,232)\",\"gridwidth\":2,\"linecolor\":\"rgb(36,36,36)\",\"showbackground\":true,\"showgrid\":false,\"showline\":true,\"ticks\":\"outside\",\"zeroline\":false,\"zerolinecolor\":\"rgb(36,36,36)\"},\"yaxis\":{\"backgroundcolor\":\"white\",\"gridcolor\":\"rgb(232,232,232)\",\"gridwidth\":2,\"linecolor\":\"rgb(36,36,36)\",\"showbackground\":true,\"showgrid\":false,\"showline\":true,\"ticks\":\"outside\",\"zeroline\":false,\"zerolinecolor\":\"rgb(36,36,36)\"},\"zaxis\":{\"backgroundcolor\":\"white\",\"gridcolor\":\"rgb(232,232,232)\",\"gridwidth\":2,\"linecolor\":\"rgb(36,36,36)\",\"showbackground\":true,\"showgrid\":false,\"showline\":true,\"ticks\":\"outside\",\"zeroline\":false,\"zerolinecolor\":\"rgb(36,36,36)\"}},\"shapedefaults\":{\"fillcolor\":\"black\",\"line\":{\"width\":0},\"opacity\":0.3},\"ternary\":{\"aaxis\":{\"gridcolor\":\"rgb(232,232,232)\",\"linecolor\":\"rgb(36,36,36)\",\"showgrid\":false,\"showline\":true,\"ticks\":\"outside\"},\"baxis\":{\"gridcolor\":\"rgb(232,232,232)\",\"linecolor\":\"rgb(36,36,36)\",\"showgrid\":false,\"showline\":true,\"ticks\":\"outside\"},\"bgcolor\":\"white\",\"caxis\":{\"gridcolor\":\"rgb(232,232,232)\",\"linecolor\":\"rgb(36,36,36)\",\"showgrid\":false,\"showline\":true,\"ticks\":\"outside\"}},\"title\":{\"x\":0.05},\"xaxis\":{\"automargin\":true,\"gridcolor\":\"rgb(232,232,232)\",\"linecolor\":\"rgb(36,36,36)\",\"showgrid\":false,\"showline\":true,\"ticks\":\"outside\",\"title\":{\"standoff\":15},\"zeroline\":false,\"zerolinecolor\":\"rgb(36,36,36)\"},\"yaxis\":{\"automargin\":true,\"gridcolor\":\"rgb(232,232,232)\",\"linecolor\":\"rgb(36,36,36)\",\"showgrid\":false,\"showline\":true,\"ticks\":\"outside\",\"title\":{\"standoff\":15},\"zeroline\":false,\"zerolinecolor\":\"rgb(36,36,36)\"}}},\"coloraxis\":{\"colorbar\":{\"title\":{\"text\":\"Class/ASD\"}},\"colorscale\":[[0.0,\"rgb(209, 238, 234)\"],[0.16666666666666666,\"rgb(168, 219, 217)\"],[0.3333333333333333,\"rgb(133, 196, 201)\"],[0.5,\"rgb(104, 171, 184)\"],[0.6666666666666666,\"rgb(79, 144, 166)\"],[0.8333333333333334,\"rgb(59, 115, 143)\"],[1.0,\"rgb(42, 86, 116)\"]]},\"legend\":{\"tracegroupgap\":0},\"margin\":{\"t\":50,\"l\":50,\"r\":50,\"b\":100},\"title\":{\"font\":{\"size\":20,\"family\":\"San Serif\"}},\"height\":500,\"width\":1000,\"autosize\":false},                        {\"responsive\": true}                    ).then(function(){\n",
       "                            \n",
       "var gd = document.getElementById('ca1eb5ce-6572-4e19-a9f1-813c973aab73');\n",
       "var x = new MutationObserver(function (mutations, observer) {{\n",
       "        var display = window.getComputedStyle(gd).display;\n",
       "        if (!display || display === 'none') {{\n",
       "            console.log([gd, 'removed!']);\n",
       "            Plotly.purge(gd);\n",
       "            observer.disconnect();\n",
       "        }}\n",
       "}});\n",
       "\n",
       "// Listen for the removal of the full notebook cells\n",
       "var notebookContainer = gd.closest('#notebook-container');\n",
       "if (notebookContainer) {{\n",
       "    x.observe(notebookContainer, {childList: true});\n",
       "}}\n",
       "\n",
       "// Listen for the clearing of the current output cell\n",
       "var outputEl = gd.closest('.output');\n",
       "if (outputEl) {{\n",
       "    x.observe(outputEl, {childList: true});\n",
       "}}\n",
       "\n",
       "                        })                };                });            </script>        </div>"
      ]
     },
     "metadata": {},
     "output_type": "display_data"
    }
   ],
   "execution_count": 45
  },
  {
   "metadata": {},
   "cell_type": "markdown",
   "source": [
    "### Önceden test yapılıp yapılmadığı hakkında\n",
    "- 800 hastanın sadece 35'i önceki tarama testlerine girmiştir.\n",
    "- Bu 35 hastadan 7'si ASD pozitif çıkmıştır."
   ],
   "id": "16be865fce27e1ff"
  },
  {
   "metadata": {
    "ExecuteTime": {
     "end_time": "2024-05-30T18:51:42.549301Z",
     "start_time": "2024-05-30T18:51:42.507961Z"
    }
   },
   "cell_type": "code",
   "source": [
    "fig = go.Figure()\n",
    "\n",
    "fig.add_trace(go.Histogram(x=ASD_pos['used_app_before'],histnorm='',\n",
    "                           name='ASD_pos', marker_color = 'purple'),\n",
    "              )\n",
    "fig.add_trace(go.Histogram(x=ASD_neg['used_app_before'],histnorm='',\n",
    "                           name='ASD_neg', marker_color = 'salmon', opacity=0.85),\n",
    "              )\n",
    "fig.update_layout(barmode='group')\n",
    "fig.update_layout(title=\"Whether the patient has undergone a screening test before\",\n",
    "                  font_family=\"San Serif\",\n",
    "                  titlefont={'size': 20},\n",
    "                  template='simple_white',\n",
    "                  width=600,\n",
    "                  height=400,\n",
    "                  legend=dict(\n",
    "                      orientation=\"v\", y=1, yanchor=\"top\", x=1.0, xanchor=\"right\" )\n",
    "                  ).update_xaxes(categoryorder='total descending')\n",
    "\n",
    "fig.show()"
   ],
   "id": "e79bb498ebebbede",
   "outputs": [
    {
     "data": {
      "application/vnd.plotly.v1+json": {
       "data": [
        {
         "histnorm": "",
         "marker": {
          "color": "purple"
         },
         "name": "ASD_pos",
         "x": [
          "no",
          "no",
          "no",
          "no",
          "no",
          "no",
          "no",
          "no",
          "no",
          "no",
          "no",
          "no",
          "no",
          "no",
          "yes",
          "no",
          "no",
          "no",
          "no",
          "no",
          "no",
          "yes",
          "no",
          "no",
          "no",
          "no",
          "no",
          "no",
          "no",
          "yes",
          "no",
          "no",
          "no",
          "no",
          "no",
          "no",
          "no",
          "no",
          "no",
          "no",
          "no",
          "no",
          "no",
          "no",
          "no",
          "no",
          "no",
          "no",
          "no",
          "no",
          "no",
          "no",
          "no",
          "no",
          "no",
          "no",
          "no",
          "no",
          "no",
          "no",
          "no",
          "no",
          "no",
          "no",
          "no",
          "no",
          "no",
          "no",
          "no",
          "no",
          "no",
          "no",
          "no",
          "no",
          "no",
          "no",
          "no",
          "no",
          "no",
          "no",
          "no",
          "no",
          "no",
          "no",
          "no",
          "no",
          "no",
          "no",
          "no",
          "no",
          "no",
          "no",
          "no",
          "no",
          "no",
          "no",
          "no",
          "no",
          "no",
          "no",
          "no",
          "no",
          "no",
          "no",
          "no",
          "no",
          "no",
          "no",
          "no",
          "no",
          "no",
          "yes",
          "no",
          "no",
          "no",
          "no",
          "no",
          "no",
          "no",
          "no",
          "no",
          "no",
          "no",
          "no",
          "no",
          "no",
          "no",
          "no",
          "no",
          "no",
          "no",
          "no",
          "no",
          "no",
          "no",
          "no",
          "no",
          "no",
          "no",
          "no",
          "no",
          "no",
          "yes",
          "no",
          "no",
          "no",
          "no",
          "no",
          "no",
          "no",
          "no",
          "no",
          "no",
          "no",
          "no",
          "no",
          "no",
          "no",
          "no",
          "no",
          "no",
          "no",
          "yes",
          "no",
          "no",
          "no",
          "no",
          "no",
          "no",
          "no",
          "no",
          "no",
          "no",
          "no",
          "no",
          "no",
          "yes",
          "no",
          "no",
          "no",
          "no",
          "no",
          "no",
          "no",
          "no"
         ],
         "type": "histogram"
        },
        {
         "histnorm": "",
         "marker": {
          "color": "salmon"
         },
         "name": "ASD_neg",
         "opacity": 0.85,
         "x": [
          "no",
          "no",
          "no",
          "no",
          "no",
          "no",
          "no",
          "no",
          "no",
          "no",
          "no",
          "no",
          "no",
          "no",
          "yes",
          "no",
          "no",
          "no",
          "no",
          "no",
          "no",
          "no",
          "no",
          "no",
          "no",
          "yes",
          "no",
          "no",
          "no",
          "no",
          "no",
          "no",
          "no",
          "no",
          "yes",
          "no",
          "no",
          "no",
          "no",
          "no",
          "no",
          "no",
          "no",
          "no",
          "no",
          "no",
          "no",
          "no",
          "no",
          "no",
          "no",
          "no",
          "no",
          "no",
          "no",
          "no",
          "no",
          "no",
          "no",
          "no",
          "no",
          "no",
          "no",
          "no",
          "no",
          "no",
          "no",
          "no",
          "no",
          "no",
          "no",
          "no",
          "no",
          "no",
          "no",
          "no",
          "no",
          "no",
          "no",
          "no",
          "no",
          "no",
          "no",
          "no",
          "no",
          "no",
          "no",
          "no",
          "no",
          "no",
          "no",
          "no",
          "no",
          "no",
          "no",
          "no",
          "no",
          "no",
          "no",
          "no",
          "yes",
          "no",
          "no",
          "no",
          "no",
          "no",
          "no",
          "no",
          "yes",
          "no",
          "no",
          "no",
          "no",
          "no",
          "no",
          "no",
          "no",
          "no",
          "no",
          "no",
          "no",
          "no",
          "no",
          "no",
          "no",
          "no",
          "no",
          "no",
          "no",
          "yes",
          "yes",
          "no",
          "yes",
          "no",
          "no",
          "no",
          "no",
          "no",
          "no",
          "no",
          "no",
          "no",
          "no",
          "no",
          "yes",
          "no",
          "no",
          "no",
          "no",
          "no",
          "no",
          "no",
          "yes",
          "no",
          "no",
          "no",
          "no",
          "no",
          "no",
          "no",
          "no",
          "no",
          "no",
          "no",
          "no",
          "no",
          "no",
          "no",
          "no",
          "no",
          "no",
          "no",
          "no",
          "no",
          "no",
          "no",
          "no",
          "no",
          "no",
          "no",
          "no",
          "no",
          "no",
          "no",
          "no",
          "no",
          "yes",
          "no",
          "no",
          "no",
          "no",
          "yes",
          "no",
          "no",
          "no",
          "no",
          "no",
          "no",
          "no",
          "no",
          "no",
          "no",
          "no",
          "no",
          "no",
          "no",
          "no",
          "no",
          "no",
          "no",
          "no",
          "yes",
          "no",
          "no",
          "no",
          "no",
          "no",
          "no",
          "no",
          "no",
          "no",
          "no",
          "no",
          "no",
          "no",
          "yes",
          "no",
          "no",
          "no",
          "no",
          "no",
          "no",
          "no",
          "no",
          "no",
          "no",
          "no",
          "no",
          "no",
          "no",
          "no",
          "no",
          "no",
          "no",
          "no",
          "no",
          "no",
          "no",
          "no",
          "yes",
          "no",
          "no",
          "no",
          "no",
          "no",
          "yes",
          "no",
          "no",
          "no",
          "no",
          "no",
          "no",
          "yes",
          "no",
          "no",
          "no",
          "no",
          "no",
          "no",
          "no",
          "no",
          "no",
          "no",
          "no",
          "yes",
          "no",
          "no",
          "no",
          "no",
          "no",
          "no",
          "no",
          "no",
          "no",
          "no",
          "no",
          "no",
          "no",
          "no",
          "no",
          "no",
          "no",
          "no",
          "no",
          "no",
          "no",
          "yes",
          "no",
          "no",
          "no",
          "no",
          "no",
          "no",
          "no",
          "no",
          "no",
          "yes",
          "no",
          "no",
          "no",
          "no",
          "no",
          "yes",
          "no",
          "no",
          "no",
          "no",
          "no",
          "no",
          "no",
          "no",
          "no",
          "no",
          "no",
          "no",
          "no",
          "no",
          "no",
          "no",
          "no",
          "no",
          "no",
          "no",
          "no",
          "no",
          "no",
          "no",
          "no",
          "no",
          "no",
          "no",
          "no",
          "no",
          "no",
          "no",
          "no",
          "no",
          "no",
          "no",
          "yes",
          "yes",
          "no",
          "no",
          "no",
          "no",
          "no",
          "no",
          "no",
          "no",
          "no",
          "no",
          "no",
          "no",
          "no",
          "no",
          "no",
          "no",
          "no",
          "no",
          "no",
          "no",
          "no",
          "no",
          "no",
          "no",
          "no",
          "no",
          "no",
          "no",
          "no",
          "no",
          "no",
          "no",
          "no",
          "no",
          "no",
          "no",
          "no",
          "no",
          "no",
          "no",
          "no",
          "no",
          "no",
          "no",
          "no",
          "no",
          "no",
          "no",
          "no",
          "no",
          "no",
          "no",
          "no",
          "no",
          "no",
          "no",
          "no",
          "no",
          "no",
          "no",
          "no",
          "no",
          "no",
          "no",
          "no",
          "yes",
          "no",
          "no",
          "no",
          "no",
          "no",
          "no",
          "no",
          "no",
          "no",
          "no",
          "no",
          "no",
          "no",
          "no",
          "no",
          "no",
          "no",
          "no",
          "no",
          "no",
          "no",
          "no",
          "yes",
          "no",
          "no",
          "no",
          "no",
          "no",
          "no",
          "no",
          "no",
          "no",
          "no",
          "no",
          "no",
          "no",
          "no",
          "no",
          "no",
          "no",
          "no",
          "no",
          "no",
          "no",
          "no",
          "no",
          "no",
          "no",
          "no",
          "no",
          "no",
          "no",
          "no",
          "no",
          "no",
          "no",
          "no",
          "no",
          "no",
          "no",
          "no",
          "no",
          "no",
          "no",
          "no",
          "no",
          "no",
          "no",
          "no",
          "no",
          "no",
          "no",
          "no",
          "no",
          "no",
          "no",
          "no",
          "no",
          "no",
          "no",
          "no",
          "no",
          "no",
          "no",
          "no",
          "no",
          "no",
          "no",
          "no",
          "no",
          "no",
          "no",
          "no",
          "no",
          "no",
          "no",
          "no",
          "no",
          "no",
          "no",
          "no",
          "no",
          "no",
          "no",
          "no",
          "no",
          "no",
          "no",
          "no",
          "no",
          "no",
          "no",
          "no",
          "no",
          "no",
          "no",
          "no",
          "no",
          "no",
          "no",
          "no",
          "no",
          "no",
          "no",
          "no",
          "no",
          "no",
          "no",
          "no",
          "no",
          "no",
          "no",
          "no",
          "no",
          "no",
          "no",
          "no",
          "no",
          "yes",
          "no",
          "no",
          "no",
          "no",
          "no",
          "no",
          "no",
          "no",
          "no",
          "no",
          "no",
          "no",
          "no",
          "no",
          "yes",
          "no",
          "no",
          "no",
          "no",
          "no",
          "no",
          "yes",
          "no",
          "no",
          "no",
          "no",
          "no",
          "no",
          "no",
          "no",
          "no",
          "no",
          "no",
          "no",
          "no",
          "no",
          "no",
          "no",
          "no",
          "no",
          "no",
          "no",
          "no",
          "no",
          "no",
          "no",
          "no",
          "no",
          "no",
          "no",
          "no",
          "no",
          "no",
          "no",
          "no",
          "no",
          "no",
          "no",
          "no"
         ],
         "type": "histogram"
        }
       ],
       "layout": {
        "template": {
         "data": {
          "barpolar": [
           {
            "marker": {
             "line": {
              "color": "white",
              "width": 0.5
             },
             "pattern": {
              "fillmode": "overlay",
              "size": 10,
              "solidity": 0.2
             }
            },
            "type": "barpolar"
           }
          ],
          "bar": [
           {
            "error_x": {
             "color": "rgb(36,36,36)"
            },
            "error_y": {
             "color": "rgb(36,36,36)"
            },
            "marker": {
             "line": {
              "color": "white",
              "width": 0.5
             },
             "pattern": {
              "fillmode": "overlay",
              "size": 10,
              "solidity": 0.2
             }
            },
            "type": "bar"
           }
          ],
          "carpet": [
           {
            "aaxis": {
             "endlinecolor": "rgb(36,36,36)",
             "gridcolor": "white",
             "linecolor": "white",
             "minorgridcolor": "white",
             "startlinecolor": "rgb(36,36,36)"
            },
            "baxis": {
             "endlinecolor": "rgb(36,36,36)",
             "gridcolor": "white",
             "linecolor": "white",
             "minorgridcolor": "white",
             "startlinecolor": "rgb(36,36,36)"
            },
            "type": "carpet"
           }
          ],
          "choropleth": [
           {
            "colorbar": {
             "outlinewidth": 1,
             "tickcolor": "rgb(36,36,36)",
             "ticks": "outside"
            },
            "type": "choropleth"
           }
          ],
          "contourcarpet": [
           {
            "colorbar": {
             "outlinewidth": 1,
             "tickcolor": "rgb(36,36,36)",
             "ticks": "outside"
            },
            "type": "contourcarpet"
           }
          ],
          "contour": [
           {
            "colorbar": {
             "outlinewidth": 1,
             "tickcolor": "rgb(36,36,36)",
             "ticks": "outside"
            },
            "colorscale": [
             [
              0.0,
              "#440154"
             ],
             [
              0.1111111111111111,
              "#482878"
             ],
             [
              0.2222222222222222,
              "#3e4989"
             ],
             [
              0.3333333333333333,
              "#31688e"
             ],
             [
              0.4444444444444444,
              "#26828e"
             ],
             [
              0.5555555555555556,
              "#1f9e89"
             ],
             [
              0.6666666666666666,
              "#35b779"
             ],
             [
              0.7777777777777778,
              "#6ece58"
             ],
             [
              0.8888888888888888,
              "#b5de2b"
             ],
             [
              1.0,
              "#fde725"
             ]
            ],
            "type": "contour"
           }
          ],
          "heatmapgl": [
           {
            "colorbar": {
             "outlinewidth": 1,
             "tickcolor": "rgb(36,36,36)",
             "ticks": "outside"
            },
            "colorscale": [
             [
              0.0,
              "#440154"
             ],
             [
              0.1111111111111111,
              "#482878"
             ],
             [
              0.2222222222222222,
              "#3e4989"
             ],
             [
              0.3333333333333333,
              "#31688e"
             ],
             [
              0.4444444444444444,
              "#26828e"
             ],
             [
              0.5555555555555556,
              "#1f9e89"
             ],
             [
              0.6666666666666666,
              "#35b779"
             ],
             [
              0.7777777777777778,
              "#6ece58"
             ],
             [
              0.8888888888888888,
              "#b5de2b"
             ],
             [
              1.0,
              "#fde725"
             ]
            ],
            "type": "heatmapgl"
           }
          ],
          "heatmap": [
           {
            "colorbar": {
             "outlinewidth": 1,
             "tickcolor": "rgb(36,36,36)",
             "ticks": "outside"
            },
            "colorscale": [
             [
              0.0,
              "#440154"
             ],
             [
              0.1111111111111111,
              "#482878"
             ],
             [
              0.2222222222222222,
              "#3e4989"
             ],
             [
              0.3333333333333333,
              "#31688e"
             ],
             [
              0.4444444444444444,
              "#26828e"
             ],
             [
              0.5555555555555556,
              "#1f9e89"
             ],
             [
              0.6666666666666666,
              "#35b779"
             ],
             [
              0.7777777777777778,
              "#6ece58"
             ],
             [
              0.8888888888888888,
              "#b5de2b"
             ],
             [
              1.0,
              "#fde725"
             ]
            ],
            "type": "heatmap"
           }
          ],
          "histogram2dcontour": [
           {
            "colorbar": {
             "outlinewidth": 1,
             "tickcolor": "rgb(36,36,36)",
             "ticks": "outside"
            },
            "colorscale": [
             [
              0.0,
              "#440154"
             ],
             [
              0.1111111111111111,
              "#482878"
             ],
             [
              0.2222222222222222,
              "#3e4989"
             ],
             [
              0.3333333333333333,
              "#31688e"
             ],
             [
              0.4444444444444444,
              "#26828e"
             ],
             [
              0.5555555555555556,
              "#1f9e89"
             ],
             [
              0.6666666666666666,
              "#35b779"
             ],
             [
              0.7777777777777778,
              "#6ece58"
             ],
             [
              0.8888888888888888,
              "#b5de2b"
             ],
             [
              1.0,
              "#fde725"
             ]
            ],
            "type": "histogram2dcontour"
           }
          ],
          "histogram2d": [
           {
            "colorbar": {
             "outlinewidth": 1,
             "tickcolor": "rgb(36,36,36)",
             "ticks": "outside"
            },
            "colorscale": [
             [
              0.0,
              "#440154"
             ],
             [
              0.1111111111111111,
              "#482878"
             ],
             [
              0.2222222222222222,
              "#3e4989"
             ],
             [
              0.3333333333333333,
              "#31688e"
             ],
             [
              0.4444444444444444,
              "#26828e"
             ],
             [
              0.5555555555555556,
              "#1f9e89"
             ],
             [
              0.6666666666666666,
              "#35b779"
             ],
             [
              0.7777777777777778,
              "#6ece58"
             ],
             [
              0.8888888888888888,
              "#b5de2b"
             ],
             [
              1.0,
              "#fde725"
             ]
            ],
            "type": "histogram2d"
           }
          ],
          "histogram": [
           {
            "marker": {
             "line": {
              "color": "white",
              "width": 0.6
             }
            },
            "type": "histogram"
           }
          ],
          "mesh3d": [
           {
            "colorbar": {
             "outlinewidth": 1,
             "tickcolor": "rgb(36,36,36)",
             "ticks": "outside"
            },
            "type": "mesh3d"
           }
          ],
          "parcoords": [
           {
            "line": {
             "colorbar": {
              "outlinewidth": 1,
              "tickcolor": "rgb(36,36,36)",
              "ticks": "outside"
             }
            },
            "type": "parcoords"
           }
          ],
          "pie": [
           {
            "automargin": true,
            "type": "pie"
           }
          ],
          "scatter3d": [
           {
            "line": {
             "colorbar": {
              "outlinewidth": 1,
              "tickcolor": "rgb(36,36,36)",
              "ticks": "outside"
             }
            },
            "marker": {
             "colorbar": {
              "outlinewidth": 1,
              "tickcolor": "rgb(36,36,36)",
              "ticks": "outside"
             }
            },
            "type": "scatter3d"
           }
          ],
          "scattercarpet": [
           {
            "marker": {
             "colorbar": {
              "outlinewidth": 1,
              "tickcolor": "rgb(36,36,36)",
              "ticks": "outside"
             }
            },
            "type": "scattercarpet"
           }
          ],
          "scattergeo": [
           {
            "marker": {
             "colorbar": {
              "outlinewidth": 1,
              "tickcolor": "rgb(36,36,36)",
              "ticks": "outside"
             }
            },
            "type": "scattergeo"
           }
          ],
          "scattergl": [
           {
            "marker": {
             "colorbar": {
              "outlinewidth": 1,
              "tickcolor": "rgb(36,36,36)",
              "ticks": "outside"
             }
            },
            "type": "scattergl"
           }
          ],
          "scattermapbox": [
           {
            "marker": {
             "colorbar": {
              "outlinewidth": 1,
              "tickcolor": "rgb(36,36,36)",
              "ticks": "outside"
             }
            },
            "type": "scattermapbox"
           }
          ],
          "scatterpolargl": [
           {
            "marker": {
             "colorbar": {
              "outlinewidth": 1,
              "tickcolor": "rgb(36,36,36)",
              "ticks": "outside"
             }
            },
            "type": "scatterpolargl"
           }
          ],
          "scatterpolar": [
           {
            "marker": {
             "colorbar": {
              "outlinewidth": 1,
              "tickcolor": "rgb(36,36,36)",
              "ticks": "outside"
             }
            },
            "type": "scatterpolar"
           }
          ],
          "scatter": [
           {
            "fillpattern": {
             "fillmode": "overlay",
             "size": 10,
             "solidity": 0.2
            },
            "type": "scatter"
           }
          ],
          "scatterternary": [
           {
            "marker": {
             "colorbar": {
              "outlinewidth": 1,
              "tickcolor": "rgb(36,36,36)",
              "ticks": "outside"
             }
            },
            "type": "scatterternary"
           }
          ],
          "surface": [
           {
            "colorbar": {
             "outlinewidth": 1,
             "tickcolor": "rgb(36,36,36)",
             "ticks": "outside"
            },
            "colorscale": [
             [
              0.0,
              "#440154"
             ],
             [
              0.1111111111111111,
              "#482878"
             ],
             [
              0.2222222222222222,
              "#3e4989"
             ],
             [
              0.3333333333333333,
              "#31688e"
             ],
             [
              0.4444444444444444,
              "#26828e"
             ],
             [
              0.5555555555555556,
              "#1f9e89"
             ],
             [
              0.6666666666666666,
              "#35b779"
             ],
             [
              0.7777777777777778,
              "#6ece58"
             ],
             [
              0.8888888888888888,
              "#b5de2b"
             ],
             [
              1.0,
              "#fde725"
             ]
            ],
            "type": "surface"
           }
          ],
          "table": [
           {
            "cells": {
             "fill": {
              "color": "rgb(237,237,237)"
             },
             "line": {
              "color": "white"
             }
            },
            "header": {
             "fill": {
              "color": "rgb(217,217,217)"
             },
             "line": {
              "color": "white"
             }
            },
            "type": "table"
           }
          ]
         },
         "layout": {
          "annotationdefaults": {
           "arrowhead": 0,
           "arrowwidth": 1
          },
          "autotypenumbers": "strict",
          "coloraxis": {
           "colorbar": {
            "outlinewidth": 1,
            "tickcolor": "rgb(36,36,36)",
            "ticks": "outside"
           }
          },
          "colorscale": {
           "diverging": [
            [
             0.0,
             "rgb(103,0,31)"
            ],
            [
             0.1,
             "rgb(178,24,43)"
            ],
            [
             0.2,
             "rgb(214,96,77)"
            ],
            [
             0.3,
             "rgb(244,165,130)"
            ],
            [
             0.4,
             "rgb(253,219,199)"
            ],
            [
             0.5,
             "rgb(247,247,247)"
            ],
            [
             0.6,
             "rgb(209,229,240)"
            ],
            [
             0.7,
             "rgb(146,197,222)"
            ],
            [
             0.8,
             "rgb(67,147,195)"
            ],
            [
             0.9,
             "rgb(33,102,172)"
            ],
            [
             1.0,
             "rgb(5,48,97)"
            ]
           ],
           "sequential": [
            [
             0.0,
             "#440154"
            ],
            [
             0.1111111111111111,
             "#482878"
            ],
            [
             0.2222222222222222,
             "#3e4989"
            ],
            [
             0.3333333333333333,
             "#31688e"
            ],
            [
             0.4444444444444444,
             "#26828e"
            ],
            [
             0.5555555555555556,
             "#1f9e89"
            ],
            [
             0.6666666666666666,
             "#35b779"
            ],
            [
             0.7777777777777778,
             "#6ece58"
            ],
            [
             0.8888888888888888,
             "#b5de2b"
            ],
            [
             1.0,
             "#fde725"
            ]
           ],
           "sequentialminus": [
            [
             0.0,
             "#440154"
            ],
            [
             0.1111111111111111,
             "#482878"
            ],
            [
             0.2222222222222222,
             "#3e4989"
            ],
            [
             0.3333333333333333,
             "#31688e"
            ],
            [
             0.4444444444444444,
             "#26828e"
            ],
            [
             0.5555555555555556,
             "#1f9e89"
            ],
            [
             0.6666666666666666,
             "#35b779"
            ],
            [
             0.7777777777777778,
             "#6ece58"
            ],
            [
             0.8888888888888888,
             "#b5de2b"
            ],
            [
             1.0,
             "#fde725"
            ]
           ]
          },
          "colorway": [
           "#1F77B4",
           "#FF7F0E",
           "#2CA02C",
           "#D62728",
           "#9467BD",
           "#8C564B",
           "#E377C2",
           "#7F7F7F",
           "#BCBD22",
           "#17BECF"
          ],
          "font": {
           "color": "rgb(36,36,36)"
          },
          "geo": {
           "bgcolor": "white",
           "lakecolor": "white",
           "landcolor": "white",
           "showlakes": true,
           "showland": true,
           "subunitcolor": "white"
          },
          "hoverlabel": {
           "align": "left"
          },
          "hovermode": "closest",
          "mapbox": {
           "style": "light"
          },
          "paper_bgcolor": "white",
          "plot_bgcolor": "white",
          "polar": {
           "angularaxis": {
            "gridcolor": "rgb(232,232,232)",
            "linecolor": "rgb(36,36,36)",
            "showgrid": false,
            "showline": true,
            "ticks": "outside"
           },
           "bgcolor": "white",
           "radialaxis": {
            "gridcolor": "rgb(232,232,232)",
            "linecolor": "rgb(36,36,36)",
            "showgrid": false,
            "showline": true,
            "ticks": "outside"
           }
          },
          "scene": {
           "xaxis": {
            "backgroundcolor": "white",
            "gridcolor": "rgb(232,232,232)",
            "gridwidth": 2,
            "linecolor": "rgb(36,36,36)",
            "showbackground": true,
            "showgrid": false,
            "showline": true,
            "ticks": "outside",
            "zeroline": false,
            "zerolinecolor": "rgb(36,36,36)"
           },
           "yaxis": {
            "backgroundcolor": "white",
            "gridcolor": "rgb(232,232,232)",
            "gridwidth": 2,
            "linecolor": "rgb(36,36,36)",
            "showbackground": true,
            "showgrid": false,
            "showline": true,
            "ticks": "outside",
            "zeroline": false,
            "zerolinecolor": "rgb(36,36,36)"
           },
           "zaxis": {
            "backgroundcolor": "white",
            "gridcolor": "rgb(232,232,232)",
            "gridwidth": 2,
            "linecolor": "rgb(36,36,36)",
            "showbackground": true,
            "showgrid": false,
            "showline": true,
            "ticks": "outside",
            "zeroline": false,
            "zerolinecolor": "rgb(36,36,36)"
           }
          },
          "shapedefaults": {
           "fillcolor": "black",
           "line": {
            "width": 0
           },
           "opacity": 0.3
          },
          "ternary": {
           "aaxis": {
            "gridcolor": "rgb(232,232,232)",
            "linecolor": "rgb(36,36,36)",
            "showgrid": false,
            "showline": true,
            "ticks": "outside"
           },
           "baxis": {
            "gridcolor": "rgb(232,232,232)",
            "linecolor": "rgb(36,36,36)",
            "showgrid": false,
            "showline": true,
            "ticks": "outside"
           },
           "bgcolor": "white",
           "caxis": {
            "gridcolor": "rgb(232,232,232)",
            "linecolor": "rgb(36,36,36)",
            "showgrid": false,
            "showline": true,
            "ticks": "outside"
           }
          },
          "title": {
           "x": 0.05
          },
          "xaxis": {
           "automargin": true,
           "gridcolor": "rgb(232,232,232)",
           "linecolor": "rgb(36,36,36)",
           "showgrid": false,
           "showline": true,
           "ticks": "outside",
           "title": {
            "standoff": 15
           },
           "zeroline": false,
           "zerolinecolor": "rgb(36,36,36)"
          },
          "yaxis": {
           "automargin": true,
           "gridcolor": "rgb(232,232,232)",
           "linecolor": "rgb(36,36,36)",
           "showgrid": false,
           "showline": true,
           "ticks": "outside",
           "title": {
            "standoff": 15
           },
           "zeroline": false,
           "zerolinecolor": "rgb(36,36,36)"
          }
         }
        },
        "barmode": "group",
        "font": {
         "family": "San Serif"
        },
        "title": {
         "text": "Whether the patient has undergone a screening test before",
         "font": {
          "size": 20
         }
        },
        "legend": {
         "orientation": "v",
         "y": 1,
         "yanchor": "top",
         "x": 1.0,
         "xanchor": "right"
        },
        "width": 600,
        "height": 400,
        "xaxis": {
         "categoryorder": "total descending"
        }
       },
       "config": {
        "plotlyServerURL": "https://plot.ly"
       }
      },
      "text/html": [
       "<div>                            <div id=\"1932420a-b4ca-4113-90a5-68eaeb2808dd\" class=\"plotly-graph-div\" style=\"height:400px; width:600px;\"></div>            <script type=\"text/javascript\">                require([\"plotly\"], function(Plotly) {                    window.PLOTLYENV=window.PLOTLYENV || {};                                    if (document.getElementById(\"1932420a-b4ca-4113-90a5-68eaeb2808dd\")) {                    Plotly.newPlot(                        \"1932420a-b4ca-4113-90a5-68eaeb2808dd\",                        [{\"histnorm\":\"\",\"marker\":{\"color\":\"purple\"},\"name\":\"ASD_pos\",\"x\":[\"no\",\"no\",\"no\",\"no\",\"no\",\"no\",\"no\",\"no\",\"no\",\"no\",\"no\",\"no\",\"no\",\"no\",\"yes\",\"no\",\"no\",\"no\",\"no\",\"no\",\"no\",\"yes\",\"no\",\"no\",\"no\",\"no\",\"no\",\"no\",\"no\",\"yes\",\"no\",\"no\",\"no\",\"no\",\"no\",\"no\",\"no\",\"no\",\"no\",\"no\",\"no\",\"no\",\"no\",\"no\",\"no\",\"no\",\"no\",\"no\",\"no\",\"no\",\"no\",\"no\",\"no\",\"no\",\"no\",\"no\",\"no\",\"no\",\"no\",\"no\",\"no\",\"no\",\"no\",\"no\",\"no\",\"no\",\"no\",\"no\",\"no\",\"no\",\"no\",\"no\",\"no\",\"no\",\"no\",\"no\",\"no\",\"no\",\"no\",\"no\",\"no\",\"no\",\"no\",\"no\",\"no\",\"no\",\"no\",\"no\",\"no\",\"no\",\"no\",\"no\",\"no\",\"no\",\"no\",\"no\",\"no\",\"no\",\"no\",\"no\",\"no\",\"no\",\"no\",\"no\",\"no\",\"no\",\"no\",\"no\",\"no\",\"no\",\"no\",\"yes\",\"no\",\"no\",\"no\",\"no\",\"no\",\"no\",\"no\",\"no\",\"no\",\"no\",\"no\",\"no\",\"no\",\"no\",\"no\",\"no\",\"no\",\"no\",\"no\",\"no\",\"no\",\"no\",\"no\",\"no\",\"no\",\"no\",\"no\",\"no\",\"no\",\"no\",\"yes\",\"no\",\"no\",\"no\",\"no\",\"no\",\"no\",\"no\",\"no\",\"no\",\"no\",\"no\",\"no\",\"no\",\"no\",\"no\",\"no\",\"no\",\"no\",\"no\",\"yes\",\"no\",\"no\",\"no\",\"no\",\"no\",\"no\",\"no\",\"no\",\"no\",\"no\",\"no\",\"no\",\"no\",\"yes\",\"no\",\"no\",\"no\",\"no\",\"no\",\"no\",\"no\",\"no\"],\"type\":\"histogram\"},{\"histnorm\":\"\",\"marker\":{\"color\":\"salmon\"},\"name\":\"ASD_neg\",\"opacity\":0.85,\"x\":[\"no\",\"no\",\"no\",\"no\",\"no\",\"no\",\"no\",\"no\",\"no\",\"no\",\"no\",\"no\",\"no\",\"no\",\"yes\",\"no\",\"no\",\"no\",\"no\",\"no\",\"no\",\"no\",\"no\",\"no\",\"no\",\"yes\",\"no\",\"no\",\"no\",\"no\",\"no\",\"no\",\"no\",\"no\",\"yes\",\"no\",\"no\",\"no\",\"no\",\"no\",\"no\",\"no\",\"no\",\"no\",\"no\",\"no\",\"no\",\"no\",\"no\",\"no\",\"no\",\"no\",\"no\",\"no\",\"no\",\"no\",\"no\",\"no\",\"no\",\"no\",\"no\",\"no\",\"no\",\"no\",\"no\",\"no\",\"no\",\"no\",\"no\",\"no\",\"no\",\"no\",\"no\",\"no\",\"no\",\"no\",\"no\",\"no\",\"no\",\"no\",\"no\",\"no\",\"no\",\"no\",\"no\",\"no\",\"no\",\"no\",\"no\",\"no\",\"no\",\"no\",\"no\",\"no\",\"no\",\"no\",\"no\",\"no\",\"no\",\"no\",\"yes\",\"no\",\"no\",\"no\",\"no\",\"no\",\"no\",\"no\",\"yes\",\"no\",\"no\",\"no\",\"no\",\"no\",\"no\",\"no\",\"no\",\"no\",\"no\",\"no\",\"no\",\"no\",\"no\",\"no\",\"no\",\"no\",\"no\",\"no\",\"no\",\"yes\",\"yes\",\"no\",\"yes\",\"no\",\"no\",\"no\",\"no\",\"no\",\"no\",\"no\",\"no\",\"no\",\"no\",\"no\",\"yes\",\"no\",\"no\",\"no\",\"no\",\"no\",\"no\",\"no\",\"yes\",\"no\",\"no\",\"no\",\"no\",\"no\",\"no\",\"no\",\"no\",\"no\",\"no\",\"no\",\"no\",\"no\",\"no\",\"no\",\"no\",\"no\",\"no\",\"no\",\"no\",\"no\",\"no\",\"no\",\"no\",\"no\",\"no\",\"no\",\"no\",\"no\",\"no\",\"no\",\"no\",\"no\",\"yes\",\"no\",\"no\",\"no\",\"no\",\"yes\",\"no\",\"no\",\"no\",\"no\",\"no\",\"no\",\"no\",\"no\",\"no\",\"no\",\"no\",\"no\",\"no\",\"no\",\"no\",\"no\",\"no\",\"no\",\"no\",\"yes\",\"no\",\"no\",\"no\",\"no\",\"no\",\"no\",\"no\",\"no\",\"no\",\"no\",\"no\",\"no\",\"no\",\"yes\",\"no\",\"no\",\"no\",\"no\",\"no\",\"no\",\"no\",\"no\",\"no\",\"no\",\"no\",\"no\",\"no\",\"no\",\"no\",\"no\",\"no\",\"no\",\"no\",\"no\",\"no\",\"no\",\"no\",\"yes\",\"no\",\"no\",\"no\",\"no\",\"no\",\"yes\",\"no\",\"no\",\"no\",\"no\",\"no\",\"no\",\"yes\",\"no\",\"no\",\"no\",\"no\",\"no\",\"no\",\"no\",\"no\",\"no\",\"no\",\"no\",\"yes\",\"no\",\"no\",\"no\",\"no\",\"no\",\"no\",\"no\",\"no\",\"no\",\"no\",\"no\",\"no\",\"no\",\"no\",\"no\",\"no\",\"no\",\"no\",\"no\",\"no\",\"no\",\"yes\",\"no\",\"no\",\"no\",\"no\",\"no\",\"no\",\"no\",\"no\",\"no\",\"yes\",\"no\",\"no\",\"no\",\"no\",\"no\",\"yes\",\"no\",\"no\",\"no\",\"no\",\"no\",\"no\",\"no\",\"no\",\"no\",\"no\",\"no\",\"no\",\"no\",\"no\",\"no\",\"no\",\"no\",\"no\",\"no\",\"no\",\"no\",\"no\",\"no\",\"no\",\"no\",\"no\",\"no\",\"no\",\"no\",\"no\",\"no\",\"no\",\"no\",\"no\",\"no\",\"no\",\"yes\",\"yes\",\"no\",\"no\",\"no\",\"no\",\"no\",\"no\",\"no\",\"no\",\"no\",\"no\",\"no\",\"no\",\"no\",\"no\",\"no\",\"no\",\"no\",\"no\",\"no\",\"no\",\"no\",\"no\",\"no\",\"no\",\"no\",\"no\",\"no\",\"no\",\"no\",\"no\",\"no\",\"no\",\"no\",\"no\",\"no\",\"no\",\"no\",\"no\",\"no\",\"no\",\"no\",\"no\",\"no\",\"no\",\"no\",\"no\",\"no\",\"no\",\"no\",\"no\",\"no\",\"no\",\"no\",\"no\",\"no\",\"no\",\"no\",\"no\",\"no\",\"no\",\"no\",\"no\",\"no\",\"no\",\"no\",\"yes\",\"no\",\"no\",\"no\",\"no\",\"no\",\"no\",\"no\",\"no\",\"no\",\"no\",\"no\",\"no\",\"no\",\"no\",\"no\",\"no\",\"no\",\"no\",\"no\",\"no\",\"no\",\"no\",\"yes\",\"no\",\"no\",\"no\",\"no\",\"no\",\"no\",\"no\",\"no\",\"no\",\"no\",\"no\",\"no\",\"no\",\"no\",\"no\",\"no\",\"no\",\"no\",\"no\",\"no\",\"no\",\"no\",\"no\",\"no\",\"no\",\"no\",\"no\",\"no\",\"no\",\"no\",\"no\",\"no\",\"no\",\"no\",\"no\",\"no\",\"no\",\"no\",\"no\",\"no\",\"no\",\"no\",\"no\",\"no\",\"no\",\"no\",\"no\",\"no\",\"no\",\"no\",\"no\",\"no\",\"no\",\"no\",\"no\",\"no\",\"no\",\"no\",\"no\",\"no\",\"no\",\"no\",\"no\",\"no\",\"no\",\"no\",\"no\",\"no\",\"no\",\"no\",\"no\",\"no\",\"no\",\"no\",\"no\",\"no\",\"no\",\"no\",\"no\",\"no\",\"no\",\"no\",\"no\",\"no\",\"no\",\"no\",\"no\",\"no\",\"no\",\"no\",\"no\",\"no\",\"no\",\"no\",\"no\",\"no\",\"no\",\"no\",\"no\",\"no\",\"no\",\"no\",\"no\",\"no\",\"no\",\"no\",\"no\",\"no\",\"no\",\"no\",\"no\",\"no\",\"no\",\"no\",\"no\",\"yes\",\"no\",\"no\",\"no\",\"no\",\"no\",\"no\",\"no\",\"no\",\"no\",\"no\",\"no\",\"no\",\"no\",\"no\",\"yes\",\"no\",\"no\",\"no\",\"no\",\"no\",\"no\",\"yes\",\"no\",\"no\",\"no\",\"no\",\"no\",\"no\",\"no\",\"no\",\"no\",\"no\",\"no\",\"no\",\"no\",\"no\",\"no\",\"no\",\"no\",\"no\",\"no\",\"no\",\"no\",\"no\",\"no\",\"no\",\"no\",\"no\",\"no\",\"no\",\"no\",\"no\",\"no\",\"no\",\"no\",\"no\",\"no\",\"no\",\"no\"],\"type\":\"histogram\"}],                        {\"template\":{\"data\":{\"barpolar\":[{\"marker\":{\"line\":{\"color\":\"white\",\"width\":0.5},\"pattern\":{\"fillmode\":\"overlay\",\"size\":10,\"solidity\":0.2}},\"type\":\"barpolar\"}],\"bar\":[{\"error_x\":{\"color\":\"rgb(36,36,36)\"},\"error_y\":{\"color\":\"rgb(36,36,36)\"},\"marker\":{\"line\":{\"color\":\"white\",\"width\":0.5},\"pattern\":{\"fillmode\":\"overlay\",\"size\":10,\"solidity\":0.2}},\"type\":\"bar\"}],\"carpet\":[{\"aaxis\":{\"endlinecolor\":\"rgb(36,36,36)\",\"gridcolor\":\"white\",\"linecolor\":\"white\",\"minorgridcolor\":\"white\",\"startlinecolor\":\"rgb(36,36,36)\"},\"baxis\":{\"endlinecolor\":\"rgb(36,36,36)\",\"gridcolor\":\"white\",\"linecolor\":\"white\",\"minorgridcolor\":\"white\",\"startlinecolor\":\"rgb(36,36,36)\"},\"type\":\"carpet\"}],\"choropleth\":[{\"colorbar\":{\"outlinewidth\":1,\"tickcolor\":\"rgb(36,36,36)\",\"ticks\":\"outside\"},\"type\":\"choropleth\"}],\"contourcarpet\":[{\"colorbar\":{\"outlinewidth\":1,\"tickcolor\":\"rgb(36,36,36)\",\"ticks\":\"outside\"},\"type\":\"contourcarpet\"}],\"contour\":[{\"colorbar\":{\"outlinewidth\":1,\"tickcolor\":\"rgb(36,36,36)\",\"ticks\":\"outside\"},\"colorscale\":[[0.0,\"#440154\"],[0.1111111111111111,\"#482878\"],[0.2222222222222222,\"#3e4989\"],[0.3333333333333333,\"#31688e\"],[0.4444444444444444,\"#26828e\"],[0.5555555555555556,\"#1f9e89\"],[0.6666666666666666,\"#35b779\"],[0.7777777777777778,\"#6ece58\"],[0.8888888888888888,\"#b5de2b\"],[1.0,\"#fde725\"]],\"type\":\"contour\"}],\"heatmapgl\":[{\"colorbar\":{\"outlinewidth\":1,\"tickcolor\":\"rgb(36,36,36)\",\"ticks\":\"outside\"},\"colorscale\":[[0.0,\"#440154\"],[0.1111111111111111,\"#482878\"],[0.2222222222222222,\"#3e4989\"],[0.3333333333333333,\"#31688e\"],[0.4444444444444444,\"#26828e\"],[0.5555555555555556,\"#1f9e89\"],[0.6666666666666666,\"#35b779\"],[0.7777777777777778,\"#6ece58\"],[0.8888888888888888,\"#b5de2b\"],[1.0,\"#fde725\"]],\"type\":\"heatmapgl\"}],\"heatmap\":[{\"colorbar\":{\"outlinewidth\":1,\"tickcolor\":\"rgb(36,36,36)\",\"ticks\":\"outside\"},\"colorscale\":[[0.0,\"#440154\"],[0.1111111111111111,\"#482878\"],[0.2222222222222222,\"#3e4989\"],[0.3333333333333333,\"#31688e\"],[0.4444444444444444,\"#26828e\"],[0.5555555555555556,\"#1f9e89\"],[0.6666666666666666,\"#35b779\"],[0.7777777777777778,\"#6ece58\"],[0.8888888888888888,\"#b5de2b\"],[1.0,\"#fde725\"]],\"type\":\"heatmap\"}],\"histogram2dcontour\":[{\"colorbar\":{\"outlinewidth\":1,\"tickcolor\":\"rgb(36,36,36)\",\"ticks\":\"outside\"},\"colorscale\":[[0.0,\"#440154\"],[0.1111111111111111,\"#482878\"],[0.2222222222222222,\"#3e4989\"],[0.3333333333333333,\"#31688e\"],[0.4444444444444444,\"#26828e\"],[0.5555555555555556,\"#1f9e89\"],[0.6666666666666666,\"#35b779\"],[0.7777777777777778,\"#6ece58\"],[0.8888888888888888,\"#b5de2b\"],[1.0,\"#fde725\"]],\"type\":\"histogram2dcontour\"}],\"histogram2d\":[{\"colorbar\":{\"outlinewidth\":1,\"tickcolor\":\"rgb(36,36,36)\",\"ticks\":\"outside\"},\"colorscale\":[[0.0,\"#440154\"],[0.1111111111111111,\"#482878\"],[0.2222222222222222,\"#3e4989\"],[0.3333333333333333,\"#31688e\"],[0.4444444444444444,\"#26828e\"],[0.5555555555555556,\"#1f9e89\"],[0.6666666666666666,\"#35b779\"],[0.7777777777777778,\"#6ece58\"],[0.8888888888888888,\"#b5de2b\"],[1.0,\"#fde725\"]],\"type\":\"histogram2d\"}],\"histogram\":[{\"marker\":{\"line\":{\"color\":\"white\",\"width\":0.6}},\"type\":\"histogram\"}],\"mesh3d\":[{\"colorbar\":{\"outlinewidth\":1,\"tickcolor\":\"rgb(36,36,36)\",\"ticks\":\"outside\"},\"type\":\"mesh3d\"}],\"parcoords\":[{\"line\":{\"colorbar\":{\"outlinewidth\":1,\"tickcolor\":\"rgb(36,36,36)\",\"ticks\":\"outside\"}},\"type\":\"parcoords\"}],\"pie\":[{\"automargin\":true,\"type\":\"pie\"}],\"scatter3d\":[{\"line\":{\"colorbar\":{\"outlinewidth\":1,\"tickcolor\":\"rgb(36,36,36)\",\"ticks\":\"outside\"}},\"marker\":{\"colorbar\":{\"outlinewidth\":1,\"tickcolor\":\"rgb(36,36,36)\",\"ticks\":\"outside\"}},\"type\":\"scatter3d\"}],\"scattercarpet\":[{\"marker\":{\"colorbar\":{\"outlinewidth\":1,\"tickcolor\":\"rgb(36,36,36)\",\"ticks\":\"outside\"}},\"type\":\"scattercarpet\"}],\"scattergeo\":[{\"marker\":{\"colorbar\":{\"outlinewidth\":1,\"tickcolor\":\"rgb(36,36,36)\",\"ticks\":\"outside\"}},\"type\":\"scattergeo\"}],\"scattergl\":[{\"marker\":{\"colorbar\":{\"outlinewidth\":1,\"tickcolor\":\"rgb(36,36,36)\",\"ticks\":\"outside\"}},\"type\":\"scattergl\"}],\"scattermapbox\":[{\"marker\":{\"colorbar\":{\"outlinewidth\":1,\"tickcolor\":\"rgb(36,36,36)\",\"ticks\":\"outside\"}},\"type\":\"scattermapbox\"}],\"scatterpolargl\":[{\"marker\":{\"colorbar\":{\"outlinewidth\":1,\"tickcolor\":\"rgb(36,36,36)\",\"ticks\":\"outside\"}},\"type\":\"scatterpolargl\"}],\"scatterpolar\":[{\"marker\":{\"colorbar\":{\"outlinewidth\":1,\"tickcolor\":\"rgb(36,36,36)\",\"ticks\":\"outside\"}},\"type\":\"scatterpolar\"}],\"scatter\":[{\"fillpattern\":{\"fillmode\":\"overlay\",\"size\":10,\"solidity\":0.2},\"type\":\"scatter\"}],\"scatterternary\":[{\"marker\":{\"colorbar\":{\"outlinewidth\":1,\"tickcolor\":\"rgb(36,36,36)\",\"ticks\":\"outside\"}},\"type\":\"scatterternary\"}],\"surface\":[{\"colorbar\":{\"outlinewidth\":1,\"tickcolor\":\"rgb(36,36,36)\",\"ticks\":\"outside\"},\"colorscale\":[[0.0,\"#440154\"],[0.1111111111111111,\"#482878\"],[0.2222222222222222,\"#3e4989\"],[0.3333333333333333,\"#31688e\"],[0.4444444444444444,\"#26828e\"],[0.5555555555555556,\"#1f9e89\"],[0.6666666666666666,\"#35b779\"],[0.7777777777777778,\"#6ece58\"],[0.8888888888888888,\"#b5de2b\"],[1.0,\"#fde725\"]],\"type\":\"surface\"}],\"table\":[{\"cells\":{\"fill\":{\"color\":\"rgb(237,237,237)\"},\"line\":{\"color\":\"white\"}},\"header\":{\"fill\":{\"color\":\"rgb(217,217,217)\"},\"line\":{\"color\":\"white\"}},\"type\":\"table\"}]},\"layout\":{\"annotationdefaults\":{\"arrowhead\":0,\"arrowwidth\":1},\"autotypenumbers\":\"strict\",\"coloraxis\":{\"colorbar\":{\"outlinewidth\":1,\"tickcolor\":\"rgb(36,36,36)\",\"ticks\":\"outside\"}},\"colorscale\":{\"diverging\":[[0.0,\"rgb(103,0,31)\"],[0.1,\"rgb(178,24,43)\"],[0.2,\"rgb(214,96,77)\"],[0.3,\"rgb(244,165,130)\"],[0.4,\"rgb(253,219,199)\"],[0.5,\"rgb(247,247,247)\"],[0.6,\"rgb(209,229,240)\"],[0.7,\"rgb(146,197,222)\"],[0.8,\"rgb(67,147,195)\"],[0.9,\"rgb(33,102,172)\"],[1.0,\"rgb(5,48,97)\"]],\"sequential\":[[0.0,\"#440154\"],[0.1111111111111111,\"#482878\"],[0.2222222222222222,\"#3e4989\"],[0.3333333333333333,\"#31688e\"],[0.4444444444444444,\"#26828e\"],[0.5555555555555556,\"#1f9e89\"],[0.6666666666666666,\"#35b779\"],[0.7777777777777778,\"#6ece58\"],[0.8888888888888888,\"#b5de2b\"],[1.0,\"#fde725\"]],\"sequentialminus\":[[0.0,\"#440154\"],[0.1111111111111111,\"#482878\"],[0.2222222222222222,\"#3e4989\"],[0.3333333333333333,\"#31688e\"],[0.4444444444444444,\"#26828e\"],[0.5555555555555556,\"#1f9e89\"],[0.6666666666666666,\"#35b779\"],[0.7777777777777778,\"#6ece58\"],[0.8888888888888888,\"#b5de2b\"],[1.0,\"#fde725\"]]},\"colorway\":[\"#1F77B4\",\"#FF7F0E\",\"#2CA02C\",\"#D62728\",\"#9467BD\",\"#8C564B\",\"#E377C2\",\"#7F7F7F\",\"#BCBD22\",\"#17BECF\"],\"font\":{\"color\":\"rgb(36,36,36)\"},\"geo\":{\"bgcolor\":\"white\",\"lakecolor\":\"white\",\"landcolor\":\"white\",\"showlakes\":true,\"showland\":true,\"subunitcolor\":\"white\"},\"hoverlabel\":{\"align\":\"left\"},\"hovermode\":\"closest\",\"mapbox\":{\"style\":\"light\"},\"paper_bgcolor\":\"white\",\"plot_bgcolor\":\"white\",\"polar\":{\"angularaxis\":{\"gridcolor\":\"rgb(232,232,232)\",\"linecolor\":\"rgb(36,36,36)\",\"showgrid\":false,\"showline\":true,\"ticks\":\"outside\"},\"bgcolor\":\"white\",\"radialaxis\":{\"gridcolor\":\"rgb(232,232,232)\",\"linecolor\":\"rgb(36,36,36)\",\"showgrid\":false,\"showline\":true,\"ticks\":\"outside\"}},\"scene\":{\"xaxis\":{\"backgroundcolor\":\"white\",\"gridcolor\":\"rgb(232,232,232)\",\"gridwidth\":2,\"linecolor\":\"rgb(36,36,36)\",\"showbackground\":true,\"showgrid\":false,\"showline\":true,\"ticks\":\"outside\",\"zeroline\":false,\"zerolinecolor\":\"rgb(36,36,36)\"},\"yaxis\":{\"backgroundcolor\":\"white\",\"gridcolor\":\"rgb(232,232,232)\",\"gridwidth\":2,\"linecolor\":\"rgb(36,36,36)\",\"showbackground\":true,\"showgrid\":false,\"showline\":true,\"ticks\":\"outside\",\"zeroline\":false,\"zerolinecolor\":\"rgb(36,36,36)\"},\"zaxis\":{\"backgroundcolor\":\"white\",\"gridcolor\":\"rgb(232,232,232)\",\"gridwidth\":2,\"linecolor\":\"rgb(36,36,36)\",\"showbackground\":true,\"showgrid\":false,\"showline\":true,\"ticks\":\"outside\",\"zeroline\":false,\"zerolinecolor\":\"rgb(36,36,36)\"}},\"shapedefaults\":{\"fillcolor\":\"black\",\"line\":{\"width\":0},\"opacity\":0.3},\"ternary\":{\"aaxis\":{\"gridcolor\":\"rgb(232,232,232)\",\"linecolor\":\"rgb(36,36,36)\",\"showgrid\":false,\"showline\":true,\"ticks\":\"outside\"},\"baxis\":{\"gridcolor\":\"rgb(232,232,232)\",\"linecolor\":\"rgb(36,36,36)\",\"showgrid\":false,\"showline\":true,\"ticks\":\"outside\"},\"bgcolor\":\"white\",\"caxis\":{\"gridcolor\":\"rgb(232,232,232)\",\"linecolor\":\"rgb(36,36,36)\",\"showgrid\":false,\"showline\":true,\"ticks\":\"outside\"}},\"title\":{\"x\":0.05},\"xaxis\":{\"automargin\":true,\"gridcolor\":\"rgb(232,232,232)\",\"linecolor\":\"rgb(36,36,36)\",\"showgrid\":false,\"showline\":true,\"ticks\":\"outside\",\"title\":{\"standoff\":15},\"zeroline\":false,\"zerolinecolor\":\"rgb(36,36,36)\"},\"yaxis\":{\"automargin\":true,\"gridcolor\":\"rgb(232,232,232)\",\"linecolor\":\"rgb(36,36,36)\",\"showgrid\":false,\"showline\":true,\"ticks\":\"outside\",\"title\":{\"standoff\":15},\"zeroline\":false,\"zerolinecolor\":\"rgb(36,36,36)\"}}},\"barmode\":\"group\",\"font\":{\"family\":\"San Serif\"},\"title\":{\"text\":\"Whether the patient has undergone a screening test before\",\"font\":{\"size\":20}},\"legend\":{\"orientation\":\"v\",\"y\":1,\"yanchor\":\"top\",\"x\":1.0,\"xanchor\":\"right\"},\"width\":600,\"height\":400,\"xaxis\":{\"categoryorder\":\"total descending\"}},                        {\"responsive\": true}                    ).then(function(){\n",
       "                            \n",
       "var gd = document.getElementById('1932420a-b4ca-4113-90a5-68eaeb2808dd');\n",
       "var x = new MutationObserver(function (mutations, observer) {{\n",
       "        var display = window.getComputedStyle(gd).display;\n",
       "        if (!display || display === 'none') {{\n",
       "            console.log([gd, 'removed!']);\n",
       "            Plotly.purge(gd);\n",
       "            observer.disconnect();\n",
       "        }}\n",
       "}});\n",
       "\n",
       "// Listen for the removal of the full notebook cells\n",
       "var notebookContainer = gd.closest('#notebook-container');\n",
       "if (notebookContainer) {{\n",
       "    x.observe(notebookContainer, {childList: true});\n",
       "}}\n",
       "\n",
       "// Listen for the clearing of the current output cell\n",
       "var outputEl = gd.closest('.output');\n",
       "if (outputEl) {{\n",
       "    x.observe(outputEl, {childList: true});\n",
       "}}\n",
       "\n",
       "                        })                };                });            </script>        </div>"
      ]
     },
     "metadata": {},
     "output_type": "display_data"
    }
   ],
   "execution_count": 46
  },
  {
   "metadata": {},
   "cell_type": "markdown",
   "source": [
    "### Testi tamamlayan hastanın ilişkisi\n",
    "- Hastaların çoğunluğu testleri kendileri yapmıştır. Şaşırtıcı bir şekilde, sağlık uzmanları en son sırada yer almaktadır."
   ],
   "id": "f4455460eeac737"
  },
  {
   "metadata": {
    "ExecuteTime": {
     "end_time": "2024-05-30T18:51:42.593573Z",
     "start_time": "2024-05-30T18:51:42.553309Z"
    }
   },
   "cell_type": "code",
   "source": [
    "fig = go.Figure()\n",
    "\n",
    "fig.add_trace(go.Histogram(x=ASD_pos['relation'],histnorm='',\n",
    "                           name='ASD_pos', marker_color = 'purple'),\n",
    "              )\n",
    "fig.add_trace(go.Histogram(x=ASD_neg['relation'],histnorm='',\n",
    "                           name='ASD_neg', marker_color = 'salmon', opacity=0.85),\n",
    "              )\n",
    "fig.update_layout(barmode='group')\n",
    "fig.update_layout(title=\"Relation of patient who completed the test\",\n",
    "                  font_family=\"San Serif\",\n",
    "                  titlefont={'size': 20},\n",
    "                  template='simple_white',\n",
    "                  width=600,\n",
    "                  height=400,\n",
    "                  legend=dict(\n",
    "                      orientation=\"v\", y=1, yanchor=\"top\", x=1.0, xanchor=\"right\" )\n",
    "                  ).update_xaxes(categoryorder='total descending')\n",
    "\n",
    "fig.show()"
   ],
   "id": "60ac88d3e33c2916",
   "outputs": [
    {
     "data": {
      "application/vnd.plotly.v1+json": {
       "data": [
        {
         "histnorm": "",
         "marker": {
          "color": "purple"
         },
         "name": "ASD_pos",
         "x": [
          "Self",
          "Self",
          "Self",
          "Self",
          "Self",
          "Self",
          "Parent",
          "Self",
          "Self",
          "Self",
          "Self",
          "Relative",
          "Self",
          "Self",
          "Parent",
          "Self",
          "Self",
          "Parent",
          "Self",
          "Self",
          "Self",
          "?",
          "Self",
          "Self",
          "Self",
          "Self",
          "Self",
          "Self",
          "Parent",
          "Parent",
          "Self",
          "Self",
          "Self",
          "Self",
          "Self",
          "Parent",
          "Self",
          "Self",
          "Self",
          "Self",
          "Self",
          "Self",
          "Self",
          "Self",
          "Self",
          "Self",
          "Self",
          "Self",
          "Self",
          "Self",
          "Relative",
          "Self",
          "Parent",
          "Self",
          "Self",
          "?",
          "Self",
          "Parent",
          "Self",
          "Self",
          "Parent",
          "Self",
          "Self",
          "Self",
          "Self",
          "Self",
          "Self",
          "Self",
          "Relative",
          "Self",
          "Self",
          "Self",
          "Self",
          "Self",
          "Relative",
          "Self",
          "Self",
          "Self",
          "Self",
          "Parent",
          "Self",
          "Self",
          "Parent",
          "Self",
          "Self",
          "Self",
          "Self",
          "Self",
          "Self",
          "Self",
          "Self",
          "Self",
          "Self",
          "Self",
          "Self",
          "Self",
          "Self",
          "Self",
          "Self",
          "Self",
          "Self",
          "Self",
          "Self",
          "Parent",
          "Self",
          "Self",
          "Self",
          "Self",
          "Self",
          "Self",
          "Self",
          "Self",
          "Self",
          "Self",
          "Self",
          "Self",
          "Self",
          "Self",
          "Self",
          "Self",
          "Self",
          "Self",
          "Self",
          "Self",
          "Parent",
          "Relative",
          "Self",
          "Self",
          "Self",
          "Self",
          "Parent",
          "Self",
          "Self",
          "Self",
          "Self",
          "Self",
          "Self",
          "Self",
          "Self",
          "Self",
          "Self",
          "Others",
          "Parent",
          "Parent",
          "Self",
          "Self",
          "Self",
          "Self",
          "Self",
          "Self",
          "Self",
          "Self",
          "Self",
          "Self",
          "Self",
          "Self",
          "Self",
          "Self",
          "Self",
          "Self",
          "Self",
          "Self",
          "Parent",
          "Self",
          "Self",
          "Self",
          "Self",
          "Self",
          "Self",
          "Self",
          "Self",
          "Self",
          "Self",
          "Self",
          "Self",
          "Self",
          "Self",
          "Self",
          "Self",
          "Relative",
          "Self",
          "Self",
          "Self",
          "Self",
          "Self"
         ],
         "type": "histogram"
        },
        {
         "histnorm": "",
         "marker": {
          "color": "salmon"
         },
         "name": "ASD_neg",
         "opacity": 0.85,
         "x": [
          "Self",
          "?",
          "?",
          "Self",
          "?",
          "Self",
          "?",
          "?",
          "?",
          "Self",
          "Self",
          "Self",
          "?",
          "Self",
          "Health care professional",
          "Self",
          "Self",
          "Self",
          "Self",
          "Self",
          "Self",
          "Self",
          "Health care professional",
          "Self",
          "Self",
          "?",
          "Self",
          "Self",
          "?",
          "Self",
          "Self",
          "Self",
          "Self",
          "Self",
          "Health care professional",
          "Self",
          "Self",
          "Self",
          "Self",
          "?",
          "Parent",
          "Self",
          "Self",
          "Self",
          "Self",
          "Self",
          "Self",
          "?",
          "Health care professional",
          "Self",
          "Self",
          "Self",
          "Self",
          "Self",
          "Self",
          "Self",
          "Self",
          "Self",
          "Self",
          "Self",
          "Self",
          "?",
          "Self",
          "Others",
          "Self",
          "?",
          "Self",
          "Self",
          "Self",
          "Self",
          "Self",
          "Parent",
          "Self",
          "Self",
          "Self",
          "Self",
          "Self",
          "Self",
          "Self",
          "Self",
          "Parent",
          "Self",
          "Self",
          "Self",
          "Self",
          "Self",
          "Parent",
          "Self",
          "Self",
          "Others",
          "Self",
          "?",
          "Parent",
          "Self",
          "Others",
          "Self",
          "Self",
          "Self",
          "Relative",
          "?",
          "Self",
          "Self",
          "Self",
          "Self",
          "Self",
          "Self",
          "Parent",
          "Self",
          "Self",
          "Self",
          "Relative",
          "Self",
          "Self",
          "Self",
          "Self",
          "Self",
          "Self",
          "Self",
          "Self",
          "?",
          "Self",
          "Self",
          "Self",
          "Self",
          "Self",
          "Self",
          "Self",
          "Parent",
          "Self",
          "Self",
          "Self",
          "?",
          "Self",
          "Self",
          "Self",
          "Relative",
          "Relative",
          "Parent",
          "Self",
          "Self",
          "Self",
          "Self",
          "Others",
          "Self",
          "?",
          "Self",
          "?",
          "?",
          "Self",
          "?",
          "Self",
          "?",
          "Self",
          "?",
          "?",
          "Self",
          "Self",
          "Self",
          "Self",
          "Self",
          "Self",
          "Relative",
          "Parent",
          "Self",
          "Self",
          "Self",
          "Self",
          "Self",
          "Self",
          "Self",
          "Self",
          "Self",
          "Self",
          "Relative",
          "Self",
          "Self",
          "Self",
          "Self",
          "?",
          "Self",
          "Self",
          "Relative",
          "?",
          "Self",
          "Self",
          "Relative",
          "Self",
          "Self",
          "Self",
          "Relative",
          "Relative",
          "?",
          "?",
          "Self",
          "Relative",
          "Parent",
          "Self",
          "?",
          "Self",
          "Self",
          "Self",
          "Self",
          "?",
          "Self",
          "Self",
          "Others",
          "Self",
          "Self",
          "Relative",
          "Self",
          "Self",
          "?",
          "Self",
          "Self",
          "Self",
          "Self",
          "?",
          "Self",
          "Self",
          "Self",
          "Relative",
          "Self",
          "Self",
          "Self",
          "?",
          "Self",
          "Self",
          "?",
          "Self",
          "Self",
          "Self",
          "Self",
          "Self",
          "Self",
          "Self",
          "Self",
          "Self",
          "Parent",
          "Self",
          "Self",
          "Self",
          "Self",
          "Self",
          "Self",
          "Relative",
          "Self",
          "Self",
          "Self",
          "Parent",
          "Self",
          "Self",
          "Parent",
          "Self",
          "Self",
          "Relative",
          "Relative",
          "Self",
          "Self",
          "Relative",
          "?",
          "Self",
          "Parent",
          "Relative",
          "Self",
          "Self",
          "Relative",
          "Self",
          "Self",
          "Self",
          "Self",
          "Self",
          "Self",
          "Self",
          "Self",
          "Self",
          "Self",
          "Self",
          "Self",
          "?",
          "Self",
          "Relative",
          "Self",
          "Self",
          "Parent",
          "Self",
          "Self",
          "Self",
          "?",
          "Self",
          "Self",
          "Self",
          "Self",
          "Self",
          "Self",
          "Self",
          "Self",
          "Self",
          "Self",
          "?",
          "Self",
          "Self",
          "Self",
          "Self",
          "Self",
          "Self",
          "Self",
          "?",
          "Self",
          "Self",
          "Self",
          "Self",
          "Health care professional",
          "Parent",
          "?",
          "Self",
          "?",
          "?",
          "Self",
          "Self",
          "Self",
          "Self",
          "Parent",
          "Parent",
          "?",
          "?",
          "?",
          "Self",
          "Self",
          "Self",
          "Self",
          "Self",
          "Self",
          "Self",
          "Relative",
          "Self",
          "Self",
          "Parent",
          "Self",
          "?",
          "Self",
          "Self",
          "Self",
          "?",
          "Parent",
          "Self",
          "Self",
          "Self",
          "Self",
          "Self",
          "Relative",
          "Relative",
          "Self",
          "Self",
          "Self",
          "Self",
          "?",
          "?",
          "Self",
          "Self",
          "Parent",
          "Self",
          "Self",
          "Self",
          "Self",
          "Self",
          "Self",
          "Self",
          "Parent",
          "Self",
          "?",
          "Self",
          "Parent",
          "Self",
          "Self",
          "Self",
          "Self",
          "Self",
          "Self",
          "Self",
          "Self",
          "Self",
          "Self",
          "Self",
          "Self",
          "Self",
          "Self",
          "Self",
          "Self",
          "Self",
          "Self",
          "Parent",
          "Self",
          "Self",
          "Self",
          "Self",
          "Self",
          "Self",
          "Self",
          "Self",
          "Self",
          "Self",
          "Self",
          "Self",
          "Self",
          "Self",
          "?",
          "Self",
          "Parent",
          "Self",
          "Self",
          "Self",
          "Self",
          "Self",
          "Self",
          "Self",
          "Self",
          "?",
          "Parent",
          "Self",
          "Self",
          "Self",
          "Self",
          "Self",
          "Self",
          "Self",
          "?",
          "Self",
          "Self",
          "Self",
          "Self",
          "Parent",
          "Self",
          "Self",
          "Self",
          "Self",
          "Self",
          "Self",
          "Self",
          "?",
          "Parent",
          "Self",
          "Self",
          "Self",
          "Self",
          "Relative",
          "Self",
          "Self",
          "Self",
          "Relative",
          "Self",
          "Self",
          "Self",
          "Parent",
          "Self",
          "Self",
          "Self",
          "Self",
          "Relative",
          "Self",
          "Self",
          "Self",
          "Self",
          "?",
          "Self",
          "Self",
          "Self",
          "Self",
          "Self",
          "Self",
          "Self",
          "Self",
          "Self",
          "Self",
          "Self",
          "Self",
          "Relative",
          "Self",
          "Self",
          "Self",
          "Self",
          "Self",
          "Self",
          "Self",
          "Self",
          "Self",
          "Self",
          "Self",
          "Self",
          "?",
          "Self",
          "Self",
          "Self",
          "?",
          "Self",
          "Self",
          "?",
          "Self",
          "Self",
          "?",
          "Self",
          "Self",
          "Self",
          "?",
          "Self",
          "?",
          "?",
          "?",
          "Relative",
          "Self",
          "Self",
          "Self",
          "Others",
          "Self",
          "Self",
          "?",
          "Self",
          "Self",
          "Parent",
          "Self",
          "?",
          "Self",
          "Self",
          "Self",
          "Relative",
          "Self",
          "Self",
          "Self",
          "Self",
          "?",
          "Self",
          "Self",
          "Self",
          "Relative",
          "Self",
          "Self",
          "Self",
          "Self",
          "Self",
          "Self",
          "Self",
          "Self",
          "?",
          "Self",
          "Self",
          "?",
          "Self",
          "?",
          "Self",
          "Self",
          "Self",
          "Self",
          "Self",
          "Self",
          "?",
          "Parent",
          "Self",
          "Self",
          "Health care professional",
          "?",
          "Self",
          "Self",
          "Self",
          "Parent",
          "Self",
          "Self",
          "Self",
          "Relative",
          "?",
          "Self",
          "Self",
          "Self",
          "Self",
          "Self",
          "Self",
          "Self",
          "Self",
          "Relative",
          "Health care professional",
          "Self",
          "Self",
          "Self",
          "Self",
          "Self",
          "Self",
          "?",
          "Self",
          "Self",
          "Relative",
          "Self",
          "Self",
          "Self",
          "Self",
          "Self",
          "Self",
          "Self",
          "Self",
          "Relative",
          "Self",
          "Relative",
          "Relative",
          "Self",
          "Self",
          "Self",
          "Self",
          "?",
          "Self",
          "Self",
          "?",
          "Self",
          "Self",
          "Self",
          "Self",
          "Self",
          "Relative",
          "Self"
         ],
         "type": "histogram"
        }
       ],
       "layout": {
        "template": {
         "data": {
          "barpolar": [
           {
            "marker": {
             "line": {
              "color": "white",
              "width": 0.5
             },
             "pattern": {
              "fillmode": "overlay",
              "size": 10,
              "solidity": 0.2
             }
            },
            "type": "barpolar"
           }
          ],
          "bar": [
           {
            "error_x": {
             "color": "rgb(36,36,36)"
            },
            "error_y": {
             "color": "rgb(36,36,36)"
            },
            "marker": {
             "line": {
              "color": "white",
              "width": 0.5
             },
             "pattern": {
              "fillmode": "overlay",
              "size": 10,
              "solidity": 0.2
             }
            },
            "type": "bar"
           }
          ],
          "carpet": [
           {
            "aaxis": {
             "endlinecolor": "rgb(36,36,36)",
             "gridcolor": "white",
             "linecolor": "white",
             "minorgridcolor": "white",
             "startlinecolor": "rgb(36,36,36)"
            },
            "baxis": {
             "endlinecolor": "rgb(36,36,36)",
             "gridcolor": "white",
             "linecolor": "white",
             "minorgridcolor": "white",
             "startlinecolor": "rgb(36,36,36)"
            },
            "type": "carpet"
           }
          ],
          "choropleth": [
           {
            "colorbar": {
             "outlinewidth": 1,
             "tickcolor": "rgb(36,36,36)",
             "ticks": "outside"
            },
            "type": "choropleth"
           }
          ],
          "contourcarpet": [
           {
            "colorbar": {
             "outlinewidth": 1,
             "tickcolor": "rgb(36,36,36)",
             "ticks": "outside"
            },
            "type": "contourcarpet"
           }
          ],
          "contour": [
           {
            "colorbar": {
             "outlinewidth": 1,
             "tickcolor": "rgb(36,36,36)",
             "ticks": "outside"
            },
            "colorscale": [
             [
              0.0,
              "#440154"
             ],
             [
              0.1111111111111111,
              "#482878"
             ],
             [
              0.2222222222222222,
              "#3e4989"
             ],
             [
              0.3333333333333333,
              "#31688e"
             ],
             [
              0.4444444444444444,
              "#26828e"
             ],
             [
              0.5555555555555556,
              "#1f9e89"
             ],
             [
              0.6666666666666666,
              "#35b779"
             ],
             [
              0.7777777777777778,
              "#6ece58"
             ],
             [
              0.8888888888888888,
              "#b5de2b"
             ],
             [
              1.0,
              "#fde725"
             ]
            ],
            "type": "contour"
           }
          ],
          "heatmapgl": [
           {
            "colorbar": {
             "outlinewidth": 1,
             "tickcolor": "rgb(36,36,36)",
             "ticks": "outside"
            },
            "colorscale": [
             [
              0.0,
              "#440154"
             ],
             [
              0.1111111111111111,
              "#482878"
             ],
             [
              0.2222222222222222,
              "#3e4989"
             ],
             [
              0.3333333333333333,
              "#31688e"
             ],
             [
              0.4444444444444444,
              "#26828e"
             ],
             [
              0.5555555555555556,
              "#1f9e89"
             ],
             [
              0.6666666666666666,
              "#35b779"
             ],
             [
              0.7777777777777778,
              "#6ece58"
             ],
             [
              0.8888888888888888,
              "#b5de2b"
             ],
             [
              1.0,
              "#fde725"
             ]
            ],
            "type": "heatmapgl"
           }
          ],
          "heatmap": [
           {
            "colorbar": {
             "outlinewidth": 1,
             "tickcolor": "rgb(36,36,36)",
             "ticks": "outside"
            },
            "colorscale": [
             [
              0.0,
              "#440154"
             ],
             [
              0.1111111111111111,
              "#482878"
             ],
             [
              0.2222222222222222,
              "#3e4989"
             ],
             [
              0.3333333333333333,
              "#31688e"
             ],
             [
              0.4444444444444444,
              "#26828e"
             ],
             [
              0.5555555555555556,
              "#1f9e89"
             ],
             [
              0.6666666666666666,
              "#35b779"
             ],
             [
              0.7777777777777778,
              "#6ece58"
             ],
             [
              0.8888888888888888,
              "#b5de2b"
             ],
             [
              1.0,
              "#fde725"
             ]
            ],
            "type": "heatmap"
           }
          ],
          "histogram2dcontour": [
           {
            "colorbar": {
             "outlinewidth": 1,
             "tickcolor": "rgb(36,36,36)",
             "ticks": "outside"
            },
            "colorscale": [
             [
              0.0,
              "#440154"
             ],
             [
              0.1111111111111111,
              "#482878"
             ],
             [
              0.2222222222222222,
              "#3e4989"
             ],
             [
              0.3333333333333333,
              "#31688e"
             ],
             [
              0.4444444444444444,
              "#26828e"
             ],
             [
              0.5555555555555556,
              "#1f9e89"
             ],
             [
              0.6666666666666666,
              "#35b779"
             ],
             [
              0.7777777777777778,
              "#6ece58"
             ],
             [
              0.8888888888888888,
              "#b5de2b"
             ],
             [
              1.0,
              "#fde725"
             ]
            ],
            "type": "histogram2dcontour"
           }
          ],
          "histogram2d": [
           {
            "colorbar": {
             "outlinewidth": 1,
             "tickcolor": "rgb(36,36,36)",
             "ticks": "outside"
            },
            "colorscale": [
             [
              0.0,
              "#440154"
             ],
             [
              0.1111111111111111,
              "#482878"
             ],
             [
              0.2222222222222222,
              "#3e4989"
             ],
             [
              0.3333333333333333,
              "#31688e"
             ],
             [
              0.4444444444444444,
              "#26828e"
             ],
             [
              0.5555555555555556,
              "#1f9e89"
             ],
             [
              0.6666666666666666,
              "#35b779"
             ],
             [
              0.7777777777777778,
              "#6ece58"
             ],
             [
              0.8888888888888888,
              "#b5de2b"
             ],
             [
              1.0,
              "#fde725"
             ]
            ],
            "type": "histogram2d"
           }
          ],
          "histogram": [
           {
            "marker": {
             "line": {
              "color": "white",
              "width": 0.6
             }
            },
            "type": "histogram"
           }
          ],
          "mesh3d": [
           {
            "colorbar": {
             "outlinewidth": 1,
             "tickcolor": "rgb(36,36,36)",
             "ticks": "outside"
            },
            "type": "mesh3d"
           }
          ],
          "parcoords": [
           {
            "line": {
             "colorbar": {
              "outlinewidth": 1,
              "tickcolor": "rgb(36,36,36)",
              "ticks": "outside"
             }
            },
            "type": "parcoords"
           }
          ],
          "pie": [
           {
            "automargin": true,
            "type": "pie"
           }
          ],
          "scatter3d": [
           {
            "line": {
             "colorbar": {
              "outlinewidth": 1,
              "tickcolor": "rgb(36,36,36)",
              "ticks": "outside"
             }
            },
            "marker": {
             "colorbar": {
              "outlinewidth": 1,
              "tickcolor": "rgb(36,36,36)",
              "ticks": "outside"
             }
            },
            "type": "scatter3d"
           }
          ],
          "scattercarpet": [
           {
            "marker": {
             "colorbar": {
              "outlinewidth": 1,
              "tickcolor": "rgb(36,36,36)",
              "ticks": "outside"
             }
            },
            "type": "scattercarpet"
           }
          ],
          "scattergeo": [
           {
            "marker": {
             "colorbar": {
              "outlinewidth": 1,
              "tickcolor": "rgb(36,36,36)",
              "ticks": "outside"
             }
            },
            "type": "scattergeo"
           }
          ],
          "scattergl": [
           {
            "marker": {
             "colorbar": {
              "outlinewidth": 1,
              "tickcolor": "rgb(36,36,36)",
              "ticks": "outside"
             }
            },
            "type": "scattergl"
           }
          ],
          "scattermapbox": [
           {
            "marker": {
             "colorbar": {
              "outlinewidth": 1,
              "tickcolor": "rgb(36,36,36)",
              "ticks": "outside"
             }
            },
            "type": "scattermapbox"
           }
          ],
          "scatterpolargl": [
           {
            "marker": {
             "colorbar": {
              "outlinewidth": 1,
              "tickcolor": "rgb(36,36,36)",
              "ticks": "outside"
             }
            },
            "type": "scatterpolargl"
           }
          ],
          "scatterpolar": [
           {
            "marker": {
             "colorbar": {
              "outlinewidth": 1,
              "tickcolor": "rgb(36,36,36)",
              "ticks": "outside"
             }
            },
            "type": "scatterpolar"
           }
          ],
          "scatter": [
           {
            "fillpattern": {
             "fillmode": "overlay",
             "size": 10,
             "solidity": 0.2
            },
            "type": "scatter"
           }
          ],
          "scatterternary": [
           {
            "marker": {
             "colorbar": {
              "outlinewidth": 1,
              "tickcolor": "rgb(36,36,36)",
              "ticks": "outside"
             }
            },
            "type": "scatterternary"
           }
          ],
          "surface": [
           {
            "colorbar": {
             "outlinewidth": 1,
             "tickcolor": "rgb(36,36,36)",
             "ticks": "outside"
            },
            "colorscale": [
             [
              0.0,
              "#440154"
             ],
             [
              0.1111111111111111,
              "#482878"
             ],
             [
              0.2222222222222222,
              "#3e4989"
             ],
             [
              0.3333333333333333,
              "#31688e"
             ],
             [
              0.4444444444444444,
              "#26828e"
             ],
             [
              0.5555555555555556,
              "#1f9e89"
             ],
             [
              0.6666666666666666,
              "#35b779"
             ],
             [
              0.7777777777777778,
              "#6ece58"
             ],
             [
              0.8888888888888888,
              "#b5de2b"
             ],
             [
              1.0,
              "#fde725"
             ]
            ],
            "type": "surface"
           }
          ],
          "table": [
           {
            "cells": {
             "fill": {
              "color": "rgb(237,237,237)"
             },
             "line": {
              "color": "white"
             }
            },
            "header": {
             "fill": {
              "color": "rgb(217,217,217)"
             },
             "line": {
              "color": "white"
             }
            },
            "type": "table"
           }
          ]
         },
         "layout": {
          "annotationdefaults": {
           "arrowhead": 0,
           "arrowwidth": 1
          },
          "autotypenumbers": "strict",
          "coloraxis": {
           "colorbar": {
            "outlinewidth": 1,
            "tickcolor": "rgb(36,36,36)",
            "ticks": "outside"
           }
          },
          "colorscale": {
           "diverging": [
            [
             0.0,
             "rgb(103,0,31)"
            ],
            [
             0.1,
             "rgb(178,24,43)"
            ],
            [
             0.2,
             "rgb(214,96,77)"
            ],
            [
             0.3,
             "rgb(244,165,130)"
            ],
            [
             0.4,
             "rgb(253,219,199)"
            ],
            [
             0.5,
             "rgb(247,247,247)"
            ],
            [
             0.6,
             "rgb(209,229,240)"
            ],
            [
             0.7,
             "rgb(146,197,222)"
            ],
            [
             0.8,
             "rgb(67,147,195)"
            ],
            [
             0.9,
             "rgb(33,102,172)"
            ],
            [
             1.0,
             "rgb(5,48,97)"
            ]
           ],
           "sequential": [
            [
             0.0,
             "#440154"
            ],
            [
             0.1111111111111111,
             "#482878"
            ],
            [
             0.2222222222222222,
             "#3e4989"
            ],
            [
             0.3333333333333333,
             "#31688e"
            ],
            [
             0.4444444444444444,
             "#26828e"
            ],
            [
             0.5555555555555556,
             "#1f9e89"
            ],
            [
             0.6666666666666666,
             "#35b779"
            ],
            [
             0.7777777777777778,
             "#6ece58"
            ],
            [
             0.8888888888888888,
             "#b5de2b"
            ],
            [
             1.0,
             "#fde725"
            ]
           ],
           "sequentialminus": [
            [
             0.0,
             "#440154"
            ],
            [
             0.1111111111111111,
             "#482878"
            ],
            [
             0.2222222222222222,
             "#3e4989"
            ],
            [
             0.3333333333333333,
             "#31688e"
            ],
            [
             0.4444444444444444,
             "#26828e"
            ],
            [
             0.5555555555555556,
             "#1f9e89"
            ],
            [
             0.6666666666666666,
             "#35b779"
            ],
            [
             0.7777777777777778,
             "#6ece58"
            ],
            [
             0.8888888888888888,
             "#b5de2b"
            ],
            [
             1.0,
             "#fde725"
            ]
           ]
          },
          "colorway": [
           "#1F77B4",
           "#FF7F0E",
           "#2CA02C",
           "#D62728",
           "#9467BD",
           "#8C564B",
           "#E377C2",
           "#7F7F7F",
           "#BCBD22",
           "#17BECF"
          ],
          "font": {
           "color": "rgb(36,36,36)"
          },
          "geo": {
           "bgcolor": "white",
           "lakecolor": "white",
           "landcolor": "white",
           "showlakes": true,
           "showland": true,
           "subunitcolor": "white"
          },
          "hoverlabel": {
           "align": "left"
          },
          "hovermode": "closest",
          "mapbox": {
           "style": "light"
          },
          "paper_bgcolor": "white",
          "plot_bgcolor": "white",
          "polar": {
           "angularaxis": {
            "gridcolor": "rgb(232,232,232)",
            "linecolor": "rgb(36,36,36)",
            "showgrid": false,
            "showline": true,
            "ticks": "outside"
           },
           "bgcolor": "white",
           "radialaxis": {
            "gridcolor": "rgb(232,232,232)",
            "linecolor": "rgb(36,36,36)",
            "showgrid": false,
            "showline": true,
            "ticks": "outside"
           }
          },
          "scene": {
           "xaxis": {
            "backgroundcolor": "white",
            "gridcolor": "rgb(232,232,232)",
            "gridwidth": 2,
            "linecolor": "rgb(36,36,36)",
            "showbackground": true,
            "showgrid": false,
            "showline": true,
            "ticks": "outside",
            "zeroline": false,
            "zerolinecolor": "rgb(36,36,36)"
           },
           "yaxis": {
            "backgroundcolor": "white",
            "gridcolor": "rgb(232,232,232)",
            "gridwidth": 2,
            "linecolor": "rgb(36,36,36)",
            "showbackground": true,
            "showgrid": false,
            "showline": true,
            "ticks": "outside",
            "zeroline": false,
            "zerolinecolor": "rgb(36,36,36)"
           },
           "zaxis": {
            "backgroundcolor": "white",
            "gridcolor": "rgb(232,232,232)",
            "gridwidth": 2,
            "linecolor": "rgb(36,36,36)",
            "showbackground": true,
            "showgrid": false,
            "showline": true,
            "ticks": "outside",
            "zeroline": false,
            "zerolinecolor": "rgb(36,36,36)"
           }
          },
          "shapedefaults": {
           "fillcolor": "black",
           "line": {
            "width": 0
           },
           "opacity": 0.3
          },
          "ternary": {
           "aaxis": {
            "gridcolor": "rgb(232,232,232)",
            "linecolor": "rgb(36,36,36)",
            "showgrid": false,
            "showline": true,
            "ticks": "outside"
           },
           "baxis": {
            "gridcolor": "rgb(232,232,232)",
            "linecolor": "rgb(36,36,36)",
            "showgrid": false,
            "showline": true,
            "ticks": "outside"
           },
           "bgcolor": "white",
           "caxis": {
            "gridcolor": "rgb(232,232,232)",
            "linecolor": "rgb(36,36,36)",
            "showgrid": false,
            "showline": true,
            "ticks": "outside"
           }
          },
          "title": {
           "x": 0.05
          },
          "xaxis": {
           "automargin": true,
           "gridcolor": "rgb(232,232,232)",
           "linecolor": "rgb(36,36,36)",
           "showgrid": false,
           "showline": true,
           "ticks": "outside",
           "title": {
            "standoff": 15
           },
           "zeroline": false,
           "zerolinecolor": "rgb(36,36,36)"
          },
          "yaxis": {
           "automargin": true,
           "gridcolor": "rgb(232,232,232)",
           "linecolor": "rgb(36,36,36)",
           "showgrid": false,
           "showline": true,
           "ticks": "outside",
           "title": {
            "standoff": 15
           },
           "zeroline": false,
           "zerolinecolor": "rgb(36,36,36)"
          }
         }
        },
        "barmode": "group",
        "font": {
         "family": "San Serif"
        },
        "title": {
         "text": "Relation of patient who completed the test",
         "font": {
          "size": 20
         }
        },
        "legend": {
         "orientation": "v",
         "y": 1,
         "yanchor": "top",
         "x": 1.0,
         "xanchor": "right"
        },
        "width": 600,
        "height": 400,
        "xaxis": {
         "categoryorder": "total descending"
        }
       },
       "config": {
        "plotlyServerURL": "https://plot.ly"
       }
      },
      "text/html": [
       "<div>                            <div id=\"10b60218-6952-492c-b205-53db2f45e7ce\" class=\"plotly-graph-div\" style=\"height:400px; width:600px;\"></div>            <script type=\"text/javascript\">                require([\"plotly\"], function(Plotly) {                    window.PLOTLYENV=window.PLOTLYENV || {};                                    if (document.getElementById(\"10b60218-6952-492c-b205-53db2f45e7ce\")) {                    Plotly.newPlot(                        \"10b60218-6952-492c-b205-53db2f45e7ce\",                        [{\"histnorm\":\"\",\"marker\":{\"color\":\"purple\"},\"name\":\"ASD_pos\",\"x\":[\"Self\",\"Self\",\"Self\",\"Self\",\"Self\",\"Self\",\"Parent\",\"Self\",\"Self\",\"Self\",\"Self\",\"Relative\",\"Self\",\"Self\",\"Parent\",\"Self\",\"Self\",\"Parent\",\"Self\",\"Self\",\"Self\",\"?\",\"Self\",\"Self\",\"Self\",\"Self\",\"Self\",\"Self\",\"Parent\",\"Parent\",\"Self\",\"Self\",\"Self\",\"Self\",\"Self\",\"Parent\",\"Self\",\"Self\",\"Self\",\"Self\",\"Self\",\"Self\",\"Self\",\"Self\",\"Self\",\"Self\",\"Self\",\"Self\",\"Self\",\"Self\",\"Relative\",\"Self\",\"Parent\",\"Self\",\"Self\",\"?\",\"Self\",\"Parent\",\"Self\",\"Self\",\"Parent\",\"Self\",\"Self\",\"Self\",\"Self\",\"Self\",\"Self\",\"Self\",\"Relative\",\"Self\",\"Self\",\"Self\",\"Self\",\"Self\",\"Relative\",\"Self\",\"Self\",\"Self\",\"Self\",\"Parent\",\"Self\",\"Self\",\"Parent\",\"Self\",\"Self\",\"Self\",\"Self\",\"Self\",\"Self\",\"Self\",\"Self\",\"Self\",\"Self\",\"Self\",\"Self\",\"Self\",\"Self\",\"Self\",\"Self\",\"Self\",\"Self\",\"Self\",\"Self\",\"Parent\",\"Self\",\"Self\",\"Self\",\"Self\",\"Self\",\"Self\",\"Self\",\"Self\",\"Self\",\"Self\",\"Self\",\"Self\",\"Self\",\"Self\",\"Self\",\"Self\",\"Self\",\"Self\",\"Self\",\"Self\",\"Parent\",\"Relative\",\"Self\",\"Self\",\"Self\",\"Self\",\"Parent\",\"Self\",\"Self\",\"Self\",\"Self\",\"Self\",\"Self\",\"Self\",\"Self\",\"Self\",\"Self\",\"Others\",\"Parent\",\"Parent\",\"Self\",\"Self\",\"Self\",\"Self\",\"Self\",\"Self\",\"Self\",\"Self\",\"Self\",\"Self\",\"Self\",\"Self\",\"Self\",\"Self\",\"Self\",\"Self\",\"Self\",\"Self\",\"Parent\",\"Self\",\"Self\",\"Self\",\"Self\",\"Self\",\"Self\",\"Self\",\"Self\",\"Self\",\"Self\",\"Self\",\"Self\",\"Self\",\"Self\",\"Self\",\"Self\",\"Relative\",\"Self\",\"Self\",\"Self\",\"Self\",\"Self\"],\"type\":\"histogram\"},{\"histnorm\":\"\",\"marker\":{\"color\":\"salmon\"},\"name\":\"ASD_neg\",\"opacity\":0.85,\"x\":[\"Self\",\"?\",\"?\",\"Self\",\"?\",\"Self\",\"?\",\"?\",\"?\",\"Self\",\"Self\",\"Self\",\"?\",\"Self\",\"Health care professional\",\"Self\",\"Self\",\"Self\",\"Self\",\"Self\",\"Self\",\"Self\",\"Health care professional\",\"Self\",\"Self\",\"?\",\"Self\",\"Self\",\"?\",\"Self\",\"Self\",\"Self\",\"Self\",\"Self\",\"Health care professional\",\"Self\",\"Self\",\"Self\",\"Self\",\"?\",\"Parent\",\"Self\",\"Self\",\"Self\",\"Self\",\"Self\",\"Self\",\"?\",\"Health care professional\",\"Self\",\"Self\",\"Self\",\"Self\",\"Self\",\"Self\",\"Self\",\"Self\",\"Self\",\"Self\",\"Self\",\"Self\",\"?\",\"Self\",\"Others\",\"Self\",\"?\",\"Self\",\"Self\",\"Self\",\"Self\",\"Self\",\"Parent\",\"Self\",\"Self\",\"Self\",\"Self\",\"Self\",\"Self\",\"Self\",\"Self\",\"Parent\",\"Self\",\"Self\",\"Self\",\"Self\",\"Self\",\"Parent\",\"Self\",\"Self\",\"Others\",\"Self\",\"?\",\"Parent\",\"Self\",\"Others\",\"Self\",\"Self\",\"Self\",\"Relative\",\"?\",\"Self\",\"Self\",\"Self\",\"Self\",\"Self\",\"Self\",\"Parent\",\"Self\",\"Self\",\"Self\",\"Relative\",\"Self\",\"Self\",\"Self\",\"Self\",\"Self\",\"Self\",\"Self\",\"Self\",\"?\",\"Self\",\"Self\",\"Self\",\"Self\",\"Self\",\"Self\",\"Self\",\"Parent\",\"Self\",\"Self\",\"Self\",\"?\",\"Self\",\"Self\",\"Self\",\"Relative\",\"Relative\",\"Parent\",\"Self\",\"Self\",\"Self\",\"Self\",\"Others\",\"Self\",\"?\",\"Self\",\"?\",\"?\",\"Self\",\"?\",\"Self\",\"?\",\"Self\",\"?\",\"?\",\"Self\",\"Self\",\"Self\",\"Self\",\"Self\",\"Self\",\"Relative\",\"Parent\",\"Self\",\"Self\",\"Self\",\"Self\",\"Self\",\"Self\",\"Self\",\"Self\",\"Self\",\"Self\",\"Relative\",\"Self\",\"Self\",\"Self\",\"Self\",\"?\",\"Self\",\"Self\",\"Relative\",\"?\",\"Self\",\"Self\",\"Relative\",\"Self\",\"Self\",\"Self\",\"Relative\",\"Relative\",\"?\",\"?\",\"Self\",\"Relative\",\"Parent\",\"Self\",\"?\",\"Self\",\"Self\",\"Self\",\"Self\",\"?\",\"Self\",\"Self\",\"Others\",\"Self\",\"Self\",\"Relative\",\"Self\",\"Self\",\"?\",\"Self\",\"Self\",\"Self\",\"Self\",\"?\",\"Self\",\"Self\",\"Self\",\"Relative\",\"Self\",\"Self\",\"Self\",\"?\",\"Self\",\"Self\",\"?\",\"Self\",\"Self\",\"Self\",\"Self\",\"Self\",\"Self\",\"Self\",\"Self\",\"Self\",\"Parent\",\"Self\",\"Self\",\"Self\",\"Self\",\"Self\",\"Self\",\"Relative\",\"Self\",\"Self\",\"Self\",\"Parent\",\"Self\",\"Self\",\"Parent\",\"Self\",\"Self\",\"Relative\",\"Relative\",\"Self\",\"Self\",\"Relative\",\"?\",\"Self\",\"Parent\",\"Relative\",\"Self\",\"Self\",\"Relative\",\"Self\",\"Self\",\"Self\",\"Self\",\"Self\",\"Self\",\"Self\",\"Self\",\"Self\",\"Self\",\"Self\",\"Self\",\"?\",\"Self\",\"Relative\",\"Self\",\"Self\",\"Parent\",\"Self\",\"Self\",\"Self\",\"?\",\"Self\",\"Self\",\"Self\",\"Self\",\"Self\",\"Self\",\"Self\",\"Self\",\"Self\",\"Self\",\"?\",\"Self\",\"Self\",\"Self\",\"Self\",\"Self\",\"Self\",\"Self\",\"?\",\"Self\",\"Self\",\"Self\",\"Self\",\"Health care professional\",\"Parent\",\"?\",\"Self\",\"?\",\"?\",\"Self\",\"Self\",\"Self\",\"Self\",\"Parent\",\"Parent\",\"?\",\"?\",\"?\",\"Self\",\"Self\",\"Self\",\"Self\",\"Self\",\"Self\",\"Self\",\"Relative\",\"Self\",\"Self\",\"Parent\",\"Self\",\"?\",\"Self\",\"Self\",\"Self\",\"?\",\"Parent\",\"Self\",\"Self\",\"Self\",\"Self\",\"Self\",\"Relative\",\"Relative\",\"Self\",\"Self\",\"Self\",\"Self\",\"?\",\"?\",\"Self\",\"Self\",\"Parent\",\"Self\",\"Self\",\"Self\",\"Self\",\"Self\",\"Self\",\"Self\",\"Parent\",\"Self\",\"?\",\"Self\",\"Parent\",\"Self\",\"Self\",\"Self\",\"Self\",\"Self\",\"Self\",\"Self\",\"Self\",\"Self\",\"Self\",\"Self\",\"Self\",\"Self\",\"Self\",\"Self\",\"Self\",\"Self\",\"Self\",\"Parent\",\"Self\",\"Self\",\"Self\",\"Self\",\"Self\",\"Self\",\"Self\",\"Self\",\"Self\",\"Self\",\"Self\",\"Self\",\"Self\",\"Self\",\"?\",\"Self\",\"Parent\",\"Self\",\"Self\",\"Self\",\"Self\",\"Self\",\"Self\",\"Self\",\"Self\",\"?\",\"Parent\",\"Self\",\"Self\",\"Self\",\"Self\",\"Self\",\"Self\",\"Self\",\"?\",\"Self\",\"Self\",\"Self\",\"Self\",\"Parent\",\"Self\",\"Self\",\"Self\",\"Self\",\"Self\",\"Self\",\"Self\",\"?\",\"Parent\",\"Self\",\"Self\",\"Self\",\"Self\",\"Relative\",\"Self\",\"Self\",\"Self\",\"Relative\",\"Self\",\"Self\",\"Self\",\"Parent\",\"Self\",\"Self\",\"Self\",\"Self\",\"Relative\",\"Self\",\"Self\",\"Self\",\"Self\",\"?\",\"Self\",\"Self\",\"Self\",\"Self\",\"Self\",\"Self\",\"Self\",\"Self\",\"Self\",\"Self\",\"Self\",\"Self\",\"Relative\",\"Self\",\"Self\",\"Self\",\"Self\",\"Self\",\"Self\",\"Self\",\"Self\",\"Self\",\"Self\",\"Self\",\"Self\",\"?\",\"Self\",\"Self\",\"Self\",\"?\",\"Self\",\"Self\",\"?\",\"Self\",\"Self\",\"?\",\"Self\",\"Self\",\"Self\",\"?\",\"Self\",\"?\",\"?\",\"?\",\"Relative\",\"Self\",\"Self\",\"Self\",\"Others\",\"Self\",\"Self\",\"?\",\"Self\",\"Self\",\"Parent\",\"Self\",\"?\",\"Self\",\"Self\",\"Self\",\"Relative\",\"Self\",\"Self\",\"Self\",\"Self\",\"?\",\"Self\",\"Self\",\"Self\",\"Relative\",\"Self\",\"Self\",\"Self\",\"Self\",\"Self\",\"Self\",\"Self\",\"Self\",\"?\",\"Self\",\"Self\",\"?\",\"Self\",\"?\",\"Self\",\"Self\",\"Self\",\"Self\",\"Self\",\"Self\",\"?\",\"Parent\",\"Self\",\"Self\",\"Health care professional\",\"?\",\"Self\",\"Self\",\"Self\",\"Parent\",\"Self\",\"Self\",\"Self\",\"Relative\",\"?\",\"Self\",\"Self\",\"Self\",\"Self\",\"Self\",\"Self\",\"Self\",\"Self\",\"Relative\",\"Health care professional\",\"Self\",\"Self\",\"Self\",\"Self\",\"Self\",\"Self\",\"?\",\"Self\",\"Self\",\"Relative\",\"Self\",\"Self\",\"Self\",\"Self\",\"Self\",\"Self\",\"Self\",\"Self\",\"Relative\",\"Self\",\"Relative\",\"Relative\",\"Self\",\"Self\",\"Self\",\"Self\",\"?\",\"Self\",\"Self\",\"?\",\"Self\",\"Self\",\"Self\",\"Self\",\"Self\",\"Relative\",\"Self\"],\"type\":\"histogram\"}],                        {\"template\":{\"data\":{\"barpolar\":[{\"marker\":{\"line\":{\"color\":\"white\",\"width\":0.5},\"pattern\":{\"fillmode\":\"overlay\",\"size\":10,\"solidity\":0.2}},\"type\":\"barpolar\"}],\"bar\":[{\"error_x\":{\"color\":\"rgb(36,36,36)\"},\"error_y\":{\"color\":\"rgb(36,36,36)\"},\"marker\":{\"line\":{\"color\":\"white\",\"width\":0.5},\"pattern\":{\"fillmode\":\"overlay\",\"size\":10,\"solidity\":0.2}},\"type\":\"bar\"}],\"carpet\":[{\"aaxis\":{\"endlinecolor\":\"rgb(36,36,36)\",\"gridcolor\":\"white\",\"linecolor\":\"white\",\"minorgridcolor\":\"white\",\"startlinecolor\":\"rgb(36,36,36)\"},\"baxis\":{\"endlinecolor\":\"rgb(36,36,36)\",\"gridcolor\":\"white\",\"linecolor\":\"white\",\"minorgridcolor\":\"white\",\"startlinecolor\":\"rgb(36,36,36)\"},\"type\":\"carpet\"}],\"choropleth\":[{\"colorbar\":{\"outlinewidth\":1,\"tickcolor\":\"rgb(36,36,36)\",\"ticks\":\"outside\"},\"type\":\"choropleth\"}],\"contourcarpet\":[{\"colorbar\":{\"outlinewidth\":1,\"tickcolor\":\"rgb(36,36,36)\",\"ticks\":\"outside\"},\"type\":\"contourcarpet\"}],\"contour\":[{\"colorbar\":{\"outlinewidth\":1,\"tickcolor\":\"rgb(36,36,36)\",\"ticks\":\"outside\"},\"colorscale\":[[0.0,\"#440154\"],[0.1111111111111111,\"#482878\"],[0.2222222222222222,\"#3e4989\"],[0.3333333333333333,\"#31688e\"],[0.4444444444444444,\"#26828e\"],[0.5555555555555556,\"#1f9e89\"],[0.6666666666666666,\"#35b779\"],[0.7777777777777778,\"#6ece58\"],[0.8888888888888888,\"#b5de2b\"],[1.0,\"#fde725\"]],\"type\":\"contour\"}],\"heatmapgl\":[{\"colorbar\":{\"outlinewidth\":1,\"tickcolor\":\"rgb(36,36,36)\",\"ticks\":\"outside\"},\"colorscale\":[[0.0,\"#440154\"],[0.1111111111111111,\"#482878\"],[0.2222222222222222,\"#3e4989\"],[0.3333333333333333,\"#31688e\"],[0.4444444444444444,\"#26828e\"],[0.5555555555555556,\"#1f9e89\"],[0.6666666666666666,\"#35b779\"],[0.7777777777777778,\"#6ece58\"],[0.8888888888888888,\"#b5de2b\"],[1.0,\"#fde725\"]],\"type\":\"heatmapgl\"}],\"heatmap\":[{\"colorbar\":{\"outlinewidth\":1,\"tickcolor\":\"rgb(36,36,36)\",\"ticks\":\"outside\"},\"colorscale\":[[0.0,\"#440154\"],[0.1111111111111111,\"#482878\"],[0.2222222222222222,\"#3e4989\"],[0.3333333333333333,\"#31688e\"],[0.4444444444444444,\"#26828e\"],[0.5555555555555556,\"#1f9e89\"],[0.6666666666666666,\"#35b779\"],[0.7777777777777778,\"#6ece58\"],[0.8888888888888888,\"#b5de2b\"],[1.0,\"#fde725\"]],\"type\":\"heatmap\"}],\"histogram2dcontour\":[{\"colorbar\":{\"outlinewidth\":1,\"tickcolor\":\"rgb(36,36,36)\",\"ticks\":\"outside\"},\"colorscale\":[[0.0,\"#440154\"],[0.1111111111111111,\"#482878\"],[0.2222222222222222,\"#3e4989\"],[0.3333333333333333,\"#31688e\"],[0.4444444444444444,\"#26828e\"],[0.5555555555555556,\"#1f9e89\"],[0.6666666666666666,\"#35b779\"],[0.7777777777777778,\"#6ece58\"],[0.8888888888888888,\"#b5de2b\"],[1.0,\"#fde725\"]],\"type\":\"histogram2dcontour\"}],\"histogram2d\":[{\"colorbar\":{\"outlinewidth\":1,\"tickcolor\":\"rgb(36,36,36)\",\"ticks\":\"outside\"},\"colorscale\":[[0.0,\"#440154\"],[0.1111111111111111,\"#482878\"],[0.2222222222222222,\"#3e4989\"],[0.3333333333333333,\"#31688e\"],[0.4444444444444444,\"#26828e\"],[0.5555555555555556,\"#1f9e89\"],[0.6666666666666666,\"#35b779\"],[0.7777777777777778,\"#6ece58\"],[0.8888888888888888,\"#b5de2b\"],[1.0,\"#fde725\"]],\"type\":\"histogram2d\"}],\"histogram\":[{\"marker\":{\"line\":{\"color\":\"white\",\"width\":0.6}},\"type\":\"histogram\"}],\"mesh3d\":[{\"colorbar\":{\"outlinewidth\":1,\"tickcolor\":\"rgb(36,36,36)\",\"ticks\":\"outside\"},\"type\":\"mesh3d\"}],\"parcoords\":[{\"line\":{\"colorbar\":{\"outlinewidth\":1,\"tickcolor\":\"rgb(36,36,36)\",\"ticks\":\"outside\"}},\"type\":\"parcoords\"}],\"pie\":[{\"automargin\":true,\"type\":\"pie\"}],\"scatter3d\":[{\"line\":{\"colorbar\":{\"outlinewidth\":1,\"tickcolor\":\"rgb(36,36,36)\",\"ticks\":\"outside\"}},\"marker\":{\"colorbar\":{\"outlinewidth\":1,\"tickcolor\":\"rgb(36,36,36)\",\"ticks\":\"outside\"}},\"type\":\"scatter3d\"}],\"scattercarpet\":[{\"marker\":{\"colorbar\":{\"outlinewidth\":1,\"tickcolor\":\"rgb(36,36,36)\",\"ticks\":\"outside\"}},\"type\":\"scattercarpet\"}],\"scattergeo\":[{\"marker\":{\"colorbar\":{\"outlinewidth\":1,\"tickcolor\":\"rgb(36,36,36)\",\"ticks\":\"outside\"}},\"type\":\"scattergeo\"}],\"scattergl\":[{\"marker\":{\"colorbar\":{\"outlinewidth\":1,\"tickcolor\":\"rgb(36,36,36)\",\"ticks\":\"outside\"}},\"type\":\"scattergl\"}],\"scattermapbox\":[{\"marker\":{\"colorbar\":{\"outlinewidth\":1,\"tickcolor\":\"rgb(36,36,36)\",\"ticks\":\"outside\"}},\"type\":\"scattermapbox\"}],\"scatterpolargl\":[{\"marker\":{\"colorbar\":{\"outlinewidth\":1,\"tickcolor\":\"rgb(36,36,36)\",\"ticks\":\"outside\"}},\"type\":\"scatterpolargl\"}],\"scatterpolar\":[{\"marker\":{\"colorbar\":{\"outlinewidth\":1,\"tickcolor\":\"rgb(36,36,36)\",\"ticks\":\"outside\"}},\"type\":\"scatterpolar\"}],\"scatter\":[{\"fillpattern\":{\"fillmode\":\"overlay\",\"size\":10,\"solidity\":0.2},\"type\":\"scatter\"}],\"scatterternary\":[{\"marker\":{\"colorbar\":{\"outlinewidth\":1,\"tickcolor\":\"rgb(36,36,36)\",\"ticks\":\"outside\"}},\"type\":\"scatterternary\"}],\"surface\":[{\"colorbar\":{\"outlinewidth\":1,\"tickcolor\":\"rgb(36,36,36)\",\"ticks\":\"outside\"},\"colorscale\":[[0.0,\"#440154\"],[0.1111111111111111,\"#482878\"],[0.2222222222222222,\"#3e4989\"],[0.3333333333333333,\"#31688e\"],[0.4444444444444444,\"#26828e\"],[0.5555555555555556,\"#1f9e89\"],[0.6666666666666666,\"#35b779\"],[0.7777777777777778,\"#6ece58\"],[0.8888888888888888,\"#b5de2b\"],[1.0,\"#fde725\"]],\"type\":\"surface\"}],\"table\":[{\"cells\":{\"fill\":{\"color\":\"rgb(237,237,237)\"},\"line\":{\"color\":\"white\"}},\"header\":{\"fill\":{\"color\":\"rgb(217,217,217)\"},\"line\":{\"color\":\"white\"}},\"type\":\"table\"}]},\"layout\":{\"annotationdefaults\":{\"arrowhead\":0,\"arrowwidth\":1},\"autotypenumbers\":\"strict\",\"coloraxis\":{\"colorbar\":{\"outlinewidth\":1,\"tickcolor\":\"rgb(36,36,36)\",\"ticks\":\"outside\"}},\"colorscale\":{\"diverging\":[[0.0,\"rgb(103,0,31)\"],[0.1,\"rgb(178,24,43)\"],[0.2,\"rgb(214,96,77)\"],[0.3,\"rgb(244,165,130)\"],[0.4,\"rgb(253,219,199)\"],[0.5,\"rgb(247,247,247)\"],[0.6,\"rgb(209,229,240)\"],[0.7,\"rgb(146,197,222)\"],[0.8,\"rgb(67,147,195)\"],[0.9,\"rgb(33,102,172)\"],[1.0,\"rgb(5,48,97)\"]],\"sequential\":[[0.0,\"#440154\"],[0.1111111111111111,\"#482878\"],[0.2222222222222222,\"#3e4989\"],[0.3333333333333333,\"#31688e\"],[0.4444444444444444,\"#26828e\"],[0.5555555555555556,\"#1f9e89\"],[0.6666666666666666,\"#35b779\"],[0.7777777777777778,\"#6ece58\"],[0.8888888888888888,\"#b5de2b\"],[1.0,\"#fde725\"]],\"sequentialminus\":[[0.0,\"#440154\"],[0.1111111111111111,\"#482878\"],[0.2222222222222222,\"#3e4989\"],[0.3333333333333333,\"#31688e\"],[0.4444444444444444,\"#26828e\"],[0.5555555555555556,\"#1f9e89\"],[0.6666666666666666,\"#35b779\"],[0.7777777777777778,\"#6ece58\"],[0.8888888888888888,\"#b5de2b\"],[1.0,\"#fde725\"]]},\"colorway\":[\"#1F77B4\",\"#FF7F0E\",\"#2CA02C\",\"#D62728\",\"#9467BD\",\"#8C564B\",\"#E377C2\",\"#7F7F7F\",\"#BCBD22\",\"#17BECF\"],\"font\":{\"color\":\"rgb(36,36,36)\"},\"geo\":{\"bgcolor\":\"white\",\"lakecolor\":\"white\",\"landcolor\":\"white\",\"showlakes\":true,\"showland\":true,\"subunitcolor\":\"white\"},\"hoverlabel\":{\"align\":\"left\"},\"hovermode\":\"closest\",\"mapbox\":{\"style\":\"light\"},\"paper_bgcolor\":\"white\",\"plot_bgcolor\":\"white\",\"polar\":{\"angularaxis\":{\"gridcolor\":\"rgb(232,232,232)\",\"linecolor\":\"rgb(36,36,36)\",\"showgrid\":false,\"showline\":true,\"ticks\":\"outside\"},\"bgcolor\":\"white\",\"radialaxis\":{\"gridcolor\":\"rgb(232,232,232)\",\"linecolor\":\"rgb(36,36,36)\",\"showgrid\":false,\"showline\":true,\"ticks\":\"outside\"}},\"scene\":{\"xaxis\":{\"backgroundcolor\":\"white\",\"gridcolor\":\"rgb(232,232,232)\",\"gridwidth\":2,\"linecolor\":\"rgb(36,36,36)\",\"showbackground\":true,\"showgrid\":false,\"showline\":true,\"ticks\":\"outside\",\"zeroline\":false,\"zerolinecolor\":\"rgb(36,36,36)\"},\"yaxis\":{\"backgroundcolor\":\"white\",\"gridcolor\":\"rgb(232,232,232)\",\"gridwidth\":2,\"linecolor\":\"rgb(36,36,36)\",\"showbackground\":true,\"showgrid\":false,\"showline\":true,\"ticks\":\"outside\",\"zeroline\":false,\"zerolinecolor\":\"rgb(36,36,36)\"},\"zaxis\":{\"backgroundcolor\":\"white\",\"gridcolor\":\"rgb(232,232,232)\",\"gridwidth\":2,\"linecolor\":\"rgb(36,36,36)\",\"showbackground\":true,\"showgrid\":false,\"showline\":true,\"ticks\":\"outside\",\"zeroline\":false,\"zerolinecolor\":\"rgb(36,36,36)\"}},\"shapedefaults\":{\"fillcolor\":\"black\",\"line\":{\"width\":0},\"opacity\":0.3},\"ternary\":{\"aaxis\":{\"gridcolor\":\"rgb(232,232,232)\",\"linecolor\":\"rgb(36,36,36)\",\"showgrid\":false,\"showline\":true,\"ticks\":\"outside\"},\"baxis\":{\"gridcolor\":\"rgb(232,232,232)\",\"linecolor\":\"rgb(36,36,36)\",\"showgrid\":false,\"showline\":true,\"ticks\":\"outside\"},\"bgcolor\":\"white\",\"caxis\":{\"gridcolor\":\"rgb(232,232,232)\",\"linecolor\":\"rgb(36,36,36)\",\"showgrid\":false,\"showline\":true,\"ticks\":\"outside\"}},\"title\":{\"x\":0.05},\"xaxis\":{\"automargin\":true,\"gridcolor\":\"rgb(232,232,232)\",\"linecolor\":\"rgb(36,36,36)\",\"showgrid\":false,\"showline\":true,\"ticks\":\"outside\",\"title\":{\"standoff\":15},\"zeroline\":false,\"zerolinecolor\":\"rgb(36,36,36)\"},\"yaxis\":{\"automargin\":true,\"gridcolor\":\"rgb(232,232,232)\",\"linecolor\":\"rgb(36,36,36)\",\"showgrid\":false,\"showline\":true,\"ticks\":\"outside\",\"title\":{\"standoff\":15},\"zeroline\":false,\"zerolinecolor\":\"rgb(36,36,36)\"}}},\"barmode\":\"group\",\"font\":{\"family\":\"San Serif\"},\"title\":{\"text\":\"Relation of patient who completed the test\",\"font\":{\"size\":20}},\"legend\":{\"orientation\":\"v\",\"y\":1,\"yanchor\":\"top\",\"x\":1.0,\"xanchor\":\"right\"},\"width\":600,\"height\":400,\"xaxis\":{\"categoryorder\":\"total descending\"}},                        {\"responsive\": true}                    ).then(function(){\n",
       "                            \n",
       "var gd = document.getElementById('10b60218-6952-492c-b205-53db2f45e7ce');\n",
       "var x = new MutationObserver(function (mutations, observer) {{\n",
       "        var display = window.getComputedStyle(gd).display;\n",
       "        if (!display || display === 'none') {{\n",
       "            console.log([gd, 'removed!']);\n",
       "            Plotly.purge(gd);\n",
       "            observer.disconnect();\n",
       "        }}\n",
       "}});\n",
       "\n",
       "// Listen for the removal of the full notebook cells\n",
       "var notebookContainer = gd.closest('#notebook-container');\n",
       "if (notebookContainer) {{\n",
       "    x.observe(notebookContainer, {childList: true});\n",
       "}}\n",
       "\n",
       "// Listen for the clearing of the current output cell\n",
       "var outputEl = gd.closest('.output');\n",
       "if (outputEl) {{\n",
       "    x.observe(outputEl, {childList: true});\n",
       "}}\n",
       "\n",
       "                        })                };                });            </script>        </div>"
      ]
     },
     "metadata": {},
     "output_type": "display_data"
    }
   ],
   "execution_count": 47
  },
  {
   "metadata": {},
   "cell_type": "markdown",
   "source": [
    "### Yaş Dağılımı\n",
    "- ASD_positive:\n",
    "  > Ortalama yaş 32; minimum yaş 10.9 yıl; maksimum yaş 71.1 yıl\n",
    "- ASD_negative\n",
    "  > Ortalama yaş 27.6; minimum yaş 9.6 yıl; maksimum yaş 72.4 yıl"
   ],
   "id": "70fcb798ac591f5c"
  },
  {
   "metadata": {
    "ExecuteTime": {
     "end_time": "2024-05-30T18:51:42.744244Z",
     "start_time": "2024-05-30T18:51:42.638771Z"
    }
   },
   "cell_type": "code",
   "source": [
    "group_labels = ['ASD_pos', 'ASD_neg']\n",
    "fig = ff.create_distplot([ASD_pos['age'], ASD_neg['age']],\n",
    "                         group_labels,\n",
    "                         show_hist=True,\n",
    "                         show_rug=True,\n",
    "                         colors=['purple', 'salmon'],\n",
    "                         )\n",
    "fig.update_layout(title='<b>Age distribution<b>',\n",
    "                  xaxis_title='Age',\n",
    "                  yaxis_title='density',\n",
    "                  titlefont={'size': 20},\n",
    "                  font_family = 'San Serif',\n",
    "                  width=700,height=500,\n",
    "                  template=\"simple_white\",\n",
    "                  showlegend=True,\n",
    "                  legend=dict(\n",
    "                      orientation=\"v\",\n",
    "                      y=1,\n",
    "                      yanchor=\"top\",\n",
    "                      x=1.0,\n",
    "                      xanchor=\"right\",\n",
    "                  )\n",
    "                  )\n",
    "fig.add_vrect(\n",
    "    x0=9, x1=35,\n",
    "    annotation_text=\"Young patients\", annotation_position=\"top\",\n",
    "    fillcolor=\"lightgray\", opacity=0.5,\n",
    "    layer=\"below\", line_width=0,\n",
    "),\n",
    "fig.show()"
   ],
   "id": "e55b28bb01f30353",
   "outputs": [
    {
     "data": {
      "application/vnd.plotly.v1+json": {
       "data": [
        {
         "autobinx": false,
         "histnorm": "probability density",
         "legendgroup": "ASD_pos",
         "marker": {
          "color": "purple"
         },
         "name": "ASD_pos",
         "opacity": 0.7,
         "x": [
          14.67989264,
          20.30594341,
          17.96459873,
          29.11206645,
          36.08435983,
          38.5945887,
          37.91975494,
          44.85675975,
          23.01064721,
          55.07023813,
          39.43876274,
          37.11566426,
          31.26745092,
          24.04423243,
          15.92003387,
          14.39803871,
          21.10272977,
          29.6603158,
          27.58499933,
          28.24751537,
          46.14982009,
          19.53928574,
          62.01077975,
          42.21516864,
          14.92302777,
          53.25270496,
          15.47212097,
          32.86252139,
          55.87718249,
          18.74165104,
          18.24228234,
          71.08419062,
          21.23165613,
          47.98800877,
          22.57895951,
          20.85087407,
          17.49596329,
          37.38204891,
          12.3573003,
          55.32273412,
          27.97710674,
          53.31213707,
          38.62482504,
          18.53436695,
          48.50984312,
          58.23716737,
          42.17293948,
          31.11362034,
          49.34355056,
          25.17584032,
          48.53059445,
          19.76478629,
          64.7846482,
          17.58923301,
          24.3593635,
          29.4190243,
          23.03114875,
          30.86833336,
          13.56535916,
          12.86969457,
          42.89939647,
          68.00507033,
          31.6665334,
          39.62488238,
          21.26872388,
          53.679868000000006,
          13.82400342,
          32.1208691,
          49.18932273,
          62.55643314,
          53.27325592,
          59.93790237,
          55.31824746,
          42.33192443,
          54.73967471,
          35.04822411,
          29.62630088,
          33.71533635,
          27.88425018,
          21.48013904,
          25.99219163,
          15.36731189,
          46.36992639,
          18.878002,
          25.11012862,
          22.91816929,
          19.33816764,
          27.52895152,
          62.61132166,
          23.80967704,
          18.129310800000003,
          35.79293299,
          44.77318337,
          26.1659676,
          21.32558768,
          41.84811585,
          26.92375026,
          48.11471037,
          28.70467543,
          28.30261772,
          35.5579975,
          31.67681913,
          22.65097981,
          14.86917251,
          22.3696796,
          18.58263362,
          16.86475024,
          49.43439359,
          33.96043139,
          24.04626135,
          16.49474382,
          37.84456589,
          27.67536663,
          23.75933805,
          32.73950568,
          19.2906371,
          28.49001339,
          31.07938808,
          25.55980006,
          25.62275359,
          64.49177551,
          14.23128228,
          55.88994948,
          15.95119764,
          24.75130724,
          13.89784984,
          10.95228869,
          42.15462533,
          21.76023807,
          50.28178664,
          27.18013388,
          29.31198078,
          54.80676402,
          41.75294745,
          54.55295512,
          69.0322209,
          30.86535776,
          24.99099448,
          42.09629473,
          18.7139055,
          34.09807492,
          15.7291792,
          19.39516203,
          30.89414025,
          37.22073251,
          12.64242609,
          23.82198722,
          20.53986415,
          22.15781669,
          18.05636448,
          21.75953085,
          28.04131476,
          52.33927013,
          24.45063324,
          32.58726065,
          35.67135635,
          17.0144967,
          37.27590789,
          19.74274144,
          54.78051233,
          20.49104374,
          24.00236983,
          24.91819746,
          11.06017591,
          62.02633694,
          23.2418793,
          11.35116102,
          17.91973945,
          13.1545696,
          24.2634694,
          46.57007587,
          17.90321284,
          34.88603695,
          21.0231266,
          14.45454475,
          62.92074643,
          28.10136823,
          30.70537622,
          51.06141566,
          27.79945741,
          53.3231657,
          18.00918051,
          38.52697981,
          42.08490685,
          18.24255728
         ],
         "xaxis": "x",
         "xbins": {
          "end": 71.08419062,
          "size": 1.0,
          "start": 10.95228869
         },
         "yaxis": "y",
         "type": "histogram"
        },
        {
         "autobinx": false,
         "histnorm": "probability density",
         "legendgroup": "ASD_neg",
         "marker": {
          "color": "salmon"
         },
         "name": "ASD_neg",
         "opacity": 0.7,
         "x": [
          18.60539681,
          13.82936938,
          61.03528807,
          14.25668605,
          15.57819071,
          21.36698098,
          28.93006774,
          15.40690273,
          22.87041047,
          45.7861637,
          28.71312905,
          52.20892387,
          13.97301145,
          15.55955208,
          13.99395149,
          24.34811834,
          37.54394119,
          15.77964696,
          31.79042116,
          54.51081856,
          24.2640054,
          13.71660497,
          34.48599757,
          24.62929977,
          45.98472454,
          23.876840100000003,
          54.53720884,
          13.53526348,
          25.55286793,
          44.8700017,
          14.24974298,
          16.09705879,
          65.6951177,
          17.929757100000003,
          38.0985636,
          37.37522679,
          27.47619568,
          17.63356169,
          22.14783581,
          41.71234687,
          48.56647483,
          51.80196369,
          30.64667127,
          33.05861987,
          20.53650583,
          27.24063427,
          26.30248764,
          32.42403082,
          52.02688326,
          44.09821754,
          17.51408417,
          15.59883742,
          19.53559466,
          17.42176325,
          17.38545741,
          9.560504591,
          25.95016033,
          35.83746454,
          11.54993958,
          38.67351458,
          42.2214725,
          30.57399179,
          12.94714991,
          30.07064518,
          21.60769114,
          18.65259136,
          20.22910815,
          14.69486744,
          70.80160415,
          19.46573847,
          29.98828071,
          21.55665806,
          28.76435032,
          14.4545617,
          24.27300103,
          24.55505931,
          17.39781861,
          24.4713742,
          32.23937347,
          69.09837764,
          45.37472227,
          47.84566809,
          28.56308891,
          13.09682249,
          19.80506544,
          27.61175669,
          16.714680800000004,
          26.41488838,
          29.33349476,
          21.32706907,
          67.55850162,
          18.50446693,
          31.43579833,
          20.08757477,
          69.05226045,
          23.05540341,
          14.59720978,
          47.87638561,
          22.62568164,
          25.55856781,
          32.4945138,
          26.30495213,
          28.16768892,
          45.17808556,
          26.72393465,
          25.77650282,
          18.00560631,
          22.12052239,
          24.65502345,
          19.5181971,
          29.74431679,
          39.70332795,
          29.31918969,
          35.72545637,
          27.81662774,
          23.45687224,
          24.97098115,
          17.03338276,
          18.56656926,
          20.99807204,
          33.15345606,
          16.91617977,
          17.56342082,
          17.86860128,
          30.68204661,
          30.5726803,
          30.65806538,
          24.78260151,
          20.3267982,
          19.0425534,
          35.05333688,
          31.18446071,
          22.27304531,
          64.07729888,
          16.99434028,
          22.38919405,
          30.63901324,
          20.29018852,
          24.87843843,
          12.24753182,
          24.17754462,
          59.97435003,
          16.53744586,
          22.47238061,
          54.1267139,
          26.72591344,
          27.42240544,
          16.49152984,
          17.84015282,
          13.00076319,
          21.33664412,
          24.5500137,
          17.84051133,
          14.67194994,
          26.13266488,
          27.77326719,
          28.39174517,
          38.19603988,
          19.48255661,
          23.10647714,
          37.32451578,
          28.0402643,
          16.45927794,
          21.20709159,
          14.25136597,
          20.39654655,
          59.64456984,
          26.27653497,
          24.50929034,
          50.13199013,
          26.44489182,
          29.12153036,
          18.25537813,
          30.488441,
          44.38044644,
          28.97897254,
          52.9680159,
          12.03765423,
          29.37295411,
          23.99403586,
          23.04771671,
          39.31612047,
          19.52180736,
          10.0682642,
          42.56842778,
          28.40672129,
          44.95667763,
          12.49217538,
          72.40248841,
          29.98825247,
          23.30157997,
          44.21478178,
          17.97550298,
          41.54513901,
          26.26550774,
          27.79462444,
          29.54503981,
          23.22476695,
          38.69865911,
          33.15865325,
          18.54376162,
          14.08733098,
          18.76366889,
          30.34815679,
          30.05008465,
          12.84895746,
          21.43814876,
          25.49186707,
          27.0273135,
          20.26061777,
          49.78834545,
          40.57666928,
          15.25926213,
          22.3768334,
          18.59984127,
          35.45904379,
          70.45727239,
          19.41178926,
          29.29194323,
          25.1984157,
          27.79857497,
          35.23840537,
          10.5634741,
          21.01101122,
          42.48618909,
          42.75701238,
          19.46567705,
          17.73800278,
          26.73184805,
          18.18918108,
          21.16633943,
          24.88092657,
          17.38496811,
          20.84357913,
          13.05526927,
          52.29804788,
          14.20305959,
          33.1608928,
          31.91563805,
          60.77273685,
          23.20204756,
          23.68015292,
          30.09420007,
          18.25856763,
          19.44791381,
          30.93069813,
          31.30726252,
          36.56146232,
          31.22291175,
          23.2182734,
          26.54786312,
          24.95433283,
          42.68425606,
          15.37977429,
          31.93818694,
          23.82980847,
          12.82718298,
          24.21829393,
          36.38011773,
          18.06833783,
          20.02135637,
          27.62361603,
          17.02472387,
          27.02340181,
          21.46375329,
          31.289655100000004,
          12.83857004,
          15.8295188,
          25.05091735,
          15.29881605,
          23.35035887,
          16.77398843,
          41.49551501,
          24.84610005,
          28.82518176,
          23.42443608,
          39.98092074,
          29.68072364,
          16.33592748,
          14.24864659,
          39.29122616,
          40.5312181,
          32.24661514,
          43.20086314,
          26.8411853,
          20.50981094,
          17.19178706,
          19.2414331,
          31.90788624,
          12.52876169,
          16.16648629,
          28.44874139,
          29.6550994,
          27.02093489,
          21.37635914,
          45.50121366,
          29.22416068,
          18.40592409,
          24.123863,
          24.53218093,
          14.71882514,
          20.71728983,
          28.80726462,
          17.17781586,
          27.49343743,
          26.86271615,
          13.7767075,
          22.08052022,
          24.45652938,
          17.45912374,
          24.12367143,
          25.4680538,
          35.35945091,
          27.18027983,
          18.08361893,
          31.19787597,
          27.99924973,
          20.37347736,
          21.9272415,
          23.64302675,
          18.85460181,
          37.50376579,
          19.14520463,
          23.004043600000003,
          29.32415568,
          16.00881089,
          27.21368809,
          26.30897678,
          20.35515932,
          17.6883325,
          71.3560697,
          15.70727497,
          63.75155625,
          47.73008947,
          45.61232401,
          36.71172301,
          22.61521304,
          37.51947298,
          23.1327722,
          42.06175986,
          26.22617053,
          19.72333156,
          26.0779911,
          18.50849917,
          20.09622766,
          24.12553692,
          27.17141621,
          14.64496199,
          20.39207733,
          41.36860529,
          38.40680094,
          31.70883972,
          29.36037187,
          33.94300046,
          14.27922507,
          27.60839705,
          12.14264103,
          32.20423469,
          18.84329479,
          25.81976021,
          14.40240138,
          24.22036485,
          21.56342103,
          47.96276884,
          12.65425437,
          18.92173852,
          32.61509975,
          39.38579107,
          16.50360662,
          15.95961571,
          40.0526163,
          27.22430953,
          24.59416695,
          23.988549,
          33.25859799,
          31.74017364,
          27.26622279,
          17.10192393,
          17.61761346,
          12.76969932,
          28.64516606,
          20.63988618,
          26.33027826,
          28.96044414,
          16.51915492,
          38.92086202,
          12.88899428,
          26.55083095,
          16.80623143,
          14.91975497,
          43.52066788,
          18.55221155,
          19.25641523,
          33.01259387,
          24.15741484,
          67.41174403,
          21.55418788,
          24.44399463,
          13.87320354,
          25.30884824,
          20.462625,
          11.79157315,
          21.72161031,
          21.18039464,
          28.39483372,
          14.80201297,
          24.32227986,
          39.95680615,
          24.95784588,
          69.18521211,
          12.68882004,
          28.75761551,
          17.20033928,
          33.49453904,
          29.24703151,
          29.1090159,
          14.78618617,
          29.8900979,
          25.15268641,
          19.83386928,
          39.88924895,
          18.45070775,
          25.18548225,
          15.49881136,
          28.63366323,
          25.25364327,
          23.73521,
          39.82562563,
          27.63221244,
          27.88412337,
          29.19566621,
          59.62775131,
          26.13549399,
          30.76696105,
          33.22188797,
          28.30806267,
          16.91663828,
          20.35027844,
          45.23752251,
          25.94274099,
          27.96351288,
          46.24912105,
          11.79083405,
          25.93838143,
          23.6973814,
          16.10917192,
          25.9729348,
          57.85843038,
          24.8442215,
          23.51316509,
          22.4782168,
          28.39885554,
          19.33142065,
          44.13291635,
          27.70375139,
          21.17428599,
          27.20462751,
          23.78138492,
          31.45372689,
          17.29337751,
          21.35559283,
          56.94291339,
          14.3808953,
          13.89971779,
          15.49096467,
          19.73541874,
          37.48423402,
          24.6096008,
          23.96639949,
          42.35750256,
          25.85706958,
          26.54569019,
          18.5060405,
          52.05262676,
          12.23744796,
          38.86414425,
          30.52737617,
          28.98353924,
          18.6681171,
          30.22623836,
          18.12602,
          24.52767093,
          24.92729016,
          23.35073121,
          21.98276372,
          37.65198552,
          13.44764893,
          53.78743071,
          33.94529149,
          28.65883617,
          22.64481055,
          25.19521667,
          31.38962252,
          22.77013398,
          16.1038529,
          31.45293115,
          17.42385035,
          27.55458916,
          35.31536559,
          22.24054605,
          27.00058499,
          29.09439056,
          25.85604329,
          38.053128,
          25.15887799,
          25.05584845,
          19.92111561,
          22.71783533,
          47.50947766,
          36.62670705,
          21.75388979,
          30.0080822,
          29.44305461,
          16.50210964,
          48.45204622,
          71.68068207,
          62.61455773,
          66.53320759,
          20.98300489,
          22.81436453,
          28.38670182,
          12.95082394,
          27.68259645,
          28.61497378,
          13.14904621,
          16.84333863,
          29.43706753,
          24.52725575,
          25.60377858,
          46.74226968,
          18.84460222,
          31.33228909,
          29.12475515,
          17.85655211,
          22.1894618,
          23.99379689,
          28.54050329,
          24.58667973,
          28.1411368,
          18.3372629,
          28.53744157,
          17.34310145,
          19.0113239,
          12.03510973,
          23.68543099,
          41.19614552,
          23.95534317,
          21.18868502,
          25.11728489,
          39.92918019,
          13.06948226,
          34.29082460000001,
          22.28181212,
          22.61154807,
          45.03945117,
          63.23366513,
          18.90427553,
          35.45799034,
          13.38282021,
          29.82519294,
          28.33023531,
          12.94801424,
          22.88957212,
          21.75123467,
          20.90950447,
          18.99191402,
          50.53524958,
          18.4379935,
          28.46828198,
          20.4634476,
          17.2001964,
          18.4241769,
          27.57733856,
          28.42463843,
          44.10109235,
          28.95224942,
          26.86995049,
          19.74198448,
          23.43507261,
          30.67846275,
          23.89542479,
          18.34957017,
          29.277243,
          16.28524309,
          21.6019814,
          19.97847816,
          29.27161357,
          43.62625747,
          20.98186716,
          15.09052497,
          19.4801396,
          25.71545925,
          53.89137595,
          19.13036361,
          27.32150965,
          55.27876787,
          44.87586807,
          54.09464439,
          22.42243059,
          32.16281477,
          17.89826171,
          16.69477428,
          14.83218125,
          15.12771801,
          31.09996355,
          58.41167865,
          59.60787077,
          36.82751862,
          17.82050033,
          21.62956024,
          16.30397208,
          24.36141607,
          17.66929077,
          19.24147315,
          32.17009804
         ],
         "xaxis": "x",
         "xbins": {
          "end": 72.40248841,
          "size": 1.0,
          "start": 9.560504591
         },
         "yaxis": "y",
         "type": "histogram"
        },
        {
         "legendgroup": "ASD_pos",
         "marker": {
          "color": "purple"
         },
         "mode": "lines",
         "name": "ASD_pos",
         "showlegend": false,
         "x": [
          10.95228869,
          11.07255249386,
          11.19281629772,
          11.313080101579999,
          11.43334390544,
          11.5536077093,
          11.67387151316,
          11.79413531702,
          11.914399120879999,
          12.03466292474,
          12.1549267286,
          12.27519053246,
          12.39545433632,
          12.515718140179999,
          12.63598194404,
          12.7562457479,
          12.87650955176,
          12.99677335562,
          13.117037159479999,
          13.23730096334,
          13.3575647672,
          13.47782857106,
          13.59809237492,
          13.718356178779999,
          13.83861998264,
          13.9588837865,
          14.07914759036,
          14.19941139422,
          14.319675198079999,
          14.43993900194,
          14.5602028058,
          14.68046660966,
          14.80073041352,
          14.920994217379999,
          15.04125802124,
          15.1615218251,
          15.28178562896,
          15.40204943282,
          15.522313236679999,
          15.642577040539999,
          15.7628408444,
          15.88310464826,
          16.00336845212,
          16.12363225598,
          16.243896059839997,
          16.3641598637,
          16.48442366756,
          16.60468747142,
          16.72495127528,
          16.845215079139997,
          16.965478883,
          17.08574268686,
          17.20600649072,
          17.32627029458,
          17.446534098439997,
          17.5667979023,
          17.687061706159998,
          17.80732551002,
          17.92758931388,
          18.047853117739997,
          18.1681169216,
          18.288380725459998,
          18.40864452932,
          18.52890833318,
          18.649172137039997,
          18.7694359409,
          18.889699744759998,
          19.00996354862,
          19.13022735248,
          19.250491156339997,
          19.3707549602,
          19.49101876406,
          19.61128256792,
          19.73154637178,
          19.851810175639997,
          19.9720739795,
          20.09233778336,
          20.21260158722,
          20.33286539108,
          20.453129194939997,
          20.573392998800003,
          20.69365680266,
          20.81392060652,
          20.93418441038,
          21.054448214239997,
          21.1747120181,
          21.29497582196,
          21.41523962582,
          21.53550342968,
          21.655767233539997,
          21.7760310374,
          21.89629484126,
          22.01655864512,
          22.13682244898,
          22.257086252839997,
          22.3773500567,
          22.49761386056,
          22.61787766442,
          22.73814146828,
          22.858405272139997,
          22.978669076,
          23.098932879859998,
          23.21919668372,
          23.33946048758,
          23.459724291439997,
          23.5799880953,
          23.70025189916,
          23.82051570302,
          23.94077950688,
          24.061043310739997,
          24.1813071146,
          24.301570918459998,
          24.42183472232,
          24.54209852618,
          24.66236233004,
          24.7826261339,
          24.90288993776,
          25.02315374162,
          25.14341754548,
          25.263681349339997,
          25.3839451532,
          25.504208957059998,
          25.62447276092,
          25.74473656478,
          25.86500036864,
          25.9852641725,
          26.10552797636,
          26.22579178022,
          26.34605558408,
          26.466319387939997,
          26.5865831918,
          26.70684699566,
          26.82711079952,
          26.94737460338,
          27.06763840724,
          27.1879022111,
          27.30816601496,
          27.42842981882,
          27.54869362268,
          27.66895742654,
          27.7892212304,
          27.909485034259998,
          28.02974883812,
          28.15001264198,
          28.27027644584,
          28.3905402497,
          28.51080405356,
          28.631067857419996,
          28.75133166128,
          28.871595465139997,
          28.991859269,
          29.11212307286,
          29.23238687672,
          29.352650680580002,
          29.472914484439997,
          29.5931782883,
          29.713442092159998,
          29.83370589602,
          29.95396969988,
          30.07423350374,
          30.194497307600003,
          30.314761111459998,
          30.43502491532,
          30.55528871918,
          30.67555252304,
          30.7958163269,
          30.91608013076,
          31.036343934619996,
          31.156607738479998,
          31.276871542339997,
          31.3971353462,
          31.51739915006,
          31.63766295392,
          31.75792675778,
          31.878190561639997,
          31.9984543655,
          32.118718169359994,
          32.23898197322,
          32.35924577708,
          32.479509580940004,
          32.5997733848,
          32.72003718866,
          32.84030099252,
          32.96056479638,
          33.08082860024,
          33.201092404099995,
          33.32135620796,
          33.44162001182,
          33.56188381568,
          33.68214761954,
          33.8024114234,
          33.92267522726,
          34.04293903112,
          34.16320283498,
          34.28346663884,
          34.403730442699995,
          34.523994246559994,
          34.64425805042,
          34.76452185428,
          34.884785658140004,
          35.005049462,
          35.12531326586,
          35.24557706972,
          35.36584087358,
          35.48610467744,
          35.606368481299995,
          35.72663228516,
          35.84689608902,
          35.96715989288,
          36.08742369674,
          36.2076875006,
          36.32795130446,
          36.44821510832,
          36.56847891218,
          36.68874271604,
          36.809006519899995,
          36.929270323759994,
          37.04953412762,
          37.16979793148,
          37.290061735340004,
          37.4103255392,
          37.53058934306,
          37.65085314692,
          37.77111695078,
          37.89138075464,
          38.011644558499995,
          38.13190836236,
          38.25217216622,
          38.372435970080005,
          38.49269977394,
          38.6129635778,
          38.73322738166,
          38.85349118552,
          38.97375498938,
          39.09401879324,
          39.214282597099995,
          39.334546400959994,
          39.45481020482,
          39.57507400868,
          39.695337812540004,
          39.8156016164,
          39.93586542026,
          40.05612922412,
          40.17639302798,
          40.29665683184,
          40.416920635699995,
          40.53718443956,
          40.65744824342,
          40.777712047280005,
          40.89797585114,
          41.018239655,
          41.13850345886,
          41.25876726272,
          41.37903106658,
          41.499294870439996,
          41.619558674299995,
          41.739822478159994,
          41.86008628202,
          41.98035008588,
          42.10061388974,
          42.2208776936,
          42.34114149746,
          42.46140530132,
          42.58166910518,
          42.701932909039996,
          42.822196712899995,
          42.94246051675999,
          43.06272432061999,
          43.182988124480005,
          43.30325192834,
          43.4235157322,
          43.54377953606,
          43.66404333992,
          43.78430714378,
          43.904570947639996,
          44.024834751499995,
          44.14509855535999,
          44.265362359220006,
          44.385626163080005,
          44.50588996694,
          44.6261537708,
          44.74641757466,
          44.86668137852,
          44.98694518238,
          45.107208986239996,
          45.227472790099995,
          45.34773659395999,
          45.46800039781999,
          45.588264201680005,
          45.70852800554,
          45.8287918094,
          45.94905561326,
          46.06931941712,
          46.18958322098,
          46.309847024839996,
          46.430110828699995,
          46.55037463255999,
          46.67063843641999,
          46.79090224027999,
          46.91116604414,
          47.031429848,
          47.15169365186,
          47.27195745572,
          47.39222125958,
          47.512485063439996,
          47.632748867299995,
          47.75301267116001,
          47.87327647501999,
          47.99354027887999,
          48.11380408273999,
          48.2340678866,
          48.35433169046,
          48.47459549432,
          48.59485929818,
          48.715123102039996,
          48.835386905899995,
          48.95565070975999,
          49.075914513620006,
          49.196178317480005,
          49.31644212134,
          49.4367059252,
          49.55696972906,
          49.67723353292,
          49.79749733678,
          49.917761140639996,
          50.038024944499995,
          50.15828874835999,
          50.27855255221999,
          50.398816356080005,
          50.51908015994,
          50.6393439638,
          50.75960776766,
          50.87987157152,
          51.00013537538,
          51.120399179239996,
          51.240662983099995,
          51.36092678695999,
          51.48119059081999,
          51.60145439467999,
          51.72171819854,
          51.8419820024,
          51.96224580626,
          52.08250961012,
          52.20277341398,
          52.323037217839996,
          52.443301021699995,
          52.56356482556001,
          52.683828629420006,
          52.80409243327999,
          52.92435623713999,
          53.044620041,
          53.16488384486,
          53.28514764872,
          53.40541145258,
          53.525675256439996,
          53.645939060299995,
          53.76620286415999,
          53.886466668020006,
          54.006730471880005,
          54.12699427574,
          54.2472580796,
          54.36752188346,
          54.48778568732,
          54.60804949118,
          54.728313295039996,
          54.848577098899995,
          54.96884090275999,
          55.08910470661999,
          55.209368510480004,
          55.32963231434,
          55.4498961182,
          55.57015992206,
          55.69042372592,
          55.81068752978,
          55.930951333639996,
          56.051215137499995,
          56.17147894135999,
          56.29174274521999,
          56.41200654907999,
          56.53227035294,
          56.6525341568,
          56.77279796066,
          56.89306176452,
          57.01332556838,
          57.133589372239996,
          57.253853176099994,
          57.37411697996001,
          57.494380783820006,
          57.614644587680004,
          57.73490839153999,
          57.8551721954,
          57.97543599926,
          58.09569980312,
          58.21596360698,
          58.336227410839996,
          58.456491214699994,
          58.57675501855999,
          58.697018822420006,
          58.817282626280004,
          58.93754643014,
          59.057810234,
          59.17807403786,
          59.29833784172,
          59.41860164558,
          59.538865449439996,
          59.659129253299994,
          59.77939305715999,
          59.89965686101999,
          60.019920664880004,
          60.14018446874,
          60.2604482726,
          60.38071207646,
          60.50097588032,
          60.62123968418,
          60.741503488039996,
          60.861767291899994,
          60.98203109575999,
          61.10229489961999,
          61.22255870347999,
          61.34282250734,
          61.4630863112,
          61.58335011506,
          61.70361391892,
          61.82387772278,
          61.944141526639996,
          62.064405330499994,
          62.18466913435999,
          62.304932938220006,
          62.425196742080004,
          62.54546054593999,
          62.6657243498,
          62.78598815366,
          62.90625195752,
          63.02651576138,
          63.146779565239996,
          63.267043369099994,
          63.38730717295999,
          63.50757097681999,
          63.627834780680004,
          63.74809858454,
          63.8683623884,
          63.98862619226,
          64.10888999612,
          64.22915379998,
          64.34941760384,
          64.4696814077,
          64.58994521155999,
          64.71020901541999,
          64.83047281927999,
          64.95073662314,
          65.071000427,
          65.19126423086,
          65.31152803472,
          65.43179183858,
          65.55205564244,
          65.6723194463,
          65.79258325016,
          65.91284705401999,
          66.03311085787999,
          66.15337466174,
          66.2736384656,
          66.39390226946,
          66.51416607332,
          66.63442987718,
          66.75469368104,
          66.8749574849,
          66.99522128875999,
          67.11548509262,
          67.23574889648,
          67.35601270034,
          67.4762765042,
          67.59654030806,
          67.71680411192,
          67.83706791578,
          67.95733171964,
          68.0775955235,
          68.19785932735999,
          68.31812313121999,
          68.43838693508,
          68.55865073894,
          68.6789145428,
          68.79917834666,
          68.91944215052,
          69.03970595438,
          69.15996975824,
          69.2802335621,
          69.40049736595999,
          69.52076116981999,
          69.64102497367999,
          69.76128877754,
          69.8815525814,
          70.00181638526,
          70.12208018912,
          70.24234399298,
          70.36260779684,
          70.4828716007,
          70.60313540456,
          70.72339920842,
          70.84366301227999,
          70.96392681613999
         ],
         "xaxis": "x",
         "y": [
          0.012124002964565068,
          0.01239432493644772,
          0.012666544121350817,
          0.012940547188034158,
          0.013216218226904079,
          0.01349343887004581,
          0.013772088415475024,
          0.014052043955375336,
          0.014333180508080405,
          0.014615371153551663,
          0.014898487172095897,
          0.015182398186061012,
          0.015466972304242448,
          0.01575207626872859,
          0.016037575603909112,
          0.01632333476736718,
          0.01660921730237369,
          0.016895085991700455,
          0.017180803012466942,
          0.017466230091736226,
          0.017751228662574683,
          0.018035660020291687,
          0.0183193854785767,
          0.018602266525253406,
          0.01888416497737309,
          0.019164943135373244,
          0.019444463936030745,
          0.01972259110394372,
          0.019999189301281133,
          0.020274124275544463,
          0.020547263005092086,
          0.02081847384218293,
          0.02108762665330328,
          0.02135459295654777,
          0.02161924605583269,
          0.0218814611717289,
          0.022141115568708708,
          0.02239808867861087,
          0.02265226222013605,
          0.022903520314194906,
          0.023151749594940388,
          0.023396839316325274,
          0.02363868145403659,
          0.023877170802668463,
          0.024112205068005058,
          0.024343684954296653,
          0.024571514246421827,
          0.024795599886840033,
          0.025015852047249838,
          0.025232184194878847,
          0.02544451315334311,
          0.02565275915802424,
          0.025856845905924554,
          0.02605670059997121,
          0.02625225398775223,
          0.026443440394677994,
          0.02663019775157361,
          0.026812467616718363,
          0.026990195192360407,
          0.02716332933574474,
          0.027331822564704684,
          0.02749563105787752,
          0.027654714649615497,
          0.027809036819674098,
          0.027958564677770536,
          0.02810326894311427,
          0.028243123919022662,
          0.028378107462743867,
          0.028508200950618588,
          0.028633389238721666,
          0.028753660619132943,
          0.028869006771995658,
          0.028979422713528706,
          0.029084906740166026,
          0.029185460369005156,
          0.029281088274751847,
          0.02937179822335591,
          0.029457601002537876,
          0.02953851034941194,
          0.029614542875415806,
          0.029685717988761073,
          0.029752057814623038,
          0.0298135871132904,
          0.02987033319649881,
          0.029922325842173084,
          0.029969597207804795,
          0.030012181742691966,
          0.030050116099267617,
          0.030083439043742707,
          0.03011219136628794,
          0.030136415790976163,
          0.030156156885704343,
          0.030171460972310424,
          0.030182376037096306,
          0.03018895164196258,
          0.03019123883635567,
          0.030189290070220993,
          0.030183159108149924,
          0.03017290094489915,
          0.030158571722454404,
          0.030140228648800917,
          0.030117929918554043,
          0.03009173463559335,
          0.03006170273783387,
          0.030027894924256674,
          0.029990372584310622,
          0.02994919772978543,
          0.029904432929243836,
          0.029856141245090013,
          0.02980438617333766,
          0.029749231586129677,
          0.029690741677048865,
          0.02962898090924598,
          0.0295640139663994,
          0.029495905706508032,
          0.02942472111850642,
          0.029350525281679328,
          0.02927338332784065,
          0.029193360406229597,
          0.029110521651066316,
          0.029024932151697866,
          0.02893665692525416,
          0.028845760891724893,
          0.02875230885135744,
          0.028656365464267825,
          0.02855799523214783,
          0.02845726248194451,
          0.028354231351380543,
          0.028248965776178164,
          0.02814152947884447,
          0.02803198595887016,
          0.027920398484191596,
          0.027806830083761683,
          0.027691343541074272,
          0.02757400138848488,
          0.027454865902170937,
          0.027333999097574876,
          0.027211462725175453,
          0.027087318266434793,
          0.026961626929771998,
          0.026834449646418887,
          0.026705847066017228,
          0.0265758795518242,
          0.026444607175398052,
          0.026312089710643742,
          0.026178386627106726,
          0.026043557082410847,
          0.02590765991374648,
          0.02577075362832367,
          0.025632896392716955,
          0.02549414602103719,
          0.025354559961878617,
          0.025214195283999773,
          0.0250731086607086,
          0.02493135635293399,
          0.024788994190978016,
          0.024646077554954692,
          0.024502661353933346,
          0.02435880000381587,
          0.024214547403989664,
          0.02406995691280844,
          0.023925081321964498,
          0.02377997282982735,
          0.023634683013832168,
          0.023489262802013428,
          0.02334376244378632,
          0.023198231480088233,
          0.023052718713000058,
          0.02290727217497439,
          0.02276193909780382,
          0.02261676588146876,
          0.02247179806300832,
          0.022327080285562285,
          0.022182656267735027,
          0.022038568773434353,
          0.021894859582339905,
          0.021751569461155546,
          0.02160873813580011,
          0.021466404264689237,
          0.021324605413258382,
          0.021183378029874383,
          0.02104275742327829,
          0.020902777741697416,
          0.020763471953758734,
          0.02062487183132923,
          0.020487007934401096,
          0.020349909598132244,
          0.020213604922143174,
          0.020078120762162283,
          0.019943482724102103,
          0.01980971516063768,
          0.019676841170348326,
          0.01954488259947239,
          0.019413860046312858,
          0.019283792868320476,
          0.01915469919186828,
          0.01902659592471959,
          0.01889949877117975,
          0.018773422249908776,
          0.018648379714360414,
          0.01852438337580159,
          0.018401444328852608,
          0.018279572579479566,
          0.01815877707535616,
          0.018039065738503533,
          0.01792044550010469,
          0.017802922337381007,
          0.01768650131240785,
          0.017571186612738078,
          0.017456981593693445,
          0.017343888822176023,
          0.01723191012184514,
          0.017121046619498117,
          0.017011298792488333,
          0.016902666517008485,
          0.01679514911706285,
          0.01668874541394942,
          0.016583453776069373,
          0.0164792721688802,
          0.01637619820480716,
          0.016274229192928022,
          0.016173362188246204,
          0.016073594040368518,
          0.015974921441406498,
          0.015877340972922045,
          0.01578084915174249,
          0.01568544247447382,
          0.015591117460545891,
          0.015497870693628867,
          0.01540569886126616,
          0.01531459879257592,
          0.015224567493880454,
          0.015135602182130106,
          0.015047700315997184,
          0.014960859624523318,
          0.01487507813321316,
          0.014790354187476403,
          0.014706686473329893,
          0.014624074035281435,
          0.014542516291327122,
          0.014462013045004314,
          0.014382564494452722,
          0.014304171238446885,
          0.014226834279373792,
          0.014150555023140056,
          0.014075335276003688,
          0.014001177238336365,
          0.013928083495332115,
          0.013856057004689245,
          0.013785101081302228,
          0.013715219379010614,
          0.013646415869461597,
          0.013578694818152812,
          0.013512060757731035,
          0.013446518458631738,
          0.01338207289715316,
          0.013318729221067008,
          0.013256492712875994,
          0.01319536875083635,
          0.013135362767870522,
          0.013076480208502564,
          0.01301872648395528,
          0.01296210692555409,
          0.01290662673658889,
          0.012852290942789954,
          0.012799104341579385,
          0.012747071450263728,
          0.012696196453337548,
          0.012646483149071587,
          0.012597934895561907,
          0.01255055455641956,
          0.012504344446282243,
          0.012459306276331622,
          0.012415441100001152,
          0.012372749259060182,
          0.01233123033026093,
          0.01229088307273466,
          0.01225170537632324,
          0.01221369421103136,
          0.012176845577783745,
          0.012141154460669532,
          0.012106614780854261,
          0.012073219352337475,
          0.01204095983973055,
          0.012009826718226356,
          0.011979809235928443,
          0.01195089537870284,
          0.01192307183771159,
          0.011896323979781154,
          0.011870635820753844,
          0.011845990001964304,
          0.01182236776997642,
          0.011799748959709385,
          0.011778111981074325,
          0.011757433809234953,
          0.011737689978597686,
          0.011718854580628192,
          0.011700900265581779,
          0.011683798248226374,
          0.011667518317625988,
          0.011652028851043297,
          0.011637296832008329,
          0.011623287872589936,
          0.011609966239894616,
          0.01159729488680611,
          0.01158523548696626,
          0.011573748473985854,
          0.011562793084860886,
          0.011552327407556729,
          0.011542308432709585,
          0.0115326921093807,
          0.011523433404785446,
          0.011514486367905192,
          0.011505804196876253,
          0.01149733931003591,
          0.011489043420491429,
          0.011480867614064394,
          0.011472762430448062,
          0.011464677947402583,
          0.011456563867798234,
          0.01144836960930462,
          0.011440044396509952,
          0.011431537355242315,
          0.011422797608852626,
          0.011413774376207313,
          0.011404417071127465,
          0.011394675403001353,
          0.011384499478286882,
          0.011373839902612056,
          0.01136264788317349,
          0.011350875331125568,
          0.011338474963646952,
          0.011325400405366098,
          0.011311606288823117,
          0.011297048353642853,
          0.011281683544091968,
          0.011265470104692815,
          0.011248367673567544,
          0.011230337373188059,
          0.011211341898211168,
          0.011191345600082989,
          0.011170314568103246,
          0.01114821670664754,
          0.011125021808255045,
          0.011100701622299492,
          0.011075229918973096,
          0.01104858254832672,
          0.011020737494123644,
          0.010991674922280762,
          0.010961377223687698,
          0.010929829051212918,
          0.010897017350725501,
          0.010862931385981225,
          0.010827562757243905,
          0.010790905413534606,
          0.010752955658424936,
          0.010713712149314618,
          0.010673175890157493,
          0.010631350217625858,
          0.010588240780727759,
          0.010543855513917687,
          0.01049820460376709,
          0.010451300449286249,
          0.01040315761601534,
          0.010353792784027123,
          0.0103032246900093,
          0.010251474063618359,
          0.010198563558320857,
          0.010144517676960901,
          0.010089362692314483,
          0.01003312656291242,
          0.009975838844433727,
          0.009917530596989096,
          0.009858234288632228,
          0.00979798369545177,
          0.009736813798611016,
          0.00967476067871526,
          0.009611861407896775,
          0.009548153940017297,
          0.009483676999394154,
          0.00941846996846185,
          0.009352572774784362,
          0.0092860257778343,
          0.009218869655954892,
          0.009151145293918053,
          0.00908289367148721,
          0.009014155753387283,
          0.008944972381075769,
          0.008875384166698641,
          0.008805431389603087,
          0.008735153895765027,
          0.008664591000474446,
          0.00859378139460411,
          0.008522763054769518,
          0.008451573157667642,
          0.008380247998861494,
          0.00830882291625496,
          0.008237332218479788,
          0.008165809118392181,
          0.008094285671851834,
          0.008022792721931264,
          0.007951359848676924,
          0.00788001532451813,
          0.007808786075393076,
          0.007737697647635281,
          0.007666774180637576,
          0.007596038385284715,
          0.007525511528120493,
          0.007455213421190172,
          0.007385162417474706,
          0.007315375411809814,
          0.007245867847160737,
          0.007176653726101346,
          0.0071077456273264785,
          0.007039154727006935,
          0.006970890824778793,
          0.0069029623741421724,
          0.006835376517029738,
          0.006768139122291591,
          0.0067012548278314685,
          0.0066347270861187605,
          0.006568558212792066,
          0.006502749438063419,
          0.006437300960626497,
          0.006372212003768569,
          0.006307480873384007,
          0.006243105017586613,
          0.006179081087618999,
          0.0061154049997601675,
          0.006052071997936389,
          0.005989076716746029,
          0.005926413244616102,
          0.005864075186816098,
          0.005802055728064494,
          0.005740347694473497,
          0.005678943614589276,
          0.005617835779297248,
          0.005557016300375433,
          0.005496477167492607,
          0.005436210303462936,
          0.005376207617583448,
          0.005316461056896709,
          0.005256962655236489,
          0.005197704579930466,
          0.005138679176049991,
          0.005079879008113181,
          0.005021296899163495,
          0.004962925967161805,
          0.0049047596586455,
          0.004846791779623387,
          0.00478901652368976,
          0.0047314284973551364,
          0.004674022742605053,
          0.004616794756711021,
          0.004559740509329873,
          0.004502856456939666,
          0.004446139554670513,
          0.004389587265598955,
          0.004333197567583242,
          0.004276968957725265,
          0.004220900454551975,
          0.004164991598015424,
          0.004109242447416305,
          0.004053653577360154,
          0.003998226071859175,
          0.00394296151669553,
          0.0038878619901638626,
          0.0038329300523120132,
          0.003778168732799449,
          0.0037235815174922605,
          0.0036691723339129846,
          0.0036149455356615117,
          0.0035609058859212067,
          0.0035070585401614143,
          0.003453409028144366,
          0.003399963235340451,
          0.003346727383851819,
          0.0032937080129396214,
          0.0032409119592453407,
          0.003188346336791703,
          0.003136018516843176,
          0.0030839361077009022,
          0.0030321069345012265,
          0.0029805390190815405,
          0.002929240559971602,
          0.0028782199125631093,
          0.002827485569504776,
          0.002777046141365082,
          0.002726910337599659,
          0.002677086947855441,
          0.0026275848236390962,
          0.002578412860372705,
          0.0025295799798556807,
          0.002481095113147966,
          0.0024329671838859554,
          0.002385205092039497,
          0.0023378176981151974,
          0.002290813807808882,
          0.002244202157107507,
          0.002197991397839138
         ],
         "yaxis": "y",
         "type": "scatter"
        },
        {
         "legendgroup": "ASD_neg",
         "marker": {
          "color": "salmon"
         },
         "mode": "lines",
         "name": "ASD_neg",
         "showlegend": false,
         "x": [
          9.560504591,
          9.686188558638001,
          9.811872526276002,
          9.937556493914,
          10.063240461552,
          10.188924429190001,
          10.314608396828001,
          10.440292364466002,
          10.565976332104,
          10.691660299742,
          10.817344267380001,
          10.943028235018001,
          11.068712202656002,
          11.194396170294,
          11.320080137932,
          11.445764105570001,
          11.571448073208002,
          11.697132040846,
          11.822816008484,
          11.948499976122001,
          12.074183943760001,
          12.199867911398002,
          12.325551879036002,
          12.451235846674,
          12.576919814312001,
          12.702603781950002,
          12.828287749588,
          12.953971717226,
          13.079655684864,
          13.205339652502001,
          13.331023620140002,
          13.456707587778002,
          13.582391555416002,
          13.708075523054003,
          13.833759490692001,
          13.95944345833,
          14.085127425968,
          14.210811393606,
          14.336495361244001,
          14.462179328882002,
          14.587863296520002,
          14.713547264158002,
          14.839231231796003,
          14.964915199434001,
          15.090599167072002,
          15.216283134710002,
          15.341967102348,
          15.467651069986001,
          15.593335037624001,
          15.719019005262002,
          15.844702972900002,
          15.970386940538,
          16.096070908176003,
          16.221754875814,
          16.347438843452004,
          16.47312281109,
          16.598806778728,
          16.724490746366,
          16.850174714004,
          16.975858681642002,
          17.101542649280002,
          17.227226616918003,
          17.352910584556,
          17.478594552194,
          17.604278519832,
          17.729962487470004,
          17.855646455108,
          17.981330422746,
          18.107014390384002,
          18.232698358022002,
          18.358382325660003,
          18.484066293298,
          18.609750260936003,
          18.735434228574,
          18.861118196212004,
          18.98680216385,
          19.112486131488,
          19.238170099126002,
          19.363854066764,
          19.489538034402003,
          19.61522200204,
          19.740905969678003,
          19.866589937316,
          19.992273904954,
          20.117957872592,
          20.243641840230005,
          20.369325807868,
          20.495009775506002,
          20.620693743144002,
          20.746377710782003,
          20.872061678420003,
          20.997745646058,
          21.123429613696004,
          21.249113581334,
          21.374797548972,
          21.50048151661,
          21.626165484248002,
          21.751849451886002,
          21.877533419524003,
          22.003217387162003,
          22.1289013548,
          22.254585322438004,
          22.380269290076,
          22.505953257714,
          22.631637225352,
          22.757321192990002,
          22.883005160628002,
          23.008689128266,
          23.134373095904003,
          23.260057063542003,
          23.385741031180004,
          23.511424998818,
          23.637108966456005,
          23.762792934094,
          23.888476901732005,
          24.014160869370002,
          24.139844837008003,
          24.265528804646003,
          24.391212772284,
          24.516896739922004,
          24.64258070756,
          24.768264675198004,
          24.893948642836,
          25.019632610474,
          25.145316578112002,
          25.271000545750002,
          25.396684513388003,
          25.522368481026,
          25.648052448664004,
          25.773736416302004,
          25.899420383940004,
          26.025104351578005,
          26.150788319216005,
          26.276472286854002,
          26.402156254492002,
          26.527840222130003,
          26.653524189768003,
          26.779208157406003,
          26.904892125044004,
          27.030576092682004,
          27.15626006032,
          27.281944027958,
          27.407627995596002,
          27.533311963234002,
          27.658995930872003,
          27.784679898510003,
          27.910363866148003,
          28.036047833786004,
          28.161731801424004,
          28.287415769062,
          28.4130997367,
          28.538783704338,
          28.664467671976002,
          28.790151639614002,
          28.915835607252003,
          29.041519574890003,
          29.167203542528,
          29.292887510166,
          29.418571477804,
          29.544255445442,
          29.66993941308,
          29.795623380718002,
          29.921307348356002,
          30.046991315994003,
          30.172675283632003,
          30.29835925127,
          30.424043218908,
          30.549727186546004,
          30.675411154184005,
          30.801095121822005,
          30.926779089460005,
          31.052463057098006,
          31.178147024736003,
          31.303830992374003,
          31.429514960012003,
          31.555198927650004,
          31.680882895288004,
          31.806566862926005,
          31.932250830564005,
          32.057934798202005,
          32.18361876584001,
          32.309302733478006,
          32.434986701116,
          32.560670668754,
          32.686354636392004,
          32.81203860403001,
          32.937722571668004,
          33.063406539306,
          33.189090506944,
          33.314774474582,
          33.440458442220006,
          33.566142409858,
          33.691826377496,
          33.817510345134004,
          33.94319431277201,
          34.068878280410004,
          34.194562248048,
          34.320246215686,
          34.445930183324,
          34.571614150962006,
          34.6972981186,
          34.822982086238,
          34.948666053876,
          35.07435002151401,
          35.200033989152004,
          35.32571795679,
          35.451401924428,
          35.577085892066,
          35.702769859704006,
          35.828453827342,
          35.95413779498,
          36.079821762618,
          36.20550573025601,
          36.331189697894004,
          36.456873665532,
          36.582557633170005,
          36.70824160080801,
          36.833925568446006,
          36.959609536084,
          37.085293503722006,
          37.21097747136,
          37.33666143899801,
          37.462345406636004,
          37.588029374274,
          37.713713341912005,
          37.83939730955001,
          37.965081277188006,
          38.090765244826,
          38.216449212464006,
          38.342133180102,
          38.46781714774001,
          38.593501115378004,
          38.719185083016,
          38.844869050654005,
          38.97055301829201,
          39.096236985930005,
          39.221920953568,
          39.347604921206,
          39.473288888844,
          39.59897285648201,
          39.724656824120004,
          39.850340791758,
          39.976024759396005,
          40.10170872703401,
          40.227392694672005,
          40.35307666231,
          40.478760629948,
          40.604444597586,
          40.73012856522401,
          40.855812532862004,
          40.9814965005,
          41.107180468138004,
          41.232864435776,
          41.358548403414005,
          41.484232371052,
          41.60991633869,
          41.73560030632801,
          41.86128427396601,
          41.986968241604,
          42.112652209242,
          42.23833617688001,
          42.36402014451801,
          42.489704112156005,
          42.615388079794,
          42.74107204743201,
          42.86675601507001,
          42.99243998270801,
          43.118123950346,
          43.243807917984,
          43.36949188562201,
          43.49517585326001,
          43.620859820898005,
          43.746543788536,
          43.872227756174,
          43.99791172381201,
          44.12359569145001,
          44.249279659088,
          44.374963626726,
          44.50064759436401,
          44.62633156200201,
          44.752015529640005,
          44.877699497278,
          45.003383464916,
          45.12906743255401,
          45.254751400192006,
          45.38043536783,
          45.506119335468,
          45.63180330310601,
          45.75748727074401,
          45.883171238382005,
          46.00885520602,
          46.134539173658,
          46.26022314129601,
          46.385907108934006,
          46.511591076572,
          46.63727504421,
          46.76295901184801,
          46.88864297948601,
          47.014326947124005,
          47.140010914762,
          47.2656948824,
          47.39137885003801,
          47.517062817676006,
          47.642746785314,
          47.768430752952,
          47.89411472059,
          48.01979868822801,
          48.145482655866005,
          48.271166623504,
          48.396850591142,
          48.52253455878001,
          48.648218526418006,
          48.773902494056,
          48.899586461694,
          49.025270429332,
          49.15095439697001,
          49.276638364608004,
          49.402322332246,
          49.528006299884,
          49.65369026752201,
          49.779374235160006,
          49.905058202798,
          50.030742170436,
          50.156426138073996,
          50.28211010571201,
          50.407794073350004,
          50.533478040988,
          50.659162008626,
          50.78484597626401,
          50.910529943902006,
          51.03621391154,
          51.161897879178,
          51.287581846815996,
          51.41326581445401,
          51.538949782092004,
          51.664633749730015,
          51.79031771736801,
          51.91600168500601,
          52.041685652644006,
          52.167369620282,
          52.293053587920014,
          52.41873755555801,
          52.54442152319601,
          52.670105490834004,
          52.795789458472,
          52.92147342611001,
          53.04715739374801,
          53.172841361386006,
          53.298525329024,
          53.42420929666201,
          53.54989326430001,
          53.67557723193801,
          53.801261199576004,
          53.926945167214,
          54.05262913485201,
          54.17831310249001,
          54.303997070128005,
          54.429681037766,
          54.55536500540401,
          54.68104897304201,
          54.80673294068001,
          54.932416908318004,
          55.058100875956,
          55.18378484359401,
          55.30946881123201,
          55.435152778870005,
          55.560836746508,
          55.68652071414601,
          55.81220468178401,
          55.93788864942201,
          56.063572617060004,
          56.189256584698,
          56.31494055233601,
          56.44062451997401,
          56.566308487612005,
          56.69199245525,
          56.817676422888,
          56.94336039052601,
          57.06904435816401,
          57.194728325802004,
          57.32041229344,
          57.44609626107801,
          57.57178022871601,
          57.697464196354005,
          57.823148163992,
          57.94883213163,
          58.07451609926801,
          58.20020006690601,
          58.325884034544,
          58.451568002182,
          58.57725196982001,
          58.70293593745801,
          58.828619905096005,
          58.954303872734,
          59.079987840372,
          59.20567180801001,
          59.33135577564801,
          59.457039743286,
          59.582723710924,
          59.70840767856201,
          59.83409164620001,
          59.959775613838005,
          60.085459581476,
          60.211143549114,
          60.33682751675201,
          60.462511484390006,
          60.588195452028,
          60.713879419666,
          60.839563387304,
          60.96524735494201,
          61.090931322580005,
          61.216615290218,
          61.342299257856,
          61.46798322549401,
          61.593667193132006,
          61.71935116077,
          61.845035128408,
          61.970719096046,
          62.09640306368401,
          62.222087031322005,
          62.34777099896,
          62.473454966598,
          62.59913893423601,
          62.724822901874006,
          62.850506869512,
          62.97619083715,
          63.101874804788,
          63.22755877242601,
          63.353242740064005,
          63.478926707702016,
          63.60461067534001,
          63.73029464297801,
          63.855978610616006,
          63.981662578254,
          64.10734654589201,
          64.23303051353001,
          64.35871448116801,
          64.484398448806,
          64.61008241644402,
          64.73576638408201,
          64.86145035172001,
          64.987134319358,
          65.112818286996,
          65.23850225463401,
          65.36418622227201,
          65.48987018991001,
          65.615554157548,
          65.74123812518602,
          65.86692209282401,
          65.99260606046201,
          66.1182900281,
          66.243973995738,
          66.36965796337601,
          66.49534193101401,
          66.62102589865201,
          66.74670986629,
          66.87239383392802,
          66.99807780156601,
          67.12376176920401,
          67.249445736842,
          67.37512970448,
          67.50081367211801,
          67.62649763975601,
          67.75218160739401,
          67.877865575032,
          68.00354954267,
          68.12923351030801,
          68.25491747794601,
          68.380601445584,
          68.506285413222,
          68.63196938086001,
          68.75765334849801,
          68.88333731613601,
          69.009021283774,
          69.134705251412,
          69.26038921905001,
          69.38607318668801,
          69.511757154326,
          69.637441121964,
          69.76312508960201,
          69.88880905724001,
          70.014493024878,
          70.140176992516,
          70.265860960154,
          70.39154492779201,
          70.51722889543001,
          70.642912863068,
          70.768596830706,
          70.89428079834401,
          71.01996476598201,
          71.14564873362,
          71.271332701258,
          71.397016668896,
          71.52270063653401,
          71.64838460417201,
          71.77406857181,
          71.899752539448,
          72.025436507086,
          72.15112047472401,
          72.276804442362
         ],
         "xaxis": "x",
         "y": [
          0.007636066047434313,
          0.007998848359341969,
          0.008371531484553522,
          0.008753970790113256,
          0.009145998613438027,
          0.009547424452403907,
          0.009958035255531381,
          0.010377595810375314,
          0.010805849227440665,
          0.011242517516192976,
          0.011687302249026036,
          0.012139885308396584,
          0.01259992971174647,
          0.013067080508316212,
          0.013540965741514529,
          0.014021197470156146,
          0.014507372841614257,
          0.014999075209763851,
          0.015495875290512438,
          0.01599733234773133,
          0.01650299540250733,
          0.017012404458831502,
          0.017525091739119925,
          0.018040582923318765,
          0.018558398385770655,
          0.01907805442450387,
          0.019599064478140797,
          0.020120940326193024,
          0.020643193269108465,
          0.021165335285046626,
          0.02168688016096853,
          0.022207344596226367,
          0.022726249277410116,
          0.023243119923744088,
          0.023757488302811935,
          0.02426889321681596,
          0.024776881459934803,
          0.025281008747625164,
          0.025780840618914395,
          0.026275953312841945,
          0.02676593462023341,
          0.02725038471192415,
          0.02772891694439612,
          0.028201158643553378,
          0.028666751867043035,
          0.029125354145141304,
          0.029576639199769404,
          0.030020297640702357,
          0.030456037637488474,
          0.03088358556502714,
          0.031302686620168434,
          0.03171310540611878,
          0.03211462648087103,
          0.032507054865349286,
          0.032890216506471295,
          0.03326395868991412,
          0.03362815039701751,
          0.03398268260000362,
          0.034327468489527425,
          0.034662443628521,
          0.03498756602635105,
          0.03530281612749195,
          0.0356081967092157,
          0.03590373268322322,
          0.036189470796690285,
          0.03646547922885566,
          0.03673184708005628,
          0.036988683750982,
          0.037236118210885454,
          0.03747429815452277,
          0.037703389048700596,
          0.03792357307045449,
          0.03813504794006161,
          0.038338025653278165,
          0.03853273111837589,
          0.03871940070470443,
          0.038898280710620486,
          0.03906962575966969,
          0.03923369713487496,
          0.03939076106185612,
          0.03954108695226529,
          0.039684945619656034,
          0.03982260748040359,
          0.039954340752651335,
          0.04008040966645841,
          0.04020107269837621,
          0.0403165808435738,
          0.04042717593836799,
          0.040533089045601704,
          0.04063453891475558,
          0.0407317305279781,
          0.040824853742399934,
          0.04091408203816082,
          0.04099957138054212,
          0.04108145920347999,
          0.04115986352055093,
          0.041234882168289674,
          0.04130659218543903,
          0.04137504933046096,
          0.04144028773837663,
          0.041502319716767704,
          0.041561135679582084,
          0.04161670421625397,
          0.041668972292597986,
          0.041717865578968,
          0.041763288900304986,
          0.041805126801945064,
          0.04184324422441456,
          0.04187748727992058,
          0.04190768412285085,
          0.04193364590632141,
          0.04195516781666026,
          0.041972030177678275,
          0.041983999616653805,
          0.041990830284133016,
          0.04199226511991178,
          0.04198803715791385,
          0.041977870863089455,
          0.04196148349392236,
          0.04193858648463604,
          0.04190888684171541,
          0.041872088549893084,
          0.04182789398327747,
          0.04177600531780893,
          0.041716125941705345,
          0.041647961860992205,
          0.041571223097589025,
          0.04148562507773954,
          0.041390890008820645,
          0.04128674824273358,
          0.04117293962418012,
          0.0410492148221359,
          0.04091533664277837,
          0.04077108132198711,
          0.04061623979533262,
          0.04045061894320024,
          0.04027404280837686,
          0.04008635378306151,
          0.03988741376186005,
          0.03967710525690475,
          0.03945533247080664,
          0.03922202232272204,
          0.03897712542240096,
          0.03872061698670621,
          0.03845249769274712,
          0.038172794461488774,
          0.03788156116547023,
          0.037578879254121594,
          0.037264858290099526,
          0.03693963639008617,
          0.03660338056361713,
          0.03625628694371895,
          0.03589858090345871,
          0.035530517052926126,
          0.03515237911169048,
          0.03476447965238916,
          0.03436715971181355,
          0.03396078826664958,
          0.03354576157189913,
          0.03312250236094492,
          0.03269145890721579,
          0.03225310394844519,
          0.031807933475590654,
          0.031356465389571514,
          0.03089923803008327,
          0.030436808581839215,
          0.029969751364664912,
          0.029498656014912597,
          0.029024125566659863,
          0.02854677444209773,
          0.02806722636138588,
          0.02758611218304729,
          0.027104067686682134,
          0.02662173131039398,
          0.02613974185582875,
          0.025658736174131173,
          0.02517934684641253,
          0.024702199872497513,
          0.024227912381776098,
          0.023757090379927584,
          0.023290326545105572,
          0.022828198086885274,
          0.022371264680870584,
          0.021920066491351583,
          0.02147512229379252,
          0.021036927708226818,
          0.02060595355384009,
          0.02018264433415181,
          0.019767416861258314,
          0.019360659026592363,
          0.018962728724592547,
          0.01857395293456767,
          0.018194626964902618,
          0.017825013862585323,
          0.017465343989856746,
          0.01711581476860055,
          0.016776590591912614,
          0.0164478029011271,
          0.01612955042543794,
          0.015821899580149724,
          0.015524885018530818,
          0.015238510331229126,
          0.01496274888625773,
          0.014697544801670239,
          0.014442814042227796,
          0.01419844563062275,
          0.013964302963166877,
          0.01374022521928412,
          0.013526028853669752,
          0.013321509159594536,
          0.013126441891544806,
          0.012940584935199152,
          0.012763680012650637,
          0.012595454410789434,
          0.012435622720862644,
          0.012283888577426468,
          0.012139946385195149,
          0.012003483022669811,
          0.011874179511894047,
          0.01175171264422566,
          0.011635756552632685,
          0.011525984221706375,
          0.01142206892733205,
          0.011323685598759481,
          0.01123051209666275,
          0.011142230401665561,
          0.011058527708724251,
          0.010979097423698299,
          0.010903640059387503,
          0.010831864029269061,
          0.010763486338115498,
          0.01069823316960764,
          0.010635840371969,
          0.010576053843525982,
          0.010518629820940695,
          0.010463335073654817,
          0.010409947008824342,
          0.010358253691703106,
          0.010308053787046481,
          0.010259156427648172,
          0.010211381016588455,
          0.010164556970158384,
          0.010118523408729414,
          0.010073128803057142,
          0.010028230583643766,
          0.009983694720834456,
          0.009939395283288441,
          0.009895213982350737,
          0.009851039709654234,
          0.009806768075010238,
          0.009762300951302571,
          0.00971754603268942,
          0.009672416411946202,
          0.00962683018225604,
          0.00958071006818088,
          0.009533983089931492,
          0.009486580264407176,
          0.009438436345803809,
          0.009389489607900535,
          0.009339681669437267,
          0.009288957363299183,
          0.009237264649534217,
          0.009184554571556808,
          0.009130781254242158,
          0.00907590194199574,
          0.009019877074303328,
          0.008962670395728787,
          0.008904249096841168,
          0.008844583982119047,
          0.008783649660507578,
          0.008721424753992011,
          0.008657892119305895,
          0.008593039077712972,
          0.008526857647691018,
          0.008459344775303542,
          0.008390502557069824,
          0.008320338450236118,
          0.008248865465505928,
          0.008176102337505129,
          0.008102073668532609,
          0.008026810041476186,
          0.007950348098151995,
          0.007872730579747564,
          0.007794006326509693,
          0.007714230234311868,
          0.007633463166255113,
          0.0075517718179971246,
          0.007469228536057407,
          0.007385911088907591,
          0.007301902391217648,
          0.007217290182185433,
          0.007132166659421616,
          0.007046628070389311,
          0.006960774263902986,
          0.006874708204666268,
          0.0067885354542729275,
          0.006702363622500282,
          0.006616301793089272,
          0.006530459928525295,
          0.006444948258606292,
          0.006359876657806593,
          0.0062753540166154784,
          0.006191487612146614,
          0.006108382483377516,
          0.006026140816387019,
          0.005944861344913639,
          0.005864638771458951,
          0.005785563214009713,
          0.0057077196832512386,
          0.005631187594895434,
          0.005556040321451605,
          0.005482344787430691,
          0.005410161111595536,
          0.0053395422994573696,
          0.005270533988772703,
          0.0052031742503220535,
          0.005137493445755744,
          0.005073514143776391,
          0.005011251095399287,
          0.004950711268493537,
          0.004891893941265297,
          0.004834790853803652,
          0.00477938641627572,
          0.004725657971834849,
          0.004673576111799433,
          0.004623105040175726,
          0.00457420298413936,
          0.004526822646663397,
          0.0044809116970885516,
          0.004436413295078998,
          0.004393266643097835,
          0.004351407562273885,
          0.004310769086318532,
          0.004271282067990449,
          0.004232875792500065,
          0.004195478592194091,
          0.004159018456867296,
          0.004123423634110955,
          0.004088623214227928,
          0.004054547694419833,
          0.0040211295171825485,
          0.003988303578129202,
          0.003956007698792439,
          0.003924183060337374,
          0.0038927745945382284,
          0.0038617313288322303,
          0.0038310066827576613,
          0.0038005587136047715,
          0.0037703503096521763,
          0.0037403493299216963,
          0.003710528689954788,
          0.003680866393687436,
          0.0036513455120712485,
          0.0036219541096493657,
          0.0035926851208407185,
          0.003563536178208512,
          0.003534509395482405,
          0.003505611108563104,
          0.0034768515781572907,
          0.003448244658065447,
          0.0034198074334704683,
          0.0033915598338474635,
          0.0033635242253318124,
          0.0033357249875406313,
          0.003308188079941258,
          0.003280940602897938,
          0.003254010358504634,
          0.003227425416228679,
          0.0032012136882483486,
          0.0031754025191692136,
          0.0031500182945534342,
          0.003125086072395103,
          0.0031006292413293113,
          0.0030766692089764297,
          0.0030532251234022096,
          0.0030303136302245147,
          0.003007948667424235,
          0.002986141299428788,
          0.002964899591536621,
          0.0029442285252481485,
          0.0029241299545681113,
          0.0029046026028533693,
          0.0028856420993043663,
          0.0028672410537440287,
          0.0028493891678998996,
          0.002832073381008681,
          0.0028152780472017495,
          0.002798985141809229,
          0.0027831744934418115,
          0.0027678240384768392,
          0.0027529100943891045,
          0.002738407648229488,
          0.0027242906564654214,
          0.002710532352356748,
          0.0026971055570474307,
          0.0026839829906062304,
          0.002671137579346182,
          0.002658542755890179,
          0.002646172748625566,
          0.0026340028574005137,
          0.00262200971255531,
          0.002610171514648268,
          0.002598468252524545,
          0.002586881897681996,
          0.002575396573206992,
          0.00256399869588027,
          0.0025526770903838013,
          0.0025414230748704012,
          0.0025302305174839733,
          0.002519095863736257,
          0.002508018134952392,
          0.002496998898288919,
          0.002486042209102018,
          0.002475154526697628,
          0.002464344604727509,
          0.002453623357704043,
          0.0024430037052912113,
          0.0024325003961885184,
          0.002422129813558657,
          0.0024119097640585385,
          0.0024018592526171305,
          0.002391998245163388,
          0.002382347421544227,
          0.002372927920887302,
          0.002363761081657713,
          0.002354868178633437,
          0.0023462701589825673,
          0.0023379873795686323,
          0.002330039347539731,
          0.002322444466174989,
          0.0023152197878695906,
          0.0023083807760391015,
          0.002301941077616546,
          0.002295912307703187,
          0.002290303847817625,
          0.0022851226590687897,
          0.0022803731114577203,
          0.002276056830391709,
          0.002272172561372957,
          0.0022687160537031995,
          0.0022656799639259725,
          0.0022630537796099344,
          0.0022608237639597404,
          0.002258972921625869,
          0.0022574809859712314,
          0.0022563244279403963,
          0.0022554764865667697,
          0.0022549072210438035,
          0.0022545835841782567,
          0.002254469516936445,
          0.002254526063688219,
          0.00225471150764802,
          0.0022549815259077116,
          0.002255289363352128,
          0.0022555860246453777,
          0.0022558204833741657,
          0.0022559399073342344,
          0.002255889898847292,
          0.002255614748899834,
          0.002255057703801691,
          0.0022541612429723477,
          0.0022528673663773486,
          0.0022511178900564183,
          0.002248854748110007,
          0.002246020299442836,
          0.0022425576375024437,
          0.0022384109011986384,
          0.002233525585147282,
          0.0022278488473494837,
          0.0022213298123962577,
          0.002213919868279678,
          0.00220557295489515,
          0.0021962458423364314,
          0.0021858983971159564,
          0.002174493834488105,
          0.0021619989551127762,
          0.00214838436437108,
          0.002133624672733802,
          0.0021176986756869767,
          0.002100589511836266,
          0.0020822847979429884,
          0.002062776739788524,
          0.002042062217919602,
          0.0020201428474937054,
          0.001997025011620058,
          0.0019727198677763507,
          0.0019472433270726283,
          0.0019206160063302198,
          0.0018928631531435008,
          0.0018640145442934968,
          0.0018341043580833748,
          0.001803171021364578,
          0.0017712570322165164,
          0.001738408759431001,
          0.001704676220132259,
          0.0016701128370332767,
          0.0016347751769869427,
          0.0015987226726347657,
          0.0015620173290850077,
          0.0015247234176644755
         ],
         "yaxis": "y",
         "type": "scatter"
        },
        {
         "legendgroup": "ASD_pos",
         "marker": {
          "color": "purple",
          "symbol": "line-ns-open"
         },
         "mode": "markers",
         "name": "ASD_pos",
         "showlegend": false,
         "x": [
          14.67989264,
          20.30594341,
          17.96459873,
          29.11206645,
          36.08435983,
          38.5945887,
          37.91975494,
          44.85675975,
          23.01064721,
          55.07023813,
          39.43876274,
          37.11566426,
          31.26745092,
          24.04423243,
          15.92003387,
          14.39803871,
          21.10272977,
          29.6603158,
          27.58499933,
          28.24751537,
          46.14982009,
          19.53928574,
          62.01077975,
          42.21516864,
          14.92302777,
          53.25270496,
          15.47212097,
          32.86252139,
          55.87718249,
          18.74165104,
          18.24228234,
          71.08419062,
          21.23165613,
          47.98800877,
          22.57895951,
          20.85087407,
          17.49596329,
          37.38204891,
          12.3573003,
          55.32273412,
          27.97710674,
          53.31213707,
          38.62482504,
          18.53436695,
          48.50984312,
          58.23716737,
          42.17293948,
          31.11362034,
          49.34355056,
          25.17584032,
          48.53059445,
          19.76478629,
          64.7846482,
          17.58923301,
          24.3593635,
          29.4190243,
          23.03114875,
          30.86833336,
          13.56535916,
          12.86969457,
          42.89939647,
          68.00507033,
          31.6665334,
          39.62488238,
          21.26872388,
          53.679868000000006,
          13.82400342,
          32.1208691,
          49.18932273,
          62.55643314,
          53.27325592,
          59.93790237,
          55.31824746,
          42.33192443,
          54.73967471,
          35.04822411,
          29.62630088,
          33.71533635,
          27.88425018,
          21.48013904,
          25.99219163,
          15.36731189,
          46.36992639,
          18.878002,
          25.11012862,
          22.91816929,
          19.33816764,
          27.52895152,
          62.61132166,
          23.80967704,
          18.129310800000003,
          35.79293299,
          44.77318337,
          26.1659676,
          21.32558768,
          41.84811585,
          26.92375026,
          48.11471037,
          28.70467543,
          28.30261772,
          35.5579975,
          31.67681913,
          22.65097981,
          14.86917251,
          22.3696796,
          18.58263362,
          16.86475024,
          49.43439359,
          33.96043139,
          24.04626135,
          16.49474382,
          37.84456589,
          27.67536663,
          23.75933805,
          32.73950568,
          19.2906371,
          28.49001339,
          31.07938808,
          25.55980006,
          25.62275359,
          64.49177551,
          14.23128228,
          55.88994948,
          15.95119764,
          24.75130724,
          13.89784984,
          10.95228869,
          42.15462533,
          21.76023807,
          50.28178664,
          27.18013388,
          29.31198078,
          54.80676402,
          41.75294745,
          54.55295512,
          69.0322209,
          30.86535776,
          24.99099448,
          42.09629473,
          18.7139055,
          34.09807492,
          15.7291792,
          19.39516203,
          30.89414025,
          37.22073251,
          12.64242609,
          23.82198722,
          20.53986415,
          22.15781669,
          18.05636448,
          21.75953085,
          28.04131476,
          52.33927013,
          24.45063324,
          32.58726065,
          35.67135635,
          17.0144967,
          37.27590789,
          19.74274144,
          54.78051233,
          20.49104374,
          24.00236983,
          24.91819746,
          11.06017591,
          62.02633694,
          23.2418793,
          11.35116102,
          17.91973945,
          13.1545696,
          24.2634694,
          46.57007587,
          17.90321284,
          34.88603695,
          21.0231266,
          14.45454475,
          62.92074643,
          28.10136823,
          30.70537622,
          51.06141566,
          27.79945741,
          53.3231657,
          18.00918051,
          38.52697981,
          42.08490685,
          18.24255728
         ],
         "xaxis": "x",
         "y": [
          "ASD_pos",
          "ASD_pos",
          "ASD_pos",
          "ASD_pos",
          "ASD_pos",
          "ASD_pos",
          "ASD_pos",
          "ASD_pos",
          "ASD_pos",
          "ASD_pos",
          "ASD_pos",
          "ASD_pos",
          "ASD_pos",
          "ASD_pos",
          "ASD_pos",
          "ASD_pos",
          "ASD_pos",
          "ASD_pos",
          "ASD_pos",
          "ASD_pos",
          "ASD_pos",
          "ASD_pos",
          "ASD_pos",
          "ASD_pos",
          "ASD_pos",
          "ASD_pos",
          "ASD_pos",
          "ASD_pos",
          "ASD_pos",
          "ASD_pos",
          "ASD_pos",
          "ASD_pos",
          "ASD_pos",
          "ASD_pos",
          "ASD_pos",
          "ASD_pos",
          "ASD_pos",
          "ASD_pos",
          "ASD_pos",
          "ASD_pos",
          "ASD_pos",
          "ASD_pos",
          "ASD_pos",
          "ASD_pos",
          "ASD_pos",
          "ASD_pos",
          "ASD_pos",
          "ASD_pos",
          "ASD_pos",
          "ASD_pos",
          "ASD_pos",
          "ASD_pos",
          "ASD_pos",
          "ASD_pos",
          "ASD_pos",
          "ASD_pos",
          "ASD_pos",
          "ASD_pos",
          "ASD_pos",
          "ASD_pos",
          "ASD_pos",
          "ASD_pos",
          "ASD_pos",
          "ASD_pos",
          "ASD_pos",
          "ASD_pos",
          "ASD_pos",
          "ASD_pos",
          "ASD_pos",
          "ASD_pos",
          "ASD_pos",
          "ASD_pos",
          "ASD_pos",
          "ASD_pos",
          "ASD_pos",
          "ASD_pos",
          "ASD_pos",
          "ASD_pos",
          "ASD_pos",
          "ASD_pos",
          "ASD_pos",
          "ASD_pos",
          "ASD_pos",
          "ASD_pos",
          "ASD_pos",
          "ASD_pos",
          "ASD_pos",
          "ASD_pos",
          "ASD_pos",
          "ASD_pos",
          "ASD_pos",
          "ASD_pos",
          "ASD_pos",
          "ASD_pos",
          "ASD_pos",
          "ASD_pos",
          "ASD_pos",
          "ASD_pos",
          "ASD_pos",
          "ASD_pos",
          "ASD_pos",
          "ASD_pos",
          "ASD_pos",
          "ASD_pos",
          "ASD_pos",
          "ASD_pos",
          "ASD_pos",
          "ASD_pos",
          "ASD_pos",
          "ASD_pos",
          "ASD_pos",
          "ASD_pos",
          "ASD_pos",
          "ASD_pos",
          "ASD_pos",
          "ASD_pos",
          "ASD_pos",
          "ASD_pos",
          "ASD_pos",
          "ASD_pos",
          "ASD_pos",
          "ASD_pos",
          "ASD_pos",
          "ASD_pos",
          "ASD_pos",
          "ASD_pos",
          "ASD_pos",
          "ASD_pos",
          "ASD_pos",
          "ASD_pos",
          "ASD_pos",
          "ASD_pos",
          "ASD_pos",
          "ASD_pos",
          "ASD_pos",
          "ASD_pos",
          "ASD_pos",
          "ASD_pos",
          "ASD_pos",
          "ASD_pos",
          "ASD_pos",
          "ASD_pos",
          "ASD_pos",
          "ASD_pos",
          "ASD_pos",
          "ASD_pos",
          "ASD_pos",
          "ASD_pos",
          "ASD_pos",
          "ASD_pos",
          "ASD_pos",
          "ASD_pos",
          "ASD_pos",
          "ASD_pos",
          "ASD_pos",
          "ASD_pos",
          "ASD_pos",
          "ASD_pos",
          "ASD_pos",
          "ASD_pos",
          "ASD_pos",
          "ASD_pos",
          "ASD_pos",
          "ASD_pos",
          "ASD_pos",
          "ASD_pos",
          "ASD_pos",
          "ASD_pos",
          "ASD_pos",
          "ASD_pos",
          "ASD_pos",
          "ASD_pos",
          "ASD_pos",
          "ASD_pos",
          "ASD_pos",
          "ASD_pos",
          "ASD_pos",
          "ASD_pos",
          "ASD_pos",
          "ASD_pos",
          "ASD_pos",
          "ASD_pos",
          "ASD_pos",
          "ASD_pos",
          "ASD_pos"
         ],
         "yaxis": "y2",
         "type": "scatter"
        },
        {
         "legendgroup": "ASD_neg",
         "marker": {
          "color": "salmon",
          "symbol": "line-ns-open"
         },
         "mode": "markers",
         "name": "ASD_neg",
         "showlegend": false,
         "x": [
          18.60539681,
          13.82936938,
          61.03528807,
          14.25668605,
          15.57819071,
          21.36698098,
          28.93006774,
          15.40690273,
          22.87041047,
          45.7861637,
          28.71312905,
          52.20892387,
          13.97301145,
          15.55955208,
          13.99395149,
          24.34811834,
          37.54394119,
          15.77964696,
          31.79042116,
          54.51081856,
          24.2640054,
          13.71660497,
          34.48599757,
          24.62929977,
          45.98472454,
          23.876840100000003,
          54.53720884,
          13.53526348,
          25.55286793,
          44.8700017,
          14.24974298,
          16.09705879,
          65.6951177,
          17.929757100000003,
          38.0985636,
          37.37522679,
          27.47619568,
          17.63356169,
          22.14783581,
          41.71234687,
          48.56647483,
          51.80196369,
          30.64667127,
          33.05861987,
          20.53650583,
          27.24063427,
          26.30248764,
          32.42403082,
          52.02688326,
          44.09821754,
          17.51408417,
          15.59883742,
          19.53559466,
          17.42176325,
          17.38545741,
          9.560504591,
          25.95016033,
          35.83746454,
          11.54993958,
          38.67351458,
          42.2214725,
          30.57399179,
          12.94714991,
          30.07064518,
          21.60769114,
          18.65259136,
          20.22910815,
          14.69486744,
          70.80160415,
          19.46573847,
          29.98828071,
          21.55665806,
          28.76435032,
          14.4545617,
          24.27300103,
          24.55505931,
          17.39781861,
          24.4713742,
          32.23937347,
          69.09837764,
          45.37472227,
          47.84566809,
          28.56308891,
          13.09682249,
          19.80506544,
          27.61175669,
          16.714680800000004,
          26.41488838,
          29.33349476,
          21.32706907,
          67.55850162,
          18.50446693,
          31.43579833,
          20.08757477,
          69.05226045,
          23.05540341,
          14.59720978,
          47.87638561,
          22.62568164,
          25.55856781,
          32.4945138,
          26.30495213,
          28.16768892,
          45.17808556,
          26.72393465,
          25.77650282,
          18.00560631,
          22.12052239,
          24.65502345,
          19.5181971,
          29.74431679,
          39.70332795,
          29.31918969,
          35.72545637,
          27.81662774,
          23.45687224,
          24.97098115,
          17.03338276,
          18.56656926,
          20.99807204,
          33.15345606,
          16.91617977,
          17.56342082,
          17.86860128,
          30.68204661,
          30.5726803,
          30.65806538,
          24.78260151,
          20.3267982,
          19.0425534,
          35.05333688,
          31.18446071,
          22.27304531,
          64.07729888,
          16.99434028,
          22.38919405,
          30.63901324,
          20.29018852,
          24.87843843,
          12.24753182,
          24.17754462,
          59.97435003,
          16.53744586,
          22.47238061,
          54.1267139,
          26.72591344,
          27.42240544,
          16.49152984,
          17.84015282,
          13.00076319,
          21.33664412,
          24.5500137,
          17.84051133,
          14.67194994,
          26.13266488,
          27.77326719,
          28.39174517,
          38.19603988,
          19.48255661,
          23.10647714,
          37.32451578,
          28.0402643,
          16.45927794,
          21.20709159,
          14.25136597,
          20.39654655,
          59.64456984,
          26.27653497,
          24.50929034,
          50.13199013,
          26.44489182,
          29.12153036,
          18.25537813,
          30.488441,
          44.38044644,
          28.97897254,
          52.9680159,
          12.03765423,
          29.37295411,
          23.99403586,
          23.04771671,
          39.31612047,
          19.52180736,
          10.0682642,
          42.56842778,
          28.40672129,
          44.95667763,
          12.49217538,
          72.40248841,
          29.98825247,
          23.30157997,
          44.21478178,
          17.97550298,
          41.54513901,
          26.26550774,
          27.79462444,
          29.54503981,
          23.22476695,
          38.69865911,
          33.15865325,
          18.54376162,
          14.08733098,
          18.76366889,
          30.34815679,
          30.05008465,
          12.84895746,
          21.43814876,
          25.49186707,
          27.0273135,
          20.26061777,
          49.78834545,
          40.57666928,
          15.25926213,
          22.3768334,
          18.59984127,
          35.45904379,
          70.45727239,
          19.41178926,
          29.29194323,
          25.1984157,
          27.79857497,
          35.23840537,
          10.5634741,
          21.01101122,
          42.48618909,
          42.75701238,
          19.46567705,
          17.73800278,
          26.73184805,
          18.18918108,
          21.16633943,
          24.88092657,
          17.38496811,
          20.84357913,
          13.05526927,
          52.29804788,
          14.20305959,
          33.1608928,
          31.91563805,
          60.77273685,
          23.20204756,
          23.68015292,
          30.09420007,
          18.25856763,
          19.44791381,
          30.93069813,
          31.30726252,
          36.56146232,
          31.22291175,
          23.2182734,
          26.54786312,
          24.95433283,
          42.68425606,
          15.37977429,
          31.93818694,
          23.82980847,
          12.82718298,
          24.21829393,
          36.38011773,
          18.06833783,
          20.02135637,
          27.62361603,
          17.02472387,
          27.02340181,
          21.46375329,
          31.289655100000004,
          12.83857004,
          15.8295188,
          25.05091735,
          15.29881605,
          23.35035887,
          16.77398843,
          41.49551501,
          24.84610005,
          28.82518176,
          23.42443608,
          39.98092074,
          29.68072364,
          16.33592748,
          14.24864659,
          39.29122616,
          40.5312181,
          32.24661514,
          43.20086314,
          26.8411853,
          20.50981094,
          17.19178706,
          19.2414331,
          31.90788624,
          12.52876169,
          16.16648629,
          28.44874139,
          29.6550994,
          27.02093489,
          21.37635914,
          45.50121366,
          29.22416068,
          18.40592409,
          24.123863,
          24.53218093,
          14.71882514,
          20.71728983,
          28.80726462,
          17.17781586,
          27.49343743,
          26.86271615,
          13.7767075,
          22.08052022,
          24.45652938,
          17.45912374,
          24.12367143,
          25.4680538,
          35.35945091,
          27.18027983,
          18.08361893,
          31.19787597,
          27.99924973,
          20.37347736,
          21.9272415,
          23.64302675,
          18.85460181,
          37.50376579,
          19.14520463,
          23.004043600000003,
          29.32415568,
          16.00881089,
          27.21368809,
          26.30897678,
          20.35515932,
          17.6883325,
          71.3560697,
          15.70727497,
          63.75155625,
          47.73008947,
          45.61232401,
          36.71172301,
          22.61521304,
          37.51947298,
          23.1327722,
          42.06175986,
          26.22617053,
          19.72333156,
          26.0779911,
          18.50849917,
          20.09622766,
          24.12553692,
          27.17141621,
          14.64496199,
          20.39207733,
          41.36860529,
          38.40680094,
          31.70883972,
          29.36037187,
          33.94300046,
          14.27922507,
          27.60839705,
          12.14264103,
          32.20423469,
          18.84329479,
          25.81976021,
          14.40240138,
          24.22036485,
          21.56342103,
          47.96276884,
          12.65425437,
          18.92173852,
          32.61509975,
          39.38579107,
          16.50360662,
          15.95961571,
          40.0526163,
          27.22430953,
          24.59416695,
          23.988549,
          33.25859799,
          31.74017364,
          27.26622279,
          17.10192393,
          17.61761346,
          12.76969932,
          28.64516606,
          20.63988618,
          26.33027826,
          28.96044414,
          16.51915492,
          38.92086202,
          12.88899428,
          26.55083095,
          16.80623143,
          14.91975497,
          43.52066788,
          18.55221155,
          19.25641523,
          33.01259387,
          24.15741484,
          67.41174403,
          21.55418788,
          24.44399463,
          13.87320354,
          25.30884824,
          20.462625,
          11.79157315,
          21.72161031,
          21.18039464,
          28.39483372,
          14.80201297,
          24.32227986,
          39.95680615,
          24.95784588,
          69.18521211,
          12.68882004,
          28.75761551,
          17.20033928,
          33.49453904,
          29.24703151,
          29.1090159,
          14.78618617,
          29.8900979,
          25.15268641,
          19.83386928,
          39.88924895,
          18.45070775,
          25.18548225,
          15.49881136,
          28.63366323,
          25.25364327,
          23.73521,
          39.82562563,
          27.63221244,
          27.88412337,
          29.19566621,
          59.62775131,
          26.13549399,
          30.76696105,
          33.22188797,
          28.30806267,
          16.91663828,
          20.35027844,
          45.23752251,
          25.94274099,
          27.96351288,
          46.24912105,
          11.79083405,
          25.93838143,
          23.6973814,
          16.10917192,
          25.9729348,
          57.85843038,
          24.8442215,
          23.51316509,
          22.4782168,
          28.39885554,
          19.33142065,
          44.13291635,
          27.70375139,
          21.17428599,
          27.20462751,
          23.78138492,
          31.45372689,
          17.29337751,
          21.35559283,
          56.94291339,
          14.3808953,
          13.89971779,
          15.49096467,
          19.73541874,
          37.48423402,
          24.6096008,
          23.96639949,
          42.35750256,
          25.85706958,
          26.54569019,
          18.5060405,
          52.05262676,
          12.23744796,
          38.86414425,
          30.52737617,
          28.98353924,
          18.6681171,
          30.22623836,
          18.12602,
          24.52767093,
          24.92729016,
          23.35073121,
          21.98276372,
          37.65198552,
          13.44764893,
          53.78743071,
          33.94529149,
          28.65883617,
          22.64481055,
          25.19521667,
          31.38962252,
          22.77013398,
          16.1038529,
          31.45293115,
          17.42385035,
          27.55458916,
          35.31536559,
          22.24054605,
          27.00058499,
          29.09439056,
          25.85604329,
          38.053128,
          25.15887799,
          25.05584845,
          19.92111561,
          22.71783533,
          47.50947766,
          36.62670705,
          21.75388979,
          30.0080822,
          29.44305461,
          16.50210964,
          48.45204622,
          71.68068207,
          62.61455773,
          66.53320759,
          20.98300489,
          22.81436453,
          28.38670182,
          12.95082394,
          27.68259645,
          28.61497378,
          13.14904621,
          16.84333863,
          29.43706753,
          24.52725575,
          25.60377858,
          46.74226968,
          18.84460222,
          31.33228909,
          29.12475515,
          17.85655211,
          22.1894618,
          23.99379689,
          28.54050329,
          24.58667973,
          28.1411368,
          18.3372629,
          28.53744157,
          17.34310145,
          19.0113239,
          12.03510973,
          23.68543099,
          41.19614552,
          23.95534317,
          21.18868502,
          25.11728489,
          39.92918019,
          13.06948226,
          34.29082460000001,
          22.28181212,
          22.61154807,
          45.03945117,
          63.23366513,
          18.90427553,
          35.45799034,
          13.38282021,
          29.82519294,
          28.33023531,
          12.94801424,
          22.88957212,
          21.75123467,
          20.90950447,
          18.99191402,
          50.53524958,
          18.4379935,
          28.46828198,
          20.4634476,
          17.2001964,
          18.4241769,
          27.57733856,
          28.42463843,
          44.10109235,
          28.95224942,
          26.86995049,
          19.74198448,
          23.43507261,
          30.67846275,
          23.89542479,
          18.34957017,
          29.277243,
          16.28524309,
          21.6019814,
          19.97847816,
          29.27161357,
          43.62625747,
          20.98186716,
          15.09052497,
          19.4801396,
          25.71545925,
          53.89137595,
          19.13036361,
          27.32150965,
          55.27876787,
          44.87586807,
          54.09464439,
          22.42243059,
          32.16281477,
          17.89826171,
          16.69477428,
          14.83218125,
          15.12771801,
          31.09996355,
          58.41167865,
          59.60787077,
          36.82751862,
          17.82050033,
          21.62956024,
          16.30397208,
          24.36141607,
          17.66929077,
          19.24147315,
          32.17009804
         ],
         "xaxis": "x",
         "y": [
          "ASD_neg",
          "ASD_neg",
          "ASD_neg",
          "ASD_neg",
          "ASD_neg",
          "ASD_neg",
          "ASD_neg",
          "ASD_neg",
          "ASD_neg",
          "ASD_neg",
          "ASD_neg",
          "ASD_neg",
          "ASD_neg",
          "ASD_neg",
          "ASD_neg",
          "ASD_neg",
          "ASD_neg",
          "ASD_neg",
          "ASD_neg",
          "ASD_neg",
          "ASD_neg",
          "ASD_neg",
          "ASD_neg",
          "ASD_neg",
          "ASD_neg",
          "ASD_neg",
          "ASD_neg",
          "ASD_neg",
          "ASD_neg",
          "ASD_neg",
          "ASD_neg",
          "ASD_neg",
          "ASD_neg",
          "ASD_neg",
          "ASD_neg",
          "ASD_neg",
          "ASD_neg",
          "ASD_neg",
          "ASD_neg",
          "ASD_neg",
          "ASD_neg",
          "ASD_neg",
          "ASD_neg",
          "ASD_neg",
          "ASD_neg",
          "ASD_neg",
          "ASD_neg",
          "ASD_neg",
          "ASD_neg",
          "ASD_neg",
          "ASD_neg",
          "ASD_neg",
          "ASD_neg",
          "ASD_neg",
          "ASD_neg",
          "ASD_neg",
          "ASD_neg",
          "ASD_neg",
          "ASD_neg",
          "ASD_neg",
          "ASD_neg",
          "ASD_neg",
          "ASD_neg",
          "ASD_neg",
          "ASD_neg",
          "ASD_neg",
          "ASD_neg",
          "ASD_neg",
          "ASD_neg",
          "ASD_neg",
          "ASD_neg",
          "ASD_neg",
          "ASD_neg",
          "ASD_neg",
          "ASD_neg",
          "ASD_neg",
          "ASD_neg",
          "ASD_neg",
          "ASD_neg",
          "ASD_neg",
          "ASD_neg",
          "ASD_neg",
          "ASD_neg",
          "ASD_neg",
          "ASD_neg",
          "ASD_neg",
          "ASD_neg",
          "ASD_neg",
          "ASD_neg",
          "ASD_neg",
          "ASD_neg",
          "ASD_neg",
          "ASD_neg",
          "ASD_neg",
          "ASD_neg",
          "ASD_neg",
          "ASD_neg",
          "ASD_neg",
          "ASD_neg",
          "ASD_neg",
          "ASD_neg",
          "ASD_neg",
          "ASD_neg",
          "ASD_neg",
          "ASD_neg",
          "ASD_neg",
          "ASD_neg",
          "ASD_neg",
          "ASD_neg",
          "ASD_neg",
          "ASD_neg",
          "ASD_neg",
          "ASD_neg",
          "ASD_neg",
          "ASD_neg",
          "ASD_neg",
          "ASD_neg",
          "ASD_neg",
          "ASD_neg",
          "ASD_neg",
          "ASD_neg",
          "ASD_neg",
          "ASD_neg",
          "ASD_neg",
          "ASD_neg",
          "ASD_neg",
          "ASD_neg",
          "ASD_neg",
          "ASD_neg",
          "ASD_neg",
          "ASD_neg",
          "ASD_neg",
          "ASD_neg",
          "ASD_neg",
          "ASD_neg",
          "ASD_neg",
          "ASD_neg",
          "ASD_neg",
          "ASD_neg",
          "ASD_neg",
          "ASD_neg",
          "ASD_neg",
          "ASD_neg",
          "ASD_neg",
          "ASD_neg",
          "ASD_neg",
          "ASD_neg",
          "ASD_neg",
          "ASD_neg",
          "ASD_neg",
          "ASD_neg",
          "ASD_neg",
          "ASD_neg",
          "ASD_neg",
          "ASD_neg",
          "ASD_neg",
          "ASD_neg",
          "ASD_neg",
          "ASD_neg",
          "ASD_neg",
          "ASD_neg",
          "ASD_neg",
          "ASD_neg",
          "ASD_neg",
          "ASD_neg",
          "ASD_neg",
          "ASD_neg",
          "ASD_neg",
          "ASD_neg",
          "ASD_neg",
          "ASD_neg",
          "ASD_neg",
          "ASD_neg",
          "ASD_neg",
          "ASD_neg",
          "ASD_neg",
          "ASD_neg",
          "ASD_neg",
          "ASD_neg",
          "ASD_neg",
          "ASD_neg",
          "ASD_neg",
          "ASD_neg",
          "ASD_neg",
          "ASD_neg",
          "ASD_neg",
          "ASD_neg",
          "ASD_neg",
          "ASD_neg",
          "ASD_neg",
          "ASD_neg",
          "ASD_neg",
          "ASD_neg",
          "ASD_neg",
          "ASD_neg",
          "ASD_neg",
          "ASD_neg",
          "ASD_neg",
          "ASD_neg",
          "ASD_neg",
          "ASD_neg",
          "ASD_neg",
          "ASD_neg",
          "ASD_neg",
          "ASD_neg",
          "ASD_neg",
          "ASD_neg",
          "ASD_neg",
          "ASD_neg",
          "ASD_neg",
          "ASD_neg",
          "ASD_neg",
          "ASD_neg",
          "ASD_neg",
          "ASD_neg",
          "ASD_neg",
          "ASD_neg",
          "ASD_neg",
          "ASD_neg",
          "ASD_neg",
          "ASD_neg",
          "ASD_neg",
          "ASD_neg",
          "ASD_neg",
          "ASD_neg",
          "ASD_neg",
          "ASD_neg",
          "ASD_neg",
          "ASD_neg",
          "ASD_neg",
          "ASD_neg",
          "ASD_neg",
          "ASD_neg",
          "ASD_neg",
          "ASD_neg",
          "ASD_neg",
          "ASD_neg",
          "ASD_neg",
          "ASD_neg",
          "ASD_neg",
          "ASD_neg",
          "ASD_neg",
          "ASD_neg",
          "ASD_neg",
          "ASD_neg",
          "ASD_neg",
          "ASD_neg",
          "ASD_neg",
          "ASD_neg",
          "ASD_neg",
          "ASD_neg",
          "ASD_neg",
          "ASD_neg",
          "ASD_neg",
          "ASD_neg",
          "ASD_neg",
          "ASD_neg",
          "ASD_neg",
          "ASD_neg",
          "ASD_neg",
          "ASD_neg",
          "ASD_neg",
          "ASD_neg",
          "ASD_neg",
          "ASD_neg",
          "ASD_neg",
          "ASD_neg",
          "ASD_neg",
          "ASD_neg",
          "ASD_neg",
          "ASD_neg",
          "ASD_neg",
          "ASD_neg",
          "ASD_neg",
          "ASD_neg",
          "ASD_neg",
          "ASD_neg",
          "ASD_neg",
          "ASD_neg",
          "ASD_neg",
          "ASD_neg",
          "ASD_neg",
          "ASD_neg",
          "ASD_neg",
          "ASD_neg",
          "ASD_neg",
          "ASD_neg",
          "ASD_neg",
          "ASD_neg",
          "ASD_neg",
          "ASD_neg",
          "ASD_neg",
          "ASD_neg",
          "ASD_neg",
          "ASD_neg",
          "ASD_neg",
          "ASD_neg",
          "ASD_neg",
          "ASD_neg",
          "ASD_neg",
          "ASD_neg",
          "ASD_neg",
          "ASD_neg",
          "ASD_neg",
          "ASD_neg",
          "ASD_neg",
          "ASD_neg",
          "ASD_neg",
          "ASD_neg",
          "ASD_neg",
          "ASD_neg",
          "ASD_neg",
          "ASD_neg",
          "ASD_neg",
          "ASD_neg",
          "ASD_neg",
          "ASD_neg",
          "ASD_neg",
          "ASD_neg",
          "ASD_neg",
          "ASD_neg",
          "ASD_neg",
          "ASD_neg",
          "ASD_neg",
          "ASD_neg",
          "ASD_neg",
          "ASD_neg",
          "ASD_neg",
          "ASD_neg",
          "ASD_neg",
          "ASD_neg",
          "ASD_neg",
          "ASD_neg",
          "ASD_neg",
          "ASD_neg",
          "ASD_neg",
          "ASD_neg",
          "ASD_neg",
          "ASD_neg",
          "ASD_neg",
          "ASD_neg",
          "ASD_neg",
          "ASD_neg",
          "ASD_neg",
          "ASD_neg",
          "ASD_neg",
          "ASD_neg",
          "ASD_neg",
          "ASD_neg",
          "ASD_neg",
          "ASD_neg",
          "ASD_neg",
          "ASD_neg",
          "ASD_neg",
          "ASD_neg",
          "ASD_neg",
          "ASD_neg",
          "ASD_neg",
          "ASD_neg",
          "ASD_neg",
          "ASD_neg",
          "ASD_neg",
          "ASD_neg",
          "ASD_neg",
          "ASD_neg",
          "ASD_neg",
          "ASD_neg",
          "ASD_neg",
          "ASD_neg",
          "ASD_neg",
          "ASD_neg",
          "ASD_neg",
          "ASD_neg",
          "ASD_neg",
          "ASD_neg",
          "ASD_neg",
          "ASD_neg",
          "ASD_neg",
          "ASD_neg",
          "ASD_neg",
          "ASD_neg",
          "ASD_neg",
          "ASD_neg",
          "ASD_neg",
          "ASD_neg",
          "ASD_neg",
          "ASD_neg",
          "ASD_neg",
          "ASD_neg",
          "ASD_neg",
          "ASD_neg",
          "ASD_neg",
          "ASD_neg",
          "ASD_neg",
          "ASD_neg",
          "ASD_neg",
          "ASD_neg",
          "ASD_neg",
          "ASD_neg",
          "ASD_neg",
          "ASD_neg",
          "ASD_neg",
          "ASD_neg",
          "ASD_neg",
          "ASD_neg",
          "ASD_neg",
          "ASD_neg",
          "ASD_neg",
          "ASD_neg",
          "ASD_neg",
          "ASD_neg",
          "ASD_neg",
          "ASD_neg",
          "ASD_neg",
          "ASD_neg",
          "ASD_neg",
          "ASD_neg",
          "ASD_neg",
          "ASD_neg",
          "ASD_neg",
          "ASD_neg",
          "ASD_neg",
          "ASD_neg",
          "ASD_neg",
          "ASD_neg",
          "ASD_neg",
          "ASD_neg",
          "ASD_neg",
          "ASD_neg",
          "ASD_neg",
          "ASD_neg",
          "ASD_neg",
          "ASD_neg",
          "ASD_neg",
          "ASD_neg",
          "ASD_neg",
          "ASD_neg",
          "ASD_neg",
          "ASD_neg",
          "ASD_neg",
          "ASD_neg",
          "ASD_neg",
          "ASD_neg",
          "ASD_neg",
          "ASD_neg",
          "ASD_neg",
          "ASD_neg",
          "ASD_neg",
          "ASD_neg",
          "ASD_neg",
          "ASD_neg",
          "ASD_neg",
          "ASD_neg",
          "ASD_neg",
          "ASD_neg",
          "ASD_neg",
          "ASD_neg",
          "ASD_neg",
          "ASD_neg",
          "ASD_neg",
          "ASD_neg",
          "ASD_neg",
          "ASD_neg",
          "ASD_neg",
          "ASD_neg",
          "ASD_neg",
          "ASD_neg",
          "ASD_neg",
          "ASD_neg",
          "ASD_neg",
          "ASD_neg",
          "ASD_neg",
          "ASD_neg",
          "ASD_neg",
          "ASD_neg",
          "ASD_neg",
          "ASD_neg",
          "ASD_neg",
          "ASD_neg",
          "ASD_neg",
          "ASD_neg",
          "ASD_neg",
          "ASD_neg",
          "ASD_neg",
          "ASD_neg",
          "ASD_neg",
          "ASD_neg",
          "ASD_neg",
          "ASD_neg",
          "ASD_neg",
          "ASD_neg",
          "ASD_neg",
          "ASD_neg",
          "ASD_neg",
          "ASD_neg",
          "ASD_neg",
          "ASD_neg",
          "ASD_neg",
          "ASD_neg",
          "ASD_neg",
          "ASD_neg",
          "ASD_neg",
          "ASD_neg",
          "ASD_neg",
          "ASD_neg",
          "ASD_neg",
          "ASD_neg",
          "ASD_neg",
          "ASD_neg",
          "ASD_neg",
          "ASD_neg",
          "ASD_neg",
          "ASD_neg",
          "ASD_neg",
          "ASD_neg",
          "ASD_neg",
          "ASD_neg",
          "ASD_neg",
          "ASD_neg",
          "ASD_neg",
          "ASD_neg",
          "ASD_neg",
          "ASD_neg",
          "ASD_neg",
          "ASD_neg",
          "ASD_neg",
          "ASD_neg",
          "ASD_neg",
          "ASD_neg",
          "ASD_neg",
          "ASD_neg",
          "ASD_neg",
          "ASD_neg",
          "ASD_neg",
          "ASD_neg",
          "ASD_neg",
          "ASD_neg",
          "ASD_neg",
          "ASD_neg",
          "ASD_neg",
          "ASD_neg",
          "ASD_neg",
          "ASD_neg",
          "ASD_neg",
          "ASD_neg",
          "ASD_neg",
          "ASD_neg",
          "ASD_neg",
          "ASD_neg",
          "ASD_neg",
          "ASD_neg",
          "ASD_neg",
          "ASD_neg",
          "ASD_neg",
          "ASD_neg",
          "ASD_neg",
          "ASD_neg",
          "ASD_neg",
          "ASD_neg",
          "ASD_neg",
          "ASD_neg",
          "ASD_neg",
          "ASD_neg",
          "ASD_neg",
          "ASD_neg",
          "ASD_neg",
          "ASD_neg",
          "ASD_neg",
          "ASD_neg",
          "ASD_neg",
          "ASD_neg",
          "ASD_neg",
          "ASD_neg",
          "ASD_neg",
          "ASD_neg",
          "ASD_neg",
          "ASD_neg",
          "ASD_neg",
          "ASD_neg",
          "ASD_neg",
          "ASD_neg",
          "ASD_neg",
          "ASD_neg",
          "ASD_neg",
          "ASD_neg",
          "ASD_neg",
          "ASD_neg",
          "ASD_neg",
          "ASD_neg",
          "ASD_neg",
          "ASD_neg",
          "ASD_neg",
          "ASD_neg",
          "ASD_neg",
          "ASD_neg",
          "ASD_neg",
          "ASD_neg",
          "ASD_neg",
          "ASD_neg",
          "ASD_neg",
          "ASD_neg",
          "ASD_neg",
          "ASD_neg",
          "ASD_neg",
          "ASD_neg",
          "ASD_neg",
          "ASD_neg",
          "ASD_neg",
          "ASD_neg",
          "ASD_neg",
          "ASD_neg",
          "ASD_neg",
          "ASD_neg",
          "ASD_neg",
          "ASD_neg"
         ],
         "yaxis": "y2",
         "type": "scatter"
        }
       ],
       "layout": {
        "barmode": "overlay",
        "hovermode": "closest",
        "legend": {
         "traceorder": "reversed",
         "orientation": "v",
         "y": 1,
         "yanchor": "top",
         "x": 1.0,
         "xanchor": "right"
        },
        "xaxis": {
         "anchor": "y2",
         "domain": [
          0.0,
          1.0
         ],
         "zeroline": false,
         "title": {
          "text": "Age"
         }
        },
        "yaxis": {
         "anchor": "free",
         "domain": [
          0.35,
          1
         ],
         "position": 0.0,
         "title": {
          "text": "density"
         }
        },
        "yaxis2": {
         "anchor": "x",
         "domain": [
          0,
          0.25
         ],
         "dtick": 1,
         "showticklabels": false
        },
        "template": {
         "data": {
          "barpolar": [
           {
            "marker": {
             "line": {
              "color": "white",
              "width": 0.5
             },
             "pattern": {
              "fillmode": "overlay",
              "size": 10,
              "solidity": 0.2
             }
            },
            "type": "barpolar"
           }
          ],
          "bar": [
           {
            "error_x": {
             "color": "rgb(36,36,36)"
            },
            "error_y": {
             "color": "rgb(36,36,36)"
            },
            "marker": {
             "line": {
              "color": "white",
              "width": 0.5
             },
             "pattern": {
              "fillmode": "overlay",
              "size": 10,
              "solidity": 0.2
             }
            },
            "type": "bar"
           }
          ],
          "carpet": [
           {
            "aaxis": {
             "endlinecolor": "rgb(36,36,36)",
             "gridcolor": "white",
             "linecolor": "white",
             "minorgridcolor": "white",
             "startlinecolor": "rgb(36,36,36)"
            },
            "baxis": {
             "endlinecolor": "rgb(36,36,36)",
             "gridcolor": "white",
             "linecolor": "white",
             "minorgridcolor": "white",
             "startlinecolor": "rgb(36,36,36)"
            },
            "type": "carpet"
           }
          ],
          "choropleth": [
           {
            "colorbar": {
             "outlinewidth": 1,
             "tickcolor": "rgb(36,36,36)",
             "ticks": "outside"
            },
            "type": "choropleth"
           }
          ],
          "contourcarpet": [
           {
            "colorbar": {
             "outlinewidth": 1,
             "tickcolor": "rgb(36,36,36)",
             "ticks": "outside"
            },
            "type": "contourcarpet"
           }
          ],
          "contour": [
           {
            "colorbar": {
             "outlinewidth": 1,
             "tickcolor": "rgb(36,36,36)",
             "ticks": "outside"
            },
            "colorscale": [
             [
              0.0,
              "#440154"
             ],
             [
              0.1111111111111111,
              "#482878"
             ],
             [
              0.2222222222222222,
              "#3e4989"
             ],
             [
              0.3333333333333333,
              "#31688e"
             ],
             [
              0.4444444444444444,
              "#26828e"
             ],
             [
              0.5555555555555556,
              "#1f9e89"
             ],
             [
              0.6666666666666666,
              "#35b779"
             ],
             [
              0.7777777777777778,
              "#6ece58"
             ],
             [
              0.8888888888888888,
              "#b5de2b"
             ],
             [
              1.0,
              "#fde725"
             ]
            ],
            "type": "contour"
           }
          ],
          "heatmapgl": [
           {
            "colorbar": {
             "outlinewidth": 1,
             "tickcolor": "rgb(36,36,36)",
             "ticks": "outside"
            },
            "colorscale": [
             [
              0.0,
              "#440154"
             ],
             [
              0.1111111111111111,
              "#482878"
             ],
             [
              0.2222222222222222,
              "#3e4989"
             ],
             [
              0.3333333333333333,
              "#31688e"
             ],
             [
              0.4444444444444444,
              "#26828e"
             ],
             [
              0.5555555555555556,
              "#1f9e89"
             ],
             [
              0.6666666666666666,
              "#35b779"
             ],
             [
              0.7777777777777778,
              "#6ece58"
             ],
             [
              0.8888888888888888,
              "#b5de2b"
             ],
             [
              1.0,
              "#fde725"
             ]
            ],
            "type": "heatmapgl"
           }
          ],
          "heatmap": [
           {
            "colorbar": {
             "outlinewidth": 1,
             "tickcolor": "rgb(36,36,36)",
             "ticks": "outside"
            },
            "colorscale": [
             [
              0.0,
              "#440154"
             ],
             [
              0.1111111111111111,
              "#482878"
             ],
             [
              0.2222222222222222,
              "#3e4989"
             ],
             [
              0.3333333333333333,
              "#31688e"
             ],
             [
              0.4444444444444444,
              "#26828e"
             ],
             [
              0.5555555555555556,
              "#1f9e89"
             ],
             [
              0.6666666666666666,
              "#35b779"
             ],
             [
              0.7777777777777778,
              "#6ece58"
             ],
             [
              0.8888888888888888,
              "#b5de2b"
             ],
             [
              1.0,
              "#fde725"
             ]
            ],
            "type": "heatmap"
           }
          ],
          "histogram2dcontour": [
           {
            "colorbar": {
             "outlinewidth": 1,
             "tickcolor": "rgb(36,36,36)",
             "ticks": "outside"
            },
            "colorscale": [
             [
              0.0,
              "#440154"
             ],
             [
              0.1111111111111111,
              "#482878"
             ],
             [
              0.2222222222222222,
              "#3e4989"
             ],
             [
              0.3333333333333333,
              "#31688e"
             ],
             [
              0.4444444444444444,
              "#26828e"
             ],
             [
              0.5555555555555556,
              "#1f9e89"
             ],
             [
              0.6666666666666666,
              "#35b779"
             ],
             [
              0.7777777777777778,
              "#6ece58"
             ],
             [
              0.8888888888888888,
              "#b5de2b"
             ],
             [
              1.0,
              "#fde725"
             ]
            ],
            "type": "histogram2dcontour"
           }
          ],
          "histogram2d": [
           {
            "colorbar": {
             "outlinewidth": 1,
             "tickcolor": "rgb(36,36,36)",
             "ticks": "outside"
            },
            "colorscale": [
             [
              0.0,
              "#440154"
             ],
             [
              0.1111111111111111,
              "#482878"
             ],
             [
              0.2222222222222222,
              "#3e4989"
             ],
             [
              0.3333333333333333,
              "#31688e"
             ],
             [
              0.4444444444444444,
              "#26828e"
             ],
             [
              0.5555555555555556,
              "#1f9e89"
             ],
             [
              0.6666666666666666,
              "#35b779"
             ],
             [
              0.7777777777777778,
              "#6ece58"
             ],
             [
              0.8888888888888888,
              "#b5de2b"
             ],
             [
              1.0,
              "#fde725"
             ]
            ],
            "type": "histogram2d"
           }
          ],
          "histogram": [
           {
            "marker": {
             "line": {
              "color": "white",
              "width": 0.6
             }
            },
            "type": "histogram"
           }
          ],
          "mesh3d": [
           {
            "colorbar": {
             "outlinewidth": 1,
             "tickcolor": "rgb(36,36,36)",
             "ticks": "outside"
            },
            "type": "mesh3d"
           }
          ],
          "parcoords": [
           {
            "line": {
             "colorbar": {
              "outlinewidth": 1,
              "tickcolor": "rgb(36,36,36)",
              "ticks": "outside"
             }
            },
            "type": "parcoords"
           }
          ],
          "pie": [
           {
            "automargin": true,
            "type": "pie"
           }
          ],
          "scatter3d": [
           {
            "line": {
             "colorbar": {
              "outlinewidth": 1,
              "tickcolor": "rgb(36,36,36)",
              "ticks": "outside"
             }
            },
            "marker": {
             "colorbar": {
              "outlinewidth": 1,
              "tickcolor": "rgb(36,36,36)",
              "ticks": "outside"
             }
            },
            "type": "scatter3d"
           }
          ],
          "scattercarpet": [
           {
            "marker": {
             "colorbar": {
              "outlinewidth": 1,
              "tickcolor": "rgb(36,36,36)",
              "ticks": "outside"
             }
            },
            "type": "scattercarpet"
           }
          ],
          "scattergeo": [
           {
            "marker": {
             "colorbar": {
              "outlinewidth": 1,
              "tickcolor": "rgb(36,36,36)",
              "ticks": "outside"
             }
            },
            "type": "scattergeo"
           }
          ],
          "scattergl": [
           {
            "marker": {
             "colorbar": {
              "outlinewidth": 1,
              "tickcolor": "rgb(36,36,36)",
              "ticks": "outside"
             }
            },
            "type": "scattergl"
           }
          ],
          "scattermapbox": [
           {
            "marker": {
             "colorbar": {
              "outlinewidth": 1,
              "tickcolor": "rgb(36,36,36)",
              "ticks": "outside"
             }
            },
            "type": "scattermapbox"
           }
          ],
          "scatterpolargl": [
           {
            "marker": {
             "colorbar": {
              "outlinewidth": 1,
              "tickcolor": "rgb(36,36,36)",
              "ticks": "outside"
             }
            },
            "type": "scatterpolargl"
           }
          ],
          "scatterpolar": [
           {
            "marker": {
             "colorbar": {
              "outlinewidth": 1,
              "tickcolor": "rgb(36,36,36)",
              "ticks": "outside"
             }
            },
            "type": "scatterpolar"
           }
          ],
          "scatter": [
           {
            "fillpattern": {
             "fillmode": "overlay",
             "size": 10,
             "solidity": 0.2
            },
            "type": "scatter"
           }
          ],
          "scatterternary": [
           {
            "marker": {
             "colorbar": {
              "outlinewidth": 1,
              "tickcolor": "rgb(36,36,36)",
              "ticks": "outside"
             }
            },
            "type": "scatterternary"
           }
          ],
          "surface": [
           {
            "colorbar": {
             "outlinewidth": 1,
             "tickcolor": "rgb(36,36,36)",
             "ticks": "outside"
            },
            "colorscale": [
             [
              0.0,
              "#440154"
             ],
             [
              0.1111111111111111,
              "#482878"
             ],
             [
              0.2222222222222222,
              "#3e4989"
             ],
             [
              0.3333333333333333,
              "#31688e"
             ],
             [
              0.4444444444444444,
              "#26828e"
             ],
             [
              0.5555555555555556,
              "#1f9e89"
             ],
             [
              0.6666666666666666,
              "#35b779"
             ],
             [
              0.7777777777777778,
              "#6ece58"
             ],
             [
              0.8888888888888888,
              "#b5de2b"
             ],
             [
              1.0,
              "#fde725"
             ]
            ],
            "type": "surface"
           }
          ],
          "table": [
           {
            "cells": {
             "fill": {
              "color": "rgb(237,237,237)"
             },
             "line": {
              "color": "white"
             }
            },
            "header": {
             "fill": {
              "color": "rgb(217,217,217)"
             },
             "line": {
              "color": "white"
             }
            },
            "type": "table"
           }
          ]
         },
         "layout": {
          "annotationdefaults": {
           "arrowhead": 0,
           "arrowwidth": 1
          },
          "autotypenumbers": "strict",
          "coloraxis": {
           "colorbar": {
            "outlinewidth": 1,
            "tickcolor": "rgb(36,36,36)",
            "ticks": "outside"
           }
          },
          "colorscale": {
           "diverging": [
            [
             0.0,
             "rgb(103,0,31)"
            ],
            [
             0.1,
             "rgb(178,24,43)"
            ],
            [
             0.2,
             "rgb(214,96,77)"
            ],
            [
             0.3,
             "rgb(244,165,130)"
            ],
            [
             0.4,
             "rgb(253,219,199)"
            ],
            [
             0.5,
             "rgb(247,247,247)"
            ],
            [
             0.6,
             "rgb(209,229,240)"
            ],
            [
             0.7,
             "rgb(146,197,222)"
            ],
            [
             0.8,
             "rgb(67,147,195)"
            ],
            [
             0.9,
             "rgb(33,102,172)"
            ],
            [
             1.0,
             "rgb(5,48,97)"
            ]
           ],
           "sequential": [
            [
             0.0,
             "#440154"
            ],
            [
             0.1111111111111111,
             "#482878"
            ],
            [
             0.2222222222222222,
             "#3e4989"
            ],
            [
             0.3333333333333333,
             "#31688e"
            ],
            [
             0.4444444444444444,
             "#26828e"
            ],
            [
             0.5555555555555556,
             "#1f9e89"
            ],
            [
             0.6666666666666666,
             "#35b779"
            ],
            [
             0.7777777777777778,
             "#6ece58"
            ],
            [
             0.8888888888888888,
             "#b5de2b"
            ],
            [
             1.0,
             "#fde725"
            ]
           ],
           "sequentialminus": [
            [
             0.0,
             "#440154"
            ],
            [
             0.1111111111111111,
             "#482878"
            ],
            [
             0.2222222222222222,
             "#3e4989"
            ],
            [
             0.3333333333333333,
             "#31688e"
            ],
            [
             0.4444444444444444,
             "#26828e"
            ],
            [
             0.5555555555555556,
             "#1f9e89"
            ],
            [
             0.6666666666666666,
             "#35b779"
            ],
            [
             0.7777777777777778,
             "#6ece58"
            ],
            [
             0.8888888888888888,
             "#b5de2b"
            ],
            [
             1.0,
             "#fde725"
            ]
           ]
          },
          "colorway": [
           "#1F77B4",
           "#FF7F0E",
           "#2CA02C",
           "#D62728",
           "#9467BD",
           "#8C564B",
           "#E377C2",
           "#7F7F7F",
           "#BCBD22",
           "#17BECF"
          ],
          "font": {
           "color": "rgb(36,36,36)"
          },
          "geo": {
           "bgcolor": "white",
           "lakecolor": "white",
           "landcolor": "white",
           "showlakes": true,
           "showland": true,
           "subunitcolor": "white"
          },
          "hoverlabel": {
           "align": "left"
          },
          "hovermode": "closest",
          "mapbox": {
           "style": "light"
          },
          "paper_bgcolor": "white",
          "plot_bgcolor": "white",
          "polar": {
           "angularaxis": {
            "gridcolor": "rgb(232,232,232)",
            "linecolor": "rgb(36,36,36)",
            "showgrid": false,
            "showline": true,
            "ticks": "outside"
           },
           "bgcolor": "white",
           "radialaxis": {
            "gridcolor": "rgb(232,232,232)",
            "linecolor": "rgb(36,36,36)",
            "showgrid": false,
            "showline": true,
            "ticks": "outside"
           }
          },
          "scene": {
           "xaxis": {
            "backgroundcolor": "white",
            "gridcolor": "rgb(232,232,232)",
            "gridwidth": 2,
            "linecolor": "rgb(36,36,36)",
            "showbackground": true,
            "showgrid": false,
            "showline": true,
            "ticks": "outside",
            "zeroline": false,
            "zerolinecolor": "rgb(36,36,36)"
           },
           "yaxis": {
            "backgroundcolor": "white",
            "gridcolor": "rgb(232,232,232)",
            "gridwidth": 2,
            "linecolor": "rgb(36,36,36)",
            "showbackground": true,
            "showgrid": false,
            "showline": true,
            "ticks": "outside",
            "zeroline": false,
            "zerolinecolor": "rgb(36,36,36)"
           },
           "zaxis": {
            "backgroundcolor": "white",
            "gridcolor": "rgb(232,232,232)",
            "gridwidth": 2,
            "linecolor": "rgb(36,36,36)",
            "showbackground": true,
            "showgrid": false,
            "showline": true,
            "ticks": "outside",
            "zeroline": false,
            "zerolinecolor": "rgb(36,36,36)"
           }
          },
          "shapedefaults": {
           "fillcolor": "black",
           "line": {
            "width": 0
           },
           "opacity": 0.3
          },
          "ternary": {
           "aaxis": {
            "gridcolor": "rgb(232,232,232)",
            "linecolor": "rgb(36,36,36)",
            "showgrid": false,
            "showline": true,
            "ticks": "outside"
           },
           "baxis": {
            "gridcolor": "rgb(232,232,232)",
            "linecolor": "rgb(36,36,36)",
            "showgrid": false,
            "showline": true,
            "ticks": "outside"
           },
           "bgcolor": "white",
           "caxis": {
            "gridcolor": "rgb(232,232,232)",
            "linecolor": "rgb(36,36,36)",
            "showgrid": false,
            "showline": true,
            "ticks": "outside"
           }
          },
          "title": {
           "x": 0.05
          },
          "xaxis": {
           "automargin": true,
           "gridcolor": "rgb(232,232,232)",
           "linecolor": "rgb(36,36,36)",
           "showgrid": false,
           "showline": true,
           "ticks": "outside",
           "title": {
            "standoff": 15
           },
           "zeroline": false,
           "zerolinecolor": "rgb(36,36,36)"
          },
          "yaxis": {
           "automargin": true,
           "gridcolor": "rgb(232,232,232)",
           "linecolor": "rgb(36,36,36)",
           "showgrid": false,
           "showline": true,
           "ticks": "outside",
           "title": {
            "standoff": 15
           },
           "zeroline": false,
           "zerolinecolor": "rgb(36,36,36)"
          }
         }
        },
        "title": {
         "text": "<b>Age distribution<b>",
         "font": {
          "size": 20
         }
        },
        "font": {
         "family": "San Serif"
        },
        "width": 700,
        "height": 500,
        "showlegend": true,
        "shapes": [
         {
          "fillcolor": "lightgray",
          "layer": "below",
          "line": {
           "width": 0
          },
          "opacity": 0.5,
          "type": "rect",
          "x0": 9,
          "x1": 35,
          "xref": "x",
          "y0": 0,
          "y1": 1,
          "yref": "y domain"
         }
        ],
        "annotations": [
         {
          "showarrow": false,
          "text": "Young patients",
          "x": 22.0,
          "xanchor": "center",
          "xref": "x",
          "y": 1,
          "yanchor": "top",
          "yref": "y domain"
         }
        ]
       },
       "config": {
        "plotlyServerURL": "https://plot.ly"
       }
      },
      "text/html": [
       "<div>                            <div id=\"ee307abf-0732-4521-97f3-0f65d133a47b\" class=\"plotly-graph-div\" style=\"height:500px; width:700px;\"></div>            <script type=\"text/javascript\">                require([\"plotly\"], function(Plotly) {                    window.PLOTLYENV=window.PLOTLYENV || {};                                    if (document.getElementById(\"ee307abf-0732-4521-97f3-0f65d133a47b\")) {                    Plotly.newPlot(                        \"ee307abf-0732-4521-97f3-0f65d133a47b\",                        [{\"autobinx\":false,\"histnorm\":\"probability density\",\"legendgroup\":\"ASD_pos\",\"marker\":{\"color\":\"purple\"},\"name\":\"ASD_pos\",\"opacity\":0.7,\"x\":[14.67989264,20.30594341,17.96459873,29.11206645,36.08435983,38.5945887,37.91975494,44.85675975,23.01064721,55.07023813,39.43876274,37.11566426,31.26745092,24.04423243,15.92003387,14.39803871,21.10272977,29.6603158,27.58499933,28.24751537,46.14982009,19.53928574,62.01077975,42.21516864,14.92302777,53.25270496,15.47212097,32.86252139,55.87718249,18.74165104,18.24228234,71.08419062,21.23165613,47.98800877,22.57895951,20.85087407,17.49596329,37.38204891,12.3573003,55.32273412,27.97710674,53.31213707,38.62482504,18.53436695,48.50984312,58.23716737,42.17293948,31.11362034,49.34355056,25.17584032,48.53059445,19.76478629,64.7846482,17.58923301,24.3593635,29.4190243,23.03114875,30.86833336,13.56535916,12.86969457,42.89939647,68.00507033,31.6665334,39.62488238,21.26872388,53.679868000000006,13.82400342,32.1208691,49.18932273,62.55643314,53.27325592,59.93790237,55.31824746,42.33192443,54.73967471,35.04822411,29.62630088,33.71533635,27.88425018,21.48013904,25.99219163,15.36731189,46.36992639,18.878002,25.11012862,22.91816929,19.33816764,27.52895152,62.61132166,23.80967704,18.129310800000003,35.79293299,44.77318337,26.1659676,21.32558768,41.84811585,26.92375026,48.11471037,28.70467543,28.30261772,35.5579975,31.67681913,22.65097981,14.86917251,22.3696796,18.58263362,16.86475024,49.43439359,33.96043139,24.04626135,16.49474382,37.84456589,27.67536663,23.75933805,32.73950568,19.2906371,28.49001339,31.07938808,25.55980006,25.62275359,64.49177551,14.23128228,55.88994948,15.95119764,24.75130724,13.89784984,10.95228869,42.15462533,21.76023807,50.28178664,27.18013388,29.31198078,54.80676402,41.75294745,54.55295512,69.0322209,30.86535776,24.99099448,42.09629473,18.7139055,34.09807492,15.7291792,19.39516203,30.89414025,37.22073251,12.64242609,23.82198722,20.53986415,22.15781669,18.05636448,21.75953085,28.04131476,52.33927013,24.45063324,32.58726065,35.67135635,17.0144967,37.27590789,19.74274144,54.78051233,20.49104374,24.00236983,24.91819746,11.06017591,62.02633694,23.2418793,11.35116102,17.91973945,13.1545696,24.2634694,46.57007587,17.90321284,34.88603695,21.0231266,14.45454475,62.92074643,28.10136823,30.70537622,51.06141566,27.79945741,53.3231657,18.00918051,38.52697981,42.08490685,18.24255728],\"xaxis\":\"x\",\"xbins\":{\"end\":71.08419062,\"size\":1.0,\"start\":10.95228869},\"yaxis\":\"y\",\"type\":\"histogram\"},{\"autobinx\":false,\"histnorm\":\"probability density\",\"legendgroup\":\"ASD_neg\",\"marker\":{\"color\":\"salmon\"},\"name\":\"ASD_neg\",\"opacity\":0.7,\"x\":[18.60539681,13.82936938,61.03528807,14.25668605,15.57819071,21.36698098,28.93006774,15.40690273,22.87041047,45.7861637,28.71312905,52.20892387,13.97301145,15.55955208,13.99395149,24.34811834,37.54394119,15.77964696,31.79042116,54.51081856,24.2640054,13.71660497,34.48599757,24.62929977,45.98472454,23.876840100000003,54.53720884,13.53526348,25.55286793,44.8700017,14.24974298,16.09705879,65.6951177,17.929757100000003,38.0985636,37.37522679,27.47619568,17.63356169,22.14783581,41.71234687,48.56647483,51.80196369,30.64667127,33.05861987,20.53650583,27.24063427,26.30248764,32.42403082,52.02688326,44.09821754,17.51408417,15.59883742,19.53559466,17.42176325,17.38545741,9.560504591,25.95016033,35.83746454,11.54993958,38.67351458,42.2214725,30.57399179,12.94714991,30.07064518,21.60769114,18.65259136,20.22910815,14.69486744,70.80160415,19.46573847,29.98828071,21.55665806,28.76435032,14.4545617,24.27300103,24.55505931,17.39781861,24.4713742,32.23937347,69.09837764,45.37472227,47.84566809,28.56308891,13.09682249,19.80506544,27.61175669,16.714680800000004,26.41488838,29.33349476,21.32706907,67.55850162,18.50446693,31.43579833,20.08757477,69.05226045,23.05540341,14.59720978,47.87638561,22.62568164,25.55856781,32.4945138,26.30495213,28.16768892,45.17808556,26.72393465,25.77650282,18.00560631,22.12052239,24.65502345,19.5181971,29.74431679,39.70332795,29.31918969,35.72545637,27.81662774,23.45687224,24.97098115,17.03338276,18.56656926,20.99807204,33.15345606,16.91617977,17.56342082,17.86860128,30.68204661,30.5726803,30.65806538,24.78260151,20.3267982,19.0425534,35.05333688,31.18446071,22.27304531,64.07729888,16.99434028,22.38919405,30.63901324,20.29018852,24.87843843,12.24753182,24.17754462,59.97435003,16.53744586,22.47238061,54.1267139,26.72591344,27.42240544,16.49152984,17.84015282,13.00076319,21.33664412,24.5500137,17.84051133,14.67194994,26.13266488,27.77326719,28.39174517,38.19603988,19.48255661,23.10647714,37.32451578,28.0402643,16.45927794,21.20709159,14.25136597,20.39654655,59.64456984,26.27653497,24.50929034,50.13199013,26.44489182,29.12153036,18.25537813,30.488441,44.38044644,28.97897254,52.9680159,12.03765423,29.37295411,23.99403586,23.04771671,39.31612047,19.52180736,10.0682642,42.56842778,28.40672129,44.95667763,12.49217538,72.40248841,29.98825247,23.30157997,44.21478178,17.97550298,41.54513901,26.26550774,27.79462444,29.54503981,23.22476695,38.69865911,33.15865325,18.54376162,14.08733098,18.76366889,30.34815679,30.05008465,12.84895746,21.43814876,25.49186707,27.0273135,20.26061777,49.78834545,40.57666928,15.25926213,22.3768334,18.59984127,35.45904379,70.45727239,19.41178926,29.29194323,25.1984157,27.79857497,35.23840537,10.5634741,21.01101122,42.48618909,42.75701238,19.46567705,17.73800278,26.73184805,18.18918108,21.16633943,24.88092657,17.38496811,20.84357913,13.05526927,52.29804788,14.20305959,33.1608928,31.91563805,60.77273685,23.20204756,23.68015292,30.09420007,18.25856763,19.44791381,30.93069813,31.30726252,36.56146232,31.22291175,23.2182734,26.54786312,24.95433283,42.68425606,15.37977429,31.93818694,23.82980847,12.82718298,24.21829393,36.38011773,18.06833783,20.02135637,27.62361603,17.02472387,27.02340181,21.46375329,31.289655100000004,12.83857004,15.8295188,25.05091735,15.29881605,23.35035887,16.77398843,41.49551501,24.84610005,28.82518176,23.42443608,39.98092074,29.68072364,16.33592748,14.24864659,39.29122616,40.5312181,32.24661514,43.20086314,26.8411853,20.50981094,17.19178706,19.2414331,31.90788624,12.52876169,16.16648629,28.44874139,29.6550994,27.02093489,21.37635914,45.50121366,29.22416068,18.40592409,24.123863,24.53218093,14.71882514,20.71728983,28.80726462,17.17781586,27.49343743,26.86271615,13.7767075,22.08052022,24.45652938,17.45912374,24.12367143,25.4680538,35.35945091,27.18027983,18.08361893,31.19787597,27.99924973,20.37347736,21.9272415,23.64302675,18.85460181,37.50376579,19.14520463,23.004043600000003,29.32415568,16.00881089,27.21368809,26.30897678,20.35515932,17.6883325,71.3560697,15.70727497,63.75155625,47.73008947,45.61232401,36.71172301,22.61521304,37.51947298,23.1327722,42.06175986,26.22617053,19.72333156,26.0779911,18.50849917,20.09622766,24.12553692,27.17141621,14.64496199,20.39207733,41.36860529,38.40680094,31.70883972,29.36037187,33.94300046,14.27922507,27.60839705,12.14264103,32.20423469,18.84329479,25.81976021,14.40240138,24.22036485,21.56342103,47.96276884,12.65425437,18.92173852,32.61509975,39.38579107,16.50360662,15.95961571,40.0526163,27.22430953,24.59416695,23.988549,33.25859799,31.74017364,27.26622279,17.10192393,17.61761346,12.76969932,28.64516606,20.63988618,26.33027826,28.96044414,16.51915492,38.92086202,12.88899428,26.55083095,16.80623143,14.91975497,43.52066788,18.55221155,19.25641523,33.01259387,24.15741484,67.41174403,21.55418788,24.44399463,13.87320354,25.30884824,20.462625,11.79157315,21.72161031,21.18039464,28.39483372,14.80201297,24.32227986,39.95680615,24.95784588,69.18521211,12.68882004,28.75761551,17.20033928,33.49453904,29.24703151,29.1090159,14.78618617,29.8900979,25.15268641,19.83386928,39.88924895,18.45070775,25.18548225,15.49881136,28.63366323,25.25364327,23.73521,39.82562563,27.63221244,27.88412337,29.19566621,59.62775131,26.13549399,30.76696105,33.22188797,28.30806267,16.91663828,20.35027844,45.23752251,25.94274099,27.96351288,46.24912105,11.79083405,25.93838143,23.6973814,16.10917192,25.9729348,57.85843038,24.8442215,23.51316509,22.4782168,28.39885554,19.33142065,44.13291635,27.70375139,21.17428599,27.20462751,23.78138492,31.45372689,17.29337751,21.35559283,56.94291339,14.3808953,13.89971779,15.49096467,19.73541874,37.48423402,24.6096008,23.96639949,42.35750256,25.85706958,26.54569019,18.5060405,52.05262676,12.23744796,38.86414425,30.52737617,28.98353924,18.6681171,30.22623836,18.12602,24.52767093,24.92729016,23.35073121,21.98276372,37.65198552,13.44764893,53.78743071,33.94529149,28.65883617,22.64481055,25.19521667,31.38962252,22.77013398,16.1038529,31.45293115,17.42385035,27.55458916,35.31536559,22.24054605,27.00058499,29.09439056,25.85604329,38.053128,25.15887799,25.05584845,19.92111561,22.71783533,47.50947766,36.62670705,21.75388979,30.0080822,29.44305461,16.50210964,48.45204622,71.68068207,62.61455773,66.53320759,20.98300489,22.81436453,28.38670182,12.95082394,27.68259645,28.61497378,13.14904621,16.84333863,29.43706753,24.52725575,25.60377858,46.74226968,18.84460222,31.33228909,29.12475515,17.85655211,22.1894618,23.99379689,28.54050329,24.58667973,28.1411368,18.3372629,28.53744157,17.34310145,19.0113239,12.03510973,23.68543099,41.19614552,23.95534317,21.18868502,25.11728489,39.92918019,13.06948226,34.29082460000001,22.28181212,22.61154807,45.03945117,63.23366513,18.90427553,35.45799034,13.38282021,29.82519294,28.33023531,12.94801424,22.88957212,21.75123467,20.90950447,18.99191402,50.53524958,18.4379935,28.46828198,20.4634476,17.2001964,18.4241769,27.57733856,28.42463843,44.10109235,28.95224942,26.86995049,19.74198448,23.43507261,30.67846275,23.89542479,18.34957017,29.277243,16.28524309,21.6019814,19.97847816,29.27161357,43.62625747,20.98186716,15.09052497,19.4801396,25.71545925,53.89137595,19.13036361,27.32150965,55.27876787,44.87586807,54.09464439,22.42243059,32.16281477,17.89826171,16.69477428,14.83218125,15.12771801,31.09996355,58.41167865,59.60787077,36.82751862,17.82050033,21.62956024,16.30397208,24.36141607,17.66929077,19.24147315,32.17009804],\"xaxis\":\"x\",\"xbins\":{\"end\":72.40248841,\"size\":1.0,\"start\":9.560504591},\"yaxis\":\"y\",\"type\":\"histogram\"},{\"legendgroup\":\"ASD_pos\",\"marker\":{\"color\":\"purple\"},\"mode\":\"lines\",\"name\":\"ASD_pos\",\"showlegend\":false,\"x\":[10.95228869,11.07255249386,11.19281629772,11.313080101579999,11.43334390544,11.5536077093,11.67387151316,11.79413531702,11.914399120879999,12.03466292474,12.1549267286,12.27519053246,12.39545433632,12.515718140179999,12.63598194404,12.7562457479,12.87650955176,12.99677335562,13.117037159479999,13.23730096334,13.3575647672,13.47782857106,13.59809237492,13.718356178779999,13.83861998264,13.9588837865,14.07914759036,14.19941139422,14.319675198079999,14.43993900194,14.5602028058,14.68046660966,14.80073041352,14.920994217379999,15.04125802124,15.1615218251,15.28178562896,15.40204943282,15.522313236679999,15.642577040539999,15.7628408444,15.88310464826,16.00336845212,16.12363225598,16.243896059839997,16.3641598637,16.48442366756,16.60468747142,16.72495127528,16.845215079139997,16.965478883,17.08574268686,17.20600649072,17.32627029458,17.446534098439997,17.5667979023,17.687061706159998,17.80732551002,17.92758931388,18.047853117739997,18.1681169216,18.288380725459998,18.40864452932,18.52890833318,18.649172137039997,18.7694359409,18.889699744759998,19.00996354862,19.13022735248,19.250491156339997,19.3707549602,19.49101876406,19.61128256792,19.73154637178,19.851810175639997,19.9720739795,20.09233778336,20.21260158722,20.33286539108,20.453129194939997,20.573392998800003,20.69365680266,20.81392060652,20.93418441038,21.054448214239997,21.1747120181,21.29497582196,21.41523962582,21.53550342968,21.655767233539997,21.7760310374,21.89629484126,22.01655864512,22.13682244898,22.257086252839997,22.3773500567,22.49761386056,22.61787766442,22.73814146828,22.858405272139997,22.978669076,23.098932879859998,23.21919668372,23.33946048758,23.459724291439997,23.5799880953,23.70025189916,23.82051570302,23.94077950688,24.061043310739997,24.1813071146,24.301570918459998,24.42183472232,24.54209852618,24.66236233004,24.7826261339,24.90288993776,25.02315374162,25.14341754548,25.263681349339997,25.3839451532,25.504208957059998,25.62447276092,25.74473656478,25.86500036864,25.9852641725,26.10552797636,26.22579178022,26.34605558408,26.466319387939997,26.5865831918,26.70684699566,26.82711079952,26.94737460338,27.06763840724,27.1879022111,27.30816601496,27.42842981882,27.54869362268,27.66895742654,27.7892212304,27.909485034259998,28.02974883812,28.15001264198,28.27027644584,28.3905402497,28.51080405356,28.631067857419996,28.75133166128,28.871595465139997,28.991859269,29.11212307286,29.23238687672,29.352650680580002,29.472914484439997,29.5931782883,29.713442092159998,29.83370589602,29.95396969988,30.07423350374,30.194497307600003,30.314761111459998,30.43502491532,30.55528871918,30.67555252304,30.7958163269,30.91608013076,31.036343934619996,31.156607738479998,31.276871542339997,31.3971353462,31.51739915006,31.63766295392,31.75792675778,31.878190561639997,31.9984543655,32.118718169359994,32.23898197322,32.35924577708,32.479509580940004,32.5997733848,32.72003718866,32.84030099252,32.96056479638,33.08082860024,33.201092404099995,33.32135620796,33.44162001182,33.56188381568,33.68214761954,33.8024114234,33.92267522726,34.04293903112,34.16320283498,34.28346663884,34.403730442699995,34.523994246559994,34.64425805042,34.76452185428,34.884785658140004,35.005049462,35.12531326586,35.24557706972,35.36584087358,35.48610467744,35.606368481299995,35.72663228516,35.84689608902,35.96715989288,36.08742369674,36.2076875006,36.32795130446,36.44821510832,36.56847891218,36.68874271604,36.809006519899995,36.929270323759994,37.04953412762,37.16979793148,37.290061735340004,37.4103255392,37.53058934306,37.65085314692,37.77111695078,37.89138075464,38.011644558499995,38.13190836236,38.25217216622,38.372435970080005,38.49269977394,38.6129635778,38.73322738166,38.85349118552,38.97375498938,39.09401879324,39.214282597099995,39.334546400959994,39.45481020482,39.57507400868,39.695337812540004,39.8156016164,39.93586542026,40.05612922412,40.17639302798,40.29665683184,40.416920635699995,40.53718443956,40.65744824342,40.777712047280005,40.89797585114,41.018239655,41.13850345886,41.25876726272,41.37903106658,41.499294870439996,41.619558674299995,41.739822478159994,41.86008628202,41.98035008588,42.10061388974,42.2208776936,42.34114149746,42.46140530132,42.58166910518,42.701932909039996,42.822196712899995,42.94246051675999,43.06272432061999,43.182988124480005,43.30325192834,43.4235157322,43.54377953606,43.66404333992,43.78430714378,43.904570947639996,44.024834751499995,44.14509855535999,44.265362359220006,44.385626163080005,44.50588996694,44.6261537708,44.74641757466,44.86668137852,44.98694518238,45.107208986239996,45.227472790099995,45.34773659395999,45.46800039781999,45.588264201680005,45.70852800554,45.8287918094,45.94905561326,46.06931941712,46.18958322098,46.309847024839996,46.430110828699995,46.55037463255999,46.67063843641999,46.79090224027999,46.91116604414,47.031429848,47.15169365186,47.27195745572,47.39222125958,47.512485063439996,47.632748867299995,47.75301267116001,47.87327647501999,47.99354027887999,48.11380408273999,48.2340678866,48.35433169046,48.47459549432,48.59485929818,48.715123102039996,48.835386905899995,48.95565070975999,49.075914513620006,49.196178317480005,49.31644212134,49.4367059252,49.55696972906,49.67723353292,49.79749733678,49.917761140639996,50.038024944499995,50.15828874835999,50.27855255221999,50.398816356080005,50.51908015994,50.6393439638,50.75960776766,50.87987157152,51.00013537538,51.120399179239996,51.240662983099995,51.36092678695999,51.48119059081999,51.60145439467999,51.72171819854,51.8419820024,51.96224580626,52.08250961012,52.20277341398,52.323037217839996,52.443301021699995,52.56356482556001,52.683828629420006,52.80409243327999,52.92435623713999,53.044620041,53.16488384486,53.28514764872,53.40541145258,53.525675256439996,53.645939060299995,53.76620286415999,53.886466668020006,54.006730471880005,54.12699427574,54.2472580796,54.36752188346,54.48778568732,54.60804949118,54.728313295039996,54.848577098899995,54.96884090275999,55.08910470661999,55.209368510480004,55.32963231434,55.4498961182,55.57015992206,55.69042372592,55.81068752978,55.930951333639996,56.051215137499995,56.17147894135999,56.29174274521999,56.41200654907999,56.53227035294,56.6525341568,56.77279796066,56.89306176452,57.01332556838,57.133589372239996,57.253853176099994,57.37411697996001,57.494380783820006,57.614644587680004,57.73490839153999,57.8551721954,57.97543599926,58.09569980312,58.21596360698,58.336227410839996,58.456491214699994,58.57675501855999,58.697018822420006,58.817282626280004,58.93754643014,59.057810234,59.17807403786,59.29833784172,59.41860164558,59.538865449439996,59.659129253299994,59.77939305715999,59.89965686101999,60.019920664880004,60.14018446874,60.2604482726,60.38071207646,60.50097588032,60.62123968418,60.741503488039996,60.861767291899994,60.98203109575999,61.10229489961999,61.22255870347999,61.34282250734,61.4630863112,61.58335011506,61.70361391892,61.82387772278,61.944141526639996,62.064405330499994,62.18466913435999,62.304932938220006,62.425196742080004,62.54546054593999,62.6657243498,62.78598815366,62.90625195752,63.02651576138,63.146779565239996,63.267043369099994,63.38730717295999,63.50757097681999,63.627834780680004,63.74809858454,63.8683623884,63.98862619226,64.10888999612,64.22915379998,64.34941760384,64.4696814077,64.58994521155999,64.71020901541999,64.83047281927999,64.95073662314,65.071000427,65.19126423086,65.31152803472,65.43179183858,65.55205564244,65.6723194463,65.79258325016,65.91284705401999,66.03311085787999,66.15337466174,66.2736384656,66.39390226946,66.51416607332,66.63442987718,66.75469368104,66.8749574849,66.99522128875999,67.11548509262,67.23574889648,67.35601270034,67.4762765042,67.59654030806,67.71680411192,67.83706791578,67.95733171964,68.0775955235,68.19785932735999,68.31812313121999,68.43838693508,68.55865073894,68.6789145428,68.79917834666,68.91944215052,69.03970595438,69.15996975824,69.2802335621,69.40049736595999,69.52076116981999,69.64102497367999,69.76128877754,69.8815525814,70.00181638526,70.12208018912,70.24234399298,70.36260779684,70.4828716007,70.60313540456,70.72339920842,70.84366301227999,70.96392681613999],\"xaxis\":\"x\",\"y\":[0.012124002964565068,0.01239432493644772,0.012666544121350817,0.012940547188034158,0.013216218226904079,0.01349343887004581,0.013772088415475024,0.014052043955375336,0.014333180508080405,0.014615371153551663,0.014898487172095897,0.015182398186061012,0.015466972304242448,0.01575207626872859,0.016037575603909112,0.01632333476736718,0.01660921730237369,0.016895085991700455,0.017180803012466942,0.017466230091736226,0.017751228662574683,0.018035660020291687,0.0183193854785767,0.018602266525253406,0.01888416497737309,0.019164943135373244,0.019444463936030745,0.01972259110394372,0.019999189301281133,0.020274124275544463,0.020547263005092086,0.02081847384218293,0.02108762665330328,0.02135459295654777,0.02161924605583269,0.0218814611717289,0.022141115568708708,0.02239808867861087,0.02265226222013605,0.022903520314194906,0.023151749594940388,0.023396839316325274,0.02363868145403659,0.023877170802668463,0.024112205068005058,0.024343684954296653,0.024571514246421827,0.024795599886840033,0.025015852047249838,0.025232184194878847,0.02544451315334311,0.02565275915802424,0.025856845905924554,0.02605670059997121,0.02625225398775223,0.026443440394677994,0.02663019775157361,0.026812467616718363,0.026990195192360407,0.02716332933574474,0.027331822564704684,0.02749563105787752,0.027654714649615497,0.027809036819674098,0.027958564677770536,0.02810326894311427,0.028243123919022662,0.028378107462743867,0.028508200950618588,0.028633389238721666,0.028753660619132943,0.028869006771995658,0.028979422713528706,0.029084906740166026,0.029185460369005156,0.029281088274751847,0.02937179822335591,0.029457601002537876,0.02953851034941194,0.029614542875415806,0.029685717988761073,0.029752057814623038,0.0298135871132904,0.02987033319649881,0.029922325842173084,0.029969597207804795,0.030012181742691966,0.030050116099267617,0.030083439043742707,0.03011219136628794,0.030136415790976163,0.030156156885704343,0.030171460972310424,0.030182376037096306,0.03018895164196258,0.03019123883635567,0.030189290070220993,0.030183159108149924,0.03017290094489915,0.030158571722454404,0.030140228648800917,0.030117929918554043,0.03009173463559335,0.03006170273783387,0.030027894924256674,0.029990372584310622,0.02994919772978543,0.029904432929243836,0.029856141245090013,0.02980438617333766,0.029749231586129677,0.029690741677048865,0.02962898090924598,0.0295640139663994,0.029495905706508032,0.02942472111850642,0.029350525281679328,0.02927338332784065,0.029193360406229597,0.029110521651066316,0.029024932151697866,0.02893665692525416,0.028845760891724893,0.02875230885135744,0.028656365464267825,0.02855799523214783,0.02845726248194451,0.028354231351380543,0.028248965776178164,0.02814152947884447,0.02803198595887016,0.027920398484191596,0.027806830083761683,0.027691343541074272,0.02757400138848488,0.027454865902170937,0.027333999097574876,0.027211462725175453,0.027087318266434793,0.026961626929771998,0.026834449646418887,0.026705847066017228,0.0265758795518242,0.026444607175398052,0.026312089710643742,0.026178386627106726,0.026043557082410847,0.02590765991374648,0.02577075362832367,0.025632896392716955,0.02549414602103719,0.025354559961878617,0.025214195283999773,0.0250731086607086,0.02493135635293399,0.024788994190978016,0.024646077554954692,0.024502661353933346,0.02435880000381587,0.024214547403989664,0.02406995691280844,0.023925081321964498,0.02377997282982735,0.023634683013832168,0.023489262802013428,0.02334376244378632,0.023198231480088233,0.023052718713000058,0.02290727217497439,0.02276193909780382,0.02261676588146876,0.02247179806300832,0.022327080285562285,0.022182656267735027,0.022038568773434353,0.021894859582339905,0.021751569461155546,0.02160873813580011,0.021466404264689237,0.021324605413258382,0.021183378029874383,0.02104275742327829,0.020902777741697416,0.020763471953758734,0.02062487183132923,0.020487007934401096,0.020349909598132244,0.020213604922143174,0.020078120762162283,0.019943482724102103,0.01980971516063768,0.019676841170348326,0.01954488259947239,0.019413860046312858,0.019283792868320476,0.01915469919186828,0.01902659592471959,0.01889949877117975,0.018773422249908776,0.018648379714360414,0.01852438337580159,0.018401444328852608,0.018279572579479566,0.01815877707535616,0.018039065738503533,0.01792044550010469,0.017802922337381007,0.01768650131240785,0.017571186612738078,0.017456981593693445,0.017343888822176023,0.01723191012184514,0.017121046619498117,0.017011298792488333,0.016902666517008485,0.01679514911706285,0.01668874541394942,0.016583453776069373,0.0164792721688802,0.01637619820480716,0.016274229192928022,0.016173362188246204,0.016073594040368518,0.015974921441406498,0.015877340972922045,0.01578084915174249,0.01568544247447382,0.015591117460545891,0.015497870693628867,0.01540569886126616,0.01531459879257592,0.015224567493880454,0.015135602182130106,0.015047700315997184,0.014960859624523318,0.01487507813321316,0.014790354187476403,0.014706686473329893,0.014624074035281435,0.014542516291327122,0.014462013045004314,0.014382564494452722,0.014304171238446885,0.014226834279373792,0.014150555023140056,0.014075335276003688,0.014001177238336365,0.013928083495332115,0.013856057004689245,0.013785101081302228,0.013715219379010614,0.013646415869461597,0.013578694818152812,0.013512060757731035,0.013446518458631738,0.01338207289715316,0.013318729221067008,0.013256492712875994,0.01319536875083635,0.013135362767870522,0.013076480208502564,0.01301872648395528,0.01296210692555409,0.01290662673658889,0.012852290942789954,0.012799104341579385,0.012747071450263728,0.012696196453337548,0.012646483149071587,0.012597934895561907,0.01255055455641956,0.012504344446282243,0.012459306276331622,0.012415441100001152,0.012372749259060182,0.01233123033026093,0.01229088307273466,0.01225170537632324,0.01221369421103136,0.012176845577783745,0.012141154460669532,0.012106614780854261,0.012073219352337475,0.01204095983973055,0.012009826718226356,0.011979809235928443,0.01195089537870284,0.01192307183771159,0.011896323979781154,0.011870635820753844,0.011845990001964304,0.01182236776997642,0.011799748959709385,0.011778111981074325,0.011757433809234953,0.011737689978597686,0.011718854580628192,0.011700900265581779,0.011683798248226374,0.011667518317625988,0.011652028851043297,0.011637296832008329,0.011623287872589936,0.011609966239894616,0.01159729488680611,0.01158523548696626,0.011573748473985854,0.011562793084860886,0.011552327407556729,0.011542308432709585,0.0115326921093807,0.011523433404785446,0.011514486367905192,0.011505804196876253,0.01149733931003591,0.011489043420491429,0.011480867614064394,0.011472762430448062,0.011464677947402583,0.011456563867798234,0.01144836960930462,0.011440044396509952,0.011431537355242315,0.011422797608852626,0.011413774376207313,0.011404417071127465,0.011394675403001353,0.011384499478286882,0.011373839902612056,0.01136264788317349,0.011350875331125568,0.011338474963646952,0.011325400405366098,0.011311606288823117,0.011297048353642853,0.011281683544091968,0.011265470104692815,0.011248367673567544,0.011230337373188059,0.011211341898211168,0.011191345600082989,0.011170314568103246,0.01114821670664754,0.011125021808255045,0.011100701622299492,0.011075229918973096,0.01104858254832672,0.011020737494123644,0.010991674922280762,0.010961377223687698,0.010929829051212918,0.010897017350725501,0.010862931385981225,0.010827562757243905,0.010790905413534606,0.010752955658424936,0.010713712149314618,0.010673175890157493,0.010631350217625858,0.010588240780727759,0.010543855513917687,0.01049820460376709,0.010451300449286249,0.01040315761601534,0.010353792784027123,0.0103032246900093,0.010251474063618359,0.010198563558320857,0.010144517676960901,0.010089362692314483,0.01003312656291242,0.009975838844433727,0.009917530596989096,0.009858234288632228,0.00979798369545177,0.009736813798611016,0.00967476067871526,0.009611861407896775,0.009548153940017297,0.009483676999394154,0.00941846996846185,0.009352572774784362,0.0092860257778343,0.009218869655954892,0.009151145293918053,0.00908289367148721,0.009014155753387283,0.008944972381075769,0.008875384166698641,0.008805431389603087,0.008735153895765027,0.008664591000474446,0.00859378139460411,0.008522763054769518,0.008451573157667642,0.008380247998861494,0.00830882291625496,0.008237332218479788,0.008165809118392181,0.008094285671851834,0.008022792721931264,0.007951359848676924,0.00788001532451813,0.007808786075393076,0.007737697647635281,0.007666774180637576,0.007596038385284715,0.007525511528120493,0.007455213421190172,0.007385162417474706,0.007315375411809814,0.007245867847160737,0.007176653726101346,0.0071077456273264785,0.007039154727006935,0.006970890824778793,0.0069029623741421724,0.006835376517029738,0.006768139122291591,0.0067012548278314685,0.0066347270861187605,0.006568558212792066,0.006502749438063419,0.006437300960626497,0.006372212003768569,0.006307480873384007,0.006243105017586613,0.006179081087618999,0.0061154049997601675,0.006052071997936389,0.005989076716746029,0.005926413244616102,0.005864075186816098,0.005802055728064494,0.005740347694473497,0.005678943614589276,0.005617835779297248,0.005557016300375433,0.005496477167492607,0.005436210303462936,0.005376207617583448,0.005316461056896709,0.005256962655236489,0.005197704579930466,0.005138679176049991,0.005079879008113181,0.005021296899163495,0.004962925967161805,0.0049047596586455,0.004846791779623387,0.00478901652368976,0.0047314284973551364,0.004674022742605053,0.004616794756711021,0.004559740509329873,0.004502856456939666,0.004446139554670513,0.004389587265598955,0.004333197567583242,0.004276968957725265,0.004220900454551975,0.004164991598015424,0.004109242447416305,0.004053653577360154,0.003998226071859175,0.00394296151669553,0.0038878619901638626,0.0038329300523120132,0.003778168732799449,0.0037235815174922605,0.0036691723339129846,0.0036149455356615117,0.0035609058859212067,0.0035070585401614143,0.003453409028144366,0.003399963235340451,0.003346727383851819,0.0032937080129396214,0.0032409119592453407,0.003188346336791703,0.003136018516843176,0.0030839361077009022,0.0030321069345012265,0.0029805390190815405,0.002929240559971602,0.0028782199125631093,0.002827485569504776,0.002777046141365082,0.002726910337599659,0.002677086947855441,0.0026275848236390962,0.002578412860372705,0.0025295799798556807,0.002481095113147966,0.0024329671838859554,0.002385205092039497,0.0023378176981151974,0.002290813807808882,0.002244202157107507,0.002197991397839138],\"yaxis\":\"y\",\"type\":\"scatter\"},{\"legendgroup\":\"ASD_neg\",\"marker\":{\"color\":\"salmon\"},\"mode\":\"lines\",\"name\":\"ASD_neg\",\"showlegend\":false,\"x\":[9.560504591,9.686188558638001,9.811872526276002,9.937556493914,10.063240461552,10.188924429190001,10.314608396828001,10.440292364466002,10.565976332104,10.691660299742,10.817344267380001,10.943028235018001,11.068712202656002,11.194396170294,11.320080137932,11.445764105570001,11.571448073208002,11.697132040846,11.822816008484,11.948499976122001,12.074183943760001,12.199867911398002,12.325551879036002,12.451235846674,12.576919814312001,12.702603781950002,12.828287749588,12.953971717226,13.079655684864,13.205339652502001,13.331023620140002,13.456707587778002,13.582391555416002,13.708075523054003,13.833759490692001,13.95944345833,14.085127425968,14.210811393606,14.336495361244001,14.462179328882002,14.587863296520002,14.713547264158002,14.839231231796003,14.964915199434001,15.090599167072002,15.216283134710002,15.341967102348,15.467651069986001,15.593335037624001,15.719019005262002,15.844702972900002,15.970386940538,16.096070908176003,16.221754875814,16.347438843452004,16.47312281109,16.598806778728,16.724490746366,16.850174714004,16.975858681642002,17.101542649280002,17.227226616918003,17.352910584556,17.478594552194,17.604278519832,17.729962487470004,17.855646455108,17.981330422746,18.107014390384002,18.232698358022002,18.358382325660003,18.484066293298,18.609750260936003,18.735434228574,18.861118196212004,18.98680216385,19.112486131488,19.238170099126002,19.363854066764,19.489538034402003,19.61522200204,19.740905969678003,19.866589937316,19.992273904954,20.117957872592,20.243641840230005,20.369325807868,20.495009775506002,20.620693743144002,20.746377710782003,20.872061678420003,20.997745646058,21.123429613696004,21.249113581334,21.374797548972,21.50048151661,21.626165484248002,21.751849451886002,21.877533419524003,22.003217387162003,22.1289013548,22.254585322438004,22.380269290076,22.505953257714,22.631637225352,22.757321192990002,22.883005160628002,23.008689128266,23.134373095904003,23.260057063542003,23.385741031180004,23.511424998818,23.637108966456005,23.762792934094,23.888476901732005,24.014160869370002,24.139844837008003,24.265528804646003,24.391212772284,24.516896739922004,24.64258070756,24.768264675198004,24.893948642836,25.019632610474,25.145316578112002,25.271000545750002,25.396684513388003,25.522368481026,25.648052448664004,25.773736416302004,25.899420383940004,26.025104351578005,26.150788319216005,26.276472286854002,26.402156254492002,26.527840222130003,26.653524189768003,26.779208157406003,26.904892125044004,27.030576092682004,27.15626006032,27.281944027958,27.407627995596002,27.533311963234002,27.658995930872003,27.784679898510003,27.910363866148003,28.036047833786004,28.161731801424004,28.287415769062,28.4130997367,28.538783704338,28.664467671976002,28.790151639614002,28.915835607252003,29.041519574890003,29.167203542528,29.292887510166,29.418571477804,29.544255445442,29.66993941308,29.795623380718002,29.921307348356002,30.046991315994003,30.172675283632003,30.29835925127,30.424043218908,30.549727186546004,30.675411154184005,30.801095121822005,30.926779089460005,31.052463057098006,31.178147024736003,31.303830992374003,31.429514960012003,31.555198927650004,31.680882895288004,31.806566862926005,31.932250830564005,32.057934798202005,32.18361876584001,32.309302733478006,32.434986701116,32.560670668754,32.686354636392004,32.81203860403001,32.937722571668004,33.063406539306,33.189090506944,33.314774474582,33.440458442220006,33.566142409858,33.691826377496,33.817510345134004,33.94319431277201,34.068878280410004,34.194562248048,34.320246215686,34.445930183324,34.571614150962006,34.6972981186,34.822982086238,34.948666053876,35.07435002151401,35.200033989152004,35.32571795679,35.451401924428,35.577085892066,35.702769859704006,35.828453827342,35.95413779498,36.079821762618,36.20550573025601,36.331189697894004,36.456873665532,36.582557633170005,36.70824160080801,36.833925568446006,36.959609536084,37.085293503722006,37.21097747136,37.33666143899801,37.462345406636004,37.588029374274,37.713713341912005,37.83939730955001,37.965081277188006,38.090765244826,38.216449212464006,38.342133180102,38.46781714774001,38.593501115378004,38.719185083016,38.844869050654005,38.97055301829201,39.096236985930005,39.221920953568,39.347604921206,39.473288888844,39.59897285648201,39.724656824120004,39.850340791758,39.976024759396005,40.10170872703401,40.227392694672005,40.35307666231,40.478760629948,40.604444597586,40.73012856522401,40.855812532862004,40.9814965005,41.107180468138004,41.232864435776,41.358548403414005,41.484232371052,41.60991633869,41.73560030632801,41.86128427396601,41.986968241604,42.112652209242,42.23833617688001,42.36402014451801,42.489704112156005,42.615388079794,42.74107204743201,42.86675601507001,42.99243998270801,43.118123950346,43.243807917984,43.36949188562201,43.49517585326001,43.620859820898005,43.746543788536,43.872227756174,43.99791172381201,44.12359569145001,44.249279659088,44.374963626726,44.50064759436401,44.62633156200201,44.752015529640005,44.877699497278,45.003383464916,45.12906743255401,45.254751400192006,45.38043536783,45.506119335468,45.63180330310601,45.75748727074401,45.883171238382005,46.00885520602,46.134539173658,46.26022314129601,46.385907108934006,46.511591076572,46.63727504421,46.76295901184801,46.88864297948601,47.014326947124005,47.140010914762,47.2656948824,47.39137885003801,47.517062817676006,47.642746785314,47.768430752952,47.89411472059,48.01979868822801,48.145482655866005,48.271166623504,48.396850591142,48.52253455878001,48.648218526418006,48.773902494056,48.899586461694,49.025270429332,49.15095439697001,49.276638364608004,49.402322332246,49.528006299884,49.65369026752201,49.779374235160006,49.905058202798,50.030742170436,50.156426138073996,50.28211010571201,50.407794073350004,50.533478040988,50.659162008626,50.78484597626401,50.910529943902006,51.03621391154,51.161897879178,51.287581846815996,51.41326581445401,51.538949782092004,51.664633749730015,51.79031771736801,51.91600168500601,52.041685652644006,52.167369620282,52.293053587920014,52.41873755555801,52.54442152319601,52.670105490834004,52.795789458472,52.92147342611001,53.04715739374801,53.172841361386006,53.298525329024,53.42420929666201,53.54989326430001,53.67557723193801,53.801261199576004,53.926945167214,54.05262913485201,54.17831310249001,54.303997070128005,54.429681037766,54.55536500540401,54.68104897304201,54.80673294068001,54.932416908318004,55.058100875956,55.18378484359401,55.30946881123201,55.435152778870005,55.560836746508,55.68652071414601,55.81220468178401,55.93788864942201,56.063572617060004,56.189256584698,56.31494055233601,56.44062451997401,56.566308487612005,56.69199245525,56.817676422888,56.94336039052601,57.06904435816401,57.194728325802004,57.32041229344,57.44609626107801,57.57178022871601,57.697464196354005,57.823148163992,57.94883213163,58.07451609926801,58.20020006690601,58.325884034544,58.451568002182,58.57725196982001,58.70293593745801,58.828619905096005,58.954303872734,59.079987840372,59.20567180801001,59.33135577564801,59.457039743286,59.582723710924,59.70840767856201,59.83409164620001,59.959775613838005,60.085459581476,60.211143549114,60.33682751675201,60.462511484390006,60.588195452028,60.713879419666,60.839563387304,60.96524735494201,61.090931322580005,61.216615290218,61.342299257856,61.46798322549401,61.593667193132006,61.71935116077,61.845035128408,61.970719096046,62.09640306368401,62.222087031322005,62.34777099896,62.473454966598,62.59913893423601,62.724822901874006,62.850506869512,62.97619083715,63.101874804788,63.22755877242601,63.353242740064005,63.478926707702016,63.60461067534001,63.73029464297801,63.855978610616006,63.981662578254,64.10734654589201,64.23303051353001,64.35871448116801,64.484398448806,64.61008241644402,64.73576638408201,64.86145035172001,64.987134319358,65.112818286996,65.23850225463401,65.36418622227201,65.48987018991001,65.615554157548,65.74123812518602,65.86692209282401,65.99260606046201,66.1182900281,66.243973995738,66.36965796337601,66.49534193101401,66.62102589865201,66.74670986629,66.87239383392802,66.99807780156601,67.12376176920401,67.249445736842,67.37512970448,67.50081367211801,67.62649763975601,67.75218160739401,67.877865575032,68.00354954267,68.12923351030801,68.25491747794601,68.380601445584,68.506285413222,68.63196938086001,68.75765334849801,68.88333731613601,69.009021283774,69.134705251412,69.26038921905001,69.38607318668801,69.511757154326,69.637441121964,69.76312508960201,69.88880905724001,70.014493024878,70.140176992516,70.265860960154,70.39154492779201,70.51722889543001,70.642912863068,70.768596830706,70.89428079834401,71.01996476598201,71.14564873362,71.271332701258,71.397016668896,71.52270063653401,71.64838460417201,71.77406857181,71.899752539448,72.025436507086,72.15112047472401,72.276804442362],\"xaxis\":\"x\",\"y\":[0.007636066047434313,0.007998848359341969,0.008371531484553522,0.008753970790113256,0.009145998613438027,0.009547424452403907,0.009958035255531381,0.010377595810375314,0.010805849227440665,0.011242517516192976,0.011687302249026036,0.012139885308396584,0.01259992971174647,0.013067080508316212,0.013540965741514529,0.014021197470156146,0.014507372841614257,0.014999075209763851,0.015495875290512438,0.01599733234773133,0.01650299540250733,0.017012404458831502,0.017525091739119925,0.018040582923318765,0.018558398385770655,0.01907805442450387,0.019599064478140797,0.020120940326193024,0.020643193269108465,0.021165335285046626,0.02168688016096853,0.022207344596226367,0.022726249277410116,0.023243119923744088,0.023757488302811935,0.02426889321681596,0.024776881459934803,0.025281008747625164,0.025780840618914395,0.026275953312841945,0.02676593462023341,0.02725038471192415,0.02772891694439612,0.028201158643553378,0.028666751867043035,0.029125354145141304,0.029576639199769404,0.030020297640702357,0.030456037637488474,0.03088358556502714,0.031302686620168434,0.03171310540611878,0.03211462648087103,0.032507054865349286,0.032890216506471295,0.03326395868991412,0.03362815039701751,0.03398268260000362,0.034327468489527425,0.034662443628521,0.03498756602635105,0.03530281612749195,0.0356081967092157,0.03590373268322322,0.036189470796690285,0.03646547922885566,0.03673184708005628,0.036988683750982,0.037236118210885454,0.03747429815452277,0.037703389048700596,0.03792357307045449,0.03813504794006161,0.038338025653278165,0.03853273111837589,0.03871940070470443,0.038898280710620486,0.03906962575966969,0.03923369713487496,0.03939076106185612,0.03954108695226529,0.039684945619656034,0.03982260748040359,0.039954340752651335,0.04008040966645841,0.04020107269837621,0.0403165808435738,0.04042717593836799,0.040533089045601704,0.04063453891475558,0.0407317305279781,0.040824853742399934,0.04091408203816082,0.04099957138054212,0.04108145920347999,0.04115986352055093,0.041234882168289674,0.04130659218543903,0.04137504933046096,0.04144028773837663,0.041502319716767704,0.041561135679582084,0.04161670421625397,0.041668972292597986,0.041717865578968,0.041763288900304986,0.041805126801945064,0.04184324422441456,0.04187748727992058,0.04190768412285085,0.04193364590632141,0.04195516781666026,0.041972030177678275,0.041983999616653805,0.041990830284133016,0.04199226511991178,0.04198803715791385,0.041977870863089455,0.04196148349392236,0.04193858648463604,0.04190888684171541,0.041872088549893084,0.04182789398327747,0.04177600531780893,0.041716125941705345,0.041647961860992205,0.041571223097589025,0.04148562507773954,0.041390890008820645,0.04128674824273358,0.04117293962418012,0.0410492148221359,0.04091533664277837,0.04077108132198711,0.04061623979533262,0.04045061894320024,0.04027404280837686,0.04008635378306151,0.03988741376186005,0.03967710525690475,0.03945533247080664,0.03922202232272204,0.03897712542240096,0.03872061698670621,0.03845249769274712,0.038172794461488774,0.03788156116547023,0.037578879254121594,0.037264858290099526,0.03693963639008617,0.03660338056361713,0.03625628694371895,0.03589858090345871,0.035530517052926126,0.03515237911169048,0.03476447965238916,0.03436715971181355,0.03396078826664958,0.03354576157189913,0.03312250236094492,0.03269145890721579,0.03225310394844519,0.031807933475590654,0.031356465389571514,0.03089923803008327,0.030436808581839215,0.029969751364664912,0.029498656014912597,0.029024125566659863,0.02854677444209773,0.02806722636138588,0.02758611218304729,0.027104067686682134,0.02662173131039398,0.02613974185582875,0.025658736174131173,0.02517934684641253,0.024702199872497513,0.024227912381776098,0.023757090379927584,0.023290326545105572,0.022828198086885274,0.022371264680870584,0.021920066491351583,0.02147512229379252,0.021036927708226818,0.02060595355384009,0.02018264433415181,0.019767416861258314,0.019360659026592363,0.018962728724592547,0.01857395293456767,0.018194626964902618,0.017825013862585323,0.017465343989856746,0.01711581476860055,0.016776590591912614,0.0164478029011271,0.01612955042543794,0.015821899580149724,0.015524885018530818,0.015238510331229126,0.01496274888625773,0.014697544801670239,0.014442814042227796,0.01419844563062275,0.013964302963166877,0.01374022521928412,0.013526028853669752,0.013321509159594536,0.013126441891544806,0.012940584935199152,0.012763680012650637,0.012595454410789434,0.012435622720862644,0.012283888577426468,0.012139946385195149,0.012003483022669811,0.011874179511894047,0.01175171264422566,0.011635756552632685,0.011525984221706375,0.01142206892733205,0.011323685598759481,0.01123051209666275,0.011142230401665561,0.011058527708724251,0.010979097423698299,0.010903640059387503,0.010831864029269061,0.010763486338115498,0.01069823316960764,0.010635840371969,0.010576053843525982,0.010518629820940695,0.010463335073654817,0.010409947008824342,0.010358253691703106,0.010308053787046481,0.010259156427648172,0.010211381016588455,0.010164556970158384,0.010118523408729414,0.010073128803057142,0.010028230583643766,0.009983694720834456,0.009939395283288441,0.009895213982350737,0.009851039709654234,0.009806768075010238,0.009762300951302571,0.00971754603268942,0.009672416411946202,0.00962683018225604,0.00958071006818088,0.009533983089931492,0.009486580264407176,0.009438436345803809,0.009389489607900535,0.009339681669437267,0.009288957363299183,0.009237264649534217,0.009184554571556808,0.009130781254242158,0.00907590194199574,0.009019877074303328,0.008962670395728787,0.008904249096841168,0.008844583982119047,0.008783649660507578,0.008721424753992011,0.008657892119305895,0.008593039077712972,0.008526857647691018,0.008459344775303542,0.008390502557069824,0.008320338450236118,0.008248865465505928,0.008176102337505129,0.008102073668532609,0.008026810041476186,0.007950348098151995,0.007872730579747564,0.007794006326509693,0.007714230234311868,0.007633463166255113,0.0075517718179971246,0.007469228536057407,0.007385911088907591,0.007301902391217648,0.007217290182185433,0.007132166659421616,0.007046628070389311,0.006960774263902986,0.006874708204666268,0.0067885354542729275,0.006702363622500282,0.006616301793089272,0.006530459928525295,0.006444948258606292,0.006359876657806593,0.0062753540166154784,0.006191487612146614,0.006108382483377516,0.006026140816387019,0.005944861344913639,0.005864638771458951,0.005785563214009713,0.0057077196832512386,0.005631187594895434,0.005556040321451605,0.005482344787430691,0.005410161111595536,0.0053395422994573696,0.005270533988772703,0.0052031742503220535,0.005137493445755744,0.005073514143776391,0.005011251095399287,0.004950711268493537,0.004891893941265297,0.004834790853803652,0.00477938641627572,0.004725657971834849,0.004673576111799433,0.004623105040175726,0.00457420298413936,0.004526822646663397,0.0044809116970885516,0.004436413295078998,0.004393266643097835,0.004351407562273885,0.004310769086318532,0.004271282067990449,0.004232875792500065,0.004195478592194091,0.004159018456867296,0.004123423634110955,0.004088623214227928,0.004054547694419833,0.0040211295171825485,0.003988303578129202,0.003956007698792439,0.003924183060337374,0.0038927745945382284,0.0038617313288322303,0.0038310066827576613,0.0038005587136047715,0.0037703503096521763,0.0037403493299216963,0.003710528689954788,0.003680866393687436,0.0036513455120712485,0.0036219541096493657,0.0035926851208407185,0.003563536178208512,0.003534509395482405,0.003505611108563104,0.0034768515781572907,0.003448244658065447,0.0034198074334704683,0.0033915598338474635,0.0033635242253318124,0.0033357249875406313,0.003308188079941258,0.003280940602897938,0.003254010358504634,0.003227425416228679,0.0032012136882483486,0.0031754025191692136,0.0031500182945534342,0.003125086072395103,0.0031006292413293113,0.0030766692089764297,0.0030532251234022096,0.0030303136302245147,0.003007948667424235,0.002986141299428788,0.002964899591536621,0.0029442285252481485,0.0029241299545681113,0.0029046026028533693,0.0028856420993043663,0.0028672410537440287,0.0028493891678998996,0.002832073381008681,0.0028152780472017495,0.002798985141809229,0.0027831744934418115,0.0027678240384768392,0.0027529100943891045,0.002738407648229488,0.0027242906564654214,0.002710532352356748,0.0026971055570474307,0.0026839829906062304,0.002671137579346182,0.002658542755890179,0.002646172748625566,0.0026340028574005137,0.00262200971255531,0.002610171514648268,0.002598468252524545,0.002586881897681996,0.002575396573206992,0.00256399869588027,0.0025526770903838013,0.0025414230748704012,0.0025302305174839733,0.002519095863736257,0.002508018134952392,0.002496998898288919,0.002486042209102018,0.002475154526697628,0.002464344604727509,0.002453623357704043,0.0024430037052912113,0.0024325003961885184,0.002422129813558657,0.0024119097640585385,0.0024018592526171305,0.002391998245163388,0.002382347421544227,0.002372927920887302,0.002363761081657713,0.002354868178633437,0.0023462701589825673,0.0023379873795686323,0.002330039347539731,0.002322444466174989,0.0023152197878695906,0.0023083807760391015,0.002301941077616546,0.002295912307703187,0.002290303847817625,0.0022851226590687897,0.0022803731114577203,0.002276056830391709,0.002272172561372957,0.0022687160537031995,0.0022656799639259725,0.0022630537796099344,0.0022608237639597404,0.002258972921625869,0.0022574809859712314,0.0022563244279403963,0.0022554764865667697,0.0022549072210438035,0.0022545835841782567,0.002254469516936445,0.002254526063688219,0.00225471150764802,0.0022549815259077116,0.002255289363352128,0.0022555860246453777,0.0022558204833741657,0.0022559399073342344,0.002255889898847292,0.002255614748899834,0.002255057703801691,0.0022541612429723477,0.0022528673663773486,0.0022511178900564183,0.002248854748110007,0.002246020299442836,0.0022425576375024437,0.0022384109011986384,0.002233525585147282,0.0022278488473494837,0.0022213298123962577,0.002213919868279678,0.00220557295489515,0.0021962458423364314,0.0021858983971159564,0.002174493834488105,0.0021619989551127762,0.00214838436437108,0.002133624672733802,0.0021176986756869767,0.002100589511836266,0.0020822847979429884,0.002062776739788524,0.002042062217919602,0.0020201428474937054,0.001997025011620058,0.0019727198677763507,0.0019472433270726283,0.0019206160063302198,0.0018928631531435008,0.0018640145442934968,0.0018341043580833748,0.001803171021364578,0.0017712570322165164,0.001738408759431001,0.001704676220132259,0.0016701128370332767,0.0016347751769869427,0.0015987226726347657,0.0015620173290850077,0.0015247234176644755],\"yaxis\":\"y\",\"type\":\"scatter\"},{\"legendgroup\":\"ASD_pos\",\"marker\":{\"color\":\"purple\",\"symbol\":\"line-ns-open\"},\"mode\":\"markers\",\"name\":\"ASD_pos\",\"showlegend\":false,\"x\":[14.67989264,20.30594341,17.96459873,29.11206645,36.08435983,38.5945887,37.91975494,44.85675975,23.01064721,55.07023813,39.43876274,37.11566426,31.26745092,24.04423243,15.92003387,14.39803871,21.10272977,29.6603158,27.58499933,28.24751537,46.14982009,19.53928574,62.01077975,42.21516864,14.92302777,53.25270496,15.47212097,32.86252139,55.87718249,18.74165104,18.24228234,71.08419062,21.23165613,47.98800877,22.57895951,20.85087407,17.49596329,37.38204891,12.3573003,55.32273412,27.97710674,53.31213707,38.62482504,18.53436695,48.50984312,58.23716737,42.17293948,31.11362034,49.34355056,25.17584032,48.53059445,19.76478629,64.7846482,17.58923301,24.3593635,29.4190243,23.03114875,30.86833336,13.56535916,12.86969457,42.89939647,68.00507033,31.6665334,39.62488238,21.26872388,53.679868000000006,13.82400342,32.1208691,49.18932273,62.55643314,53.27325592,59.93790237,55.31824746,42.33192443,54.73967471,35.04822411,29.62630088,33.71533635,27.88425018,21.48013904,25.99219163,15.36731189,46.36992639,18.878002,25.11012862,22.91816929,19.33816764,27.52895152,62.61132166,23.80967704,18.129310800000003,35.79293299,44.77318337,26.1659676,21.32558768,41.84811585,26.92375026,48.11471037,28.70467543,28.30261772,35.5579975,31.67681913,22.65097981,14.86917251,22.3696796,18.58263362,16.86475024,49.43439359,33.96043139,24.04626135,16.49474382,37.84456589,27.67536663,23.75933805,32.73950568,19.2906371,28.49001339,31.07938808,25.55980006,25.62275359,64.49177551,14.23128228,55.88994948,15.95119764,24.75130724,13.89784984,10.95228869,42.15462533,21.76023807,50.28178664,27.18013388,29.31198078,54.80676402,41.75294745,54.55295512,69.0322209,30.86535776,24.99099448,42.09629473,18.7139055,34.09807492,15.7291792,19.39516203,30.89414025,37.22073251,12.64242609,23.82198722,20.53986415,22.15781669,18.05636448,21.75953085,28.04131476,52.33927013,24.45063324,32.58726065,35.67135635,17.0144967,37.27590789,19.74274144,54.78051233,20.49104374,24.00236983,24.91819746,11.06017591,62.02633694,23.2418793,11.35116102,17.91973945,13.1545696,24.2634694,46.57007587,17.90321284,34.88603695,21.0231266,14.45454475,62.92074643,28.10136823,30.70537622,51.06141566,27.79945741,53.3231657,18.00918051,38.52697981,42.08490685,18.24255728],\"xaxis\":\"x\",\"y\":[\"ASD_pos\",\"ASD_pos\",\"ASD_pos\",\"ASD_pos\",\"ASD_pos\",\"ASD_pos\",\"ASD_pos\",\"ASD_pos\",\"ASD_pos\",\"ASD_pos\",\"ASD_pos\",\"ASD_pos\",\"ASD_pos\",\"ASD_pos\",\"ASD_pos\",\"ASD_pos\",\"ASD_pos\",\"ASD_pos\",\"ASD_pos\",\"ASD_pos\",\"ASD_pos\",\"ASD_pos\",\"ASD_pos\",\"ASD_pos\",\"ASD_pos\",\"ASD_pos\",\"ASD_pos\",\"ASD_pos\",\"ASD_pos\",\"ASD_pos\",\"ASD_pos\",\"ASD_pos\",\"ASD_pos\",\"ASD_pos\",\"ASD_pos\",\"ASD_pos\",\"ASD_pos\",\"ASD_pos\",\"ASD_pos\",\"ASD_pos\",\"ASD_pos\",\"ASD_pos\",\"ASD_pos\",\"ASD_pos\",\"ASD_pos\",\"ASD_pos\",\"ASD_pos\",\"ASD_pos\",\"ASD_pos\",\"ASD_pos\",\"ASD_pos\",\"ASD_pos\",\"ASD_pos\",\"ASD_pos\",\"ASD_pos\",\"ASD_pos\",\"ASD_pos\",\"ASD_pos\",\"ASD_pos\",\"ASD_pos\",\"ASD_pos\",\"ASD_pos\",\"ASD_pos\",\"ASD_pos\",\"ASD_pos\",\"ASD_pos\",\"ASD_pos\",\"ASD_pos\",\"ASD_pos\",\"ASD_pos\",\"ASD_pos\",\"ASD_pos\",\"ASD_pos\",\"ASD_pos\",\"ASD_pos\",\"ASD_pos\",\"ASD_pos\",\"ASD_pos\",\"ASD_pos\",\"ASD_pos\",\"ASD_pos\",\"ASD_pos\",\"ASD_pos\",\"ASD_pos\",\"ASD_pos\",\"ASD_pos\",\"ASD_pos\",\"ASD_pos\",\"ASD_pos\",\"ASD_pos\",\"ASD_pos\",\"ASD_pos\",\"ASD_pos\",\"ASD_pos\",\"ASD_pos\",\"ASD_pos\",\"ASD_pos\",\"ASD_pos\",\"ASD_pos\",\"ASD_pos\",\"ASD_pos\",\"ASD_pos\",\"ASD_pos\",\"ASD_pos\",\"ASD_pos\",\"ASD_pos\",\"ASD_pos\",\"ASD_pos\",\"ASD_pos\",\"ASD_pos\",\"ASD_pos\",\"ASD_pos\",\"ASD_pos\",\"ASD_pos\",\"ASD_pos\",\"ASD_pos\",\"ASD_pos\",\"ASD_pos\",\"ASD_pos\",\"ASD_pos\",\"ASD_pos\",\"ASD_pos\",\"ASD_pos\",\"ASD_pos\",\"ASD_pos\",\"ASD_pos\",\"ASD_pos\",\"ASD_pos\",\"ASD_pos\",\"ASD_pos\",\"ASD_pos\",\"ASD_pos\",\"ASD_pos\",\"ASD_pos\",\"ASD_pos\",\"ASD_pos\",\"ASD_pos\",\"ASD_pos\",\"ASD_pos\",\"ASD_pos\",\"ASD_pos\",\"ASD_pos\",\"ASD_pos\",\"ASD_pos\",\"ASD_pos\",\"ASD_pos\",\"ASD_pos\",\"ASD_pos\",\"ASD_pos\",\"ASD_pos\",\"ASD_pos\",\"ASD_pos\",\"ASD_pos\",\"ASD_pos\",\"ASD_pos\",\"ASD_pos\",\"ASD_pos\",\"ASD_pos\",\"ASD_pos\",\"ASD_pos\",\"ASD_pos\",\"ASD_pos\",\"ASD_pos\",\"ASD_pos\",\"ASD_pos\",\"ASD_pos\",\"ASD_pos\",\"ASD_pos\",\"ASD_pos\",\"ASD_pos\",\"ASD_pos\",\"ASD_pos\",\"ASD_pos\",\"ASD_pos\",\"ASD_pos\",\"ASD_pos\",\"ASD_pos\",\"ASD_pos\",\"ASD_pos\",\"ASD_pos\",\"ASD_pos\",\"ASD_pos\",\"ASD_pos\",\"ASD_pos\",\"ASD_pos\"],\"yaxis\":\"y2\",\"type\":\"scatter\"},{\"legendgroup\":\"ASD_neg\",\"marker\":{\"color\":\"salmon\",\"symbol\":\"line-ns-open\"},\"mode\":\"markers\",\"name\":\"ASD_neg\",\"showlegend\":false,\"x\":[18.60539681,13.82936938,61.03528807,14.25668605,15.57819071,21.36698098,28.93006774,15.40690273,22.87041047,45.7861637,28.71312905,52.20892387,13.97301145,15.55955208,13.99395149,24.34811834,37.54394119,15.77964696,31.79042116,54.51081856,24.2640054,13.71660497,34.48599757,24.62929977,45.98472454,23.876840100000003,54.53720884,13.53526348,25.55286793,44.8700017,14.24974298,16.09705879,65.6951177,17.929757100000003,38.0985636,37.37522679,27.47619568,17.63356169,22.14783581,41.71234687,48.56647483,51.80196369,30.64667127,33.05861987,20.53650583,27.24063427,26.30248764,32.42403082,52.02688326,44.09821754,17.51408417,15.59883742,19.53559466,17.42176325,17.38545741,9.560504591,25.95016033,35.83746454,11.54993958,38.67351458,42.2214725,30.57399179,12.94714991,30.07064518,21.60769114,18.65259136,20.22910815,14.69486744,70.80160415,19.46573847,29.98828071,21.55665806,28.76435032,14.4545617,24.27300103,24.55505931,17.39781861,24.4713742,32.23937347,69.09837764,45.37472227,47.84566809,28.56308891,13.09682249,19.80506544,27.61175669,16.714680800000004,26.41488838,29.33349476,21.32706907,67.55850162,18.50446693,31.43579833,20.08757477,69.05226045,23.05540341,14.59720978,47.87638561,22.62568164,25.55856781,32.4945138,26.30495213,28.16768892,45.17808556,26.72393465,25.77650282,18.00560631,22.12052239,24.65502345,19.5181971,29.74431679,39.70332795,29.31918969,35.72545637,27.81662774,23.45687224,24.97098115,17.03338276,18.56656926,20.99807204,33.15345606,16.91617977,17.56342082,17.86860128,30.68204661,30.5726803,30.65806538,24.78260151,20.3267982,19.0425534,35.05333688,31.18446071,22.27304531,64.07729888,16.99434028,22.38919405,30.63901324,20.29018852,24.87843843,12.24753182,24.17754462,59.97435003,16.53744586,22.47238061,54.1267139,26.72591344,27.42240544,16.49152984,17.84015282,13.00076319,21.33664412,24.5500137,17.84051133,14.67194994,26.13266488,27.77326719,28.39174517,38.19603988,19.48255661,23.10647714,37.32451578,28.0402643,16.45927794,21.20709159,14.25136597,20.39654655,59.64456984,26.27653497,24.50929034,50.13199013,26.44489182,29.12153036,18.25537813,30.488441,44.38044644,28.97897254,52.9680159,12.03765423,29.37295411,23.99403586,23.04771671,39.31612047,19.52180736,10.0682642,42.56842778,28.40672129,44.95667763,12.49217538,72.40248841,29.98825247,23.30157997,44.21478178,17.97550298,41.54513901,26.26550774,27.79462444,29.54503981,23.22476695,38.69865911,33.15865325,18.54376162,14.08733098,18.76366889,30.34815679,30.05008465,12.84895746,21.43814876,25.49186707,27.0273135,20.26061777,49.78834545,40.57666928,15.25926213,22.3768334,18.59984127,35.45904379,70.45727239,19.41178926,29.29194323,25.1984157,27.79857497,35.23840537,10.5634741,21.01101122,42.48618909,42.75701238,19.46567705,17.73800278,26.73184805,18.18918108,21.16633943,24.88092657,17.38496811,20.84357913,13.05526927,52.29804788,14.20305959,33.1608928,31.91563805,60.77273685,23.20204756,23.68015292,30.09420007,18.25856763,19.44791381,30.93069813,31.30726252,36.56146232,31.22291175,23.2182734,26.54786312,24.95433283,42.68425606,15.37977429,31.93818694,23.82980847,12.82718298,24.21829393,36.38011773,18.06833783,20.02135637,27.62361603,17.02472387,27.02340181,21.46375329,31.289655100000004,12.83857004,15.8295188,25.05091735,15.29881605,23.35035887,16.77398843,41.49551501,24.84610005,28.82518176,23.42443608,39.98092074,29.68072364,16.33592748,14.24864659,39.29122616,40.5312181,32.24661514,43.20086314,26.8411853,20.50981094,17.19178706,19.2414331,31.90788624,12.52876169,16.16648629,28.44874139,29.6550994,27.02093489,21.37635914,45.50121366,29.22416068,18.40592409,24.123863,24.53218093,14.71882514,20.71728983,28.80726462,17.17781586,27.49343743,26.86271615,13.7767075,22.08052022,24.45652938,17.45912374,24.12367143,25.4680538,35.35945091,27.18027983,18.08361893,31.19787597,27.99924973,20.37347736,21.9272415,23.64302675,18.85460181,37.50376579,19.14520463,23.004043600000003,29.32415568,16.00881089,27.21368809,26.30897678,20.35515932,17.6883325,71.3560697,15.70727497,63.75155625,47.73008947,45.61232401,36.71172301,22.61521304,37.51947298,23.1327722,42.06175986,26.22617053,19.72333156,26.0779911,18.50849917,20.09622766,24.12553692,27.17141621,14.64496199,20.39207733,41.36860529,38.40680094,31.70883972,29.36037187,33.94300046,14.27922507,27.60839705,12.14264103,32.20423469,18.84329479,25.81976021,14.40240138,24.22036485,21.56342103,47.96276884,12.65425437,18.92173852,32.61509975,39.38579107,16.50360662,15.95961571,40.0526163,27.22430953,24.59416695,23.988549,33.25859799,31.74017364,27.26622279,17.10192393,17.61761346,12.76969932,28.64516606,20.63988618,26.33027826,28.96044414,16.51915492,38.92086202,12.88899428,26.55083095,16.80623143,14.91975497,43.52066788,18.55221155,19.25641523,33.01259387,24.15741484,67.41174403,21.55418788,24.44399463,13.87320354,25.30884824,20.462625,11.79157315,21.72161031,21.18039464,28.39483372,14.80201297,24.32227986,39.95680615,24.95784588,69.18521211,12.68882004,28.75761551,17.20033928,33.49453904,29.24703151,29.1090159,14.78618617,29.8900979,25.15268641,19.83386928,39.88924895,18.45070775,25.18548225,15.49881136,28.63366323,25.25364327,23.73521,39.82562563,27.63221244,27.88412337,29.19566621,59.62775131,26.13549399,30.76696105,33.22188797,28.30806267,16.91663828,20.35027844,45.23752251,25.94274099,27.96351288,46.24912105,11.79083405,25.93838143,23.6973814,16.10917192,25.9729348,57.85843038,24.8442215,23.51316509,22.4782168,28.39885554,19.33142065,44.13291635,27.70375139,21.17428599,27.20462751,23.78138492,31.45372689,17.29337751,21.35559283,56.94291339,14.3808953,13.89971779,15.49096467,19.73541874,37.48423402,24.6096008,23.96639949,42.35750256,25.85706958,26.54569019,18.5060405,52.05262676,12.23744796,38.86414425,30.52737617,28.98353924,18.6681171,30.22623836,18.12602,24.52767093,24.92729016,23.35073121,21.98276372,37.65198552,13.44764893,53.78743071,33.94529149,28.65883617,22.64481055,25.19521667,31.38962252,22.77013398,16.1038529,31.45293115,17.42385035,27.55458916,35.31536559,22.24054605,27.00058499,29.09439056,25.85604329,38.053128,25.15887799,25.05584845,19.92111561,22.71783533,47.50947766,36.62670705,21.75388979,30.0080822,29.44305461,16.50210964,48.45204622,71.68068207,62.61455773,66.53320759,20.98300489,22.81436453,28.38670182,12.95082394,27.68259645,28.61497378,13.14904621,16.84333863,29.43706753,24.52725575,25.60377858,46.74226968,18.84460222,31.33228909,29.12475515,17.85655211,22.1894618,23.99379689,28.54050329,24.58667973,28.1411368,18.3372629,28.53744157,17.34310145,19.0113239,12.03510973,23.68543099,41.19614552,23.95534317,21.18868502,25.11728489,39.92918019,13.06948226,34.29082460000001,22.28181212,22.61154807,45.03945117,63.23366513,18.90427553,35.45799034,13.38282021,29.82519294,28.33023531,12.94801424,22.88957212,21.75123467,20.90950447,18.99191402,50.53524958,18.4379935,28.46828198,20.4634476,17.2001964,18.4241769,27.57733856,28.42463843,44.10109235,28.95224942,26.86995049,19.74198448,23.43507261,30.67846275,23.89542479,18.34957017,29.277243,16.28524309,21.6019814,19.97847816,29.27161357,43.62625747,20.98186716,15.09052497,19.4801396,25.71545925,53.89137595,19.13036361,27.32150965,55.27876787,44.87586807,54.09464439,22.42243059,32.16281477,17.89826171,16.69477428,14.83218125,15.12771801,31.09996355,58.41167865,59.60787077,36.82751862,17.82050033,21.62956024,16.30397208,24.36141607,17.66929077,19.24147315,32.17009804],\"xaxis\":\"x\",\"y\":[\"ASD_neg\",\"ASD_neg\",\"ASD_neg\",\"ASD_neg\",\"ASD_neg\",\"ASD_neg\",\"ASD_neg\",\"ASD_neg\",\"ASD_neg\",\"ASD_neg\",\"ASD_neg\",\"ASD_neg\",\"ASD_neg\",\"ASD_neg\",\"ASD_neg\",\"ASD_neg\",\"ASD_neg\",\"ASD_neg\",\"ASD_neg\",\"ASD_neg\",\"ASD_neg\",\"ASD_neg\",\"ASD_neg\",\"ASD_neg\",\"ASD_neg\",\"ASD_neg\",\"ASD_neg\",\"ASD_neg\",\"ASD_neg\",\"ASD_neg\",\"ASD_neg\",\"ASD_neg\",\"ASD_neg\",\"ASD_neg\",\"ASD_neg\",\"ASD_neg\",\"ASD_neg\",\"ASD_neg\",\"ASD_neg\",\"ASD_neg\",\"ASD_neg\",\"ASD_neg\",\"ASD_neg\",\"ASD_neg\",\"ASD_neg\",\"ASD_neg\",\"ASD_neg\",\"ASD_neg\",\"ASD_neg\",\"ASD_neg\",\"ASD_neg\",\"ASD_neg\",\"ASD_neg\",\"ASD_neg\",\"ASD_neg\",\"ASD_neg\",\"ASD_neg\",\"ASD_neg\",\"ASD_neg\",\"ASD_neg\",\"ASD_neg\",\"ASD_neg\",\"ASD_neg\",\"ASD_neg\",\"ASD_neg\",\"ASD_neg\",\"ASD_neg\",\"ASD_neg\",\"ASD_neg\",\"ASD_neg\",\"ASD_neg\",\"ASD_neg\",\"ASD_neg\",\"ASD_neg\",\"ASD_neg\",\"ASD_neg\",\"ASD_neg\",\"ASD_neg\",\"ASD_neg\",\"ASD_neg\",\"ASD_neg\",\"ASD_neg\",\"ASD_neg\",\"ASD_neg\",\"ASD_neg\",\"ASD_neg\",\"ASD_neg\",\"ASD_neg\",\"ASD_neg\",\"ASD_neg\",\"ASD_neg\",\"ASD_neg\",\"ASD_neg\",\"ASD_neg\",\"ASD_neg\",\"ASD_neg\",\"ASD_neg\",\"ASD_neg\",\"ASD_neg\",\"ASD_neg\",\"ASD_neg\",\"ASD_neg\",\"ASD_neg\",\"ASD_neg\",\"ASD_neg\",\"ASD_neg\",\"ASD_neg\",\"ASD_neg\",\"ASD_neg\",\"ASD_neg\",\"ASD_neg\",\"ASD_neg\",\"ASD_neg\",\"ASD_neg\",\"ASD_neg\",\"ASD_neg\",\"ASD_neg\",\"ASD_neg\",\"ASD_neg\",\"ASD_neg\",\"ASD_neg\",\"ASD_neg\",\"ASD_neg\",\"ASD_neg\",\"ASD_neg\",\"ASD_neg\",\"ASD_neg\",\"ASD_neg\",\"ASD_neg\",\"ASD_neg\",\"ASD_neg\",\"ASD_neg\",\"ASD_neg\",\"ASD_neg\",\"ASD_neg\",\"ASD_neg\",\"ASD_neg\",\"ASD_neg\",\"ASD_neg\",\"ASD_neg\",\"ASD_neg\",\"ASD_neg\",\"ASD_neg\",\"ASD_neg\",\"ASD_neg\",\"ASD_neg\",\"ASD_neg\",\"ASD_neg\",\"ASD_neg\",\"ASD_neg\",\"ASD_neg\",\"ASD_neg\",\"ASD_neg\",\"ASD_neg\",\"ASD_neg\",\"ASD_neg\",\"ASD_neg\",\"ASD_neg\",\"ASD_neg\",\"ASD_neg\",\"ASD_neg\",\"ASD_neg\",\"ASD_neg\",\"ASD_neg\",\"ASD_neg\",\"ASD_neg\",\"ASD_neg\",\"ASD_neg\",\"ASD_neg\",\"ASD_neg\",\"ASD_neg\",\"ASD_neg\",\"ASD_neg\",\"ASD_neg\",\"ASD_neg\",\"ASD_neg\",\"ASD_neg\",\"ASD_neg\",\"ASD_neg\",\"ASD_neg\",\"ASD_neg\",\"ASD_neg\",\"ASD_neg\",\"ASD_neg\",\"ASD_neg\",\"ASD_neg\",\"ASD_neg\",\"ASD_neg\",\"ASD_neg\",\"ASD_neg\",\"ASD_neg\",\"ASD_neg\",\"ASD_neg\",\"ASD_neg\",\"ASD_neg\",\"ASD_neg\",\"ASD_neg\",\"ASD_neg\",\"ASD_neg\",\"ASD_neg\",\"ASD_neg\",\"ASD_neg\",\"ASD_neg\",\"ASD_neg\",\"ASD_neg\",\"ASD_neg\",\"ASD_neg\",\"ASD_neg\",\"ASD_neg\",\"ASD_neg\",\"ASD_neg\",\"ASD_neg\",\"ASD_neg\",\"ASD_neg\",\"ASD_neg\",\"ASD_neg\",\"ASD_neg\",\"ASD_neg\",\"ASD_neg\",\"ASD_neg\",\"ASD_neg\",\"ASD_neg\",\"ASD_neg\",\"ASD_neg\",\"ASD_neg\",\"ASD_neg\",\"ASD_neg\",\"ASD_neg\",\"ASD_neg\",\"ASD_neg\",\"ASD_neg\",\"ASD_neg\",\"ASD_neg\",\"ASD_neg\",\"ASD_neg\",\"ASD_neg\",\"ASD_neg\",\"ASD_neg\",\"ASD_neg\",\"ASD_neg\",\"ASD_neg\",\"ASD_neg\",\"ASD_neg\",\"ASD_neg\",\"ASD_neg\",\"ASD_neg\",\"ASD_neg\",\"ASD_neg\",\"ASD_neg\",\"ASD_neg\",\"ASD_neg\",\"ASD_neg\",\"ASD_neg\",\"ASD_neg\",\"ASD_neg\",\"ASD_neg\",\"ASD_neg\",\"ASD_neg\",\"ASD_neg\",\"ASD_neg\",\"ASD_neg\",\"ASD_neg\",\"ASD_neg\",\"ASD_neg\",\"ASD_neg\",\"ASD_neg\",\"ASD_neg\",\"ASD_neg\",\"ASD_neg\",\"ASD_neg\",\"ASD_neg\",\"ASD_neg\",\"ASD_neg\",\"ASD_neg\",\"ASD_neg\",\"ASD_neg\",\"ASD_neg\",\"ASD_neg\",\"ASD_neg\",\"ASD_neg\",\"ASD_neg\",\"ASD_neg\",\"ASD_neg\",\"ASD_neg\",\"ASD_neg\",\"ASD_neg\",\"ASD_neg\",\"ASD_neg\",\"ASD_neg\",\"ASD_neg\",\"ASD_neg\",\"ASD_neg\",\"ASD_neg\",\"ASD_neg\",\"ASD_neg\",\"ASD_neg\",\"ASD_neg\",\"ASD_neg\",\"ASD_neg\",\"ASD_neg\",\"ASD_neg\",\"ASD_neg\",\"ASD_neg\",\"ASD_neg\",\"ASD_neg\",\"ASD_neg\",\"ASD_neg\",\"ASD_neg\",\"ASD_neg\",\"ASD_neg\",\"ASD_neg\",\"ASD_neg\",\"ASD_neg\",\"ASD_neg\",\"ASD_neg\",\"ASD_neg\",\"ASD_neg\",\"ASD_neg\",\"ASD_neg\",\"ASD_neg\",\"ASD_neg\",\"ASD_neg\",\"ASD_neg\",\"ASD_neg\",\"ASD_neg\",\"ASD_neg\",\"ASD_neg\",\"ASD_neg\",\"ASD_neg\",\"ASD_neg\",\"ASD_neg\",\"ASD_neg\",\"ASD_neg\",\"ASD_neg\",\"ASD_neg\",\"ASD_neg\",\"ASD_neg\",\"ASD_neg\",\"ASD_neg\",\"ASD_neg\",\"ASD_neg\",\"ASD_neg\",\"ASD_neg\",\"ASD_neg\",\"ASD_neg\",\"ASD_neg\",\"ASD_neg\",\"ASD_neg\",\"ASD_neg\",\"ASD_neg\",\"ASD_neg\",\"ASD_neg\",\"ASD_neg\",\"ASD_neg\",\"ASD_neg\",\"ASD_neg\",\"ASD_neg\",\"ASD_neg\",\"ASD_neg\",\"ASD_neg\",\"ASD_neg\",\"ASD_neg\",\"ASD_neg\",\"ASD_neg\",\"ASD_neg\",\"ASD_neg\",\"ASD_neg\",\"ASD_neg\",\"ASD_neg\",\"ASD_neg\",\"ASD_neg\",\"ASD_neg\",\"ASD_neg\",\"ASD_neg\",\"ASD_neg\",\"ASD_neg\",\"ASD_neg\",\"ASD_neg\",\"ASD_neg\",\"ASD_neg\",\"ASD_neg\",\"ASD_neg\",\"ASD_neg\",\"ASD_neg\",\"ASD_neg\",\"ASD_neg\",\"ASD_neg\",\"ASD_neg\",\"ASD_neg\",\"ASD_neg\",\"ASD_neg\",\"ASD_neg\",\"ASD_neg\",\"ASD_neg\",\"ASD_neg\",\"ASD_neg\",\"ASD_neg\",\"ASD_neg\",\"ASD_neg\",\"ASD_neg\",\"ASD_neg\",\"ASD_neg\",\"ASD_neg\",\"ASD_neg\",\"ASD_neg\",\"ASD_neg\",\"ASD_neg\",\"ASD_neg\",\"ASD_neg\",\"ASD_neg\",\"ASD_neg\",\"ASD_neg\",\"ASD_neg\",\"ASD_neg\",\"ASD_neg\",\"ASD_neg\",\"ASD_neg\",\"ASD_neg\",\"ASD_neg\",\"ASD_neg\",\"ASD_neg\",\"ASD_neg\",\"ASD_neg\",\"ASD_neg\",\"ASD_neg\",\"ASD_neg\",\"ASD_neg\",\"ASD_neg\",\"ASD_neg\",\"ASD_neg\",\"ASD_neg\",\"ASD_neg\",\"ASD_neg\",\"ASD_neg\",\"ASD_neg\",\"ASD_neg\",\"ASD_neg\",\"ASD_neg\",\"ASD_neg\",\"ASD_neg\",\"ASD_neg\",\"ASD_neg\",\"ASD_neg\",\"ASD_neg\",\"ASD_neg\",\"ASD_neg\",\"ASD_neg\",\"ASD_neg\",\"ASD_neg\",\"ASD_neg\",\"ASD_neg\",\"ASD_neg\",\"ASD_neg\",\"ASD_neg\",\"ASD_neg\",\"ASD_neg\",\"ASD_neg\",\"ASD_neg\",\"ASD_neg\",\"ASD_neg\",\"ASD_neg\",\"ASD_neg\",\"ASD_neg\",\"ASD_neg\",\"ASD_neg\",\"ASD_neg\",\"ASD_neg\",\"ASD_neg\",\"ASD_neg\",\"ASD_neg\",\"ASD_neg\",\"ASD_neg\",\"ASD_neg\",\"ASD_neg\",\"ASD_neg\",\"ASD_neg\",\"ASD_neg\",\"ASD_neg\",\"ASD_neg\",\"ASD_neg\",\"ASD_neg\",\"ASD_neg\",\"ASD_neg\",\"ASD_neg\",\"ASD_neg\",\"ASD_neg\",\"ASD_neg\",\"ASD_neg\",\"ASD_neg\",\"ASD_neg\",\"ASD_neg\",\"ASD_neg\",\"ASD_neg\",\"ASD_neg\",\"ASD_neg\",\"ASD_neg\",\"ASD_neg\",\"ASD_neg\",\"ASD_neg\",\"ASD_neg\",\"ASD_neg\",\"ASD_neg\",\"ASD_neg\",\"ASD_neg\",\"ASD_neg\",\"ASD_neg\",\"ASD_neg\",\"ASD_neg\",\"ASD_neg\",\"ASD_neg\",\"ASD_neg\",\"ASD_neg\",\"ASD_neg\",\"ASD_neg\",\"ASD_neg\",\"ASD_neg\",\"ASD_neg\",\"ASD_neg\",\"ASD_neg\",\"ASD_neg\",\"ASD_neg\",\"ASD_neg\",\"ASD_neg\",\"ASD_neg\",\"ASD_neg\",\"ASD_neg\",\"ASD_neg\",\"ASD_neg\",\"ASD_neg\",\"ASD_neg\",\"ASD_neg\",\"ASD_neg\",\"ASD_neg\",\"ASD_neg\",\"ASD_neg\",\"ASD_neg\",\"ASD_neg\",\"ASD_neg\",\"ASD_neg\",\"ASD_neg\",\"ASD_neg\",\"ASD_neg\",\"ASD_neg\",\"ASD_neg\",\"ASD_neg\",\"ASD_neg\",\"ASD_neg\",\"ASD_neg\",\"ASD_neg\",\"ASD_neg\",\"ASD_neg\",\"ASD_neg\",\"ASD_neg\",\"ASD_neg\",\"ASD_neg\",\"ASD_neg\",\"ASD_neg\",\"ASD_neg\",\"ASD_neg\",\"ASD_neg\",\"ASD_neg\",\"ASD_neg\",\"ASD_neg\",\"ASD_neg\",\"ASD_neg\",\"ASD_neg\",\"ASD_neg\",\"ASD_neg\",\"ASD_neg\",\"ASD_neg\",\"ASD_neg\",\"ASD_neg\",\"ASD_neg\",\"ASD_neg\",\"ASD_neg\",\"ASD_neg\",\"ASD_neg\",\"ASD_neg\",\"ASD_neg\",\"ASD_neg\",\"ASD_neg\",\"ASD_neg\",\"ASD_neg\",\"ASD_neg\",\"ASD_neg\",\"ASD_neg\",\"ASD_neg\",\"ASD_neg\",\"ASD_neg\",\"ASD_neg\",\"ASD_neg\",\"ASD_neg\",\"ASD_neg\",\"ASD_neg\",\"ASD_neg\",\"ASD_neg\",\"ASD_neg\",\"ASD_neg\",\"ASD_neg\",\"ASD_neg\",\"ASD_neg\",\"ASD_neg\",\"ASD_neg\",\"ASD_neg\",\"ASD_neg\",\"ASD_neg\",\"ASD_neg\",\"ASD_neg\",\"ASD_neg\",\"ASD_neg\",\"ASD_neg\",\"ASD_neg\",\"ASD_neg\",\"ASD_neg\",\"ASD_neg\"],\"yaxis\":\"y2\",\"type\":\"scatter\"}],                        {\"barmode\":\"overlay\",\"hovermode\":\"closest\",\"legend\":{\"traceorder\":\"reversed\",\"orientation\":\"v\",\"y\":1,\"yanchor\":\"top\",\"x\":1.0,\"xanchor\":\"right\"},\"xaxis\":{\"anchor\":\"y2\",\"domain\":[0.0,1.0],\"zeroline\":false,\"title\":{\"text\":\"Age\"}},\"yaxis\":{\"anchor\":\"free\",\"domain\":[0.35,1],\"position\":0.0,\"title\":{\"text\":\"density\"}},\"yaxis2\":{\"anchor\":\"x\",\"domain\":[0,0.25],\"dtick\":1,\"showticklabels\":false},\"template\":{\"data\":{\"barpolar\":[{\"marker\":{\"line\":{\"color\":\"white\",\"width\":0.5},\"pattern\":{\"fillmode\":\"overlay\",\"size\":10,\"solidity\":0.2}},\"type\":\"barpolar\"}],\"bar\":[{\"error_x\":{\"color\":\"rgb(36,36,36)\"},\"error_y\":{\"color\":\"rgb(36,36,36)\"},\"marker\":{\"line\":{\"color\":\"white\",\"width\":0.5},\"pattern\":{\"fillmode\":\"overlay\",\"size\":10,\"solidity\":0.2}},\"type\":\"bar\"}],\"carpet\":[{\"aaxis\":{\"endlinecolor\":\"rgb(36,36,36)\",\"gridcolor\":\"white\",\"linecolor\":\"white\",\"minorgridcolor\":\"white\",\"startlinecolor\":\"rgb(36,36,36)\"},\"baxis\":{\"endlinecolor\":\"rgb(36,36,36)\",\"gridcolor\":\"white\",\"linecolor\":\"white\",\"minorgridcolor\":\"white\",\"startlinecolor\":\"rgb(36,36,36)\"},\"type\":\"carpet\"}],\"choropleth\":[{\"colorbar\":{\"outlinewidth\":1,\"tickcolor\":\"rgb(36,36,36)\",\"ticks\":\"outside\"},\"type\":\"choropleth\"}],\"contourcarpet\":[{\"colorbar\":{\"outlinewidth\":1,\"tickcolor\":\"rgb(36,36,36)\",\"ticks\":\"outside\"},\"type\":\"contourcarpet\"}],\"contour\":[{\"colorbar\":{\"outlinewidth\":1,\"tickcolor\":\"rgb(36,36,36)\",\"ticks\":\"outside\"},\"colorscale\":[[0.0,\"#440154\"],[0.1111111111111111,\"#482878\"],[0.2222222222222222,\"#3e4989\"],[0.3333333333333333,\"#31688e\"],[0.4444444444444444,\"#26828e\"],[0.5555555555555556,\"#1f9e89\"],[0.6666666666666666,\"#35b779\"],[0.7777777777777778,\"#6ece58\"],[0.8888888888888888,\"#b5de2b\"],[1.0,\"#fde725\"]],\"type\":\"contour\"}],\"heatmapgl\":[{\"colorbar\":{\"outlinewidth\":1,\"tickcolor\":\"rgb(36,36,36)\",\"ticks\":\"outside\"},\"colorscale\":[[0.0,\"#440154\"],[0.1111111111111111,\"#482878\"],[0.2222222222222222,\"#3e4989\"],[0.3333333333333333,\"#31688e\"],[0.4444444444444444,\"#26828e\"],[0.5555555555555556,\"#1f9e89\"],[0.6666666666666666,\"#35b779\"],[0.7777777777777778,\"#6ece58\"],[0.8888888888888888,\"#b5de2b\"],[1.0,\"#fde725\"]],\"type\":\"heatmapgl\"}],\"heatmap\":[{\"colorbar\":{\"outlinewidth\":1,\"tickcolor\":\"rgb(36,36,36)\",\"ticks\":\"outside\"},\"colorscale\":[[0.0,\"#440154\"],[0.1111111111111111,\"#482878\"],[0.2222222222222222,\"#3e4989\"],[0.3333333333333333,\"#31688e\"],[0.4444444444444444,\"#26828e\"],[0.5555555555555556,\"#1f9e89\"],[0.6666666666666666,\"#35b779\"],[0.7777777777777778,\"#6ece58\"],[0.8888888888888888,\"#b5de2b\"],[1.0,\"#fde725\"]],\"type\":\"heatmap\"}],\"histogram2dcontour\":[{\"colorbar\":{\"outlinewidth\":1,\"tickcolor\":\"rgb(36,36,36)\",\"ticks\":\"outside\"},\"colorscale\":[[0.0,\"#440154\"],[0.1111111111111111,\"#482878\"],[0.2222222222222222,\"#3e4989\"],[0.3333333333333333,\"#31688e\"],[0.4444444444444444,\"#26828e\"],[0.5555555555555556,\"#1f9e89\"],[0.6666666666666666,\"#35b779\"],[0.7777777777777778,\"#6ece58\"],[0.8888888888888888,\"#b5de2b\"],[1.0,\"#fde725\"]],\"type\":\"histogram2dcontour\"}],\"histogram2d\":[{\"colorbar\":{\"outlinewidth\":1,\"tickcolor\":\"rgb(36,36,36)\",\"ticks\":\"outside\"},\"colorscale\":[[0.0,\"#440154\"],[0.1111111111111111,\"#482878\"],[0.2222222222222222,\"#3e4989\"],[0.3333333333333333,\"#31688e\"],[0.4444444444444444,\"#26828e\"],[0.5555555555555556,\"#1f9e89\"],[0.6666666666666666,\"#35b779\"],[0.7777777777777778,\"#6ece58\"],[0.8888888888888888,\"#b5de2b\"],[1.0,\"#fde725\"]],\"type\":\"histogram2d\"}],\"histogram\":[{\"marker\":{\"line\":{\"color\":\"white\",\"width\":0.6}},\"type\":\"histogram\"}],\"mesh3d\":[{\"colorbar\":{\"outlinewidth\":1,\"tickcolor\":\"rgb(36,36,36)\",\"ticks\":\"outside\"},\"type\":\"mesh3d\"}],\"parcoords\":[{\"line\":{\"colorbar\":{\"outlinewidth\":1,\"tickcolor\":\"rgb(36,36,36)\",\"ticks\":\"outside\"}},\"type\":\"parcoords\"}],\"pie\":[{\"automargin\":true,\"type\":\"pie\"}],\"scatter3d\":[{\"line\":{\"colorbar\":{\"outlinewidth\":1,\"tickcolor\":\"rgb(36,36,36)\",\"ticks\":\"outside\"}},\"marker\":{\"colorbar\":{\"outlinewidth\":1,\"tickcolor\":\"rgb(36,36,36)\",\"ticks\":\"outside\"}},\"type\":\"scatter3d\"}],\"scattercarpet\":[{\"marker\":{\"colorbar\":{\"outlinewidth\":1,\"tickcolor\":\"rgb(36,36,36)\",\"ticks\":\"outside\"}},\"type\":\"scattercarpet\"}],\"scattergeo\":[{\"marker\":{\"colorbar\":{\"outlinewidth\":1,\"tickcolor\":\"rgb(36,36,36)\",\"ticks\":\"outside\"}},\"type\":\"scattergeo\"}],\"scattergl\":[{\"marker\":{\"colorbar\":{\"outlinewidth\":1,\"tickcolor\":\"rgb(36,36,36)\",\"ticks\":\"outside\"}},\"type\":\"scattergl\"}],\"scattermapbox\":[{\"marker\":{\"colorbar\":{\"outlinewidth\":1,\"tickcolor\":\"rgb(36,36,36)\",\"ticks\":\"outside\"}},\"type\":\"scattermapbox\"}],\"scatterpolargl\":[{\"marker\":{\"colorbar\":{\"outlinewidth\":1,\"tickcolor\":\"rgb(36,36,36)\",\"ticks\":\"outside\"}},\"type\":\"scatterpolargl\"}],\"scatterpolar\":[{\"marker\":{\"colorbar\":{\"outlinewidth\":1,\"tickcolor\":\"rgb(36,36,36)\",\"ticks\":\"outside\"}},\"type\":\"scatterpolar\"}],\"scatter\":[{\"fillpattern\":{\"fillmode\":\"overlay\",\"size\":10,\"solidity\":0.2},\"type\":\"scatter\"}],\"scatterternary\":[{\"marker\":{\"colorbar\":{\"outlinewidth\":1,\"tickcolor\":\"rgb(36,36,36)\",\"ticks\":\"outside\"}},\"type\":\"scatterternary\"}],\"surface\":[{\"colorbar\":{\"outlinewidth\":1,\"tickcolor\":\"rgb(36,36,36)\",\"ticks\":\"outside\"},\"colorscale\":[[0.0,\"#440154\"],[0.1111111111111111,\"#482878\"],[0.2222222222222222,\"#3e4989\"],[0.3333333333333333,\"#31688e\"],[0.4444444444444444,\"#26828e\"],[0.5555555555555556,\"#1f9e89\"],[0.6666666666666666,\"#35b779\"],[0.7777777777777778,\"#6ece58\"],[0.8888888888888888,\"#b5de2b\"],[1.0,\"#fde725\"]],\"type\":\"surface\"}],\"table\":[{\"cells\":{\"fill\":{\"color\":\"rgb(237,237,237)\"},\"line\":{\"color\":\"white\"}},\"header\":{\"fill\":{\"color\":\"rgb(217,217,217)\"},\"line\":{\"color\":\"white\"}},\"type\":\"table\"}]},\"layout\":{\"annotationdefaults\":{\"arrowhead\":0,\"arrowwidth\":1},\"autotypenumbers\":\"strict\",\"coloraxis\":{\"colorbar\":{\"outlinewidth\":1,\"tickcolor\":\"rgb(36,36,36)\",\"ticks\":\"outside\"}},\"colorscale\":{\"diverging\":[[0.0,\"rgb(103,0,31)\"],[0.1,\"rgb(178,24,43)\"],[0.2,\"rgb(214,96,77)\"],[0.3,\"rgb(244,165,130)\"],[0.4,\"rgb(253,219,199)\"],[0.5,\"rgb(247,247,247)\"],[0.6,\"rgb(209,229,240)\"],[0.7,\"rgb(146,197,222)\"],[0.8,\"rgb(67,147,195)\"],[0.9,\"rgb(33,102,172)\"],[1.0,\"rgb(5,48,97)\"]],\"sequential\":[[0.0,\"#440154\"],[0.1111111111111111,\"#482878\"],[0.2222222222222222,\"#3e4989\"],[0.3333333333333333,\"#31688e\"],[0.4444444444444444,\"#26828e\"],[0.5555555555555556,\"#1f9e89\"],[0.6666666666666666,\"#35b779\"],[0.7777777777777778,\"#6ece58\"],[0.8888888888888888,\"#b5de2b\"],[1.0,\"#fde725\"]],\"sequentialminus\":[[0.0,\"#440154\"],[0.1111111111111111,\"#482878\"],[0.2222222222222222,\"#3e4989\"],[0.3333333333333333,\"#31688e\"],[0.4444444444444444,\"#26828e\"],[0.5555555555555556,\"#1f9e89\"],[0.6666666666666666,\"#35b779\"],[0.7777777777777778,\"#6ece58\"],[0.8888888888888888,\"#b5de2b\"],[1.0,\"#fde725\"]]},\"colorway\":[\"#1F77B4\",\"#FF7F0E\",\"#2CA02C\",\"#D62728\",\"#9467BD\",\"#8C564B\",\"#E377C2\",\"#7F7F7F\",\"#BCBD22\",\"#17BECF\"],\"font\":{\"color\":\"rgb(36,36,36)\"},\"geo\":{\"bgcolor\":\"white\",\"lakecolor\":\"white\",\"landcolor\":\"white\",\"showlakes\":true,\"showland\":true,\"subunitcolor\":\"white\"},\"hoverlabel\":{\"align\":\"left\"},\"hovermode\":\"closest\",\"mapbox\":{\"style\":\"light\"},\"paper_bgcolor\":\"white\",\"plot_bgcolor\":\"white\",\"polar\":{\"angularaxis\":{\"gridcolor\":\"rgb(232,232,232)\",\"linecolor\":\"rgb(36,36,36)\",\"showgrid\":false,\"showline\":true,\"ticks\":\"outside\"},\"bgcolor\":\"white\",\"radialaxis\":{\"gridcolor\":\"rgb(232,232,232)\",\"linecolor\":\"rgb(36,36,36)\",\"showgrid\":false,\"showline\":true,\"ticks\":\"outside\"}},\"scene\":{\"xaxis\":{\"backgroundcolor\":\"white\",\"gridcolor\":\"rgb(232,232,232)\",\"gridwidth\":2,\"linecolor\":\"rgb(36,36,36)\",\"showbackground\":true,\"showgrid\":false,\"showline\":true,\"ticks\":\"outside\",\"zeroline\":false,\"zerolinecolor\":\"rgb(36,36,36)\"},\"yaxis\":{\"backgroundcolor\":\"white\",\"gridcolor\":\"rgb(232,232,232)\",\"gridwidth\":2,\"linecolor\":\"rgb(36,36,36)\",\"showbackground\":true,\"showgrid\":false,\"showline\":true,\"ticks\":\"outside\",\"zeroline\":false,\"zerolinecolor\":\"rgb(36,36,36)\"},\"zaxis\":{\"backgroundcolor\":\"white\",\"gridcolor\":\"rgb(232,232,232)\",\"gridwidth\":2,\"linecolor\":\"rgb(36,36,36)\",\"showbackground\":true,\"showgrid\":false,\"showline\":true,\"ticks\":\"outside\",\"zeroline\":false,\"zerolinecolor\":\"rgb(36,36,36)\"}},\"shapedefaults\":{\"fillcolor\":\"black\",\"line\":{\"width\":0},\"opacity\":0.3},\"ternary\":{\"aaxis\":{\"gridcolor\":\"rgb(232,232,232)\",\"linecolor\":\"rgb(36,36,36)\",\"showgrid\":false,\"showline\":true,\"ticks\":\"outside\"},\"baxis\":{\"gridcolor\":\"rgb(232,232,232)\",\"linecolor\":\"rgb(36,36,36)\",\"showgrid\":false,\"showline\":true,\"ticks\":\"outside\"},\"bgcolor\":\"white\",\"caxis\":{\"gridcolor\":\"rgb(232,232,232)\",\"linecolor\":\"rgb(36,36,36)\",\"showgrid\":false,\"showline\":true,\"ticks\":\"outside\"}},\"title\":{\"x\":0.05},\"xaxis\":{\"automargin\":true,\"gridcolor\":\"rgb(232,232,232)\",\"linecolor\":\"rgb(36,36,36)\",\"showgrid\":false,\"showline\":true,\"ticks\":\"outside\",\"title\":{\"standoff\":15},\"zeroline\":false,\"zerolinecolor\":\"rgb(36,36,36)\"},\"yaxis\":{\"automargin\":true,\"gridcolor\":\"rgb(232,232,232)\",\"linecolor\":\"rgb(36,36,36)\",\"showgrid\":false,\"showline\":true,\"ticks\":\"outside\",\"title\":{\"standoff\":15},\"zeroline\":false,\"zerolinecolor\":\"rgb(36,36,36)\"}}},\"title\":{\"text\":\"<b>Age distribution<b>\",\"font\":{\"size\":20}},\"font\":{\"family\":\"San Serif\"},\"width\":700,\"height\":500,\"showlegend\":true,\"shapes\":[{\"fillcolor\":\"lightgray\",\"layer\":\"below\",\"line\":{\"width\":0},\"opacity\":0.5,\"type\":\"rect\",\"x0\":9,\"x1\":35,\"xref\":\"x\",\"y0\":0,\"y1\":1,\"yref\":\"y domain\"}],\"annotations\":[{\"showarrow\":false,\"text\":\"Young patients\",\"x\":22.0,\"xanchor\":\"center\",\"xref\":\"x\",\"y\":1,\"yanchor\":\"top\",\"yref\":\"y domain\"}]},                        {\"responsive\": true}                    ).then(function(){\n",
       "                            \n",
       "var gd = document.getElementById('ee307abf-0732-4521-97f3-0f65d133a47b');\n",
       "var x = new MutationObserver(function (mutations, observer) {{\n",
       "        var display = window.getComputedStyle(gd).display;\n",
       "        if (!display || display === 'none') {{\n",
       "            console.log([gd, 'removed!']);\n",
       "            Plotly.purge(gd);\n",
       "            observer.disconnect();\n",
       "        }}\n",
       "}});\n",
       "\n",
       "// Listen for the removal of the full notebook cells\n",
       "var notebookContainer = gd.closest('#notebook-container');\n",
       "if (notebookContainer) {{\n",
       "    x.observe(notebookContainer, {childList: true});\n",
       "}}\n",
       "\n",
       "// Listen for the clearing of the current output cell\n",
       "var outputEl = gd.closest('.output');\n",
       "if (outputEl) {{\n",
       "    x.observe(outputEl, {childList: true});\n",
       "}}\n",
       "\n",
       "                        })                };                });            </script>        </div>"
      ]
     },
     "metadata": {},
     "output_type": "display_data"
    }
   ],
   "execution_count": 48
  },
  {
   "metadata": {},
   "cell_type": "markdown",
   "source": [
    "### Tarama Testi Puanları (QA1-10)\n",
    "- QA test puanları ikilidir. 1 veya 0.\n",
    "- A8_score ve (hafifçe) A1_score dışında, çoğu tarama sorusu pozitif ve negatif vakaları oldukça ayırmış görünüyor."
   ],
   "id": "1134f69a48254116"
  },
  {
   "metadata": {
    "ExecuteTime": {
     "end_time": "2024-05-30T18:51:42.883699Z",
     "start_time": "2024-05-30T18:51:42.771279Z"
    }
   },
   "cell_type": "code",
   "source": [
    "fig = make_subplots(rows=5, cols=2,\n",
    "                    subplot_titles=('A1_Score','A6_Score', 'A2_Score', 'A7_Score','A3_Score',\n",
    "                                    'A8_Score','A4_Score','A9_Score', 'A5_Score','A10_Score',\n",
    "                                    ))\n",
    "\n",
    "for i, feat in enumerate(num_cols[0:5]):\n",
    "    fig.add_trace(go.Histogram(x=ASD_pos[feat],histnorm='percent',\n",
    "                               name='ASD_pos', marker_color = 'purple'),\n",
    "                  row=i+1, col=1)\n",
    "    fig.add_trace(go.Histogram(x=ASD_neg[feat],histnorm='percent',\n",
    "                               name='ASD_neg', marker_color = 'salmon', opacity=0.85),\n",
    "\n",
    "                  row=i+1, col=1)\n",
    "    fig.update_layout(barmode='overlay')\n",
    "\n",
    "for j, feat in enumerate(num_cols[5:12]):\n",
    "    fig.add_trace(go.Histogram(x=ASD_pos[feat],histnorm='percent',\n",
    "                               name='ASD_pos', marker_color = 'purple'),\n",
    "                  row=j+1, col=2)\n",
    "    fig.add_trace(go.Histogram(x=ASD_neg[feat],histnorm='percent',\n",
    "                               name='ASD_neg', marker_color = 'salmon', opacity=0.85),\n",
    "                  row=j+1, col=2)\n",
    "    fig.update_layout(barmode='overlay')\n",
    "\n",
    "fig.update_layout(title=\" <b> Screening test score (A1- A10) <b>\",\n",
    "                  font_family=\"San Serif\",\n",
    "                  titlefont={'size': 24},\n",
    "                  width=900, height=1200,\n",
    "                  template='simple_white',\n",
    "                  showlegend=False,\n",
    "                  bargap=0.1,\n",
    "                  bargroupgap=0.1\n",
    "                  )\n",
    "\n",
    "fig.update_layout(barmode='group')\n",
    "fig.show()"
   ],
   "id": "80abfc8add3c07e4",
   "outputs": [
    {
     "data": {
      "application/vnd.plotly.v1+json": {
       "data": [],
       "layout": {
        "template": {
         "data": {
          "barpolar": [
           {
            "marker": {
             "line": {
              "color": "white",
              "width": 0.5
             },
             "pattern": {
              "fillmode": "overlay",
              "size": 10,
              "solidity": 0.2
             }
            },
            "type": "barpolar"
           }
          ],
          "bar": [
           {
            "error_x": {
             "color": "rgb(36,36,36)"
            },
            "error_y": {
             "color": "rgb(36,36,36)"
            },
            "marker": {
             "line": {
              "color": "white",
              "width": 0.5
             },
             "pattern": {
              "fillmode": "overlay",
              "size": 10,
              "solidity": 0.2
             }
            },
            "type": "bar"
           }
          ],
          "carpet": [
           {
            "aaxis": {
             "endlinecolor": "rgb(36,36,36)",
             "gridcolor": "white",
             "linecolor": "white",
             "minorgridcolor": "white",
             "startlinecolor": "rgb(36,36,36)"
            },
            "baxis": {
             "endlinecolor": "rgb(36,36,36)",
             "gridcolor": "white",
             "linecolor": "white",
             "minorgridcolor": "white",
             "startlinecolor": "rgb(36,36,36)"
            },
            "type": "carpet"
           }
          ],
          "choropleth": [
           {
            "colorbar": {
             "outlinewidth": 1,
             "tickcolor": "rgb(36,36,36)",
             "ticks": "outside"
            },
            "type": "choropleth"
           }
          ],
          "contourcarpet": [
           {
            "colorbar": {
             "outlinewidth": 1,
             "tickcolor": "rgb(36,36,36)",
             "ticks": "outside"
            },
            "type": "contourcarpet"
           }
          ],
          "contour": [
           {
            "colorbar": {
             "outlinewidth": 1,
             "tickcolor": "rgb(36,36,36)",
             "ticks": "outside"
            },
            "colorscale": [
             [
              0.0,
              "#440154"
             ],
             [
              0.1111111111111111,
              "#482878"
             ],
             [
              0.2222222222222222,
              "#3e4989"
             ],
             [
              0.3333333333333333,
              "#31688e"
             ],
             [
              0.4444444444444444,
              "#26828e"
             ],
             [
              0.5555555555555556,
              "#1f9e89"
             ],
             [
              0.6666666666666666,
              "#35b779"
             ],
             [
              0.7777777777777778,
              "#6ece58"
             ],
             [
              0.8888888888888888,
              "#b5de2b"
             ],
             [
              1.0,
              "#fde725"
             ]
            ],
            "type": "contour"
           }
          ],
          "heatmapgl": [
           {
            "colorbar": {
             "outlinewidth": 1,
             "tickcolor": "rgb(36,36,36)",
             "ticks": "outside"
            },
            "colorscale": [
             [
              0.0,
              "#440154"
             ],
             [
              0.1111111111111111,
              "#482878"
             ],
             [
              0.2222222222222222,
              "#3e4989"
             ],
             [
              0.3333333333333333,
              "#31688e"
             ],
             [
              0.4444444444444444,
              "#26828e"
             ],
             [
              0.5555555555555556,
              "#1f9e89"
             ],
             [
              0.6666666666666666,
              "#35b779"
             ],
             [
              0.7777777777777778,
              "#6ece58"
             ],
             [
              0.8888888888888888,
              "#b5de2b"
             ],
             [
              1.0,
              "#fde725"
             ]
            ],
            "type": "heatmapgl"
           }
          ],
          "heatmap": [
           {
            "colorbar": {
             "outlinewidth": 1,
             "tickcolor": "rgb(36,36,36)",
             "ticks": "outside"
            },
            "colorscale": [
             [
              0.0,
              "#440154"
             ],
             [
              0.1111111111111111,
              "#482878"
             ],
             [
              0.2222222222222222,
              "#3e4989"
             ],
             [
              0.3333333333333333,
              "#31688e"
             ],
             [
              0.4444444444444444,
              "#26828e"
             ],
             [
              0.5555555555555556,
              "#1f9e89"
             ],
             [
              0.6666666666666666,
              "#35b779"
             ],
             [
              0.7777777777777778,
              "#6ece58"
             ],
             [
              0.8888888888888888,
              "#b5de2b"
             ],
             [
              1.0,
              "#fde725"
             ]
            ],
            "type": "heatmap"
           }
          ],
          "histogram2dcontour": [
           {
            "colorbar": {
             "outlinewidth": 1,
             "tickcolor": "rgb(36,36,36)",
             "ticks": "outside"
            },
            "colorscale": [
             [
              0.0,
              "#440154"
             ],
             [
              0.1111111111111111,
              "#482878"
             ],
             [
              0.2222222222222222,
              "#3e4989"
             ],
             [
              0.3333333333333333,
              "#31688e"
             ],
             [
              0.4444444444444444,
              "#26828e"
             ],
             [
              0.5555555555555556,
              "#1f9e89"
             ],
             [
              0.6666666666666666,
              "#35b779"
             ],
             [
              0.7777777777777778,
              "#6ece58"
             ],
             [
              0.8888888888888888,
              "#b5de2b"
             ],
             [
              1.0,
              "#fde725"
             ]
            ],
            "type": "histogram2dcontour"
           }
          ],
          "histogram2d": [
           {
            "colorbar": {
             "outlinewidth": 1,
             "tickcolor": "rgb(36,36,36)",
             "ticks": "outside"
            },
            "colorscale": [
             [
              0.0,
              "#440154"
             ],
             [
              0.1111111111111111,
              "#482878"
             ],
             [
              0.2222222222222222,
              "#3e4989"
             ],
             [
              0.3333333333333333,
              "#31688e"
             ],
             [
              0.4444444444444444,
              "#26828e"
             ],
             [
              0.5555555555555556,
              "#1f9e89"
             ],
             [
              0.6666666666666666,
              "#35b779"
             ],
             [
              0.7777777777777778,
              "#6ece58"
             ],
             [
              0.8888888888888888,
              "#b5de2b"
             ],
             [
              1.0,
              "#fde725"
             ]
            ],
            "type": "histogram2d"
           }
          ],
          "histogram": [
           {
            "marker": {
             "line": {
              "color": "white",
              "width": 0.6
             }
            },
            "type": "histogram"
           }
          ],
          "mesh3d": [
           {
            "colorbar": {
             "outlinewidth": 1,
             "tickcolor": "rgb(36,36,36)",
             "ticks": "outside"
            },
            "type": "mesh3d"
           }
          ],
          "parcoords": [
           {
            "line": {
             "colorbar": {
              "outlinewidth": 1,
              "tickcolor": "rgb(36,36,36)",
              "ticks": "outside"
             }
            },
            "type": "parcoords"
           }
          ],
          "pie": [
           {
            "automargin": true,
            "type": "pie"
           }
          ],
          "scatter3d": [
           {
            "line": {
             "colorbar": {
              "outlinewidth": 1,
              "tickcolor": "rgb(36,36,36)",
              "ticks": "outside"
             }
            },
            "marker": {
             "colorbar": {
              "outlinewidth": 1,
              "tickcolor": "rgb(36,36,36)",
              "ticks": "outside"
             }
            },
            "type": "scatter3d"
           }
          ],
          "scattercarpet": [
           {
            "marker": {
             "colorbar": {
              "outlinewidth": 1,
              "tickcolor": "rgb(36,36,36)",
              "ticks": "outside"
             }
            },
            "type": "scattercarpet"
           }
          ],
          "scattergeo": [
           {
            "marker": {
             "colorbar": {
              "outlinewidth": 1,
              "tickcolor": "rgb(36,36,36)",
              "ticks": "outside"
             }
            },
            "type": "scattergeo"
           }
          ],
          "scattergl": [
           {
            "marker": {
             "colorbar": {
              "outlinewidth": 1,
              "tickcolor": "rgb(36,36,36)",
              "ticks": "outside"
             }
            },
            "type": "scattergl"
           }
          ],
          "scattermapbox": [
           {
            "marker": {
             "colorbar": {
              "outlinewidth": 1,
              "tickcolor": "rgb(36,36,36)",
              "ticks": "outside"
             }
            },
            "type": "scattermapbox"
           }
          ],
          "scatterpolargl": [
           {
            "marker": {
             "colorbar": {
              "outlinewidth": 1,
              "tickcolor": "rgb(36,36,36)",
              "ticks": "outside"
             }
            },
            "type": "scatterpolargl"
           }
          ],
          "scatterpolar": [
           {
            "marker": {
             "colorbar": {
              "outlinewidth": 1,
              "tickcolor": "rgb(36,36,36)",
              "ticks": "outside"
             }
            },
            "type": "scatterpolar"
           }
          ],
          "scatter": [
           {
            "fillpattern": {
             "fillmode": "overlay",
             "size": 10,
             "solidity": 0.2
            },
            "type": "scatter"
           }
          ],
          "scatterternary": [
           {
            "marker": {
             "colorbar": {
              "outlinewidth": 1,
              "tickcolor": "rgb(36,36,36)",
              "ticks": "outside"
             }
            },
            "type": "scatterternary"
           }
          ],
          "surface": [
           {
            "colorbar": {
             "outlinewidth": 1,
             "tickcolor": "rgb(36,36,36)",
             "ticks": "outside"
            },
            "colorscale": [
             [
              0.0,
              "#440154"
             ],
             [
              0.1111111111111111,
              "#482878"
             ],
             [
              0.2222222222222222,
              "#3e4989"
             ],
             [
              0.3333333333333333,
              "#31688e"
             ],
             [
              0.4444444444444444,
              "#26828e"
             ],
             [
              0.5555555555555556,
              "#1f9e89"
             ],
             [
              0.6666666666666666,
              "#35b779"
             ],
             [
              0.7777777777777778,
              "#6ece58"
             ],
             [
              0.8888888888888888,
              "#b5de2b"
             ],
             [
              1.0,
              "#fde725"
             ]
            ],
            "type": "surface"
           }
          ],
          "table": [
           {
            "cells": {
             "fill": {
              "color": "rgb(237,237,237)"
             },
             "line": {
              "color": "white"
             }
            },
            "header": {
             "fill": {
              "color": "rgb(217,217,217)"
             },
             "line": {
              "color": "white"
             }
            },
            "type": "table"
           }
          ]
         },
         "layout": {
          "annotationdefaults": {
           "arrowhead": 0,
           "arrowwidth": 1
          },
          "autotypenumbers": "strict",
          "coloraxis": {
           "colorbar": {
            "outlinewidth": 1,
            "tickcolor": "rgb(36,36,36)",
            "ticks": "outside"
           }
          },
          "colorscale": {
           "diverging": [
            [
             0.0,
             "rgb(103,0,31)"
            ],
            [
             0.1,
             "rgb(178,24,43)"
            ],
            [
             0.2,
             "rgb(214,96,77)"
            ],
            [
             0.3,
             "rgb(244,165,130)"
            ],
            [
             0.4,
             "rgb(253,219,199)"
            ],
            [
             0.5,
             "rgb(247,247,247)"
            ],
            [
             0.6,
             "rgb(209,229,240)"
            ],
            [
             0.7,
             "rgb(146,197,222)"
            ],
            [
             0.8,
             "rgb(67,147,195)"
            ],
            [
             0.9,
             "rgb(33,102,172)"
            ],
            [
             1.0,
             "rgb(5,48,97)"
            ]
           ],
           "sequential": [
            [
             0.0,
             "#440154"
            ],
            [
             0.1111111111111111,
             "#482878"
            ],
            [
             0.2222222222222222,
             "#3e4989"
            ],
            [
             0.3333333333333333,
             "#31688e"
            ],
            [
             0.4444444444444444,
             "#26828e"
            ],
            [
             0.5555555555555556,
             "#1f9e89"
            ],
            [
             0.6666666666666666,
             "#35b779"
            ],
            [
             0.7777777777777778,
             "#6ece58"
            ],
            [
             0.8888888888888888,
             "#b5de2b"
            ],
            [
             1.0,
             "#fde725"
            ]
           ],
           "sequentialminus": [
            [
             0.0,
             "#440154"
            ],
            [
             0.1111111111111111,
             "#482878"
            ],
            [
             0.2222222222222222,
             "#3e4989"
            ],
            [
             0.3333333333333333,
             "#31688e"
            ],
            [
             0.4444444444444444,
             "#26828e"
            ],
            [
             0.5555555555555556,
             "#1f9e89"
            ],
            [
             0.6666666666666666,
             "#35b779"
            ],
            [
             0.7777777777777778,
             "#6ece58"
            ],
            [
             0.8888888888888888,
             "#b5de2b"
            ],
            [
             1.0,
             "#fde725"
            ]
           ]
          },
          "colorway": [
           "#1F77B4",
           "#FF7F0E",
           "#2CA02C",
           "#D62728",
           "#9467BD",
           "#8C564B",
           "#E377C2",
           "#7F7F7F",
           "#BCBD22",
           "#17BECF"
          ],
          "font": {
           "color": "rgb(36,36,36)"
          },
          "geo": {
           "bgcolor": "white",
           "lakecolor": "white",
           "landcolor": "white",
           "showlakes": true,
           "showland": true,
           "subunitcolor": "white"
          },
          "hoverlabel": {
           "align": "left"
          },
          "hovermode": "closest",
          "mapbox": {
           "style": "light"
          },
          "paper_bgcolor": "white",
          "plot_bgcolor": "white",
          "polar": {
           "angularaxis": {
            "gridcolor": "rgb(232,232,232)",
            "linecolor": "rgb(36,36,36)",
            "showgrid": false,
            "showline": true,
            "ticks": "outside"
           },
           "bgcolor": "white",
           "radialaxis": {
            "gridcolor": "rgb(232,232,232)",
            "linecolor": "rgb(36,36,36)",
            "showgrid": false,
            "showline": true,
            "ticks": "outside"
           }
          },
          "scene": {
           "xaxis": {
            "backgroundcolor": "white",
            "gridcolor": "rgb(232,232,232)",
            "gridwidth": 2,
            "linecolor": "rgb(36,36,36)",
            "showbackground": true,
            "showgrid": false,
            "showline": true,
            "ticks": "outside",
            "zeroline": false,
            "zerolinecolor": "rgb(36,36,36)"
           },
           "yaxis": {
            "backgroundcolor": "white",
            "gridcolor": "rgb(232,232,232)",
            "gridwidth": 2,
            "linecolor": "rgb(36,36,36)",
            "showbackground": true,
            "showgrid": false,
            "showline": true,
            "ticks": "outside",
            "zeroline": false,
            "zerolinecolor": "rgb(36,36,36)"
           },
           "zaxis": {
            "backgroundcolor": "white",
            "gridcolor": "rgb(232,232,232)",
            "gridwidth": 2,
            "linecolor": "rgb(36,36,36)",
            "showbackground": true,
            "showgrid": false,
            "showline": true,
            "ticks": "outside",
            "zeroline": false,
            "zerolinecolor": "rgb(36,36,36)"
           }
          },
          "shapedefaults": {
           "fillcolor": "black",
           "line": {
            "width": 0
           },
           "opacity": 0.3
          },
          "ternary": {
           "aaxis": {
            "gridcolor": "rgb(232,232,232)",
            "linecolor": "rgb(36,36,36)",
            "showgrid": false,
            "showline": true,
            "ticks": "outside"
           },
           "baxis": {
            "gridcolor": "rgb(232,232,232)",
            "linecolor": "rgb(36,36,36)",
            "showgrid": false,
            "showline": true,
            "ticks": "outside"
           },
           "bgcolor": "white",
           "caxis": {
            "gridcolor": "rgb(232,232,232)",
            "linecolor": "rgb(36,36,36)",
            "showgrid": false,
            "showline": true,
            "ticks": "outside"
           }
          },
          "title": {
           "x": 0.05
          },
          "xaxis": {
           "automargin": true,
           "gridcolor": "rgb(232,232,232)",
           "linecolor": "rgb(36,36,36)",
           "showgrid": false,
           "showline": true,
           "ticks": "outside",
           "title": {
            "standoff": 15
           },
           "zeroline": false,
           "zerolinecolor": "rgb(36,36,36)"
          },
          "yaxis": {
           "automargin": true,
           "gridcolor": "rgb(232,232,232)",
           "linecolor": "rgb(36,36,36)",
           "showgrid": false,
           "showline": true,
           "ticks": "outside",
           "title": {
            "standoff": 15
           },
           "zeroline": false,
           "zerolinecolor": "rgb(36,36,36)"
          }
         }
        },
        "xaxis": {
         "anchor": "y",
         "domain": [
          0.0,
          0.45
         ]
        },
        "yaxis": {
         "anchor": "x",
         "domain": [
          0.88,
          1.0
         ]
        },
        "xaxis2": {
         "anchor": "y2",
         "domain": [
          0.55,
          1.0
         ]
        },
        "yaxis2": {
         "anchor": "x2",
         "domain": [
          0.88,
          1.0
         ]
        },
        "xaxis3": {
         "anchor": "y3",
         "domain": [
          0.0,
          0.45
         ]
        },
        "yaxis3": {
         "anchor": "x3",
         "domain": [
          0.66,
          0.78
         ]
        },
        "xaxis4": {
         "anchor": "y4",
         "domain": [
          0.55,
          1.0
         ]
        },
        "yaxis4": {
         "anchor": "x4",
         "domain": [
          0.66,
          0.78
         ]
        },
        "xaxis5": {
         "anchor": "y5",
         "domain": [
          0.0,
          0.45
         ]
        },
        "yaxis5": {
         "anchor": "x5",
         "domain": [
          0.44,
          0.56
         ]
        },
        "xaxis6": {
         "anchor": "y6",
         "domain": [
          0.55,
          1.0
         ]
        },
        "yaxis6": {
         "anchor": "x6",
         "domain": [
          0.44,
          0.56
         ]
        },
        "xaxis7": {
         "anchor": "y7",
         "domain": [
          0.0,
          0.45
         ]
        },
        "yaxis7": {
         "anchor": "x7",
         "domain": [
          0.22,
          0.33999999999999997
         ]
        },
        "xaxis8": {
         "anchor": "y8",
         "domain": [
          0.55,
          1.0
         ]
        },
        "yaxis8": {
         "anchor": "x8",
         "domain": [
          0.22,
          0.33999999999999997
         ]
        },
        "xaxis9": {
         "anchor": "y9",
         "domain": [
          0.0,
          0.45
         ]
        },
        "yaxis9": {
         "anchor": "x9",
         "domain": [
          0.0,
          0.12
         ]
        },
        "xaxis10": {
         "anchor": "y10",
         "domain": [
          0.55,
          1.0
         ]
        },
        "yaxis10": {
         "anchor": "x10",
         "domain": [
          0.0,
          0.12
         ]
        },
        "annotations": [
         {
          "font": {
           "size": 16
          },
          "showarrow": false,
          "text": "A1_Score",
          "x": 0.225,
          "xanchor": "center",
          "xref": "paper",
          "y": 1.0,
          "yanchor": "bottom",
          "yref": "paper"
         },
         {
          "font": {
           "size": 16
          },
          "showarrow": false,
          "text": "A6_Score",
          "x": 0.775,
          "xanchor": "center",
          "xref": "paper",
          "y": 1.0,
          "yanchor": "bottom",
          "yref": "paper"
         },
         {
          "font": {
           "size": 16
          },
          "showarrow": false,
          "text": "A2_Score",
          "x": 0.225,
          "xanchor": "center",
          "xref": "paper",
          "y": 0.78,
          "yanchor": "bottom",
          "yref": "paper"
         },
         {
          "font": {
           "size": 16
          },
          "showarrow": false,
          "text": "A7_Score",
          "x": 0.775,
          "xanchor": "center",
          "xref": "paper",
          "y": 0.78,
          "yanchor": "bottom",
          "yref": "paper"
         },
         {
          "font": {
           "size": 16
          },
          "showarrow": false,
          "text": "A3_Score",
          "x": 0.225,
          "xanchor": "center",
          "xref": "paper",
          "y": 0.56,
          "yanchor": "bottom",
          "yref": "paper"
         },
         {
          "font": {
           "size": 16
          },
          "showarrow": false,
          "text": "A8_Score",
          "x": 0.775,
          "xanchor": "center",
          "xref": "paper",
          "y": 0.56,
          "yanchor": "bottom",
          "yref": "paper"
         },
         {
          "font": {
           "size": 16
          },
          "showarrow": false,
          "text": "A4_Score",
          "x": 0.225,
          "xanchor": "center",
          "xref": "paper",
          "y": 0.33999999999999997,
          "yanchor": "bottom",
          "yref": "paper"
         },
         {
          "font": {
           "size": 16
          },
          "showarrow": false,
          "text": "A9_Score",
          "x": 0.775,
          "xanchor": "center",
          "xref": "paper",
          "y": 0.33999999999999997,
          "yanchor": "bottom",
          "yref": "paper"
         },
         {
          "font": {
           "size": 16
          },
          "showarrow": false,
          "text": "A5_Score",
          "x": 0.225,
          "xanchor": "center",
          "xref": "paper",
          "y": 0.12,
          "yanchor": "bottom",
          "yref": "paper"
         },
         {
          "font": {
           "size": 16
          },
          "showarrow": false,
          "text": "A10_Score",
          "x": 0.775,
          "xanchor": "center",
          "xref": "paper",
          "y": 0.12,
          "yanchor": "bottom",
          "yref": "paper"
         }
        ],
        "font": {
         "family": "San Serif"
        },
        "title": {
         "text": " <b> Screening test score (A1- A10) <b>",
         "font": {
          "size": 24
         }
        },
        "width": 900,
        "height": 1200,
        "showlegend": false,
        "bargap": 0.1,
        "bargroupgap": 0.1,
        "barmode": "group"
       },
       "config": {
        "plotlyServerURL": "https://plot.ly"
       }
      },
      "text/html": [
       "<div>                            <div id=\"1ed7fdb6-6c29-4a7f-babe-ec17d34e74ef\" class=\"plotly-graph-div\" style=\"height:1200px; width:900px;\"></div>            <script type=\"text/javascript\">                require([\"plotly\"], function(Plotly) {                    window.PLOTLYENV=window.PLOTLYENV || {};                                    if (document.getElementById(\"1ed7fdb6-6c29-4a7f-babe-ec17d34e74ef\")) {                    Plotly.newPlot(                        \"1ed7fdb6-6c29-4a7f-babe-ec17d34e74ef\",                        [],                        {\"template\":{\"data\":{\"barpolar\":[{\"marker\":{\"line\":{\"color\":\"white\",\"width\":0.5},\"pattern\":{\"fillmode\":\"overlay\",\"size\":10,\"solidity\":0.2}},\"type\":\"barpolar\"}],\"bar\":[{\"error_x\":{\"color\":\"rgb(36,36,36)\"},\"error_y\":{\"color\":\"rgb(36,36,36)\"},\"marker\":{\"line\":{\"color\":\"white\",\"width\":0.5},\"pattern\":{\"fillmode\":\"overlay\",\"size\":10,\"solidity\":0.2}},\"type\":\"bar\"}],\"carpet\":[{\"aaxis\":{\"endlinecolor\":\"rgb(36,36,36)\",\"gridcolor\":\"white\",\"linecolor\":\"white\",\"minorgridcolor\":\"white\",\"startlinecolor\":\"rgb(36,36,36)\"},\"baxis\":{\"endlinecolor\":\"rgb(36,36,36)\",\"gridcolor\":\"white\",\"linecolor\":\"white\",\"minorgridcolor\":\"white\",\"startlinecolor\":\"rgb(36,36,36)\"},\"type\":\"carpet\"}],\"choropleth\":[{\"colorbar\":{\"outlinewidth\":1,\"tickcolor\":\"rgb(36,36,36)\",\"ticks\":\"outside\"},\"type\":\"choropleth\"}],\"contourcarpet\":[{\"colorbar\":{\"outlinewidth\":1,\"tickcolor\":\"rgb(36,36,36)\",\"ticks\":\"outside\"},\"type\":\"contourcarpet\"}],\"contour\":[{\"colorbar\":{\"outlinewidth\":1,\"tickcolor\":\"rgb(36,36,36)\",\"ticks\":\"outside\"},\"colorscale\":[[0.0,\"#440154\"],[0.1111111111111111,\"#482878\"],[0.2222222222222222,\"#3e4989\"],[0.3333333333333333,\"#31688e\"],[0.4444444444444444,\"#26828e\"],[0.5555555555555556,\"#1f9e89\"],[0.6666666666666666,\"#35b779\"],[0.7777777777777778,\"#6ece58\"],[0.8888888888888888,\"#b5de2b\"],[1.0,\"#fde725\"]],\"type\":\"contour\"}],\"heatmapgl\":[{\"colorbar\":{\"outlinewidth\":1,\"tickcolor\":\"rgb(36,36,36)\",\"ticks\":\"outside\"},\"colorscale\":[[0.0,\"#440154\"],[0.1111111111111111,\"#482878\"],[0.2222222222222222,\"#3e4989\"],[0.3333333333333333,\"#31688e\"],[0.4444444444444444,\"#26828e\"],[0.5555555555555556,\"#1f9e89\"],[0.6666666666666666,\"#35b779\"],[0.7777777777777778,\"#6ece58\"],[0.8888888888888888,\"#b5de2b\"],[1.0,\"#fde725\"]],\"type\":\"heatmapgl\"}],\"heatmap\":[{\"colorbar\":{\"outlinewidth\":1,\"tickcolor\":\"rgb(36,36,36)\",\"ticks\":\"outside\"},\"colorscale\":[[0.0,\"#440154\"],[0.1111111111111111,\"#482878\"],[0.2222222222222222,\"#3e4989\"],[0.3333333333333333,\"#31688e\"],[0.4444444444444444,\"#26828e\"],[0.5555555555555556,\"#1f9e89\"],[0.6666666666666666,\"#35b779\"],[0.7777777777777778,\"#6ece58\"],[0.8888888888888888,\"#b5de2b\"],[1.0,\"#fde725\"]],\"type\":\"heatmap\"}],\"histogram2dcontour\":[{\"colorbar\":{\"outlinewidth\":1,\"tickcolor\":\"rgb(36,36,36)\",\"ticks\":\"outside\"},\"colorscale\":[[0.0,\"#440154\"],[0.1111111111111111,\"#482878\"],[0.2222222222222222,\"#3e4989\"],[0.3333333333333333,\"#31688e\"],[0.4444444444444444,\"#26828e\"],[0.5555555555555556,\"#1f9e89\"],[0.6666666666666666,\"#35b779\"],[0.7777777777777778,\"#6ece58\"],[0.8888888888888888,\"#b5de2b\"],[1.0,\"#fde725\"]],\"type\":\"histogram2dcontour\"}],\"histogram2d\":[{\"colorbar\":{\"outlinewidth\":1,\"tickcolor\":\"rgb(36,36,36)\",\"ticks\":\"outside\"},\"colorscale\":[[0.0,\"#440154\"],[0.1111111111111111,\"#482878\"],[0.2222222222222222,\"#3e4989\"],[0.3333333333333333,\"#31688e\"],[0.4444444444444444,\"#26828e\"],[0.5555555555555556,\"#1f9e89\"],[0.6666666666666666,\"#35b779\"],[0.7777777777777778,\"#6ece58\"],[0.8888888888888888,\"#b5de2b\"],[1.0,\"#fde725\"]],\"type\":\"histogram2d\"}],\"histogram\":[{\"marker\":{\"line\":{\"color\":\"white\",\"width\":0.6}},\"type\":\"histogram\"}],\"mesh3d\":[{\"colorbar\":{\"outlinewidth\":1,\"tickcolor\":\"rgb(36,36,36)\",\"ticks\":\"outside\"},\"type\":\"mesh3d\"}],\"parcoords\":[{\"line\":{\"colorbar\":{\"outlinewidth\":1,\"tickcolor\":\"rgb(36,36,36)\",\"ticks\":\"outside\"}},\"type\":\"parcoords\"}],\"pie\":[{\"automargin\":true,\"type\":\"pie\"}],\"scatter3d\":[{\"line\":{\"colorbar\":{\"outlinewidth\":1,\"tickcolor\":\"rgb(36,36,36)\",\"ticks\":\"outside\"}},\"marker\":{\"colorbar\":{\"outlinewidth\":1,\"tickcolor\":\"rgb(36,36,36)\",\"ticks\":\"outside\"}},\"type\":\"scatter3d\"}],\"scattercarpet\":[{\"marker\":{\"colorbar\":{\"outlinewidth\":1,\"tickcolor\":\"rgb(36,36,36)\",\"ticks\":\"outside\"}},\"type\":\"scattercarpet\"}],\"scattergeo\":[{\"marker\":{\"colorbar\":{\"outlinewidth\":1,\"tickcolor\":\"rgb(36,36,36)\",\"ticks\":\"outside\"}},\"type\":\"scattergeo\"}],\"scattergl\":[{\"marker\":{\"colorbar\":{\"outlinewidth\":1,\"tickcolor\":\"rgb(36,36,36)\",\"ticks\":\"outside\"}},\"type\":\"scattergl\"}],\"scattermapbox\":[{\"marker\":{\"colorbar\":{\"outlinewidth\":1,\"tickcolor\":\"rgb(36,36,36)\",\"ticks\":\"outside\"}},\"type\":\"scattermapbox\"}],\"scatterpolargl\":[{\"marker\":{\"colorbar\":{\"outlinewidth\":1,\"tickcolor\":\"rgb(36,36,36)\",\"ticks\":\"outside\"}},\"type\":\"scatterpolargl\"}],\"scatterpolar\":[{\"marker\":{\"colorbar\":{\"outlinewidth\":1,\"tickcolor\":\"rgb(36,36,36)\",\"ticks\":\"outside\"}},\"type\":\"scatterpolar\"}],\"scatter\":[{\"fillpattern\":{\"fillmode\":\"overlay\",\"size\":10,\"solidity\":0.2},\"type\":\"scatter\"}],\"scatterternary\":[{\"marker\":{\"colorbar\":{\"outlinewidth\":1,\"tickcolor\":\"rgb(36,36,36)\",\"ticks\":\"outside\"}},\"type\":\"scatterternary\"}],\"surface\":[{\"colorbar\":{\"outlinewidth\":1,\"tickcolor\":\"rgb(36,36,36)\",\"ticks\":\"outside\"},\"colorscale\":[[0.0,\"#440154\"],[0.1111111111111111,\"#482878\"],[0.2222222222222222,\"#3e4989\"],[0.3333333333333333,\"#31688e\"],[0.4444444444444444,\"#26828e\"],[0.5555555555555556,\"#1f9e89\"],[0.6666666666666666,\"#35b779\"],[0.7777777777777778,\"#6ece58\"],[0.8888888888888888,\"#b5de2b\"],[1.0,\"#fde725\"]],\"type\":\"surface\"}],\"table\":[{\"cells\":{\"fill\":{\"color\":\"rgb(237,237,237)\"},\"line\":{\"color\":\"white\"}},\"header\":{\"fill\":{\"color\":\"rgb(217,217,217)\"},\"line\":{\"color\":\"white\"}},\"type\":\"table\"}]},\"layout\":{\"annotationdefaults\":{\"arrowhead\":0,\"arrowwidth\":1},\"autotypenumbers\":\"strict\",\"coloraxis\":{\"colorbar\":{\"outlinewidth\":1,\"tickcolor\":\"rgb(36,36,36)\",\"ticks\":\"outside\"}},\"colorscale\":{\"diverging\":[[0.0,\"rgb(103,0,31)\"],[0.1,\"rgb(178,24,43)\"],[0.2,\"rgb(214,96,77)\"],[0.3,\"rgb(244,165,130)\"],[0.4,\"rgb(253,219,199)\"],[0.5,\"rgb(247,247,247)\"],[0.6,\"rgb(209,229,240)\"],[0.7,\"rgb(146,197,222)\"],[0.8,\"rgb(67,147,195)\"],[0.9,\"rgb(33,102,172)\"],[1.0,\"rgb(5,48,97)\"]],\"sequential\":[[0.0,\"#440154\"],[0.1111111111111111,\"#482878\"],[0.2222222222222222,\"#3e4989\"],[0.3333333333333333,\"#31688e\"],[0.4444444444444444,\"#26828e\"],[0.5555555555555556,\"#1f9e89\"],[0.6666666666666666,\"#35b779\"],[0.7777777777777778,\"#6ece58\"],[0.8888888888888888,\"#b5de2b\"],[1.0,\"#fde725\"]],\"sequentialminus\":[[0.0,\"#440154\"],[0.1111111111111111,\"#482878\"],[0.2222222222222222,\"#3e4989\"],[0.3333333333333333,\"#31688e\"],[0.4444444444444444,\"#26828e\"],[0.5555555555555556,\"#1f9e89\"],[0.6666666666666666,\"#35b779\"],[0.7777777777777778,\"#6ece58\"],[0.8888888888888888,\"#b5de2b\"],[1.0,\"#fde725\"]]},\"colorway\":[\"#1F77B4\",\"#FF7F0E\",\"#2CA02C\",\"#D62728\",\"#9467BD\",\"#8C564B\",\"#E377C2\",\"#7F7F7F\",\"#BCBD22\",\"#17BECF\"],\"font\":{\"color\":\"rgb(36,36,36)\"},\"geo\":{\"bgcolor\":\"white\",\"lakecolor\":\"white\",\"landcolor\":\"white\",\"showlakes\":true,\"showland\":true,\"subunitcolor\":\"white\"},\"hoverlabel\":{\"align\":\"left\"},\"hovermode\":\"closest\",\"mapbox\":{\"style\":\"light\"},\"paper_bgcolor\":\"white\",\"plot_bgcolor\":\"white\",\"polar\":{\"angularaxis\":{\"gridcolor\":\"rgb(232,232,232)\",\"linecolor\":\"rgb(36,36,36)\",\"showgrid\":false,\"showline\":true,\"ticks\":\"outside\"},\"bgcolor\":\"white\",\"radialaxis\":{\"gridcolor\":\"rgb(232,232,232)\",\"linecolor\":\"rgb(36,36,36)\",\"showgrid\":false,\"showline\":true,\"ticks\":\"outside\"}},\"scene\":{\"xaxis\":{\"backgroundcolor\":\"white\",\"gridcolor\":\"rgb(232,232,232)\",\"gridwidth\":2,\"linecolor\":\"rgb(36,36,36)\",\"showbackground\":true,\"showgrid\":false,\"showline\":true,\"ticks\":\"outside\",\"zeroline\":false,\"zerolinecolor\":\"rgb(36,36,36)\"},\"yaxis\":{\"backgroundcolor\":\"white\",\"gridcolor\":\"rgb(232,232,232)\",\"gridwidth\":2,\"linecolor\":\"rgb(36,36,36)\",\"showbackground\":true,\"showgrid\":false,\"showline\":true,\"ticks\":\"outside\",\"zeroline\":false,\"zerolinecolor\":\"rgb(36,36,36)\"},\"zaxis\":{\"backgroundcolor\":\"white\",\"gridcolor\":\"rgb(232,232,232)\",\"gridwidth\":2,\"linecolor\":\"rgb(36,36,36)\",\"showbackground\":true,\"showgrid\":false,\"showline\":true,\"ticks\":\"outside\",\"zeroline\":false,\"zerolinecolor\":\"rgb(36,36,36)\"}},\"shapedefaults\":{\"fillcolor\":\"black\",\"line\":{\"width\":0},\"opacity\":0.3},\"ternary\":{\"aaxis\":{\"gridcolor\":\"rgb(232,232,232)\",\"linecolor\":\"rgb(36,36,36)\",\"showgrid\":false,\"showline\":true,\"ticks\":\"outside\"},\"baxis\":{\"gridcolor\":\"rgb(232,232,232)\",\"linecolor\":\"rgb(36,36,36)\",\"showgrid\":false,\"showline\":true,\"ticks\":\"outside\"},\"bgcolor\":\"white\",\"caxis\":{\"gridcolor\":\"rgb(232,232,232)\",\"linecolor\":\"rgb(36,36,36)\",\"showgrid\":false,\"showline\":true,\"ticks\":\"outside\"}},\"title\":{\"x\":0.05},\"xaxis\":{\"automargin\":true,\"gridcolor\":\"rgb(232,232,232)\",\"linecolor\":\"rgb(36,36,36)\",\"showgrid\":false,\"showline\":true,\"ticks\":\"outside\",\"title\":{\"standoff\":15},\"zeroline\":false,\"zerolinecolor\":\"rgb(36,36,36)\"},\"yaxis\":{\"automargin\":true,\"gridcolor\":\"rgb(232,232,232)\",\"linecolor\":\"rgb(36,36,36)\",\"showgrid\":false,\"showline\":true,\"ticks\":\"outside\",\"title\":{\"standoff\":15},\"zeroline\":false,\"zerolinecolor\":\"rgb(36,36,36)\"}}},\"xaxis\":{\"anchor\":\"y\",\"domain\":[0.0,0.45]},\"yaxis\":{\"anchor\":\"x\",\"domain\":[0.88,1.0]},\"xaxis2\":{\"anchor\":\"y2\",\"domain\":[0.55,1.0]},\"yaxis2\":{\"anchor\":\"x2\",\"domain\":[0.88,1.0]},\"xaxis3\":{\"anchor\":\"y3\",\"domain\":[0.0,0.45]},\"yaxis3\":{\"anchor\":\"x3\",\"domain\":[0.66,0.78]},\"xaxis4\":{\"anchor\":\"y4\",\"domain\":[0.55,1.0]},\"yaxis4\":{\"anchor\":\"x4\",\"domain\":[0.66,0.78]},\"xaxis5\":{\"anchor\":\"y5\",\"domain\":[0.0,0.45]},\"yaxis5\":{\"anchor\":\"x5\",\"domain\":[0.44,0.56]},\"xaxis6\":{\"anchor\":\"y6\",\"domain\":[0.55,1.0]},\"yaxis6\":{\"anchor\":\"x6\",\"domain\":[0.44,0.56]},\"xaxis7\":{\"anchor\":\"y7\",\"domain\":[0.0,0.45]},\"yaxis7\":{\"anchor\":\"x7\",\"domain\":[0.22,0.33999999999999997]},\"xaxis8\":{\"anchor\":\"y8\",\"domain\":[0.55,1.0]},\"yaxis8\":{\"anchor\":\"x8\",\"domain\":[0.22,0.33999999999999997]},\"xaxis9\":{\"anchor\":\"y9\",\"domain\":[0.0,0.45]},\"yaxis9\":{\"anchor\":\"x9\",\"domain\":[0.0,0.12]},\"xaxis10\":{\"anchor\":\"y10\",\"domain\":[0.55,1.0]},\"yaxis10\":{\"anchor\":\"x10\",\"domain\":[0.0,0.12]},\"annotations\":[{\"font\":{\"size\":16},\"showarrow\":false,\"text\":\"A1_Score\",\"x\":0.225,\"xanchor\":\"center\",\"xref\":\"paper\",\"y\":1.0,\"yanchor\":\"bottom\",\"yref\":\"paper\"},{\"font\":{\"size\":16},\"showarrow\":false,\"text\":\"A6_Score\",\"x\":0.775,\"xanchor\":\"center\",\"xref\":\"paper\",\"y\":1.0,\"yanchor\":\"bottom\",\"yref\":\"paper\"},{\"font\":{\"size\":16},\"showarrow\":false,\"text\":\"A2_Score\",\"x\":0.225,\"xanchor\":\"center\",\"xref\":\"paper\",\"y\":0.78,\"yanchor\":\"bottom\",\"yref\":\"paper\"},{\"font\":{\"size\":16},\"showarrow\":false,\"text\":\"A7_Score\",\"x\":0.775,\"xanchor\":\"center\",\"xref\":\"paper\",\"y\":0.78,\"yanchor\":\"bottom\",\"yref\":\"paper\"},{\"font\":{\"size\":16},\"showarrow\":false,\"text\":\"A3_Score\",\"x\":0.225,\"xanchor\":\"center\",\"xref\":\"paper\",\"y\":0.56,\"yanchor\":\"bottom\",\"yref\":\"paper\"},{\"font\":{\"size\":16},\"showarrow\":false,\"text\":\"A8_Score\",\"x\":0.775,\"xanchor\":\"center\",\"xref\":\"paper\",\"y\":0.56,\"yanchor\":\"bottom\",\"yref\":\"paper\"},{\"font\":{\"size\":16},\"showarrow\":false,\"text\":\"A4_Score\",\"x\":0.225,\"xanchor\":\"center\",\"xref\":\"paper\",\"y\":0.33999999999999997,\"yanchor\":\"bottom\",\"yref\":\"paper\"},{\"font\":{\"size\":16},\"showarrow\":false,\"text\":\"A9_Score\",\"x\":0.775,\"xanchor\":\"center\",\"xref\":\"paper\",\"y\":0.33999999999999997,\"yanchor\":\"bottom\",\"yref\":\"paper\"},{\"font\":{\"size\":16},\"showarrow\":false,\"text\":\"A5_Score\",\"x\":0.225,\"xanchor\":\"center\",\"xref\":\"paper\",\"y\":0.12,\"yanchor\":\"bottom\",\"yref\":\"paper\"},{\"font\":{\"size\":16},\"showarrow\":false,\"text\":\"A10_Score\",\"x\":0.775,\"xanchor\":\"center\",\"xref\":\"paper\",\"y\":0.12,\"yanchor\":\"bottom\",\"yref\":\"paper\"}],\"font\":{\"family\":\"San Serif\"},\"title\":{\"text\":\" <b> Screening test score (A1- A10) <b>\",\"font\":{\"size\":24}},\"width\":900,\"height\":1200,\"showlegend\":false,\"bargap\":0.1,\"bargroupgap\":0.1,\"barmode\":\"group\"},                        {\"responsive\": true}                    ).then(function(){\n",
       "                            \n",
       "var gd = document.getElementById('1ed7fdb6-6c29-4a7f-babe-ec17d34e74ef');\n",
       "var x = new MutationObserver(function (mutations, observer) {{\n",
       "        var display = window.getComputedStyle(gd).display;\n",
       "        if (!display || display === 'none') {{\n",
       "            console.log([gd, 'removed!']);\n",
       "            Plotly.purge(gd);\n",
       "            observer.disconnect();\n",
       "        }}\n",
       "}});\n",
       "\n",
       "// Listen for the removal of the full notebook cells\n",
       "var notebookContainer = gd.closest('#notebook-container');\n",
       "if (notebookContainer) {{\n",
       "    x.observe(notebookContainer, {childList: true});\n",
       "}}\n",
       "\n",
       "// Listen for the clearing of the current output cell\n",
       "var outputEl = gd.closest('.output');\n",
       "if (outputEl) {{\n",
       "    x.observe(outputEl, {childList: true});\n",
       "}}\n",
       "\n",
       "                        })                };                });            </script>        </div>"
      ]
     },
     "metadata": {},
     "output_type": "display_data"
    }
   ],
   "execution_count": 49
  },
  {
   "metadata": {},
   "cell_type": "markdown",
   "source": "![scores](img/imgfull.png)",
   "id": "c7d40781d4aaf5c7"
  },
  {
   "metadata": {},
   "cell_type": "markdown",
   "source": [
    "### Tarama Testi Sonucu\n",
    "- ASD_negatif vakalar için tarama testi puanı sonuçları, ortalama değeri yaklaşık 6 olan normal dağılıma sahip görünüyor.\n",
    "- ASD_pozitif vakalar için dağılım sola çarpıktır ve ortalama değeri 10.5'tir.\n",
    "- Not: Daha yüksek QA test puanı, ASD_pozitif olma olasılığının daha yüksek olduğunu gösterir."
   ],
   "id": "11ca7e2524785b05"
  },
  {
   "metadata": {
    "ExecuteTime": {
     "end_time": "2024-05-30T18:51:42.941796Z",
     "start_time": "2024-05-30T18:51:42.886770Z"
    }
   },
   "cell_type": "code",
   "source": [
    "ASD_pos_result = train[train['Class/ASD'] == 1]['result']\n",
    "ASD_neg_result = train[train['Class/ASD'] == 0]['result']\n",
    "\n",
    "fig = go.Figure()\n",
    "fig.add_trace(go.Violin(x=ASD_pos_result, line_color='lightseagreen', name='ASD_positive', y0=0))\n",
    "fig.add_trace(go.Violin(x=ASD_neg_result, line_color='red', name= 'ASD_negative', y0=0))\n",
    "\n",
    "fig.update_traces(orientation='h', side='positive', meanline_visible=True)\n",
    "fig.update_layout(xaxis_showgrid=False, xaxis_zeroline=False)\n",
    "\n",
    "fig.update_layout(title='<b> Screening test result distribution (QA1-10) <b>',\n",
    "                  font_family=\"San Serif\",\n",
    "                  xaxis_title='Result',\n",
    "                  titlefont={'size': 20},\n",
    "                  width=600,\n",
    "                  height=400,\n",
    "                  template=\"simple_white\",\n",
    "                  showlegend=True,\n",
    "                  )\n",
    "fig.update_yaxes(showgrid=False, showline=False, showticklabels=False)\n",
    "fig.show()"
   ],
   "id": "9f72bdad7b49c26e",
   "outputs": [
    {
     "data": {
      "application/vnd.plotly.v1+json": {
       "data": [
        {
         "line": {
          "color": "lightseagreen"
         },
         "name": "ASD_positive",
         "x": [
          13.1675062,
          11.90246137,
          8.633346443999999,
          12.81112483,
          2.983511434,
          13.24903914,
          5.553657029,
          5.388901885,
          12.66041654,
          13.25243282,
          10.40867918,
          2.25190921,
          10.07775141,
          10.340678,
          10.54503923,
          12.88664935,
          12.60656763,
          6.214286274,
          10.03619864,
          6.581864991000001,
          12.69293695,
          8.07013112,
          10.70238151,
          13.32706355,
          12.70479673,
          12.48470147,
          12.62577922,
          11.37187551,
          11.46899443,
          8.509552181,
          13.25738119,
          9.631162929,
          12.62889495,
          9.640370415,
          12.26593849,
          8.261758002,
          8.904978493,
          7.941886935,
          9.628453432,
          13.27453963,
          8.390241629,
          8.553977332999999,
          10.19382235,
          6.460316172000001,
          11.44296624,
          13.38671243,
          6.891238655,
          11.89953146,
          6.710785772,
          12.09403623,
          4.008542171,
          6.564945194,
          9.304044275,
          10.81288329,
          13.20920533,
          5.920914216,
          11.40019063,
          4.1047181010000005,
          7.051900091,
          11.81090159,
          8.27323597,
          8.560372176,
          9.948601004,
          13.08977496,
          12.09716243,
          11.57253963,
          9.651752567,
          12.28760237,
          12.91535092,
          12.10215808,
          9.629531019,
          13.27367122,
          9.444737892,
          13.36258928,
          12.63225658,
          12.30776422,
          13.2763215,
          11.36037509,
          10.71969383,
          7.253067162000001,
          0.24570513,
          7.663374848999999,
          13.20735144,
          4.092610809,
          2.020266979,
          3.184134702,
          5.273476284,
          13.04895122,
          12.27861528,
          13.23101706,
          9.415300732,
          13.183806699999998,
          13.24973082,
          5.106865272,
          12.69722854,
          13.072258,
          12.81794677,
          7.690646922000001,
          10.55592026,
          7.310344773,
          9.481148679,
          12.22045421,
          12.38114961,
          9.601139453,
          12.95596589,
          11.64561512,
          9.485197553,
          12.21654553,
          12.68886365,
          12.55137788,
          11.43269455,
          12.20785986,
          13.10683218,
          11.06965621,
          12.90378653,
          7.007598776,
          12.55470746,
          13.30546091,
          12.16208237,
          11.02925089,
          13.3470969,
          9.704232363,
          9.212422768,
          12.50596588,
          10.12069538,
          13.10280362,
          9.787006383,
          6.42437464,
          12.67898436,
          12.77857904,
          12.29586985,
          9.205064641,
          13.04400888,
          12.644913699999998,
          9.500792744,
          7.36682023,
          11.4434956,
          7.829824786,
          12.24371017,
          12.78373492,
          13.32200826,
          9.008934607,
          10.20781396,
          13.19516422,
          9.642188369,
          11.68465468,
          12.858418,
          8.54195461,
          11.24167701,
          13.12453857,
          10.67377402,
          12.58481841,
          12.23598858,
          11.85101145,
          12.66673146,
          11.8484224,
          12.89314417,
          12.86200491,
          9.590124513,
          11.28121048,
          13.06573621,
          1.900813399,
          5.940763008999999,
          12.08646347,
          12.69487778,
          13.18758905,
          9.345115604,
          9.886209523,
          1.990277974,
          12.21641163,
          12.99063558,
          10.50155882,
          11.96038573,
          9.472175772,
          12.00896778,
          13.24206967,
          11.48566321,
          7.445830332000001,
          9.685235692,
          13.21578899,
          13.30593843,
          13.34315242,
          12.77838613,
          13.3908679,
          6.80550928
         ],
         "y0": 0,
         "type": "violin",
         "meanline": {
          "visible": true
         },
         "orientation": "h",
         "side": "positive"
        },
        {
         "line": {
          "color": "red"
         },
         "name": "ASD_negative",
         "x": [
          7.819715187000001,
          10.54429644,
          1.5300976819999998,
          7.949722607000001,
          7.445003289,
          12.59858317,
          3.5257200560000004,
          1.015305534,
          5.439973417,
          6.057170377,
          6.347515321,
          6.858826004,
          1.573960341,
          4.426813229,
          7.822974767000001,
          1.418385496,
          4.791004268,
          6.602036821,
          8.843999341,
          9.516903607,
          2.899589804,
          4.950485754,
          6.6242026570000005,
          0.657363734,
          3.413026832,
          10.08048811,
          5.644474047999999,
          4.631590733,
          1.540616969,
          7.073171612,
          12.84156099,
          3.855358769,
          7.871215677999999,
          9.784631775,
          4.975028787,
          4.691590642,
          6.396593911,
          5.709313009,
          6.534879168,
          8.709428864,
          8.335489926000001,
          11.28614543,
          3.705601706,
          0.286266851,
          6.594542137,
          7.825169567,
          9.646207259,
          7.209593787999999,
          12.56780339,
          8.153973354,
          7.232900229,
          9.811655578,
          4.070286041,
          4.669019897,
          7.448004589,
          7.840968847,
          9.766300148,
          9.54909141,
          8.933598665,
          9.76324347,
          3.732497665,
          -2.594654288,
          13.23949205,
          3.614902134,
          9.750764191,
          12.76442307,
          10.05862243,
          5.224989407,
          1.99710083,
          4.793345886,
          4.417103419,
          5.013694417,
          4.606360182,
          4.695521319,
          9.937854231,
          3.878289078,
          5.071976366,
          -0.650589998,
          5.06611889,
          12.25208458,
          6.115176125,
          7.566585883999999,
          3.2698261260000003,
          6.284792344,
          10.83261719,
          5.095273997,
          7.841211971,
          4.941242446,
          4.998445063999999,
          10.94097596,
          5.578162197999999,
          2.620210131,
          5.344506477,
          3.430217985,
          7.296902543,
          4.449269716,
          -1.212396333,
          6.3009210520000005,
          4.396275519,
          3.224013563,
          9.260484285,
          4.783945805,
          5.798850311,
          12.93862184,
          4.385270593,
          9.159208904,
          6.703483003,
          5.2247893030000006,
          2.820220928,
          11.17609738,
          4.750577945,
          4.908919455,
          3.903968223,
          6.045432109,
          1.308156877,
          4.528126639,
          6.321999645,
          7.175613886,
          10.93789702,
          7.260661647999999,
          9.436401795,
          4.525843437,
          7.160638033,
          11.11568277,
          5.615052675,
          9.818735624,
          4.820591224,
          4.522125675,
          11.88115013,
          7.378649836,
          12.22051412,
          4.614599813,
          5.103677971000001,
          7.308089374,
          5.325614476,
          5.570278987999999,
          2.11659871,
          8.02232221,
          7.318053842,
          2.375430861,
          3.744542993,
          11.37321626,
          4.869798393,
          4.7059549480000005,
          6.385142744,
          8.453439218,
          1.199615665,
          4.566825697,
          10.58500677,
          5.692644158999999,
          8.376743889,
          5.858026532,
          9.190435762,
          6.301266432,
          9.22865554,
          4.504274878,
          4.913809832,
          4.998207109,
          10.71734934,
          7.468901184,
          7.223873082999999,
          8.75744368,
          10.83012283,
          3.489950937,
          -0.396712075,
          6.044276636,
          7.536001517000001,
          1.273605895,
          6.46369743,
          1.917302604,
          5.550252112999999,
          3.205580177,
          0.581144869,
          5.477293457000001,
          12.14966009,
          6.819458362000001,
          5.107056609,
          7.925329707,
          5.033162205,
          2.574220803,
          6.372565465,
          0.491429912,
          4.684938463,
          6.8528330120000005,
          8.482545581,
          4.682341003,
          9.813100169,
          12.31885744,
          9.783101189,
          7.03454204,
          7.065567751000001,
          9.270989784,
          0.334146871,
          11.78183686,
          7.021983864,
          9.196799364,
          4.276302029,
          0.0678696209999999,
          5.4058913660000005,
          10.36395382,
          8.05311575,
          6.302734927,
          6.468329718,
          7.779740928,
          5.005139466,
          5.301532,
          4.953441874,
          4.212151999,
          4.767911,
          12.33754963,
          3.0433170210000005,
          7.7594656,
          6.448077267,
          8.739162812,
          6.777451027000001,
          6.152681826,
          3.52634494,
          9.620736344,
          2.386216264,
          7.290158394,
          0.63630177,
          12.05446259,
          11.703504,
          8.791906377,
          12.26234366,
          -0.5241321320000001,
          4.298842076000001,
          1.907108929,
          5.752815448,
          6.536817286000001,
          1.927369175,
          5.224401384,
          6.033449076,
          7.868742072000001,
          3.349251469,
          11.26167514,
          3.5337602830000003,
          11.75003153,
          5.9258110770000005,
          3.489521042,
          5.448813597000001,
          8.590826425,
          -2.145654186,
          8.178771633,
          9.515771923,
          8.09409375,
          8.224582899,
          4.76614512,
          1.328079123,
          4.463859974,
          5.316559102,
          9.725057107,
          5.963798455,
          2.6994393160000003,
          7.192089823,
          4.550425249,
          7.872617262999999,
          3.029855289,
          2.0099285680000003,
          11.39723584,
          6.172033882000001,
          9.073246593,
          5.394525432999999,
          0.551235469,
          4.972963749,
          9.481809578,
          7.04216097,
          6.626722769,
          0.8360564859999999,
          6.220675496,
          4.852378265,
          3.91475096,
          11.83752622,
          9.470815192,
          9.172861611,
          -0.578639469,
          4.24837447,
          10.74172242,
          2.10827046,
          12.98104502,
          12.89944481,
          5.498083364,
          6.474593814,
          8.236165182999999,
          12.35747827,
          5.607472746,
          3.342984522,
          9.644356268,
          1.185194016,
          2.552895746,
          1.331991392,
          6.061296008999999,
          11.96952899,
          3.693445308,
          3.094386119,
          3.644848604,
          -1.365137187,
          11.30392493,
          5.73739963,
          6.914954875,
          2.802334305,
          11.81389184,
          3.90914495,
          5.203429944,
          3.652764585,
          7.138836719,
          7.34186051,
          -1.351506465,
          9.288201929,
          5.850855257999999,
          4.879532866,
          3.362363384,
          9.665143723,
          0.836639582,
          0.268759344,
          4.368180022,
          2.9421630530000003,
          5.183983433,
          7.964066133999999,
          3.730796128,
          -0.114241635,
          8.308822671,
          4.381557274,
          4.238468468,
          3.291464905,
          -0.731327905,
          7.362717915,
          6.478800441000001,
          9.681837732,
          2.9425787530000003,
          12.96966148,
          11.63895935,
          8.243807622,
          4.216112344,
          7.75216827,
          7.428460284,
          1.919248623,
          12.59111873,
          0.094052114,
          7.277024082,
          9.972671946,
          -0.397115644,
          4.758367591,
          1.253396324,
          9.449537208,
          10.21445717,
          5.677578058,
          -0.637978548,
          4.779981236,
          6.052666567999999,
          6.928087239,
          5.862623736000001,
          5.413757058,
          4.797745538,
          7.398362069,
          -0.8433318009999999,
          -0.053714599,
          10.28273974,
          9.825040248,
          0.7376856909999999,
          8.086719943,
          10.83556394,
          5.027273131,
          3.738368667,
          9.760875492,
          7.140389152000001,
          5.777347422999999,
          3.120465052,
          4.708005825,
          3.386411362,
          3.4247958780000003,
          2.131516361,
          10.7975561,
          2.244135741,
          0.8506712540000001,
          3.974648664,
          6.893227395,
          8.62753184,
          11.36327022,
          9.007282599,
          6.8937164520000005,
          7.054498882000001,
          11.36501162,
          5.416194368999999,
          6.540470503,
          4.684038483999999,
          3.687846531,
          8.384898352999999,
          7.888463301,
          3.884064981,
          5.283778686000001,
          0.136623352,
          1.651385643,
          5.8518103020000005,
          2.681468273,
          6.963076452,
          8.66095379,
          5.726659628999999,
          7.396045276000001,
          8.947422892,
          10.02665843,
          5.699756947999999,
          1.807569102,
          7.175429475,
          11.77900624,
          6.840066215,
          7.727729298,
          3.5536880510000004,
          6.501704297000001,
          2.487216742,
          2.1927145830000003,
          5.107533601,
          1.25410481,
          9.799758683,
          4.573765832,
          1.82880096,
          3.653084638,
          9.507900334,
          5.993903211,
          5.543136742000001,
          6.286347677,
          7.412813177,
          7.789261955,
          7.113329577999999,
          6.889617395,
          5.693868475,
          2.062233051,
          4.207514188999999,
          7.727519307000001,
          6.528725726,
          5.31052325,
          1.754276914,
          4.862571408,
          6.727457312,
          10.73274893,
          7.671166337000001,
          6.020545887999999,
          0.688994763,
          2.743173797,
          9.778755741,
          8.581273571,
          5.782914612999999,
          9.593745261,
          1.672875939,
          8.559973792000001,
          1.44270273,
          2.00345701,
          -0.349414994,
          5.04311731,
          12.079312,
          5.444609357999999,
          6.567288576,
          5.48397178,
          8.257198393,
          4.534432171000001,
          7.435090712,
          1.067502884,
          12.28327873,
          11.5842652,
          11.92760166,
          -0.404589887,
          11.5758213,
          5.134490401,
          7.796625171,
          6.854388623999999,
          3.84324425,
          9.622188908,
          6.599539088999999,
          6.918480338999999,
          0.474457095,
          8.190612388,
          0.231494445,
          7.641468463,
          6.596557338999999,
          1.219167262,
          12.36754381,
          9.729908834,
          8.523430303,
          3.291574377,
          6.773785527,
          -0.170045428,
          2.130976794,
          9.098205273,
          5.783773856,
          6.652098657000001,
          5.6723987110000005,
          5.544080018,
          -0.539411533,
          4.812774143,
          12.93573614,
          6.846036607,
          6.8453787120000005,
          -1.404134059,
          4.816072476,
          7.072826956,
          1.740625145,
          4.737493157,
          2.6361089090000003,
          2.728218172,
          0.890902457,
          4.72749834,
          12.47688865,
          6.2152431,
          11.90920715,
          7.502335477000001,
          7.242232292000001,
          6.083884241,
          4.22227595,
          6.74334294,
          12.87978205,
          5.811801114,
          9.011822317,
          12.8865951,
          5.495601387000001,
          0.585036872,
          13.30013275,
          11.59525701,
          9.91329515,
          5.034762553,
          10.85828892,
          8.033251222999999,
          6.074312114,
          7.314045347,
          2.819953175,
          6.587371377,
          2.604970148,
          10.12164295,
          12.70987011,
          1.653584599,
          6.496949408,
          -1.371819245,
          2.863281284,
          5.865060722000001,
          5.667709899,
          12.69158468,
          10.37649024,
          -0.424699406,
          8.043349911,
          5.603798965,
          3.5507278280000003,
          0.88459756,
          6.070682947000001,
          11.33068753,
          8.126190488999999,
          8.232475864,
          8.176131023,
          3.88418964,
          3.469013965,
          3.012778809,
          7.266477967,
          5.933911907000001,
          12.52690699,
          5.941500175,
          2.971121778,
          6.382275401,
          6.661191712999999,
          5.214310193999999,
          0.267053097,
          8.836612609,
          6.610906059,
          2.031080732,
          1.883014214,
          0.407256609,
          6.764455797,
          0.373984541,
          6.677639256,
          2.569904621,
          4.026584312,
          8.837014057000001,
          8.434125874,
          9.929483959,
          6.465976443,
          5.716146112000001,
          9.274546745,
          3.434722319,
          9.885100778,
          4.783133275,
          6.438968444,
          7.177985392999999,
          6.153399306,
          12.95415229,
          4.08931523,
          3.690942379,
          -1.798714718,
          1.6018679219999998,
          6.672158756,
          0.502550325,
          7.72826799,
          -0.853256785,
          7.536892962,
          0.59078224,
          6.895935384,
          11.14816099,
          7.54687508,
          3.090932348,
          11.912295599999998,
          5.218856312,
          6.12019472,
          3.751886987,
          8.920739758,
          3.136957044,
          2.845171537,
          7.011832026,
          3.3425162580000003,
          1.901898986,
          -0.308400086,
          4.658414883,
          2.287008829,
          1.105997498,
          7.003726856,
          7.728627902,
          11.28052229,
          9.454200875,
          3.682732169,
          12.06016768
         ],
         "y0": 0,
         "type": "violin",
         "meanline": {
          "visible": true
         },
         "orientation": "h",
         "side": "positive"
        }
       ],
       "layout": {
        "template": {
         "data": {
          "barpolar": [
           {
            "marker": {
             "line": {
              "color": "white",
              "width": 0.5
             },
             "pattern": {
              "fillmode": "overlay",
              "size": 10,
              "solidity": 0.2
             }
            },
            "type": "barpolar"
           }
          ],
          "bar": [
           {
            "error_x": {
             "color": "rgb(36,36,36)"
            },
            "error_y": {
             "color": "rgb(36,36,36)"
            },
            "marker": {
             "line": {
              "color": "white",
              "width": 0.5
             },
             "pattern": {
              "fillmode": "overlay",
              "size": 10,
              "solidity": 0.2
             }
            },
            "type": "bar"
           }
          ],
          "carpet": [
           {
            "aaxis": {
             "endlinecolor": "rgb(36,36,36)",
             "gridcolor": "white",
             "linecolor": "white",
             "minorgridcolor": "white",
             "startlinecolor": "rgb(36,36,36)"
            },
            "baxis": {
             "endlinecolor": "rgb(36,36,36)",
             "gridcolor": "white",
             "linecolor": "white",
             "minorgridcolor": "white",
             "startlinecolor": "rgb(36,36,36)"
            },
            "type": "carpet"
           }
          ],
          "choropleth": [
           {
            "colorbar": {
             "outlinewidth": 1,
             "tickcolor": "rgb(36,36,36)",
             "ticks": "outside"
            },
            "type": "choropleth"
           }
          ],
          "contourcarpet": [
           {
            "colorbar": {
             "outlinewidth": 1,
             "tickcolor": "rgb(36,36,36)",
             "ticks": "outside"
            },
            "type": "contourcarpet"
           }
          ],
          "contour": [
           {
            "colorbar": {
             "outlinewidth": 1,
             "tickcolor": "rgb(36,36,36)",
             "ticks": "outside"
            },
            "colorscale": [
             [
              0.0,
              "#440154"
             ],
             [
              0.1111111111111111,
              "#482878"
             ],
             [
              0.2222222222222222,
              "#3e4989"
             ],
             [
              0.3333333333333333,
              "#31688e"
             ],
             [
              0.4444444444444444,
              "#26828e"
             ],
             [
              0.5555555555555556,
              "#1f9e89"
             ],
             [
              0.6666666666666666,
              "#35b779"
             ],
             [
              0.7777777777777778,
              "#6ece58"
             ],
             [
              0.8888888888888888,
              "#b5de2b"
             ],
             [
              1.0,
              "#fde725"
             ]
            ],
            "type": "contour"
           }
          ],
          "heatmapgl": [
           {
            "colorbar": {
             "outlinewidth": 1,
             "tickcolor": "rgb(36,36,36)",
             "ticks": "outside"
            },
            "colorscale": [
             [
              0.0,
              "#440154"
             ],
             [
              0.1111111111111111,
              "#482878"
             ],
             [
              0.2222222222222222,
              "#3e4989"
             ],
             [
              0.3333333333333333,
              "#31688e"
             ],
             [
              0.4444444444444444,
              "#26828e"
             ],
             [
              0.5555555555555556,
              "#1f9e89"
             ],
             [
              0.6666666666666666,
              "#35b779"
             ],
             [
              0.7777777777777778,
              "#6ece58"
             ],
             [
              0.8888888888888888,
              "#b5de2b"
             ],
             [
              1.0,
              "#fde725"
             ]
            ],
            "type": "heatmapgl"
           }
          ],
          "heatmap": [
           {
            "colorbar": {
             "outlinewidth": 1,
             "tickcolor": "rgb(36,36,36)",
             "ticks": "outside"
            },
            "colorscale": [
             [
              0.0,
              "#440154"
             ],
             [
              0.1111111111111111,
              "#482878"
             ],
             [
              0.2222222222222222,
              "#3e4989"
             ],
             [
              0.3333333333333333,
              "#31688e"
             ],
             [
              0.4444444444444444,
              "#26828e"
             ],
             [
              0.5555555555555556,
              "#1f9e89"
             ],
             [
              0.6666666666666666,
              "#35b779"
             ],
             [
              0.7777777777777778,
              "#6ece58"
             ],
             [
              0.8888888888888888,
              "#b5de2b"
             ],
             [
              1.0,
              "#fde725"
             ]
            ],
            "type": "heatmap"
           }
          ],
          "histogram2dcontour": [
           {
            "colorbar": {
             "outlinewidth": 1,
             "tickcolor": "rgb(36,36,36)",
             "ticks": "outside"
            },
            "colorscale": [
             [
              0.0,
              "#440154"
             ],
             [
              0.1111111111111111,
              "#482878"
             ],
             [
              0.2222222222222222,
              "#3e4989"
             ],
             [
              0.3333333333333333,
              "#31688e"
             ],
             [
              0.4444444444444444,
              "#26828e"
             ],
             [
              0.5555555555555556,
              "#1f9e89"
             ],
             [
              0.6666666666666666,
              "#35b779"
             ],
             [
              0.7777777777777778,
              "#6ece58"
             ],
             [
              0.8888888888888888,
              "#b5de2b"
             ],
             [
              1.0,
              "#fde725"
             ]
            ],
            "type": "histogram2dcontour"
           }
          ],
          "histogram2d": [
           {
            "colorbar": {
             "outlinewidth": 1,
             "tickcolor": "rgb(36,36,36)",
             "ticks": "outside"
            },
            "colorscale": [
             [
              0.0,
              "#440154"
             ],
             [
              0.1111111111111111,
              "#482878"
             ],
             [
              0.2222222222222222,
              "#3e4989"
             ],
             [
              0.3333333333333333,
              "#31688e"
             ],
             [
              0.4444444444444444,
              "#26828e"
             ],
             [
              0.5555555555555556,
              "#1f9e89"
             ],
             [
              0.6666666666666666,
              "#35b779"
             ],
             [
              0.7777777777777778,
              "#6ece58"
             ],
             [
              0.8888888888888888,
              "#b5de2b"
             ],
             [
              1.0,
              "#fde725"
             ]
            ],
            "type": "histogram2d"
           }
          ],
          "histogram": [
           {
            "marker": {
             "line": {
              "color": "white",
              "width": 0.6
             }
            },
            "type": "histogram"
           }
          ],
          "mesh3d": [
           {
            "colorbar": {
             "outlinewidth": 1,
             "tickcolor": "rgb(36,36,36)",
             "ticks": "outside"
            },
            "type": "mesh3d"
           }
          ],
          "parcoords": [
           {
            "line": {
             "colorbar": {
              "outlinewidth": 1,
              "tickcolor": "rgb(36,36,36)",
              "ticks": "outside"
             }
            },
            "type": "parcoords"
           }
          ],
          "pie": [
           {
            "automargin": true,
            "type": "pie"
           }
          ],
          "scatter3d": [
           {
            "line": {
             "colorbar": {
              "outlinewidth": 1,
              "tickcolor": "rgb(36,36,36)",
              "ticks": "outside"
             }
            },
            "marker": {
             "colorbar": {
              "outlinewidth": 1,
              "tickcolor": "rgb(36,36,36)",
              "ticks": "outside"
             }
            },
            "type": "scatter3d"
           }
          ],
          "scattercarpet": [
           {
            "marker": {
             "colorbar": {
              "outlinewidth": 1,
              "tickcolor": "rgb(36,36,36)",
              "ticks": "outside"
             }
            },
            "type": "scattercarpet"
           }
          ],
          "scattergeo": [
           {
            "marker": {
             "colorbar": {
              "outlinewidth": 1,
              "tickcolor": "rgb(36,36,36)",
              "ticks": "outside"
             }
            },
            "type": "scattergeo"
           }
          ],
          "scattergl": [
           {
            "marker": {
             "colorbar": {
              "outlinewidth": 1,
              "tickcolor": "rgb(36,36,36)",
              "ticks": "outside"
             }
            },
            "type": "scattergl"
           }
          ],
          "scattermapbox": [
           {
            "marker": {
             "colorbar": {
              "outlinewidth": 1,
              "tickcolor": "rgb(36,36,36)",
              "ticks": "outside"
             }
            },
            "type": "scattermapbox"
           }
          ],
          "scatterpolargl": [
           {
            "marker": {
             "colorbar": {
              "outlinewidth": 1,
              "tickcolor": "rgb(36,36,36)",
              "ticks": "outside"
             }
            },
            "type": "scatterpolargl"
           }
          ],
          "scatterpolar": [
           {
            "marker": {
             "colorbar": {
              "outlinewidth": 1,
              "tickcolor": "rgb(36,36,36)",
              "ticks": "outside"
             }
            },
            "type": "scatterpolar"
           }
          ],
          "scatter": [
           {
            "fillpattern": {
             "fillmode": "overlay",
             "size": 10,
             "solidity": 0.2
            },
            "type": "scatter"
           }
          ],
          "scatterternary": [
           {
            "marker": {
             "colorbar": {
              "outlinewidth": 1,
              "tickcolor": "rgb(36,36,36)",
              "ticks": "outside"
             }
            },
            "type": "scatterternary"
           }
          ],
          "surface": [
           {
            "colorbar": {
             "outlinewidth": 1,
             "tickcolor": "rgb(36,36,36)",
             "ticks": "outside"
            },
            "colorscale": [
             [
              0.0,
              "#440154"
             ],
             [
              0.1111111111111111,
              "#482878"
             ],
             [
              0.2222222222222222,
              "#3e4989"
             ],
             [
              0.3333333333333333,
              "#31688e"
             ],
             [
              0.4444444444444444,
              "#26828e"
             ],
             [
              0.5555555555555556,
              "#1f9e89"
             ],
             [
              0.6666666666666666,
              "#35b779"
             ],
             [
              0.7777777777777778,
              "#6ece58"
             ],
             [
              0.8888888888888888,
              "#b5de2b"
             ],
             [
              1.0,
              "#fde725"
             ]
            ],
            "type": "surface"
           }
          ],
          "table": [
           {
            "cells": {
             "fill": {
              "color": "rgb(237,237,237)"
             },
             "line": {
              "color": "white"
             }
            },
            "header": {
             "fill": {
              "color": "rgb(217,217,217)"
             },
             "line": {
              "color": "white"
             }
            },
            "type": "table"
           }
          ]
         },
         "layout": {
          "annotationdefaults": {
           "arrowhead": 0,
           "arrowwidth": 1
          },
          "autotypenumbers": "strict",
          "coloraxis": {
           "colorbar": {
            "outlinewidth": 1,
            "tickcolor": "rgb(36,36,36)",
            "ticks": "outside"
           }
          },
          "colorscale": {
           "diverging": [
            [
             0.0,
             "rgb(103,0,31)"
            ],
            [
             0.1,
             "rgb(178,24,43)"
            ],
            [
             0.2,
             "rgb(214,96,77)"
            ],
            [
             0.3,
             "rgb(244,165,130)"
            ],
            [
             0.4,
             "rgb(253,219,199)"
            ],
            [
             0.5,
             "rgb(247,247,247)"
            ],
            [
             0.6,
             "rgb(209,229,240)"
            ],
            [
             0.7,
             "rgb(146,197,222)"
            ],
            [
             0.8,
             "rgb(67,147,195)"
            ],
            [
             0.9,
             "rgb(33,102,172)"
            ],
            [
             1.0,
             "rgb(5,48,97)"
            ]
           ],
           "sequential": [
            [
             0.0,
             "#440154"
            ],
            [
             0.1111111111111111,
             "#482878"
            ],
            [
             0.2222222222222222,
             "#3e4989"
            ],
            [
             0.3333333333333333,
             "#31688e"
            ],
            [
             0.4444444444444444,
             "#26828e"
            ],
            [
             0.5555555555555556,
             "#1f9e89"
            ],
            [
             0.6666666666666666,
             "#35b779"
            ],
            [
             0.7777777777777778,
             "#6ece58"
            ],
            [
             0.8888888888888888,
             "#b5de2b"
            ],
            [
             1.0,
             "#fde725"
            ]
           ],
           "sequentialminus": [
            [
             0.0,
             "#440154"
            ],
            [
             0.1111111111111111,
             "#482878"
            ],
            [
             0.2222222222222222,
             "#3e4989"
            ],
            [
             0.3333333333333333,
             "#31688e"
            ],
            [
             0.4444444444444444,
             "#26828e"
            ],
            [
             0.5555555555555556,
             "#1f9e89"
            ],
            [
             0.6666666666666666,
             "#35b779"
            ],
            [
             0.7777777777777778,
             "#6ece58"
            ],
            [
             0.8888888888888888,
             "#b5de2b"
            ],
            [
             1.0,
             "#fde725"
            ]
           ]
          },
          "colorway": [
           "#1F77B4",
           "#FF7F0E",
           "#2CA02C",
           "#D62728",
           "#9467BD",
           "#8C564B",
           "#E377C2",
           "#7F7F7F",
           "#BCBD22",
           "#17BECF"
          ],
          "font": {
           "color": "rgb(36,36,36)"
          },
          "geo": {
           "bgcolor": "white",
           "lakecolor": "white",
           "landcolor": "white",
           "showlakes": true,
           "showland": true,
           "subunitcolor": "white"
          },
          "hoverlabel": {
           "align": "left"
          },
          "hovermode": "closest",
          "mapbox": {
           "style": "light"
          },
          "paper_bgcolor": "white",
          "plot_bgcolor": "white",
          "polar": {
           "angularaxis": {
            "gridcolor": "rgb(232,232,232)",
            "linecolor": "rgb(36,36,36)",
            "showgrid": false,
            "showline": true,
            "ticks": "outside"
           },
           "bgcolor": "white",
           "radialaxis": {
            "gridcolor": "rgb(232,232,232)",
            "linecolor": "rgb(36,36,36)",
            "showgrid": false,
            "showline": true,
            "ticks": "outside"
           }
          },
          "scene": {
           "xaxis": {
            "backgroundcolor": "white",
            "gridcolor": "rgb(232,232,232)",
            "gridwidth": 2,
            "linecolor": "rgb(36,36,36)",
            "showbackground": true,
            "showgrid": false,
            "showline": true,
            "ticks": "outside",
            "zeroline": false,
            "zerolinecolor": "rgb(36,36,36)"
           },
           "yaxis": {
            "backgroundcolor": "white",
            "gridcolor": "rgb(232,232,232)",
            "gridwidth": 2,
            "linecolor": "rgb(36,36,36)",
            "showbackground": true,
            "showgrid": false,
            "showline": true,
            "ticks": "outside",
            "zeroline": false,
            "zerolinecolor": "rgb(36,36,36)"
           },
           "zaxis": {
            "backgroundcolor": "white",
            "gridcolor": "rgb(232,232,232)",
            "gridwidth": 2,
            "linecolor": "rgb(36,36,36)",
            "showbackground": true,
            "showgrid": false,
            "showline": true,
            "ticks": "outside",
            "zeroline": false,
            "zerolinecolor": "rgb(36,36,36)"
           }
          },
          "shapedefaults": {
           "fillcolor": "black",
           "line": {
            "width": 0
           },
           "opacity": 0.3
          },
          "ternary": {
           "aaxis": {
            "gridcolor": "rgb(232,232,232)",
            "linecolor": "rgb(36,36,36)",
            "showgrid": false,
            "showline": true,
            "ticks": "outside"
           },
           "baxis": {
            "gridcolor": "rgb(232,232,232)",
            "linecolor": "rgb(36,36,36)",
            "showgrid": false,
            "showline": true,
            "ticks": "outside"
           },
           "bgcolor": "white",
           "caxis": {
            "gridcolor": "rgb(232,232,232)",
            "linecolor": "rgb(36,36,36)",
            "showgrid": false,
            "showline": true,
            "ticks": "outside"
           }
          },
          "title": {
           "x": 0.05
          },
          "xaxis": {
           "automargin": true,
           "gridcolor": "rgb(232,232,232)",
           "linecolor": "rgb(36,36,36)",
           "showgrid": false,
           "showline": true,
           "ticks": "outside",
           "title": {
            "standoff": 15
           },
           "zeroline": false,
           "zerolinecolor": "rgb(36,36,36)"
          },
          "yaxis": {
           "automargin": true,
           "gridcolor": "rgb(232,232,232)",
           "linecolor": "rgb(36,36,36)",
           "showgrid": false,
           "showline": true,
           "ticks": "outside",
           "title": {
            "standoff": 15
           },
           "zeroline": false,
           "zerolinecolor": "rgb(36,36,36)"
          }
         }
        },
        "xaxis": {
         "showgrid": false,
         "zeroline": false,
         "title": {
          "text": "Result"
         }
        },
        "font": {
         "family": "San Serif"
        },
        "title": {
         "text": "<b> Screening test result distribution (QA1-10) <b>",
         "font": {
          "size": 20
         }
        },
        "width": 600,
        "height": 400,
        "showlegend": true,
        "yaxis": {
         "showgrid": false,
         "showline": false,
         "showticklabels": false
        }
       },
       "config": {
        "plotlyServerURL": "https://plot.ly"
       }
      },
      "text/html": [
       "<div>                            <div id=\"47b01a58-1eb9-4c28-a053-ca0542fe7c00\" class=\"plotly-graph-div\" style=\"height:400px; width:600px;\"></div>            <script type=\"text/javascript\">                require([\"plotly\"], function(Plotly) {                    window.PLOTLYENV=window.PLOTLYENV || {};                                    if (document.getElementById(\"47b01a58-1eb9-4c28-a053-ca0542fe7c00\")) {                    Plotly.newPlot(                        \"47b01a58-1eb9-4c28-a053-ca0542fe7c00\",                        [{\"line\":{\"color\":\"lightseagreen\"},\"name\":\"ASD_positive\",\"x\":[13.1675062,11.90246137,8.633346443999999,12.81112483,2.983511434,13.24903914,5.553657029,5.388901885,12.66041654,13.25243282,10.40867918,2.25190921,10.07775141,10.340678,10.54503923,12.88664935,12.60656763,6.214286274,10.03619864,6.581864991000001,12.69293695,8.07013112,10.70238151,13.32706355,12.70479673,12.48470147,12.62577922,11.37187551,11.46899443,8.509552181,13.25738119,9.631162929,12.62889495,9.640370415,12.26593849,8.261758002,8.904978493,7.941886935,9.628453432,13.27453963,8.390241629,8.553977332999999,10.19382235,6.460316172000001,11.44296624,13.38671243,6.891238655,11.89953146,6.710785772,12.09403623,4.008542171,6.564945194,9.304044275,10.81288329,13.20920533,5.920914216,11.40019063,4.1047181010000005,7.051900091,11.81090159,8.27323597,8.560372176,9.948601004,13.08977496,12.09716243,11.57253963,9.651752567,12.28760237,12.91535092,12.10215808,9.629531019,13.27367122,9.444737892,13.36258928,12.63225658,12.30776422,13.2763215,11.36037509,10.71969383,7.253067162000001,0.24570513,7.663374848999999,13.20735144,4.092610809,2.020266979,3.184134702,5.273476284,13.04895122,12.27861528,13.23101706,9.415300732,13.183806699999998,13.24973082,5.106865272,12.69722854,13.072258,12.81794677,7.690646922000001,10.55592026,7.310344773,9.481148679,12.22045421,12.38114961,9.601139453,12.95596589,11.64561512,9.485197553,12.21654553,12.68886365,12.55137788,11.43269455,12.20785986,13.10683218,11.06965621,12.90378653,7.007598776,12.55470746,13.30546091,12.16208237,11.02925089,13.3470969,9.704232363,9.212422768,12.50596588,10.12069538,13.10280362,9.787006383,6.42437464,12.67898436,12.77857904,12.29586985,9.205064641,13.04400888,12.644913699999998,9.500792744,7.36682023,11.4434956,7.829824786,12.24371017,12.78373492,13.32200826,9.008934607,10.20781396,13.19516422,9.642188369,11.68465468,12.858418,8.54195461,11.24167701,13.12453857,10.67377402,12.58481841,12.23598858,11.85101145,12.66673146,11.8484224,12.89314417,12.86200491,9.590124513,11.28121048,13.06573621,1.900813399,5.940763008999999,12.08646347,12.69487778,13.18758905,9.345115604,9.886209523,1.990277974,12.21641163,12.99063558,10.50155882,11.96038573,9.472175772,12.00896778,13.24206967,11.48566321,7.445830332000001,9.685235692,13.21578899,13.30593843,13.34315242,12.77838613,13.3908679,6.80550928],\"y0\":0,\"type\":\"violin\",\"meanline\":{\"visible\":true},\"orientation\":\"h\",\"side\":\"positive\"},{\"line\":{\"color\":\"red\"},\"name\":\"ASD_negative\",\"x\":[7.819715187000001,10.54429644,1.5300976819999998,7.949722607000001,7.445003289,12.59858317,3.5257200560000004,1.015305534,5.439973417,6.057170377,6.347515321,6.858826004,1.573960341,4.426813229,7.822974767000001,1.418385496,4.791004268,6.602036821,8.843999341,9.516903607,2.899589804,4.950485754,6.6242026570000005,0.657363734,3.413026832,10.08048811,5.644474047999999,4.631590733,1.540616969,7.073171612,12.84156099,3.855358769,7.871215677999999,9.784631775,4.975028787,4.691590642,6.396593911,5.709313009,6.534879168,8.709428864,8.335489926000001,11.28614543,3.705601706,0.286266851,6.594542137,7.825169567,9.646207259,7.209593787999999,12.56780339,8.153973354,7.232900229,9.811655578,4.070286041,4.669019897,7.448004589,7.840968847,9.766300148,9.54909141,8.933598665,9.76324347,3.732497665,-2.594654288,13.23949205,3.614902134,9.750764191,12.76442307,10.05862243,5.224989407,1.99710083,4.793345886,4.417103419,5.013694417,4.606360182,4.695521319,9.937854231,3.878289078,5.071976366,-0.650589998,5.06611889,12.25208458,6.115176125,7.566585883999999,3.2698261260000003,6.284792344,10.83261719,5.095273997,7.841211971,4.941242446,4.998445063999999,10.94097596,5.578162197999999,2.620210131,5.344506477,3.430217985,7.296902543,4.449269716,-1.212396333,6.3009210520000005,4.396275519,3.224013563,9.260484285,4.783945805,5.798850311,12.93862184,4.385270593,9.159208904,6.703483003,5.2247893030000006,2.820220928,11.17609738,4.750577945,4.908919455,3.903968223,6.045432109,1.308156877,4.528126639,6.321999645,7.175613886,10.93789702,7.260661647999999,9.436401795,4.525843437,7.160638033,11.11568277,5.615052675,9.818735624,4.820591224,4.522125675,11.88115013,7.378649836,12.22051412,4.614599813,5.103677971000001,7.308089374,5.325614476,5.570278987999999,2.11659871,8.02232221,7.318053842,2.375430861,3.744542993,11.37321626,4.869798393,4.7059549480000005,6.385142744,8.453439218,1.199615665,4.566825697,10.58500677,5.692644158999999,8.376743889,5.858026532,9.190435762,6.301266432,9.22865554,4.504274878,4.913809832,4.998207109,10.71734934,7.468901184,7.223873082999999,8.75744368,10.83012283,3.489950937,-0.396712075,6.044276636,7.536001517000001,1.273605895,6.46369743,1.917302604,5.550252112999999,3.205580177,0.581144869,5.477293457000001,12.14966009,6.819458362000001,5.107056609,7.925329707,5.033162205,2.574220803,6.372565465,0.491429912,4.684938463,6.8528330120000005,8.482545581,4.682341003,9.813100169,12.31885744,9.783101189,7.03454204,7.065567751000001,9.270989784,0.334146871,11.78183686,7.021983864,9.196799364,4.276302029,0.0678696209999999,5.4058913660000005,10.36395382,8.05311575,6.302734927,6.468329718,7.779740928,5.005139466,5.301532,4.953441874,4.212151999,4.767911,12.33754963,3.0433170210000005,7.7594656,6.448077267,8.739162812,6.777451027000001,6.152681826,3.52634494,9.620736344,2.386216264,7.290158394,0.63630177,12.05446259,11.703504,8.791906377,12.26234366,-0.5241321320000001,4.298842076000001,1.907108929,5.752815448,6.536817286000001,1.927369175,5.224401384,6.033449076,7.868742072000001,3.349251469,11.26167514,3.5337602830000003,11.75003153,5.9258110770000005,3.489521042,5.448813597000001,8.590826425,-2.145654186,8.178771633,9.515771923,8.09409375,8.224582899,4.76614512,1.328079123,4.463859974,5.316559102,9.725057107,5.963798455,2.6994393160000003,7.192089823,4.550425249,7.872617262999999,3.029855289,2.0099285680000003,11.39723584,6.172033882000001,9.073246593,5.394525432999999,0.551235469,4.972963749,9.481809578,7.04216097,6.626722769,0.8360564859999999,6.220675496,4.852378265,3.91475096,11.83752622,9.470815192,9.172861611,-0.578639469,4.24837447,10.74172242,2.10827046,12.98104502,12.89944481,5.498083364,6.474593814,8.236165182999999,12.35747827,5.607472746,3.342984522,9.644356268,1.185194016,2.552895746,1.331991392,6.061296008999999,11.96952899,3.693445308,3.094386119,3.644848604,-1.365137187,11.30392493,5.73739963,6.914954875,2.802334305,11.81389184,3.90914495,5.203429944,3.652764585,7.138836719,7.34186051,-1.351506465,9.288201929,5.850855257999999,4.879532866,3.362363384,9.665143723,0.836639582,0.268759344,4.368180022,2.9421630530000003,5.183983433,7.964066133999999,3.730796128,-0.114241635,8.308822671,4.381557274,4.238468468,3.291464905,-0.731327905,7.362717915,6.478800441000001,9.681837732,2.9425787530000003,12.96966148,11.63895935,8.243807622,4.216112344,7.75216827,7.428460284,1.919248623,12.59111873,0.094052114,7.277024082,9.972671946,-0.397115644,4.758367591,1.253396324,9.449537208,10.21445717,5.677578058,-0.637978548,4.779981236,6.052666567999999,6.928087239,5.862623736000001,5.413757058,4.797745538,7.398362069,-0.8433318009999999,-0.053714599,10.28273974,9.825040248,0.7376856909999999,8.086719943,10.83556394,5.027273131,3.738368667,9.760875492,7.140389152000001,5.777347422999999,3.120465052,4.708005825,3.386411362,3.4247958780000003,2.131516361,10.7975561,2.244135741,0.8506712540000001,3.974648664,6.893227395,8.62753184,11.36327022,9.007282599,6.8937164520000005,7.054498882000001,11.36501162,5.416194368999999,6.540470503,4.684038483999999,3.687846531,8.384898352999999,7.888463301,3.884064981,5.283778686000001,0.136623352,1.651385643,5.8518103020000005,2.681468273,6.963076452,8.66095379,5.726659628999999,7.396045276000001,8.947422892,10.02665843,5.699756947999999,1.807569102,7.175429475,11.77900624,6.840066215,7.727729298,3.5536880510000004,6.501704297000001,2.487216742,2.1927145830000003,5.107533601,1.25410481,9.799758683,4.573765832,1.82880096,3.653084638,9.507900334,5.993903211,5.543136742000001,6.286347677,7.412813177,7.789261955,7.113329577999999,6.889617395,5.693868475,2.062233051,4.207514188999999,7.727519307000001,6.528725726,5.31052325,1.754276914,4.862571408,6.727457312,10.73274893,7.671166337000001,6.020545887999999,0.688994763,2.743173797,9.778755741,8.581273571,5.782914612999999,9.593745261,1.672875939,8.559973792000001,1.44270273,2.00345701,-0.349414994,5.04311731,12.079312,5.444609357999999,6.567288576,5.48397178,8.257198393,4.534432171000001,7.435090712,1.067502884,12.28327873,11.5842652,11.92760166,-0.404589887,11.5758213,5.134490401,7.796625171,6.854388623999999,3.84324425,9.622188908,6.599539088999999,6.918480338999999,0.474457095,8.190612388,0.231494445,7.641468463,6.596557338999999,1.219167262,12.36754381,9.729908834,8.523430303,3.291574377,6.773785527,-0.170045428,2.130976794,9.098205273,5.783773856,6.652098657000001,5.6723987110000005,5.544080018,-0.539411533,4.812774143,12.93573614,6.846036607,6.8453787120000005,-1.404134059,4.816072476,7.072826956,1.740625145,4.737493157,2.6361089090000003,2.728218172,0.890902457,4.72749834,12.47688865,6.2152431,11.90920715,7.502335477000001,7.242232292000001,6.083884241,4.22227595,6.74334294,12.87978205,5.811801114,9.011822317,12.8865951,5.495601387000001,0.585036872,13.30013275,11.59525701,9.91329515,5.034762553,10.85828892,8.033251222999999,6.074312114,7.314045347,2.819953175,6.587371377,2.604970148,10.12164295,12.70987011,1.653584599,6.496949408,-1.371819245,2.863281284,5.865060722000001,5.667709899,12.69158468,10.37649024,-0.424699406,8.043349911,5.603798965,3.5507278280000003,0.88459756,6.070682947000001,11.33068753,8.126190488999999,8.232475864,8.176131023,3.88418964,3.469013965,3.012778809,7.266477967,5.933911907000001,12.52690699,5.941500175,2.971121778,6.382275401,6.661191712999999,5.214310193999999,0.267053097,8.836612609,6.610906059,2.031080732,1.883014214,0.407256609,6.764455797,0.373984541,6.677639256,2.569904621,4.026584312,8.837014057000001,8.434125874,9.929483959,6.465976443,5.716146112000001,9.274546745,3.434722319,9.885100778,4.783133275,6.438968444,7.177985392999999,6.153399306,12.95415229,4.08931523,3.690942379,-1.798714718,1.6018679219999998,6.672158756,0.502550325,7.72826799,-0.853256785,7.536892962,0.59078224,6.895935384,11.14816099,7.54687508,3.090932348,11.912295599999998,5.218856312,6.12019472,3.751886987,8.920739758,3.136957044,2.845171537,7.011832026,3.3425162580000003,1.901898986,-0.308400086,4.658414883,2.287008829,1.105997498,7.003726856,7.728627902,11.28052229,9.454200875,3.682732169,12.06016768],\"y0\":0,\"type\":\"violin\",\"meanline\":{\"visible\":true},\"orientation\":\"h\",\"side\":\"positive\"}],                        {\"template\":{\"data\":{\"barpolar\":[{\"marker\":{\"line\":{\"color\":\"white\",\"width\":0.5},\"pattern\":{\"fillmode\":\"overlay\",\"size\":10,\"solidity\":0.2}},\"type\":\"barpolar\"}],\"bar\":[{\"error_x\":{\"color\":\"rgb(36,36,36)\"},\"error_y\":{\"color\":\"rgb(36,36,36)\"},\"marker\":{\"line\":{\"color\":\"white\",\"width\":0.5},\"pattern\":{\"fillmode\":\"overlay\",\"size\":10,\"solidity\":0.2}},\"type\":\"bar\"}],\"carpet\":[{\"aaxis\":{\"endlinecolor\":\"rgb(36,36,36)\",\"gridcolor\":\"white\",\"linecolor\":\"white\",\"minorgridcolor\":\"white\",\"startlinecolor\":\"rgb(36,36,36)\"},\"baxis\":{\"endlinecolor\":\"rgb(36,36,36)\",\"gridcolor\":\"white\",\"linecolor\":\"white\",\"minorgridcolor\":\"white\",\"startlinecolor\":\"rgb(36,36,36)\"},\"type\":\"carpet\"}],\"choropleth\":[{\"colorbar\":{\"outlinewidth\":1,\"tickcolor\":\"rgb(36,36,36)\",\"ticks\":\"outside\"},\"type\":\"choropleth\"}],\"contourcarpet\":[{\"colorbar\":{\"outlinewidth\":1,\"tickcolor\":\"rgb(36,36,36)\",\"ticks\":\"outside\"},\"type\":\"contourcarpet\"}],\"contour\":[{\"colorbar\":{\"outlinewidth\":1,\"tickcolor\":\"rgb(36,36,36)\",\"ticks\":\"outside\"},\"colorscale\":[[0.0,\"#440154\"],[0.1111111111111111,\"#482878\"],[0.2222222222222222,\"#3e4989\"],[0.3333333333333333,\"#31688e\"],[0.4444444444444444,\"#26828e\"],[0.5555555555555556,\"#1f9e89\"],[0.6666666666666666,\"#35b779\"],[0.7777777777777778,\"#6ece58\"],[0.8888888888888888,\"#b5de2b\"],[1.0,\"#fde725\"]],\"type\":\"contour\"}],\"heatmapgl\":[{\"colorbar\":{\"outlinewidth\":1,\"tickcolor\":\"rgb(36,36,36)\",\"ticks\":\"outside\"},\"colorscale\":[[0.0,\"#440154\"],[0.1111111111111111,\"#482878\"],[0.2222222222222222,\"#3e4989\"],[0.3333333333333333,\"#31688e\"],[0.4444444444444444,\"#26828e\"],[0.5555555555555556,\"#1f9e89\"],[0.6666666666666666,\"#35b779\"],[0.7777777777777778,\"#6ece58\"],[0.8888888888888888,\"#b5de2b\"],[1.0,\"#fde725\"]],\"type\":\"heatmapgl\"}],\"heatmap\":[{\"colorbar\":{\"outlinewidth\":1,\"tickcolor\":\"rgb(36,36,36)\",\"ticks\":\"outside\"},\"colorscale\":[[0.0,\"#440154\"],[0.1111111111111111,\"#482878\"],[0.2222222222222222,\"#3e4989\"],[0.3333333333333333,\"#31688e\"],[0.4444444444444444,\"#26828e\"],[0.5555555555555556,\"#1f9e89\"],[0.6666666666666666,\"#35b779\"],[0.7777777777777778,\"#6ece58\"],[0.8888888888888888,\"#b5de2b\"],[1.0,\"#fde725\"]],\"type\":\"heatmap\"}],\"histogram2dcontour\":[{\"colorbar\":{\"outlinewidth\":1,\"tickcolor\":\"rgb(36,36,36)\",\"ticks\":\"outside\"},\"colorscale\":[[0.0,\"#440154\"],[0.1111111111111111,\"#482878\"],[0.2222222222222222,\"#3e4989\"],[0.3333333333333333,\"#31688e\"],[0.4444444444444444,\"#26828e\"],[0.5555555555555556,\"#1f9e89\"],[0.6666666666666666,\"#35b779\"],[0.7777777777777778,\"#6ece58\"],[0.8888888888888888,\"#b5de2b\"],[1.0,\"#fde725\"]],\"type\":\"histogram2dcontour\"}],\"histogram2d\":[{\"colorbar\":{\"outlinewidth\":1,\"tickcolor\":\"rgb(36,36,36)\",\"ticks\":\"outside\"},\"colorscale\":[[0.0,\"#440154\"],[0.1111111111111111,\"#482878\"],[0.2222222222222222,\"#3e4989\"],[0.3333333333333333,\"#31688e\"],[0.4444444444444444,\"#26828e\"],[0.5555555555555556,\"#1f9e89\"],[0.6666666666666666,\"#35b779\"],[0.7777777777777778,\"#6ece58\"],[0.8888888888888888,\"#b5de2b\"],[1.0,\"#fde725\"]],\"type\":\"histogram2d\"}],\"histogram\":[{\"marker\":{\"line\":{\"color\":\"white\",\"width\":0.6}},\"type\":\"histogram\"}],\"mesh3d\":[{\"colorbar\":{\"outlinewidth\":1,\"tickcolor\":\"rgb(36,36,36)\",\"ticks\":\"outside\"},\"type\":\"mesh3d\"}],\"parcoords\":[{\"line\":{\"colorbar\":{\"outlinewidth\":1,\"tickcolor\":\"rgb(36,36,36)\",\"ticks\":\"outside\"}},\"type\":\"parcoords\"}],\"pie\":[{\"automargin\":true,\"type\":\"pie\"}],\"scatter3d\":[{\"line\":{\"colorbar\":{\"outlinewidth\":1,\"tickcolor\":\"rgb(36,36,36)\",\"ticks\":\"outside\"}},\"marker\":{\"colorbar\":{\"outlinewidth\":1,\"tickcolor\":\"rgb(36,36,36)\",\"ticks\":\"outside\"}},\"type\":\"scatter3d\"}],\"scattercarpet\":[{\"marker\":{\"colorbar\":{\"outlinewidth\":1,\"tickcolor\":\"rgb(36,36,36)\",\"ticks\":\"outside\"}},\"type\":\"scattercarpet\"}],\"scattergeo\":[{\"marker\":{\"colorbar\":{\"outlinewidth\":1,\"tickcolor\":\"rgb(36,36,36)\",\"ticks\":\"outside\"}},\"type\":\"scattergeo\"}],\"scattergl\":[{\"marker\":{\"colorbar\":{\"outlinewidth\":1,\"tickcolor\":\"rgb(36,36,36)\",\"ticks\":\"outside\"}},\"type\":\"scattergl\"}],\"scattermapbox\":[{\"marker\":{\"colorbar\":{\"outlinewidth\":1,\"tickcolor\":\"rgb(36,36,36)\",\"ticks\":\"outside\"}},\"type\":\"scattermapbox\"}],\"scatterpolargl\":[{\"marker\":{\"colorbar\":{\"outlinewidth\":1,\"tickcolor\":\"rgb(36,36,36)\",\"ticks\":\"outside\"}},\"type\":\"scatterpolargl\"}],\"scatterpolar\":[{\"marker\":{\"colorbar\":{\"outlinewidth\":1,\"tickcolor\":\"rgb(36,36,36)\",\"ticks\":\"outside\"}},\"type\":\"scatterpolar\"}],\"scatter\":[{\"fillpattern\":{\"fillmode\":\"overlay\",\"size\":10,\"solidity\":0.2},\"type\":\"scatter\"}],\"scatterternary\":[{\"marker\":{\"colorbar\":{\"outlinewidth\":1,\"tickcolor\":\"rgb(36,36,36)\",\"ticks\":\"outside\"}},\"type\":\"scatterternary\"}],\"surface\":[{\"colorbar\":{\"outlinewidth\":1,\"tickcolor\":\"rgb(36,36,36)\",\"ticks\":\"outside\"},\"colorscale\":[[0.0,\"#440154\"],[0.1111111111111111,\"#482878\"],[0.2222222222222222,\"#3e4989\"],[0.3333333333333333,\"#31688e\"],[0.4444444444444444,\"#26828e\"],[0.5555555555555556,\"#1f9e89\"],[0.6666666666666666,\"#35b779\"],[0.7777777777777778,\"#6ece58\"],[0.8888888888888888,\"#b5de2b\"],[1.0,\"#fde725\"]],\"type\":\"surface\"}],\"table\":[{\"cells\":{\"fill\":{\"color\":\"rgb(237,237,237)\"},\"line\":{\"color\":\"white\"}},\"header\":{\"fill\":{\"color\":\"rgb(217,217,217)\"},\"line\":{\"color\":\"white\"}},\"type\":\"table\"}]},\"layout\":{\"annotationdefaults\":{\"arrowhead\":0,\"arrowwidth\":1},\"autotypenumbers\":\"strict\",\"coloraxis\":{\"colorbar\":{\"outlinewidth\":1,\"tickcolor\":\"rgb(36,36,36)\",\"ticks\":\"outside\"}},\"colorscale\":{\"diverging\":[[0.0,\"rgb(103,0,31)\"],[0.1,\"rgb(178,24,43)\"],[0.2,\"rgb(214,96,77)\"],[0.3,\"rgb(244,165,130)\"],[0.4,\"rgb(253,219,199)\"],[0.5,\"rgb(247,247,247)\"],[0.6,\"rgb(209,229,240)\"],[0.7,\"rgb(146,197,222)\"],[0.8,\"rgb(67,147,195)\"],[0.9,\"rgb(33,102,172)\"],[1.0,\"rgb(5,48,97)\"]],\"sequential\":[[0.0,\"#440154\"],[0.1111111111111111,\"#482878\"],[0.2222222222222222,\"#3e4989\"],[0.3333333333333333,\"#31688e\"],[0.4444444444444444,\"#26828e\"],[0.5555555555555556,\"#1f9e89\"],[0.6666666666666666,\"#35b779\"],[0.7777777777777778,\"#6ece58\"],[0.8888888888888888,\"#b5de2b\"],[1.0,\"#fde725\"]],\"sequentialminus\":[[0.0,\"#440154\"],[0.1111111111111111,\"#482878\"],[0.2222222222222222,\"#3e4989\"],[0.3333333333333333,\"#31688e\"],[0.4444444444444444,\"#26828e\"],[0.5555555555555556,\"#1f9e89\"],[0.6666666666666666,\"#35b779\"],[0.7777777777777778,\"#6ece58\"],[0.8888888888888888,\"#b5de2b\"],[1.0,\"#fde725\"]]},\"colorway\":[\"#1F77B4\",\"#FF7F0E\",\"#2CA02C\",\"#D62728\",\"#9467BD\",\"#8C564B\",\"#E377C2\",\"#7F7F7F\",\"#BCBD22\",\"#17BECF\"],\"font\":{\"color\":\"rgb(36,36,36)\"},\"geo\":{\"bgcolor\":\"white\",\"lakecolor\":\"white\",\"landcolor\":\"white\",\"showlakes\":true,\"showland\":true,\"subunitcolor\":\"white\"},\"hoverlabel\":{\"align\":\"left\"},\"hovermode\":\"closest\",\"mapbox\":{\"style\":\"light\"},\"paper_bgcolor\":\"white\",\"plot_bgcolor\":\"white\",\"polar\":{\"angularaxis\":{\"gridcolor\":\"rgb(232,232,232)\",\"linecolor\":\"rgb(36,36,36)\",\"showgrid\":false,\"showline\":true,\"ticks\":\"outside\"},\"bgcolor\":\"white\",\"radialaxis\":{\"gridcolor\":\"rgb(232,232,232)\",\"linecolor\":\"rgb(36,36,36)\",\"showgrid\":false,\"showline\":true,\"ticks\":\"outside\"}},\"scene\":{\"xaxis\":{\"backgroundcolor\":\"white\",\"gridcolor\":\"rgb(232,232,232)\",\"gridwidth\":2,\"linecolor\":\"rgb(36,36,36)\",\"showbackground\":true,\"showgrid\":false,\"showline\":true,\"ticks\":\"outside\",\"zeroline\":false,\"zerolinecolor\":\"rgb(36,36,36)\"},\"yaxis\":{\"backgroundcolor\":\"white\",\"gridcolor\":\"rgb(232,232,232)\",\"gridwidth\":2,\"linecolor\":\"rgb(36,36,36)\",\"showbackground\":true,\"showgrid\":false,\"showline\":true,\"ticks\":\"outside\",\"zeroline\":false,\"zerolinecolor\":\"rgb(36,36,36)\"},\"zaxis\":{\"backgroundcolor\":\"white\",\"gridcolor\":\"rgb(232,232,232)\",\"gridwidth\":2,\"linecolor\":\"rgb(36,36,36)\",\"showbackground\":true,\"showgrid\":false,\"showline\":true,\"ticks\":\"outside\",\"zeroline\":false,\"zerolinecolor\":\"rgb(36,36,36)\"}},\"shapedefaults\":{\"fillcolor\":\"black\",\"line\":{\"width\":0},\"opacity\":0.3},\"ternary\":{\"aaxis\":{\"gridcolor\":\"rgb(232,232,232)\",\"linecolor\":\"rgb(36,36,36)\",\"showgrid\":false,\"showline\":true,\"ticks\":\"outside\"},\"baxis\":{\"gridcolor\":\"rgb(232,232,232)\",\"linecolor\":\"rgb(36,36,36)\",\"showgrid\":false,\"showline\":true,\"ticks\":\"outside\"},\"bgcolor\":\"white\",\"caxis\":{\"gridcolor\":\"rgb(232,232,232)\",\"linecolor\":\"rgb(36,36,36)\",\"showgrid\":false,\"showline\":true,\"ticks\":\"outside\"}},\"title\":{\"x\":0.05},\"xaxis\":{\"automargin\":true,\"gridcolor\":\"rgb(232,232,232)\",\"linecolor\":\"rgb(36,36,36)\",\"showgrid\":false,\"showline\":true,\"ticks\":\"outside\",\"title\":{\"standoff\":15},\"zeroline\":false,\"zerolinecolor\":\"rgb(36,36,36)\"},\"yaxis\":{\"automargin\":true,\"gridcolor\":\"rgb(232,232,232)\",\"linecolor\":\"rgb(36,36,36)\",\"showgrid\":false,\"showline\":true,\"ticks\":\"outside\",\"title\":{\"standoff\":15},\"zeroline\":false,\"zerolinecolor\":\"rgb(36,36,36)\"}}},\"xaxis\":{\"showgrid\":false,\"zeroline\":false,\"title\":{\"text\":\"Result\"}},\"font\":{\"family\":\"San Serif\"},\"title\":{\"text\":\"<b> Screening test result distribution (QA1-10) <b>\",\"font\":{\"size\":20}},\"width\":600,\"height\":400,\"showlegend\":true,\"yaxis\":{\"showgrid\":false,\"showline\":false,\"showticklabels\":false}},                        {\"responsive\": true}                    ).then(function(){\n",
       "                            \n",
       "var gd = document.getElementById('47b01a58-1eb9-4c28-a053-ca0542fe7c00');\n",
       "var x = new MutationObserver(function (mutations, observer) {{\n",
       "        var display = window.getComputedStyle(gd).display;\n",
       "        if (!display || display === 'none') {{\n",
       "            console.log([gd, 'removed!']);\n",
       "            Plotly.purge(gd);\n",
       "            observer.disconnect();\n",
       "        }}\n",
       "}});\n",
       "\n",
       "// Listen for the removal of the full notebook cells\n",
       "var notebookContainer = gd.closest('#notebook-container');\n",
       "if (notebookContainer) {{\n",
       "    x.observe(notebookContainer, {childList: true});\n",
       "}}\n",
       "\n",
       "// Listen for the clearing of the current output cell\n",
       "var outputEl = gd.closest('.output');\n",
       "if (outputEl) {{\n",
       "    x.observe(outputEl, {childList: true});\n",
       "}}\n",
       "\n",
       "                        })                };                });            </script>        </div>"
      ]
     },
     "metadata": {},
     "output_type": "display_data"
    }
   ],
   "execution_count": 50
  },
  {
   "metadata": {},
   "cell_type": "markdown",
   "source": [
    "### Korelasyon ısı haritası (sayısal özellikler)\n",
    "- Sadece `result` adlı sayısal özellik, hedef olan `Class/ASD` ile orta düzeyde korelasyon göstermektedir."
   ],
   "id": "561f8c4d54abb427"
  },
  {
   "metadata": {
    "ExecuteTime": {
     "end_time": "2024-05-30T18:51:43.121087Z",
     "start_time": "2024-05-30T18:51:43.099836Z"
    }
   },
   "cell_type": "code",
   "source": [
    "import numpy as np\n",
    "import pandas as pd\n",
    "import plotly.graph_objs as go\n",
    "\n",
    "x = ['age', 'result', 'Class/ASD']\n",
    "df = train[x]\n",
    "\n",
    "corr = df.corr()\n",
    "mask = np.triu(np.ones_like(corr, dtype=bool))\n",
    "corr = corr.mask(mask)\n",
    "\n",
    "fig = go.Figure(data=go.Heatmap(z=corr,\n",
    "                                x=corr.index.values,\n",
    "                                y=corr.columns.values,\n",
    "                                colorscale='Reds',\n",
    "                                )\n",
    "                )\n",
    "fig.update_layout(title_text='<b>Correlation Heatmap (Numerical features)<b>',\n",
    "                  font_family=\"San Serif\",\n",
    "                  title_x=0.5,\n",
    "                  titlefont={'size': 20},\n",
    "                  width=450, height=400,\n",
    "                  xaxis_showgrid=False,\n",
    "                  xaxis={'side': 'bottom'},\n",
    "                  yaxis_showgrid=False,\n",
    "                  yaxis_autorange='reversed',\n",
    "                  autosize=False,\n",
    "                  margin=dict(l=150,r=50,b=150,t=70,pad=0),\n",
    "                  )\n",
    "fig.show()\n"
   ],
   "id": "db29b53166340bcc",
   "outputs": [
    {
     "data": {
      "application/vnd.plotly.v1+json": {
       "data": [
        {
         "colorscale": [
          [
           0.0,
           "rgb(255,245,240)"
          ],
          [
           0.125,
           "rgb(254,224,210)"
          ],
          [
           0.25,
           "rgb(252,187,161)"
          ],
          [
           0.375,
           "rgb(252,146,114)"
          ],
          [
           0.5,
           "rgb(251,106,74)"
          ],
          [
           0.625,
           "rgb(239,59,44)"
          ],
          [
           0.75,
           "rgb(203,24,29)"
          ],
          [
           0.875,
           "rgb(165,15,21)"
          ],
          [
           1.0,
           "rgb(103,0,13)"
          ]
         ],
         "x": [
          "age",
          "result",
          "Class/ASD"
         ],
         "y": [
          "age",
          "result",
          "Class/ASD"
         ],
         "z": [
          [
           null,
           null,
           null
          ],
          [
           0.15215570308918192,
           null,
           null
          ],
          [
           0.1463755522914292,
           0.4961650315636313,
           null
          ]
         ],
         "type": "heatmap"
        }
       ],
       "layout": {
        "template": {
         "data": {
          "scatter": [
           {
            "type": "scatter"
           }
          ]
         }
        },
        "title": {
         "font": {
          "size": 20
         },
         "text": "<b>Correlation Heatmap (Numerical features)<b>",
         "x": 0.5
        },
        "font": {
         "family": "San Serif"
        },
        "xaxis": {
         "showgrid": false,
         "side": "bottom"
        },
        "yaxis": {
         "showgrid": false,
         "autorange": "reversed"
        },
        "margin": {
         "l": 150,
         "r": 50,
         "b": 150,
         "t": 70,
         "pad": 0
        },
        "width": 450,
        "height": 400,
        "autosize": false
       },
       "config": {
        "plotlyServerURL": "https://plot.ly"
       }
      },
      "text/html": [
       "<div>                            <div id=\"6e81d0de-bf54-467b-a654-fc9f1f6dbde1\" class=\"plotly-graph-div\" style=\"height:400px; width:450px;\"></div>            <script type=\"text/javascript\">                require([\"plotly\"], function(Plotly) {                    window.PLOTLYENV=window.PLOTLYENV || {};                                    if (document.getElementById(\"6e81d0de-bf54-467b-a654-fc9f1f6dbde1\")) {                    Plotly.newPlot(                        \"6e81d0de-bf54-467b-a654-fc9f1f6dbde1\",                        [{\"colorscale\":[[0.0,\"rgb(255,245,240)\"],[0.125,\"rgb(254,224,210)\"],[0.25,\"rgb(252,187,161)\"],[0.375,\"rgb(252,146,114)\"],[0.5,\"rgb(251,106,74)\"],[0.625,\"rgb(239,59,44)\"],[0.75,\"rgb(203,24,29)\"],[0.875,\"rgb(165,15,21)\"],[1.0,\"rgb(103,0,13)\"]],\"x\":[\"age\",\"result\",\"Class/ASD\"],\"y\":[\"age\",\"result\",\"Class/ASD\"],\"z\":[[null,null,null],[0.15215570308918192,null,null],[0.1463755522914292,0.4961650315636313,null]],\"type\":\"heatmap\"}],                        {\"template\":{\"data\":{\"scatter\":[{\"type\":\"scatter\"}]}},\"title\":{\"font\":{\"size\":20},\"text\":\"<b>Correlation Heatmap (Numerical features)<b>\",\"x\":0.5},\"font\":{\"family\":\"San Serif\"},\"xaxis\":{\"showgrid\":false,\"side\":\"bottom\"},\"yaxis\":{\"showgrid\":false,\"autorange\":\"reversed\"},\"margin\":{\"l\":150,\"r\":50,\"b\":150,\"t\":70,\"pad\":0},\"width\":450,\"height\":400,\"autosize\":false},                        {\"responsive\": true}                    ).then(function(){\n",
       "                            \n",
       "var gd = document.getElementById('6e81d0de-bf54-467b-a654-fc9f1f6dbde1');\n",
       "var x = new MutationObserver(function (mutations, observer) {{\n",
       "        var display = window.getComputedStyle(gd).display;\n",
       "        if (!display || display === 'none') {{\n",
       "            console.log([gd, 'removed!']);\n",
       "            Plotly.purge(gd);\n",
       "            observer.disconnect();\n",
       "        }}\n",
       "}});\n",
       "\n",
       "// Listen for the removal of the full notebook cells\n",
       "var notebookContainer = gd.closest('#notebook-container');\n",
       "if (notebookContainer) {{\n",
       "    x.observe(notebookContainer, {childList: true});\n",
       "}}\n",
       "\n",
       "// Listen for the clearing of the current output cell\n",
       "var outputEl = gd.closest('.output');\n",
       "if (outputEl) {{\n",
       "    x.observe(outputEl, {childList: true});\n",
       "}}\n",
       "\n",
       "                        })                };                });            </script>        </div>"
      ]
     },
     "metadata": {},
     "output_type": "display_data"
    }
   ],
   "execution_count": 51
  },
  {
   "metadata": {},
   "cell_type": "markdown",
   "source": [
    "### Kısa Sonuç\n",
    "- Hedef dengesizdir.\n",
    "- Bir özellik (ikamet edilen ülke) eğitim ve test veri setlerinde farklı benzersiz değerlere sahiptir.\n",
    "- Doğumda sarılık geçirmenin otizm üzerinde büyük bir etkisi olduğu görünmemektedir. Ancak, aile geçmişinin otizm teşhisi ile ilişkili olduğu görünmektedir."
   ],
   "id": "593a37e6b9105fd7"
  },
  {
   "metadata": {},
   "cell_type": "markdown",
   "source": [
    "### Modelleme\n",
    "- Lojistik Regresyon, Rastgele Orman vb."
   ],
   "id": "8d76534638ba6fd"
  },
  {
   "metadata": {
    "ExecuteTime": {
     "end_time": "2024-05-30T18:51:43.144108Z",
     "start_time": "2024-05-30T18:51:43.138150Z"
    }
   },
   "cell_type": "code",
   "source": [
    "from sklearn.linear_model import LogisticRegression\n",
    "from sklearn.metrics import roc_curve, auc\n",
    "from sklearn.model_selection import cross_validate, StratifiedKFold, RepeatedStratifiedKFold\n",
    "from sklearn.preprocessing import LabelEncoder"
   ],
   "id": "62772c2fa5c00f6d",
   "outputs": [],
   "execution_count": 52
  },
  {
   "metadata": {
    "ExecuteTime": {
     "end_time": "2024-05-30T18:51:43.258604Z",
     "start_time": "2024-05-30T18:51:43.240652Z"
    }
   },
   "cell_type": "code",
   "source": [
    "label_encoder = LabelEncoder()\n",
    "train_le = train.copy()\n",
    "test_le = test.copy()\n",
    "\n",
    "for col in cat_cols:\n",
    "        train_le[col] = label_encoder.fit_transform(train[col])\n",
    "        test_le[col] = label_encoder.fit_transform(test[col]) \n",
    "        \n",
    "train = train_le\n",
    "test = test_le"
   ],
   "id": "bffabb9958cca0a5",
   "outputs": [],
   "execution_count": 53
  },
  {
   "metadata": {},
   "cell_type": "markdown",
   "source": [
    "# Veri Ayrıştırma\n",
    "\n",
    "* train veri seti özellikler (FEATURES) ve hedef (TARGET) sütunlarına ayrıştırılıyor.\n",
    "* X özelliklerin (bağımsız değişkenler) alt kümesini, y ise hedef (bağımlı değişken) sütununu içerir.\n",
    "* seed rastgelelik için kullanılan bir başlangıç değeri (random state).\n",
    "* fold çapraz doğrulama için kullanılan katlama (fold) sayısını belirler.\n"
   ],
   "id": "4d541fb0b3ec08e8"
  },
  {
   "metadata": {
    "ExecuteTime": {
     "end_time": "2024-05-30T18:51:43.343869Z",
     "start_time": "2024-05-30T18:51:43.335908Z"
    }
   },
   "cell_type": "code",
   "source": [
    "FEATURES = train.columns[0:-1]\n",
    "TARGET = train.columns[-1]\n",
    "\n",
    "X = train.loc[:, FEATURES]\n",
    "y = train.loc[:, TARGET]\n",
    "\n",
    "seed = 0\n",
    "fold = 5"
   ],
   "id": "30ba2ce458d7a311",
   "outputs": [],
   "execution_count": 54
  },
  {
   "metadata": {
    "ExecuteTime": {
     "end_time": "2024-05-30T18:51:43.475437Z",
     "start_time": "2024-05-30T18:51:43.467890Z"
    }
   },
   "cell_type": "code",
   "source": [
    "def score(X, y, model, cv):\n",
    "    scoring = [\"roc_auc\"]\n",
    "    scores = cross_validate(\n",
    "        model, X, y, scoring=scoring, cv=cv, return_train_score=True,\n",
    "    )\n",
    "    scores = pd.DataFrame(scores).T\n",
    "    return scores.assign(\n",
    "        mean = lambda x: x.mean(axis=1),\n",
    "        std = lambda x: x.std(axis=1),\n",
    "    )\n",
    "\n",
    "skf = StratifiedKFold(n_splits=fold, shuffle=True, random_state=seed)"
   ],
   "id": "605008f3959d2e26",
   "outputs": [],
   "execution_count": 55
  },
  {
   "metadata": {},
   "cell_type": "markdown",
   "source": "### Logistic regression model",
   "id": "b3656f52ef4e8d3c"
  },
  {
   "metadata": {
    "ExecuteTime": {
     "end_time": "2024-05-30T18:51:48.319806Z",
     "start_time": "2024-05-30T18:51:43.520748Z"
    }
   },
   "cell_type": "code",
   "source": [
    "model_lr = LogisticRegression(solver='saga',\n",
    "                              tol=1e-5, max_iter=10000,\n",
    "                              random_state=0,\n",
    "                              C=0.22685190926977272,\n",
    "                              penalty='l2',\n",
    "                              )\n",
    "\n",
    "scores = score(X, y, model_lr, cv=skf)\n",
    "display(scores)"
   ],
   "id": "482f8916dec49b13",
   "outputs": [
    {
     "data": {
      "text/plain": [
       "                      0         1         2         3         4      mean  \\\n",
       "fit_time       1.203340  0.949897  0.812348  0.847735  0.940643  0.950793   \n",
       "score_time     0.003000  0.002956  0.003006  0.002609  0.003014  0.002917   \n",
       "test_roc_auc   0.919798  0.863107  0.900022  0.954296  0.939134  0.915271   \n",
       "train_roc_auc  0.924165  0.935825  0.928120  0.915403  0.916392  0.923981   \n",
       "\n",
       "                    std  \n",
       "fit_time       0.136873  \n",
       "score_time     0.000156  \n",
       "test_roc_auc   0.031832  \n",
       "train_roc_auc  0.007597  "
      ],
      "text/html": [
       "<div>\n",
       "<style scoped>\n",
       "    .dataframe tbody tr th:only-of-type {\n",
       "        vertical-align: middle;\n",
       "    }\n",
       "\n",
       "    .dataframe tbody tr th {\n",
       "        vertical-align: top;\n",
       "    }\n",
       "\n",
       "    .dataframe thead th {\n",
       "        text-align: right;\n",
       "    }\n",
       "</style>\n",
       "<table border=\"1\" class=\"dataframe\">\n",
       "  <thead>\n",
       "    <tr style=\"text-align: right;\">\n",
       "      <th></th>\n",
       "      <th>0</th>\n",
       "      <th>1</th>\n",
       "      <th>2</th>\n",
       "      <th>3</th>\n",
       "      <th>4</th>\n",
       "      <th>mean</th>\n",
       "      <th>std</th>\n",
       "    </tr>\n",
       "  </thead>\n",
       "  <tbody>\n",
       "    <tr>\n",
       "      <th>fit_time</th>\n",
       "      <td>1.203340</td>\n",
       "      <td>0.949897</td>\n",
       "      <td>0.812348</td>\n",
       "      <td>0.847735</td>\n",
       "      <td>0.940643</td>\n",
       "      <td>0.950793</td>\n",
       "      <td>0.136873</td>\n",
       "    </tr>\n",
       "    <tr>\n",
       "      <th>score_time</th>\n",
       "      <td>0.003000</td>\n",
       "      <td>0.002956</td>\n",
       "      <td>0.003006</td>\n",
       "      <td>0.002609</td>\n",
       "      <td>0.003014</td>\n",
       "      <td>0.002917</td>\n",
       "      <td>0.000156</td>\n",
       "    </tr>\n",
       "    <tr>\n",
       "      <th>test_roc_auc</th>\n",
       "      <td>0.919798</td>\n",
       "      <td>0.863107</td>\n",
       "      <td>0.900022</td>\n",
       "      <td>0.954296</td>\n",
       "      <td>0.939134</td>\n",
       "      <td>0.915271</td>\n",
       "      <td>0.031832</td>\n",
       "    </tr>\n",
       "    <tr>\n",
       "      <th>train_roc_auc</th>\n",
       "      <td>0.924165</td>\n",
       "      <td>0.935825</td>\n",
       "      <td>0.928120</td>\n",
       "      <td>0.915403</td>\n",
       "      <td>0.916392</td>\n",
       "      <td>0.923981</td>\n",
       "      <td>0.007597</td>\n",
       "    </tr>\n",
       "  </tbody>\n",
       "</table>\n",
       "</div>"
      ]
     },
     "metadata": {},
     "output_type": "display_data"
    }
   ],
   "execution_count": 56
  },
  {
   "metadata": {},
   "cell_type": "markdown",
   "source": [
    "* fit_time: Her katlamada modelin eğitim süresini gösterir. Modelin eğitim süresi ne kadar sürmüştür.\n",
    "* score_time: Her katlamada modelin skorlama (tahmin) süresini gösterir. Modelin test verisi üzerindeki performansını hesaplamak için geçen süre.\n",
    "* test_roc_auc: Her katlamada test veri seti üzerindeki ROC AUC skorunu gösterir. Modelin test verisi üzerinde ne kadar iyi performans gösterdiğini ölçer.\n",
    "* train_roc_auc: Her katlamada eğitim veri seti üzerindeki ROC AUC skorunu gösterir. Modelin eğitim verisi üzerinde ne kadar iyi performans gösterdiğini ölçer."
   ],
   "id": "a056eea40a3d4529"
  },
  {
   "metadata": {},
   "cell_type": "markdown",
   "source": [
    "### ROC_AUC curve\n",
    "\n",
    "Alıcı işletim karakteristiği (Receiver Operating Characteristic, ROC) eğrisinin altında kalan alanı (Area Under the Curve, AUC) ifade eder. Bu, modelin performansını değerlendirmek için kullanılan bir metriktir ve 0 ile 1 arasında bir değer alır.\n",
    "\n",
    "AUC, modelin pozitif sınıfları negatif sınıflardan ne kadar iyi ayırt edebildiğini gösterir. AUC değeri ne kadar yüksekse, model o kadar iyi performans gösterir. Örneğin:\n",
    "\n",
    "AUC = 0.5: Modelin sınıflandırma performansı, rastgele tahminlerle aynıdır.\n",
    "0.5 < AUC < 1: Modelin performansı rastgele tahminlerden daha iyidir.\n",
    "AUC = 1: Model, tüm pozitif ve negatif örnekleri mükemmel bir şekilde ayırt edebilir.\n",
    "Bu nedenle roc_auc, ROC eğrisinin altında kalan alanın hesaplanmış değeri olarak, modelin sınıflandırma başarısını özetler. Kodda roc_auc değeri şu şekilde hesaplanmaktadır:\n",
    "\n"
   ],
   "id": "141d75b0a5f98b1c"
  },
  {
   "metadata": {
    "ExecuteTime": {
     "end_time": "2024-05-30T18:56:07.198382Z",
     "start_time": "2024-05-30T18:56:07.008100Z"
    }
   },
   "cell_type": "code",
   "source": [
    "model_lr = LogisticRegression()\n",
    "model_lr.fit(X, y)\n",
    "\n",
    "y_score = model_lr.predict_proba(X)[:, 1]\n",
    "\n",
    "fpr, tpr, _ = roc_curve(y, y_score)\n",
    "roc_auc = auc(fpr, tpr)\n",
    "\n",
    "plt.figure()\n",
    "plt.plot(fpr, tpr, color='darkorange', lw=2, label='ROC curve (area = %0.2f)' % roc_auc)\n",
    "plt.plot([0, 1], [0, 1], color='navy', lw=2, linestyle='--')\n",
    "plt.xlim([0.0, 1.0])\n",
    "plt.ylim([0.0, 1.05])\n",
    "plt.xlabel('False Positive Rate')\n",
    "plt.ylabel('True Positive Rate')\n",
    "plt.title('Receiver Operating Characteristic (ROC) Curve')\n",
    "plt.legend(loc=\"lower right\")\n",
    "plt.show()\n"
   ],
   "id": "d00a242865236653",
   "outputs": [
    {
     "data": {
      "text/plain": [
       "<Figure size 640x480 with 1 Axes>"
      ],
      "image/png": "[encoded data removed]"
     },
     "metadata": {},
     "output_type": "display_data"
    }
   ],
   "execution_count": 67
  },
  {
   "metadata": {},
   "cell_type": "markdown",
   "source": "### Fit Data To Model - Random Forest Classifier\n",
   "id": "a0a7417aac57156d"
  },
  {
   "metadata": {
    "ExecuteTime": {
     "end_time": "2024-05-30T18:54:54.739437Z",
     "start_time": "2024-05-30T18:54:54.723143Z"
    }
   },
   "cell_type": "code",
   "source": [
    "from sklearn.linear_model import RidgeClassifier\n",
    "std_reg = RidgeClassifier(alpha=8)\n",
    "std_reg.fit(X_train, Y_train)\n",
    "r2_train = std_reg.score(X_test, Y_test)\n",
    "\n",
    "print(\"Score:\")\n",
    "print(r2_train)"
   ],
   "id": "fbae72e195cd5daa",
   "outputs": [
    {
     "name": "stdout",
     "output_type": "stream",
     "text": [
      "Score:\n",
      "0.8875\n"
     ]
    }
   ],
   "execution_count": 66
  },
  {
   "metadata": {
    "ExecuteTime": {
     "end_time": "2024-05-30T19:06:28.963475Z",
     "start_time": "2024-05-30T19:06:28.948783Z"
    }
   },
   "cell_type": "code",
   "source": [
    "# X veri setindeki girdi özelliklerine dayanarak hedef değişkeni tahmin ediliyor.\n",
    "Y_predict = std_reg.predict(X)\n",
    "    \n",
    "Y_predict"
   ],
   "id": "a01851423c0dea31",
   "outputs": [
    {
     "data": {
      "text/plain": [
       "array([1, 0, 1, 0, 0, 0, 1, 0, 1, 0, 0, 0, 1, 0, 0, 0, 0, 0, 0, 0, 0, 1,\n",
       "       0, 0, 0, 0, 0, 0, 1, 0, 1, 0, 0, 0, 0, 0, 0, 0, 1, 0, 0, 1, 0, 0,\n",
       "       0, 0, 0, 1, 0, 0, 0, 1, 1, 0, 0, 0, 0, 0, 0, 0, 0, 1, 0, 0, 1, 1,\n",
       "       1, 0, 0, 0, 0, 0, 0, 0, 0, 0, 1, 0, 0, 0, 1, 1, 0, 0, 0, 0, 0, 0,\n",
       "       1, 0, 0, 0, 0, 0, 0, 0, 0, 1, 0, 0, 1, 0, 0, 0, 0, 0, 0, 0, 0, 0,\n",
       "       0, 0, 0, 0, 0, 0, 0, 0, 1, 0, 0, 1, 0, 1, 1, 0, 1, 0, 1, 0, 1, 0,\n",
       "       0, 1, 1, 0, 1, 0, 1, 0, 1, 1, 0, 0, 0, 0, 0, 0, 0, 0, 0, 0, 0, 1,\n",
       "       0, 1, 1, 0, 1, 0, 0, 1, 0, 1, 0, 0, 0, 0, 1, 0, 0, 1, 1, 0, 0, 0,\n",
       "       0, 0, 0, 0, 1, 1, 0, 0, 1, 0, 0, 0, 0, 0, 0, 0, 0, 0, 0, 1, 0, 0,\n",
       "       0, 0, 1, 0, 0, 0, 0, 0, 0, 0, 0, 1, 0, 0, 0, 0, 0, 0, 0, 0, 0, 0,\n",
       "       0, 1, 0, 0, 0, 0, 0, 0, 0, 0, 0, 0, 1, 1, 0, 1, 0, 0, 1, 0, 0, 0,\n",
       "       0, 0, 0, 0, 0, 0, 0, 0, 0, 0, 0, 0, 0, 0, 0, 0, 0, 0, 0, 0, 0, 0,\n",
       "       0, 0, 0, 0, 0, 1, 0, 0, 0, 0, 1, 0, 0, 0, 0, 0, 0, 0, 0, 1, 0, 0,\n",
       "       0, 0, 0, 0, 0, 0, 0, 0, 1, 0, 0, 0, 0, 0, 0, 1, 0, 0, 0, 0, 0, 0,\n",
       "       0, 0, 0, 0, 0, 0, 0, 0, 0, 0, 0, 1, 0, 0, 0, 0, 1, 0, 0, 0, 0, 0,\n",
       "       0, 0, 0, 0, 0, 0, 0, 0, 0, 0, 1, 0, 0, 0, 1, 0, 0, 0, 0, 0, 1, 0,\n",
       "       0, 0, 0, 1, 0, 0, 0, 0, 1, 1, 0, 0, 0, 0, 1, 1, 1, 0, 0, 0, 0, 1,\n",
       "       0, 0, 0, 0, 0, 0, 0, 0, 0, 1, 1, 0, 1, 0, 1, 0, 0, 0, 0, 0, 0, 0,\n",
       "       0, 0, 0, 1, 1, 0, 0, 0, 1, 0, 0, 0, 1, 1, 1, 0, 0, 0, 0, 0, 0, 1,\n",
       "       0, 0, 0, 1, 0, 0, 0, 0, 0, 0, 0, 0, 0, 1, 0, 1, 1, 1, 0, 0, 1, 0,\n",
       "       1, 0, 0, 0, 0, 1, 0, 0, 0, 0, 0, 0, 0, 1, 0, 1, 0, 0, 0, 0, 0, 0,\n",
       "       0, 1, 0, 0, 0, 0, 0, 1, 1, 0, 1, 0, 0, 0, 0, 0, 0, 0, 0, 0, 0, 0,\n",
       "       0, 0, 0, 0, 1, 0, 1, 1, 0, 0, 0, 1, 0, 1, 0, 0, 0, 0, 0, 0, 0, 0,\n",
       "       0, 1, 0, 1, 1, 0, 1, 1, 0, 0, 1, 1, 1, 1, 0, 1, 0, 0, 0, 0, 0, 1,\n",
       "       1, 0, 0, 0, 0, 1, 1, 1, 0, 1, 0, 0, 0, 0, 0, 0, 0, 0, 0, 0, 0, 0,\n",
       "       1, 1, 0, 0, 0, 0, 0, 0, 0, 0, 0, 0, 0, 0, 0, 1, 0, 0, 1, 0, 0, 0,\n",
       "       1, 0, 1, 0, 0, 0, 0, 0, 0, 1, 0, 1, 0, 0, 0, 0, 1, 0, 0, 1, 1, 1,\n",
       "       1, 0, 0, 0, 0, 0, 0, 0, 0, 0, 0, 1, 0, 0, 0, 0, 0, 0, 0, 1, 0, 0,\n",
       "       0, 0, 0, 1, 0, 0, 0, 0, 0, 0, 0, 0, 1, 1, 0, 0, 0, 0, 1, 0, 0, 0,\n",
       "       0, 0, 0, 1, 0, 0, 0, 0, 0, 0, 0, 0, 0, 1, 1, 0, 0, 1, 1, 1, 1, 0,\n",
       "       0, 0, 1, 0, 0, 0, 0, 0, 1, 1, 0, 0, 0, 0, 0, 0, 0, 1, 0, 0, 0, 0,\n",
       "       1, 1, 1, 0, 0, 1, 0, 1, 0, 0, 0, 0, 0, 0, 0, 0, 1, 0, 0, 0, 1, 1,\n",
       "       0, 1, 0, 0, 0, 0, 0, 0, 0, 1, 0, 0, 1, 0, 1, 0, 0, 0, 1, 0, 1, 0,\n",
       "       0, 0, 0, 0, 0, 0, 1, 1, 1, 0, 0, 0, 0, 0, 0, 0, 0, 0, 0, 1, 0, 0,\n",
       "       0, 1, 0, 0, 0, 0, 1, 0, 1, 0, 0, 0, 0, 0, 0, 0, 0, 0, 0, 0, 0, 1,\n",
       "       0, 0, 1, 0, 0, 0, 0, 1, 1, 0, 1, 0, 0, 0, 0, 0, 1, 0, 0, 0, 0, 0,\n",
       "       0, 0, 1, 1, 0, 0, 1, 0], dtype=int64)"
      ]
     },
     "execution_count": 68,
     "metadata": {},
     "output_type": "execute_result"
    }
   ],
   "execution_count": 68
  }
 ],
 "metadata": {
  "kernelspec": {
   "display_name": "Python 3",
   "language": "python",
   "name": "python3"
  },
  "language_info": {
   "codemirror_mode": {
    "name": "ipython",
    "version": 2
   },
   "file_extension": ".py",
   "mimetype": "text/x-python",
   "name": "python",
   "nbconvert_exporter": "python",
   "pygments_lexer": "ipython2",
   "version": "2.7.6"
  }
 },
 "nbformat": 4,
 "nbformat_minor": 5
}
